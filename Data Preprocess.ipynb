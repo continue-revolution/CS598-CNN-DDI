{
 "cells": [
  {
   "cell_type": "code",
   "execution_count": 1,
   "id": "725e9ab8",
   "metadata": {},
   "outputs": [],
   "source": [
    "import pandas as pd"
   ]
  },
  {
   "cell_type": "code",
   "execution_count": 2,
   "id": "8ad5a13f",
   "metadata": {},
   "outputs": [],
   "source": [
    "drug_category = pd.read_csv(\"drug_category.csv\")"
   ]
  },
  {
   "cell_type": "code",
   "execution_count": 4,
   "id": "a0997a9c",
   "metadata": {},
   "outputs": [],
   "source": [
    "drug_category['category'] = drug_category['category'].str.replace(';','|')"
   ]
  },
  {
   "cell_type": "code",
   "execution_count": 5,
   "id": "5c2cd76a",
   "metadata": {},
   "outputs": [],
   "source": [
    "df = drug_category[['id','category']]"
   ]
  },
  {
   "cell_type": "code",
   "execution_count": 6,
   "id": "36beb769",
   "metadata": {},
   "outputs": [
    {
     "name": "stdout",
     "output_type": "stream",
     "text": [
      "            id                                           category\n",
      "0      DB00002  Amino Acids, Peptides, and Proteins| Antibodie...\n",
      "1      DB00004  ADP Ribose Transferases| Amino Acids, Peptides...\n",
      "2      DB00005  Agents reducing cytokine levels| Amino Acids, ...\n",
      "3      DB00011  Adjuvants, Immunologic| Amino Acids, Peptides,...\n",
      "4      DB00013  Agents causing angioedema| Amino Acids, Peptid...\n",
      "...        ...                                                ...\n",
      "16578  DB17419  Acids, Carbocyclic| Carboxylic Acids| Heterocy...\n",
      "16579  DB18081                                                NaN\n",
      "16580  DB18300                                                NaN\n",
      "16581  DB18510  Acids| Acids, Noncarboxylic| Heterocyclic Comp...\n",
      "16582  DB18588  Abuse-Deterrent Formulations| Amines| Ammonium...\n",
      "\n",
      "[16583 rows x 2 columns]\n"
     ]
    }
   ],
   "source": [
    "print(df)"
   ]
  },
  {
   "cell_type": "code",
   "execution_count": 7,
   "id": "7353668c",
   "metadata": {},
   "outputs": [],
   "source": [
    "drug = pd.read_csv(\"drug.csv\")"
   ]
  },
  {
   "cell_type": "code",
   "execution_count": 8,
   "id": "60a18f62",
   "metadata": {},
   "outputs": [],
   "source": [
    "combined_df = pd.merge(drug, df, on = \"id\")"
   ]
  },
  {
   "cell_type": "code",
   "execution_count": 9,
   "id": "9121ecb2",
   "metadata": {},
   "outputs": [],
   "source": [
    "combined_df = combined_df.drop(combined_df.columns[0], axis=1)"
   ]
  },
  {
   "cell_type": "code",
   "execution_count": 10,
   "id": "75fa1e72",
   "metadata": {},
   "outputs": [
    {
     "name": "stdout",
     "output_type": "stream",
     "text": [
      "          id                                             target  \\\n",
      "0    DB01296                 P14780|Q00653|P01375|P01579|P33673   \n",
      "1    DB09230                                             Q02641   \n",
      "2    DB05812                                             P05093   \n",
      "3    DB01195                               Q14524|P35499|Q12809   \n",
      "4    DB00201  P30542|P29274|Q07343|P21817|BE0004922|P78527|O...   \n",
      "..       ...                                                ...   \n",
      "567  DB01587          P30536|P14867|P18505|Q8N1C3|O14764|P78334   \n",
      "568  DB00448                                      P20648|P10636   \n",
      "569  DB00559                                      P25101|P24530   \n",
      "570  DB04953                        O43526|O43525|P56696|Q9NR82   \n",
      "571  DB08865                                      Q9UM73|P08581   \n",
      "\n",
      "                                                enzyme  \\\n",
      "0                                        P33261|P05181   \n",
      "1                                               P08684   \n",
      "2     P08684|Q06520|P10635|P10632|P05177|P33261|P11712   \n",
      "3                                        P10635|P11712   \n",
      "4    P20815|P05177|P24462|P08684|P05181|P10632|P117...   \n",
      "..                                                 ...   \n",
      "567                                             P08684   \n",
      "568  P33261|P11712|P08684|P04798|P05177|Q16678|P332...   \n",
      "569                                      P08684|P11712   \n",
      "570          P22309|P35503|P22310|O60656|P11509|P11245   \n",
      "571                               P08684|P20815|P20813   \n",
      "\n",
      "                                               pathway  \\\n",
      "0                  hsa:4318|hsa:4791|hsa:7124|hsa:3458   \n",
      "1                                              hsa:782   \n",
      "2                                             hsa:1586   \n",
      "3                           hsa:6331|hsa:6329|hsa:3757   \n",
      "4    hsa:134|hsa:135|hsa:5142|hsa:6261|hsa:5591|hsa...   \n",
      "..                                                 ...   \n",
      "567  hsa:706|hsa:2554|hsa:2560|hsa:2565|hsa:2563|hs...   \n",
      "568                                   hsa:495|hsa:4137   \n",
      "569                                  hsa:1909|hsa:1910   \n",
      "570               hsa:3785|hsa:3786|hsa:9132|hsa:56479   \n",
      "571                                   hsa:238|hsa:4233   \n",
      "\n",
      "                                                 smile          name  \\\n",
      "0    9|10|14|18|19|20|178|181|283|284|285|286|299|3...   Glucosamine   \n",
      "1    9|10|11|12|13|14|15|16|18|19|20|129|131|132|17...  Azelnidipine   \n",
      "2    9|10|11|12|14|18|143|147|178|179|182|183|184|1...   Abiraterone   \n",
      "3    9|10|11|12|14|15|18|19|23|24|25|178|180|181|18...    Flecainide   \n",
      "4    9|10|11|14|15|16|18|19|143|148|149|178|183|184...      Caffeine   \n",
      "..                                                 ...           ...   \n",
      "567  9|10|11|12|14|15|18|19|37|178|182|183|184|185|...     Ketazolam   \n",
      "568  9|10|11|12|14|15|18|19|23|24|33|143|148|149|17...  Lansoprazole   \n",
      "569  9|10|11|12|14|15|16|18|19|20|33|178|182|183|18...      Bosentan   \n",
      "570  9|10|11|12|14|15|18|19|23|178|182|185|189|283|...     Ezogabine   \n",
      "571  9|10|11|12|14|15|16|18|23|37|38|143|148|149|17...    Crizotinib   \n",
      "\n",
      "                                              category  \n",
      "0    Amino Sugars| Antiinflammatory and Antirheumat...  \n",
      "1    Acids, Acyclic| Agents causing hyperkalemia| A...  \n",
      "2    Androstanes| Androstenes| Antineoplastic Agent...  \n",
      "3    Antiarrhythmic agents| Antiarrhythmics, Class ...  \n",
      "4    Alkaloids| Anorexigenic Agents & Respiratory a...  \n",
      "..                                                 ...  \n",
      "567  Anti-Anxiety Agents| Benzazepines| Benzodiazep...  \n",
      "568  Acid Reducers| Alimentary Tract and Metabolism...  \n",
      "569  Amides| Antihypertensive Agents| Antihypertens...  \n",
      "570  Acids, Acyclic| Amines| Aniline Compounds| Ant...  \n",
      "571  Aminopyridines| Anaplastic lymphoma kinase (AL...  \n",
      "\n",
      "[572 rows x 7 columns]\n"
     ]
    }
   ],
   "source": [
    "print(combined_df)"
   ]
  },
  {
   "cell_type": "code",
   "execution_count": 11,
   "id": "92dfe216",
   "metadata": {},
   "outputs": [],
   "source": [
    "combined_df.to_csv(\"~/Desktop/drug_features.csv\") "
   ]
  },
  {
   "cell_type": "code",
   "execution_count": null,
   "id": "79607e1a",
   "metadata": {},
   "outputs": [],
   "source": []
  }
 ],
 "metadata": {
  "kernelspec": {
   "display_name": "Python 3 (ipykernel)",
   "language": "python",
   "name": "python3"
  },
  "language_info": {
   "codemirror_mode": {
    "name": "ipython",
    "version": 3
   },
   "file_extension": ".py",
   "mimetype": "text/x-python",
   "name": "python",
   "nbconvert_exporter": "python",
   "pygments_lexer": "ipython3",
   "version": "3.7.2"
  }
 },
 "nbformat": 4,
 "nbformat_minor": 5
}
