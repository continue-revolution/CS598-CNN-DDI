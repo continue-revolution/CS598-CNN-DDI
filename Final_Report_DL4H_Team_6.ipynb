{
 "cells": [
  {
   "cell_type": "markdown",
   "metadata": {
    "id": "j01aH0PR4Sg-"
   },
   "source": [
    "# Video Presentation:\n",
    "# Public GitHub Repo: https://github.com/continue-revolution/CS598-CNN-DDI\n",
    "\n",
    "## Because we have a large model, loading the checkpoint and loading the metrics result both takes a long time. The whole notebook takes 8-10 minutes to run.\n",
    "\n",
    "# Team 6\n",
    "* Chengsong Zhang cz81@illinois.edu\n",
    "* Lijuan Geng lijuang2@illinois.edu\n",
    "* Yujia Chen ychen275@illinois.edu"
   ]
  },
  {
   "cell_type": "markdown",
   "metadata": {
    "id": "MQ0sNuMePBXx"
   },
   "source": [
    "# Introduction\n",
    "\n",
    "*   Background of the problem\n",
    "\n",
    "  There are three main types of Drug-drug interactions (DDI): synergistic (working together or cooperative), antagonistic (showing dislike or opposition) and no reaction. Predicting DDIs associated events has become increasingly important for applications in drug development and disease diagnosis.\n",
    "\n",
    "  With advancements in machine leanring technology, methods of DDI's prediction have evolved from traditional methods, including text mining and statistical methods, to machine learning methods.\n",
    "\n",
    "*   Paper explanation\n",
    "\n",
    "  This work aims to study whether two drugs interact and the specific interaction types. The paper proposed a novel learning-based algorithm, named CNN-DDI, which uses convolutional neural networks (CNN) to learn the best combination of drug features and predict DDI-associated events. The CNN-DDI method contains two parts. The first part is a feature selection framework, which extracts feature interactions from drug categories, targets, pathways and enzymes as feature vectors and employ Jaccard similarity as the measurement of drug similarity. The other part is CNN-based DDI predictor, that predicts DDI-associated events based on feature pairs selected from feature selection framework.\n",
    "\n",
    "  The results in the paper indicate that drug category is an effective new feature type to be applied in CNN-DDI. Using multiple features leads to better results than using a single feature. CNN-DDI has better performance than other state-of-art models, such as Logistic Regression, Random Forest, KNN, on the task of predicting DDIs.\n",
    "\n",
    "\n",
    "\n",
    "\n",
    "\n"
   ]
  },
  {
   "cell_type": "markdown",
   "metadata": {
    "id": "uygL9tTPSVHB"
   },
   "source": [
    "# Scope of Reproducibility:\n",
    "\n",
    "We would like to reproduce and verify the following hypotheses from the paper:\n",
    "\n",
    "1. CNN-DDI's prediction performance is improved when using drug category as a new feature.\n",
    "\n",
    "2. Using multiple features leads to better performance of CNN-DDI than using single feature.\n",
    "\n",
    "3. CNN-DDI performs better than other state-of-art models, such as Logistic Regression, Random Forest, KNN.\n",
    "\n",
    "4. CNN-DDI performs better than a related work: DDIMDL.\n"
   ]
  },
  {
   "cell_type": "markdown",
   "metadata": {
    "id": "LM4WUjz64C3B"
   },
   "source": [
    "Below shows the framework of CNN-DDI algorithm:\n"
   ]
  },
  {
   "cell_type": "markdown",
   "metadata": {},
   "source": [
    "![framework](./img/framework.jpg)"
   ]
  },
  {
   "cell_type": "markdown",
   "metadata": {
    "id": "xWAHJ_1CdtaA"
   },
   "source": [
    "# Methodology"
   ]
  },
  {
   "cell_type": "markdown",
   "metadata": {
    "id": "g6M1mAAKWEGJ"
   },
   "source": [
    "##  Environment\n",
    "\n",
    "  * Python version: because we use Colab notebook, the default Python version is 3.10\n",
    "  * Dependencies/packages needed: Because we use Colab notebook, we import the following packages:"
   ]
  },
  {
   "cell_type": "code",
   "execution_count": 1,
   "metadata": {
    "id": "yu61Jp1xrnKk"
   },
   "outputs": [],
   "source": [
    "# import  packages you need\n",
    "import numpy as np\n",
    "import pandas as pd\n",
    "from pandas import DataFrame\n",
    "import torch\n",
    "from torch.utils.data import Dataset, DataLoader\n",
    "import torch.nn as nn\n",
    "import torch.nn.functional as F\n",
    "import torch.optim as optim\n",
    "from tqdm import tqdm\n",
    "from sklearn.model_selection import train_test_split\n",
    "from sklearn.metrics import precision_score, recall_score, f1_score\n",
    "from sklearn.metrics import roc_auc_score, average_precision_score\n",
    "from sklearn.preprocessing import label_binarize"
   ]
  },
  {
   "cell_type": "markdown",
   "metadata": {
    "id": "2NbPHUTMbkD3"
   },
   "source": [
    "##  Data\n",
    "\n",
    "  * Source of the data: The original dataset was developed by Deng et al. [2] based on the Drugbank online database.\n",
    "  * Statistics: The drug_features dataset contains information of 572 drugs and its features like pathway, target, and enzyme; the extraction dataset contains 37,264 DDIs with 65 DDI types.\n",
    "  * Data process: We extract 572 drugs' drug category feature from the Drugbank online database, add it into the drug_fectures dataset, so that we have 4 features to use: pathway, target, enzyme and drug category. Then, we use one-hot encoding to transform drug features into feature vector, and use Jaccard Similarity to convert feature vector into 572 dimensions. We split the data into training and validation sets with test_size=0.2."
   ]
  },
  {
   "cell_type": "code",
   "execution_count": 2,
   "metadata": {
    "colab": {
     "base_uri": "https://localhost:8080/"
    },
    "id": "BZScZNbROw-N",
    "outputId": "1faa7166-dcfb-4a67-97a6-b4df1a13d041"
   },
   "outputs": [
    {
     "name": "stdout",
     "output_type": "stream",
     "text": [
      "(572, 8)\n",
      "(37264, 5)\n"
     ]
    }
   ],
   "source": [
    "def feature_vector(feature_name, df, similarity='jaccard'):\n",
    "    def Jaccard(matrix):\n",
    "        matrix = np.mat(matrix)\n",
    "\n",
    "        numerator = matrix * matrix.T\n",
    "\n",
    "        denominator = (\n",
    "            np.ones(np.shape(matrix)) * matrix.T\n",
    "            + matrix * np.ones(np.shape(matrix.T))\n",
    "            - matrix * matrix.T\n",
    "        )\n",
    "\n",
    "        return numerator / denominator\n",
    "\n",
    "    def Cosine(matrix):\n",
    "        norms = np.linalg.norm(matrix, axis=1)\n",
    "        matrix_normalized = matrix / norms[:, np.newaxis]\n",
    "        return np.dot(matrix_normalized, matrix_normalized.T)\n",
    "\n",
    "\n",
    "    def Gaussian(matrix, gamma=None):\n",
    "        if gamma is None:\n",
    "            norms = np.linalg.norm(matrix, axis=1)\n",
    "            avg_norm = np.mean(norms)\n",
    "            gamma = 1 / avg_norm**2\n",
    "\n",
    "        squared_norms = np.sum(matrix**2, axis=1)\n",
    "        squared_distance = squared_norms[:, np.newaxis] + squared_norms - \\\n",
    "        2 * np.dot(matrix, matrix.T)\n",
    "\n",
    "        return np.exp(-gamma * squared_distance)\n",
    "\n",
    "    all_feature = []\n",
    "    drug_list = np.array(df[feature_name]).tolist()\n",
    "    # Features for each drug, for example, when feature_name is target\n",
    "    # drug_list=[\"P30556|P05412\",\"P28223|P46098|……\"]\n",
    "    for i in drug_list:\n",
    "        for each_feature in i.split(\"|\"):\n",
    "            if each_feature not in all_feature:\n",
    "                all_feature.append(each_feature)  # obtain all the features\n",
    "    #print(\"length of all feature is\", len(all_feature))\n",
    "    feature_matrix = np.zeros((len(drug_list), len(all_feature)), dtype=float)\n",
    "    df_feature = DataFrame(\n",
    "        feature_matrix, columns=all_feature\n",
    "    )  # Consrtuct feature matrices with key of dataframe\n",
    "    for i in range(len(drug_list)):\n",
    "        for each_feature in df[feature_name].iloc[i].split(\"|\"):\n",
    "            df_feature[each_feature].iloc[i] = 1\n",
    "\n",
    "    df_feature = np.array(df_feature)\n",
    "    if similarity == 'jaccard':\n",
    "        sim_matrix = np.array(Jaccard(df_feature))\n",
    "    elif similarity == 'cosine':\n",
    "        sim_matrix = Cosine(df_feature)\n",
    "    elif similarity == 'gaussian':\n",
    "        sim_matrix = Gaussian(df_feature)\n",
    "    else:\n",
    "        raise ValueError(\"Unknown similarity measure\")\n",
    "\n",
    "    #print(feature_name + \" len is:\" + str(len(sim_matrix[0])))\n",
    "    return sim_matrix\n",
    "\n",
    "def prepare(df_drug, feature_list, mechanism, action, drugA, drugB, \\\n",
    "similarity='jaccard'):\n",
    "    d_label = {}\n",
    "    d_feature = {}\n",
    "\n",
    "    # Transfrom the interaction event to number\n",
    "    d_event = []\n",
    "    for i in range(len(mechanism)):\n",
    "        d_event.append(mechanism[i] + \" \" + action[i])\n",
    "\n",
    "    count = {}\n",
    "    for i in d_event:\n",
    "        if i in count:\n",
    "            count[i] += 1\n",
    "        else:\n",
    "            count[i] = 1\n",
    "    event_num = len(count)\n",
    "    list1 = sorted(count.items(), key=lambda x: x[1], reverse=True)\n",
    "    for i in range(len(list1)):\n",
    "        d_label[list1[i][0]] = i\n",
    "\n",
    "    vector = []\n",
    "    for i in feature_list:\n",
    "        #vector = np.hstack((vector, feature_vector(i, df_drug, vector_size)))\n",
    "        vector.append(feature_vector(i, df_drug, similarity))\n",
    "    vector = np.stack(vector, axis=-1)\n",
    "    # Transfrom the drug ID to feature vector\n",
    "    for i in range(len(np.array(df_drug[\"name\"]).tolist())):\n",
    "        d_feature[np.array(df_drug[\"name\"]).tolist()[i]] = vector[i]\n",
    "\n",
    "    # Use the dictionary to obtain feature vector and label\n",
    "    new_feature = []\n",
    "    new_label = []\n",
    "\n",
    "    for i in range(len(d_event)):\n",
    "        temp = np.concatenate(\n",
    "            [d_feature[drugA[i]][None], d_feature[drugB[i]][None]], axis=0)\n",
    "        new_feature.append(temp)\n",
    "        new_label.append(d_label[d_event[i]])\n",
    "\n",
    "    new_feature = np.array(new_feature)  # 323539*....\n",
    "    new_label = np.array(new_label)  # 323539\n",
    "\n",
    "    return new_feature, new_label, event_num\n",
    "\n",
    "df_drug = pd.read_csv(\"drug_features.csv\")\n",
    "extraction = pd.read_csv(\"extraction.csv\")\n",
    "print(df_drug.shape)\n",
    "print(extraction.shape)\n",
    "mechanism = extraction[\"mechanism\"]\n",
    "action = extraction[\"action\"]\n",
    "drugA = extraction[\"drugA\"]\n",
    "drugB = extraction[\"drugB\"]\n",
    "feature_list = [\"pathway\", \"target\", \"enzyme\", \"category\"]\n",
    "new_feature, new_label, event_num = \\\n",
    "prepare(df_drug, feature_list, mechanism, action, drugA, drugB, \\\n",
    "similarity='jaccard')\n",
    "#new_feature = torch.tensor(new_feature, dtype=torch.float32)\n"
   ]
  },
  {
   "cell_type": "markdown",
   "metadata": {
    "id": "G_j8gltmpPPb"
   },
   "source": [
    "Below shows the first 10 rows of drug_features table and extraction table:"
   ]
  },
  {
   "cell_type": "markdown",
   "metadata": {},
   "source": [
    "![drug_features](./img/drug.png)"
   ]
  },
  {
   "cell_type": "markdown",
   "metadata": {},
   "source": [
    "![extraction](./img/extraction.png)"
   ]
  },
  {
   "cell_type": "markdown",
   "metadata": {
    "id": "3muyDPFPbozY"
   },
   "source": [
    "##   Model\n",
    "\n",
    " Model architecture: According to the original paper [1], our model is a CNN model, including 5 convolutional layers and 2 fully-connected layers. For convolutional layers, the filters’ numbers are 64, 128, 128, 128 and 256, and the kernel size is 3*1. In addition, we add a residual block between two convolutional layers, which adds the output of conv2 to the output of conv3_2. The activation function we use is Leaky ReLU for the 5 convolutional layers and 1 fully-connected layer, for the last fully-connected layer we use Softmax.\n"
   ]
  },
  {
   "cell_type": "code",
   "execution_count": 3,
   "metadata": {
    "id": "jgWu26iXOahU"
   },
   "outputs": [],
   "source": [
    "class CNNDDI(nn.Module):\n",
    "    def __init__(self, num_of_features=4):\n",
    "        super(CNNDDI, self).__init__()\n",
    "        self.conv1 = nn.Conv2d(2, 64, (3, 1), padding=(1, 0))\n",
    "        self.conv2 = nn.Conv2d(64, 128, (3, 1), padding=(1, 0))\n",
    "        self.conv3_1 = nn.Conv2d(128, 128, (3, 1), padding=(1, 0))\n",
    "        self.conv3_2 = nn.Conv2d(128, 128, (3, 1), padding=(1, 0))\n",
    "        self.conv4 = nn.Conv2d(128, 256, (3, 1), padding=(1, 0))\n",
    "        # Adjust feature_size based on your input dimensions\n",
    "        self.fc1 = nn.Linear(256 * 572 * num_of_features, 256)\n",
    "        self.fc2 = nn.Linear(256, 65)  # Assuming 65 DDI types\n",
    "\n",
    "    def forward(self, x):\n",
    "        x = F.leaky_relu(self.conv1(x), negative_slope=0.2)\n",
    "        x = F.leaky_relu(self.conv2(x), negative_slope=0.2)\n",
    "        identity = x\n",
    "        x = F.leaky_relu(self.conv3_1(x), negative_slope=0.2)\n",
    "        x = self.conv3_2(x)\n",
    "        x += identity\n",
    "        x = F.leaky_relu(x, negative_slope=0.2)\n",
    "        x = F.leaky_relu(self.conv4(x), negative_slope=0.2)\n",
    "        x = torch.flatten(x, 1)\n",
    "        x = F.leaky_relu(self.fc1(x), negative_slope=0.2)\n",
    "        x = self.fc2(x)\n",
    "        return x\n"
   ]
  },
  {
   "cell_type": "markdown",
   "metadata": {
    "id": "g0DC0LdalayG"
   },
   "source": [
    "Below shows the structure of prediction model; and the convolution layers of CNN-DDI"
   ]
  },
  {
   "cell_type": "markdown",
   "metadata": {},
   "source": [
    "![CNN_model](./img/Model.jpg)"
   ]
  },
  {
   "cell_type": "markdown",
   "metadata": {},
   "source": [
    "![Model_size](./img/Size.jpg)"
   ]
  },
  {
   "cell_type": "markdown",
   "metadata": {
    "id": "NNFu1LLDOoP2"
   },
   "source": [
    "##   Training\n",
    "\n",
    " * Hyperparams:\n",
    "  * learning rate = 0.001\n",
    "  * batch size = 32\n",
    "  * dropout: none\n",
    "  * number of convolutional layers = 5\n",
    "  * number of fully-connected layers = 2\n",
    " * Computational requirements:\n",
    "  * type of hardware: NVIDIA GeForce RTX 4090 GPU\n",
    "  * average runtime for each epoch: 22s\n",
    "  * number of training epochs: 50, each model takes about 18 minutes to train\n",
    "  * total number of trials: we trained 21 models in total including ablation studies\n",
    "  * GPU hrs used: we trained 21 models, each has 50 epochs, and each epoch takes 22s to train, so the total GPU hrs is 6.3 hours\n",
    " * Training objectives: For the loss function, we use focal loss based on what the paper provided, because focal loss is more useful for training imbalanced datasets. For the optimizer, we use Adam optimizer.\n",
    " * **IMPORTANT NOTE**: As our model's training code takes a long time to run in Colab, even a single epoch's execution time is much longer than the 8 minute time limit. Therefore, we have to set num_epochs = 0 in the training part for this notebook. If you would like to observe the actual execution of the trainig code, please set num_epochs = 1, but again this could take a long time. In the acutal training, we used num_epochs = 50. Please find the complete training result in the Result section."
   ]
  },
  {
   "cell_type": "code",
   "execution_count": 4,
   "metadata": {
    "colab": {
     "base_uri": "https://localhost:8080/"
    },
    "id": "2tbqI3WwOaSB",
    "outputId": "1f001cc2-3114-4001-8506-ddca3b8a318e"
   },
   "outputs": [],
   "source": [
    "class DrugInteractionDataset(Dataset):\n",
    "    def __init__(self, features, labels):\n",
    "        #self.features = torch.tensor(features, dtype=torch.float32)\n",
    "        #self.labels = torch.tensor(labels, dtype=torch.long)\n",
    "        self.features = torch.from_numpy(features).type(torch.float)\n",
    "        self.labels = torch.from_numpy(labels)\n",
    "\n",
    "    def __len__(self):\n",
    "        return len(self.labels)\n",
    "\n",
    "    def __getitem__(self, index):\n",
    "        return self.features[index], self.labels[index]\n",
    "\n",
    "# Split the data into training and validation sets\n",
    "features_train, features_val, labels_train, labels_val = train_test_split(\n",
    "    new_feature, new_label, test_size=0.2, random_state=42\n",
    ")\n",
    "\n",
    "# Create dataset objects\n",
    "train_dataset = DrugInteractionDataset(features_train, labels_train)\n",
    "val_dataset = DrugInteractionDataset(features_val, labels_val)\n",
    "\n",
    "# Create data loaders\n",
    "batch_size = 32\n",
    "train_loader = DataLoader(train_dataset, batch_size=batch_size, shuffle=True)\n",
    "val_loader = DataLoader(val_dataset, batch_size=batch_size, shuffle=False)\n",
    "\n",
    "class focal_loss(nn.Module):\n",
    "    def __init__(self, gamma=2):\n",
    "        super(focal_loss, self).__init__()\n",
    "        self.gamma = gamma\n",
    "\n",
    "    def forward(self, preds, labels):\n",
    "        labels = labels[..., None]\n",
    "\n",
    "        preds_logsoft = F.log_softmax(preds, dim=1)\n",
    "        preds_softmax = torch.exp(preds_logsoft)\n",
    "\n",
    "        preds_softmax = preds_softmax.gather(1, labels)\n",
    "        preds_logsoft = preds_logsoft.gather(1, labels)\n",
    "\n",
    "        loss=-torch.mul(torch.pow((1-preds_softmax),self.gamma),preds_logsoft)\n",
    "\n",
    "        loss = loss.mean()\n",
    "\n",
    "        return loss\n",
    "\n",
    "def train(model, device, train_loader, optimizer, criterion):\n",
    "    model.train()\n",
    "    total_loss = 0\n",
    "    for features, labels in train_loader:\n",
    "        features, labels = features.to(device), labels.to(device)\n",
    "        optimizer.zero_grad()\n",
    "        outputs = model(features)\n",
    "        loss = criterion(outputs, labels)\n",
    "        loss.backward()\n",
    "        optimizer.step()\n",
    "        total_loss += loss.item()\n",
    "    return total_loss / len(train_loader)"
   ]
  },
  {
   "cell_type": "markdown",
   "metadata": {
    "id": "LTjEC3_5PjvW"
   },
   "source": [
    "##   Evaluation\n",
    "\n",
    " * Metrics descriptions:\n",
    "  * Accuracy: Measures proportion of correct predictions across the dataset.\n",
    "  * Precision: Measures proportion of true positive predictions among all positive predictions.\n",
    "  * Recall: Measures proportion of true positive predictions among all actual positive instances.\n",
    "  * F1: Calculated as the harmonic mean of precision and recall.\n",
    "  * AUC: Compute area under ROC curve from prediction scores.\n",
    "  * AUPR: Compute average precision from prediction scores.\n",
    "  "
   ]
  },
  {
   "cell_type": "code",
   "execution_count": 5,
   "metadata": {
    "colab": {
     "base_uri": "https://localhost:8080/"
    },
    "id": "gBdVZoTvsSFV",
    "outputId": "4e49e274-fd47-493f-c861-88d9559ec905"
   },
   "outputs": [
    {
     "name": "stderr",
     "output_type": "stream",
     "text": [
      "0it [00:00, ?it/s]\n"
     ]
    }
   ],
   "source": [
    "def validate(model, device, val_loader, criterion):\n",
    "    model.eval()\n",
    "    total_loss = 0\n",
    "    correct = 0\n",
    "    total = 0\n",
    "    all_predicted = []\n",
    "    all_labels = []\n",
    "    all_probs = []\n",
    "\n",
    "    with torch.no_grad():\n",
    "        for features, labels in val_loader:\n",
    "            features, labels = features.to(device), labels.to(device)\n",
    "            outputs = model(features)\n",
    "            loss = criterion(outputs, labels)\n",
    "            total_loss += loss.item()\n",
    "            _, predicted = torch.max(outputs.data, 1)\n",
    "            correct += (predicted == labels).sum().item()\n",
    "            total += labels.size(0)\n",
    "            all_predicted.extend(predicted.cpu().numpy())\n",
    "            all_labels.extend(labels.cpu().numpy())\n",
    "            all_probs.extend(\n",
    "                torch.nn.functional.softmax(outputs.data, 1).cpu().numpy())\n",
    "\n",
    "    all_predicted = np.array(all_predicted)\n",
    "    all_labels = np.array(all_labels)\n",
    "    all_probs = np.array(all_probs)\n",
    "\n",
    "    val_loss = total_loss / len(val_loader)\n",
    "    val_accuracy = correct / len(val_loader.dataset)\n",
    "    precision = precision_score(\n",
    "        all_labels, all_predicted, average='macro')\n",
    "    recall = recall_score(\n",
    "        all_labels, all_predicted, average='macro')\n",
    "    f1 = f1_score(all_labels, all_predicted, average='macro')\n",
    "    roc_auc = roc_auc_score(label_binarize(all_labels, classes=range(65))[:,1],\\\n",
    "                            all_probs[:,1], average='micro')\n",
    "    aupr = average_precision_score(label_binarize(\n",
    "        all_labels, classes=range(65))[:,1], all_probs[:,1], average='micro')\n",
    "\n",
    "    return val_loss, val_accuracy, precision, recall, f1, roc_auc, aupr\n",
    "\n",
    "\n",
    "def save_checkpoint(model, optimizer, epoch, filename):\n",
    "    state = {\n",
    "        'epoch': epoch,\n",
    "        'state_dict': model.state_dict(),\n",
    "        'optimizer': optimizer.state_dict()\n",
    "    }\n",
    "    torch.save(state, filename)\n",
    "    print(f\"Saved checkpoint: {filename}\")\n",
    "\n",
    "device = torch.device(\"cuda\" if torch.cuda.is_available() else \"cpu\")\n",
    "model = CNNDDI().to(device)\n",
    "optimizer = optim.Adam(model.parameters(), lr=0.001)\n",
    "criterion = focal_loss()\n",
    "\n",
    "num_epochs = 0\n",
    "checkpoint_interval = 1\n",
    "\n",
    "for epoch in tqdm(range(num_epochs)):\n",
    "    train_loss = train(model, device, train_loader, optimizer, criterion)\n",
    "    val_loss, val_accuracy, precision, recall, f1, roc_auc, aupr = validate(\n",
    "        model, device, val_loader, criterion)\n",
    "    print(f'Epoch {epoch+1}, Train Loss: {train_loss:.4f}, \\\n",
    "Validation Loss: {val_loss:.4f}, Validation Accuracy: {val_accuracy:.4f}, \\\n",
    "Precision: {precision:.4f}, recall: {recall:.4f}, F1: {f1:.4f}, \\\n",
    "AUC: {roc_auc:.4f}, AUPR: {aupr:.4f}')\n",
    "\n",
    "    if (epoch + 1) % checkpoint_interval == 0 or (epoch + 1) == num_epochs:\n",
    "        save_checkpoint(\n",
    "        model, optimizer, epoch + 1, f'checkpoints/cnn_ddi_epoch_{epoch+1}.pt')"
   ]
  },
  {
   "cell_type": "markdown",
   "metadata": {
    "id": "gX6bCcZNuxmz"
   },
   "source": [
    "# Results\n",
    "\n",
    "* We use batch_size = 32 and num_epochs = 50 for training, and after 50 epochs, our Validation Accuracy = 0.8881, which is pretty close to paper's result (accuracy = 0.8871).\n",
    "* We have attached part of our training result below for reference. The complete training results can be found in the Github repo: https://github.com/continue-revolution/CS598-CNN-DDI/blob/conrevo0/training.ipynb\n",
    "* Also, we have saved checkpoints in cloud and can load the checkpoint to compare our results, the complete checkpoints can be found at https://huggingface.co/conrevo/CS598-CNN-DDI/tree/main . Below is an example of loading checkpoint, which shows that all keys matched successfully. Also we can get the metrics result by loading the pre-trained model.\n",
    "* We have plotted our validation loss and training loss, which shows the training loss is relatively low, and the validation loss is relatively high.\n",
    "* We also plotted our validation accuracy for the 50 epochs as below."
   ]
  },
  {
   "cell_type": "markdown",
   "metadata": {
    "id": "U0vsDfHBC70_"
   },
   "source": [
    "* **IMPORTANT NOTE**: Loading the checkpoint takes about 1 minute."
   ]
  },
  {
   "cell_type": "code",
   "execution_count": 6,
   "metadata": {
    "colab": {
     "base_uri": "https://localhost:8080/"
    },
    "id": "7LTTBaBO46mk",
    "outputId": "8b6b53ca-af19-4ee0-f41f-65e0a367e56c"
   },
   "outputs": [
    {
     "data": {
      "text/plain": [
       "<All keys matched successfully>"
      ]
     },
     "execution_count": 6,
     "metadata": {},
     "output_type": "execute_result"
    }
   ],
   "source": [
    "cnn_ddi = CNNDDI()\n",
    "state_dict = torch.hub.load_state_dict_from_url(\n",
    "\"https://huggingface.co/conrevo/CS598-CNN-DDI/resolve/main/table_1/jaccard/\\\n",
    "cnn_ddi_epoch_jaccard_50.pt\",\n",
    "model_dir=\"checkpoints\",map_location=torch.device('cpu'))\n",
    "cnn_ddi.load_state_dict(state_dict[\"state_dict\"])"
   ]
  },
  {
   "cell_type": "markdown",
   "metadata": {
    "id": "KP_xHV_JDL2O"
   },
   "source": [
    "* **IMPORTANT NOTE**: Loading the metrics result of the pre-trained model takes 6-8 minutes."
   ]
  },
  {
   "cell_type": "code",
   "execution_count": 7,
   "metadata": {
    "colab": {
     "base_uri": "https://localhost:8080/"
    },
    "id": "Q9l8Jd5N07n6",
    "outputId": "3fef3167-e366-49ce-d2fc-d1b4602059c4"
   },
   "outputs": [
    {
     "name": "stderr",
     "output_type": "stream",
     "text": [
      "100%|████████████████████████████████████████████| 1/1 [04:11<00:00, 251.33s/it]"
     ]
    },
    {
     "name": "stdout",
     "output_type": "stream",
     "text": [
      "Epoch 50, Validation Loss: 3.0103, Validation Accuracy: 0.8881, Precision: 0.8205, recall: 0.8336, F1: 0.8104, AUC: 0.9883, AUPR: 0.9571\n"
     ]
    },
    {
     "name": "stderr",
     "output_type": "stream",
     "text": [
      "\n"
     ]
    }
   ],
   "source": [
    "for epoch in tqdm([50]):\n",
    "    val_loss, val_accuracy, precision, recall, f1, roc_auc, aupr = validate(\n",
    "        cnn_ddi.to(device), device, val_loader, criterion)\n",
    "    print(f'Epoch {epoch}, Validation Loss: {val_loss:.4f}, \\\n",
    "Validation Accuracy: {val_accuracy:.4f}, Precision: {precision:.4f}, \\\n",
    "recall: {recall:.4f}, F1: {f1:.4f}, AUC: {roc_auc:.4f}, AUPR: {aupr:.4f}')"
   ]
  },
  {
   "cell_type": "markdown",
   "metadata": {},
   "source": [
    "![result1](./img/result1.png)"
   ]
  },
  {
   "cell_type": "markdown",
   "metadata": {},
   "source": [
    "![result2](./img/result2.png)"
   ]
  },
  {
   "cell_type": "markdown",
   "metadata": {},
   "source": [
    "![result3](./img/result3.png)"
   ]
  },
  {
   "cell_type": "code",
   "execution_count": 8,
   "metadata": {
    "colab": {
     "base_uri": "https://localhost:8080/",
     "height": 995
    },
    "id": "0GoIwcG6Vvr8",
    "outputId": "d473deba-464a-4088-e8f9-d8ece2de1bb3",
    "scrolled": true
   },
   "outputs": [
    {
     "data": {
      "image/png": "[encoded data removed]",
      "text/plain": [
       "<Figure size 432x288 with 1 Axes>"
      ]
     },
     "metadata": {
      "needs_background": "light"
     },
     "output_type": "display_data"
    },
    {
     "data": {
      "image/png": "[encoded data removed]",
      "text/plain": [
       "<Figure size 432x288 with 1 Axes>"
      ]
     },
     "metadata": {
      "needs_background": "light"
     },
     "output_type": "display_data"
    }
   ],
   "source": [
    "import matplotlib.pyplot as plt\n",
    "\n",
    "df_result = pd.read_csv(\"img/result.txt\")\n",
    "\n",
    "lines = df_result.plot.line(x='Epoch', y=['TrainLoss', 'ValidationLoss'])\n",
    "plt.title('Training and validation loss')\n",
    "plt.ylabel('Loss')\n",
    "plt.xlabel('Epochs')\n",
    "plt.legend(['training Loss', 'validation Loss'], loc='upper left')\n",
    "plt.show()\n",
    "\n",
    "lines = df_result.plot.line(x='Epoch', y=['ValidationAccuracy'])\n",
    "plt.title('Validation Accuracy')\n",
    "plt.ylabel('Accuracy')\n",
    "plt.xlabel('Epochs')\n",
    "plt.legend(['validation Accuracy'], loc='upper left')\n",
    "plt.show()"
   ]
  },
  {
   "cell_type": "markdown",
   "metadata": {
    "id": "qQtEpRFDMydP"
   },
   "source": [
    "## Ablation Study 1: Comparison with model trained with different similarity measures\n",
    "\n",
    "* Orignally we use Jaccard similarity to train the model, for ablation study 1, we replace Jaccard similarity measure with Cosine similarity and Gaussian similarity to evaluate how similarity measure affects model's performance.\n",
    "* We define three similarity measures in the feature_vector function using def Jaccard(matrix) / def Cosine(matrix) / def Gaussian(matrix, gamma=None), and used for loop to iterate through these three silimarity measures.\n",
    "* The code below is what we used for our ablation study 1, here we set num_epochs = 0 just to show the training process, in real we set num_epochs = 50. The complete training results can be found in the Github repo: https://github.com/continue-revolution/CS598-CNN-DDI/blob/conrevo0/training.ipynb\n",
    "* **Result:** Table 1 shows the performance of CNN-DDI using three similarity measures. We can see that Gaussian similarity has the highest accuracy, while Jaccard similarity has the highest AUPR, AUC, F1, Precision and Recall. Based on these metrics, we choose Jaccard similarity as the measure in our model.\n",
    "* **Discussion:** When comparing model performances, we should consider all the performance metrics. While Gaussian has higher accuracy, Jaccard's other 5 metrics are all higher than Gaussian, which makes Jaccard a better similarity measure to be used in our model. Even though the original paper's results show that CNN-DDI has similar performance using three similarity measures, our reproduced result exhibits better performance with Jaccard similarity.\n"
   ]
  },
  {
   "cell_type": "code",
   "execution_count": 9,
   "metadata": {
    "colab": {
     "base_uri": "https://localhost:8080/"
    },
    "id": "Yo_XQSKPJCqk",
    "outputId": "8576c0f9-7918-43cd-8863-7bee02da14db"
   },
   "outputs": [
    {
     "name": "stdout",
     "output_type": "stream",
     "text": [
      "Similarity measure: jaccard\n"
     ]
    },
    {
     "name": "stderr",
     "output_type": "stream",
     "text": [
      "0it [00:00, ?it/s]\n"
     ]
    },
    {
     "name": "stdout",
     "output_type": "stream",
     "text": [
      "Similarity measure: cosine\n"
     ]
    },
    {
     "name": "stderr",
     "output_type": "stream",
     "text": [
      "0it [00:00, ?it/s]\n"
     ]
    },
    {
     "name": "stdout",
     "output_type": "stream",
     "text": [
      "Similarity measure: gaussian\n"
     ]
    },
    {
     "name": "stderr",
     "output_type": "stream",
     "text": [
      "0it [00:00, ?it/s]\n"
     ]
    }
   ],
   "source": [
    "batch_size = 32\n",
    "num_epochs = 0\n",
    "checkpoint_interval = 10\n",
    "device = torch.device(\"cuda\" if torch.cuda.is_available() else \"cpu\")\n",
    "for similarity in [\"jaccard\", \"cosine\", \"gaussian\"]:\n",
    "    print(f\"Similarity measure: {similarity}\")\n",
    "    new_feature, new_label, event_num = prepare(\n",
    "        df_drug, feature_list, mechanism, action, drugA, drugB,\\\n",
    "        similarity=similarity)\n",
    "    #new_feature = torch.tensor(new_feature, dtype=torch.float32)\n",
    "    features_train, features_val, labels_train, labels_val = train_test_split(\n",
    "        new_feature, new_label, test_size=0.2, random_state=42\n",
    "    )\n",
    "\n",
    "    # Create dataset objects\n",
    "    train_dataset = DrugInteractionDataset(features_train, labels_train)\n",
    "    val_dataset = DrugInteractionDataset(features_val, labels_val)\n",
    "\n",
    "    # Create data loaders\n",
    "    train_loader = DataLoader(\n",
    "        train_dataset, batch_size=batch_size, shuffle=True)\n",
    "    val_loader = DataLoader(val_dataset, batch_size=batch_size, shuffle=False)\n",
    "\n",
    "    model = CNNDDI().to(device)\n",
    "    optimizer = optim.Adam(model.parameters(), lr=0.001)\n",
    "    criterion = focal_loss()\n",
    "\n",
    "    for epoch in tqdm(range(num_epochs)):\n",
    "        train_loss = train(model, device, train_loader, optimizer, criterion)\n",
    "        val_loss, val_accuracy, precision, recall, f1, roc_auc, aupr = validate(\n",
    "            model, device, val_loader, criterion)\n",
    "        print(f'Epoch {epoch+1}, Train Loss: {train_loss:.4f}, \\\n",
    "    Validation Loss: {val_loss:.4f}, \\\n",
    "    Validation Accuracy: {val_accuracy:.4f}, \\\n",
    "    Precision: {precision:.4f}, recall: {recall:.4f}, F1: {f1:.4f}, \\\n",
    "    AUC: {roc_auc:.4f}, AUPR: {aupr:.4f}')\n",
    "\n",
    "        if (epoch + 1) % checkpoint_interval == 0 or (epoch + 1) == num_epochs:\n",
    "            save_checkpoint(model, optimizer, epoch + 1,\\\n",
    "            f'checkpoints/cnn_ddi_epoch_{similarity}_{epoch+1}.pt')"
   ]
  },
  {
   "cell_type": "markdown",
   "metadata": {
    "colab": {
     "base_uri": "https://localhost:8080/",
     "height": 388
    },
    "id": "fIr8kcRyxAGs",
    "outputId": "e6fecc17-cd18-4fbd-884e-7d0804438ee5"
   },
   "source": [
    "![Table1](./img/Table1.png)"
   ]
  },
  {
   "cell_type": "markdown",
   "metadata": {
    "id": "XIpLV9EjIyxf"
   },
   "source": [
    "## Ablation Study 2: Comparison with models trained with different feature selection\n",
    "\n",
    "* Originally, we use four features to train our model. For ablation study 2, we train our model with different feature selections and compare performances.\n",
    "* There are four features in the feature_list: P - pathway, T - target, E - enzyme, and C - category. We itereate through all different combinations of the features in the feature_list, and produce results for each combination. For example, in Table 2, \"T+P+C\" means the model was trained with target+pathway+category as the feature combination.  \n",
    "* The code below is what we used for our ablation study 2, here we set num_epochs = 0 just to show the training process, in real we set num_epochs = 50. The complete training results can be found in the Github repo: https://github.com/continue-revolution/CS598-CNN-DDI/blob/conrevo0/training.ipynb\n",
    "* **Result:** From Table 2, we can observe that \"C\" (category) has the highest accuracy, AUPR and AUC, \"E+C\" (enzyme+category) has the highest precision, and \"T+P+E+C\" (target+pathway+enzyme+category) has the highest recall and F1 score.\n",
    "* **Discussion:** The result provides many insights on how different features or feature combinations affect the model performance:\n",
    "\n",
    "  *   When using just one feature, C (category) leads to better performance than using T, P, or E alone.\n",
    "  *   When using a combination of two or more features, \"[list of other features] + C\" have better performance than using just [list of other features]. For example, E+C > E, P+E+C > P+E.\n",
    "  * These clearly indicate the importance of drug category as a feature to improve CNN-DDI's prediction performance.\n",
    "  * We can also tell that the model's performance is improved when multiple features are used instead of a single feature.\n",
    "  * The overall performance of the model using a combination of all four features is a winner, which mostly aligns with the results of the original paper. In the original paper, T+P+E+C has the best metrics in Accuracy, AUPR, AUC, Precision, and the 2nd best in F1 and Recall. Our reproduction result in Table 2 shows T+P+E+C has the highest F1 and Recall, but is the 2nd or 3rd best for other metrics.\n",
    "  * After comparing with the original paper, we found that the original paper extracted 1622 types of drug category from the Drugbank website in December 2020, while our team extracted 1803 types of drug category from the Drugbank website in March 2024. Apparently the Drugbank website has updated the drug category for the 572 drugs since then, which makes our feature \"category\" an even better feature that outperforms the previous \"category\" from the paper. Therefore, our reproduction result is slightly different from the original paper due to an updated dataset."
   ]
  },
  {
   "cell_type": "code",
   "execution_count": 10,
   "metadata": {
    "colab": {
     "base_uri": "https://localhost:8080/"
    },
    "id": "Cs5dDcApJQbF",
    "outputId": "7f162313-928a-4433-88dd-750150685df8"
   },
   "outputs": [
    {
     "name": "stdout",
     "output_type": "stream",
     "text": [
      "Feature combination: ('pathway',)\n"
     ]
    },
    {
     "name": "stderr",
     "output_type": "stream",
     "text": [
      "0it [00:00, ?it/s]\n"
     ]
    },
    {
     "name": "stdout",
     "output_type": "stream",
     "text": [
      "Feature combination: ('target',)\n"
     ]
    },
    {
     "name": "stderr",
     "output_type": "stream",
     "text": [
      "0it [00:00, ?it/s]\n"
     ]
    },
    {
     "name": "stdout",
     "output_type": "stream",
     "text": [
      "Feature combination: ('enzyme',)\n"
     ]
    },
    {
     "name": "stderr",
     "output_type": "stream",
     "text": [
      "0it [00:00, ?it/s]\n"
     ]
    },
    {
     "name": "stdout",
     "output_type": "stream",
     "text": [
      "Feature combination: ('category',)\n"
     ]
    },
    {
     "name": "stderr",
     "output_type": "stream",
     "text": [
      "0it [00:00, ?it/s]\n"
     ]
    },
    {
     "name": "stdout",
     "output_type": "stream",
     "text": [
      "Feature combination: ('pathway', 'target')\n"
     ]
    },
    {
     "name": "stderr",
     "output_type": "stream",
     "text": [
      "0it [00:00, ?it/s]\n"
     ]
    },
    {
     "name": "stdout",
     "output_type": "stream",
     "text": [
      "Feature combination: ('pathway', 'enzyme')\n"
     ]
    },
    {
     "name": "stderr",
     "output_type": "stream",
     "text": [
      "0it [00:00, ?it/s]\n"
     ]
    },
    {
     "name": "stdout",
     "output_type": "stream",
     "text": [
      "Feature combination: ('pathway', 'category')\n"
     ]
    },
    {
     "name": "stderr",
     "output_type": "stream",
     "text": [
      "0it [00:00, ?it/s]\n"
     ]
    },
    {
     "name": "stdout",
     "output_type": "stream",
     "text": [
      "Feature combination: ('target', 'enzyme')\n"
     ]
    },
    {
     "name": "stderr",
     "output_type": "stream",
     "text": [
      "0it [00:00, ?it/s]\n"
     ]
    },
    {
     "name": "stdout",
     "output_type": "stream",
     "text": [
      "Feature combination: ('target', 'category')\n"
     ]
    },
    {
     "name": "stderr",
     "output_type": "stream",
     "text": [
      "0it [00:00, ?it/s]\n"
     ]
    },
    {
     "name": "stdout",
     "output_type": "stream",
     "text": [
      "Feature combination: ('enzyme', 'category')\n"
     ]
    },
    {
     "name": "stderr",
     "output_type": "stream",
     "text": [
      "0it [00:00, ?it/s]\n"
     ]
    },
    {
     "name": "stdout",
     "output_type": "stream",
     "text": [
      "Feature combination: ('pathway', 'target', 'enzyme')\n"
     ]
    },
    {
     "name": "stderr",
     "output_type": "stream",
     "text": [
      "0it [00:00, ?it/s]\n"
     ]
    },
    {
     "name": "stdout",
     "output_type": "stream",
     "text": [
      "Feature combination: ('pathway', 'target', 'category')\n"
     ]
    },
    {
     "name": "stderr",
     "output_type": "stream",
     "text": [
      "0it [00:00, ?it/s]\n"
     ]
    },
    {
     "name": "stdout",
     "output_type": "stream",
     "text": [
      "Feature combination: ('pathway', 'enzyme', 'category')\n"
     ]
    },
    {
     "name": "stderr",
     "output_type": "stream",
     "text": [
      "0it [00:00, ?it/s]\n"
     ]
    },
    {
     "name": "stdout",
     "output_type": "stream",
     "text": [
      "Feature combination: ('target', 'enzyme', 'category')\n"
     ]
    },
    {
     "name": "stderr",
     "output_type": "stream",
     "text": [
      "0it [00:00, ?it/s]\n"
     ]
    },
    {
     "name": "stdout",
     "output_type": "stream",
     "text": [
      "Feature combination: ('pathway', 'target', 'enzyme', 'category')\n"
     ]
    },
    {
     "name": "stderr",
     "output_type": "stream",
     "text": [
      "0it [00:00, ?it/s]\n"
     ]
    }
   ],
   "source": [
    "import itertools\n",
    "\n",
    "feature_list = [\"pathway\", \"target\", \"enzyme\", \"category\"]\n",
    "\n",
    "# Generate all combinations for different lengths\n",
    "all_combinations = []\n",
    "for r in range(1, len(feature_list) + 1):\n",
    "    combinations = list(itertools.combinations(feature_list, r))\n",
    "    all_combinations.extend(combinations)\n",
    "\n",
    "# Train models for all combinations\n",
    "batch_size = 32\n",
    "num_epochs = 0\n",
    "checkpoint_interval = 10\n",
    "device = torch.device(\"cuda\" if torch.cuda.is_available() else \"cpu\")\n",
    "for combination in all_combinations:\n",
    "    print(f\"Feature combination: {combination}\")\n",
    "    new_feature, new_label, event_num = prepare(\n",
    "        df_drug, combination, mechanism, action, drugA, drugB,\\\n",
    "        similarity=\"jaccard\")\n",
    "    #new_feature = torch.tensor(new_feature, dtype=torch.float32)\n",
    "    features_train, features_val, labels_train, labels_val = train_test_split(\n",
    "        new_feature, new_label, test_size=0.2, random_state=42\n",
    "    )\n",
    "\n",
    "    # Create dataset objects\n",
    "    train_dataset = DrugInteractionDataset(features_train, labels_train)\n",
    "    val_dataset = DrugInteractionDataset(features_val, labels_val)\n",
    "\n",
    "    # Create data loaders\n",
    "    train_loader = DataLoader(\n",
    "        train_dataset, batch_size=batch_size, shuffle=True)\n",
    "    val_loader = DataLoader(val_dataset, batch_size=batch_size, shuffle=False)\n",
    "\n",
    "    model = CNNDDI(num_of_features=len(combination)).to(device)\n",
    "    optimizer = optim.Adam(model.parameters(), lr=0.001)\n",
    "    criterion = focal_loss()\n",
    "\n",
    "    for epoch in tqdm(range(num_epochs)):\n",
    "        train_loss = train(model, device, train_loader, optimizer, criterion)\n",
    "        val_loss, val_accuracy, precision, recall, f1, roc_auc, aupr = validate(\n",
    "            model, device, val_loader, criterion)\n",
    "        print(f'Epoch {epoch+1}, Train Loss: {train_loss:.4f}, \\\n",
    "    Validation Loss: {val_loss:.4f}, \\\n",
    "    Validation Accuracy: {val_accuracy:.4f}, \\\n",
    "    Precision: {precision:.4f}, recall: {recall:.4f}, F1: {f1:.4f}, \\\n",
    "    AUC: {roc_auc:.4f}, AUPR: {aupr:.4f}')\n",
    "\n",
    "        if (epoch + 1) % checkpoint_interval == 0 or (epoch + 1) == num_epochs:\n",
    "            combination_str = \"_\".join(combination)\n",
    "            save_checkpoint(model, optimizer, epoch + 1,\\\n",
    "            f'checkpoints/cnn_ddi_epoch_{epoch+1}_{combination_str}.pt')"
   ]
  },
  {
   "cell_type": "markdown",
   "metadata": {
    "colab": {
     "base_uri": "https://localhost:8080/",
     "height": 790
    },
    "id": "QQibQQ1O4le-",
    "outputId": "d2a16571-3682-45a1-e480-43d020b8b7a5"
   },
   "source": [
    "![Table2](./img/Table2.png)"
   ]
  },
  {
   "cell_type": "markdown",
   "metadata": {
    "id": "LiQxEnIBtWmL"
   },
   "source": [
    "## Ablation Study 3: Comparison with model trained without \"residual block\"\n",
    "\n",
    "* The original paper defined a CNN model with a residual block between two convolutional layers, which adds the output of conv2 to the output of conv3_2. The residual block is put in place to strengthen the correlation of multi-layer features. For our ablation study 3, we remove the residual block from our model and evaluate the impacts on performance.\n",
    "* We create a new class called CNNDDI_no_residual to distinguish with our original CNN-DDI model, and we use logger to track the runtime of the model.\n",
    "* The code below is what we used for our ablation study 3, here we set num_epochs = 0 just to show the training process, in real we set num_epochs = 50. The complete training results can be found in the Github repo: https://github.com/continue-revolution/CS598-CNN-DDI/blob/conrevo0/training.ipynb\n",
    "* **Result:** From Table 3, we can see that after removing the residual block from the model, precision/recall/F1 have significantly degraded (in the scale of 0.1 and 0.01). On the other hand, Accuracy, AUC and AUPR stays almost the same (negligible difference in the scale of 0.001).\n",
    "* **Discussion:** The performance of our model is sensitive to the removal of the residual block, especially for Precision, Recall, and F1. This might be related to the data balance level used in training. As far as we understand, because our training data is more balanced, the performance of our model is better represented by F1, precision, and recall. This also explains why we see a more obvious degradation in these metrics after removing the residual block."
   ]
  },
  {
   "cell_type": "code",
   "execution_count": 11,
   "metadata": {
    "colab": {
     "base_uri": "https://localhost:8080/"
    },
    "id": "Og3P6mE3xWgB",
    "outputId": "28212626-1a78-4473-faba-53db8b7d44c1"
   },
   "outputs": [
    {
     "name": "stdout",
     "output_type": "stream",
     "text": [
      "2024-04-29 00:56:13,766 - CNN-DDI - \u001b[0;32mINFO\u001b[0m - Model Arch: CNNDDI_no_residual\n"
     ]
    },
    {
     "name": "stderr",
     "output_type": "stream",
     "text": [
      "0it [00:00, ?it/s]"
     ]
    },
    {
     "name": "stdout",
     "output_type": "stream",
     "text": [
      "2024-04-29 00:56:25,454 - CNN-DDI - \u001b[0;32mINFO\u001b[0m - Model Arch: CNNDDI\n"
     ]
    },
    {
     "name": "stderr",
     "output_type": "stream",
     "text": [
      "\n",
      "0it [00:00, ?it/s]\n"
     ]
    }
   ],
   "source": [
    "class CNNDDI_no_residual(nn.Module):\n",
    "    def __init__(self, num_of_features=4):\n",
    "        super(CNNDDI_no_residual, self).__init__()\n",
    "        self.conv1 = nn.Conv2d(2, 64, (3, 1), padding=(1, 0))\n",
    "        self.conv2 = nn.Conv2d(64, 128, (3, 1), padding=(1, 0))\n",
    "        self.conv3_1 = nn.Conv2d(128, 128, (3, 1), padding=(1, 0))\n",
    "        self.conv3_2 = nn.Conv2d(128, 128, (3, 1), padding=(1, 0))\n",
    "        self.conv4 = nn.Conv2d(128, 256, (3, 1), padding=(1, 0))\n",
    "        # Adjust feature_size based on your input dimensions\n",
    "        self.fc1 = nn.Linear(256 * 572 * num_of_features, 256)\n",
    "        self.fc2 = nn.Linear(256, 65)  # Assuming 65 DDI types\n",
    "\n",
    "    def forward(self, x):\n",
    "        x = F.leaky_relu(self.conv1(x), negative_slope=0.2)\n",
    "        x = F.leaky_relu(self.conv2(x), negative_slope=0.2)\n",
    "        # identity = x\n",
    "        x = F.leaky_relu(self.conv3_1(x), negative_slope=0.2)\n",
    "        x = self.conv3_2(x)\n",
    "        # x += identity\n",
    "        x = F.leaky_relu(x, negative_slope=0.2)\n",
    "        x = F.leaky_relu(self.conv4(x), negative_slope=0.2)\n",
    "        x = torch.flatten(x, 1)\n",
    "        x = F.leaky_relu(self.fc1(x), negative_slope=0.2)\n",
    "        x = self.fc2(x)\n",
    "        return x\n",
    "\n",
    "import copy\n",
    "import logging\n",
    "import sys\n",
    "\n",
    "class ColoredFormatter(logging.Formatter):\n",
    "    COLORS = {\n",
    "        \"DEBUG\": \"\\033[0;36m\",  # CYAN\n",
    "        \"INFO\": \"\\033[0;32m\",  # GREEN\n",
    "        \"WARNING\": \"\\033[0;33m\",  # YELLOW\n",
    "        \"ERROR\": \"\\033[0;31m\",  # RED\n",
    "        \"CRITICAL\": \"\\033[0;37;41m\",  # WHITE ON RED\n",
    "        \"RESET\": \"\\033[0m\",  # RESET COLOR\n",
    "    }\n",
    "\n",
    "    def format(self, record):\n",
    "        colored_record = copy.copy(record)\n",
    "        levelname = colored_record.levelname\n",
    "        seq = self.COLORS.get(levelname, self.COLORS[\"RESET\"])\n",
    "        colored_record.levelname = f\"{seq}{levelname}{self.COLORS['RESET']}\"\n",
    "        return super().format(colored_record)\n",
    "\n",
    "\n",
    "# Create a new logger\n",
    "logger = logging.getLogger(\"CNN-DDI\")\n",
    "logger.propagate = False\n",
    "\n",
    "# Add handler if we don't have one.\n",
    "if not logger.handlers:\n",
    "    handler = logging.StreamHandler(sys.stdout)\n",
    "    handler.setFormatter(\n",
    "        ColoredFormatter(\"%(asctime)s - %(name)s - %(levelname)s - %(message)s\")\n",
    "    )\n",
    "    logger.addHandler(handler)\n",
    "\n",
    "# Configure logger\n",
    "loglevel_string = \"INFO\"\n",
    "if not loglevel_string:\n",
    "    loglevel_string = \"INFO\"\n",
    "loglevel = getattr(logging, loglevel_string.upper(), None)\n",
    "logger.setLevel(loglevel)\n",
    "\n",
    "batch_size = 32\n",
    "num_epochs = 0\n",
    "checkpoint_interval = 10\n",
    "device = torch.device(\"cuda\" if torch.cuda.is_available() else \"cpu\")\n",
    "for idx, model_class in enumerate([CNNDDI_no_residual, CNNDDI]):\n",
    "    model_class_str = \"CNNDDI\" if idx == 1 else \"CNNDDI_no_residual\"\n",
    "    logger.info(f\"Model Arch: {model_class_str}\")\n",
    "    new_feature, new_label, event_num = prepare(\n",
    "        df_drug, feature_list, mechanism, action, drugA, drugB)\n",
    "    #new_feature = torch.tensor(new_feature, dtype=torch.float32)\n",
    "    features_train, features_val, labels_train, labels_val = train_test_split(\n",
    "        new_feature, new_label, test_size=0.2, random_state=42\n",
    "    )\n",
    "\n",
    "    # Create dataset objects\n",
    "    train_dataset = DrugInteractionDataset(features_train, labels_train)\n",
    "    val_dataset = DrugInteractionDataset(features_val, labels_val)\n",
    "\n",
    "    # Create data loaders\n",
    "    train_loader = DataLoader(\n",
    "        train_dataset, batch_size=batch_size, shuffle=True)\n",
    "    val_loader = DataLoader(val_dataset, batch_size=batch_size, shuffle=False)\n",
    "\n",
    "    model = model_class().to(device)\n",
    "    optimizer = optim.Adam(model.parameters(), lr=0.001)\n",
    "    criterion = focal_loss()\n",
    "\n",
    "    for epoch in tqdm(range(num_epochs)):\n",
    "        train_loss = train(model, device, train_loader, optimizer, criterion)\n",
    "        val_loss, val_accuracy, precision, recall, f1, roc_auc, aupr = validate(\n",
    "            model, device, val_loader, criterion)\n",
    "        logger.info(f'Epoch {epoch+1}, Train Loss: {train_loss:.4f}, \\\n",
    "    Validation Loss: {val_loss:.4f}, \\\n",
    "    Validation Accuracy: {val_accuracy:.4f}, \\\n",
    "    Precision: {precision:.4f}, recall: {recall:.4f}, F1: {f1:.4f}, \\\n",
    "    AUC: {roc_auc:.4f}, AUPR: {aupr:.4f}')\n",
    "\n",
    "        if (epoch + 1) % checkpoint_interval == 0 or (epoch + 1) == num_epochs:\n",
    "            if idx == 0:\n",
    "                save_checkpoint(model, optimizer, epoch + 1,\\\n",
    "                f'checkpoints/cnn_ddi_epoch_{model_class_str}_{epoch+1}.pt')"
   ]
  },
  {
   "cell_type": "markdown",
   "metadata": {
    "colab": {
     "base_uri": "https://localhost:8080/",
     "height": 244
    },
    "id": "M5oqfaRp07iw",
    "outputId": "468d57f3-db8f-4a56-92b4-c6b894cf6053"
   },
   "source": [
    "![Table3](./img/Table3.png)"
   ]
  },
  {
   "cell_type": "markdown",
   "metadata": {
    "id": "uZuAUeD5GH4g"
   },
   "source": [
    "## Comparison\n",
    "\n",
    "**1. Compare our model's performance with other state-of-art models:**\n",
    " * We compare our CNN-DDI model with other state-of-art models such as gradient-boosted decision trees/random forest/k-nearest neighbors/linear regression, and the result is as belows. From Table 4, we can see that our CNN-DDI model is a clear winner in all performance metrics."
   ]
  },
  {
   "cell_type": "markdown",
   "metadata": {
    "colab": {
     "base_uri": "https://localhost:8080/",
     "height": 353
    },
    "id": "tDOKHp-447-c",
    "outputId": "a44d56b9-e980-4802-e94d-78d42588111a"
   },
   "source": [
    "![Table4](./img/Table4.png)"
   ]
  },
  {
   "cell_type": "markdown",
   "metadata": {
    "id": "3-tI0xrQ5lfk"
   },
   "source": [
    "**2. Compare our model with original paper's CNN-DDI and DDIMDL models:**\n",
    " * We compare our model with the original paper's CNN-DDI model as well as the DDIMDL model from related work [2].\n",
    " * Our CNN-DDI model has accuracy = 0.8881, while the model in the original paper has accuracy = 0.8871. This shows our reproduced model's performance is very similar to the original model proposed in the paper, even with slightly better performance in some metrics.\n",
    " * DDIMDL has accuracy = 0.8852, so our model also outperforms DDIMDL."
   ]
  },
  {
   "cell_type": "markdown",
   "metadata": {
    "colab": {
     "base_uri": "https://localhost:8080/",
     "height": 282
    },
    "id": "5_V7hcvf5BhR",
    "outputId": "07bf23f9-10b7-454a-92f7-004d094cee53"
   },
   "source": [
    "![Table5](./img/Table5.png)"
   ]
  },
  {
   "cell_type": "markdown",
   "metadata": {
    "id": "qH75TNU71eRH"
   },
   "source": [
    "# Discussion\n",
    "\n",
    " Overall, the paper is reproducible only with additional references to other papers and repositories.\n",
    "\n",
    "\n",
    " Here are some of the major challenges we experienced when trying to reproduce the paper:\n",
    "\n",
    "\n",
    " * The respository provided by the chosen CNN-DDI paper [1] is https://github.com/YifanDengWHU/DDIMDL. However, this is actually NOT the repository for this paper. Instead,  it is the repository of a different paper, DDIMDL [2], which was referenced by CNN-DDI and done by a different group of authors. This essentially means that we are reproducing a paper with no public repository.\n",
    "\n",
    "\n",
    " * With no data and code for CNN-DDI, the only available resource for us to move forward is the DDIMDL repository. We started with a good understanding of DDIMDL paper, got familiar with the data and code in its repository, and reverse engineered the differences between CNN-DDI and DDIMDL. It is beneficial to study more papers in depth, but we struggled quite a bit given the time constraints.\n",
    "\n",
    "\n",
    " * Moreover, CNN-DDI paper's content presentation is lacking. Many critical concepts, such as how drug-drug interaction events are defined, how they are related to mechanism and action in the dataset, are not properly explained, and we had to refer to [2] and [3] to confirm our guesses and supplement the understanding of these concepts. Otherwise, it could be very difficult, if not impossible, to make meaningful progress on data modeling and preparation.\n",
    "\n",
    "\n",
    " * For data collection, we downloaded additional data from https://go.drugbank.com/, and joined with the existing data available in DDIMDL repository.\n",
    "\n",
    "\n",
    "To improve the reproducibility of the paper, we would like to suggest the authors to publish their own repository. If this is not possible and readers are only left with a reference paper's repository, then it will be super helpful if the authors can clearly explain the differences and what they did on top of the reference paper.\n",
    "\n",
    "Even though the original paper has limited reproducibility, our team managed to reproduce all the results in the work and verified the key hypotheses. Through this project, we have gained valuable practical experiences on applying deep learning in healthcare domains. The CNN-DDI model architecture was not difficult to understand and reproduce, but we conquered numerous challenges on data collection/understanding/preparation/processing in order to generate data appropriate to be used as model input. Furthermore, model training and evaluation demanded high performance hardware. We were fortunate that one of our team members has a NVIDIA GPU, which tremendously helped to speed up the process.\n"
   ]
  },
  {
   "cell_type": "markdown",
   "metadata": {
    "id": "SHMI2chl9omn"
   },
   "source": [
    "# References\n",
    "\n",
    "1. Original Paper:\n",
    "  \n",
    "  Zhang, C., Lu, Y. & Zang, T. CNN-DDI: a learning-based method for predicting drug-drug interactions using convolution neural networks. BMC Bioinformatics 23 (Suppl 1), 88 (2022). https://doi.org/10.1186/s12859-022-04612-2\n",
    "\n",
    "2. Yifan Deng, Xinran Xu, Yang Qiu, Jingbo Xia, Wen Zhang, Shichao Liu, A multimodal deep learning framework for predicting drug–drug interaction events, Bioinformatics, Volume 36, Issue 15, August 2020, Pages 4316–4322, https://doi.org/10.1093/bioinformatics/btaa501\n",
    "\n",
    "3. Yang, Z., Tong, K., Jin, S. et al. CNN-Siam: multimodal siamese CNN-based deep learning approach for drug‒drug interaction prediction. BMC Bioinformatics 24, 110 (2023). https://doi.org/10.1186/s12859-023-05242-y\n"
   ]
  }
 ],
 "metadata": {
  "colab": {
   "provenance": []
  },
  "kernelspec": {
   "display_name": "Python 3 (ipykernel)",
   "language": "python",
   "name": "python3"
  },
  "language_info": {
   "codemirror_mode": {
    "name": "ipython",
    "version": 3
   },
   "file_extension": ".py",
   "mimetype": "text/x-python",
   "name": "python",
   "nbconvert_exporter": "python",
   "pygments_lexer": "ipython3",
   "version": "3.7.2"
  }
 },
 "nbformat": 4,
 "nbformat_minor": 1
}
