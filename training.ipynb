{
 "cells": [
  {
   "cell_type": "code",
   "execution_count": 1,
   "metadata": {},
   "outputs": [],
   "source": [
    "import numpy as np\n",
    "import pandas as pd\n",
    "from pandas import DataFrame\n",
    "import torch\n",
    "import torch.nn as nn\n",
    "import torch.nn.functional as F\n",
    "import torch.optim as optim\n",
    "from torch.utils.data import Dataset, DataLoader\n",
    "from sklearn.model_selection import train_test_split\n",
    "from sklearn.metrics import *\n",
    "from sklearn.preprocessing import label_binarize\n",
    "from tqdm import tqdm"
   ]
  },
  {
   "cell_type": "code",
   "execution_count": 2,
   "metadata": {},
   "outputs": [],
   "source": [
    "def feature_vector(feature_name, df, similarity='jaccard'):\n",
    "    def Jaccard(matrix):\n",
    "        matrix = np.mat(matrix)\n",
    "\n",
    "        numerator = matrix * matrix.T\n",
    "\n",
    "        denominator = (\n",
    "            np.ones(np.shape(matrix)) * matrix.T\n",
    "            + matrix * np.ones(np.shape(matrix.T))\n",
    "            - matrix * matrix.T\n",
    "        )\n",
    "\n",
    "        return numerator / denominator\n",
    "    \n",
    "    def Cosine(matrix):\n",
    "        norms = np.linalg.norm(matrix, axis=1)\n",
    "        matrix_normalized = matrix / norms[:, np.newaxis]\n",
    "        return np.dot(matrix_normalized, matrix_normalized.T)\n",
    "\n",
    "    \n",
    "    def Gaussian(matrix, gamma=None):\n",
    "        if gamma is None:\n",
    "            norms = np.linalg.norm(matrix, axis=1)\n",
    "            avg_norm = np.mean(norms)\n",
    "            gamma = 1 / avg_norm**2\n",
    "        \n",
    "        squared_norms = np.sum(matrix**2, axis=1)\n",
    "        squared_distance = squared_norms[:, np.newaxis] + squared_norms - 2 * np.dot(matrix, matrix.T)\n",
    "        \n",
    "        return np.exp(-gamma * squared_distance)\n",
    "\n",
    "    all_feature = []\n",
    "    drug_list = np.array(df[feature_name]).tolist()\n",
    "    # Features for each drug, for example, when feature_name is target, drug_list=[\"P30556|P05412\",\"P28223|P46098|……\"]\n",
    "    for i in drug_list:\n",
    "        for each_feature in i.split(\"|\"):\n",
    "            if each_feature not in all_feature:\n",
    "                all_feature.append(each_feature)  # obtain all the features\n",
    "    #print(\"length of all feature is\", len(all_feature))\n",
    "    feature_matrix = np.zeros((len(drug_list), len(all_feature)), dtype=float)\n",
    "    df_feature = DataFrame(\n",
    "        feature_matrix, columns=all_feature\n",
    "    )  # Consrtuct feature matrices with key of dataframe\n",
    "    for i in range(len(drug_list)):\n",
    "        for each_feature in df[feature_name].iloc[i].split(\"|\"):\n",
    "            df_feature[each_feature].iloc[i] = 1\n",
    "\n",
    "    df_feature = np.array(df_feature)\n",
    "    if similarity == 'jaccard':\n",
    "        sim_matrix = np.array(Jaccard(df_feature))\n",
    "    elif similarity == 'cosine':\n",
    "        sim_matrix = Cosine(df_feature)\n",
    "    elif similarity == 'gaussian':\n",
    "        sim_matrix = Gaussian(df_feature)\n",
    "    else:\n",
    "        raise ValueError(\"Unknown similarity measure\")\n",
    "    \n",
    "    #print(feature_name + \" len is:\" + str(len(sim_matrix[0])))\n",
    "    return sim_matrix\n",
    "\n",
    "\n",
    "def prepare(df_drug, feature_list, mechanism, action, drugA, drugB, similarity='jaccard'):\n",
    "    d_label = {}\n",
    "    d_feature = {}\n",
    "\n",
    "    # Transfrom the interaction event to number\n",
    "    d_event = []\n",
    "    for i in range(len(mechanism)):\n",
    "        d_event.append(mechanism[i] + \" \" + action[i])\n",
    "\n",
    "    count = {}\n",
    "    for i in d_event:\n",
    "        if i in count:\n",
    "            count[i] += 1\n",
    "        else:\n",
    "            count[i] = 1\n",
    "    event_num = len(count)\n",
    "    list1 = sorted(count.items(), key=lambda x: x[1], reverse=True)\n",
    "    for i in range(len(list1)):\n",
    "        d_label[list1[i][0]] = i\n",
    "\n",
    "    vector = []\n",
    "    for i in feature_list:\n",
    "        #vector = np.hstack((vector, feature_vector(i, df_drug, vector_size)))\n",
    "        vector.append(feature_vector(i, df_drug, similarity))\n",
    "    vector = np.stack(vector, axis=-1)\n",
    "    # Transfrom the drug ID to feature vector\n",
    "    for i in range(len(np.array(df_drug[\"name\"]).tolist())):\n",
    "        d_feature[np.array(df_drug[\"name\"]).tolist()[i]] = vector[i]\n",
    "\n",
    "    # Use the dictionary to obtain feature vector and label\n",
    "    new_feature = []\n",
    "    new_label = []\n",
    "\n",
    "    for i in range(len(d_event)):\n",
    "        temp = np.concatenate([d_feature[drugA[i]][None], d_feature[drugB[i]][None]], axis=0)\n",
    "        new_feature.append(temp)\n",
    "        new_label.append(d_label[d_event[i]])\n",
    "\n",
    "    new_feature = np.array(new_feature)  # 323539*....\n",
    "    new_label = np.array(new_label)  # 323539\n",
    "\n",
    "    return new_feature, new_label, event_num\n",
    "\n",
    "\n",
    "df_drug = pd.read_csv(\"drug_features.csv\")\n",
    "extraction = pd.read_csv(\"extraction.csv\")\n",
    "mechanism = extraction[\"mechanism\"]\n",
    "action = extraction[\"action\"]\n",
    "drugA = extraction[\"drugA\"]\n",
    "drugB = extraction[\"drugB\"]\n",
    "feature_list = [\"pathway\", \"target\", \"enzyme\", \"category\"]\n",
    "new_feature, new_label, event_num = prepare(df_drug, feature_list, mechanism, action, drugA, drugB, similarity='gaussian')\n",
    "new_feature = torch.tensor(new_feature, dtype=torch.float32)"
   ]
  },
  {
   "cell_type": "code",
   "execution_count": 3,
   "metadata": {},
   "outputs": [
    {
     "name": "stderr",
     "output_type": "stream",
     "text": [
      "/tmp/ipykernel_235039/3982585584.py:3: UserWarning: To copy construct from a tensor, it is recommended to use sourceTensor.clone().detach() or sourceTensor.clone().detach().requires_grad_(True), rather than torch.tensor(sourceTensor).\n",
      "  self.features = torch.tensor(features, dtype=torch.float32)\n"
     ]
    }
   ],
   "source": [
    "\n",
    "class DrugInteractionDataset(Dataset):\n",
    "    def __init__(self, features, labels):\n",
    "        self.features = torch.tensor(features, dtype=torch.float32)\n",
    "        self.labels = torch.tensor(labels, dtype=torch.long)\n",
    "\n",
    "    def __len__(self):\n",
    "        return len(self.labels)\n",
    "\n",
    "    def __getitem__(self, index):\n",
    "        return self.features[index], self.labels[index]\n",
    "\n",
    "# Split the data into training and validation sets\n",
    "features_train, features_val, labels_train, labels_val = train_test_split(\n",
    "    new_feature, new_label, test_size=0.2, random_state=42\n",
    ")\n",
    "\n",
    "# Create dataset objects\n",
    "train_dataset = DrugInteractionDataset(features_train, labels_train)\n",
    "val_dataset = DrugInteractionDataset(features_val, labels_val)\n",
    "\n",
    "# Create data loaders\n",
    "batch_size = 32\n",
    "train_loader = DataLoader(train_dataset, batch_size=batch_size, shuffle=True)\n",
    "val_loader = DataLoader(val_dataset, batch_size=batch_size, shuffle=False)"
   ]
  },
  {
   "cell_type": "code",
   "execution_count": 4,
   "metadata": {},
   "outputs": [],
   "source": [
    "\n",
    "\n",
    "class CNNDDI(nn.Module):\n",
    "    def __init__(self, num_of_features=4):\n",
    "        super(CNNDDI, self).__init__()\n",
    "        self.conv1 = nn.Conv2d(2, 64, (3, 1), padding=(1, 0))\n",
    "        self.conv2 = nn.Conv2d(64, 128, (3, 1), padding=(1, 0))\n",
    "        self.conv3_1 = nn.Conv2d(128, 128, (3, 1), padding=(1, 0))\n",
    "        self.conv3_2 = nn.Conv2d(128, 128, (3, 1), padding=(1, 0))\n",
    "        self.conv4 = nn.Conv2d(128, 256, (3, 1), padding=(1, 0))\n",
    "        self.fc1 = nn.Linear(256 * 572 * num_of_features, 256)  # Adjust feature_size based on your input dimensions\n",
    "        self.fc2 = nn.Linear(256, 65)  # Assuming 65 DDI types\n",
    "\n",
    "    def forward(self, x):\n",
    "        x = F.leaky_relu(self.conv1(x), negative_slope=0.2)\n",
    "        x = F.leaky_relu(self.conv2(x), negative_slope=0.2)\n",
    "        identity = x\n",
    "        x = F.leaky_relu(self.conv3_1(x), negative_slope=0.2)\n",
    "        x = self.conv3_2(x)\n",
    "        x += identity\n",
    "        x = F.leaky_relu(x, negative_slope=0.2)\n",
    "        x = F.leaky_relu(self.conv4(x), negative_slope=0.2)\n",
    "        x = torch.flatten(x, 1)\n",
    "        x = F.leaky_relu(self.fc1(x), negative_slope=0.2)\n",
    "        x = self.fc2(x)\n",
    "        return x\n"
   ]
  },
  {
   "cell_type": "code",
   "execution_count": 5,
   "metadata": {},
   "outputs": [],
   "source": [
    "def train(model, device, train_loader, optimizer, criterion):\n",
    "    model.train()\n",
    "    total_loss = 0\n",
    "    for features, labels in train_loader:\n",
    "        features, labels = features.to(device), labels.to(device)\n",
    "        optimizer.zero_grad()\n",
    "        outputs = model(features)\n",
    "        loss = criterion(outputs, labels)\n",
    "        loss.backward()\n",
    "        optimizer.step()\n",
    "        total_loss += loss.item()\n",
    "    return total_loss / len(train_loader)\n",
    "\n",
    "def validate(model, device, val_loader, criterion):\n",
    "    model.eval()\n",
    "    total_loss = 0\n",
    "    correct = 0\n",
    "    total = 0\n",
    "    all_predicted = []\n",
    "    all_labels = []\n",
    "    all_probs = []\n",
    "\n",
    "    with torch.no_grad():\n",
    "        for features, labels in val_loader:\n",
    "            features, labels = features.to(device), labels.to(device)\n",
    "            outputs = model(features)\n",
    "            loss = criterion(outputs, labels)\n",
    "            total_loss += loss.item()\n",
    "            _, predicted = torch.max(outputs.data, 1)\n",
    "            correct += (predicted == labels).sum().item()\n",
    "            total += labels.size(0)\n",
    "            all_predicted.extend(predicted.cpu().numpy())\n",
    "            all_labels.extend(labels.cpu().numpy())\n",
    "            all_probs.extend(torch.nn.functional.softmax(outputs.data, 1).cpu().numpy())\n",
    "\n",
    "    all_predicted = np.array(all_predicted)\n",
    "    all_labels = np.array(all_labels)\n",
    "    all_probs = np.array(all_probs)\n",
    "\n",
    "    val_loss = total_loss / len(val_loader)\n",
    "    val_accuracy = correct / len(val_loader.dataset)\n",
    "    precision = precision_score(all_labels, all_predicted, average='macro',zero_division=0)\n",
    "    recall = recall_score(all_labels, all_predicted, average='macro',zero_division=0)\n",
    "    f1 = f1_score(all_labels, all_predicted, average='macro',zero_division=0)\n",
    "    roc_auc = roc_auc_score(label_binarize(all_labels, classes=range(65))[:,1], all_probs[:,1], multi_class='ovo', average='micro')\n",
    "    aupr = average_precision_score(label_binarize(all_labels, classes=range(65))[:,1], all_probs[:,1], average='micro')\n",
    "\n",
    "    return val_loss, val_accuracy, precision, recall, f1, roc_auc, aupr\n",
    "\n",
    "def save_checkpoint(model, optimizer, epoch, filename):\n",
    "    state = {\n",
    "        'epoch': epoch,\n",
    "        'state_dict': model.state_dict(),\n",
    "        'optimizer': optimizer.state_dict()\n",
    "    }\n",
    "    torch.save(state, filename)\n",
    "    print(f\"Saved checkpoint: {filename}\")\n",
    "\n"
   ]
  },
  {
   "cell_type": "code",
   "execution_count": 6,
   "metadata": {},
   "outputs": [],
   "source": [
    "class focal_loss(nn.Module):\n",
    "    def __init__(self, gamma=2):\n",
    "        super(focal_loss, self).__init__()\n",
    "        self.gamma = gamma\n",
    "\n",
    "    def forward(self, preds, labels):\n",
    "        labels = labels[..., None]\n",
    "\n",
    "        preds_logsoft = F.log_softmax(preds, dim=1)\n",
    "        preds_softmax = torch.exp(preds_logsoft)\n",
    "\n",
    "        preds_softmax = preds_softmax.gather(1, labels)\n",
    "        preds_logsoft = preds_logsoft.gather(1, labels)\n",
    "\n",
    "        loss = -torch.mul(torch.pow((1 - preds_softmax), self.gamma), preds_logsoft)\n",
    "\n",
    "        loss = loss.mean()\n",
    "\n",
    "        return loss"
   ]
  },
  {
   "cell_type": "code",
   "execution_count": 38,
   "metadata": {},
   "outputs": [
    {
     "name": "stderr",
     "output_type": "stream",
     "text": [
      "  2%|▏         | 1/50 [00:21<17:16, 21.15s/it]"
     ]
    },
    {
     "name": "stdout",
     "output_type": "stream",
     "text": [
      "Epoch 1, Train Loss: 0.8764, Validation Loss: 0.3628, Validation Accuracy: 0.7918\n"
     ]
    },
    {
     "name": "stderr",
     "output_type": "stream",
     "text": [
      "  4%|▍         | 2/50 [00:42<16:55, 21.16s/it]"
     ]
    },
    {
     "name": "stdout",
     "output_type": "stream",
     "text": [
      "Epoch 2, Train Loss: 0.2777, Validation Loss: 0.3381, Validation Accuracy: 0.8103\n"
     ]
    },
    {
     "name": "stderr",
     "output_type": "stream",
     "text": [
      "  6%|▌         | 3/50 [01:03<16:40, 21.28s/it]"
     ]
    },
    {
     "name": "stdout",
     "output_type": "stream",
     "text": [
      "Epoch 3, Train Loss: 0.2173, Validation Loss: 0.2545, Validation Accuracy: 0.8415\n"
     ]
    },
    {
     "name": "stderr",
     "output_type": "stream",
     "text": [
      "  8%|▊         | 4/50 [01:25<16:21, 21.34s/it]"
     ]
    },
    {
     "name": "stdout",
     "output_type": "stream",
     "text": [
      "Epoch 4, Train Loss: 0.1825, Validation Loss: 0.2843, Validation Accuracy: 0.8480\n"
     ]
    },
    {
     "name": "stderr",
     "output_type": "stream",
     "text": [
      " 10%|█         | 5/50 [01:46<15:56, 21.26s/it]"
     ]
    },
    {
     "name": "stdout",
     "output_type": "stream",
     "text": [
      "Epoch 5, Train Loss: 0.1802, Validation Loss: 0.3486, Validation Accuracy: 0.8111\n"
     ]
    },
    {
     "name": "stderr",
     "output_type": "stream",
     "text": [
      " 12%|█▏        | 6/50 [02:07<15:33, 21.21s/it]"
     ]
    },
    {
     "name": "stdout",
     "output_type": "stream",
     "text": [
      "Epoch 6, Train Loss: 0.1394, Validation Loss: 0.2700, Validation Accuracy: 0.8332\n"
     ]
    },
    {
     "name": "stderr",
     "output_type": "stream",
     "text": [
      " 14%|█▍        | 7/50 [02:28<15:09, 21.15s/it]"
     ]
    },
    {
     "name": "stdout",
     "output_type": "stream",
     "text": [
      "Epoch 7, Train Loss: 0.1302, Validation Loss: 0.2829, Validation Accuracy: 0.8444\n"
     ]
    },
    {
     "name": "stderr",
     "output_type": "stream",
     "text": [
      " 16%|█▌        | 8/50 [02:49<14:46, 21.12s/it]"
     ]
    },
    {
     "name": "stdout",
     "output_type": "stream",
     "text": [
      "Epoch 8, Train Loss: 0.1259, Validation Loss: 0.7220, Validation Accuracy: 0.7724\n"
     ]
    },
    {
     "name": "stderr",
     "output_type": "stream",
     "text": [
      " 18%|█▊        | 9/50 [03:10<14:25, 21.11s/it]"
     ]
    },
    {
     "name": "stdout",
     "output_type": "stream",
     "text": [
      "Epoch 9, Train Loss: 0.1296, Validation Loss: 0.2329, Validation Accuracy: 0.8791\n",
      "Epoch 10, Train Loss: 0.1721, Validation Loss: 0.3235, Validation Accuracy: 0.8584\n"
     ]
    },
    {
     "name": "stderr",
     "output_type": "stream",
     "text": [
      " 20%|██        | 10/50 [03:32<14:15, 21.38s/it]"
     ]
    },
    {
     "name": "stdout",
     "output_type": "stream",
     "text": [
      "Saved checkpoint: checkpoints/cnn_ddi_epoch_10.pt\n"
     ]
    },
    {
     "name": "stderr",
     "output_type": "stream",
     "text": [
      " 22%|██▏       | 11/50 [03:53<13:49, 21.28s/it]"
     ]
    },
    {
     "name": "stdout",
     "output_type": "stream",
     "text": [
      "Epoch 11, Train Loss: 0.0829, Validation Loss: 0.2793, Validation Accuracy: 0.8642\n"
     ]
    },
    {
     "name": "stderr",
     "output_type": "stream",
     "text": [
      " 24%|██▍       | 12/50 [04:14<13:24, 21.16s/it]"
     ]
    },
    {
     "name": "stdout",
     "output_type": "stream",
     "text": [
      "Epoch 12, Train Loss: 0.0824, Validation Loss: 0.3565, Validation Accuracy: 0.8449\n"
     ]
    },
    {
     "name": "stderr",
     "output_type": "stream",
     "text": [
      " 26%|██▌       | 13/50 [04:35<12:59, 21.08s/it]"
     ]
    },
    {
     "name": "stdout",
     "output_type": "stream",
     "text": [
      "Epoch 13, Train Loss: 0.1575, Validation Loss: 0.2600, Validation Accuracy: 0.8799\n"
     ]
    },
    {
     "name": "stderr",
     "output_type": "stream",
     "text": [
      " 28%|██▊       | 14/50 [04:56<12:37, 21.03s/it]"
     ]
    },
    {
     "name": "stdout",
     "output_type": "stream",
     "text": [
      "Epoch 14, Train Loss: 0.0683, Validation Loss: 0.4144, Validation Accuracy: 0.8617\n"
     ]
    },
    {
     "name": "stderr",
     "output_type": "stream",
     "text": [
      " 30%|███       | 15/50 [05:17<12:18, 21.11s/it]"
     ]
    },
    {
     "name": "stdout",
     "output_type": "stream",
     "text": [
      "Epoch 15, Train Loss: 0.1668, Validation Loss: 0.2761, Validation Accuracy: 0.8830\n"
     ]
    },
    {
     "name": "stderr",
     "output_type": "stream",
     "text": [
      " 32%|███▏      | 16/50 [05:38<11:59, 21.16s/it]"
     ]
    },
    {
     "name": "stdout",
     "output_type": "stream",
     "text": [
      "Epoch 16, Train Loss: 0.0571, Validation Loss: 0.5085, Validation Accuracy: 0.8504\n"
     ]
    },
    {
     "name": "stderr",
     "output_type": "stream",
     "text": [
      " 34%|███▍      | 17/50 [06:00<11:39, 21.21s/it]"
     ]
    },
    {
     "name": "stdout",
     "output_type": "stream",
     "text": [
      "Epoch 17, Train Loss: 0.2301, Validation Loss: 0.3286, Validation Accuracy: 0.8904\n"
     ]
    },
    {
     "name": "stderr",
     "output_type": "stream",
     "text": [
      " 36%|███▌      | 18/50 [06:21<11:19, 21.24s/it]"
     ]
    },
    {
     "name": "stdout",
     "output_type": "stream",
     "text": [
      "Epoch 18, Train Loss: 0.0273, Validation Loss: 0.3865, Validation Accuracy: 0.8948\n"
     ]
    },
    {
     "name": "stderr",
     "output_type": "stream",
     "text": [
      " 38%|███▊      | 19/50 [06:42<10:57, 21.22s/it]"
     ]
    },
    {
     "name": "stdout",
     "output_type": "stream",
     "text": [
      "Epoch 19, Train Loss: 0.1896, Validation Loss: 0.3755, Validation Accuracy: 0.8772\n",
      "Epoch 20, Train Loss: 0.0736, Validation Loss: 0.5849, Validation Accuracy: 0.8524\n"
     ]
    },
    {
     "name": "stderr",
     "output_type": "stream",
     "text": [
      " 40%|████      | 20/50 [07:04<10:43, 21.46s/it]"
     ]
    },
    {
     "name": "stdout",
     "output_type": "stream",
     "text": [
      "Saved checkpoint: checkpoints/cnn_ddi_epoch_20.pt\n"
     ]
    },
    {
     "name": "stderr",
     "output_type": "stream",
     "text": [
      " 42%|████▏     | 21/50 [07:26<10:21, 21.44s/it]"
     ]
    },
    {
     "name": "stdout",
     "output_type": "stream",
     "text": [
      "Epoch 21, Train Loss: 0.1162, Validation Loss: 0.5393, Validation Accuracy: 0.8696\n"
     ]
    },
    {
     "name": "stderr",
     "output_type": "stream",
     "text": [
      " 44%|████▍     | 22/50 [07:47<10:02, 21.51s/it]"
     ]
    },
    {
     "name": "stdout",
     "output_type": "stream",
     "text": [
      "Epoch 22, Train Loss: 0.1656, Validation Loss: 1.9225, Validation Accuracy: 0.8199\n"
     ]
    },
    {
     "name": "stderr",
     "output_type": "stream",
     "text": [
      " 46%|████▌     | 23/50 [08:09<09:41, 21.52s/it]"
     ]
    },
    {
     "name": "stdout",
     "output_type": "stream",
     "text": [
      "Epoch 23, Train Loss: 0.1321, Validation Loss: 0.4515, Validation Accuracy: 0.8943\n"
     ]
    },
    {
     "name": "stderr",
     "output_type": "stream",
     "text": [
      " 48%|████▊     | 24/50 [08:30<09:19, 21.51s/it]"
     ]
    },
    {
     "name": "stdout",
     "output_type": "stream",
     "text": [
      "Epoch 24, Train Loss: 0.0484, Validation Loss: 0.5903, Validation Accuracy: 0.8609\n"
     ]
    },
    {
     "name": "stderr",
     "output_type": "stream",
     "text": [
      " 50%|█████     | 25/50 [08:52<08:59, 21.56s/it]"
     ]
    },
    {
     "name": "stdout",
     "output_type": "stream",
     "text": [
      "Epoch 25, Train Loss: 0.3441, Validation Loss: 0.7192, Validation Accuracy: 0.8810\n"
     ]
    },
    {
     "name": "stderr",
     "output_type": "stream",
     "text": [
      " 52%|█████▏    | 26/50 [09:14<08:37, 21.58s/it]"
     ]
    },
    {
     "name": "stdout",
     "output_type": "stream",
     "text": [
      "Epoch 26, Train Loss: 0.0449, Validation Loss: 0.6276, Validation Accuracy: 0.8878\n"
     ]
    },
    {
     "name": "stderr",
     "output_type": "stream",
     "text": [
      " 54%|█████▍    | 27/50 [09:35<08:14, 21.51s/it]"
     ]
    },
    {
     "name": "stdout",
     "output_type": "stream",
     "text": [
      "Epoch 27, Train Loss: 0.1506, Validation Loss: 1.3008, Validation Accuracy: 0.8638\n"
     ]
    },
    {
     "name": "stderr",
     "output_type": "stream",
     "text": [
      " 56%|█████▌    | 28/50 [09:56<07:51, 21.41s/it]"
     ]
    },
    {
     "name": "stdout",
     "output_type": "stream",
     "text": [
      "Epoch 28, Train Loss: 0.1009, Validation Loss: 0.6668, Validation Accuracy: 0.8878\n"
     ]
    },
    {
     "name": "stderr",
     "output_type": "stream",
     "text": [
      " 58%|█████▊    | 29/50 [10:17<07:28, 21.35s/it]"
     ]
    },
    {
     "name": "stdout",
     "output_type": "stream",
     "text": [
      "Epoch 29, Train Loss: 0.1041, Validation Loss: 1.5599, Validation Accuracy: 0.8760\n",
      "Epoch 30, Train Loss: 0.1621, Validation Loss: 0.7454, Validation Accuracy: 0.8979\n"
     ]
    },
    {
     "name": "stderr",
     "output_type": "stream",
     "text": [
      " 60%|██████    | 30/50 [10:39<07:11, 21.55s/it]"
     ]
    },
    {
     "name": "stdout",
     "output_type": "stream",
     "text": [
      "Saved checkpoint: checkpoints/cnn_ddi_epoch_30.pt\n"
     ]
    },
    {
     "name": "stderr",
     "output_type": "stream",
     "text": [
      " 62%|██████▏   | 31/50 [11:01<06:47, 21.43s/it]"
     ]
    },
    {
     "name": "stdout",
     "output_type": "stream",
     "text": [
      "Epoch 31, Train Loss: 1.8079, Validation Loss: 3.4827, Validation Accuracy: 0.8606\n"
     ]
    },
    {
     "name": "stderr",
     "output_type": "stream",
     "text": [
      " 64%|██████▍   | 32/50 [11:23<06:28, 21.61s/it]"
     ]
    },
    {
     "name": "stdout",
     "output_type": "stream",
     "text": [
      "Epoch 32, Train Loss: 0.2704, Validation Loss: 1.3963, Validation Accuracy: 0.8874\n"
     ]
    },
    {
     "name": "stderr",
     "output_type": "stream",
     "text": [
      " 66%|██████▌   | 33/50 [11:44<06:08, 21.68s/it]"
     ]
    },
    {
     "name": "stdout",
     "output_type": "stream",
     "text": [
      "Epoch 33, Train Loss: 0.0645, Validation Loss: 1.8864, Validation Accuracy: 0.8949\n"
     ]
    },
    {
     "name": "stderr",
     "output_type": "stream",
     "text": [
      " 68%|██████▊   | 34/50 [12:06<05:44, 21.54s/it]"
     ]
    },
    {
     "name": "stdout",
     "output_type": "stream",
     "text": [
      "Epoch 34, Train Loss: 0.1498, Validation Loss: 1.7150, Validation Accuracy: 0.8868\n"
     ]
    },
    {
     "name": "stderr",
     "output_type": "stream",
     "text": [
      " 70%|███████   | 35/50 [12:27<05:21, 21.46s/it]"
     ]
    },
    {
     "name": "stdout",
     "output_type": "stream",
     "text": [
      "Epoch 35, Train Loss: 0.1347, Validation Loss: 1.8790, Validation Accuracy: 0.8929\n"
     ]
    },
    {
     "name": "stderr",
     "output_type": "stream",
     "text": [
      " 72%|███████▏  | 36/50 [12:48<04:58, 21.35s/it]"
     ]
    },
    {
     "name": "stdout",
     "output_type": "stream",
     "text": [
      "Epoch 36, Train Loss: 0.3852, Validation Loss: 3.6643, Validation Accuracy: 0.8473\n"
     ]
    },
    {
     "name": "stderr",
     "output_type": "stream",
     "text": [
      " 74%|███████▍  | 37/50 [13:09<04:38, 21.39s/it]"
     ]
    },
    {
     "name": "stdout",
     "output_type": "stream",
     "text": [
      "Epoch 37, Train Loss: 0.2350, Validation Loss: 1.4745, Validation Accuracy: 0.8945\n"
     ]
    },
    {
     "name": "stderr",
     "output_type": "stream",
     "text": [
      " 76%|███████▌  | 38/50 [13:31<04:16, 21.38s/it]"
     ]
    },
    {
     "name": "stdout",
     "output_type": "stream",
     "text": [
      "Epoch 38, Train Loss: 0.0951, Validation Loss: 1.3499, Validation Accuracy: 0.9035\n"
     ]
    },
    {
     "name": "stderr",
     "output_type": "stream",
     "text": [
      " 78%|███████▊  | 39/50 [13:52<03:55, 21.38s/it]"
     ]
    },
    {
     "name": "stdout",
     "output_type": "stream",
     "text": [
      "Epoch 39, Train Loss: 0.2292, Validation Loss: 1.7378, Validation Accuracy: 0.8943\n",
      "Epoch 40, Train Loss: 0.1413, Validation Loss: 1.7385, Validation Accuracy: 0.8860\n"
     ]
    },
    {
     "name": "stderr",
     "output_type": "stream",
     "text": [
      " 80%|████████  | 40/50 [14:14<03:35, 21.59s/it]"
     ]
    },
    {
     "name": "stdout",
     "output_type": "stream",
     "text": [
      "Saved checkpoint: checkpoints/cnn_ddi_epoch_40.pt\n"
     ]
    },
    {
     "name": "stderr",
     "output_type": "stream",
     "text": [
      " 82%|████████▏ | 41/50 [14:36<03:13, 21.52s/it]"
     ]
    },
    {
     "name": "stdout",
     "output_type": "stream",
     "text": [
      "Epoch 41, Train Loss: 0.2066, Validation Loss: 2.9963, Validation Accuracy: 0.8704\n"
     ]
    },
    {
     "name": "stderr",
     "output_type": "stream",
     "text": [
      " 84%|████████▍ | 42/50 [14:57<02:51, 21.40s/it]"
     ]
    },
    {
     "name": "stdout",
     "output_type": "stream",
     "text": [
      "Epoch 42, Train Loss: 0.1928, Validation Loss: 2.5624, Validation Accuracy: 0.8849\n"
     ]
    },
    {
     "name": "stderr",
     "output_type": "stream",
     "text": [
      " 86%|████████▌ | 43/50 [15:18<02:29, 21.33s/it]"
     ]
    },
    {
     "name": "stdout",
     "output_type": "stream",
     "text": [
      "Epoch 43, Train Loss: 0.2186, Validation Loss: 2.3761, Validation Accuracy: 0.8835\n"
     ]
    },
    {
     "name": "stderr",
     "output_type": "stream",
     "text": [
      " 88%|████████▊ | 44/50 [15:39<02:08, 21.39s/it]"
     ]
    },
    {
     "name": "stdout",
     "output_type": "stream",
     "text": [
      "Epoch 44, Train Loss: 0.1952, Validation Loss: 3.4227, Validation Accuracy: 0.8682\n"
     ]
    },
    {
     "name": "stderr",
     "output_type": "stream",
     "text": [
      " 90%|█████████ | 45/50 [16:01<01:47, 21.42s/it]"
     ]
    },
    {
     "name": "stdout",
     "output_type": "stream",
     "text": [
      "Epoch 45, Train Loss: 0.1683, Validation Loss: 1.7532, Validation Accuracy: 0.8894\n"
     ]
    },
    {
     "name": "stderr",
     "output_type": "stream",
     "text": [
      " 92%|█████████▏| 46/50 [16:22<01:25, 21.41s/it]"
     ]
    },
    {
     "name": "stdout",
     "output_type": "stream",
     "text": [
      "Epoch 46, Train Loss: 0.1699, Validation Loss: 3.0286, Validation Accuracy: 0.8941\n"
     ]
    },
    {
     "name": "stderr",
     "output_type": "stream",
     "text": [
      " 94%|█████████▍| 47/50 [16:44<01:04, 21.38s/it]"
     ]
    },
    {
     "name": "stdout",
     "output_type": "stream",
     "text": [
      "Epoch 47, Train Loss: 0.3965, Validation Loss: 2.1042, Validation Accuracy: 0.8982\n"
     ]
    },
    {
     "name": "stderr",
     "output_type": "stream",
     "text": [
      " 96%|█████████▌| 48/50 [17:05<00:42, 21.37s/it]"
     ]
    },
    {
     "name": "stdout",
     "output_type": "stream",
     "text": [
      "Epoch 48, Train Loss: 0.0912, Validation Loss: 2.0154, Validation Accuracy: 0.8968\n"
     ]
    },
    {
     "name": "stderr",
     "output_type": "stream",
     "text": [
      " 98%|█████████▊| 49/50 [17:26<00:21, 21.35s/it]"
     ]
    },
    {
     "name": "stdout",
     "output_type": "stream",
     "text": [
      "Epoch 49, Train Loss: 0.2051, Validation Loss: 2.6824, Validation Accuracy: 0.9033\n",
      "Epoch 50, Train Loss: 0.2484, Validation Loss: 2.6757, Validation Accuracy: 0.8936\n"
     ]
    },
    {
     "name": "stderr",
     "output_type": "stream",
     "text": [
      "100%|██████████| 50/50 [17:49<00:00, 21.38s/it]"
     ]
    },
    {
     "name": "stdout",
     "output_type": "stream",
     "text": [
      "Saved checkpoint: checkpoints/cnn_ddi_epoch_50.pt\n"
     ]
    },
    {
     "name": "stderr",
     "output_type": "stream",
     "text": [
      "\n"
     ]
    }
   ],
   "source": [
    "device = torch.device(\"cuda\" if torch.cuda.is_available() else \"cpu\")\n",
    "model = CNNDDI().to(device)\n",
    "optimizer = optim.Adam(model.parameters(), lr=0.001)\n",
    "criterion = focal_loss()\n",
    "\n",
    "num_epochs = 50\n",
    "checkpoint_interval = 10\n",
    "for epoch in tqdm(range(num_epochs)):\n",
    "    train_loss = train(model, device, train_loader, optimizer, criterion)\n",
    "    val_loss, val_accuracy, precision, recall, f1, roc_auc, aupr = validate(model, device, val_loader, criterion)\n",
    "    print(f'Epoch {epoch+1}, Train Loss: {train_loss:.4f}, Validation Loss: {val_loss:.4f}, Validation Accuracy: {val_accuracy:.4f}, Precision: {precision:.4f}, recall: {recall:.4f}, F1: {f1:.4f}, AUC: {roc_auc:.4f}, AUPR: {aupr:.4f}')\n",
    "\n",
    "    if (epoch + 1) % checkpoint_interval == 0 or (epoch + 1) == num_epochs:\n",
    "        save_checkpoint(model, optimizer, epoch + 1, f'checkpoints/cnn_ddi_epoch_{epoch+1}.pt')\n"
   ]
  },
  {
   "cell_type": "code",
   "execution_count": 4,
   "metadata": {},
   "outputs": [
    {
     "name": "stderr",
     "output_type": "stream",
     "text": [
      "Downloading: \"https://huggingface.co/conrevo/CS598-CNN-DDI/resolve/main/cnn_ddi_epoch_50.pt\" to checkpoints/cnn_ddi_epoch_50.pt\n",
      "100%|██████████| 1.68G/1.68G [00:27<00:00, 66.1MB/s]\n"
     ]
    },
    {
     "data": {
      "text/plain": [
       "<All keys matched successfully>"
      ]
     },
     "execution_count": 4,
     "metadata": {},
     "output_type": "execute_result"
    }
   ],
   "source": [
    "cnn_ddi = CNNDDI()\n",
    "state_dict = torch.hub.load_state_dict_from_url(\"https://huggingface.co/conrevo/CS598-CNN-DDI/resolve/main/cnn_ddi_epoch_50.pt\", model_dir=\"checkpoints\")\n",
    "cnn_ddi.load_state_dict(state_dict[\"state_dict\"])"
   ]
  },
  {
   "cell_type": "code",
   "execution_count": 17,
   "metadata": {},
   "outputs": [
    {
     "name": "stdout",
     "output_type": "stream",
     "text": [
      "Similarity measure: jaccard\n"
     ]
    },
    {
     "name": "stderr",
     "output_type": "stream",
     "text": [
      "/tmp/ipykernel_21746/3982585584.py:3: UserWarning: To copy construct from a tensor, it is recommended to use sourceTensor.clone().detach() or sourceTensor.clone().detach().requires_grad_(True), rather than torch.tensor(sourceTensor).\n",
      "  self.features = torch.tensor(features, dtype=torch.float32)\n",
      "/home/conrevo/miniconda3/lib/python3.11/site-packages/tqdm/auto.py:21: TqdmWarning: IProgress not found. Please update jupyter and ipywidgets. See https://ipywidgets.readthedocs.io/en/stable/user_install.html\n",
      "  from .autonotebook import tqdm as notebook_tqdm\n",
      "  2%|▏         | 1/50 [00:21<17:34, 21.51s/it]"
     ]
    },
    {
     "name": "stdout",
     "output_type": "stream",
     "text": [
      "Epoch 1, Train Loss: 0.8044, Validation Loss: 0.3486, Validation Accuracy: 0.8075, Precision: 0.6085, recall: 0.5005, F1: 0.5152, AUC: 0.9639, AUPR: 0.9150\n"
     ]
    },
    {
     "name": "stderr",
     "output_type": "stream",
     "text": [
      "  4%|▍         | 2/50 [00:42<17:05, 21.37s/it]"
     ]
    },
    {
     "name": "stdout",
     "output_type": "stream",
     "text": [
      "Epoch 2, Train Loss: 0.2814, Validation Loss: 0.2822, Validation Accuracy: 0.8320, Precision: 0.7437, recall: 0.6746, F1: 0.6713, AUC: 0.9751, AUPR: 0.9402\n"
     ]
    },
    {
     "name": "stderr",
     "output_type": "stream",
     "text": [
      "  6%|▌         | 3/50 [01:04<16:41, 21.31s/it]"
     ]
    },
    {
     "name": "stdout",
     "output_type": "stream",
     "text": [
      "Epoch 3, Train Loss: 0.2236, Validation Loss: 0.2630, Validation Accuracy: 0.8406, Precision: 0.7344, recall: 0.7242, F1: 0.6901, AUC: 0.9774, AUPR: 0.9455\n"
     ]
    },
    {
     "name": "stderr",
     "output_type": "stream",
     "text": [
      "  8%|▊         | 4/50 [01:25<16:20, 21.32s/it]"
     ]
    },
    {
     "name": "stdout",
     "output_type": "stream",
     "text": [
      "Epoch 4, Train Loss: 0.1733, Validation Loss: 0.2487, Validation Accuracy: 0.8454, Precision: 0.7873, recall: 0.6675, F1: 0.6941, AUC: 0.9787, AUPR: 0.9460\n"
     ]
    },
    {
     "name": "stderr",
     "output_type": "stream",
     "text": [
      " 10%|█         | 5/50 [01:46<15:59, 21.33s/it]"
     ]
    },
    {
     "name": "stdout",
     "output_type": "stream",
     "text": [
      "Epoch 5, Train Loss: 0.1644, Validation Loss: 0.2551, Validation Accuracy: 0.8517, Precision: 0.8125, recall: 0.6959, F1: 0.7207, AUC: 0.9836, AUPR: 0.9590\n"
     ]
    },
    {
     "name": "stderr",
     "output_type": "stream",
     "text": [
      " 12%|█▏        | 6/50 [02:07<15:34, 21.23s/it]"
     ]
    },
    {
     "name": "stdout",
     "output_type": "stream",
     "text": [
      "Epoch 6, Train Loss: 0.1365, Validation Loss: 0.2413, Validation Accuracy: 0.8555, Precision: 0.7963, recall: 0.6882, F1: 0.7041, AUC: 0.9837, AUPR: 0.9596\n"
     ]
    },
    {
     "name": "stderr",
     "output_type": "stream",
     "text": [
      " 14%|█▍        | 7/50 [02:28<15:10, 21.16s/it]"
     ]
    },
    {
     "name": "stdout",
     "output_type": "stream",
     "text": [
      "Epoch 7, Train Loss: 0.1526, Validation Loss: 0.4322, Validation Accuracy: 0.8181, Precision: 0.7092, recall: 0.8014, F1: 0.7155, AUC: 0.9713, AUPR: 0.9405\n"
     ]
    },
    {
     "name": "stderr",
     "output_type": "stream",
     "text": [
      " 16%|█▌        | 8/50 [02:49<14:47, 21.12s/it]"
     ]
    },
    {
     "name": "stdout",
     "output_type": "stream",
     "text": [
      "Epoch 8, Train Loss: 0.1341, Validation Loss: 0.2111, Validation Accuracy: 0.8819, Precision: 0.7856, recall: 0.7389, F1: 0.7387, AUC: 0.9888, AUPR: 0.9718\n"
     ]
    },
    {
     "name": "stderr",
     "output_type": "stream",
     "text": [
      " 18%|█▊        | 9/50 [03:10<14:24, 21.08s/it]"
     ]
    },
    {
     "name": "stdout",
     "output_type": "stream",
     "text": [
      "Epoch 9, Train Loss: 0.0978, Validation Loss: 0.3510, Validation Accuracy: 0.8437, Precision: 0.7449, recall: 0.6089, F1: 0.6431, AUC: 0.9819, AUPR: 0.9567\n",
      "Epoch 10, Train Loss: 0.1702, Validation Loss: 0.3869, Validation Accuracy: 0.8626, Precision: 0.7522, recall: 0.7522, F1: 0.7328, AUC: 0.9835, AUPR: 0.9572\n"
     ]
    },
    {
     "name": "stderr",
     "output_type": "stream",
     "text": [
      " 20%|██        | 10/50 [03:32<14:16, 21.42s/it]"
     ]
    },
    {
     "name": "stdout",
     "output_type": "stream",
     "text": [
      "Saved checkpoint: checkpoints/cnn_ddi_epoch_jaccard_10.pt\n"
     ]
    },
    {
     "name": "stderr",
     "output_type": "stream",
     "text": [
      " 22%|██▏       | 11/50 [03:54<13:58, 21.49s/it]"
     ]
    },
    {
     "name": "stdout",
     "output_type": "stream",
     "text": [
      "Epoch 11, Train Loss: 0.0790, Validation Loss: 0.3126, Validation Accuracy: 0.8694, Precision: 0.7908, recall: 0.7380, F1: 0.7395, AUC: 0.9863, AUPR: 0.9685\n"
     ]
    },
    {
     "name": "stderr",
     "output_type": "stream",
     "text": [
      " 24%|██▍       | 12/50 [04:16<13:40, 21.60s/it]"
     ]
    },
    {
     "name": "stdout",
     "output_type": "stream",
     "text": [
      "Epoch 12, Train Loss: 0.1810, Validation Loss: 0.2547, Validation Accuracy: 0.8874, Precision: 0.8016, recall: 0.7919, F1: 0.7783, AUC: 0.9902, AUPR: 0.9755\n"
     ]
    },
    {
     "name": "stderr",
     "output_type": "stream",
     "text": [
      " 26%|██▌       | 13/50 [04:38<13:25, 21.77s/it]"
     ]
    },
    {
     "name": "stdout",
     "output_type": "stream",
     "text": [
      "Epoch 13, Train Loss: 0.0507, Validation Loss: 0.2770, Validation Accuracy: 0.8929, Precision: 0.8270, recall: 0.7823, F1: 0.7946, AUC: 0.9899, AUPR: 0.9750\n"
     ]
    },
    {
     "name": "stderr",
     "output_type": "stream",
     "text": [
      " 28%|██▊       | 14/50 [05:01<13:10, 21.97s/it]"
     ]
    },
    {
     "name": "stdout",
     "output_type": "stream",
     "text": [
      "Epoch 14, Train Loss: 0.1988, Validation Loss: 0.5756, Validation Accuracy: 0.8433, Precision: 0.7449, recall: 0.7309, F1: 0.7059, AUC: 0.9798, AUPR: 0.9504\n"
     ]
    },
    {
     "name": "stderr",
     "output_type": "stream",
     "text": [
      " 30%|███       | 15/50 [05:22<12:46, 21.90s/it]"
     ]
    },
    {
     "name": "stdout",
     "output_type": "stream",
     "text": [
      "Epoch 15, Train Loss: 0.0862, Validation Loss: 0.2677, Validation Accuracy: 0.8809, Precision: 0.7725, recall: 0.7757, F1: 0.7426, AUC: 0.9884, AUPR: 0.9694\n"
     ]
    },
    {
     "name": "stderr",
     "output_type": "stream",
     "text": [
      " 32%|███▏      | 16/50 [05:44<12:18, 21.71s/it]"
     ]
    },
    {
     "name": "stdout",
     "output_type": "stream",
     "text": [
      "Epoch 16, Train Loss: 0.0502, Validation Loss: 0.3861, Validation Accuracy: 0.8747, Precision: 0.8268, recall: 0.7693, F1: 0.7784, AUC: 0.9892, AUPR: 0.9739\n"
     ]
    },
    {
     "name": "stderr",
     "output_type": "stream",
     "text": [
      " 34%|███▍      | 17/50 [06:05<11:52, 21.60s/it]"
     ]
    },
    {
     "name": "stdout",
     "output_type": "stream",
     "text": [
      "Epoch 17, Train Loss: 0.2131, Validation Loss: 0.2719, Validation Accuracy: 0.8864, Precision: 0.7874, recall: 0.7502, F1: 0.7521, AUC: 0.9900, AUPR: 0.9749\n"
     ]
    },
    {
     "name": "stderr",
     "output_type": "stream",
     "text": [
      " 36%|███▌      | 18/50 [06:26<11:29, 21.53s/it]"
     ]
    },
    {
     "name": "stdout",
     "output_type": "stream",
     "text": [
      "Epoch 18, Train Loss: 0.0393, Validation Loss: 0.4294, Validation Accuracy: 0.8749, Precision: 0.7466, recall: 0.7776, F1: 0.7346, AUC: 0.9855, AUPR: 0.9647\n"
     ]
    },
    {
     "name": "stderr",
     "output_type": "stream",
     "text": [
      " 38%|███▊      | 19/50 [06:48<11:05, 21.47s/it]"
     ]
    },
    {
     "name": "stdout",
     "output_type": "stream",
     "text": [
      "Epoch 19, Train Loss: 0.3000, Validation Loss: 0.4711, Validation Accuracy: 0.8885, Precision: 0.8013, recall: 0.7567, F1: 0.7638, AUC: 0.9887, AUPR: 0.9725\n",
      "Epoch 20, Train Loss: 0.0466, Validation Loss: 0.3919, Validation Accuracy: 0.8872, Precision: 0.8170, recall: 0.7915, F1: 0.7870, AUC: 0.9898, AUPR: 0.9736\n"
     ]
    },
    {
     "name": "stderr",
     "output_type": "stream",
     "text": [
      " 40%|████      | 20/50 [07:10<10:50, 21.67s/it]"
     ]
    },
    {
     "name": "stdout",
     "output_type": "stream",
     "text": [
      "Saved checkpoint: checkpoints/cnn_ddi_epoch_jaccard_20.pt\n"
     ]
    },
    {
     "name": "stderr",
     "output_type": "stream",
     "text": [
      " 42%|████▏     | 21/50 [07:31<10:27, 21.62s/it]"
     ]
    },
    {
     "name": "stdout",
     "output_type": "stream",
     "text": [
      "Epoch 21, Train Loss: 0.0609, Validation Loss: 0.5693, Validation Accuracy: 0.8678, Precision: 0.7798, recall: 0.7827, F1: 0.7585, AUC: 0.9876, AUPR: 0.9687\n"
     ]
    },
    {
     "name": "stderr",
     "output_type": "stream",
     "text": [
      " 44%|████▍     | 22/50 [07:53<10:03, 21.55s/it]"
     ]
    },
    {
     "name": "stdout",
     "output_type": "stream",
     "text": [
      "Epoch 22, Train Loss: 0.1240, Validation Loss: 0.6003, Validation Accuracy: 0.8485, Precision: 0.7615, recall: 0.6902, F1: 0.6967, AUC: 0.9863, AUPR: 0.9674\n"
     ]
    },
    {
     "name": "stderr",
     "output_type": "stream",
     "text": [
      " 46%|████▌     | 23/50 [08:14<09:39, 21.46s/it]"
     ]
    },
    {
     "name": "stdout",
     "output_type": "stream",
     "text": [
      "Epoch 23, Train Loss: 0.1786, Validation Loss: 0.6541, Validation Accuracy: 0.8771, Precision: 0.7859, recall: 0.6814, F1: 0.7044, AUC: 0.9890, AUPR: 0.9701\n"
     ]
    },
    {
     "name": "stderr",
     "output_type": "stream",
     "text": [
      " 48%|████▊     | 24/50 [08:35<09:16, 21.40s/it]"
     ]
    },
    {
     "name": "stdout",
     "output_type": "stream",
     "text": [
      "Epoch 24, Train Loss: 0.0940, Validation Loss: 0.7062, Validation Accuracy: 0.8779, Precision: 0.7978, recall: 0.7494, F1: 0.7504, AUC: 0.9869, AUPR: 0.9686\n"
     ]
    },
    {
     "name": "stderr",
     "output_type": "stream",
     "text": [
      " 50%|█████     | 25/50 [08:57<08:55, 21.40s/it]"
     ]
    },
    {
     "name": "stdout",
     "output_type": "stream",
     "text": [
      "Epoch 25, Train Loss: 0.0848, Validation Loss: 0.4934, Validation Accuracy: 0.8886, Precision: 0.8114, recall: 0.7618, F1: 0.7743, AUC: 0.9890, AUPR: 0.9743\n"
     ]
    },
    {
     "name": "stderr",
     "output_type": "stream",
     "text": [
      " 52%|█████▏    | 26/50 [09:18<08:32, 21.37s/it]"
     ]
    },
    {
     "name": "stdout",
     "output_type": "stream",
     "text": [
      "Epoch 26, Train Loss: 0.4687, Validation Loss: 0.7632, Validation Accuracy: 0.8813, Precision: 0.7673, recall: 0.7398, F1: 0.7377, AUC: 0.9898, AUPR: 0.9729\n"
     ]
    },
    {
     "name": "stderr",
     "output_type": "stream",
     "text": [
      " 54%|█████▍    | 27/50 [09:39<08:11, 21.36s/it]"
     ]
    },
    {
     "name": "stdout",
     "output_type": "stream",
     "text": [
      "Epoch 27, Train Loss: 0.0620, Validation Loss: 0.7241, Validation Accuracy: 0.8791, Precision: 0.7971, recall: 0.7040, F1: 0.7341, AUC: 0.9882, AUPR: 0.9656\n"
     ]
    },
    {
     "name": "stderr",
     "output_type": "stream",
     "text": [
      " 56%|█████▌    | 28/50 [10:00<07:48, 21.30s/it]"
     ]
    },
    {
     "name": "stdout",
     "output_type": "stream",
     "text": [
      "Epoch 28, Train Loss: 0.0894, Validation Loss: 1.0485, Validation Accuracy: 0.8784, Precision: 0.8135, recall: 0.7726, F1: 0.7782, AUC: 0.9870, AUPR: 0.9589\n"
     ]
    },
    {
     "name": "stderr",
     "output_type": "stream",
     "text": [
      " 58%|█████▊    | 29/50 [10:22<07:28, 21.34s/it]"
     ]
    },
    {
     "name": "stdout",
     "output_type": "stream",
     "text": [
      "Epoch 29, Train Loss: 0.0971, Validation Loss: 0.9074, Validation Accuracy: 0.8862, Precision: 0.7808, recall: 0.7406, F1: 0.7331, AUC: 0.9902, AUPR: 0.9745\n",
      "Epoch 30, Train Loss: 0.5353, Validation Loss: 1.2779, Validation Accuracy: 0.8811, Precision: 0.7851, recall: 0.7083, F1: 0.7305, AUC: 0.9873, AUPR: 0.9595\n"
     ]
    },
    {
     "name": "stderr",
     "output_type": "stream",
     "text": [
      " 60%|██████    | 30/50 [10:44<07:13, 21.66s/it]"
     ]
    },
    {
     "name": "stdout",
     "output_type": "stream",
     "text": [
      "Saved checkpoint: checkpoints/cnn_ddi_epoch_jaccard_30.pt\n"
     ]
    },
    {
     "name": "stderr",
     "output_type": "stream",
     "text": [
      " 62%|██████▏   | 31/50 [11:05<06:48, 21.50s/it]"
     ]
    },
    {
     "name": "stdout",
     "output_type": "stream",
     "text": [
      "Epoch 31, Train Loss: 0.0857, Validation Loss: 0.8111, Validation Accuracy: 0.8906, Precision: 0.8032, recall: 0.7946, F1: 0.7925, AUC: 0.9909, AUPR: 0.9736\n"
     ]
    },
    {
     "name": "stderr",
     "output_type": "stream",
     "text": [
      " 64%|██████▍   | 32/50 [11:27<06:27, 21.55s/it]"
     ]
    },
    {
     "name": "stdout",
     "output_type": "stream",
     "text": [
      "Epoch 32, Train Loss: 0.0692, Validation Loss: 0.8727, Validation Accuracy: 0.8931, Precision: 0.8034, recall: 0.7806, F1: 0.7808, AUC: 0.9906, AUPR: 0.9713\n"
     ]
    },
    {
     "name": "stderr",
     "output_type": "stream",
     "text": [
      " 66%|██████▌   | 33/50 [11:48<06:05, 21.48s/it]"
     ]
    },
    {
     "name": "stdout",
     "output_type": "stream",
     "text": [
      "Epoch 33, Train Loss: 0.1653, Validation Loss: 1.2339, Validation Accuracy: 0.8806, Precision: 0.8245, recall: 0.7805, F1: 0.7915, AUC: 0.9883, AUPR: 0.9617\n"
     ]
    },
    {
     "name": "stderr",
     "output_type": "stream",
     "text": [
      " 68%|██████▊   | 34/50 [12:10<05:42, 21.39s/it]"
     ]
    },
    {
     "name": "stdout",
     "output_type": "stream",
     "text": [
      "Epoch 34, Train Loss: 0.1017, Validation Loss: 1.1309, Validation Accuracy: 0.8572, Precision: 0.7017, recall: 0.8005, F1: 0.7212, AUC: 0.9853, AUPR: 0.9606\n"
     ]
    },
    {
     "name": "stderr",
     "output_type": "stream",
     "text": [
      " 70%|███████   | 35/50 [12:31<05:19, 21.33s/it]"
     ]
    },
    {
     "name": "stdout",
     "output_type": "stream",
     "text": [
      "Epoch 35, Train Loss: 0.2009, Validation Loss: 1.0915, Validation Accuracy: 0.8900, Precision: 0.8211, recall: 0.7812, F1: 0.7821, AUC: 0.9896, AUPR: 0.9679\n"
     ]
    },
    {
     "name": "stderr",
     "output_type": "stream",
     "text": [
      " 72%|███████▏  | 36/50 [12:52<04:58, 21.33s/it]"
     ]
    },
    {
     "name": "stdout",
     "output_type": "stream",
     "text": [
      "Epoch 36, Train Loss: 0.1212, Validation Loss: 1.7797, Validation Accuracy: 0.8861, Precision: 0.7765, recall: 0.7516, F1: 0.7511, AUC: 0.9879, AUPR: 0.9619\n"
     ]
    },
    {
     "name": "stderr",
     "output_type": "stream",
     "text": [
      " 74%|███████▍  | 37/50 [13:14<04:38, 21.40s/it]"
     ]
    },
    {
     "name": "stdout",
     "output_type": "stream",
     "text": [
      "Epoch 37, Train Loss: 0.2254, Validation Loss: 1.0673, Validation Accuracy: 0.8978, Precision: 0.7869, recall: 0.7595, F1: 0.7611, AUC: 0.9903, AUPR: 0.9723\n"
     ]
    },
    {
     "name": "stderr",
     "output_type": "stream",
     "text": [
      " 76%|███████▌  | 38/50 [13:35<04:15, 21.30s/it]"
     ]
    },
    {
     "name": "stdout",
     "output_type": "stream",
     "text": [
      "Epoch 38, Train Loss: 0.0642, Validation Loss: 0.9056, Validation Accuracy: 0.8932, Precision: 0.8001, recall: 0.7689, F1: 0.7674, AUC: 0.9908, AUPR: 0.9740\n"
     ]
    },
    {
     "name": "stderr",
     "output_type": "stream",
     "text": [
      " 78%|███████▊  | 39/50 [13:56<03:53, 21.23s/it]"
     ]
    },
    {
     "name": "stdout",
     "output_type": "stream",
     "text": [
      "Epoch 39, Train Loss: 0.4430, Validation Loss: 1.4108, Validation Accuracy: 0.8913, Precision: 0.7894, recall: 0.7934, F1: 0.7779, AUC: 0.9886, AUPR: 0.9647\n",
      "Epoch 40, Train Loss: 0.0731, Validation Loss: 1.4558, Validation Accuracy: 0.8843, Precision: 0.8079, recall: 0.7963, F1: 0.7863, AUC: 0.9893, AUPR: 0.9702\n"
     ]
    },
    {
     "name": "stderr",
     "output_type": "stream",
     "text": [
      " 80%|████████  | 40/50 [14:18<03:35, 21.54s/it]"
     ]
    },
    {
     "name": "stdout",
     "output_type": "stream",
     "text": [
      "Saved checkpoint: checkpoints/cnn_ddi_epoch_jaccard_40.pt\n"
     ]
    },
    {
     "name": "stderr",
     "output_type": "stream",
     "text": [
      " 82%|████████▏ | 41/50 [14:39<03:13, 21.46s/it]"
     ]
    },
    {
     "name": "stdout",
     "output_type": "stream",
     "text": [
      "Epoch 41, Train Loss: 0.1692, Validation Loss: 1.5827, Validation Accuracy: 0.8953, Precision: 0.8202, recall: 0.7885, F1: 0.7930, AUC: 0.9893, AUPR: 0.9649\n"
     ]
    },
    {
     "name": "stderr",
     "output_type": "stream",
     "text": [
      " 84%|████████▍ | 42/50 [15:00<02:51, 21.38s/it]"
     ]
    },
    {
     "name": "stdout",
     "output_type": "stream",
     "text": [
      "Epoch 42, Train Loss: 0.1080, Validation Loss: 1.6941, Validation Accuracy: 0.8817, Precision: 0.8459, recall: 0.8162, F1: 0.8122, AUC: 0.9871, AUPR: 0.9560\n"
     ]
    },
    {
     "name": "stderr",
     "output_type": "stream",
     "text": [
      " 86%|████████▌ | 43/50 [15:22<02:29, 21.34s/it]"
     ]
    },
    {
     "name": "stdout",
     "output_type": "stream",
     "text": [
      "Epoch 43, Train Loss: 0.2536, Validation Loss: 1.5595, Validation Accuracy: 0.8956, Precision: 0.8349, recall: 0.7712, F1: 0.7863, AUC: 0.9888, AUPR: 0.9659\n"
     ]
    },
    {
     "name": "stderr",
     "output_type": "stream",
     "text": [
      " 88%|████████▊ | 44/50 [15:43<02:08, 21.33s/it]"
     ]
    },
    {
     "name": "stdout",
     "output_type": "stream",
     "text": [
      "Epoch 44, Train Loss: 0.1212, Validation Loss: 3.4931, Validation Accuracy: 0.8414, Precision: 0.7733, recall: 0.6937, F1: 0.7112, AUC: 0.9801, AUPR: 0.9400\n"
     ]
    },
    {
     "name": "stderr",
     "output_type": "stream",
     "text": [
      " 90%|█████████ | 45/50 [16:05<01:47, 21.42s/it]"
     ]
    },
    {
     "name": "stdout",
     "output_type": "stream",
     "text": [
      "Epoch 45, Train Loss: 0.5155, Validation Loss: 2.0596, Validation Accuracy: 0.8983, Precision: 0.8028, recall: 0.8144, F1: 0.7978, AUC: 0.9898, AUPR: 0.9668\n"
     ]
    },
    {
     "name": "stderr",
     "output_type": "stream",
     "text": [
      " 92%|█████████▏| 46/50 [16:26<01:25, 21.39s/it]"
     ]
    },
    {
     "name": "stdout",
     "output_type": "stream",
     "text": [
      "Epoch 46, Train Loss: 0.0748, Validation Loss: 1.5092, Validation Accuracy: 0.8983, Precision: 0.8376, recall: 0.7716, F1: 0.7915, AUC: 0.9885, AUPR: 0.9631\n"
     ]
    },
    {
     "name": "stderr",
     "output_type": "stream",
     "text": [
      " 94%|█████████▍| 47/50 [16:47<01:04, 21.33s/it]"
     ]
    },
    {
     "name": "stdout",
     "output_type": "stream",
     "text": [
      "Epoch 47, Train Loss: 0.1204, Validation Loss: 2.0581, Validation Accuracy: 0.8909, Precision: 0.8302, recall: 0.7954, F1: 0.7941, AUC: 0.9890, AUPR: 0.9619\n"
     ]
    },
    {
     "name": "stderr",
     "output_type": "stream",
     "text": [
      " 96%|█████████▌| 48/50 [17:08<00:42, 21.30s/it]"
     ]
    },
    {
     "name": "stdout",
     "output_type": "stream",
     "text": [
      "Epoch 48, Train Loss: 0.2378, Validation Loss: 2.2655, Validation Accuracy: 0.8862, Precision: 0.7999, recall: 0.7778, F1: 0.7763, AUC: 0.9878, AUPR: 0.9573\n"
     ]
    },
    {
     "name": "stderr",
     "output_type": "stream",
     "text": [
      " 98%|█████████▊| 49/50 [17:30<00:21, 21.28s/it]"
     ]
    },
    {
     "name": "stdout",
     "output_type": "stream",
     "text": [
      "Epoch 49, Train Loss: 0.1513, Validation Loss: 2.5067, Validation Accuracy: 0.8877, Precision: 0.8149, recall: 0.7131, F1: 0.7351, AUC: 0.9883, AUPR: 0.9597\n",
      "Epoch 50, Train Loss: 0.2572, Validation Loss: 3.0106, Validation Accuracy: 0.8881, Precision: 0.8205, recall: 0.8336, F1: 0.8104, AUC: 0.9883, AUPR: 0.9571\n"
     ]
    },
    {
     "name": "stderr",
     "output_type": "stream",
     "text": [
      "100%|██████████| 50/50 [17:52<00:00, 21.44s/it]"
     ]
    },
    {
     "name": "stdout",
     "output_type": "stream",
     "text": [
      "Saved checkpoint: checkpoints/cnn_ddi_epoch_jaccard_50.pt\n",
      "Similarity measure: cosine\n"
     ]
    },
    {
     "name": "stderr",
     "output_type": "stream",
     "text": [
      "\n",
      "/tmp/ipykernel_21746/3982585584.py:3: UserWarning: To copy construct from a tensor, it is recommended to use sourceTensor.clone().detach() or sourceTensor.clone().detach().requires_grad_(True), rather than torch.tensor(sourceTensor).\n",
      "  self.features = torch.tensor(features, dtype=torch.float32)\n",
      "  2%|▏         | 1/50 [00:21<17:22, 21.28s/it]"
     ]
    },
    {
     "name": "stdout",
     "output_type": "stream",
     "text": [
      "Epoch 1, Train Loss: 0.8250, Validation Loss: 0.3770, Validation Accuracy: 0.7826, Precision: 0.6388, recall: 0.5192, F1: 0.5381, AUC: 0.9574, AUPR: 0.8960\n"
     ]
    },
    {
     "name": "stderr",
     "output_type": "stream",
     "text": [
      "  4%|▍         | 2/50 [00:42<17:04, 21.34s/it]"
     ]
    },
    {
     "name": "stdout",
     "output_type": "stream",
     "text": [
      "Epoch 2, Train Loss: 0.2964, Validation Loss: 0.3217, Validation Accuracy: 0.8034, Precision: 0.7036, recall: 0.6392, F1: 0.6297, AUC: 0.9684, AUPR: 0.9216\n"
     ]
    },
    {
     "name": "stderr",
     "output_type": "stream",
     "text": [
      "  6%|▌         | 3/50 [01:03<16:41, 21.31s/it]"
     ]
    },
    {
     "name": "stdout",
     "output_type": "stream",
     "text": [
      "Epoch 3, Train Loss: 0.2242, Validation Loss: 0.2403, Validation Accuracy: 0.8474, Precision: 0.7539, recall: 0.6861, F1: 0.6926, AUC: 0.9812, AUPR: 0.9505\n"
     ]
    },
    {
     "name": "stderr",
     "output_type": "stream",
     "text": [
      "  8%|▊         | 4/50 [01:25<16:18, 21.27s/it]"
     ]
    },
    {
     "name": "stdout",
     "output_type": "stream",
     "text": [
      "Epoch 4, Train Loss: 0.1747, Validation Loss: 0.3011, Validation Accuracy: 0.8406, Precision: 0.7112, recall: 0.7422, F1: 0.6995, AUC: 0.9763, AUPR: 0.9456\n"
     ]
    },
    {
     "name": "stderr",
     "output_type": "stream",
     "text": [
      " 10%|█         | 5/50 [01:46<15:56, 21.25s/it]"
     ]
    },
    {
     "name": "stdout",
     "output_type": "stream",
     "text": [
      "Epoch 5, Train Loss: 0.1754, Validation Loss: 0.2293, Validation Accuracy: 0.8637, Precision: 0.7907, recall: 0.7268, F1: 0.7213, AUC: 0.9850, AUPR: 0.9630\n"
     ]
    },
    {
     "name": "stderr",
     "output_type": "stream",
     "text": [
      " 12%|█▏        | 6/50 [02:07<15:35, 21.26s/it]"
     ]
    },
    {
     "name": "stdout",
     "output_type": "stream",
     "text": [
      "Epoch 6, Train Loss: 0.1289, Validation Loss: 0.2383, Validation Accuracy: 0.8548, Precision: 0.8073, recall: 0.6752, F1: 0.7094, AUC: 0.9811, AUPR: 0.9493\n"
     ]
    },
    {
     "name": "stderr",
     "output_type": "stream",
     "text": [
      " 14%|█▍        | 7/50 [02:28<15:14, 21.26s/it]"
     ]
    },
    {
     "name": "stdout",
     "output_type": "stream",
     "text": [
      "Epoch 7, Train Loss: 0.1298, Validation Loss: 0.2091, Validation Accuracy: 0.8712, Precision: 0.8413, recall: 0.7891, F1: 0.7936, AUC: 0.9878, AUPR: 0.9687\n"
     ]
    },
    {
     "name": "stderr",
     "output_type": "stream",
     "text": [
      " 16%|█▌        | 8/50 [02:50<14:52, 21.25s/it]"
     ]
    },
    {
     "name": "stdout",
     "output_type": "stream",
     "text": [
      "Epoch 8, Train Loss: 1.7071, Validation Loss: 0.3583, Validation Accuracy: 0.8512, Precision: 0.7884, recall: 0.6366, F1: 0.6751, AUC: 0.9841, AUPR: 0.9604\n"
     ]
    },
    {
     "name": "stderr",
     "output_type": "stream",
     "text": [
      " 18%|█▊        | 9/50 [03:11<14:31, 21.27s/it]"
     ]
    },
    {
     "name": "stdout",
     "output_type": "stream",
     "text": [
      "Epoch 9, Train Loss: 0.1169, Validation Loss: 0.2858, Validation Accuracy: 0.8861, Precision: 0.8363, recall: 0.7373, F1: 0.7632, AUC: 0.9885, AUPR: 0.9695\n",
      "Epoch 10, Train Loss: 0.1087, Validation Loss: 0.3389, Validation Accuracy: 0.8468, Precision: 0.7742, recall: 0.7490, F1: 0.7381, AUC: 0.9843, AUPR: 0.9617\n"
     ]
    },
    {
     "name": "stderr",
     "output_type": "stream",
     "text": [
      " 20%|██        | 10/50 [03:33<14:23, 21.60s/it]"
     ]
    },
    {
     "name": "stdout",
     "output_type": "stream",
     "text": [
      "Saved checkpoint: checkpoints/cnn_ddi_epoch_cosine_10.pt\n"
     ]
    },
    {
     "name": "stderr",
     "output_type": "stream",
     "text": [
      " 22%|██▏       | 11/50 [03:55<13:59, 21.53s/it]"
     ]
    },
    {
     "name": "stdout",
     "output_type": "stream",
     "text": [
      "Epoch 11, Train Loss: 0.1002, Validation Loss: 0.4890, Validation Accuracy: 0.8558, Precision: 0.7708, recall: 0.7585, F1: 0.7377, AUC: 0.9828, AUPR: 0.9576\n"
     ]
    },
    {
     "name": "stderr",
     "output_type": "stream",
     "text": [
      " 24%|██▍       | 12/50 [04:16<13:36, 21.49s/it]"
     ]
    },
    {
     "name": "stdout",
     "output_type": "stream",
     "text": [
      "Epoch 12, Train Loss: 0.1033, Validation Loss: 0.4697, Validation Accuracy: 0.8320, Precision: 0.7286, recall: 0.6894, F1: 0.6804, AUC: 0.9808, AUPR: 0.9545\n"
     ]
    },
    {
     "name": "stderr",
     "output_type": "stream",
     "text": [
      " 26%|██▌       | 13/50 [04:38<13:15, 21.49s/it]"
     ]
    },
    {
     "name": "stdout",
     "output_type": "stream",
     "text": [
      "Epoch 13, Train Loss: 0.1021, Validation Loss: 0.3359, Validation Accuracy: 0.8764, Precision: 0.7834, recall: 0.7532, F1: 0.7424, AUC: 0.9891, AUPR: 0.9731\n"
     ]
    },
    {
     "name": "stderr",
     "output_type": "stream",
     "text": [
      " 28%|██▊       | 14/50 [04:59<12:54, 21.50s/it]"
     ]
    },
    {
     "name": "stdout",
     "output_type": "stream",
     "text": [
      "Epoch 14, Train Loss: 0.1416, Validation Loss: 0.3719, Validation Accuracy: 0.8740, Precision: 0.7839, recall: 0.7356, F1: 0.7377, AUC: 0.9855, AUPR: 0.9633\n"
     ]
    },
    {
     "name": "stderr",
     "output_type": "stream",
     "text": [
      " 30%|███       | 15/50 [05:20<12:29, 21.42s/it]"
     ]
    },
    {
     "name": "stdout",
     "output_type": "stream",
     "text": [
      "Epoch 15, Train Loss: 0.0871, Validation Loss: 0.3901, Validation Accuracy: 0.8551, Precision: 0.7382, recall: 0.7786, F1: 0.7193, AUC: 0.9840, AUPR: 0.9588\n"
     ]
    },
    {
     "name": "stderr",
     "output_type": "stream",
     "text": [
      " 32%|███▏      | 16/50 [05:42<12:07, 21.39s/it]"
     ]
    },
    {
     "name": "stdout",
     "output_type": "stream",
     "text": [
      "Epoch 16, Train Loss: 0.1435, Validation Loss: 0.3497, Validation Accuracy: 0.8772, Precision: 0.7845, recall: 0.7898, F1: 0.7703, AUC: 0.9876, AUPR: 0.9671\n"
     ]
    },
    {
     "name": "stderr",
     "output_type": "stream",
     "text": [
      " 34%|███▍      | 17/50 [06:03<11:46, 21.41s/it]"
     ]
    },
    {
     "name": "stdout",
     "output_type": "stream",
     "text": [
      "Epoch 17, Train Loss: 0.0836, Validation Loss: 0.3795, Validation Accuracy: 0.8780, Precision: 0.7890, recall: 0.7988, F1: 0.7721, AUC: 0.9892, AUPR: 0.9743\n"
     ]
    },
    {
     "name": "stderr",
     "output_type": "stream",
     "text": [
      " 36%|███▌      | 18/50 [06:24<11:23, 21.35s/it]"
     ]
    },
    {
     "name": "stdout",
     "output_type": "stream",
     "text": [
      "Epoch 18, Train Loss: 1.0140, Validation Loss: 1.0904, Validation Accuracy: 0.8456, Precision: 0.6863, recall: 0.6679, F1: 0.6490, AUC: 0.9814, AUPR: 0.9513\n"
     ]
    },
    {
     "name": "stderr",
     "output_type": "stream",
     "text": [
      " 38%|███▊      | 19/50 [06:46<11:01, 21.33s/it]"
     ]
    },
    {
     "name": "stdout",
     "output_type": "stream",
     "text": [
      "Epoch 19, Train Loss: 0.1364, Validation Loss: 0.4436, Validation Accuracy: 0.8912, Precision: 0.7869, recall: 0.7523, F1: 0.7455, AUC: 0.9899, AUPR: 0.9742\n",
      "Epoch 20, Train Loss: 0.0660, Validation Loss: 0.4747, Validation Accuracy: 0.8809, Precision: 0.7656, recall: 0.8371, F1: 0.7680, AUC: 0.9881, AUPR: 0.9707\n"
     ]
    },
    {
     "name": "stderr",
     "output_type": "stream",
     "text": [
      " 40%|████      | 20/50 [07:08<10:49, 21.63s/it]"
     ]
    },
    {
     "name": "stdout",
     "output_type": "stream",
     "text": [
      "Saved checkpoint: checkpoints/cnn_ddi_epoch_cosine_20.pt\n"
     ]
    },
    {
     "name": "stderr",
     "output_type": "stream",
     "text": [
      " 42%|████▏     | 21/50 [07:29<10:26, 21.59s/it]"
     ]
    },
    {
     "name": "stdout",
     "output_type": "stream",
     "text": [
      "Epoch 21, Train Loss: 0.0996, Validation Loss: 0.5296, Validation Accuracy: 0.8874, Precision: 0.7929, recall: 0.7471, F1: 0.7480, AUC: 0.9889, AUPR: 0.9694\n"
     ]
    },
    {
     "name": "stderr",
     "output_type": "stream",
     "text": [
      " 44%|████▍     | 22/50 [07:51<10:03, 21.55s/it]"
     ]
    },
    {
     "name": "stdout",
     "output_type": "stream",
     "text": [
      "Epoch 22, Train Loss: 0.1043, Validation Loss: 0.6349, Validation Accuracy: 0.8649, Precision: 0.7280, recall: 0.7400, F1: 0.7096, AUC: 0.9861, AUPR: 0.9678\n"
     ]
    },
    {
     "name": "stderr",
     "output_type": "stream",
     "text": [
      " 46%|████▌     | 23/50 [08:13<09:44, 21.64s/it]"
     ]
    },
    {
     "name": "stdout",
     "output_type": "stream",
     "text": [
      "Epoch 23, Train Loss: 0.1166, Validation Loss: 0.4779, Validation Accuracy: 0.8896, Precision: 0.8227, recall: 0.8253, F1: 0.8087, AUC: 0.9897, AUPR: 0.9742\n"
     ]
    },
    {
     "name": "stderr",
     "output_type": "stream",
     "text": [
      " 48%|████▊     | 24/50 [08:35<09:27, 21.82s/it]"
     ]
    },
    {
     "name": "stdout",
     "output_type": "stream",
     "text": [
      "Epoch 24, Train Loss: 0.1453, Validation Loss: 0.6856, Validation Accuracy: 0.8866, Precision: 0.8302, recall: 0.7447, F1: 0.7690, AUC: 0.9892, AUPR: 0.9706\n"
     ]
    },
    {
     "name": "stderr",
     "output_type": "stream",
     "text": [
      " 50%|█████     | 25/50 [08:57<09:03, 21.75s/it]"
     ]
    },
    {
     "name": "stdout",
     "output_type": "stream",
     "text": [
      "Epoch 25, Train Loss: 0.0891, Validation Loss: 0.5109, Validation Accuracy: 0.8897, Precision: 0.8235, recall: 0.7939, F1: 0.7885, AUC: 0.9896, AUPR: 0.9739\n"
     ]
    },
    {
     "name": "stderr",
     "output_type": "stream",
     "text": [
      " 52%|█████▏    | 26/50 [09:18<08:38, 21.61s/it]"
     ]
    },
    {
     "name": "stdout",
     "output_type": "stream",
     "text": [
      "Epoch 26, Train Loss: 0.1854, Validation Loss: 0.7178, Validation Accuracy: 0.8622, Precision: 0.7460, recall: 0.7423, F1: 0.7170, AUC: 0.9880, AUPR: 0.9676\n"
     ]
    },
    {
     "name": "stderr",
     "output_type": "stream",
     "text": [
      " 54%|█████▍    | 27/50 [09:39<08:14, 21.50s/it]"
     ]
    },
    {
     "name": "stdout",
     "output_type": "stream",
     "text": [
      "Epoch 27, Train Loss: 0.0784, Validation Loss: 0.4621, Validation Accuracy: 0.8890, Precision: 0.8028, recall: 0.7882, F1: 0.7781, AUC: 0.9895, AUPR: 0.9745\n"
     ]
    },
    {
     "name": "stderr",
     "output_type": "stream",
     "text": [
      " 56%|█████▌    | 28/50 [10:00<07:51, 21.42s/it]"
     ]
    },
    {
     "name": "stdout",
     "output_type": "stream",
     "text": [
      "Epoch 28, Train Loss: 0.1494, Validation Loss: 1.0573, Validation Accuracy: 0.8678, Precision: 0.7834, recall: 0.7801, F1: 0.7594, AUC: 0.9853, AUPR: 0.9645\n"
     ]
    },
    {
     "name": "stderr",
     "output_type": "stream",
     "text": [
      " 58%|█████▊    | 29/50 [10:22<07:33, 21.61s/it]"
     ]
    },
    {
     "name": "stdout",
     "output_type": "stream",
     "text": [
      "Epoch 29, Train Loss: 0.0945, Validation Loss: 0.6090, Validation Accuracy: 0.8961, Precision: 0.7777, recall: 0.7378, F1: 0.7389, AUC: 0.9892, AUPR: 0.9723\n",
      "Epoch 30, Train Loss: 0.1709, Validation Loss: 0.8718, Validation Accuracy: 0.8535, Precision: 0.6962, recall: 0.6244, F1: 0.6333, AUC: 0.9847, AUPR: 0.9587\n"
     ]
    },
    {
     "name": "stderr",
     "output_type": "stream",
     "text": [
      " 60%|██████    | 30/50 [10:45<07:17, 21.87s/it]"
     ]
    },
    {
     "name": "stdout",
     "output_type": "stream",
     "text": [
      "Saved checkpoint: checkpoints/cnn_ddi_epoch_cosine_30.pt\n"
     ]
    },
    {
     "name": "stderr",
     "output_type": "stream",
     "text": [
      " 62%|██████▏   | 31/50 [11:06<06:53, 21.75s/it]"
     ]
    },
    {
     "name": "stdout",
     "output_type": "stream",
     "text": [
      "Epoch 31, Train Loss: 0.1214, Validation Loss: 0.7134, Validation Accuracy: 0.8913, Precision: 0.8048, recall: 0.8107, F1: 0.7975, AUC: 0.9904, AUPR: 0.9769\n"
     ]
    },
    {
     "name": "stderr",
     "output_type": "stream",
     "text": [
      " 64%|██████▍   | 32/50 [11:28<06:32, 21.82s/it]"
     ]
    },
    {
     "name": "stdout",
     "output_type": "stream",
     "text": [
      "Epoch 32, Train Loss: 0.1355, Validation Loss: 1.3272, Validation Accuracy: 0.8751, Precision: 0.7898, recall: 0.7617, F1: 0.7573, AUC: 0.9884, AUPR: 0.9606\n"
     ]
    },
    {
     "name": "stderr",
     "output_type": "stream",
     "text": [
      " 66%|██████▌   | 33/50 [11:50<06:08, 21.68s/it]"
     ]
    },
    {
     "name": "stdout",
     "output_type": "stream",
     "text": [
      "Epoch 33, Train Loss: 0.1011, Validation Loss: 0.7443, Validation Accuracy: 0.8880, Precision: 0.8031, recall: 0.7532, F1: 0.7685, AUC: 0.9896, AUPR: 0.9720\n"
     ]
    },
    {
     "name": "stderr",
     "output_type": "stream",
     "text": [
      " 68%|██████▊   | 34/50 [12:11<05:44, 21.56s/it]"
     ]
    },
    {
     "name": "stdout",
     "output_type": "stream",
     "text": [
      "Epoch 34, Train Loss: 1.1089, Validation Loss: 1.9251, Validation Accuracy: 0.8780, Precision: 0.7808, recall: 0.6913, F1: 0.7141, AUC: 0.9885, AUPR: 0.9618\n"
     ]
    },
    {
     "name": "stderr",
     "output_type": "stream",
     "text": [
      " 70%|███████   | 35/50 [12:32<05:21, 21.46s/it]"
     ]
    },
    {
     "name": "stdout",
     "output_type": "stream",
     "text": [
      "Epoch 35, Train Loss: 0.1397, Validation Loss: 1.2269, Validation Accuracy: 0.8999, Precision: 0.7726, recall: 0.7942, F1: 0.7710, AUC: 0.9910, AUPR: 0.9717\n"
     ]
    },
    {
     "name": "stderr",
     "output_type": "stream",
     "text": [
      " 72%|███████▏  | 36/50 [12:53<04:59, 21.39s/it]"
     ]
    },
    {
     "name": "stdout",
     "output_type": "stream",
     "text": [
      "Epoch 36, Train Loss: 0.0629, Validation Loss: 1.2983, Validation Accuracy: 0.9046, Precision: 0.7928, recall: 0.7885, F1: 0.7785, AUC: 0.9916, AUPR: 0.9709\n"
     ]
    },
    {
     "name": "stderr",
     "output_type": "stream",
     "text": [
      " 74%|███████▍  | 37/50 [13:15<04:37, 21.34s/it]"
     ]
    },
    {
     "name": "stdout",
     "output_type": "stream",
     "text": [
      "Epoch 37, Train Loss: 0.1115, Validation Loss: 1.4616, Validation Accuracy: 0.8952, Precision: 0.7958, recall: 0.7286, F1: 0.7470, AUC: 0.9888, AUPR: 0.9610\n"
     ]
    },
    {
     "name": "stderr",
     "output_type": "stream",
     "text": [
      " 76%|███████▌  | 38/50 [13:36<04:16, 21.38s/it]"
     ]
    },
    {
     "name": "stdout",
     "output_type": "stream",
     "text": [
      "Epoch 38, Train Loss: 0.2375, Validation Loss: 1.9874, Validation Accuracy: 0.8763, Precision: 0.7355, recall: 0.8455, F1: 0.7656, AUC: 0.9870, AUPR: 0.9590\n"
     ]
    },
    {
     "name": "stderr",
     "output_type": "stream",
     "text": [
      " 78%|███████▊  | 39/50 [13:58<03:56, 21.48s/it]"
     ]
    },
    {
     "name": "stdout",
     "output_type": "stream",
     "text": [
      "Epoch 39, Train Loss: 0.1064, Validation Loss: 1.2625, Validation Accuracy: 0.9006, Precision: 0.7980, recall: 0.7953, F1: 0.7806, AUC: 0.9908, AUPR: 0.9709\n",
      "Epoch 40, Train Loss: 0.1417, Validation Loss: 1.9011, Validation Accuracy: 0.8898, Precision: 0.8463, recall: 0.7839, F1: 0.8037, AUC: 0.9877, AUPR: 0.9517\n"
     ]
    },
    {
     "name": "stderr",
     "output_type": "stream",
     "text": [
      " 80%|████████  | 40/50 [14:20<03:37, 21.75s/it]"
     ]
    },
    {
     "name": "stdout",
     "output_type": "stream",
     "text": [
      "Saved checkpoint: checkpoints/cnn_ddi_epoch_cosine_40.pt\n"
     ]
    },
    {
     "name": "stderr",
     "output_type": "stream",
     "text": [
      " 82%|████████▏ | 41/50 [14:42<03:15, 21.68s/it]"
     ]
    },
    {
     "name": "stdout",
     "output_type": "stream",
     "text": [
      "Epoch 41, Train Loss: 0.1893, Validation Loss: 1.2014, Validation Accuracy: 0.8782, Precision: 0.8065, recall: 0.7429, F1: 0.7526, AUC: 0.9890, AUPR: 0.9663\n"
     ]
    },
    {
     "name": "stderr",
     "output_type": "stream",
     "text": [
      " 84%|████████▍ | 42/50 [15:04<02:54, 21.76s/it]"
     ]
    },
    {
     "name": "stdout",
     "output_type": "stream",
     "text": [
      "Epoch 42, Train Loss: 0.1538, Validation Loss: 1.2255, Validation Accuracy: 0.8933, Precision: 0.8247, recall: 0.7581, F1: 0.7712, AUC: 0.9903, AUPR: 0.9689\n"
     ]
    },
    {
     "name": "stderr",
     "output_type": "stream",
     "text": [
      " 86%|████████▌ | 43/50 [15:25<02:31, 21.66s/it]"
     ]
    },
    {
     "name": "stdout",
     "output_type": "stream",
     "text": [
      "Epoch 43, Train Loss: 0.2298, Validation Loss: 1.6810, Validation Accuracy: 0.8928, Precision: 0.8293, recall: 0.7927, F1: 0.7896, AUC: 0.9873, AUPR: 0.9547\n"
     ]
    },
    {
     "name": "stderr",
     "output_type": "stream",
     "text": [
      " 88%|████████▊ | 44/50 [15:46<02:09, 21.58s/it]"
     ]
    },
    {
     "name": "stdout",
     "output_type": "stream",
     "text": [
      "Epoch 44, Train Loss: 0.1410, Validation Loss: 1.5410, Validation Accuracy: 0.8980, Precision: 0.8213, recall: 0.7787, F1: 0.7931, AUC: 0.9889, AUPR: 0.9591\n"
     ]
    },
    {
     "name": "stderr",
     "output_type": "stream",
     "text": [
      " 90%|█████████ | 45/50 [16:08<01:47, 21.53s/it]"
     ]
    },
    {
     "name": "stdout",
     "output_type": "stream",
     "text": [
      "Epoch 45, Train Loss: 0.2020, Validation Loss: 2.1911, Validation Accuracy: 0.8880, Precision: 0.8465, recall: 0.7593, F1: 0.7860, AUC: 0.9859, AUPR: 0.9447\n"
     ]
    },
    {
     "name": "stderr",
     "output_type": "stream",
     "text": [
      " 92%|█████████▏| 46/50 [16:29<01:26, 21.53s/it]"
     ]
    },
    {
     "name": "stdout",
     "output_type": "stream",
     "text": [
      "Epoch 46, Train Loss: 0.1602, Validation Loss: 1.6986, Validation Accuracy: 0.8881, Precision: 0.8245, recall: 0.7785, F1: 0.7879, AUC: 0.9887, AUPR: 0.9603\n"
     ]
    },
    {
     "name": "stderr",
     "output_type": "stream",
     "text": [
      " 94%|█████████▍| 47/50 [16:51<01:04, 21.47s/it]"
     ]
    },
    {
     "name": "stdout",
     "output_type": "stream",
     "text": [
      "Epoch 47, Train Loss: 0.1688, Validation Loss: 1.9597, Validation Accuracy: 0.8941, Precision: 0.8097, recall: 0.8075, F1: 0.7911, AUC: 0.9896, AUPR: 0.9653\n"
     ]
    },
    {
     "name": "stderr",
     "output_type": "stream",
     "text": [
      " 96%|█████████▌| 48/50 [17:12<00:42, 21.36s/it]"
     ]
    },
    {
     "name": "stdout",
     "output_type": "stream",
     "text": [
      "Epoch 48, Train Loss: 0.2228, Validation Loss: 1.5834, Validation Accuracy: 0.8933, Precision: 0.8442, recall: 0.7949, F1: 0.8042, AUC: 0.9891, AUPR: 0.9631\n"
     ]
    },
    {
     "name": "stderr",
     "output_type": "stream",
     "text": [
      " 98%|█████████▊| 49/50 [17:33<00:21, 21.28s/it]"
     ]
    },
    {
     "name": "stdout",
     "output_type": "stream",
     "text": [
      "Epoch 49, Train Loss: 0.1225, Validation Loss: 2.3036, Validation Accuracy: 0.9022, Precision: 0.7975, recall: 0.8018, F1: 0.7842, AUC: 0.9899, AUPR: 0.9614\n",
      "Epoch 50, Train Loss: 0.2784, Validation Loss: 2.5382, Validation Accuracy: 0.8860, Precision: 0.7953, recall: 0.7438, F1: 0.7501, AUC: 0.9853, AUPR: 0.9467\n"
     ]
    },
    {
     "name": "stderr",
     "output_type": "stream",
     "text": [
      "100%|██████████| 50/50 [17:55<00:00, 21.51s/it]"
     ]
    },
    {
     "name": "stdout",
     "output_type": "stream",
     "text": [
      "Saved checkpoint: checkpoints/cnn_ddi_epoch_cosine_50.pt\n",
      "Similarity measure: gaussian\n"
     ]
    },
    {
     "name": "stderr",
     "output_type": "stream",
     "text": [
      "\n",
      "/tmp/ipykernel_21746/3982585584.py:3: UserWarning: To copy construct from a tensor, it is recommended to use sourceTensor.clone().detach() or sourceTensor.clone().detach().requires_grad_(True), rather than torch.tensor(sourceTensor).\n",
      "  self.features = torch.tensor(features, dtype=torch.float32)\n",
      "  2%|▏         | 1/50 [00:21<17:16, 21.16s/it]"
     ]
    },
    {
     "name": "stdout",
     "output_type": "stream",
     "text": [
      "Epoch 1, Train Loss: 0.9521, Validation Loss: 0.4985, Validation Accuracy: 0.7581, Precision: 0.4841, recall: 0.6559, F1: 0.5212, AUC: 0.9531, AUPR: 0.9017\n"
     ]
    },
    {
     "name": "stderr",
     "output_type": "stream",
     "text": [
      "  4%|▍         | 2/50 [00:42<17:06, 21.39s/it]"
     ]
    },
    {
     "name": "stdout",
     "output_type": "stream",
     "text": [
      "Epoch 2, Train Loss: 0.2900, Validation Loss: 0.3347, Validation Accuracy: 0.8122, Precision: 0.7345, recall: 0.6055, F1: 0.6404, AUC: 0.9707, AUPR: 0.9246\n"
     ]
    },
    {
     "name": "stderr",
     "output_type": "stream",
     "text": [
      "  6%|▌         | 3/50 [01:04<16:55, 21.60s/it]"
     ]
    },
    {
     "name": "stdout",
     "output_type": "stream",
     "text": [
      "Epoch 3, Train Loss: 0.2088, Validation Loss: 0.2777, Validation Accuracy: 0.8256, Precision: 0.7387, recall: 0.7752, F1: 0.7280, AUC: 0.9726, AUPR: 0.9282\n"
     ]
    },
    {
     "name": "stderr",
     "output_type": "stream",
     "text": [
      "  8%|▊         | 4/50 [01:25<16:28, 21.50s/it]"
     ]
    },
    {
     "name": "stdout",
     "output_type": "stream",
     "text": [
      "Epoch 4, Train Loss: 0.1703, Validation Loss: 0.2483, Validation Accuracy: 0.8457, Precision: 0.7104, recall: 0.7195, F1: 0.6914, AUC: 0.9804, AUPR: 0.9503\n"
     ]
    },
    {
     "name": "stderr",
     "output_type": "stream",
     "text": [
      " 10%|█         | 5/50 [01:47<16:01, 21.36s/it]"
     ]
    },
    {
     "name": "stdout",
     "output_type": "stream",
     "text": [
      "Epoch 5, Train Loss: 0.1581, Validation Loss: 0.2349, Validation Accuracy: 0.8603, Precision: 0.7633, recall: 0.7203, F1: 0.7158, AUC: 0.9831, AUPR: 0.9584\n"
     ]
    },
    {
     "name": "stderr",
     "output_type": "stream",
     "text": [
      " 12%|█▏        | 6/50 [02:08<15:36, 21.28s/it]"
     ]
    },
    {
     "name": "stdout",
     "output_type": "stream",
     "text": [
      "Epoch 6, Train Loss: 0.1309, Validation Loss: 0.2645, Validation Accuracy: 0.8622, Precision: 0.7820, recall: 0.7541, F1: 0.7537, AUC: 0.9832, AUPR: 0.9600\n"
     ]
    },
    {
     "name": "stderr",
     "output_type": "stream",
     "text": [
      " 14%|█▍        | 7/50 [02:29<15:14, 21.26s/it]"
     ]
    },
    {
     "name": "stdout",
     "output_type": "stream",
     "text": [
      "Epoch 7, Train Loss: 0.1424, Validation Loss: 0.2705, Validation Accuracy: 0.8547, Precision: 0.7573, recall: 0.6922, F1: 0.7048, AUC: 0.9814, AUPR: 0.9541\n"
     ]
    },
    {
     "name": "stderr",
     "output_type": "stream",
     "text": [
      " 16%|█▌        | 8/50 [02:50<14:51, 21.24s/it]"
     ]
    },
    {
     "name": "stdout",
     "output_type": "stream",
     "text": [
      "Epoch 8, Train Loss: 0.1043, Validation Loss: 0.2747, Validation Accuracy: 0.8454, Precision: 0.7382, recall: 0.6459, F1: 0.6673, AUC: 0.9809, AUPR: 0.9540\n"
     ]
    },
    {
     "name": "stderr",
     "output_type": "stream",
     "text": [
      " 18%|█▊        | 9/50 [03:11<14:30, 21.22s/it]"
     ]
    },
    {
     "name": "stdout",
     "output_type": "stream",
     "text": [
      "Epoch 9, Train Loss: 0.3405, Validation Loss: 0.8280, Validation Accuracy: 0.7985, Precision: 0.6492, recall: 0.6884, F1: 0.6314, AUC: 0.9647, AUPR: 0.9119\n",
      "Epoch 10, Train Loss: 0.1052, Validation Loss: 0.2643, Validation Accuracy: 0.8819, Precision: 0.7644, recall: 0.7613, F1: 0.7440, AUC: 0.9854, AUPR: 0.9665\n"
     ]
    },
    {
     "name": "stderr",
     "output_type": "stream",
     "text": [
      " 20%|██        | 10/50 [03:33<14:18, 21.47s/it]"
     ]
    },
    {
     "name": "stdout",
     "output_type": "stream",
     "text": [
      "Saved checkpoint: checkpoints/cnn_ddi_epoch_gaussian_10.pt\n"
     ]
    },
    {
     "name": "stderr",
     "output_type": "stream",
     "text": [
      " 22%|██▏       | 11/50 [03:55<13:55, 21.42s/it]"
     ]
    },
    {
     "name": "stdout",
     "output_type": "stream",
     "text": [
      "Epoch 11, Train Loss: 0.0513, Validation Loss: 0.3079, Validation Accuracy: 0.8850, Precision: 0.8349, recall: 0.7411, F1: 0.7640, AUC: 0.9874, AUPR: 0.9647\n"
     ]
    },
    {
     "name": "stderr",
     "output_type": "stream",
     "text": [
      " 24%|██▍       | 12/50 [04:16<13:34, 21.43s/it]"
     ]
    },
    {
     "name": "stdout",
     "output_type": "stream",
     "text": [
      "Epoch 12, Train Loss: 0.1010, Validation Loss: 0.3598, Validation Accuracy: 0.8588, Precision: 0.7443, recall: 0.7338, F1: 0.7198, AUC: 0.9834, AUPR: 0.9584\n"
     ]
    },
    {
     "name": "stderr",
     "output_type": "stream",
     "text": [
      " 26%|██▌       | 13/50 [04:37<13:11, 21.40s/it]"
     ]
    },
    {
     "name": "stdout",
     "output_type": "stream",
     "text": [
      "Epoch 13, Train Loss: 0.0833, Validation Loss: 0.4418, Validation Accuracy: 0.8417, Precision: 0.6890, recall: 0.7927, F1: 0.7157, AUC: 0.9796, AUPR: 0.9491\n"
     ]
    },
    {
     "name": "stderr",
     "output_type": "stream",
     "text": [
      " 28%|██▊       | 14/50 [04:59<12:50, 21.39s/it]"
     ]
    },
    {
     "name": "stdout",
     "output_type": "stream",
     "text": [
      "Epoch 14, Train Loss: 0.4838, Validation Loss: 0.3100, Validation Accuracy: 0.8745, Precision: 0.7681, recall: 0.6602, F1: 0.6917, AUC: 0.9870, AUPR: 0.9678\n"
     ]
    },
    {
     "name": "stderr",
     "output_type": "stream",
     "text": [
      " 30%|███       | 15/50 [05:20<12:27, 21.34s/it]"
     ]
    },
    {
     "name": "stdout",
     "output_type": "stream",
     "text": [
      "Epoch 15, Train Loss: 0.0432, Validation Loss: 0.3017, Validation Accuracy: 0.8763, Precision: 0.8036, recall: 0.6984, F1: 0.7311, AUC: 0.9880, AUPR: 0.9685\n"
     ]
    },
    {
     "name": "stderr",
     "output_type": "stream",
     "text": [
      " 32%|███▏      | 16/50 [05:42<12:15, 21.62s/it]"
     ]
    },
    {
     "name": "stdout",
     "output_type": "stream",
     "text": [
      "Epoch 16, Train Loss: 0.0323, Validation Loss: 0.3433, Validation Accuracy: 0.8795, Precision: 0.7899, recall: 0.7295, F1: 0.7340, AUC: 0.9869, AUPR: 0.9626\n"
     ]
    },
    {
     "name": "stderr",
     "output_type": "stream",
     "text": [
      " 34%|███▍      | 17/50 [06:04<11:54, 21.66s/it]"
     ]
    },
    {
     "name": "stdout",
     "output_type": "stream",
     "text": [
      "Epoch 17, Train Loss: 0.1103, Validation Loss: 0.4171, Validation Accuracy: 0.8631, Precision: 0.7460, recall: 0.6753, F1: 0.6733, AUC: 0.9822, AUPR: 0.9563\n"
     ]
    },
    {
     "name": "stderr",
     "output_type": "stream",
     "text": [
      " 36%|███▌      | 18/50 [06:26<11:37, 21.80s/it]"
     ]
    },
    {
     "name": "stdout",
     "output_type": "stream",
     "text": [
      "Epoch 18, Train Loss: 0.0775, Validation Loss: 0.4463, Validation Accuracy: 0.8590, Precision: 0.7568, recall: 0.7298, F1: 0.7215, AUC: 0.9832, AUPR: 0.9572\n"
     ]
    },
    {
     "name": "stderr",
     "output_type": "stream",
     "text": [
      " 38%|███▊      | 19/50 [06:48<11:18, 21.88s/it]"
     ]
    },
    {
     "name": "stdout",
     "output_type": "stream",
     "text": [
      "Epoch 19, Train Loss: 0.5751, Validation Loss: 0.4946, Validation Accuracy: 0.8741, Precision: 0.7658, recall: 0.7272, F1: 0.7208, AUC: 0.9867, AUPR: 0.9655\n",
      "Epoch 20, Train Loss: 0.0449, Validation Loss: 0.4515, Validation Accuracy: 0.8794, Precision: 0.7690, recall: 0.7592, F1: 0.7416, AUC: 0.9866, AUPR: 0.9645\n"
     ]
    },
    {
     "name": "stderr",
     "output_type": "stream",
     "text": [
      " 40%|████      | 20/50 [07:11<11:05, 22.19s/it]"
     ]
    },
    {
     "name": "stdout",
     "output_type": "stream",
     "text": [
      "Saved checkpoint: checkpoints/cnn_ddi_epoch_gaussian_20.pt\n"
     ]
    },
    {
     "name": "stderr",
     "output_type": "stream",
     "text": [
      " 42%|████▏     | 21/50 [07:33<10:43, 22.18s/it]"
     ]
    },
    {
     "name": "stdout",
     "output_type": "stream",
     "text": [
      "Epoch 21, Train Loss: 0.0457, Validation Loss: 0.6236, Validation Accuracy: 0.8680, Precision: 0.7490, recall: 0.7987, F1: 0.7455, AUC: 0.9837, AUPR: 0.9598\n"
     ]
    },
    {
     "name": "stderr",
     "output_type": "stream",
     "text": [
      " 44%|████▍     | 22/50 [07:55<10:20, 22.16s/it]"
     ]
    },
    {
     "name": "stdout",
     "output_type": "stream",
     "text": [
      "Epoch 22, Train Loss: 0.1336, Validation Loss: 0.7299, Validation Accuracy: 0.8668, Precision: 0.7553, recall: 0.8045, F1: 0.7623, AUC: 0.9845, AUPR: 0.9626\n"
     ]
    },
    {
     "name": "stderr",
     "output_type": "stream",
     "text": [
      " 46%|████▌     | 23/50 [08:18<09:59, 22.19s/it]"
     ]
    },
    {
     "name": "stdout",
     "output_type": "stream",
     "text": [
      "Epoch 23, Train Loss: 0.0908, Validation Loss: 0.9203, Validation Accuracy: 0.8562, Precision: 0.7480, recall: 0.7390, F1: 0.7091, AUC: 0.9795, AUPR: 0.9501\n"
     ]
    },
    {
     "name": "stderr",
     "output_type": "stream",
     "text": [
      " 48%|████▊     | 24/50 [08:40<09:35, 22.14s/it]"
     ]
    },
    {
     "name": "stdout",
     "output_type": "stream",
     "text": [
      "Epoch 24, Train Loss: 0.1949, Validation Loss: 0.4752, Validation Accuracy: 0.8729, Precision: 0.7870, recall: 0.7007, F1: 0.7267, AUC: 0.9864, AUPR: 0.9632\n"
     ]
    },
    {
     "name": "stderr",
     "output_type": "stream",
     "text": [
      " 50%|█████     | 25/50 [09:02<09:14, 22.18s/it]"
     ]
    },
    {
     "name": "stdout",
     "output_type": "stream",
     "text": [
      "Epoch 25, Train Loss: 0.0352, Validation Loss: 0.8048, Validation Accuracy: 0.8763, Precision: 0.7805, recall: 0.7649, F1: 0.7613, AUC: 0.9842, AUPR: 0.9598\n"
     ]
    },
    {
     "name": "stderr",
     "output_type": "stream",
     "text": [
      " 52%|█████▏    | 26/50 [09:24<08:52, 22.17s/it]"
     ]
    },
    {
     "name": "stdout",
     "output_type": "stream",
     "text": [
      "Epoch 26, Train Loss: 0.2940, Validation Loss: 0.5710, Validation Accuracy: 0.8737, Precision: 0.8012, recall: 0.7360, F1: 0.7525, AUC: 0.9877, AUPR: 0.9684\n"
     ]
    },
    {
     "name": "stderr",
     "output_type": "stream",
     "text": [
      " 54%|█████▍    | 27/50 [09:46<08:30, 22.19s/it]"
     ]
    },
    {
     "name": "stdout",
     "output_type": "stream",
     "text": [
      "Epoch 27, Train Loss: 0.0407, Validation Loss: 0.7240, Validation Accuracy: 0.8811, Precision: 0.8052, recall: 0.7624, F1: 0.7641, AUC: 0.9876, AUPR: 0.9672\n"
     ]
    },
    {
     "name": "stderr",
     "output_type": "stream",
     "text": [
      " 56%|█████▌    | 28/50 [10:08<08:07, 22.14s/it]"
     ]
    },
    {
     "name": "stdout",
     "output_type": "stream",
     "text": [
      "Epoch 28, Train Loss: 0.3153, Validation Loss: 0.9610, Validation Accuracy: 0.8555, Precision: 0.7527, recall: 0.6928, F1: 0.7055, AUC: 0.9835, AUPR: 0.9585\n"
     ]
    },
    {
     "name": "stderr",
     "output_type": "stream",
     "text": [
      " 58%|█████▊    | 29/50 [10:30<07:44, 22.12s/it]"
     ]
    },
    {
     "name": "stdout",
     "output_type": "stream",
     "text": [
      "Epoch 29, Train Loss: 0.0718, Validation Loss: 0.8470, Validation Accuracy: 0.8809, Precision: 0.8186, recall: 0.7457, F1: 0.7596, AUC: 0.9875, AUPR: 0.9633\n",
      "Epoch 30, Train Loss: 0.0608, Validation Loss: 0.7646, Validation Accuracy: 0.8868, Precision: 0.7920, recall: 0.7507, F1: 0.7533, AUC: 0.9861, AUPR: 0.9647\n"
     ]
    },
    {
     "name": "stderr",
     "output_type": "stream",
     "text": [
      " 60%|██████    | 30/50 [10:53<07:28, 22.41s/it]"
     ]
    },
    {
     "name": "stdout",
     "output_type": "stream",
     "text": [
      "Saved checkpoint: checkpoints/cnn_ddi_epoch_gaussian_30.pt\n"
     ]
    },
    {
     "name": "stderr",
     "output_type": "stream",
     "text": [
      " 62%|██████▏   | 31/50 [11:16<07:04, 22.32s/it]"
     ]
    },
    {
     "name": "stdout",
     "output_type": "stream",
     "text": [
      "Epoch 31, Train Loss: 0.3206, Validation Loss: 1.0963, Validation Accuracy: 0.8582, Precision: 0.7296, recall: 0.7278, F1: 0.7039, AUC: 0.9841, AUPR: 0.9572\n"
     ]
    },
    {
     "name": "stderr",
     "output_type": "stream",
     "text": [
      " 64%|██████▍   | 32/50 [11:38<06:41, 22.31s/it]"
     ]
    },
    {
     "name": "stdout",
     "output_type": "stream",
     "text": [
      "Epoch 32, Train Loss: 0.0787, Validation Loss: 0.8523, Validation Accuracy: 0.8880, Precision: 0.7628, recall: 0.8100, F1: 0.7666, AUC: 0.9870, AUPR: 0.9674\n"
     ]
    },
    {
     "name": "stderr",
     "output_type": "stream",
     "text": [
      " 66%|██████▌   | 33/50 [12:00<06:19, 22.32s/it]"
     ]
    },
    {
     "name": "stdout",
     "output_type": "stream",
     "text": [
      "Epoch 33, Train Loss: 0.2823, Validation Loss: 1.3840, Validation Accuracy: 0.8690, Precision: 0.7687, recall: 0.7273, F1: 0.7261, AUC: 0.9841, AUPR: 0.9562\n"
     ]
    },
    {
     "name": "stderr",
     "output_type": "stream",
     "text": [
      " 68%|██████▊   | 34/50 [12:23<05:58, 22.39s/it]"
     ]
    },
    {
     "name": "stdout",
     "output_type": "stream",
     "text": [
      "Epoch 34, Train Loss: 0.0811, Validation Loss: 1.0647, Validation Accuracy: 0.8794, Precision: 0.8049, recall: 0.7653, F1: 0.7660, AUC: 0.9882, AUPR: 0.9680\n"
     ]
    },
    {
     "name": "stderr",
     "output_type": "stream",
     "text": [
      " 70%|███████   | 35/50 [12:45<05:36, 22.41s/it]"
     ]
    },
    {
     "name": "stdout",
     "output_type": "stream",
     "text": [
      "Epoch 35, Train Loss: 0.1563, Validation Loss: 2.2974, Validation Accuracy: 0.8053, Precision: 0.7355, recall: 0.6988, F1: 0.6760, AUC: 0.9711, AUPR: 0.9128\n"
     ]
    },
    {
     "name": "stderr",
     "output_type": "stream",
     "text": [
      " 72%|███████▏  | 36/50 [13:08<05:13, 22.37s/it]"
     ]
    },
    {
     "name": "stdout",
     "output_type": "stream",
     "text": [
      "Epoch 36, Train Loss: 0.1943, Validation Loss: 1.0204, Validation Accuracy: 0.8919, Precision: 0.8168, recall: 0.7829, F1: 0.7841, AUC: 0.9870, AUPR: 0.9649\n"
     ]
    },
    {
     "name": "stderr",
     "output_type": "stream",
     "text": [
      " 74%|███████▍  | 37/50 [13:30<04:52, 22.49s/it]"
     ]
    },
    {
     "name": "stdout",
     "output_type": "stream",
     "text": [
      "Epoch 37, Train Loss: 0.0669, Validation Loss: 1.2815, Validation Accuracy: 0.8740, Precision: 0.7594, recall: 0.7505, F1: 0.7349, AUC: 0.9865, AUPR: 0.9650\n"
     ]
    },
    {
     "name": "stderr",
     "output_type": "stream",
     "text": [
      " 76%|███████▌  | 38/50 [13:53<04:29, 22.43s/it]"
     ]
    },
    {
     "name": "stdout",
     "output_type": "stream",
     "text": [
      "Epoch 38, Train Loss: 1.3196, Validation Loss: 1.9675, Validation Accuracy: 0.8806, Precision: 0.7802, recall: 0.7102, F1: 0.7252, AUC: 0.9847, AUPR: 0.9469\n"
     ]
    },
    {
     "name": "stderr",
     "output_type": "stream",
     "text": [
      " 78%|███████▊  | 39/50 [14:15<04:06, 22.37s/it]"
     ]
    },
    {
     "name": "stdout",
     "output_type": "stream",
     "text": [
      "Epoch 39, Train Loss: 0.0800, Validation Loss: 1.7068, Validation Accuracy: 0.8872, Precision: 0.8100, recall: 0.7654, F1: 0.7753, AUC: 0.9887, AUPR: 0.9648\n",
      "Epoch 40, Train Loss: 0.1146, Validation Loss: 2.0422, Validation Accuracy: 0.8864, Precision: 0.7955, recall: 0.8054, F1: 0.7850, AUC: 0.9837, AUPR: 0.9416\n"
     ]
    },
    {
     "name": "stderr",
     "output_type": "stream",
     "text": [
      " 80%|████████  | 40/50 [14:38<03:46, 22.61s/it]"
     ]
    },
    {
     "name": "stdout",
     "output_type": "stream",
     "text": [
      "Saved checkpoint: checkpoints/cnn_ddi_epoch_gaussian_40.pt\n"
     ]
    },
    {
     "name": "stderr",
     "output_type": "stream",
     "text": [
      " 82%|████████▏ | 41/50 [15:00<03:22, 22.55s/it]"
     ]
    },
    {
     "name": "stdout",
     "output_type": "stream",
     "text": [
      "Epoch 41, Train Loss: 0.1217, Validation Loss: 2.0288, Validation Accuracy: 0.8802, Precision: 0.7951, recall: 0.7256, F1: 0.7380, AUC: 0.9826, AUPR: 0.9397\n"
     ]
    },
    {
     "name": "stderr",
     "output_type": "stream",
     "text": [
      " 84%|████████▍ | 42/50 [15:23<02:59, 22.44s/it]"
     ]
    },
    {
     "name": "stdout",
     "output_type": "stream",
     "text": [
      "Epoch 42, Train Loss: 0.2356, Validation Loss: 2.6055, Validation Accuracy: 0.8656, Precision: 0.8068, recall: 0.6760, F1: 0.7156, AUC: 0.9820, AUPR: 0.9359\n"
     ]
    },
    {
     "name": "stderr",
     "output_type": "stream",
     "text": [
      " 86%|████████▌ | 43/50 [15:45<02:36, 22.33s/it]"
     ]
    },
    {
     "name": "stdout",
     "output_type": "stream",
     "text": [
      "Epoch 43, Train Loss: 0.1895, Validation Loss: 1.8649, Validation Accuracy: 0.8822, Precision: 0.7945, recall: 0.7397, F1: 0.7500, AUC: 0.9855, AUPR: 0.9513\n"
     ]
    },
    {
     "name": "stderr",
     "output_type": "stream",
     "text": [
      " 88%|████████▊ | 44/50 [16:07<02:14, 22.35s/it]"
     ]
    },
    {
     "name": "stdout",
     "output_type": "stream",
     "text": [
      "Epoch 44, Train Loss: 0.1448, Validation Loss: 1.7960, Validation Accuracy: 0.8870, Precision: 0.7833, recall: 0.7661, F1: 0.7549, AUC: 0.9874, AUPR: 0.9613\n"
     ]
    },
    {
     "name": "stderr",
     "output_type": "stream",
     "text": [
      " 90%|█████████ | 45/50 [16:29<01:51, 22.32s/it]"
     ]
    },
    {
     "name": "stdout",
     "output_type": "stream",
     "text": [
      "Epoch 45, Train Loss: 0.3586, Validation Loss: 3.4007, Validation Accuracy: 0.8481, Precision: 0.7866, recall: 0.6695, F1: 0.6964, AUC: 0.9755, AUPR: 0.9070\n"
     ]
    },
    {
     "name": "stderr",
     "output_type": "stream",
     "text": [
      " 92%|█████████▏| 46/50 [16:51<01:28, 22.25s/it]"
     ]
    },
    {
     "name": "stdout",
     "output_type": "stream",
     "text": [
      "Epoch 46, Train Loss: 0.1691, Validation Loss: 2.4617, Validation Accuracy: 0.8925, Precision: 0.8078, recall: 0.7654, F1: 0.7736, AUC: 0.9843, AUPR: 0.9404\n"
     ]
    },
    {
     "name": "stderr",
     "output_type": "stream",
     "text": [
      " 94%|█████████▍| 47/50 [17:14<01:06, 22.25s/it]"
     ]
    },
    {
     "name": "stdout",
     "output_type": "stream",
     "text": [
      "Epoch 47, Train Loss: 0.1566, Validation Loss: 2.2880, Validation Accuracy: 0.8904, Precision: 0.7732, recall: 0.7882, F1: 0.7562, AUC: 0.9853, AUPR: 0.9487\n"
     ]
    },
    {
     "name": "stderr",
     "output_type": "stream",
     "text": [
      " 96%|█████████▌| 48/50 [17:36<00:44, 22.26s/it]"
     ]
    },
    {
     "name": "stdout",
     "output_type": "stream",
     "text": [
      "Epoch 48, Train Loss: 0.1417, Validation Loss: 2.7146, Validation Accuracy: 0.8731, Precision: 0.7585, recall: 0.7552, F1: 0.7315, AUC: 0.9861, AUPR: 0.9588\n"
     ]
    },
    {
     "name": "stderr",
     "output_type": "stream",
     "text": [
      " 98%|█████████▊| 49/50 [17:58<00:22, 22.25s/it]"
     ]
    },
    {
     "name": "stdout",
     "output_type": "stream",
     "text": [
      "Epoch 49, Train Loss: 0.3773, Validation Loss: 2.3333, Validation Accuracy: 0.8912, Precision: 0.7949, recall: 0.7673, F1: 0.7669, AUC: 0.9874, AUPR: 0.9624\n",
      "Epoch 50, Train Loss: 0.0826, Validation Loss: 2.2991, Validation Accuracy: 0.8921, Precision: 0.7882, recall: 0.8323, F1: 0.7976, AUC: 0.9856, AUPR: 0.9551\n"
     ]
    },
    {
     "name": "stderr",
     "output_type": "stream",
     "text": [
      "100%|██████████| 50/50 [18:21<00:00, 22.04s/it]"
     ]
    },
    {
     "name": "stdout",
     "output_type": "stream",
     "text": [
      "Saved checkpoint: checkpoints/cnn_ddi_epoch_gaussian_50.pt\n"
     ]
    },
    {
     "name": "stderr",
     "output_type": "stream",
     "text": [
      "\n"
     ]
    }
   ],
   "source": [
    "batch_size = 32\n",
    "num_epochs = 50\n",
    "checkpoint_interval = 10\n",
    "device = torch.device(\"cuda\" if torch.cuda.is_available() else \"cpu\")\n",
    "for similarity in [\"jaccard\", \"cosine\", \"gaussian\"]:\n",
    "    print(f\"Similarity measure: {similarity}\")\n",
    "    new_feature, new_label, event_num = prepare(df_drug, feature_list, mechanism, action, drugA, drugB, similarity=similarity)\n",
    "    new_feature = torch.tensor(new_feature, dtype=torch.float32)\n",
    "    features_train, features_val, labels_train, labels_val = train_test_split(\n",
    "        new_feature, new_label, test_size=0.2, random_state=42\n",
    "    )\n",
    "\n",
    "    # Create dataset objects\n",
    "    train_dataset = DrugInteractionDataset(features_train, labels_train)\n",
    "    val_dataset = DrugInteractionDataset(features_val, labels_val)\n",
    "\n",
    "    # Create data loaders\n",
    "    train_loader = DataLoader(train_dataset, batch_size=batch_size, shuffle=True)\n",
    "    val_loader = DataLoader(val_dataset, batch_size=batch_size, shuffle=False)\n",
    "\n",
    "    model = CNNDDI().to(device)\n",
    "    optimizer = optim.Adam(model.parameters(), lr=0.001)\n",
    "    criterion = focal_loss()\n",
    "\n",
    "    for epoch in tqdm(range(num_epochs)):\n",
    "        train_loss = train(model, device, train_loader, optimizer, criterion)\n",
    "        val_loss, val_accuracy, precision, recall, f1, roc_auc, aupr = validate(model, device, val_loader, criterion)\n",
    "        print(f'Epoch {epoch+1}, Train Loss: {train_loss:.4f}, Validation Loss: {val_loss:.4f}, Validation Accuracy: {val_accuracy:.4f}, Precision: {precision:.4f}, recall: {recall:.4f}, F1: {f1:.4f}, AUC: {roc_auc:.4f}, AUPR: {aupr:.4f}')\n",
    "\n",
    "        if (epoch + 1) % checkpoint_interval == 0 or (epoch + 1) == num_epochs:\n",
    "            save_checkpoint(model, optimizer, epoch + 1, f'checkpoints/cnn_ddi_epoch_{similarity}_{epoch+1}.pt')\n"
   ]
  },
  {
   "cell_type": "code",
   "execution_count": 8,
   "metadata": {},
   "outputs": [
    {
     "name": "stdout",
     "output_type": "stream",
     "text": [
      "Feature combination: ('pathway',)\n"
     ]
    },
    {
     "name": "stderr",
     "output_type": "stream",
     "text": [
      "/tmp/ipykernel_83239/3982585584.py:3: UserWarning: To copy construct from a tensor, it is recommended to use sourceTensor.clone().detach() or sourceTensor.clone().detach().requires_grad_(True), rather than torch.tensor(sourceTensor).\n",
      "  self.features = torch.tensor(features, dtype=torch.float32)\n",
      "  2%|▏         | 1/50 [00:05<04:47,  5.87s/it]"
     ]
    },
    {
     "name": "stdout",
     "output_type": "stream",
     "text": [
      "Epoch 1, Train Loss: 0.7775, Validation Loss: 0.4056, Validation Accuracy: 0.7588, Precision: 0.5696, recall: 0.5454, F1: 0.5346, AUC: 0.9528, AUPR: 0.8836\n"
     ]
    },
    {
     "name": "stderr",
     "output_type": "stream",
     "text": [
      "  4%|▍         | 2/50 [00:11<04:42,  5.88s/it]"
     ]
    },
    {
     "name": "stdout",
     "output_type": "stream",
     "text": [
      "Epoch 2, Train Loss: 0.3502, Validation Loss: 0.3975, Validation Accuracy: 0.7589, Precision: 0.6675, recall: 0.5555, F1: 0.5758, AUC: 0.9596, AUPR: 0.8995\n"
     ]
    },
    {
     "name": "stderr",
     "output_type": "stream",
     "text": [
      "  6%|▌         | 3/50 [00:17<04:35,  5.87s/it]"
     ]
    },
    {
     "name": "stdout",
     "output_type": "stream",
     "text": [
      "Epoch 3, Train Loss: 0.2816, Validation Loss: 0.3249, Validation Accuracy: 0.7973, Precision: 0.7481, recall: 0.6571, F1: 0.6628, AUC: 0.9682, AUPR: 0.9200\n"
     ]
    },
    {
     "name": "stderr",
     "output_type": "stream",
     "text": [
      "  8%|▊         | 4/50 [00:23<04:29,  5.86s/it]"
     ]
    },
    {
     "name": "stdout",
     "output_type": "stream",
     "text": [
      "Epoch 4, Train Loss: 0.2464, Validation Loss: 0.3124, Validation Accuracy: 0.7947, Precision: 0.7106, recall: 0.6947, F1: 0.6827, AUC: 0.9700, AUPR: 0.9282\n"
     ]
    },
    {
     "name": "stderr",
     "output_type": "stream",
     "text": [
      " 10%|█         | 5/50 [00:29<04:24,  5.87s/it]"
     ]
    },
    {
     "name": "stdout",
     "output_type": "stream",
     "text": [
      "Epoch 5, Train Loss: 0.2167, Validation Loss: 0.2848, Validation Accuracy: 0.8091, Precision: 0.7361, recall: 0.6927, F1: 0.7002, AUC: 0.9765, AUPR: 0.9389\n"
     ]
    },
    {
     "name": "stderr",
     "output_type": "stream",
     "text": [
      " 12%|█▏        | 6/50 [00:35<04:18,  5.87s/it]"
     ]
    },
    {
     "name": "stdout",
     "output_type": "stream",
     "text": [
      "Epoch 6, Train Loss: 0.1997, Validation Loss: 0.2999, Validation Accuracy: 0.8032, Precision: 0.7275, recall: 0.6286, F1: 0.6478, AUC: 0.9762, AUPR: 0.9398\n"
     ]
    },
    {
     "name": "stderr",
     "output_type": "stream",
     "text": [
      " 14%|█▍        | 7/50 [00:41<04:11,  5.85s/it]"
     ]
    },
    {
     "name": "stdout",
     "output_type": "stream",
     "text": [
      "Epoch 7, Train Loss: 0.1847, Validation Loss: 0.2691, Validation Accuracy: 0.8198, Precision: 0.7469, recall: 0.6940, F1: 0.7042, AUC: 0.9772, AUPR: 0.9427\n"
     ]
    },
    {
     "name": "stderr",
     "output_type": "stream",
     "text": [
      " 16%|█▌        | 8/50 [00:46<04:05,  5.85s/it]"
     ]
    },
    {
     "name": "stdout",
     "output_type": "stream",
     "text": [
      "Epoch 8, Train Loss: 0.1776, Validation Loss: 0.3200, Validation Accuracy: 0.8134, Precision: 0.7251, recall: 0.7051, F1: 0.6907, AUC: 0.9763, AUPR: 0.9418\n"
     ]
    },
    {
     "name": "stderr",
     "output_type": "stream",
     "text": [
      " 18%|█▊        | 9/50 [00:52<04:00,  5.87s/it]"
     ]
    },
    {
     "name": "stdout",
     "output_type": "stream",
     "text": [
      "Epoch 9, Train Loss: 0.1622, Validation Loss: 0.2932, Validation Accuracy: 0.8215, Precision: 0.7113, recall: 0.6999, F1: 0.6931, AUC: 0.9782, AUPR: 0.9489\n",
      "Epoch 10, Train Loss: 0.1599, Validation Loss: 0.2863, Validation Accuracy: 0.8275, Precision: 0.7524, recall: 0.6776, F1: 0.7015, AUC: 0.9814, AUPR: 0.9514\n"
     ]
    },
    {
     "name": "stderr",
     "output_type": "stream",
     "text": [
      " 20%|██        | 10/50 [00:58<03:57,  5.93s/it]"
     ]
    },
    {
     "name": "stdout",
     "output_type": "stream",
     "text": [
      "Saved checkpoint: checkpoints/cnn_ddi_epoch_10_pathway.pt\n"
     ]
    },
    {
     "name": "stderr",
     "output_type": "stream",
     "text": [
      " 22%|██▏       | 11/50 [01:04<03:49,  5.89s/it]"
     ]
    },
    {
     "name": "stdout",
     "output_type": "stream",
     "text": [
      "Epoch 11, Train Loss: 0.1474, Validation Loss: 0.3104, Validation Accuracy: 0.8101, Precision: 0.7146, recall: 0.6473, F1: 0.6551, AUC: 0.9772, AUPR: 0.9451\n"
     ]
    },
    {
     "name": "stderr",
     "output_type": "stream",
     "text": [
      " 24%|██▍       | 12/50 [01:10<03:42,  5.86s/it]"
     ]
    },
    {
     "name": "stdout",
     "output_type": "stream",
     "text": [
      "Epoch 12, Train Loss: 0.1512, Validation Loss: 0.3122, Validation Accuracy: 0.8057, Precision: 0.7293, recall: 0.6757, F1: 0.6836, AUC: 0.9784, AUPR: 0.9452\n"
     ]
    },
    {
     "name": "stderr",
     "output_type": "stream",
     "text": [
      " 26%|██▌       | 13/50 [01:16<03:38,  5.90s/it]"
     ]
    },
    {
     "name": "stdout",
     "output_type": "stream",
     "text": [
      "Epoch 13, Train Loss: 0.1398, Validation Loss: 0.3589, Validation Accuracy: 0.8162, Precision: 0.7230, recall: 0.6698, F1: 0.6756, AUC: 0.9786, AUPR: 0.9400\n"
     ]
    },
    {
     "name": "stderr",
     "output_type": "stream",
     "text": [
      " 28%|██▊       | 14/50 [01:22<03:32,  5.91s/it]"
     ]
    },
    {
     "name": "stdout",
     "output_type": "stream",
     "text": [
      "Epoch 14, Train Loss: 0.1334, Validation Loss: 0.3048, Validation Accuracy: 0.8253, Precision: 0.7508, recall: 0.6865, F1: 0.7034, AUC: 0.9806, AUPR: 0.9530\n"
     ]
    },
    {
     "name": "stderr",
     "output_type": "stream",
     "text": [
      " 30%|███       | 15/50 [01:28<03:25,  5.88s/it]"
     ]
    },
    {
     "name": "stdout",
     "output_type": "stream",
     "text": [
      "Epoch 15, Train Loss: 0.1348, Validation Loss: 0.3362, Validation Accuracy: 0.8144, Precision: 0.7551, recall: 0.6377, F1: 0.6680, AUC: 0.9776, AUPR: 0.9444\n"
     ]
    },
    {
     "name": "stderr",
     "output_type": "stream",
     "text": [
      " 32%|███▏      | 16/50 [01:34<03:21,  5.91s/it]"
     ]
    },
    {
     "name": "stdout",
     "output_type": "stream",
     "text": [
      "Epoch 16, Train Loss: 0.1255, Validation Loss: 0.2967, Validation Accuracy: 0.8246, Precision: 0.7721, recall: 0.7059, F1: 0.7211, AUC: 0.9819, AUPR: 0.9543\n"
     ]
    },
    {
     "name": "stderr",
     "output_type": "stream",
     "text": [
      " 34%|███▍      | 17/50 [01:40<03:15,  5.92s/it]"
     ]
    },
    {
     "name": "stdout",
     "output_type": "stream",
     "text": [
      "Epoch 17, Train Loss: 0.1232, Validation Loss: 0.3173, Validation Accuracy: 0.8191, Precision: 0.7536, recall: 0.6527, F1: 0.6763, AUC: 0.9791, AUPR: 0.9474\n"
     ]
    },
    {
     "name": "stderr",
     "output_type": "stream",
     "text": [
      " 36%|███▌      | 18/50 [01:45<03:08,  5.89s/it]"
     ]
    },
    {
     "name": "stdout",
     "output_type": "stream",
     "text": [
      "Epoch 18, Train Loss: 0.1270, Validation Loss: 0.3191, Validation Accuracy: 0.8202, Precision: 0.6948, recall: 0.6601, F1: 0.6600, AUC: 0.9797, AUPR: 0.9487\n"
     ]
    },
    {
     "name": "stderr",
     "output_type": "stream",
     "text": [
      " 38%|███▊      | 19/50 [01:51<03:01,  5.87s/it]"
     ]
    },
    {
     "name": "stdout",
     "output_type": "stream",
     "text": [
      "Epoch 19, Train Loss: 0.1183, Validation Loss: 0.3313, Validation Accuracy: 0.8142, Precision: 0.7346, recall: 0.6880, F1: 0.6922, AUC: 0.9792, AUPR: 0.9431\n",
      "Epoch 20, Train Loss: 0.1216, Validation Loss: 0.3554, Validation Accuracy: 0.8193, Precision: 0.7237, recall: 0.6705, F1: 0.6812, AUC: 0.9808, AUPR: 0.9482\n"
     ]
    },
    {
     "name": "stderr",
     "output_type": "stream",
     "text": [
      " 40%|████      | 20/50 [01:57<02:58,  5.94s/it]"
     ]
    },
    {
     "name": "stdout",
     "output_type": "stream",
     "text": [
      "Saved checkpoint: checkpoints/cnn_ddi_epoch_20_pathway.pt\n"
     ]
    },
    {
     "name": "stderr",
     "output_type": "stream",
     "text": [
      " 42%|████▏     | 21/50 [02:03<02:52,  5.94s/it]"
     ]
    },
    {
     "name": "stdout",
     "output_type": "stream",
     "text": [
      "Epoch 21, Train Loss: 1.7076, Validation Loss: 30.9821, Validation Accuracy: 0.6486, Precision: 0.4216, recall: 0.3796, F1: 0.3480, AUC: 0.9098, AUPR: 0.7658\n"
     ]
    },
    {
     "name": "stderr",
     "output_type": "stream",
     "text": [
      " 44%|████▍     | 22/50 [02:09<02:46,  5.94s/it]"
     ]
    },
    {
     "name": "stdout",
     "output_type": "stream",
     "text": [
      "Epoch 22, Train Loss: 1.9131, Validation Loss: 0.5959, Validation Accuracy: 0.8111, Precision: 0.7334, recall: 0.6133, F1: 0.6441, AUC: 0.9764, AUPR: 0.9406\n"
     ]
    },
    {
     "name": "stderr",
     "output_type": "stream",
     "text": [
      " 46%|████▌     | 23/50 [02:15<02:40,  5.93s/it]"
     ]
    },
    {
     "name": "stdout",
     "output_type": "stream",
     "text": [
      "Epoch 23, Train Loss: 0.1556, Validation Loss: 0.3708, Validation Accuracy: 0.8232, Precision: 0.7267, recall: 0.7327, F1: 0.7143, AUC: 0.9808, AUPR: 0.9531\n"
     ]
    },
    {
     "name": "stderr",
     "output_type": "stream",
     "text": [
      " 48%|████▊     | 24/50 [02:21<02:34,  5.96s/it]"
     ]
    },
    {
     "name": "stdout",
     "output_type": "stream",
     "text": [
      "Epoch 24, Train Loss: 0.1610, Validation Loss: 0.4205, Validation Accuracy: 0.8177, Precision: 0.7406, recall: 0.7280, F1: 0.7184, AUC: 0.9779, AUPR: 0.9425\n"
     ]
    },
    {
     "name": "stderr",
     "output_type": "stream",
     "text": [
      " 50%|█████     | 25/50 [02:27<02:28,  5.94s/it]"
     ]
    },
    {
     "name": "stdout",
     "output_type": "stream",
     "text": [
      "Epoch 25, Train Loss: 0.1237, Validation Loss: 0.3895, Validation Accuracy: 0.8136, Precision: 0.7371, recall: 0.7159, F1: 0.7088, AUC: 0.9797, AUPR: 0.9447\n"
     ]
    },
    {
     "name": "stderr",
     "output_type": "stream",
     "text": [
      " 52%|█████▏    | 26/50 [02:33<02:21,  5.91s/it]"
     ]
    },
    {
     "name": "stdout",
     "output_type": "stream",
     "text": [
      "Epoch 26, Train Loss: 0.1020, Validation Loss: 0.3866, Validation Accuracy: 0.8257, Precision: 0.7559, recall: 0.6618, F1: 0.6868, AUC: 0.9794, AUPR: 0.9465\n"
     ]
    },
    {
     "name": "stderr",
     "output_type": "stream",
     "text": [
      " 54%|█████▍    | 27/50 [02:39<02:15,  5.90s/it]"
     ]
    },
    {
     "name": "stdout",
     "output_type": "stream",
     "text": [
      "Epoch 27, Train Loss: 0.1088, Validation Loss: 0.4027, Validation Accuracy: 0.8160, Precision: 0.7583, recall: 0.7015, F1: 0.7075, AUC: 0.9786, AUPR: 0.9441\n"
     ]
    },
    {
     "name": "stderr",
     "output_type": "stream",
     "text": [
      " 56%|█████▌    | 28/50 [02:45<02:09,  5.90s/it]"
     ]
    },
    {
     "name": "stdout",
     "output_type": "stream",
     "text": [
      "Epoch 28, Train Loss: 0.2624, Validation Loss: 0.3318, Validation Accuracy: 0.8215, Precision: 0.7399, recall: 0.7391, F1: 0.7242, AUC: 0.9815, AUPR: 0.9528\n"
     ]
    },
    {
     "name": "stderr",
     "output_type": "stream",
     "text": [
      " 58%|█████▊    | 29/50 [02:51<02:04,  5.91s/it]"
     ]
    },
    {
     "name": "stdout",
     "output_type": "stream",
     "text": [
      "Epoch 29, Train Loss: 0.0980, Validation Loss: 0.3960, Validation Accuracy: 0.8126, Precision: 0.7138, recall: 0.6759, F1: 0.6735, AUC: 0.9808, AUPR: 0.9486\n",
      "Epoch 30, Train Loss: 0.1076, Validation Loss: 0.3772, Validation Accuracy: 0.8142, Precision: 0.7130, recall: 0.7155, F1: 0.6887, AUC: 0.9785, AUPR: 0.9436\n"
     ]
    },
    {
     "name": "stderr",
     "output_type": "stream",
     "text": [
      " 60%|██████    | 30/50 [02:57<01:59,  6.00s/it]"
     ]
    },
    {
     "name": "stdout",
     "output_type": "stream",
     "text": [
      "Saved checkpoint: checkpoints/cnn_ddi_epoch_30_pathway.pt\n"
     ]
    },
    {
     "name": "stderr",
     "output_type": "stream",
     "text": [
      " 62%|██████▏   | 31/50 [03:03<01:54,  6.02s/it]"
     ]
    },
    {
     "name": "stdout",
     "output_type": "stream",
     "text": [
      "Epoch 31, Train Loss: 0.1144, Validation Loss: 0.3739, Validation Accuracy: 0.8177, Precision: 0.7689, recall: 0.7150, F1: 0.7155, AUC: 0.9785, AUPR: 0.9406\n"
     ]
    },
    {
     "name": "stderr",
     "output_type": "stream",
     "text": [
      " 64%|██████▍   | 32/50 [03:09<01:48,  6.00s/it]"
     ]
    },
    {
     "name": "stdout",
     "output_type": "stream",
     "text": [
      "Epoch 32, Train Loss: 0.1244, Validation Loss: 0.3525, Validation Accuracy: 0.8183, Precision: 0.7484, recall: 0.7262, F1: 0.7189, AUC: 0.9816, AUPR: 0.9524\n"
     ]
    },
    {
     "name": "stderr",
     "output_type": "stream",
     "text": [
      " 66%|██████▌   | 33/50 [03:15<01:42,  6.01s/it]"
     ]
    },
    {
     "name": "stdout",
     "output_type": "stream",
     "text": [
      "Epoch 33, Train Loss: 0.1071, Validation Loss: 0.3501, Validation Accuracy: 0.8178, Precision: 0.7227, recall: 0.7257, F1: 0.7028, AUC: 0.9765, AUPR: 0.9376\n"
     ]
    },
    {
     "name": "stderr",
     "output_type": "stream",
     "text": [
      " 68%|██████▊   | 34/50 [03:21<01:35,  5.99s/it]"
     ]
    },
    {
     "name": "stdout",
     "output_type": "stream",
     "text": [
      "Epoch 34, Train Loss: 0.1103, Validation Loss: 0.3669, Validation Accuracy: 0.8050, Precision: 0.7535, recall: 0.6524, F1: 0.6820, AUC: 0.9779, AUPR: 0.9431\n"
     ]
    },
    {
     "name": "stderr",
     "output_type": "stream",
     "text": [
      " 70%|███████   | 35/50 [03:27<01:30,  6.00s/it]"
     ]
    },
    {
     "name": "stdout",
     "output_type": "stream",
     "text": [
      "Epoch 35, Train Loss: 0.1131, Validation Loss: 0.3330, Validation Accuracy: 0.8303, Precision: 0.7664, recall: 0.7257, F1: 0.7323, AUC: 0.9816, AUPR: 0.9551\n"
     ]
    },
    {
     "name": "stderr",
     "output_type": "stream",
     "text": [
      " 72%|███████▏  | 36/50 [03:33<01:23,  5.96s/it]"
     ]
    },
    {
     "name": "stdout",
     "output_type": "stream",
     "text": [
      "Epoch 36, Train Loss: 0.1050, Validation Loss: 0.3165, Validation Accuracy: 0.8240, Precision: 0.7483, recall: 0.6792, F1: 0.6898, AUC: 0.9797, AUPR: 0.9483\n"
     ]
    },
    {
     "name": "stderr",
     "output_type": "stream",
     "text": [
      " 74%|███████▍  | 37/50 [03:39<01:16,  5.91s/it]"
     ]
    },
    {
     "name": "stdout",
     "output_type": "stream",
     "text": [
      "Epoch 37, Train Loss: 0.1648, Validation Loss: 0.3174, Validation Accuracy: 0.8241, Precision: 0.7298, recall: 0.6908, F1: 0.6962, AUC: 0.9798, AUPR: 0.9483\n"
     ]
    },
    {
     "name": "stderr",
     "output_type": "stream",
     "text": [
      " 76%|███████▌  | 38/50 [03:44<01:10,  5.87s/it]"
     ]
    },
    {
     "name": "stdout",
     "output_type": "stream",
     "text": [
      "Epoch 38, Train Loss: 0.0859, Validation Loss: 0.3222, Validation Accuracy: 0.8275, Precision: 0.7827, recall: 0.7289, F1: 0.7421, AUC: 0.9805, AUPR: 0.9496\n"
     ]
    },
    {
     "name": "stderr",
     "output_type": "stream",
     "text": [
      " 78%|███████▊  | 39/50 [03:50<01:04,  5.87s/it]"
     ]
    },
    {
     "name": "stdout",
     "output_type": "stream",
     "text": [
      "Epoch 39, Train Loss: 0.0880, Validation Loss: 0.3398, Validation Accuracy: 0.8221, Precision: 0.7359, recall: 0.6692, F1: 0.6865, AUC: 0.9797, AUPR: 0.9499\n",
      "Epoch 40, Train Loss: 0.1041, Validation Loss: 0.3268, Validation Accuracy: 0.8164, Precision: 0.7114, recall: 0.6301, F1: 0.6478, AUC: 0.9793, AUPR: 0.9456\n"
     ]
    },
    {
     "name": "stderr",
     "output_type": "stream",
     "text": [
      " 80%|████████  | 40/50 [03:56<00:59,  5.93s/it]"
     ]
    },
    {
     "name": "stdout",
     "output_type": "stream",
     "text": [
      "Saved checkpoint: checkpoints/cnn_ddi_epoch_40_pathway.pt\n"
     ]
    },
    {
     "name": "stderr",
     "output_type": "stream",
     "text": [
      " 82%|████████▏ | 41/50 [04:02<00:53,  5.89s/it]"
     ]
    },
    {
     "name": "stdout",
     "output_type": "stream",
     "text": [
      "Epoch 41, Train Loss: 0.1028, Validation Loss: 0.3845, Validation Accuracy: 0.8181, Precision: 0.7370, recall: 0.6782, F1: 0.6852, AUC: 0.9788, AUPR: 0.9434\n"
     ]
    },
    {
     "name": "stderr",
     "output_type": "stream",
     "text": [
      " 84%|████████▍ | 42/50 [04:08<00:47,  5.89s/it]"
     ]
    },
    {
     "name": "stdout",
     "output_type": "stream",
     "text": [
      "Epoch 42, Train Loss: 0.1060, Validation Loss: 0.5232, Validation Accuracy: 0.7660, Precision: 0.6284, recall: 0.7622, F1: 0.6448, AUC: 0.9718, AUPR: 0.9253\n"
     ]
    },
    {
     "name": "stderr",
     "output_type": "stream",
     "text": [
      " 86%|████████▌ | 43/50 [04:14<00:41,  5.88s/it]"
     ]
    },
    {
     "name": "stdout",
     "output_type": "stream",
     "text": [
      "Epoch 43, Train Loss: 0.1001, Validation Loss: 0.3324, Validation Accuracy: 0.8183, Precision: 0.7120, recall: 0.6782, F1: 0.6784, AUC: 0.9815, AUPR: 0.9543\n"
     ]
    },
    {
     "name": "stderr",
     "output_type": "stream",
     "text": [
      " 88%|████████▊ | 44/50 [04:20<00:35,  5.87s/it]"
     ]
    },
    {
     "name": "stdout",
     "output_type": "stream",
     "text": [
      "Epoch 44, Train Loss: 0.1036, Validation Loss: 1.6056, Validation Accuracy: 0.6368, Precision: 0.5532, recall: 0.6728, F1: 0.5655, AUC: 0.9567, AUPR: 0.8790\n"
     ]
    },
    {
     "name": "stderr",
     "output_type": "stream",
     "text": [
      " 90%|█████████ | 45/50 [04:26<00:29,  5.89s/it]"
     ]
    },
    {
     "name": "stdout",
     "output_type": "stream",
     "text": [
      "Epoch 45, Train Loss: 4.5288, Validation Loss: 0.8303, Validation Accuracy: 0.8128, Precision: 0.7354, recall: 0.6076, F1: 0.6494, AUC: 0.9784, AUPR: 0.9425\n"
     ]
    },
    {
     "name": "stderr",
     "output_type": "stream",
     "text": [
      " 92%|█████████▏| 46/50 [04:32<00:23,  5.91s/it]"
     ]
    },
    {
     "name": "stdout",
     "output_type": "stream",
     "text": [
      "Epoch 46, Train Loss: 0.1373, Validation Loss: 0.5504, Validation Accuracy: 0.8138, Precision: 0.7731, recall: 0.6736, F1: 0.6990, AUC: 0.9796, AUPR: 0.9465\n"
     ]
    },
    {
     "name": "stderr",
     "output_type": "stream",
     "text": [
      " 94%|█████████▍| 47/50 [04:37<00:17,  5.88s/it]"
     ]
    },
    {
     "name": "stdout",
     "output_type": "stream",
     "text": [
      "Epoch 47, Train Loss: 0.1154, Validation Loss: 0.4570, Validation Accuracy: 0.8162, Precision: 0.7399, recall: 0.6906, F1: 0.6929, AUC: 0.9808, AUPR: 0.9511\n"
     ]
    },
    {
     "name": "stderr",
     "output_type": "stream",
     "text": [
      " 96%|█████████▌| 48/50 [04:43<00:11,  5.88s/it]"
     ]
    },
    {
     "name": "stdout",
     "output_type": "stream",
     "text": [
      "Epoch 48, Train Loss: 0.1160, Validation Loss: 0.3827, Validation Accuracy: 0.8253, Precision: 0.7603, recall: 0.6968, F1: 0.7079, AUC: 0.9811, AUPR: 0.9519\n"
     ]
    },
    {
     "name": "stderr",
     "output_type": "stream",
     "text": [
      " 98%|█████████▊| 49/50 [04:49<00:05,  5.90s/it]"
     ]
    },
    {
     "name": "stdout",
     "output_type": "stream",
     "text": [
      "Epoch 49, Train Loss: 0.1053, Validation Loss: 0.3950, Validation Accuracy: 0.8163, Precision: 0.7538, recall: 0.6857, F1: 0.6998, AUC: 0.9791, AUPR: 0.9466\n",
      "Epoch 50, Train Loss: 0.0916, Validation Loss: 0.3581, Validation Accuracy: 0.8234, Precision: 0.7491, recall: 0.7264, F1: 0.7232, AUC: 0.9799, AUPR: 0.9489\n"
     ]
    },
    {
     "name": "stderr",
     "output_type": "stream",
     "text": [
      "100%|██████████| 50/50 [04:55<00:00,  5.92s/it]"
     ]
    },
    {
     "name": "stdout",
     "output_type": "stream",
     "text": [
      "Saved checkpoint: checkpoints/cnn_ddi_epoch_50_pathway.pt\n",
      "Feature combination: ('target',)\n"
     ]
    },
    {
     "name": "stderr",
     "output_type": "stream",
     "text": [
      "\n",
      "/tmp/ipykernel_83239/3982585584.py:3: UserWarning: To copy construct from a tensor, it is recommended to use sourceTensor.clone().detach() or sourceTensor.clone().detach().requires_grad_(True), rather than torch.tensor(sourceTensor).\n",
      "  self.features = torch.tensor(features, dtype=torch.float32)\n",
      "  2%|▏         | 1/50 [00:05<04:51,  5.94s/it]"
     ]
    },
    {
     "name": "stdout",
     "output_type": "stream",
     "text": [
      "Epoch 1, Train Loss: 0.7388, Validation Loss: 0.4583, Validation Accuracy: 0.7378, Precision: 0.6442, recall: 0.4335, F1: 0.4732, AUC: 0.9427, AUPR: 0.8303\n"
     ]
    },
    {
     "name": "stderr",
     "output_type": "stream",
     "text": [
      "  4%|▍         | 2/50 [00:11<04:44,  5.93s/it]"
     ]
    },
    {
     "name": "stdout",
     "output_type": "stream",
     "text": [
      "Epoch 2, Train Loss: 0.3331, Validation Loss: 0.3444, Validation Accuracy: 0.7914, Precision: 0.6908, recall: 0.6188, F1: 0.6322, AUC: 0.9634, AUPR: 0.9116\n"
     ]
    },
    {
     "name": "stderr",
     "output_type": "stream",
     "text": [
      "  6%|▌         | 3/50 [00:17<04:39,  5.94s/it]"
     ]
    },
    {
     "name": "stdout",
     "output_type": "stream",
     "text": [
      "Epoch 3, Train Loss: 0.2640, Validation Loss: 0.3210, Validation Accuracy: 0.7953, Precision: 0.7350, recall: 0.7076, F1: 0.6939, AUC: 0.9681, AUPR: 0.9237\n"
     ]
    },
    {
     "name": "stderr",
     "output_type": "stream",
     "text": [
      "  8%|▊         | 4/50 [00:23<04:33,  5.95s/it]"
     ]
    },
    {
     "name": "stdout",
     "output_type": "stream",
     "text": [
      "Epoch 4, Train Loss: 0.2332, Validation Loss: 0.3694, Validation Accuracy: 0.7773, Precision: 0.7239, recall: 0.7225, F1: 0.7025, AUC: 0.9609, AUPR: 0.8957\n"
     ]
    },
    {
     "name": "stderr",
     "output_type": "stream",
     "text": [
      " 10%|█         | 5/50 [00:29<04:27,  5.94s/it]"
     ]
    },
    {
     "name": "stdout",
     "output_type": "stream",
     "text": [
      "Epoch 5, Train Loss: 0.2012, Validation Loss: 0.2945, Validation Accuracy: 0.8068, Precision: 0.7025, recall: 0.6735, F1: 0.6602, AUC: 0.9738, AUPR: 0.9383\n"
     ]
    },
    {
     "name": "stderr",
     "output_type": "stream",
     "text": [
      " 12%|█▏        | 6/50 [00:35<04:20,  5.92s/it]"
     ]
    },
    {
     "name": "stdout",
     "output_type": "stream",
     "text": [
      "Epoch 6, Train Loss: 0.1829, Validation Loss: 0.2687, Validation Accuracy: 0.8226, Precision: 0.7343, recall: 0.6989, F1: 0.7018, AUC: 0.9782, AUPR: 0.9464\n"
     ]
    },
    {
     "name": "stderr",
     "output_type": "stream",
     "text": [
      " 14%|█▍        | 7/50 [00:41<04:14,  5.92s/it]"
     ]
    },
    {
     "name": "stdout",
     "output_type": "stream",
     "text": [
      "Epoch 7, Train Loss: 0.1713, Validation Loss: 0.2888, Validation Accuracy: 0.8209, Precision: 0.7742, recall: 0.7288, F1: 0.7318, AUC: 0.9779, AUPR: 0.9452\n"
     ]
    },
    {
     "name": "stderr",
     "output_type": "stream",
     "text": [
      " 16%|█▌        | 8/50 [00:47<04:08,  5.93s/it]"
     ]
    },
    {
     "name": "stdout",
     "output_type": "stream",
     "text": [
      "Epoch 8, Train Loss: 0.1588, Validation Loss: 0.2857, Validation Accuracy: 0.8193, Precision: 0.7393, recall: 0.7244, F1: 0.7176, AUC: 0.9785, AUPR: 0.9455\n"
     ]
    },
    {
     "name": "stderr",
     "output_type": "stream",
     "text": [
      " 18%|█▊        | 9/50 [00:53<04:03,  5.93s/it]"
     ]
    },
    {
     "name": "stdout",
     "output_type": "stream",
     "text": [
      "Epoch 9, Train Loss: 0.1552, Validation Loss: 0.4456, Validation Accuracy: 0.7475, Precision: 0.7098, recall: 0.6556, F1: 0.6496, AUC: 0.9675, AUPR: 0.9131\n",
      "Epoch 10, Train Loss: 0.1457, Validation Loss: 0.2835, Validation Accuracy: 0.8100, Precision: 0.7618, recall: 0.5925, F1: 0.6413, AUC: 0.9768, AUPR: 0.9441\n"
     ]
    },
    {
     "name": "stderr",
     "output_type": "stream",
     "text": [
      " 20%|██        | 10/50 [00:59<03:58,  5.96s/it]"
     ]
    },
    {
     "name": "stdout",
     "output_type": "stream",
     "text": [
      "Saved checkpoint: checkpoints/cnn_ddi_epoch_10_target.pt\n"
     ]
    },
    {
     "name": "stderr",
     "output_type": "stream",
     "text": [
      " 22%|██▏       | 11/50 [01:05<03:50,  5.90s/it]"
     ]
    },
    {
     "name": "stdout",
     "output_type": "stream",
     "text": [
      "Epoch 11, Train Loss: 0.1378, Validation Loss: 0.2736, Validation Accuracy: 0.8359, Precision: 0.7708, recall: 0.7534, F1: 0.7501, AUC: 0.9807, AUPR: 0.9528\n"
     ]
    },
    {
     "name": "stderr",
     "output_type": "stream",
     "text": [
      " 24%|██▍       | 12/50 [01:11<03:43,  5.88s/it]"
     ]
    },
    {
     "name": "stdout",
     "output_type": "stream",
     "text": [
      "Epoch 12, Train Loss: 0.1290, Validation Loss: 0.3512, Validation Accuracy: 0.8025, Precision: 0.7587, recall: 0.6684, F1: 0.6958, AUC: 0.9788, AUPR: 0.9466\n"
     ]
    },
    {
     "name": "stderr",
     "output_type": "stream",
     "text": [
      " 26%|██▌       | 13/50 [01:16<03:36,  5.86s/it]"
     ]
    },
    {
     "name": "stdout",
     "output_type": "stream",
     "text": [
      "Epoch 13, Train Loss: 0.1353, Validation Loss: 0.3490, Validation Accuracy: 0.8147, Precision: 0.7110, recall: 0.7386, F1: 0.6998, AUC: 0.9803, AUPR: 0.9527\n"
     ]
    },
    {
     "name": "stderr",
     "output_type": "stream",
     "text": [
      " 28%|██▊       | 14/50 [01:22<03:30,  5.85s/it]"
     ]
    },
    {
     "name": "stdout",
     "output_type": "stream",
     "text": [
      "Epoch 14, Train Loss: 0.1171, Validation Loss: 0.2732, Validation Accuracy: 0.8386, Precision: 0.7279, recall: 0.6671, F1: 0.6825, AUC: 0.9824, AUPR: 0.9538\n"
     ]
    },
    {
     "name": "stderr",
     "output_type": "stream",
     "text": [
      " 30%|███       | 15/50 [01:28<03:25,  5.88s/it]"
     ]
    },
    {
     "name": "stdout",
     "output_type": "stream",
     "text": [
      "Epoch 15, Train Loss: 0.1226, Validation Loss: 0.3182, Validation Accuracy: 0.8245, Precision: 0.7556, recall: 0.7074, F1: 0.7122, AUC: 0.9812, AUPR: 0.9486\n"
     ]
    },
    {
     "name": "stderr",
     "output_type": "stream",
     "text": [
      " 32%|███▏      | 16/50 [01:34<03:19,  5.87s/it]"
     ]
    },
    {
     "name": "stdout",
     "output_type": "stream",
     "text": [
      "Epoch 16, Train Loss: 0.1236, Validation Loss: 0.2974, Validation Accuracy: 0.8342, Precision: 0.7187, recall: 0.6894, F1: 0.6873, AUC: 0.9827, AUPR: 0.9570\n"
     ]
    },
    {
     "name": "stderr",
     "output_type": "stream",
     "text": [
      " 34%|███▍      | 17/50 [01:40<03:13,  5.85s/it]"
     ]
    },
    {
     "name": "stdout",
     "output_type": "stream",
     "text": [
      "Epoch 17, Train Loss: 0.1069, Validation Loss: 0.3072, Validation Accuracy: 0.8317, Precision: 0.7515, recall: 0.7196, F1: 0.7204, AUC: 0.9822, AUPR: 0.9541\n"
     ]
    },
    {
     "name": "stderr",
     "output_type": "stream",
     "text": [
      " 36%|███▌      | 18/50 [01:46<03:06,  5.83s/it]"
     ]
    },
    {
     "name": "stdout",
     "output_type": "stream",
     "text": [
      "Epoch 18, Train Loss: 0.1248, Validation Loss: 0.3168, Validation Accuracy: 0.8241, Precision: 0.7653, recall: 0.6700, F1: 0.6875, AUC: 0.9811, AUPR: 0.9489\n"
     ]
    },
    {
     "name": "stderr",
     "output_type": "stream",
     "text": [
      " 38%|███▊      | 19/50 [01:51<03:01,  5.85s/it]"
     ]
    },
    {
     "name": "stdout",
     "output_type": "stream",
     "text": [
      "Epoch 19, Train Loss: 0.1025, Validation Loss: 0.4864, Validation Accuracy: 0.7971, Precision: 0.7291, recall: 0.6482, F1: 0.6617, AUC: 0.9782, AUPR: 0.9448\n",
      "Epoch 20, Train Loss: 0.1103, Validation Loss: 0.3179, Validation Accuracy: 0.8342, Precision: 0.7466, recall: 0.7247, F1: 0.7151, AUC: 0.9813, AUPR: 0.9537\n"
     ]
    },
    {
     "name": "stderr",
     "output_type": "stream",
     "text": [
      " 40%|████      | 20/50 [01:58<02:57,  5.93s/it]"
     ]
    },
    {
     "name": "stdout",
     "output_type": "stream",
     "text": [
      "Saved checkpoint: checkpoints/cnn_ddi_epoch_20_target.pt\n"
     ]
    },
    {
     "name": "stderr",
     "output_type": "stream",
     "text": [
      " 42%|████▏     | 21/50 [02:03<02:51,  5.92s/it]"
     ]
    },
    {
     "name": "stdout",
     "output_type": "stream",
     "text": [
      "Epoch 21, Train Loss: 0.1109, Validation Loss: 0.3005, Validation Accuracy: 0.8356, Precision: 0.7524, recall: 0.7019, F1: 0.7170, AUC: 0.9819, AUPR: 0.9543\n"
     ]
    },
    {
     "name": "stderr",
     "output_type": "stream",
     "text": [
      " 44%|████▍     | 22/50 [02:09<02:44,  5.89s/it]"
     ]
    },
    {
     "name": "stdout",
     "output_type": "stream",
     "text": [
      "Epoch 22, Train Loss: 0.0957, Validation Loss: 0.2824, Validation Accuracy: 0.8440, Precision: 0.7196, recall: 0.7133, F1: 0.7019, AUC: 0.9845, AUPR: 0.9619\n"
     ]
    },
    {
     "name": "stderr",
     "output_type": "stream",
     "text": [
      " 46%|████▌     | 23/50 [02:15<02:38,  5.86s/it]"
     ]
    },
    {
     "name": "stdout",
     "output_type": "stream",
     "text": [
      "Epoch 23, Train Loss: 0.1082, Validation Loss: 0.3351, Validation Accuracy: 0.8285, Precision: 0.7385, recall: 0.7123, F1: 0.7099, AUC: 0.9817, AUPR: 0.9530\n"
     ]
    },
    {
     "name": "stderr",
     "output_type": "stream",
     "text": [
      " 48%|████▊     | 24/50 [02:21<02:31,  5.84s/it]"
     ]
    },
    {
     "name": "stdout",
     "output_type": "stream",
     "text": [
      "Epoch 24, Train Loss: 0.1053, Validation Loss: 0.2954, Validation Accuracy: 0.8315, Precision: 0.7604, recall: 0.7528, F1: 0.7440, AUC: 0.9825, AUPR: 0.9562\n"
     ]
    },
    {
     "name": "stderr",
     "output_type": "stream",
     "text": [
      " 50%|█████     | 25/50 [02:27<02:25,  5.84s/it]"
     ]
    },
    {
     "name": "stdout",
     "output_type": "stream",
     "text": [
      "Epoch 25, Train Loss: 0.0930, Validation Loss: 0.2943, Validation Accuracy: 0.8382, Precision: 0.7395, recall: 0.7261, F1: 0.7227, AUC: 0.9841, AUPR: 0.9574\n"
     ]
    },
    {
     "name": "stderr",
     "output_type": "stream",
     "text": [
      " 52%|█████▏    | 26/50 [02:33<02:20,  5.84s/it]"
     ]
    },
    {
     "name": "stdout",
     "output_type": "stream",
     "text": [
      "Epoch 26, Train Loss: 0.5671, Validation Loss: 0.4500, Validation Accuracy: 0.8119, Precision: 0.6858, recall: 0.6971, F1: 0.6694, AUC: 0.9773, AUPR: 0.9448\n"
     ]
    },
    {
     "name": "stderr",
     "output_type": "stream",
     "text": [
      " 54%|█████▍    | 27/50 [02:38<02:14,  5.86s/it]"
     ]
    },
    {
     "name": "stdout",
     "output_type": "stream",
     "text": [
      "Epoch 27, Train Loss: 0.1042, Validation Loss: 0.3382, Validation Accuracy: 0.8407, Precision: 0.7711, recall: 0.7456, F1: 0.7435, AUC: 0.9847, AUPR: 0.9603\n"
     ]
    },
    {
     "name": "stderr",
     "output_type": "stream",
     "text": [
      " 56%|█████▌    | 28/50 [02:44<02:09,  5.88s/it]"
     ]
    },
    {
     "name": "stdout",
     "output_type": "stream",
     "text": [
      "Epoch 28, Train Loss: 0.1033, Validation Loss: 0.3887, Validation Accuracy: 0.8228, Precision: 0.7437, recall: 0.7365, F1: 0.7193, AUC: 0.9808, AUPR: 0.9504\n"
     ]
    },
    {
     "name": "stderr",
     "output_type": "stream",
     "text": [
      " 58%|█████▊    | 29/50 [02:50<02:03,  5.88s/it]"
     ]
    },
    {
     "name": "stdout",
     "output_type": "stream",
     "text": [
      "Epoch 29, Train Loss: 0.0891, Validation Loss: 0.3193, Validation Accuracy: 0.8385, Precision: 0.7712, recall: 0.7393, F1: 0.7391, AUC: 0.9837, AUPR: 0.9583\n",
      "Epoch 30, Train Loss: 0.0861, Validation Loss: 0.3428, Validation Accuracy: 0.8362, Precision: 0.7385, recall: 0.7274, F1: 0.7172, AUC: 0.9831, AUPR: 0.9590\n"
     ]
    },
    {
     "name": "stderr",
     "output_type": "stream",
     "text": [
      " 60%|██████    | 30/50 [02:56<01:59,  5.95s/it]"
     ]
    },
    {
     "name": "stdout",
     "output_type": "stream",
     "text": [
      "Saved checkpoint: checkpoints/cnn_ddi_epoch_30_target.pt\n"
     ]
    },
    {
     "name": "stderr",
     "output_type": "stream",
     "text": [
      " 62%|██████▏   | 31/50 [03:02<01:52,  5.93s/it]"
     ]
    },
    {
     "name": "stdout",
     "output_type": "stream",
     "text": [
      "Epoch 31, Train Loss: 0.1046, Validation Loss: 0.3089, Validation Accuracy: 0.8260, Precision: 0.7209, recall: 0.6389, F1: 0.6625, AUC: 0.9808, AUPR: 0.9522\n"
     ]
    },
    {
     "name": "stderr",
     "output_type": "stream",
     "text": [
      " 64%|██████▍   | 32/50 [03:08<01:46,  5.94s/it]"
     ]
    },
    {
     "name": "stdout",
     "output_type": "stream",
     "text": [
      "Epoch 32, Train Loss: 0.2353, Validation Loss: 0.4901, Validation Accuracy: 0.8073, Precision: 0.6768, recall: 0.7157, F1: 0.6719, AUC: 0.9773, AUPR: 0.9429\n"
     ]
    },
    {
     "name": "stderr",
     "output_type": "stream",
     "text": [
      " 66%|██████▌   | 33/50 [03:14<01:40,  5.93s/it]"
     ]
    },
    {
     "name": "stdout",
     "output_type": "stream",
     "text": [
      "Epoch 33, Train Loss: 0.0901, Validation Loss: 0.3025, Validation Accuracy: 0.8452, Precision: 0.7325, recall: 0.7317, F1: 0.7258, AUC: 0.9841, AUPR: 0.9597\n"
     ]
    },
    {
     "name": "stderr",
     "output_type": "stream",
     "text": [
      " 68%|██████▊   | 34/50 [03:20<01:34,  5.94s/it]"
     ]
    },
    {
     "name": "stdout",
     "output_type": "stream",
     "text": [
      "Epoch 34, Train Loss: 0.0766, Validation Loss: 0.3414, Validation Accuracy: 0.8442, Precision: 0.7522, recall: 0.7152, F1: 0.7242, AUC: 0.9835, AUPR: 0.9601\n"
     ]
    },
    {
     "name": "stderr",
     "output_type": "stream",
     "text": [
      " 70%|███████   | 35/50 [03:26<01:29,  5.94s/it]"
     ]
    },
    {
     "name": "stdout",
     "output_type": "stream",
     "text": [
      "Epoch 35, Train Loss: 0.0847, Validation Loss: 0.3574, Validation Accuracy: 0.8283, Precision: 0.7399, recall: 0.6966, F1: 0.7031, AUC: 0.9812, AUPR: 0.9483\n"
     ]
    },
    {
     "name": "stderr",
     "output_type": "stream",
     "text": [
      " 72%|███████▏  | 36/50 [03:32<01:23,  5.94s/it]"
     ]
    },
    {
     "name": "stdout",
     "output_type": "stream",
     "text": [
      "Epoch 36, Train Loss: 0.0882, Validation Loss: 0.3520, Validation Accuracy: 0.8352, Precision: 0.7261, recall: 0.7254, F1: 0.7102, AUC: 0.9809, AUPR: 0.9493\n"
     ]
    },
    {
     "name": "stderr",
     "output_type": "stream",
     "text": [
      " 74%|███████▍  | 37/50 [03:38<01:17,  5.94s/it]"
     ]
    },
    {
     "name": "stdout",
     "output_type": "stream",
     "text": [
      "Epoch 37, Train Loss: 0.0921, Validation Loss: 0.3422, Validation Accuracy: 0.8261, Precision: 0.7261, recall: 0.6360, F1: 0.6577, AUC: 0.9808, AUPR: 0.9509\n"
     ]
    },
    {
     "name": "stderr",
     "output_type": "stream",
     "text": [
      " 76%|███████▌  | 38/50 [03:44<01:11,  5.93s/it]"
     ]
    },
    {
     "name": "stdout",
     "output_type": "stream",
     "text": [
      "Epoch 38, Train Loss: 0.1039, Validation Loss: 0.3381, Validation Accuracy: 0.8437, Precision: 0.7203, recall: 0.6844, F1: 0.6926, AUC: 0.9841, AUPR: 0.9608\n"
     ]
    },
    {
     "name": "stderr",
     "output_type": "stream",
     "text": [
      " 78%|███████▊  | 39/50 [03:50<01:05,  5.92s/it]"
     ]
    },
    {
     "name": "stdout",
     "output_type": "stream",
     "text": [
      "Epoch 39, Train Loss: 0.0816, Validation Loss: 0.3130, Validation Accuracy: 0.8265, Precision: 0.7280, recall: 0.6240, F1: 0.6491, AUC: 0.9823, AUPR: 0.9570\n",
      "Epoch 40, Train Loss: 0.9789, Validation Loss: 0.8497, Validation Accuracy: 0.7971, Precision: 0.6714, recall: 0.7094, F1: 0.6619, AUC: 0.9704, AUPR: 0.9260\n"
     ]
    },
    {
     "name": "stderr",
     "output_type": "stream",
     "text": [
      " 80%|████████  | 40/50 [03:56<00:59,  6.00s/it]"
     ]
    },
    {
     "name": "stdout",
     "output_type": "stream",
     "text": [
      "Saved checkpoint: checkpoints/cnn_ddi_epoch_40_target.pt\n"
     ]
    },
    {
     "name": "stderr",
     "output_type": "stream",
     "text": [
      " 82%|████████▏ | 41/50 [04:02<00:53,  5.99s/it]"
     ]
    },
    {
     "name": "stdout",
     "output_type": "stream",
     "text": [
      "Epoch 41, Train Loss: 0.1332, Validation Loss: 0.3770, Validation Accuracy: 0.8401, Precision: 0.7556, recall: 0.7183, F1: 0.7226, AUC: 0.9826, AUPR: 0.9563\n"
     ]
    },
    {
     "name": "stderr",
     "output_type": "stream",
     "text": [
      " 84%|████████▍ | 42/50 [04:08<00:47,  5.97s/it]"
     ]
    },
    {
     "name": "stdout",
     "output_type": "stream",
     "text": [
      "Epoch 42, Train Loss: 0.0763, Validation Loss: 0.3773, Validation Accuracy: 0.8376, Precision: 0.7500, recall: 0.7171, F1: 0.7172, AUC: 0.9839, AUPR: 0.9593\n"
     ]
    },
    {
     "name": "stderr",
     "output_type": "stream",
     "text": [
      " 86%|████████▌ | 43/50 [04:14<00:41,  5.95s/it]"
     ]
    },
    {
     "name": "stdout",
     "output_type": "stream",
     "text": [
      "Epoch 43, Train Loss: 0.0804, Validation Loss: 0.4039, Validation Accuracy: 0.8139, Precision: 0.6638, recall: 0.7583, F1: 0.6758, AUC: 0.9792, AUPR: 0.9499\n"
     ]
    },
    {
     "name": "stderr",
     "output_type": "stream",
     "text": [
      " 88%|████████▊ | 44/50 [04:20<00:35,  5.94s/it]"
     ]
    },
    {
     "name": "stdout",
     "output_type": "stream",
     "text": [
      "Epoch 44, Train Loss: 0.0950, Validation Loss: 0.3580, Validation Accuracy: 0.8426, Precision: 0.7907, recall: 0.6632, F1: 0.7058, AUC: 0.9842, AUPR: 0.9602\n"
     ]
    },
    {
     "name": "stderr",
     "output_type": "stream",
     "text": [
      " 90%|█████████ | 45/50 [04:26<00:29,  5.96s/it]"
     ]
    },
    {
     "name": "stdout",
     "output_type": "stream",
     "text": [
      "Epoch 45, Train Loss: 0.0851, Validation Loss: 0.4665, Validation Accuracy: 0.8186, Precision: 0.7469, recall: 0.7264, F1: 0.7166, AUC: 0.9811, AUPR: 0.9532\n"
     ]
    },
    {
     "name": "stderr",
     "output_type": "stream",
     "text": [
      " 92%|█████████▏| 46/50 [04:32<00:23,  5.97s/it]"
     ]
    },
    {
     "name": "stdout",
     "output_type": "stream",
     "text": [
      "Epoch 46, Train Loss: 0.5860, Validation Loss: 0.3982, Validation Accuracy: 0.8213, Precision: 0.7422, recall: 0.7032, F1: 0.7033, AUC: 0.9791, AUPR: 0.9482\n"
     ]
    },
    {
     "name": "stderr",
     "output_type": "stream",
     "text": [
      " 94%|█████████▍| 47/50 [04:38<00:17,  5.98s/it]"
     ]
    },
    {
     "name": "stdout",
     "output_type": "stream",
     "text": [
      "Epoch 47, Train Loss: 0.0821, Validation Loss: 0.3696, Validation Accuracy: 0.8407, Precision: 0.7421, recall: 0.7495, F1: 0.7282, AUC: 0.9834, AUPR: 0.9610\n"
     ]
    },
    {
     "name": "stderr",
     "output_type": "stream",
     "text": [
      " 96%|█████████▌| 48/50 [04:44<00:11,  5.97s/it]"
     ]
    },
    {
     "name": "stdout",
     "output_type": "stream",
     "text": [
      "Epoch 48, Train Loss: 0.0752, Validation Loss: 0.3680, Validation Accuracy: 0.8374, Precision: 0.7752, recall: 0.7829, F1: 0.7597, AUC: 0.9844, AUPR: 0.9605\n"
     ]
    },
    {
     "name": "stderr",
     "output_type": "stream",
     "text": [
      " 98%|█████████▊| 49/50 [04:50<00:05,  5.98s/it]"
     ]
    },
    {
     "name": "stdout",
     "output_type": "stream",
     "text": [
      "Epoch 49, Train Loss: 0.0745, Validation Loss: 0.3334, Validation Accuracy: 0.8427, Precision: 0.7429, recall: 0.7489, F1: 0.7326, AUC: 0.9848, AUPR: 0.9631\n",
      "Epoch 50, Train Loss: 0.0807, Validation Loss: 0.3603, Validation Accuracy: 0.8391, Precision: 0.7354, recall: 0.7760, F1: 0.7431, AUC: 0.9839, AUPR: 0.9588\n"
     ]
    },
    {
     "name": "stderr",
     "output_type": "stream",
     "text": [
      "100%|██████████| 50/50 [04:56<00:00,  5.92s/it]"
     ]
    },
    {
     "name": "stdout",
     "output_type": "stream",
     "text": [
      "Saved checkpoint: checkpoints/cnn_ddi_epoch_50_target.pt\n",
      "Feature combination: ('enzyme',)\n"
     ]
    },
    {
     "name": "stderr",
     "output_type": "stream",
     "text": [
      "\n",
      "/tmp/ipykernel_83239/3982585584.py:3: UserWarning: To copy construct from a tensor, it is recommended to use sourceTensor.clone().detach() or sourceTensor.clone().detach().requires_grad_(True), rather than torch.tensor(sourceTensor).\n",
      "  self.features = torch.tensor(features, dtype=torch.float32)\n",
      "  2%|▏         | 1/50 [00:05<04:51,  5.95s/it]"
     ]
    },
    {
     "name": "stdout",
     "output_type": "stream",
     "text": [
      "Epoch 1, Train Loss: 1.3266, Validation Loss: 0.9427, Validation Accuracy: 0.5661, Precision: 0.3210, recall: 0.1867, F1: 0.2073, AUC: 0.8504, AUPR: 0.6947\n"
     ]
    },
    {
     "name": "stderr",
     "output_type": "stream",
     "text": [
      "  4%|▍         | 2/50 [00:11<04:44,  5.94s/it]"
     ]
    },
    {
     "name": "stdout",
     "output_type": "stream",
     "text": [
      "Epoch 2, Train Loss: 0.7928, Validation Loss: 0.7352, Validation Accuracy: 0.6242, Precision: 0.4624, recall: 0.3170, F1: 0.3445, AUC: 0.8965, AUPR: 0.7693\n"
     ]
    },
    {
     "name": "stderr",
     "output_type": "stream",
     "text": [
      "  6%|▌         | 3/50 [00:17<04:38,  5.94s/it]"
     ]
    },
    {
     "name": "stdout",
     "output_type": "stream",
     "text": [
      "Epoch 3, Train Loss: 0.6782, Validation Loss: 0.7706, Validation Accuracy: 0.6061, Precision: 0.3734, recall: 0.3282, F1: 0.3240, AUC: 0.8929, AUPR: 0.7604\n"
     ]
    },
    {
     "name": "stderr",
     "output_type": "stream",
     "text": [
      "  8%|▊         | 4/50 [00:23<04:32,  5.93s/it]"
     ]
    },
    {
     "name": "stdout",
     "output_type": "stream",
     "text": [
      "Epoch 4, Train Loss: 0.6134, Validation Loss: 0.6981, Validation Accuracy: 0.6482, Precision: 0.4599, recall: 0.2973, F1: 0.3300, AUC: 0.9081, AUPR: 0.7854\n"
     ]
    },
    {
     "name": "stderr",
     "output_type": "stream",
     "text": [
      " 10%|█         | 5/50 [00:29<04:27,  5.94s/it]"
     ]
    },
    {
     "name": "stdout",
     "output_type": "stream",
     "text": [
      "Epoch 5, Train Loss: 0.5837, Validation Loss: 0.6445, Validation Accuracy: 0.6584, Precision: 0.4883, recall: 0.3586, F1: 0.3908, AUC: 0.9090, AUPR: 0.7935\n"
     ]
    },
    {
     "name": "stderr",
     "output_type": "stream",
     "text": [
      " 12%|█▏        | 6/50 [00:35<04:21,  5.93s/it]"
     ]
    },
    {
     "name": "stdout",
     "output_type": "stream",
     "text": [
      "Epoch 6, Train Loss: 0.5548, Validation Loss: 0.6606, Validation Accuracy: 0.6491, Precision: 0.4599, recall: 0.4191, F1: 0.4188, AUC: 0.9037, AUPR: 0.7925\n"
     ]
    },
    {
     "name": "stderr",
     "output_type": "stream",
     "text": [
      " 14%|█▍        | 7/50 [00:41<04:15,  5.94s/it]"
     ]
    },
    {
     "name": "stdout",
     "output_type": "stream",
     "text": [
      "Epoch 7, Train Loss: 0.5339, Validation Loss: 0.6292, Validation Accuracy: 0.6573, Precision: 0.4818, recall: 0.3636, F1: 0.3841, AUC: 0.9134, AUPR: 0.8022\n"
     ]
    },
    {
     "name": "stderr",
     "output_type": "stream",
     "text": [
      " 16%|█▌        | 8/50 [00:47<04:09,  5.95s/it]"
     ]
    },
    {
     "name": "stdout",
     "output_type": "stream",
     "text": [
      "Epoch 8, Train Loss: 0.5191, Validation Loss: 0.6436, Validation Accuracy: 0.6668, Precision: 0.5309, recall: 0.4026, F1: 0.4335, AUC: 0.9152, AUPR: 0.8078\n"
     ]
    },
    {
     "name": "stderr",
     "output_type": "stream",
     "text": [
      " 18%|█▊        | 9/50 [00:53<04:04,  5.96s/it]"
     ]
    },
    {
     "name": "stdout",
     "output_type": "stream",
     "text": [
      "Epoch 9, Train Loss: 0.5023, Validation Loss: 0.6977, Validation Accuracy: 0.6367, Precision: 0.4396, recall: 0.4655, F1: 0.4141, AUC: 0.9057, AUPR: 0.7850\n"
     ]
    },
    {
     "name": "stderr",
     "output_type": "stream",
     "text": [
      " 20%|██        | 10/50 [00:59<04:01,  6.03s/it]"
     ]
    },
    {
     "name": "stdout",
     "output_type": "stream",
     "text": [
      "Epoch 10, Train Loss: 0.4913, Validation Loss: 0.6335, Validation Accuracy: 0.6571, Precision: 0.5031, recall: 0.3963, F1: 0.4111, AUC: 0.9106, AUPR: 0.7958\n",
      "Saved checkpoint: checkpoints/cnn_ddi_epoch_10_enzyme.pt\n"
     ]
    },
    {
     "name": "stderr",
     "output_type": "stream",
     "text": [
      " 22%|██▏       | 11/50 [01:05<03:53,  5.99s/it]"
     ]
    },
    {
     "name": "stdout",
     "output_type": "stream",
     "text": [
      "Epoch 11, Train Loss: 0.4792, Validation Loss: 0.6814, Validation Accuracy: 0.6540, Precision: 0.5103, recall: 0.3825, F1: 0.4023, AUC: 0.9123, AUPR: 0.7993\n"
     ]
    },
    {
     "name": "stderr",
     "output_type": "stream",
     "text": [
      " 24%|██▍       | 12/50 [01:11<03:46,  5.97s/it]"
     ]
    },
    {
     "name": "stdout",
     "output_type": "stream",
     "text": [
      "Epoch 12, Train Loss: 0.4656, Validation Loss: 0.6544, Validation Accuracy: 0.6600, Precision: 0.5206, recall: 0.4073, F1: 0.4226, AUC: 0.9147, AUPR: 0.8043\n"
     ]
    },
    {
     "name": "stderr",
     "output_type": "stream",
     "text": [
      " 26%|██▌       | 13/50 [01:17<03:39,  5.93s/it]"
     ]
    },
    {
     "name": "stdout",
     "output_type": "stream",
     "text": [
      "Epoch 13, Train Loss: 0.4567, Validation Loss: 0.6335, Validation Accuracy: 0.6518, Precision: 0.4921, recall: 0.4270, F1: 0.4306, AUC: 0.9091, AUPR: 0.7939\n"
     ]
    },
    {
     "name": "stderr",
     "output_type": "stream",
     "text": [
      " 28%|██▊       | 14/50 [01:23<03:33,  5.92s/it]"
     ]
    },
    {
     "name": "stdout",
     "output_type": "stream",
     "text": [
      "Epoch 14, Train Loss: 0.4497, Validation Loss: 0.6228, Validation Accuracy: 0.6634, Precision: 0.4974, recall: 0.3992, F1: 0.4195, AUC: 0.9128, AUPR: 0.7988\n"
     ]
    },
    {
     "name": "stderr",
     "output_type": "stream",
     "text": [
      " 30%|███       | 15/50 [01:29<03:26,  5.91s/it]"
     ]
    },
    {
     "name": "stdout",
     "output_type": "stream",
     "text": [
      "Epoch 15, Train Loss: 0.4492, Validation Loss: 0.6234, Validation Accuracy: 0.6698, Precision: 0.4882, recall: 0.3930, F1: 0.4075, AUC: 0.9180, AUPR: 0.8143\n"
     ]
    },
    {
     "name": "stderr",
     "output_type": "stream",
     "text": [
      " 32%|███▏      | 16/50 [01:34<03:20,  5.88s/it]"
     ]
    },
    {
     "name": "stdout",
     "output_type": "stream",
     "text": [
      "Epoch 16, Train Loss: 0.4353, Validation Loss: 0.6644, Validation Accuracy: 0.6631, Precision: 0.5026, recall: 0.3781, F1: 0.3965, AUC: 0.9140, AUPR: 0.8029\n"
     ]
    },
    {
     "name": "stderr",
     "output_type": "stream",
     "text": [
      " 34%|███▍      | 17/50 [01:40<03:13,  5.85s/it]"
     ]
    },
    {
     "name": "stdout",
     "output_type": "stream",
     "text": [
      "Epoch 17, Train Loss: 0.4319, Validation Loss: 0.6237, Validation Accuracy: 0.6642, Precision: 0.4675, recall: 0.4297, F1: 0.4315, AUC: 0.9176, AUPR: 0.8115\n"
     ]
    },
    {
     "name": "stderr",
     "output_type": "stream",
     "text": [
      " 36%|███▌      | 18/50 [01:46<03:06,  5.84s/it]"
     ]
    },
    {
     "name": "stdout",
     "output_type": "stream",
     "text": [
      "Epoch 18, Train Loss: 0.4243, Validation Loss: 0.6475, Validation Accuracy: 0.6607, Precision: 0.4876, recall: 0.4111, F1: 0.4176, AUC: 0.9181, AUPR: 0.8082\n"
     ]
    },
    {
     "name": "stderr",
     "output_type": "stream",
     "text": [
      " 38%|███▊      | 19/50 [01:52<03:00,  5.83s/it]"
     ]
    },
    {
     "name": "stdout",
     "output_type": "stream",
     "text": [
      "Epoch 19, Train Loss: 0.4194, Validation Loss: 0.6843, Validation Accuracy: 0.6354, Precision: 0.4799, recall: 0.4266, F1: 0.4272, AUC: 0.9109, AUPR: 0.7993\n"
     ]
    },
    {
     "name": "stderr",
     "output_type": "stream",
     "text": [
      " 40%|████      | 20/50 [01:58<02:56,  5.90s/it]"
     ]
    },
    {
     "name": "stdout",
     "output_type": "stream",
     "text": [
      "Epoch 20, Train Loss: 0.4224, Validation Loss: 0.6627, Validation Accuracy: 0.6541, Precision: 0.4948, recall: 0.4398, F1: 0.4448, AUC: 0.9122, AUPR: 0.8005\n",
      "Saved checkpoint: checkpoints/cnn_ddi_epoch_20_enzyme.pt\n"
     ]
    },
    {
     "name": "stderr",
     "output_type": "stream",
     "text": [
      " 42%|████▏     | 21/50 [02:04<02:51,  5.90s/it]"
     ]
    },
    {
     "name": "stdout",
     "output_type": "stream",
     "text": [
      "Epoch 21, Train Loss: 0.4126, Validation Loss: 0.7006, Validation Accuracy: 0.6631, Precision: 0.5130, recall: 0.3951, F1: 0.4129, AUC: 0.9162, AUPR: 0.8045\n"
     ]
    },
    {
     "name": "stderr",
     "output_type": "stream",
     "text": [
      " 44%|████▍     | 22/50 [02:10<02:45,  5.90s/it]"
     ]
    },
    {
     "name": "stdout",
     "output_type": "stream",
     "text": [
      "Epoch 22, Train Loss: 0.4040, Validation Loss: 0.7482, Validation Accuracy: 0.6470, Precision: 0.5037, recall: 0.3354, F1: 0.3773, AUC: 0.9073, AUPR: 0.7891\n"
     ]
    },
    {
     "name": "stderr",
     "output_type": "stream",
     "text": [
      " 46%|████▌     | 23/50 [02:16<02:38,  5.88s/it]"
     ]
    },
    {
     "name": "stdout",
     "output_type": "stream",
     "text": [
      "Epoch 23, Train Loss: 0.4052, Validation Loss: 0.6918, Validation Accuracy: 0.6572, Precision: 0.4749, recall: 0.3658, F1: 0.3912, AUC: 0.9186, AUPR: 0.8092\n"
     ]
    },
    {
     "name": "stderr",
     "output_type": "stream",
     "text": [
      " 48%|████▊     | 24/50 [02:21<02:32,  5.87s/it]"
     ]
    },
    {
     "name": "stdout",
     "output_type": "stream",
     "text": [
      "Epoch 24, Train Loss: 0.4040, Validation Loss: 0.6968, Validation Accuracy: 0.6414, Precision: 0.4644, recall: 0.4120, F1: 0.4111, AUC: 0.9051, AUPR: 0.7884\n"
     ]
    },
    {
     "name": "stderr",
     "output_type": "stream",
     "text": [
      " 50%|█████     | 25/50 [02:27<02:26,  5.86s/it]"
     ]
    },
    {
     "name": "stdout",
     "output_type": "stream",
     "text": [
      "Epoch 25, Train Loss: 0.3979, Validation Loss: 0.6678, Validation Accuracy: 0.6601, Precision: 0.4939, recall: 0.3912, F1: 0.4132, AUC: 0.9166, AUPR: 0.8083\n"
     ]
    },
    {
     "name": "stderr",
     "output_type": "stream",
     "text": [
      " 52%|█████▏    | 26/50 [02:33<02:20,  5.85s/it]"
     ]
    },
    {
     "name": "stdout",
     "output_type": "stream",
     "text": [
      "Epoch 26, Train Loss: 0.3950, Validation Loss: 0.6470, Validation Accuracy: 0.6672, Precision: 0.5055, recall: 0.4093, F1: 0.4233, AUC: 0.9197, AUPR: 0.8169\n"
     ]
    },
    {
     "name": "stderr",
     "output_type": "stream",
     "text": [
      " 54%|█████▍    | 27/50 [02:39<02:15,  5.89s/it]"
     ]
    },
    {
     "name": "stdout",
     "output_type": "stream",
     "text": [
      "Epoch 27, Train Loss: 0.3924, Validation Loss: 0.6702, Validation Accuracy: 0.6549, Precision: 0.4737, recall: 0.3666, F1: 0.3881, AUC: 0.9158, AUPR: 0.8049\n"
     ]
    },
    {
     "name": "stderr",
     "output_type": "stream",
     "text": [
      " 56%|█████▌    | 28/50 [02:45<02:09,  5.87s/it]"
     ]
    },
    {
     "name": "stdout",
     "output_type": "stream",
     "text": [
      "Epoch 28, Train Loss: 0.3912, Validation Loss: 0.6663, Validation Accuracy: 0.6597, Precision: 0.5097, recall: 0.4052, F1: 0.4246, AUC: 0.9151, AUPR: 0.8021\n"
     ]
    },
    {
     "name": "stderr",
     "output_type": "stream",
     "text": [
      " 58%|█████▊    | 29/50 [02:51<02:03,  5.86s/it]"
     ]
    },
    {
     "name": "stdout",
     "output_type": "stream",
     "text": [
      "Epoch 29, Train Loss: 0.3844, Validation Loss: 0.6680, Validation Accuracy: 0.6678, Precision: 0.5421, recall: 0.4006, F1: 0.4416, AUC: 0.9180, AUPR: 0.8115\n"
     ]
    },
    {
     "name": "stderr",
     "output_type": "stream",
     "text": [
      " 60%|██████    | 30/50 [02:57<01:58,  5.91s/it]"
     ]
    },
    {
     "name": "stdout",
     "output_type": "stream",
     "text": [
      "Epoch 30, Train Loss: 0.3845, Validation Loss: 0.6977, Validation Accuracy: 0.6619, Precision: 0.5022, recall: 0.4169, F1: 0.4295, AUC: 0.9179, AUPR: 0.8092\n",
      "Saved checkpoint: checkpoints/cnn_ddi_epoch_30_enzyme.pt\n"
     ]
    },
    {
     "name": "stderr",
     "output_type": "stream",
     "text": [
      " 62%|██████▏   | 31/50 [03:03<01:52,  5.93s/it]"
     ]
    },
    {
     "name": "stdout",
     "output_type": "stream",
     "text": [
      "Epoch 31, Train Loss: 0.3860, Validation Loss: 0.7213, Validation Accuracy: 0.6463, Precision: 0.4624, recall: 0.5141, F1: 0.4494, AUC: 0.9145, AUPR: 0.8024\n"
     ]
    },
    {
     "name": "stderr",
     "output_type": "stream",
     "text": [
      " 64%|██████▍   | 32/50 [03:09<01:46,  5.92s/it]"
     ]
    },
    {
     "name": "stdout",
     "output_type": "stream",
     "text": [
      "Epoch 32, Train Loss: 0.3802, Validation Loss: 0.6564, Validation Accuracy: 0.6683, Precision: 0.5112, recall: 0.4336, F1: 0.4514, AUC: 0.9185, AUPR: 0.8114\n"
     ]
    },
    {
     "name": "stderr",
     "output_type": "stream",
     "text": [
      " 66%|██████▌   | 33/50 [03:14<01:40,  5.90s/it]"
     ]
    },
    {
     "name": "stdout",
     "output_type": "stream",
     "text": [
      "Epoch 33, Train Loss: 0.3777, Validation Loss: 0.6952, Validation Accuracy: 0.6541, Precision: 0.4997, recall: 0.4298, F1: 0.4358, AUC: 0.9165, AUPR: 0.8087\n"
     ]
    },
    {
     "name": "stderr",
     "output_type": "stream",
     "text": [
      " 68%|██████▊   | 34/50 [03:20<01:34,  5.89s/it]"
     ]
    },
    {
     "name": "stdout",
     "output_type": "stream",
     "text": [
      "Epoch 34, Train Loss: 0.3784, Validation Loss: 0.6914, Validation Accuracy: 0.6537, Precision: 0.4836, recall: 0.4306, F1: 0.4280, AUC: 0.9124, AUPR: 0.8061\n"
     ]
    },
    {
     "name": "stderr",
     "output_type": "stream",
     "text": [
      " 70%|███████   | 35/50 [03:26<01:28,  5.90s/it]"
     ]
    },
    {
     "name": "stdout",
     "output_type": "stream",
     "text": [
      "Epoch 35, Train Loss: 0.3745, Validation Loss: 0.6413, Validation Accuracy: 0.6565, Precision: 0.5001, recall: 0.4335, F1: 0.4430, AUC: 0.9202, AUPR: 0.8166\n"
     ]
    },
    {
     "name": "stderr",
     "output_type": "stream",
     "text": [
      " 72%|███████▏  | 36/50 [03:32<01:22,  5.88s/it]"
     ]
    },
    {
     "name": "stdout",
     "output_type": "stream",
     "text": [
      "Epoch 36, Train Loss: 0.3743, Validation Loss: 0.6784, Validation Accuracy: 0.6550, Precision: 0.4721, recall: 0.4123, F1: 0.4271, AUC: 0.9186, AUPR: 0.8083\n"
     ]
    },
    {
     "name": "stderr",
     "output_type": "stream",
     "text": [
      " 74%|███████▍  | 37/50 [03:38<01:16,  5.88s/it]"
     ]
    },
    {
     "name": "stdout",
     "output_type": "stream",
     "text": [
      "Epoch 37, Train Loss: 0.3746, Validation Loss: 0.7186, Validation Accuracy: 0.6630, Precision: 0.4728, recall: 0.4315, F1: 0.4265, AUC: 0.9186, AUPR: 0.8121\n"
     ]
    },
    {
     "name": "stderr",
     "output_type": "stream",
     "text": [
      " 76%|███████▌  | 38/50 [03:44<01:10,  5.87s/it]"
     ]
    },
    {
     "name": "stdout",
     "output_type": "stream",
     "text": [
      "Epoch 38, Train Loss: 0.3717, Validation Loss: 0.6890, Validation Accuracy: 0.6705, Precision: 0.5157, recall: 0.3772, F1: 0.4091, AUC: 0.9161, AUPR: 0.8077\n"
     ]
    },
    {
     "name": "stderr",
     "output_type": "stream",
     "text": [
      " 78%|███████▊  | 39/50 [03:50<01:04,  5.87s/it]"
     ]
    },
    {
     "name": "stdout",
     "output_type": "stream",
     "text": [
      "Epoch 39, Train Loss: 0.3691, Validation Loss: 0.6779, Validation Accuracy: 0.6675, Precision: 0.5368, recall: 0.4602, F1: 0.4512, AUC: 0.9167, AUPR: 0.8098\n",
      "Epoch 40, Train Loss: 0.3705, Validation Loss: 0.7003, Validation Accuracy: 0.6589, Precision: 0.5083, recall: 0.3979, F1: 0.4270, AUC: 0.9136, AUPR: 0.8015\n"
     ]
    },
    {
     "name": "stderr",
     "output_type": "stream",
     "text": [
      " 80%|████████  | 40/50 [03:56<00:59,  5.97s/it]"
     ]
    },
    {
     "name": "stdout",
     "output_type": "stream",
     "text": [
      "Saved checkpoint: checkpoints/cnn_ddi_epoch_40_enzyme.pt\n"
     ]
    },
    {
     "name": "stderr",
     "output_type": "stream",
     "text": [
      " 82%|████████▏ | 41/50 [04:02<00:53,  5.95s/it]"
     ]
    },
    {
     "name": "stdout",
     "output_type": "stream",
     "text": [
      "Epoch 41, Train Loss: 0.3666, Validation Loss: 0.7089, Validation Accuracy: 0.6635, Precision: 0.5296, recall: 0.4082, F1: 0.4416, AUC: 0.9168, AUPR: 0.8109\n"
     ]
    },
    {
     "name": "stderr",
     "output_type": "stream",
     "text": [
      " 84%|████████▍ | 42/50 [04:08<00:47,  5.96s/it]"
     ]
    },
    {
     "name": "stdout",
     "output_type": "stream",
     "text": [
      "Epoch 42, Train Loss: 0.3678, Validation Loss: 0.6878, Validation Accuracy: 0.6666, Precision: 0.4937, recall: 0.3967, F1: 0.4156, AUC: 0.9153, AUPR: 0.8060\n"
     ]
    },
    {
     "name": "stderr",
     "output_type": "stream",
     "text": [
      " 86%|████████▌ | 43/50 [04:14<00:41,  5.95s/it]"
     ]
    },
    {
     "name": "stdout",
     "output_type": "stream",
     "text": [
      "Epoch 43, Train Loss: 0.3669, Validation Loss: 0.7260, Validation Accuracy: 0.6440, Precision: 0.4762, recall: 0.4227, F1: 0.4263, AUC: 0.9152, AUPR: 0.8020\n"
     ]
    },
    {
     "name": "stderr",
     "output_type": "stream",
     "text": [
      " 88%|████████▊ | 44/50 [04:20<00:35,  5.94s/it]"
     ]
    },
    {
     "name": "stdout",
     "output_type": "stream",
     "text": [
      "Epoch 44, Train Loss: 0.3637, Validation Loss: 0.6862, Validation Accuracy: 0.6635, Precision: 0.5282, recall: 0.4105, F1: 0.4429, AUC: 0.9188, AUPR: 0.8066\n"
     ]
    },
    {
     "name": "stderr",
     "output_type": "stream",
     "text": [
      " 90%|█████████ | 45/50 [04:26<00:29,  5.97s/it]"
     ]
    },
    {
     "name": "stdout",
     "output_type": "stream",
     "text": [
      "Epoch 45, Train Loss: 0.3628, Validation Loss: 0.7212, Validation Accuracy: 0.6566, Precision: 0.4952, recall: 0.4102, F1: 0.4174, AUC: 0.9111, AUPR: 0.8025\n"
     ]
    },
    {
     "name": "stderr",
     "output_type": "stream",
     "text": [
      " 92%|█████████▏| 46/50 [04:32<00:23,  5.97s/it]"
     ]
    },
    {
     "name": "stdout",
     "output_type": "stream",
     "text": [
      "Epoch 46, Train Loss: 0.3631, Validation Loss: 0.7492, Validation Accuracy: 0.6422, Precision: 0.4859, recall: 0.4361, F1: 0.4355, AUC: 0.9114, AUPR: 0.7953\n"
     ]
    },
    {
     "name": "stderr",
     "output_type": "stream",
     "text": [
      " 94%|█████████▍| 47/50 [04:38<00:17,  5.96s/it]"
     ]
    },
    {
     "name": "stdout",
     "output_type": "stream",
     "text": [
      "Epoch 47, Train Loss: 0.3606, Validation Loss: 0.7085, Validation Accuracy: 0.6561, Precision: 0.5017, recall: 0.3565, F1: 0.3922, AUC: 0.9134, AUPR: 0.7964\n"
     ]
    },
    {
     "name": "stderr",
     "output_type": "stream",
     "text": [
      " 96%|█████████▌| 48/50 [04:44<00:11,  5.95s/it]"
     ]
    },
    {
     "name": "stdout",
     "output_type": "stream",
     "text": [
      "Epoch 48, Train Loss: 0.3625, Validation Loss: 0.6977, Validation Accuracy: 0.6699, Precision: 0.4942, recall: 0.4405, F1: 0.4527, AUC: 0.9185, AUPR: 0.8132\n"
     ]
    },
    {
     "name": "stderr",
     "output_type": "stream",
     "text": [
      " 98%|█████████▊| 49/50 [04:49<00:05,  5.94s/it]"
     ]
    },
    {
     "name": "stdout",
     "output_type": "stream",
     "text": [
      "Epoch 49, Train Loss: 0.3586, Validation Loss: 0.7330, Validation Accuracy: 0.6487, Precision: 0.4397, recall: 0.4325, F1: 0.4123, AUC: 0.9084, AUPR: 0.7930\n"
     ]
    },
    {
     "name": "stderr",
     "output_type": "stream",
     "text": [
      "100%|██████████| 50/50 [04:56<00:00,  5.92s/it]"
     ]
    },
    {
     "name": "stdout",
     "output_type": "stream",
     "text": [
      "Epoch 50, Train Loss: 0.3591, Validation Loss: 0.7601, Validation Accuracy: 0.6415, Precision: 0.4936, recall: 0.3878, F1: 0.4151, AUC: 0.9134, AUPR: 0.8021\n",
      "Saved checkpoint: checkpoints/cnn_ddi_epoch_50_enzyme.pt\n",
      "Feature combination: ('category',)\n"
     ]
    },
    {
     "name": "stderr",
     "output_type": "stream",
     "text": [
      "\n",
      "/tmp/ipykernel_83239/3982585584.py:3: UserWarning: To copy construct from a tensor, it is recommended to use sourceTensor.clone().detach() or sourceTensor.clone().detach().requires_grad_(True), rather than torch.tensor(sourceTensor).\n",
      "  self.features = torch.tensor(features, dtype=torch.float32)\n",
      "  2%|▏         | 1/50 [00:05<04:53,  6.00s/it]"
     ]
    },
    {
     "name": "stdout",
     "output_type": "stream",
     "text": [
      "Epoch 1, Train Loss: 0.5783, Validation Loss: 0.2698, Validation Accuracy: 0.8257, Precision: 0.7458, recall: 0.6033, F1: 0.6485, AUC: 0.9722, AUPR: 0.9336\n"
     ]
    },
    {
     "name": "stderr",
     "output_type": "stream",
     "text": [
      "  4%|▍         | 2/50 [00:11<04:43,  5.91s/it]"
     ]
    },
    {
     "name": "stdout",
     "output_type": "stream",
     "text": [
      "Epoch 2, Train Loss: 0.2098, Validation Loss: 0.2242, Validation Accuracy: 0.8571, Precision: 0.7388, recall: 0.6595, F1: 0.6759, AUC: 0.9838, AUPR: 0.9608\n"
     ]
    },
    {
     "name": "stderr",
     "output_type": "stream",
     "text": [
      "  6%|▌         | 3/50 [00:17<04:35,  5.86s/it]"
     ]
    },
    {
     "name": "stdout",
     "output_type": "stream",
     "text": [
      "Epoch 3, Train Loss: 0.1575, Validation Loss: 0.2089, Validation Accuracy: 0.8668, Precision: 0.7904, recall: 0.7097, F1: 0.7203, AUC: 0.9862, AUPR: 0.9640\n"
     ]
    },
    {
     "name": "stderr",
     "output_type": "stream",
     "text": [
      "  8%|▊         | 4/50 [00:23<04:29,  5.85s/it]"
     ]
    },
    {
     "name": "stdout",
     "output_type": "stream",
     "text": [
      "Epoch 4, Train Loss: 0.1236, Validation Loss: 0.1798, Validation Accuracy: 0.8767, Precision: 0.8564, recall: 0.7589, F1: 0.7877, AUC: 0.9885, AUPR: 0.9731\n"
     ]
    },
    {
     "name": "stderr",
     "output_type": "stream",
     "text": [
      " 10%|█         | 5/50 [00:29<04:23,  5.86s/it]"
     ]
    },
    {
     "name": "stdout",
     "output_type": "stream",
     "text": [
      "Epoch 5, Train Loss: 0.0997, Validation Loss: 0.1978, Validation Accuracy: 0.8703, Precision: 0.8160, recall: 0.6523, F1: 0.6935, AUC: 0.9864, AUPR: 0.9659\n"
     ]
    },
    {
     "name": "stderr",
     "output_type": "stream",
     "text": [
      " 12%|█▏        | 6/50 [00:35<04:21,  5.95s/it]"
     ]
    },
    {
     "name": "stdout",
     "output_type": "stream",
     "text": [
      "Epoch 6, Train Loss: 0.0847, Validation Loss: 0.2206, Validation Accuracy: 0.8703, Precision: 0.8584, recall: 0.8101, F1: 0.8231, AUC: 0.9897, AUPR: 0.9754\n"
     ]
    },
    {
     "name": "stderr",
     "output_type": "stream",
     "text": [
      " 14%|█▍        | 7/50 [00:41<04:15,  5.95s/it]"
     ]
    },
    {
     "name": "stdout",
     "output_type": "stream",
     "text": [
      "Epoch 7, Train Loss: 0.0744, Validation Loss: 0.1903, Validation Accuracy: 0.8947, Precision: 0.8284, recall: 0.7750, F1: 0.7927, AUC: 0.9926, AUPR: 0.9806\n"
     ]
    },
    {
     "name": "stderr",
     "output_type": "stream",
     "text": [
      " 16%|█▌        | 8/50 [00:47<04:07,  5.90s/it]"
     ]
    },
    {
     "name": "stdout",
     "output_type": "stream",
     "text": [
      "Epoch 8, Train Loss: 0.2938, Validation Loss: 2.5022, Validation Accuracy: 0.6833, Precision: 0.4898, recall: 0.4357, F1: 0.4092, AUC: 0.9389, AUPR: 0.8510\n"
     ]
    },
    {
     "name": "stderr",
     "output_type": "stream",
     "text": [
      " 18%|█▊        | 9/50 [00:53<04:00,  5.87s/it]"
     ]
    },
    {
     "name": "stdout",
     "output_type": "stream",
     "text": [
      "Epoch 9, Train Loss: 0.1557, Validation Loss: 0.2042, Validation Accuracy: 0.8882, Precision: 0.8301, recall: 0.8186, F1: 0.8084, AUC: 0.9897, AUPR: 0.9738\n",
      "Epoch 10, Train Loss: 0.0380, Validation Loss: 0.2566, Validation Accuracy: 0.8941, Precision: 0.8147, recall: 0.8118, F1: 0.7999, AUC: 0.9913, AUPR: 0.9777\n"
     ]
    },
    {
     "name": "stderr",
     "output_type": "stream",
     "text": [
      " 20%|██        | 10/50 [00:59<03:57,  5.93s/it]"
     ]
    },
    {
     "name": "stdout",
     "output_type": "stream",
     "text": [
      "Saved checkpoint: checkpoints/cnn_ddi_epoch_10_category.pt\n"
     ]
    },
    {
     "name": "stderr",
     "output_type": "stream",
     "text": [
      " 22%|██▏       | 11/50 [01:05<03:51,  5.93s/it]"
     ]
    },
    {
     "name": "stdout",
     "output_type": "stream",
     "text": [
      "Epoch 11, Train Loss: 0.0407, Validation Loss: 0.2747, Validation Accuracy: 0.8864, Precision: 0.7890, recall: 0.7936, F1: 0.7710, AUC: 0.9883, AUPR: 0.9719\n"
     ]
    },
    {
     "name": "stderr",
     "output_type": "stream",
     "text": [
      " 24%|██▍       | 12/50 [01:10<03:45,  5.94s/it]"
     ]
    },
    {
     "name": "stdout",
     "output_type": "stream",
     "text": [
      "Epoch 12, Train Loss: 0.0569, Validation Loss: 0.3750, Validation Accuracy: 0.8579, Precision: 0.7848, recall: 0.7586, F1: 0.7430, AUC: 0.9853, AUPR: 0.9640\n"
     ]
    },
    {
     "name": "stderr",
     "output_type": "stream",
     "text": [
      " 26%|██▌       | 13/50 [01:17<03:40,  5.97s/it]"
     ]
    },
    {
     "name": "stdout",
     "output_type": "stream",
     "text": [
      "Epoch 13, Train Loss: 0.0559, Validation Loss: 0.2599, Validation Accuracy: 0.8905, Precision: 0.8289, recall: 0.7440, F1: 0.7656, AUC: 0.9893, AUPR: 0.9741\n"
     ]
    },
    {
     "name": "stderr",
     "output_type": "stream",
     "text": [
      " 28%|██▊       | 14/50 [01:22<03:34,  5.96s/it]"
     ]
    },
    {
     "name": "stdout",
     "output_type": "stream",
     "text": [
      "Epoch 14, Train Loss: 0.0403, Validation Loss: 0.3435, Validation Accuracy: 0.8814, Precision: 0.8130, recall: 0.7947, F1: 0.7900, AUC: 0.9884, AUPR: 0.9683\n"
     ]
    },
    {
     "name": "stderr",
     "output_type": "stream",
     "text": [
      " 30%|███       | 15/50 [01:28<03:27,  5.94s/it]"
     ]
    },
    {
     "name": "stdout",
     "output_type": "stream",
     "text": [
      "Epoch 15, Train Loss: 0.0890, Validation Loss: 0.2346, Validation Accuracy: 0.9057, Precision: 0.8184, recall: 0.8222, F1: 0.8091, AUC: 0.9920, AUPR: 0.9804\n"
     ]
    },
    {
     "name": "stderr",
     "output_type": "stream",
     "text": [
      " 32%|███▏      | 16/50 [01:34<03:22,  5.95s/it]"
     ]
    },
    {
     "name": "stdout",
     "output_type": "stream",
     "text": [
      "Epoch 16, Train Loss: 0.0209, Validation Loss: 0.2654, Validation Accuracy: 0.8972, Precision: 0.8371, recall: 0.8124, F1: 0.8139, AUC: 0.9912, AUPR: 0.9764\n"
     ]
    },
    {
     "name": "stderr",
     "output_type": "stream",
     "text": [
      " 34%|███▍      | 17/50 [01:40<03:16,  5.96s/it]"
     ]
    },
    {
     "name": "stdout",
     "output_type": "stream",
     "text": [
      "Epoch 17, Train Loss: 0.1611, Validation Loss: 1.7179, Validation Accuracy: 0.8131, Precision: 0.6650, recall: 0.6841, F1: 0.6402, AUC: 0.9739, AUPR: 0.9306\n"
     ]
    },
    {
     "name": "stderr",
     "output_type": "stream",
     "text": [
      " 36%|███▌      | 18/50 [01:46<03:09,  5.94s/it]"
     ]
    },
    {
     "name": "stdout",
     "output_type": "stream",
     "text": [
      "Epoch 18, Train Loss: 0.0895, Validation Loss: 0.2717, Validation Accuracy: 0.9085, Precision: 0.8260, recall: 0.7890, F1: 0.8001, AUC: 0.9930, AUPR: 0.9821\n"
     ]
    },
    {
     "name": "stderr",
     "output_type": "stream",
     "text": [
      " 38%|███▊      | 19/50 [01:52<03:03,  5.91s/it]"
     ]
    },
    {
     "name": "stdout",
     "output_type": "stream",
     "text": [
      "Epoch 19, Train Loss: 0.0171, Validation Loss: 0.3108, Validation Accuracy: 0.9078, Precision: 0.8440, recall: 0.8017, F1: 0.8134, AUC: 0.9928, AUPR: 0.9819\n",
      "Epoch 20, Train Loss: 0.0319, Validation Loss: 0.4756, Validation Accuracy: 0.8744, Precision: 0.8036, recall: 0.7785, F1: 0.7733, AUC: 0.9887, AUPR: 0.9724\n",
      "Saved checkpoint: checkpoints/cnn_ddi_epoch_20_category.pt\n"
     ]
    },
    {
     "name": "stderr",
     "output_type": "stream",
     "text": [
      " 42%|████▏     | 21/50 [02:04<02:52,  5.95s/it]"
     ]
    },
    {
     "name": "stdout",
     "output_type": "stream",
     "text": [
      "Epoch 21, Train Loss: 0.0490, Validation Loss: 0.3104, Validation Accuracy: 0.9031, Precision: 0.8334, recall: 0.8215, F1: 0.8138, AUC: 0.9919, AUPR: 0.9807\n"
     ]
    },
    {
     "name": "stderr",
     "output_type": "stream",
     "text": [
      " 44%|████▍     | 22/50 [02:10<02:45,  5.92s/it]"
     ]
    },
    {
     "name": "stdout",
     "output_type": "stream",
     "text": [
      "Epoch 22, Train Loss: 0.0279, Validation Loss: 0.3118, Validation Accuracy: 0.8966, Precision: 0.8090, recall: 0.7680, F1: 0.7755, AUC: 0.9919, AUPR: 0.9793\n"
     ]
    },
    {
     "name": "stderr",
     "output_type": "stream",
     "text": [
      " 46%|████▌     | 23/50 [02:16<02:39,  5.92s/it]"
     ]
    },
    {
     "name": "stdout",
     "output_type": "stream",
     "text": [
      "Epoch 23, Train Loss: 0.0510, Validation Loss: 0.3712, Validation Accuracy: 0.8996, Precision: 0.8332, recall: 0.7613, F1: 0.7823, AUC: 0.9902, AUPR: 0.9756\n"
     ]
    },
    {
     "name": "stderr",
     "output_type": "stream",
     "text": [
      " 48%|████▊     | 24/50 [02:22<02:33,  5.91s/it]"
     ]
    },
    {
     "name": "stdout",
     "output_type": "stream",
     "text": [
      "Epoch 24, Train Loss: 0.5703, Validation Loss: 0.7102, Validation Accuracy: 0.8795, Precision: 0.8064, recall: 0.7166, F1: 0.7436, AUC: 0.9879, AUPR: 0.9711\n"
     ]
    },
    {
     "name": "stderr",
     "output_type": "stream",
     "text": [
      " 50%|█████     | 25/50 [02:28<02:28,  5.94s/it]"
     ]
    },
    {
     "name": "stdout",
     "output_type": "stream",
     "text": [
      "Epoch 25, Train Loss: 0.0469, Validation Loss: 0.3822, Validation Accuracy: 0.9109, Precision: 0.8372, recall: 0.7804, F1: 0.7980, AUC: 0.9918, AUPR: 0.9801\n"
     ]
    },
    {
     "name": "stderr",
     "output_type": "stream",
     "text": [
      " 52%|█████▏    | 26/50 [02:34<02:22,  5.93s/it]"
     ]
    },
    {
     "name": "stdout",
     "output_type": "stream",
     "text": [
      "Epoch 26, Train Loss: 0.0179, Validation Loss: 0.5647, Validation Accuracy: 0.8881, Precision: 0.7847, recall: 0.7796, F1: 0.7661, AUC: 0.9902, AUPR: 0.9757\n"
     ]
    },
    {
     "name": "stderr",
     "output_type": "stream",
     "text": [
      " 54%|█████▍    | 27/50 [02:40<02:16,  5.94s/it]"
     ]
    },
    {
     "name": "stdout",
     "output_type": "stream",
     "text": [
      "Epoch 27, Train Loss: 0.0464, Validation Loss: 0.7076, Validation Accuracy: 0.8915, Precision: 0.8388, recall: 0.7222, F1: 0.7611, AUC: 0.9910, AUPR: 0.9768\n"
     ]
    },
    {
     "name": "stderr",
     "output_type": "stream",
     "text": [
      " 56%|█████▌    | 28/50 [02:45<02:09,  5.90s/it]"
     ]
    },
    {
     "name": "stdout",
     "output_type": "stream",
     "text": [
      "Epoch 28, Train Loss: 0.0521, Validation Loss: 0.5234, Validation Accuracy: 0.8990, Precision: 0.8138, recall: 0.7828, F1: 0.7854, AUC: 0.9901, AUPR: 0.9768\n"
     ]
    },
    {
     "name": "stderr",
     "output_type": "stream",
     "text": [
      " 58%|█████▊    | 29/50 [02:51<02:03,  5.87s/it]"
     ]
    },
    {
     "name": "stdout",
     "output_type": "stream",
     "text": [
      "Epoch 29, Train Loss: 0.0519, Validation Loss: 0.4814, Validation Accuracy: 0.8874, Precision: 0.7483, recall: 0.7795, F1: 0.7447, AUC: 0.9902, AUPR: 0.9759\n"
     ]
    },
    {
     "name": "stderr",
     "output_type": "stream",
     "text": [
      " 60%|██████    | 30/50 [02:57<01:58,  5.92s/it]"
     ]
    },
    {
     "name": "stdout",
     "output_type": "stream",
     "text": [
      "Epoch 30, Train Loss: 0.0644, Validation Loss: 1.0786, Validation Accuracy: 0.8423, Precision: 0.7754, recall: 0.6973, F1: 0.7099, AUC: 0.9852, AUPR: 0.9619\n",
      "Saved checkpoint: checkpoints/cnn_ddi_epoch_30_category.pt\n"
     ]
    },
    {
     "name": "stderr",
     "output_type": "stream",
     "text": [
      " 62%|██████▏   | 31/50 [03:03<01:51,  5.85s/it]"
     ]
    },
    {
     "name": "stdout",
     "output_type": "stream",
     "text": [
      "Epoch 31, Train Loss: 0.0531, Validation Loss: 0.4020, Validation Accuracy: 0.9051, Precision: 0.7961, recall: 0.7657, F1: 0.7715, AUC: 0.9923, AUPR: 0.9795\n"
     ]
    },
    {
     "name": "stderr",
     "output_type": "stream",
     "text": [
      " 64%|██████▍   | 32/50 [03:09<01:44,  5.79s/it]"
     ]
    },
    {
     "name": "stdout",
     "output_type": "stream",
     "text": [
      "Epoch 32, Train Loss: 0.0206, Validation Loss: 0.4961, Validation Accuracy: 0.8941, Precision: 0.8106, recall: 0.7707, F1: 0.7768, AUC: 0.9912, AUPR: 0.9771\n"
     ]
    },
    {
     "name": "stderr",
     "output_type": "stream",
     "text": [
      " 66%|██████▌   | 33/50 [03:14<01:38,  5.80s/it]"
     ]
    },
    {
     "name": "stdout",
     "output_type": "stream",
     "text": [
      "Epoch 33, Train Loss: 0.0732, Validation Loss: 0.8191, Validation Accuracy: 0.8764, Precision: 0.7552, recall: 0.7138, F1: 0.7178, AUC: 0.9852, AUPR: 0.9664\n"
     ]
    },
    {
     "name": "stderr",
     "output_type": "stream",
     "text": [
      " 68%|██████▊   | 34/50 [03:20<01:33,  5.82s/it]"
     ]
    },
    {
     "name": "stdout",
     "output_type": "stream",
     "text": [
      "Epoch 34, Train Loss: 0.0407, Validation Loss: 0.3869, Validation Accuracy: 0.9102, Precision: 0.8349, recall: 0.7879, F1: 0.8018, AUC: 0.9919, AUPR: 0.9806\n"
     ]
    },
    {
     "name": "stderr",
     "output_type": "stream",
     "text": [
      " 70%|███████   | 35/50 [03:26<01:27,  5.83s/it]"
     ]
    },
    {
     "name": "stdout",
     "output_type": "stream",
     "text": [
      "Epoch 35, Train Loss: 0.0180, Validation Loss: 0.5400, Validation Accuracy: 0.8876, Precision: 0.8080, recall: 0.7424, F1: 0.7639, AUC: 0.9905, AUPR: 0.9756\n"
     ]
    },
    {
     "name": "stderr",
     "output_type": "stream",
     "text": [
      " 72%|███████▏  | 36/50 [03:32<01:21,  5.83s/it]"
     ]
    },
    {
     "name": "stdout",
     "output_type": "stream",
     "text": [
      "Epoch 36, Train Loss: 0.0928, Validation Loss: 0.4722, Validation Accuracy: 0.9041, Precision: 0.8292, recall: 0.8367, F1: 0.8202, AUC: 0.9918, AUPR: 0.9791\n"
     ]
    },
    {
     "name": "stderr",
     "output_type": "stream",
     "text": [
      " 74%|███████▍  | 37/50 [03:38<01:15,  5.81s/it]"
     ]
    },
    {
     "name": "stdout",
     "output_type": "stream",
     "text": [
      "Epoch 37, Train Loss: 0.0168, Validation Loss: 0.4434, Validation Accuracy: 0.9027, Precision: 0.8111, recall: 0.8374, F1: 0.8142, AUC: 0.9908, AUPR: 0.9780\n"
     ]
    },
    {
     "name": "stderr",
     "output_type": "stream",
     "text": [
      " 76%|███████▌  | 38/50 [03:43<01:09,  5.78s/it]"
     ]
    },
    {
     "name": "stdout",
     "output_type": "stream",
     "text": [
      "Epoch 38, Train Loss: 0.1145, Validation Loss: 0.6108, Validation Accuracy: 0.8849, Precision: 0.8198, recall: 0.7512, F1: 0.7739, AUC: 0.9900, AUPR: 0.9736\n"
     ]
    },
    {
     "name": "stderr",
     "output_type": "stream",
     "text": [
      " 78%|███████▊  | 39/50 [03:49<01:03,  5.76s/it]"
     ]
    },
    {
     "name": "stdout",
     "output_type": "stream",
     "text": [
      "Epoch 39, Train Loss: 0.0194, Validation Loss: 0.4688, Validation Accuracy: 0.9047, Precision: 0.8667, recall: 0.8297, F1: 0.8393, AUC: 0.9923, AUPR: 0.9803\n"
     ]
    },
    {
     "name": "stderr",
     "output_type": "stream",
     "text": [
      " 80%|████████  | 40/50 [03:55<00:58,  5.85s/it]"
     ]
    },
    {
     "name": "stdout",
     "output_type": "stream",
     "text": [
      "Epoch 40, Train Loss: 0.0169, Validation Loss: 0.6490, Validation Accuracy: 0.8974, Precision: 0.8388, recall: 0.7322, F1: 0.7714, AUC: 0.9916, AUPR: 0.9792\n",
      "Saved checkpoint: checkpoints/cnn_ddi_epoch_40_category.pt\n"
     ]
    },
    {
     "name": "stderr",
     "output_type": "stream",
     "text": [
      " 82%|████████▏ | 41/50 [04:01<00:52,  5.80s/it]"
     ]
    },
    {
     "name": "stdout",
     "output_type": "stream",
     "text": [
      "Epoch 41, Train Loss: 0.0986, Validation Loss: 0.5007, Validation Accuracy: 0.9065, Precision: 0.8186, recall: 0.7787, F1: 0.7867, AUC: 0.9914, AUPR: 0.9804\n"
     ]
    },
    {
     "name": "stderr",
     "output_type": "stream",
     "text": [
      " 84%|████████▍ | 42/50 [04:07<00:46,  5.76s/it]"
     ]
    },
    {
     "name": "stdout",
     "output_type": "stream",
     "text": [
      "Epoch 42, Train Loss: 0.0195, Validation Loss: 0.5230, Validation Accuracy: 0.9085, Precision: 0.7763, recall: 0.6913, F1: 0.7213, AUC: 0.9917, AUPR: 0.9782\n"
     ]
    },
    {
     "name": "stderr",
     "output_type": "stream",
     "text": [
      " 86%|████████▌ | 43/50 [04:12<00:40,  5.77s/it]"
     ]
    },
    {
     "name": "stdout",
     "output_type": "stream",
     "text": [
      "Epoch 43, Train Loss: 0.1441, Validation Loss: 0.7115, Validation Accuracy: 0.9008, Precision: 0.8203, recall: 0.7989, F1: 0.7946, AUC: 0.9904, AUPR: 0.9769\n"
     ]
    },
    {
     "name": "stderr",
     "output_type": "stream",
     "text": [
      " 88%|████████▊ | 44/50 [04:18<00:34,  5.75s/it]"
     ]
    },
    {
     "name": "stdout",
     "output_type": "stream",
     "text": [
      "Epoch 44, Train Loss: 0.0259, Validation Loss: 0.6231, Validation Accuracy: 0.9076, Precision: 0.8165, recall: 0.7625, F1: 0.7801, AUC: 0.9918, AUPR: 0.9792\n"
     ]
    },
    {
     "name": "stderr",
     "output_type": "stream",
     "text": [
      " 90%|█████████ | 45/50 [04:24<00:28,  5.74s/it]"
     ]
    },
    {
     "name": "stdout",
     "output_type": "stream",
     "text": [
      "Epoch 45, Train Loss: 0.0167, Validation Loss: 0.6755, Validation Accuracy: 0.8984, Precision: 0.7759, recall: 0.8066, F1: 0.7795, AUC: 0.9910, AUPR: 0.9789\n"
     ]
    },
    {
     "name": "stderr",
     "output_type": "stream",
     "text": [
      " 92%|█████████▏| 46/50 [04:29<00:22,  5.70s/it]"
     ]
    },
    {
     "name": "stdout",
     "output_type": "stream",
     "text": [
      "Epoch 46, Train Loss: 0.1132, Validation Loss: 0.6674, Validation Accuracy: 0.8984, Precision: 0.8543, recall: 0.7331, F1: 0.7767, AUC: 0.9918, AUPR: 0.9776\n"
     ]
    },
    {
     "name": "stderr",
     "output_type": "stream",
     "text": [
      " 94%|█████████▍| 47/50 [04:35<00:17,  5.67s/it]"
     ]
    },
    {
     "name": "stdout",
     "output_type": "stream",
     "text": [
      "Epoch 47, Train Loss: 0.0268, Validation Loss: 0.6018, Validation Accuracy: 0.9153, Precision: 0.8429, recall: 0.7681, F1: 0.7902, AUC: 0.9920, AUPR: 0.9808\n"
     ]
    },
    {
     "name": "stderr",
     "output_type": "stream",
     "text": [
      " 96%|█████████▌| 48/50 [04:41<00:11,  5.66s/it]"
     ]
    },
    {
     "name": "stdout",
     "output_type": "stream",
     "text": [
      "Epoch 48, Train Loss: 0.0586, Validation Loss: 1.2780, Validation Accuracy: 0.8725, Precision: 0.7851, recall: 0.7859, F1: 0.7752, AUC: 0.9888, AUPR: 0.9718\n"
     ]
    },
    {
     "name": "stderr",
     "output_type": "stream",
     "text": [
      " 98%|█████████▊| 49/50 [04:46<00:05,  5.67s/it]"
     ]
    },
    {
     "name": "stdout",
     "output_type": "stream",
     "text": [
      "Epoch 49, Train Loss: 0.0850, Validation Loss: 0.6998, Validation Accuracy: 0.9050, Precision: 0.8460, recall: 0.8039, F1: 0.8087, AUC: 0.9913, AUPR: 0.9777\n"
     ]
    },
    {
     "name": "stderr",
     "output_type": "stream",
     "text": [
      "100%|██████████| 50/50 [04:52<00:00,  5.85s/it]"
     ]
    },
    {
     "name": "stdout",
     "output_type": "stream",
     "text": [
      "Epoch 50, Train Loss: 0.0219, Validation Loss: 0.7142, Validation Accuracy: 0.9088, Precision: 0.8126, recall: 0.8020, F1: 0.7937, AUC: 0.9923, AUPR: 0.9814\n",
      "Saved checkpoint: checkpoints/cnn_ddi_epoch_50_category.pt\n",
      "Feature combination: ('pathway', 'target')\n"
     ]
    },
    {
     "name": "stderr",
     "output_type": "stream",
     "text": [
      "\n",
      "/tmp/ipykernel_83239/3982585584.py:3: UserWarning: To copy construct from a tensor, it is recommended to use sourceTensor.clone().detach() or sourceTensor.clone().detach().requires_grad_(True), rather than torch.tensor(sourceTensor).\n",
      "  self.features = torch.tensor(features, dtype=torch.float32)\n",
      "  2%|▏         | 1/50 [00:10<08:55, 10.93s/it]"
     ]
    },
    {
     "name": "stdout",
     "output_type": "stream",
     "text": [
      "Epoch 1, Train Loss: 0.8458, Validation Loss: 0.4240, Validation Accuracy: 0.7573, Precision: 0.6817, recall: 0.6012, F1: 0.5961, AUC: 0.9492, AUPR: 0.8765\n"
     ]
    },
    {
     "name": "stderr",
     "output_type": "stream",
     "text": [
      "  4%|▍         | 2/50 [00:21<08:39, 10.83s/it]"
     ]
    },
    {
     "name": "stdout",
     "output_type": "stream",
     "text": [
      "Epoch 2, Train Loss: 0.3509, Validation Loss: 0.3377, Validation Accuracy: 0.7824, Precision: 0.7242, recall: 0.5929, F1: 0.6196, AUC: 0.9649, AUPR: 0.9164\n"
     ]
    },
    {
     "name": "stderr",
     "output_type": "stream",
     "text": [
      "  6%|▌         | 3/50 [00:32<08:26, 10.77s/it]"
     ]
    },
    {
     "name": "stdout",
     "output_type": "stream",
     "text": [
      "Epoch 3, Train Loss: 0.2852, Validation Loss: 0.3702, Validation Accuracy: 0.7747, Precision: 0.6914, recall: 0.6160, F1: 0.6176, AUC: 0.9680, AUPR: 0.9174\n"
     ]
    },
    {
     "name": "stderr",
     "output_type": "stream",
     "text": [
      "  8%|▊         | 4/50 [00:43<08:13, 10.72s/it]"
     ]
    },
    {
     "name": "stdout",
     "output_type": "stream",
     "text": [
      "Epoch 4, Train Loss: 0.2447, Validation Loss: 0.2932, Validation Accuracy: 0.8139, Precision: 0.7533, recall: 0.7679, F1: 0.7330, AUC: 0.9741, AUPR: 0.9343\n"
     ]
    },
    {
     "name": "stderr",
     "output_type": "stream",
     "text": [
      " 10%|█         | 5/50 [00:53<08:00, 10.67s/it]"
     ]
    },
    {
     "name": "stdout",
     "output_type": "stream",
     "text": [
      "Epoch 5, Train Loss: 0.2184, Validation Loss: 0.3011, Validation Accuracy: 0.8054, Precision: 0.7721, recall: 0.6803, F1: 0.6948, AUC: 0.9711, AUPR: 0.9315\n"
     ]
    },
    {
     "name": "stderr",
     "output_type": "stream",
     "text": [
      " 12%|█▏        | 6/50 [01:04<07:47, 10.63s/it]"
     ]
    },
    {
     "name": "stdout",
     "output_type": "stream",
     "text": [
      "Epoch 6, Train Loss: 0.3187, Validation Loss: 0.2926, Validation Accuracy: 0.8288, Precision: 0.7837, recall: 0.7099, F1: 0.7242, AUC: 0.9773, AUPR: 0.9437\n"
     ]
    },
    {
     "name": "stderr",
     "output_type": "stream",
     "text": [
      " 14%|█▍        | 7/50 [01:14<07:35, 10.60s/it]"
     ]
    },
    {
     "name": "stdout",
     "output_type": "stream",
     "text": [
      "Epoch 7, Train Loss: 0.1742, Validation Loss: 0.2816, Validation Accuracy: 0.8277, Precision: 0.7968, recall: 0.6768, F1: 0.7021, AUC: 0.9775, AUPR: 0.9459\n"
     ]
    },
    {
     "name": "stderr",
     "output_type": "stream",
     "text": [
      " 16%|█▌        | 8/50 [01:25<07:28, 10.67s/it]"
     ]
    },
    {
     "name": "stdout",
     "output_type": "stream",
     "text": [
      "Epoch 8, Train Loss: 0.1630, Validation Loss: 0.3185, Validation Accuracy: 0.8112, Precision: 0.7256, recall: 0.7520, F1: 0.7198, AUC: 0.9742, AUPR: 0.9360\n"
     ]
    },
    {
     "name": "stderr",
     "output_type": "stream",
     "text": [
      " 18%|█▊        | 9/50 [01:36<07:16, 10.64s/it]"
     ]
    },
    {
     "name": "stdout",
     "output_type": "stream",
     "text": [
      "Epoch 9, Train Loss: 0.1598, Validation Loss: 0.2932, Validation Accuracy: 0.8244, Precision: 0.7216, recall: 0.7317, F1: 0.7105, AUC: 0.9783, AUPR: 0.9457\n",
      "Epoch 10, Train Loss: 0.1586, Validation Loss: 0.2872, Validation Accuracy: 0.8288, Precision: 0.7731, recall: 0.6914, F1: 0.7106, AUC: 0.9819, AUPR: 0.9547\n"
     ]
    },
    {
     "name": "stderr",
     "output_type": "stream",
     "text": [
      " 20%|██        | 10/50 [01:47<07:11, 10.79s/it]"
     ]
    },
    {
     "name": "stdout",
     "output_type": "stream",
     "text": [
      "Saved checkpoint: checkpoints/cnn_ddi_epoch_10_pathway_target.pt\n"
     ]
    },
    {
     "name": "stderr",
     "output_type": "stream",
     "text": [
      " 22%|██▏       | 11/50 [01:57<06:58, 10.72s/it]"
     ]
    },
    {
     "name": "stdout",
     "output_type": "stream",
     "text": [
      "Epoch 11, Train Loss: 0.1653, Validation Loss: 0.3076, Validation Accuracy: 0.8300, Precision: 0.7509, recall: 0.7087, F1: 0.7102, AUC: 0.9803, AUPR: 0.9506\n"
     ]
    },
    {
     "name": "stderr",
     "output_type": "stream",
     "text": [
      " 24%|██▍       | 12/50 [02:08<06:45, 10.67s/it]"
     ]
    },
    {
     "name": "stdout",
     "output_type": "stream",
     "text": [
      "Epoch 12, Train Loss: 0.1532, Validation Loss: 0.3184, Validation Accuracy: 0.8272, Precision: 0.7803, recall: 0.7018, F1: 0.7164, AUC: 0.9805, AUPR: 0.9502\n"
     ]
    },
    {
     "name": "stderr",
     "output_type": "stream",
     "text": [
      " 26%|██▌       | 13/50 [02:19<06:37, 10.73s/it]"
     ]
    },
    {
     "name": "stdout",
     "output_type": "stream",
     "text": [
      "Epoch 13, Train Loss: 0.1514, Validation Loss: 0.3206, Validation Accuracy: 0.8249, Precision: 0.7642, recall: 0.7231, F1: 0.7281, AUC: 0.9801, AUPR: 0.9489\n"
     ]
    },
    {
     "name": "stderr",
     "output_type": "stream",
     "text": [
      " 28%|██▊       | 14/50 [02:29<06:26, 10.73s/it]"
     ]
    },
    {
     "name": "stdout",
     "output_type": "stream",
     "text": [
      "Epoch 14, Train Loss: 0.1422, Validation Loss: 0.3046, Validation Accuracy: 0.8293, Precision: 0.7772, recall: 0.7034, F1: 0.7179, AUC: 0.9802, AUPR: 0.9505\n"
     ]
    },
    {
     "name": "stderr",
     "output_type": "stream",
     "text": [
      " 30%|███       | 15/50 [02:40<06:16, 10.75s/it]"
     ]
    },
    {
     "name": "stdout",
     "output_type": "stream",
     "text": [
      "Epoch 15, Train Loss: 0.1486, Validation Loss: 0.3255, Validation Accuracy: 0.8183, Precision: 0.6955, recall: 0.6760, F1: 0.6695, AUC: 0.9769, AUPR: 0.9431\n"
     ]
    },
    {
     "name": "stderr",
     "output_type": "stream",
     "text": [
      " 32%|███▏      | 16/50 [02:51<06:09, 10.86s/it]"
     ]
    },
    {
     "name": "stdout",
     "output_type": "stream",
     "text": [
      "Epoch 16, Train Loss: 0.1359, Validation Loss: 0.4108, Validation Accuracy: 0.8170, Precision: 0.7080, recall: 0.6521, F1: 0.6513, AUC: 0.9759, AUPR: 0.9364\n"
     ]
    },
    {
     "name": "stderr",
     "output_type": "stream",
     "text": [
      " 34%|███▍      | 17/50 [03:02<06:00, 10.92s/it]"
     ]
    },
    {
     "name": "stdout",
     "output_type": "stream",
     "text": [
      "Epoch 17, Train Loss: 0.1242, Validation Loss: 0.3244, Validation Accuracy: 0.8218, Precision: 0.7180, recall: 0.6737, F1: 0.6808, AUC: 0.9806, AUPR: 0.9502\n"
     ]
    },
    {
     "name": "stderr",
     "output_type": "stream",
     "text": [
      " 36%|███▌      | 18/50 [03:13<05:48, 10.90s/it]"
     ]
    },
    {
     "name": "stdout",
     "output_type": "stream",
     "text": [
      "Epoch 18, Train Loss: 0.1709, Validation Loss: 6.5308, Validation Accuracy: 0.3313, Precision: 0.4492, recall: 0.4564, F1: 0.3249, AUC: 0.8908, AUPR: 0.7419\n"
     ]
    },
    {
     "name": "stderr",
     "output_type": "stream",
     "text": [
      " 38%|███▊      | 19/50 [03:24<05:38, 10.92s/it]"
     ]
    },
    {
     "name": "stdout",
     "output_type": "stream",
     "text": [
      "Epoch 19, Train Loss: 2.1680, Validation Loss: 0.3747, Validation Accuracy: 0.8203, Precision: 0.6717, recall: 0.7657, F1: 0.7017, AUC: 0.9778, AUPR: 0.9449\n",
      "Epoch 20, Train Loss: 0.1329, Validation Loss: 0.3333, Validation Accuracy: 0.8173, Precision: 0.7727, recall: 0.7255, F1: 0.7095, AUC: 0.9783, AUPR: 0.9439\n"
     ]
    },
    {
     "name": "stderr",
     "output_type": "stream",
     "text": [
      " 40%|████      | 20/50 [03:36<05:31, 11.06s/it]"
     ]
    },
    {
     "name": "stdout",
     "output_type": "stream",
     "text": [
      "Saved checkpoint: checkpoints/cnn_ddi_epoch_20_pathway_target.pt\n"
     ]
    },
    {
     "name": "stderr",
     "output_type": "stream",
     "text": [
      " 42%|████▏     | 21/50 [03:47<05:20, 11.07s/it]"
     ]
    },
    {
     "name": "stdout",
     "output_type": "stream",
     "text": [
      "Epoch 21, Train Loss: 0.1239, Validation Loss: 0.4642, Validation Accuracy: 0.8218, Precision: 0.7244, recall: 0.7755, F1: 0.7316, AUC: 0.9796, AUPR: 0.9483\n"
     ]
    },
    {
     "name": "stderr",
     "output_type": "stream",
     "text": [
      " 44%|████▍     | 22/50 [03:58<05:09, 11.07s/it]"
     ]
    },
    {
     "name": "stdout",
     "output_type": "stream",
     "text": [
      "Epoch 22, Train Loss: 0.1325, Validation Loss: 0.5259, Validation Accuracy: 0.7990, Precision: 0.6821, recall: 0.7891, F1: 0.6864, AUC: 0.9730, AUPR: 0.9319\n"
     ]
    },
    {
     "name": "stderr",
     "output_type": "stream",
     "text": [
      " 46%|████▌     | 23/50 [04:09<04:57, 11.03s/it]"
     ]
    },
    {
     "name": "stdout",
     "output_type": "stream",
     "text": [
      "Epoch 23, Train Loss: 0.1528, Validation Loss: 0.3581, Validation Accuracy: 0.8273, Precision: 0.7718, recall: 0.7107, F1: 0.7197, AUC: 0.9807, AUPR: 0.9476\n"
     ]
    },
    {
     "name": "stderr",
     "output_type": "stream",
     "text": [
      " 48%|████▊     | 24/50 [04:20<04:46, 11.02s/it]"
     ]
    },
    {
     "name": "stdout",
     "output_type": "stream",
     "text": [
      "Epoch 24, Train Loss: 0.2383, Validation Loss: 0.3241, Validation Accuracy: 0.8248, Precision: 0.7417, recall: 0.7099, F1: 0.7037, AUC: 0.9812, AUPR: 0.9501\n"
     ]
    },
    {
     "name": "stderr",
     "output_type": "stream",
     "text": [
      " 50%|█████     | 25/50 [04:30<04:31, 10.88s/it]"
     ]
    },
    {
     "name": "stdout",
     "output_type": "stream",
     "text": [
      "Epoch 25, Train Loss: 0.1082, Validation Loss: 0.3339, Validation Accuracy: 0.8354, Precision: 0.7387, recall: 0.7247, F1: 0.7129, AUC: 0.9832, AUPR: 0.9560\n"
     ]
    },
    {
     "name": "stderr",
     "output_type": "stream",
     "text": [
      " 52%|█████▏    | 26/50 [04:41<04:19, 10.80s/it]"
     ]
    },
    {
     "name": "stdout",
     "output_type": "stream",
     "text": [
      "Epoch 26, Train Loss: 0.1124, Validation Loss: 0.3919, Validation Accuracy: 0.7953, Precision: 0.7172, recall: 0.7476, F1: 0.7038, AUC: 0.9755, AUPR: 0.9381\n"
     ]
    },
    {
     "name": "stderr",
     "output_type": "stream",
     "text": [
      " 54%|█████▍    | 27/50 [04:51<04:06, 10.72s/it]"
     ]
    },
    {
     "name": "stdout",
     "output_type": "stream",
     "text": [
      "Epoch 27, Train Loss: 0.1469, Validation Loss: 0.3440, Validation Accuracy: 0.8256, Precision: 0.7527, recall: 0.6816, F1: 0.7016, AUC: 0.9818, AUPR: 0.9553\n"
     ]
    },
    {
     "name": "stderr",
     "output_type": "stream",
     "text": [
      " 56%|█████▌    | 28/50 [05:02<03:55, 10.71s/it]"
     ]
    },
    {
     "name": "stdout",
     "output_type": "stream",
     "text": [
      "Epoch 28, Train Loss: 0.1310, Validation Loss: 0.3741, Validation Accuracy: 0.8248, Precision: 0.7180, recall: 0.6817, F1: 0.6850, AUC: 0.9817, AUPR: 0.9537\n"
     ]
    },
    {
     "name": "stderr",
     "output_type": "stream",
     "text": [
      " 58%|█████▊    | 29/50 [05:13<03:44, 10.69s/it]"
     ]
    },
    {
     "name": "stdout",
     "output_type": "stream",
     "text": [
      "Epoch 29, Train Loss: 0.1283, Validation Loss: 0.3369, Validation Accuracy: 0.8358, Precision: 0.7266, recall: 0.6966, F1: 0.7015, AUC: 0.9811, AUPR: 0.9498\n",
      "Epoch 30, Train Loss: 0.1061, Validation Loss: 0.3588, Validation Accuracy: 0.8280, Precision: 0.7223, recall: 0.6495, F1: 0.6622, AUC: 0.9815, AUPR: 0.9519\n"
     ]
    },
    {
     "name": "stderr",
     "output_type": "stream",
     "text": [
      " 60%|██████    | 30/50 [05:24<03:36, 10.82s/it]"
     ]
    },
    {
     "name": "stdout",
     "output_type": "stream",
     "text": [
      "Saved checkpoint: checkpoints/cnn_ddi_epoch_30_pathway_target.pt\n"
     ]
    },
    {
     "name": "stderr",
     "output_type": "stream",
     "text": [
      " 62%|██████▏   | 31/50 [05:35<03:24, 10.77s/it]"
     ]
    },
    {
     "name": "stdout",
     "output_type": "stream",
     "text": [
      "Epoch 31, Train Loss: 0.7084, Validation Loss: 0.3646, Validation Accuracy: 0.8205, Precision: 0.7112, recall: 0.7234, F1: 0.7059, AUC: 0.9810, AUPR: 0.9540\n"
     ]
    },
    {
     "name": "stderr",
     "output_type": "stream",
     "text": [
      " 64%|██████▍   | 32/50 [05:45<03:12, 10.71s/it]"
     ]
    },
    {
     "name": "stdout",
     "output_type": "stream",
     "text": [
      "Epoch 32, Train Loss: 0.0946, Validation Loss: 0.3237, Validation Accuracy: 0.8419, Precision: 0.7575, recall: 0.6880, F1: 0.7076, AUC: 0.9828, AUPR: 0.9572\n"
     ]
    },
    {
     "name": "stderr",
     "output_type": "stream",
     "text": [
      " 66%|██████▌   | 33/50 [05:56<03:01, 10.69s/it]"
     ]
    },
    {
     "name": "stdout",
     "output_type": "stream",
     "text": [
      "Epoch 33, Train Loss: 0.1086, Validation Loss: 0.3861, Validation Accuracy: 0.8222, Precision: 0.7644, recall: 0.7054, F1: 0.7179, AUC: 0.9812, AUPR: 0.9515\n"
     ]
    },
    {
     "name": "stderr",
     "output_type": "stream",
     "text": [
      " 68%|██████▊   | 34/50 [06:06<02:50, 10.66s/it]"
     ]
    },
    {
     "name": "stdout",
     "output_type": "stream",
     "text": [
      "Epoch 34, Train Loss: 0.0944, Validation Loss: 0.4138, Validation Accuracy: 0.8177, Precision: 0.7240, recall: 0.6733, F1: 0.6773, AUC: 0.9810, AUPR: 0.9546\n"
     ]
    },
    {
     "name": "stderr",
     "output_type": "stream",
     "text": [
      " 70%|███████   | 35/50 [06:17<02:39, 10.61s/it]"
     ]
    },
    {
     "name": "stdout",
     "output_type": "stream",
     "text": [
      "Epoch 35, Train Loss: 0.1350, Validation Loss: 0.5822, Validation Accuracy: 0.8139, Precision: 0.6928, recall: 0.6816, F1: 0.6617, AUC: 0.9777, AUPR: 0.9422\n"
     ]
    },
    {
     "name": "stderr",
     "output_type": "stream",
     "text": [
      " 72%|███████▏  | 36/50 [06:27<02:28, 10.59s/it]"
     ]
    },
    {
     "name": "stdout",
     "output_type": "stream",
     "text": [
      "Epoch 36, Train Loss: 0.1152, Validation Loss: 0.3125, Validation Accuracy: 0.8272, Precision: 0.7043, recall: 0.6565, F1: 0.6664, AUC: 0.9801, AUPR: 0.9490\n"
     ]
    },
    {
     "name": "stderr",
     "output_type": "stream",
     "text": [
      " 74%|███████▍  | 37/50 [06:38<02:17, 10.60s/it]"
     ]
    },
    {
     "name": "stdout",
     "output_type": "stream",
     "text": [
      "Epoch 37, Train Loss: 0.0982, Validation Loss: 0.3751, Validation Accuracy: 0.8186, Precision: 0.6518, recall: 0.7095, F1: 0.6652, AUC: 0.9800, AUPR: 0.9502\n"
     ]
    },
    {
     "name": "stderr",
     "output_type": "stream",
     "text": [
      " 76%|███████▌  | 38/50 [06:49<02:07, 10.64s/it]"
     ]
    },
    {
     "name": "stdout",
     "output_type": "stream",
     "text": [
      "Epoch 38, Train Loss: 0.1289, Validation Loss: 0.4534, Validation Accuracy: 0.8189, Precision: 0.7060, recall: 0.6472, F1: 0.6649, AUC: 0.9761, AUPR: 0.9312\n"
     ]
    },
    {
     "name": "stderr",
     "output_type": "stream",
     "text": [
      " 78%|███████▊  | 39/50 [07:00<01:57, 10.68s/it]"
     ]
    },
    {
     "name": "stdout",
     "output_type": "stream",
     "text": [
      "Epoch 39, Train Loss: 0.1066, Validation Loss: 0.3894, Validation Accuracy: 0.8371, Precision: 0.7361, recall: 0.6442, F1: 0.6735, AUC: 0.9819, AUPR: 0.9483\n",
      "Epoch 40, Train Loss: 0.1000, Validation Loss: 0.4678, Validation Accuracy: 0.8061, Precision: 0.6833, recall: 0.6040, F1: 0.6205, AUC: 0.9773, AUPR: 0.9425\n"
     ]
    },
    {
     "name": "stderr",
     "output_type": "stream",
     "text": [
      " 80%|████████  | 40/50 [07:11<01:48, 10.83s/it]"
     ]
    },
    {
     "name": "stdout",
     "output_type": "stream",
     "text": [
      "Saved checkpoint: checkpoints/cnn_ddi_epoch_40_pathway_target.pt\n"
     ]
    },
    {
     "name": "stderr",
     "output_type": "stream",
     "text": [
      " 82%|████████▏ | 41/50 [07:21<01:37, 10.78s/it]"
     ]
    },
    {
     "name": "stdout",
     "output_type": "stream",
     "text": [
      "Epoch 41, Train Loss: 0.2763, Validation Loss: 0.3154, Validation Accuracy: 0.8374, Precision: 0.7354, recall: 0.6957, F1: 0.7042, AUC: 0.9835, AUPR: 0.9588\n"
     ]
    },
    {
     "name": "stderr",
     "output_type": "stream",
     "text": [
      " 84%|████████▍ | 42/50 [07:32<01:25, 10.72s/it]"
     ]
    },
    {
     "name": "stdout",
     "output_type": "stream",
     "text": [
      "Epoch 42, Train Loss: 0.0789, Validation Loss: 0.3252, Validation Accuracy: 0.8395, Precision: 0.7613, recall: 0.7037, F1: 0.7218, AUC: 0.9841, AUPR: 0.9602\n"
     ]
    },
    {
     "name": "stderr",
     "output_type": "stream",
     "text": [
      " 86%|████████▌ | 43/50 [07:43<01:14, 10.69s/it]"
     ]
    },
    {
     "name": "stdout",
     "output_type": "stream",
     "text": [
      "Epoch 43, Train Loss: 0.0828, Validation Loss: 0.3548, Validation Accuracy: 0.8321, Precision: 0.7449, recall: 0.7375, F1: 0.7248, AUC: 0.9810, AUPR: 0.9521\n"
     ]
    },
    {
     "name": "stderr",
     "output_type": "stream",
     "text": [
      " 88%|████████▊ | 44/50 [07:53<01:03, 10.66s/it]"
     ]
    },
    {
     "name": "stdout",
     "output_type": "stream",
     "text": [
      "Epoch 44, Train Loss: 0.0941, Validation Loss: 0.3472, Validation Accuracy: 0.8334, Precision: 0.7403, recall: 0.7460, F1: 0.7324, AUC: 0.9826, AUPR: 0.9553\n"
     ]
    },
    {
     "name": "stderr",
     "output_type": "stream",
     "text": [
      " 90%|█████████ | 45/50 [08:04<00:53, 10.65s/it]"
     ]
    },
    {
     "name": "stdout",
     "output_type": "stream",
     "text": [
      "Epoch 45, Train Loss: 0.1221, Validation Loss: 0.3673, Validation Accuracy: 0.8272, Precision: 0.7045, recall: 0.7374, F1: 0.7105, AUC: 0.9821, AUPR: 0.9564\n"
     ]
    },
    {
     "name": "stderr",
     "output_type": "stream",
     "text": [
      " 92%|█████████▏| 46/50 [08:14<00:42, 10.62s/it]"
     ]
    },
    {
     "name": "stdout",
     "output_type": "stream",
     "text": [
      "Epoch 46, Train Loss: 0.1040, Validation Loss: 0.6495, Validation Accuracy: 0.8134, Precision: 0.6836, recall: 0.6506, F1: 0.6355, AUC: 0.9768, AUPR: 0.9419\n"
     ]
    },
    {
     "name": "stderr",
     "output_type": "stream",
     "text": [
      " 94%|█████████▍| 47/50 [08:25<00:32, 10.73s/it]"
     ]
    },
    {
     "name": "stdout",
     "output_type": "stream",
     "text": [
      "Epoch 47, Train Loss: 0.1403, Validation Loss: 0.3664, Validation Accuracy: 0.8330, Precision: 0.7713, recall: 0.6534, F1: 0.6878, AUC: 0.9827, AUPR: 0.9511\n"
     ]
    },
    {
     "name": "stderr",
     "output_type": "stream",
     "text": [
      " 96%|█████████▌| 48/50 [08:36<00:21, 10.70s/it]"
     ]
    },
    {
     "name": "stdout",
     "output_type": "stream",
     "text": [
      "Epoch 48, Train Loss: 0.0829, Validation Loss: 0.4076, Validation Accuracy: 0.8352, Precision: 0.7194, recall: 0.7279, F1: 0.7089, AUC: 0.9823, AUPR: 0.9557\n"
     ]
    },
    {
     "name": "stderr",
     "output_type": "stream",
     "text": [
      " 98%|█████████▊| 49/50 [08:47<00:10, 10.67s/it]"
     ]
    },
    {
     "name": "stdout",
     "output_type": "stream",
     "text": [
      "Epoch 49, Train Loss: 1.7344, Validation Loss: 1.4612, Validation Accuracy: 0.7967, Precision: 0.6174, recall: 0.5480, F1: 0.5384, AUC: 0.9722, AUPR: 0.9310\n",
      "Epoch 50, Train Loss: 0.1775, Validation Loss: 0.5105, Validation Accuracy: 0.8242, Precision: 0.7203, recall: 0.6843, F1: 0.6915, AUC: 0.9804, AUPR: 0.9529\n"
     ]
    },
    {
     "name": "stderr",
     "output_type": "stream",
     "text": [
      "100%|██████████| 50/50 [08:58<00:00, 10.76s/it]"
     ]
    },
    {
     "name": "stdout",
     "output_type": "stream",
     "text": [
      "Saved checkpoint: checkpoints/cnn_ddi_epoch_50_pathway_target.pt\n",
      "Feature combination: ('pathway', 'enzyme')\n"
     ]
    },
    {
     "name": "stderr",
     "output_type": "stream",
     "text": [
      "\n",
      "/tmp/ipykernel_83239/3982585584.py:3: UserWarning: To copy construct from a tensor, it is recommended to use sourceTensor.clone().detach() or sourceTensor.clone().detach().requires_grad_(True), rather than torch.tensor(sourceTensor).\n",
      "  self.features = torch.tensor(features, dtype=torch.float32)\n",
      "  2%|▏         | 1/50 [00:10<08:37, 10.57s/it]"
     ]
    },
    {
     "name": "stdout",
     "output_type": "stream",
     "text": [
      "Epoch 1, Train Loss: 0.8579, Validation Loss: 0.4174, Validation Accuracy: 0.7652, Precision: 0.6209, recall: 0.4216, F1: 0.4491, AUC: 0.9562, AUPR: 0.8966\n"
     ]
    },
    {
     "name": "stderr",
     "output_type": "stream",
     "text": [
      "  4%|▍         | 2/50 [00:21<08:27, 10.57s/it]"
     ]
    },
    {
     "name": "stdout",
     "output_type": "stream",
     "text": [
      "Epoch 2, Train Loss: 0.3282, Validation Loss: 0.3351, Validation Accuracy: 0.7922, Precision: 0.7248, recall: 0.6170, F1: 0.6269, AUC: 0.9667, AUPR: 0.9192\n"
     ]
    },
    {
     "name": "stderr",
     "output_type": "stream",
     "text": [
      "  6%|▌         | 3/50 [00:31<08:17, 10.59s/it]"
     ]
    },
    {
     "name": "stdout",
     "output_type": "stream",
     "text": [
      "Epoch 3, Train Loss: 0.2491, Validation Loss: 0.2973, Validation Accuracy: 0.8127, Precision: 0.7267, recall: 0.5968, F1: 0.6192, AUC: 0.9711, AUPR: 0.9272\n"
     ]
    },
    {
     "name": "stderr",
     "output_type": "stream",
     "text": [
      "  8%|▊         | 4/50 [00:42<08:08, 10.63s/it]"
     ]
    },
    {
     "name": "stdout",
     "output_type": "stream",
     "text": [
      "Epoch 4, Train Loss: 0.2086, Validation Loss: 0.3340, Validation Accuracy: 0.7987, Precision: 0.6735, recall: 0.6393, F1: 0.6218, AUC: 0.9688, AUPR: 0.9230\n"
     ]
    },
    {
     "name": "stderr",
     "output_type": "stream",
     "text": [
      " 10%|█         | 5/50 [00:52<07:56, 10.60s/it]"
     ]
    },
    {
     "name": "stdout",
     "output_type": "stream",
     "text": [
      "Epoch 5, Train Loss: 0.1877, Validation Loss: 0.2826, Validation Accuracy: 0.8304, Precision: 0.7766, recall: 0.7744, F1: 0.7596, AUC: 0.9748, AUPR: 0.9376\n"
     ]
    },
    {
     "name": "stderr",
     "output_type": "stream",
     "text": [
      " 12%|█▏        | 6/50 [01:03<07:41, 10.48s/it]"
     ]
    },
    {
     "name": "stdout",
     "output_type": "stream",
     "text": [
      "Epoch 6, Train Loss: 0.1606, Validation Loss: 0.3085, Validation Accuracy: 0.8273, Precision: 0.7552, recall: 0.7259, F1: 0.7113, AUC: 0.9748, AUPR: 0.9337\n"
     ]
    },
    {
     "name": "stderr",
     "output_type": "stream",
     "text": [
      " 14%|█▍        | 7/50 [01:13<07:27, 10.40s/it]"
     ]
    },
    {
     "name": "stdout",
     "output_type": "stream",
     "text": [
      "Epoch 7, Train Loss: 0.1518, Validation Loss: 0.2869, Validation Accuracy: 0.8257, Precision: 0.7911, recall: 0.6293, F1: 0.6738, AUC: 0.9787, AUPR: 0.9479\n"
     ]
    },
    {
     "name": "stderr",
     "output_type": "stream",
     "text": [
      " 16%|█▌        | 8/50 [01:23<07:14, 10.35s/it]"
     ]
    },
    {
     "name": "stdout",
     "output_type": "stream",
     "text": [
      "Epoch 8, Train Loss: 0.1356, Validation Loss: 0.2951, Validation Accuracy: 0.8378, Precision: 0.7544, recall: 0.5736, F1: 0.6306, AUC: 0.9800, AUPR: 0.9486\n"
     ]
    },
    {
     "name": "stderr",
     "output_type": "stream",
     "text": [
      " 18%|█▊        | 9/50 [01:33<07:02, 10.31s/it]"
     ]
    },
    {
     "name": "stdout",
     "output_type": "stream",
     "text": [
      "Epoch 9, Train Loss: 0.1284, Validation Loss: 0.2602, Validation Accuracy: 0.8599, Precision: 0.7642, recall: 0.6949, F1: 0.6996, AUC: 0.9802, AUPR: 0.9494\n",
      "Epoch 10, Train Loss: 0.1198, Validation Loss: 0.2625, Validation Accuracy: 0.8594, Precision: 0.7481, recall: 0.7095, F1: 0.7129, AUC: 0.9832, AUPR: 0.9578\n"
     ]
    },
    {
     "name": "stderr",
     "output_type": "stream",
     "text": [
      " 20%|██        | 10/50 [01:44<06:56, 10.42s/it]"
     ]
    },
    {
     "name": "stdout",
     "output_type": "stream",
     "text": [
      "Saved checkpoint: checkpoints/cnn_ddi_epoch_10_pathway_enzyme.pt\n"
     ]
    },
    {
     "name": "stderr",
     "output_type": "stream",
     "text": [
      " 22%|██▏       | 11/50 [01:54<06:44, 10.38s/it]"
     ]
    },
    {
     "name": "stdout",
     "output_type": "stream",
     "text": [
      "Epoch 11, Train Loss: 0.1116, Validation Loss: 0.2977, Validation Accuracy: 0.8414, Precision: 0.7667, recall: 0.6811, F1: 0.7035, AUC: 0.9837, AUPR: 0.9572\n"
     ]
    },
    {
     "name": "stderr",
     "output_type": "stream",
     "text": [
      " 24%|██▍       | 12/50 [02:05<06:35, 10.40s/it]"
     ]
    },
    {
     "name": "stdout",
     "output_type": "stream",
     "text": [
      "Epoch 12, Train Loss: 0.1084, Validation Loss: 0.2900, Validation Accuracy: 0.8445, Precision: 0.7357, recall: 0.7265, F1: 0.7107, AUC: 0.9798, AUPR: 0.9504\n"
     ]
    },
    {
     "name": "stderr",
     "output_type": "stream",
     "text": [
      " 26%|██▌       | 13/50 [02:15<06:26, 10.44s/it]"
     ]
    },
    {
     "name": "stdout",
     "output_type": "stream",
     "text": [
      "Epoch 13, Train Loss: 0.0916, Validation Loss: 0.3113, Validation Accuracy: 0.8517, Precision: 0.7493, recall: 0.7321, F1: 0.7195, AUC: 0.9825, AUPR: 0.9547\n"
     ]
    },
    {
     "name": "stderr",
     "output_type": "stream",
     "text": [
      " 28%|██▊       | 14/50 [02:26<06:14, 10.40s/it]"
     ]
    },
    {
     "name": "stdout",
     "output_type": "stream",
     "text": [
      "Epoch 14, Train Loss: 0.1371, Validation Loss: 0.2876, Validation Accuracy: 0.8677, Precision: 0.7697, recall: 0.7539, F1: 0.7474, AUC: 0.9850, AUPR: 0.9600\n"
     ]
    },
    {
     "name": "stderr",
     "output_type": "stream",
     "text": [
      " 30%|███       | 15/50 [02:36<06:02, 10.37s/it]"
     ]
    },
    {
     "name": "stdout",
     "output_type": "stream",
     "text": [
      "Epoch 15, Train Loss: 0.0686, Validation Loss: 0.2802, Validation Accuracy: 0.8591, Precision: 0.7489, recall: 0.6998, F1: 0.7045, AUC: 0.9827, AUPR: 0.9555\n"
     ]
    },
    {
     "name": "stderr",
     "output_type": "stream",
     "text": [
      " 32%|███▏      | 16/50 [02:46<05:51, 10.34s/it]"
     ]
    },
    {
     "name": "stdout",
     "output_type": "stream",
     "text": [
      "Epoch 16, Train Loss: 0.1014, Validation Loss: 0.3455, Validation Accuracy: 0.8254, Precision: 0.7393, recall: 0.7410, F1: 0.7030, AUC: 0.9796, AUPR: 0.9495\n"
     ]
    },
    {
     "name": "stderr",
     "output_type": "stream",
     "text": [
      " 34%|███▍      | 17/50 [02:57<05:45, 10.47s/it]"
     ]
    },
    {
     "name": "stdout",
     "output_type": "stream",
     "text": [
      "Epoch 17, Train Loss: 0.0927, Validation Loss: 0.4085, Validation Accuracy: 0.8362, Precision: 0.7566, recall: 0.6876, F1: 0.6829, AUC: 0.9797, AUPR: 0.9497\n"
     ]
    },
    {
     "name": "stderr",
     "output_type": "stream",
     "text": [
      " 36%|███▌      | 18/50 [03:07<05:33, 10.42s/it]"
     ]
    },
    {
     "name": "stdout",
     "output_type": "stream",
     "text": [
      "Epoch 18, Train Loss: 0.0785, Validation Loss: 0.4036, Validation Accuracy: 0.8266, Precision: 0.7365, recall: 0.6059, F1: 0.6394, AUC: 0.9776, AUPR: 0.9420\n"
     ]
    },
    {
     "name": "stderr",
     "output_type": "stream",
     "text": [
      " 38%|███▊      | 19/50 [03:18<05:23, 10.45s/it]"
     ]
    },
    {
     "name": "stdout",
     "output_type": "stream",
     "text": [
      "Epoch 19, Train Loss: 0.1074, Validation Loss: 0.4818, Validation Accuracy: 0.8279, Precision: 0.7749, recall: 0.6267, F1: 0.6645, AUC: 0.9813, AUPR: 0.9533\n",
      "Epoch 20, Train Loss: 0.0732, Validation Loss: 0.3306, Validation Accuracy: 0.8587, Precision: 0.7546, recall: 0.7351, F1: 0.7224, AUC: 0.9825, AUPR: 0.9520\n"
     ]
    },
    {
     "name": "stderr",
     "output_type": "stream",
     "text": [
      " 40%|████      | 20/50 [03:29<05:18, 10.63s/it]"
     ]
    },
    {
     "name": "stdout",
     "output_type": "stream",
     "text": [
      "Saved checkpoint: checkpoints/cnn_ddi_epoch_20_pathway_enzyme.pt\n"
     ]
    },
    {
     "name": "stderr",
     "output_type": "stream",
     "text": [
      " 42%|████▏     | 21/50 [03:39<05:05, 10.53s/it]"
     ]
    },
    {
     "name": "stdout",
     "output_type": "stream",
     "text": [
      "Epoch 21, Train Loss: 0.1411, Validation Loss: 0.5331, Validation Accuracy: 0.8236, Precision: 0.7176, recall: 0.6841, F1: 0.6688, AUC: 0.9789, AUPR: 0.9469\n"
     ]
    },
    {
     "name": "stderr",
     "output_type": "stream",
     "text": [
      " 44%|████▍     | 22/50 [03:50<04:54, 10.50s/it]"
     ]
    },
    {
     "name": "stdout",
     "output_type": "stream",
     "text": [
      "Epoch 22, Train Loss: 0.0620, Validation Loss: 0.2691, Validation Accuracy: 0.8650, Precision: 0.7562, recall: 0.7902, F1: 0.7480, AUC: 0.9859, AUPR: 0.9658\n"
     ]
    },
    {
     "name": "stderr",
     "output_type": "stream",
     "text": [
      " 46%|████▌     | 23/50 [04:00<04:41, 10.42s/it]"
     ]
    },
    {
     "name": "stdout",
     "output_type": "stream",
     "text": [
      "Epoch 23, Train Loss: 0.0411, Validation Loss: 0.3769, Validation Accuracy: 0.8623, Precision: 0.7797, recall: 0.7568, F1: 0.7468, AUC: 0.9842, AUPR: 0.9603\n"
     ]
    },
    {
     "name": "stderr",
     "output_type": "stream",
     "text": [
      " 48%|████▊     | 24/50 [04:10<04:29, 10.38s/it]"
     ]
    },
    {
     "name": "stdout",
     "output_type": "stream",
     "text": [
      "Epoch 24, Train Loss: 0.1272, Validation Loss: 0.3404, Validation Accuracy: 0.8478, Precision: 0.7657, recall: 0.7454, F1: 0.7395, AUC: 0.9826, AUPR: 0.9550\n"
     ]
    },
    {
     "name": "stderr",
     "output_type": "stream",
     "text": [
      " 50%|█████     | 25/50 [04:21<04:20, 10.40s/it]"
     ]
    },
    {
     "name": "stdout",
     "output_type": "stream",
     "text": [
      "Epoch 25, Train Loss: 0.0452, Validation Loss: 0.3482, Validation Accuracy: 0.8622, Precision: 0.7936, recall: 0.7073, F1: 0.7296, AUC: 0.9849, AUPR: 0.9599\n"
     ]
    },
    {
     "name": "stderr",
     "output_type": "stream",
     "text": [
      " 52%|█████▏    | 26/50 [04:31<04:09, 10.39s/it]"
     ]
    },
    {
     "name": "stdout",
     "output_type": "stream",
     "text": [
      "Epoch 26, Train Loss: 0.1440, Validation Loss: 0.8335, Validation Accuracy: 0.8146, Precision: 0.6629, recall: 0.5861, F1: 0.5873, AUC: 0.9703, AUPR: 0.9269\n"
     ]
    },
    {
     "name": "stderr",
     "output_type": "stream",
     "text": [
      " 54%|█████▍    | 27/50 [04:42<04:00, 10.44s/it]"
     ]
    },
    {
     "name": "stdout",
     "output_type": "stream",
     "text": [
      "Epoch 27, Train Loss: 0.0977, Validation Loss: 0.2803, Validation Accuracy: 0.8708, Precision: 0.8051, recall: 0.7827, F1: 0.7781, AUC: 0.9860, AUPR: 0.9634\n"
     ]
    },
    {
     "name": "stderr",
     "output_type": "stream",
     "text": [
      " 56%|█████▌    | 28/50 [04:52<03:49, 10.41s/it]"
     ]
    },
    {
     "name": "stdout",
     "output_type": "stream",
     "text": [
      "Epoch 28, Train Loss: 0.0407, Validation Loss: 0.5038, Validation Accuracy: 0.8422, Precision: 0.7327, recall: 0.7185, F1: 0.7038, AUC: 0.9827, AUPR: 0.9528\n"
     ]
    },
    {
     "name": "stderr",
     "output_type": "stream",
     "text": [
      " 58%|█████▊    | 29/50 [05:02<03:38, 10.41s/it]"
     ]
    },
    {
     "name": "stdout",
     "output_type": "stream",
     "text": [
      "Epoch 29, Train Loss: 0.1309, Validation Loss: 0.5716, Validation Accuracy: 0.8370, Precision: 0.7399, recall: 0.6721, F1: 0.6780, AUC: 0.9763, AUPR: 0.9351\n",
      "Epoch 30, Train Loss: 0.0569, Validation Loss: 0.3352, Validation Accuracy: 0.8733, Precision: 0.7845, recall: 0.7196, F1: 0.7323, AUC: 0.9861, AUPR: 0.9636\n"
     ]
    },
    {
     "name": "stderr",
     "output_type": "stream",
     "text": [
      " 60%|██████    | 30/50 [05:13<03:30, 10.52s/it]"
     ]
    },
    {
     "name": "stdout",
     "output_type": "stream",
     "text": [
      "Saved checkpoint: checkpoints/cnn_ddi_epoch_30_pathway_enzyme.pt\n"
     ]
    },
    {
     "name": "stderr",
     "output_type": "stream",
     "text": [
      " 62%|██████▏   | 31/50 [05:23<03:17, 10.41s/it]"
     ]
    },
    {
     "name": "stdout",
     "output_type": "stream",
     "text": [
      "Epoch 31, Train Loss: 0.1247, Validation Loss: 0.5804, Validation Accuracy: 0.8367, Precision: 0.7435, recall: 0.6669, F1: 0.6833, AUC: 0.9805, AUPR: 0.9504\n"
     ]
    },
    {
     "name": "stderr",
     "output_type": "stream",
     "text": [
      " 64%|██████▍   | 32/50 [05:33<03:06, 10.35s/it]"
     ]
    },
    {
     "name": "stdout",
     "output_type": "stream",
     "text": [
      "Epoch 32, Train Loss: 0.0556, Validation Loss: 0.3262, Validation Accuracy: 0.8756, Precision: 0.7623, recall: 0.7243, F1: 0.7277, AUC: 0.9869, AUPR: 0.9665\n"
     ]
    },
    {
     "name": "stderr",
     "output_type": "stream",
     "text": [
      " 66%|██████▌   | 33/50 [05:44<02:56, 10.36s/it]"
     ]
    },
    {
     "name": "stdout",
     "output_type": "stream",
     "text": [
      "Epoch 33, Train Loss: 0.0474, Validation Loss: 0.4366, Validation Accuracy: 0.8574, Precision: 0.7668, recall: 0.7217, F1: 0.7266, AUC: 0.9813, AUPR: 0.9505\n"
     ]
    },
    {
     "name": "stderr",
     "output_type": "stream",
     "text": [
      " 68%|██████▊   | 34/50 [05:54<02:46, 10.44s/it]"
     ]
    },
    {
     "name": "stdout",
     "output_type": "stream",
     "text": [
      "Epoch 34, Train Loss: 0.1916, Validation Loss: 0.3336, Validation Accuracy: 0.8725, Precision: 0.7350, recall: 0.7081, F1: 0.7081, AUC: 0.9851, AUPR: 0.9630\n"
     ]
    },
    {
     "name": "stderr",
     "output_type": "stream",
     "text": [
      " 70%|███████   | 35/50 [06:05<02:37, 10.48s/it]"
     ]
    },
    {
     "name": "stdout",
     "output_type": "stream",
     "text": [
      "Epoch 35, Train Loss: 0.0337, Validation Loss: 0.3886, Validation Accuracy: 0.8770, Precision: 0.7258, recall: 0.7449, F1: 0.7227, AUC: 0.9850, AUPR: 0.9611\n"
     ]
    },
    {
     "name": "stderr",
     "output_type": "stream",
     "text": [
      " 72%|███████▏  | 36/50 [06:16<02:27, 10.52s/it]"
     ]
    },
    {
     "name": "stdout",
     "output_type": "stream",
     "text": [
      "Epoch 36, Train Loss: 0.0489, Validation Loss: 0.4353, Validation Accuracy: 0.8625, Precision: 0.7438, recall: 0.6901, F1: 0.7055, AUC: 0.9845, AUPR: 0.9626\n"
     ]
    },
    {
     "name": "stderr",
     "output_type": "stream",
     "text": [
      " 74%|███████▍  | 37/50 [06:26<02:16, 10.52s/it]"
     ]
    },
    {
     "name": "stdout",
     "output_type": "stream",
     "text": [
      "Epoch 37, Train Loss: 0.1476, Validation Loss: 0.4691, Validation Accuracy: 0.8662, Precision: 0.7871, recall: 0.7560, F1: 0.7575, AUC: 0.9846, AUPR: 0.9564\n"
     ]
    },
    {
     "name": "stderr",
     "output_type": "stream",
     "text": [
      " 76%|███████▌  | 38/50 [06:37<02:06, 10.52s/it]"
     ]
    },
    {
     "name": "stdout",
     "output_type": "stream",
     "text": [
      "Epoch 38, Train Loss: 0.0370, Validation Loss: 0.3786, Validation Accuracy: 0.8648, Precision: 0.7546, recall: 0.7429, F1: 0.7234, AUC: 0.9852, AUPR: 0.9620\n"
     ]
    },
    {
     "name": "stderr",
     "output_type": "stream",
     "text": [
      " 78%|███████▊  | 39/50 [06:47<01:54, 10.45s/it]"
     ]
    },
    {
     "name": "stdout",
     "output_type": "stream",
     "text": [
      "Epoch 39, Train Loss: 0.1449, Validation Loss: 0.5678, Validation Accuracy: 0.8372, Precision: 0.7324, recall: 0.7266, F1: 0.7062, AUC: 0.9754, AUPR: 0.9359\n",
      "Epoch 40, Train Loss: 0.0585, Validation Loss: 0.3811, Validation Accuracy: 0.8739, Precision: 0.8316, recall: 0.7529, F1: 0.7747, AUC: 0.9860, AUPR: 0.9632\n"
     ]
    },
    {
     "name": "stderr",
     "output_type": "stream",
     "text": [
      " 80%|████████  | 40/50 [06:58<01:46, 10.69s/it]"
     ]
    },
    {
     "name": "stdout",
     "output_type": "stream",
     "text": [
      "Saved checkpoint: checkpoints/cnn_ddi_epoch_40_pathway_enzyme.pt\n"
     ]
    },
    {
     "name": "stderr",
     "output_type": "stream",
     "text": [
      " 82%|████████▏ | 41/50 [07:09<01:35, 10.61s/it]"
     ]
    },
    {
     "name": "stdout",
     "output_type": "stream",
     "text": [
      "Epoch 41, Train Loss: 0.0349, Validation Loss: 0.4970, Validation Accuracy: 0.8598, Precision: 0.7554, recall: 0.6608, F1: 0.6748, AUC: 0.9828, AUPR: 0.9566\n"
     ]
    },
    {
     "name": "stderr",
     "output_type": "stream",
     "text": [
      " 84%|████████▍ | 42/50 [07:19<01:24, 10.56s/it]"
     ]
    },
    {
     "name": "stdout",
     "output_type": "stream",
     "text": [
      "Epoch 42, Train Loss: 0.1660, Validation Loss: 0.4808, Validation Accuracy: 0.8712, Precision: 0.7750, recall: 0.7694, F1: 0.7545, AUC: 0.9858, AUPR: 0.9612\n"
     ]
    },
    {
     "name": "stderr",
     "output_type": "stream",
     "text": [
      " 86%|████████▌ | 43/50 [07:29<01:13, 10.49s/it]"
     ]
    },
    {
     "name": "stdout",
     "output_type": "stream",
     "text": [
      "Epoch 43, Train Loss: 0.0400, Validation Loss: 0.4767, Validation Accuracy: 0.8684, Precision: 0.8040, recall: 0.7536, F1: 0.7581, AUC: 0.9851, AUPR: 0.9619\n"
     ]
    },
    {
     "name": "stderr",
     "output_type": "stream",
     "text": [
      " 88%|████████▊ | 44/50 [07:40<01:02, 10.45s/it]"
     ]
    },
    {
     "name": "stdout",
     "output_type": "stream",
     "text": [
      "Epoch 44, Train Loss: 0.4331, Validation Loss: 0.6023, Validation Accuracy: 0.8576, Precision: 0.7206, recall: 0.7410, F1: 0.7049, AUC: 0.9834, AUPR: 0.9541\n"
     ]
    },
    {
     "name": "stderr",
     "output_type": "stream",
     "text": [
      " 90%|█████████ | 45/50 [07:50<00:52, 10.49s/it]"
     ]
    },
    {
     "name": "stdout",
     "output_type": "stream",
     "text": [
      "Epoch 45, Train Loss: 0.0454, Validation Loss: 0.6140, Validation Accuracy: 0.8363, Precision: 0.7463, recall: 0.6733, F1: 0.6884, AUC: 0.9826, AUPR: 0.9571\n"
     ]
    },
    {
     "name": "stderr",
     "output_type": "stream",
     "text": [
      " 92%|█████████▏| 46/50 [08:01<00:41, 10.43s/it]"
     ]
    },
    {
     "name": "stdout",
     "output_type": "stream",
     "text": [
      "Epoch 46, Train Loss: 0.0411, Validation Loss: 0.5704, Validation Accuracy: 0.8684, Precision: 0.7609, recall: 0.7716, F1: 0.7436, AUC: 0.9838, AUPR: 0.9588\n"
     ]
    },
    {
     "name": "stderr",
     "output_type": "stream",
     "text": [
      " 94%|█████████▍| 47/50 [08:11<00:31, 10.36s/it]"
     ]
    },
    {
     "name": "stdout",
     "output_type": "stream",
     "text": [
      "Epoch 47, Train Loss: 0.1148, Validation Loss: 0.8446, Validation Accuracy: 0.8505, Precision: 0.8024, recall: 0.6830, F1: 0.7177, AUC: 0.9824, AUPR: 0.9534\n"
     ]
    },
    {
     "name": "stderr",
     "output_type": "stream",
     "text": [
      " 96%|█████████▌| 48/50 [08:21<00:20, 10.32s/it]"
     ]
    },
    {
     "name": "stdout",
     "output_type": "stream",
     "text": [
      "Epoch 48, Train Loss: 0.0800, Validation Loss: 0.5467, Validation Accuracy: 0.8595, Precision: 0.7736, recall: 0.7053, F1: 0.7224, AUC: 0.9841, AUPR: 0.9593\n"
     ]
    },
    {
     "name": "stderr",
     "output_type": "stream",
     "text": [
      " 98%|█████████▊| 49/50 [08:32<00:10, 10.40s/it]"
     ]
    },
    {
     "name": "stdout",
     "output_type": "stream",
     "text": [
      "Epoch 49, Train Loss: 0.0656, Validation Loss: 0.6306, Validation Accuracy: 0.8572, Precision: 0.7613, recall: 0.7356, F1: 0.7339, AUC: 0.9835, AUPR: 0.9555\n",
      "Epoch 50, Train Loss: 0.1127, Validation Loss: 0.4420, Validation Accuracy: 0.8708, Precision: 0.7612, recall: 0.7073, F1: 0.7245, AUC: 0.9853, AUPR: 0.9594\n"
     ]
    },
    {
     "name": "stderr",
     "output_type": "stream",
     "text": [
      "100%|██████████| 50/50 [08:43<00:00, 10.46s/it]"
     ]
    },
    {
     "name": "stdout",
     "output_type": "stream",
     "text": [
      "Saved checkpoint: checkpoints/cnn_ddi_epoch_50_pathway_enzyme.pt\n",
      "Feature combination: ('pathway', 'category')\n"
     ]
    },
    {
     "name": "stderr",
     "output_type": "stream",
     "text": [
      "\n",
      "/tmp/ipykernel_83239/3982585584.py:3: UserWarning: To copy construct from a tensor, it is recommended to use sourceTensor.clone().detach() or sourceTensor.clone().detach().requires_grad_(True), rather than torch.tensor(sourceTensor).\n",
      "  self.features = torch.tensor(features, dtype=torch.float32)\n",
      "  2%|▏         | 1/50 [00:10<08:40, 10.62s/it]"
     ]
    },
    {
     "name": "stdout",
     "output_type": "stream",
     "text": [
      "Epoch 1, Train Loss: 0.7633, Validation Loss: 0.2981, Validation Accuracy: 0.8256, Precision: 0.6718, recall: 0.6976, F1: 0.6652, AUC: 0.9740, AUPR: 0.9408\n"
     ]
    },
    {
     "name": "stderr",
     "output_type": "stream",
     "text": [
      "  4%|▍         | 2/50 [00:21<08:31, 10.65s/it]"
     ]
    },
    {
     "name": "stdout",
     "output_type": "stream",
     "text": [
      "Epoch 2, Train Loss: 0.2367, Validation Loss: 0.2460, Validation Accuracy: 0.8398, Precision: 0.7648, recall: 0.7318, F1: 0.7289, AUC: 0.9782, AUPR: 0.9467\n"
     ]
    },
    {
     "name": "stderr",
     "output_type": "stream",
     "text": [
      "  6%|▌         | 3/50 [00:31<08:17, 10.58s/it]"
     ]
    },
    {
     "name": "stdout",
     "output_type": "stream",
     "text": [
      "Epoch 3, Train Loss: 0.1860, Validation Loss: 0.2282, Validation Accuracy: 0.8521, Precision: 0.7809, recall: 0.7737, F1: 0.7612, AUC: 0.9823, AUPR: 0.9564\n"
     ]
    },
    {
     "name": "stderr",
     "output_type": "stream",
     "text": [
      "  8%|▊         | 4/50 [00:42<08:03, 10.52s/it]"
     ]
    },
    {
     "name": "stdout",
     "output_type": "stream",
     "text": [
      "Epoch 4, Train Loss: 0.1470, Validation Loss: 0.2027, Validation Accuracy: 0.8666, Precision: 0.7716, recall: 0.7670, F1: 0.7348, AUC: 0.9849, AUPR: 0.9645\n"
     ]
    },
    {
     "name": "stderr",
     "output_type": "stream",
     "text": [
      " 10%|█         | 5/50 [00:52<07:54, 10.54s/it]"
     ]
    },
    {
     "name": "stdout",
     "output_type": "stream",
     "text": [
      "Epoch 5, Train Loss: 0.2045, Validation Loss: 0.1747, Validation Accuracy: 0.8835, Precision: 0.7973, recall: 0.7421, F1: 0.7533, AUC: 0.9881, AUPR: 0.9726\n"
     ]
    },
    {
     "name": "stderr",
     "output_type": "stream",
     "text": [
      " 12%|█▏        | 6/50 [01:03<07:44, 10.56s/it]"
     ]
    },
    {
     "name": "stdout",
     "output_type": "stream",
     "text": [
      "Epoch 6, Train Loss: 0.0898, Validation Loss: 0.1936, Validation Accuracy: 0.8782, Precision: 0.7685, recall: 0.7195, F1: 0.7218, AUC: 0.9861, AUPR: 0.9654\n"
     ]
    },
    {
     "name": "stderr",
     "output_type": "stream",
     "text": [
      " 14%|█▍        | 7/50 [01:13<07:34, 10.57s/it]"
     ]
    },
    {
     "name": "stdout",
     "output_type": "stream",
     "text": [
      "Epoch 7, Train Loss: 0.0815, Validation Loss: 0.2169, Validation Accuracy: 0.8641, Precision: 0.7940, recall: 0.6567, F1: 0.6993, AUC: 0.9850, AUPR: 0.9630\n"
     ]
    },
    {
     "name": "stderr",
     "output_type": "stream",
     "text": [
      " 16%|█▌        | 8/50 [01:24<07:24, 10.58s/it]"
     ]
    },
    {
     "name": "stdout",
     "output_type": "stream",
     "text": [
      "Epoch 8, Train Loss: 0.1046, Validation Loss: 0.2556, Validation Accuracy: 0.8717, Precision: 0.7884, recall: 0.7768, F1: 0.7649, AUC: 0.9863, AUPR: 0.9681\n"
     ]
    },
    {
     "name": "stderr",
     "output_type": "stream",
     "text": [
      " 18%|█▊        | 9/50 [01:34<07:09, 10.46s/it]"
     ]
    },
    {
     "name": "stdout",
     "output_type": "stream",
     "text": [
      "Epoch 9, Train Loss: 0.0886, Validation Loss: 0.2543, Validation Accuracy: 0.8696, Precision: 0.7083, recall: 0.7615, F1: 0.7193, AUC: 0.9852, AUPR: 0.9648\n",
      "Epoch 10, Train Loss: 0.0793, Validation Loss: 0.2714, Validation Accuracy: 0.8725, Precision: 0.7918, recall: 0.7290, F1: 0.7426, AUC: 0.9869, AUPR: 0.9682\n"
     ]
    },
    {
     "name": "stderr",
     "output_type": "stream",
     "text": [
      " 20%|██        | 10/50 [01:45<07:03, 10.59s/it]"
     ]
    },
    {
     "name": "stdout",
     "output_type": "stream",
     "text": [
      "Saved checkpoint: checkpoints/cnn_ddi_epoch_10_pathway_category.pt\n"
     ]
    },
    {
     "name": "stderr",
     "output_type": "stream",
     "text": [
      " 22%|██▏       | 11/50 [01:56<06:52, 10.59s/it]"
     ]
    },
    {
     "name": "stdout",
     "output_type": "stream",
     "text": [
      "Epoch 11, Train Loss: 0.7552, Validation Loss: 0.3750, Validation Accuracy: 0.8362, Precision: 0.7820, recall: 0.6266, F1: 0.6716, AUC: 0.9784, AUPR: 0.9493\n"
     ]
    },
    {
     "name": "stderr",
     "output_type": "stream",
     "text": [
      " 24%|██▍       | 12/50 [02:06<06:42, 10.59s/it]"
     ]
    },
    {
     "name": "stdout",
     "output_type": "stream",
     "text": [
      "Epoch 12, Train Loss: 0.0715, Validation Loss: 0.2471, Validation Accuracy: 0.8972, Precision: 0.8055, recall: 0.8002, F1: 0.7888, AUC: 0.9909, AUPR: 0.9784\n"
     ]
    },
    {
     "name": "stderr",
     "output_type": "stream",
     "text": [
      " 26%|██▌       | 13/50 [02:18<06:38, 10.78s/it]"
     ]
    },
    {
     "name": "stdout",
     "output_type": "stream",
     "text": [
      "Epoch 13, Train Loss: 0.0462, Validation Loss: 0.2699, Validation Accuracy: 0.8940, Precision: 0.8043, recall: 0.8041, F1: 0.7942, AUC: 0.9917, AUPR: 0.9801\n"
     ]
    },
    {
     "name": "stderr",
     "output_type": "stream",
     "text": [
      " 28%|██▊       | 14/50 [02:29<06:30, 10.85s/it]"
     ]
    },
    {
     "name": "stdout",
     "output_type": "stream",
     "text": [
      "Epoch 14, Train Loss: 0.1919, Validation Loss: 0.3290, Validation Accuracy: 0.8783, Precision: 0.7263, recall: 0.7903, F1: 0.7374, AUC: 0.9889, AUPR: 0.9746\n"
     ]
    },
    {
     "name": "stderr",
     "output_type": "stream",
     "text": [
      " 30%|███       | 15/50 [02:39<06:19, 10.86s/it]"
     ]
    },
    {
     "name": "stdout",
     "output_type": "stream",
     "text": [
      "Epoch 15, Train Loss: 0.0366, Validation Loss: 0.2576, Validation Accuracy: 0.8908, Precision: 0.7847, recall: 0.7747, F1: 0.7710, AUC: 0.9905, AUPR: 0.9783\n"
     ]
    },
    {
     "name": "stderr",
     "output_type": "stream",
     "text": [
      " 32%|███▏      | 16/50 [02:50<06:08, 10.84s/it]"
     ]
    },
    {
     "name": "stdout",
     "output_type": "stream",
     "text": [
      "Epoch 16, Train Loss: 0.0396, Validation Loss: 0.3163, Validation Accuracy: 0.8917, Precision: 0.7898, recall: 0.7826, F1: 0.7747, AUC: 0.9884, AUPR: 0.9724\n"
     ]
    },
    {
     "name": "stderr",
     "output_type": "stream",
     "text": [
      " 34%|███▍      | 17/50 [03:01<05:59, 10.88s/it]"
     ]
    },
    {
     "name": "stdout",
     "output_type": "stream",
     "text": [
      "Epoch 17, Train Loss: 0.1083, Validation Loss: 0.2689, Validation Accuracy: 0.8900, Precision: 0.8100, recall: 0.7234, F1: 0.7420, AUC: 0.9907, AUPR: 0.9740\n"
     ]
    },
    {
     "name": "stderr",
     "output_type": "stream",
     "text": [
      " 36%|███▌      | 18/50 [03:12<05:50, 10.95s/it]"
     ]
    },
    {
     "name": "stdout",
     "output_type": "stream",
     "text": [
      "Epoch 18, Train Loss: 0.0340, Validation Loss: 0.3994, Validation Accuracy: 0.8771, Precision: 0.7623, recall: 0.7582, F1: 0.7357, AUC: 0.9880, AUPR: 0.9707\n"
     ]
    },
    {
     "name": "stderr",
     "output_type": "stream",
     "text": [
      " 38%|███▊      | 19/50 [03:23<05:40, 11.00s/it]"
     ]
    },
    {
     "name": "stdout",
     "output_type": "stream",
     "text": [
      "Epoch 19, Train Loss: 0.0871, Validation Loss: 0.5663, Validation Accuracy: 0.8642, Precision: 0.7394, recall: 0.6860, F1: 0.6929, AUC: 0.9825, AUPR: 0.9600\n",
      "Epoch 20, Train Loss: 0.0729, Validation Loss: 0.2880, Validation Accuracy: 0.9062, Precision: 0.8304, recall: 0.8139, F1: 0.8087, AUC: 0.9903, AUPR: 0.9782\n"
     ]
    },
    {
     "name": "stderr",
     "output_type": "stream",
     "text": [
      " 40%|████      | 20/50 [03:34<05:29, 10.99s/it]"
     ]
    },
    {
     "name": "stdout",
     "output_type": "stream",
     "text": [
      "Saved checkpoint: checkpoints/cnn_ddi_epoch_20_pathway_category.pt\n"
     ]
    },
    {
     "name": "stderr",
     "output_type": "stream",
     "text": [
      " 42%|████▏     | 21/50 [03:45<05:14, 10.85s/it]"
     ]
    },
    {
     "name": "stdout",
     "output_type": "stream",
     "text": [
      "Epoch 21, Train Loss: 0.0307, Validation Loss: 0.3888, Validation Accuracy: 0.8874, Precision: 0.7732, recall: 0.7366, F1: 0.7401, AUC: 0.9879, AUPR: 0.9719\n"
     ]
    },
    {
     "name": "stderr",
     "output_type": "stream",
     "text": [
      " 44%|████▍     | 22/50 [03:55<05:01, 10.76s/it]"
     ]
    },
    {
     "name": "stdout",
     "output_type": "stream",
     "text": [
      "Epoch 22, Train Loss: 0.2399, Validation Loss: 0.3626, Validation Accuracy: 0.8943, Precision: 0.7892, recall: 0.7623, F1: 0.7565, AUC: 0.9909, AUPR: 0.9777\n"
     ]
    },
    {
     "name": "stderr",
     "output_type": "stream",
     "text": [
      " 46%|████▌     | 23/50 [04:06<04:48, 10.70s/it]"
     ]
    },
    {
     "name": "stdout",
     "output_type": "stream",
     "text": [
      "Epoch 23, Train Loss: 0.0196, Validation Loss: 0.3334, Validation Accuracy: 0.9002, Precision: 0.8396, recall: 0.7809, F1: 0.7944, AUC: 0.9915, AUPR: 0.9786\n"
     ]
    },
    {
     "name": "stderr",
     "output_type": "stream",
     "text": [
      " 48%|████▊     | 24/50 [04:17<04:37, 10.68s/it]"
     ]
    },
    {
     "name": "stdout",
     "output_type": "stream",
     "text": [
      "Epoch 24, Train Loss: 0.0477, Validation Loss: 0.3954, Validation Accuracy: 0.8846, Precision: 0.8049, recall: 0.7548, F1: 0.7547, AUC: 0.9869, AUPR: 0.9701\n"
     ]
    },
    {
     "name": "stderr",
     "output_type": "stream",
     "text": [
      " 50%|█████     | 25/50 [04:27<04:26, 10.67s/it]"
     ]
    },
    {
     "name": "stdout",
     "output_type": "stream",
     "text": [
      "Epoch 25, Train Loss: 0.3662, Validation Loss: 0.5853, Validation Accuracy: 0.8802, Precision: 0.7551, recall: 0.7267, F1: 0.7132, AUC: 0.9888, AUPR: 0.9720\n"
     ]
    },
    {
     "name": "stderr",
     "output_type": "stream",
     "text": [
      " 52%|█████▏    | 26/50 [04:38<04:16, 10.67s/it]"
     ]
    },
    {
     "name": "stdout",
     "output_type": "stream",
     "text": [
      "Epoch 26, Train Loss: 0.0393, Validation Loss: 0.4091, Validation Accuracy: 0.8908, Precision: 0.8212, recall: 0.7743, F1: 0.7812, AUC: 0.9900, AUPR: 0.9777\n"
     ]
    },
    {
     "name": "stderr",
     "output_type": "stream",
     "text": [
      " 54%|█████▍    | 27/50 [04:49<04:06, 10.70s/it]"
     ]
    },
    {
     "name": "stdout",
     "output_type": "stream",
     "text": [
      "Epoch 27, Train Loss: 0.0230, Validation Loss: 0.5201, Validation Accuracy: 0.8839, Precision: 0.8009, recall: 0.7868, F1: 0.7776, AUC: 0.9896, AUPR: 0.9763\n"
     ]
    },
    {
     "name": "stderr",
     "output_type": "stream",
     "text": [
      " 56%|█████▌    | 28/50 [04:59<03:54, 10.67s/it]"
     ]
    },
    {
     "name": "stdout",
     "output_type": "stream",
     "text": [
      "Epoch 28, Train Loss: 0.0742, Validation Loss: 0.5551, Validation Accuracy: 0.8749, Precision: 0.7957, recall: 0.7343, F1: 0.7466, AUC: 0.9869, AUPR: 0.9675\n"
     ]
    },
    {
     "name": "stderr",
     "output_type": "stream",
     "text": [
      " 58%|█████▊    | 29/50 [05:10<03:44, 10.67s/it]"
     ]
    },
    {
     "name": "stdout",
     "output_type": "stream",
     "text": [
      "Epoch 29, Train Loss: 0.0711, Validation Loss: 0.3744, Validation Accuracy: 0.8890, Precision: 0.7578, recall: 0.7189, F1: 0.7190, AUC: 0.9896, AUPR: 0.9746\n",
      "Epoch 30, Train Loss: 0.1541, Validation Loss: 0.8505, Validation Accuracy: 0.8524, Precision: 0.7328, recall: 0.7700, F1: 0.7222, AUC: 0.9802, AUPR: 0.9574\n"
     ]
    },
    {
     "name": "stderr",
     "output_type": "stream",
     "text": [
      " 60%|██████    | 30/50 [05:21<03:36, 10.84s/it]"
     ]
    },
    {
     "name": "stdout",
     "output_type": "stream",
     "text": [
      "Saved checkpoint: checkpoints/cnn_ddi_epoch_30_pathway_category.pt\n"
     ]
    },
    {
     "name": "stderr",
     "output_type": "stream",
     "text": [
      " 62%|██████▏   | 31/50 [05:32<03:25, 10.82s/it]"
     ]
    },
    {
     "name": "stdout",
     "output_type": "stream",
     "text": [
      "Epoch 31, Train Loss: 0.0679, Validation Loss: 0.5769, Validation Accuracy: 0.8925, Precision: 0.7485, recall: 0.7932, F1: 0.7523, AUC: 0.9902, AUPR: 0.9787\n"
     ]
    },
    {
     "name": "stderr",
     "output_type": "stream",
     "text": [
      " 64%|██████▍   | 32/50 [05:43<03:13, 10.76s/it]"
     ]
    },
    {
     "name": "stdout",
     "output_type": "stream",
     "text": [
      "Epoch 32, Train Loss: 0.0268, Validation Loss: 0.6331, Validation Accuracy: 0.8941, Precision: 0.7437, recall: 0.7852, F1: 0.7448, AUC: 0.9899, AUPR: 0.9787\n"
     ]
    },
    {
     "name": "stderr",
     "output_type": "stream",
     "text": [
      " 66%|██████▌   | 33/50 [05:53<03:01, 10.69s/it]"
     ]
    },
    {
     "name": "stdout",
     "output_type": "stream",
     "text": [
      "Epoch 33, Train Loss: 0.8041, Validation Loss: 1.0696, Validation Accuracy: 0.8572, Precision: 0.7655, recall: 0.7447, F1: 0.7230, AUC: 0.9846, AUPR: 0.9588\n"
     ]
    },
    {
     "name": "stderr",
     "output_type": "stream",
     "text": [
      " 68%|██████▊   | 34/50 [06:04<02:50, 10.68s/it]"
     ]
    },
    {
     "name": "stdout",
     "output_type": "stream",
     "text": [
      "Epoch 34, Train Loss: 0.0919, Validation Loss: 0.9116, Validation Accuracy: 0.8829, Precision: 0.8150, recall: 0.6719, F1: 0.7149, AUC: 0.9898, AUPR: 0.9749\n"
     ]
    },
    {
     "name": "stderr",
     "output_type": "stream",
     "text": [
      " 70%|███████   | 35/50 [06:14<02:39, 10.67s/it]"
     ]
    },
    {
     "name": "stdout",
     "output_type": "stream",
     "text": [
      "Epoch 35, Train Loss: 0.0281, Validation Loss: 0.7610, Validation Accuracy: 0.8990, Precision: 0.8078, recall: 0.8229, F1: 0.7983, AUC: 0.9906, AUPR: 0.9791\n"
     ]
    },
    {
     "name": "stderr",
     "output_type": "stream",
     "text": [
      " 72%|███████▏  | 36/50 [06:25<02:28, 10.64s/it]"
     ]
    },
    {
     "name": "stdout",
     "output_type": "stream",
     "text": [
      "Epoch 36, Train Loss: 0.0665, Validation Loss: 1.0386, Validation Accuracy: 0.8827, Precision: 0.7885, recall: 0.7209, F1: 0.7394, AUC: 0.9890, AUPR: 0.9704\n"
     ]
    },
    {
     "name": "stderr",
     "output_type": "stream",
     "text": [
      " 74%|███████▍  | 37/50 [06:36<02:18, 10.64s/it]"
     ]
    },
    {
     "name": "stdout",
     "output_type": "stream",
     "text": [
      "Epoch 37, Train Loss: 0.0928, Validation Loss: 0.8788, Validation Accuracy: 0.8784, Precision: 0.7483, recall: 0.7938, F1: 0.7443, AUC: 0.9868, AUPR: 0.9703\n"
     ]
    },
    {
     "name": "stderr",
     "output_type": "stream",
     "text": [
      " 76%|███████▌  | 38/50 [06:46<02:07, 10.62s/it]"
     ]
    },
    {
     "name": "stdout",
     "output_type": "stream",
     "text": [
      "Epoch 38, Train Loss: 0.1109, Validation Loss: 1.0464, Validation Accuracy: 0.8923, Precision: 0.8023, recall: 0.7235, F1: 0.7514, AUC: 0.9891, AUPR: 0.9731\n"
     ]
    },
    {
     "name": "stderr",
     "output_type": "stream",
     "text": [
      " 78%|███████▊  | 39/50 [06:57<01:57, 10.65s/it]"
     ]
    },
    {
     "name": "stdout",
     "output_type": "stream",
     "text": [
      "Epoch 39, Train Loss: 0.0699, Validation Loss: 0.7753, Validation Accuracy: 0.8764, Precision: 0.7782, recall: 0.7158, F1: 0.7215, AUC: 0.9875, AUPR: 0.9702\n",
      "Epoch 40, Train Loss: 0.1693, Validation Loss: 1.2977, Validation Accuracy: 0.8809, Precision: 0.7570, recall: 0.7562, F1: 0.7410, AUC: 0.9864, AUPR: 0.9659\n"
     ]
    },
    {
     "name": "stderr",
     "output_type": "stream",
     "text": [
      " 80%|████████  | 40/50 [07:08<01:47, 10.76s/it]"
     ]
    },
    {
     "name": "stdout",
     "output_type": "stream",
     "text": [
      "Saved checkpoint: checkpoints/cnn_ddi_epoch_40_pathway_category.pt\n"
     ]
    },
    {
     "name": "stderr",
     "output_type": "stream",
     "text": [
      " 82%|████████▏ | 41/50 [07:19<01:36, 10.74s/it]"
     ]
    },
    {
     "name": "stdout",
     "output_type": "stream",
     "text": [
      "Epoch 41, Train Loss: 0.0562, Validation Loss: 0.6936, Validation Accuracy: 0.8744, Precision: 0.7568, recall: 0.6606, F1: 0.6877, AUC: 0.9862, AUPR: 0.9646\n"
     ]
    },
    {
     "name": "stderr",
     "output_type": "stream",
     "text": [
      " 84%|████████▍ | 42/50 [07:29<01:25, 10.68s/it]"
     ]
    },
    {
     "name": "stdout",
     "output_type": "stream",
     "text": [
      "Epoch 42, Train Loss: 0.0622, Validation Loss: 1.3132, Validation Accuracy: 0.8653, Precision: 0.7468, recall: 0.6956, F1: 0.6976, AUC: 0.9863, AUPR: 0.9585\n"
     ]
    },
    {
     "name": "stderr",
     "output_type": "stream",
     "text": [
      " 86%|████████▌ | 43/50 [07:40<01:14, 10.66s/it]"
     ]
    },
    {
     "name": "stdout",
     "output_type": "stream",
     "text": [
      "Epoch 43, Train Loss: 0.2752, Validation Loss: 0.9464, Validation Accuracy: 0.8955, Precision: 0.7857, recall: 0.7107, F1: 0.7284, AUC: 0.9902, AUPR: 0.9725\n"
     ]
    },
    {
     "name": "stderr",
     "output_type": "stream",
     "text": [
      " 88%|████████▊ | 44/50 [07:50<01:03, 10.63s/it]"
     ]
    },
    {
     "name": "stdout",
     "output_type": "stream",
     "text": [
      "Epoch 44, Train Loss: 0.0364, Validation Loss: 0.9467, Validation Accuracy: 0.9002, Precision: 0.7864, recall: 0.7729, F1: 0.7615, AUC: 0.9915, AUPR: 0.9757\n"
     ]
    },
    {
     "name": "stderr",
     "output_type": "stream",
     "text": [
      " 90%|█████████ | 45/50 [08:01<00:52, 10.59s/it]"
     ]
    },
    {
     "name": "stdout",
     "output_type": "stream",
     "text": [
      "Epoch 45, Train Loss: 0.0528, Validation Loss: 0.8724, Validation Accuracy: 0.9062, Precision: 0.7856, recall: 0.7940, F1: 0.7804, AUC: 0.9910, AUPR: 0.9777\n"
     ]
    },
    {
     "name": "stderr",
     "output_type": "stream",
     "text": [
      " 92%|█████████▏| 46/50 [08:11<00:42, 10.55s/it]"
     ]
    },
    {
     "name": "stdout",
     "output_type": "stream",
     "text": [
      "Epoch 46, Train Loss: 0.6581, Validation Loss: 1.5056, Validation Accuracy: 0.8913, Precision: 0.7946, recall: 0.7834, F1: 0.7755, AUC: 0.9887, AUPR: 0.9633\n"
     ]
    },
    {
     "name": "stderr",
     "output_type": "stream",
     "text": [
      " 94%|█████████▍| 47/50 [08:22<00:31, 10.55s/it]"
     ]
    },
    {
     "name": "stdout",
     "output_type": "stream",
     "text": [
      "Epoch 47, Train Loss: 0.0560, Validation Loss: 1.3523, Validation Accuracy: 0.8932, Precision: 0.7730, recall: 0.7380, F1: 0.7444, AUC: 0.9899, AUPR: 0.9695\n"
     ]
    },
    {
     "name": "stderr",
     "output_type": "stream",
     "text": [
      " 96%|█████████▌| 48/50 [08:33<00:21, 10.72s/it]"
     ]
    },
    {
     "name": "stdout",
     "output_type": "stream",
     "text": [
      "Epoch 48, Train Loss: 0.0588, Validation Loss: 1.3510, Validation Accuracy: 0.8987, Precision: 0.7852, recall: 0.7783, F1: 0.7668, AUC: 0.9896, AUPR: 0.9677\n"
     ]
    },
    {
     "name": "stderr",
     "output_type": "stream",
     "text": [
      " 98%|█████████▊| 49/50 [08:44<00:10, 10.69s/it]"
     ]
    },
    {
     "name": "stdout",
     "output_type": "stream",
     "text": [
      "Epoch 49, Train Loss: 0.1282, Validation Loss: 1.6876, Validation Accuracy: 0.8971, Precision: 0.7990, recall: 0.7837, F1: 0.7795, AUC: 0.9876, AUPR: 0.9578\n",
      "Epoch 50, Train Loss: 0.0746, Validation Loss: 1.4535, Validation Accuracy: 0.8936, Precision: 0.7891, recall: 0.7767, F1: 0.7715, AUC: 0.9872, AUPR: 0.9566\n"
     ]
    },
    {
     "name": "stderr",
     "output_type": "stream",
     "text": [
      "100%|██████████| 50/50 [08:55<00:00, 10.70s/it]"
     ]
    },
    {
     "name": "stdout",
     "output_type": "stream",
     "text": [
      "Saved checkpoint: checkpoints/cnn_ddi_epoch_50_pathway_category.pt\n",
      "Feature combination: ('target', 'enzyme')\n"
     ]
    },
    {
     "name": "stderr",
     "output_type": "stream",
     "text": [
      "\n",
      "/tmp/ipykernel_83239/3982585584.py:3: UserWarning: To copy construct from a tensor, it is recommended to use sourceTensor.clone().detach() or sourceTensor.clone().detach().requires_grad_(True), rather than torch.tensor(sourceTensor).\n",
      "  self.features = torch.tensor(features, dtype=torch.float32)\n",
      "  2%|▏         | 1/50 [00:10<08:36, 10.53s/it]"
     ]
    },
    {
     "name": "stdout",
     "output_type": "stream",
     "text": [
      "Epoch 1, Train Loss: 0.8484, Validation Loss: 0.3965, Validation Accuracy: 0.7734, Precision: 0.6122, recall: 0.4868, F1: 0.5091, AUC: 0.9540, AUPR: 0.8855\n"
     ]
    },
    {
     "name": "stderr",
     "output_type": "stream",
     "text": [
      "  4%|▍         | 2/50 [00:21<08:25, 10.52s/it]"
     ]
    },
    {
     "name": "stdout",
     "output_type": "stream",
     "text": [
      "Epoch 2, Train Loss: 0.3213, Validation Loss: 0.3137, Validation Accuracy: 0.8123, Precision: 0.7076, recall: 0.6635, F1: 0.6484, AUC: 0.9699, AUPR: 0.9171\n"
     ]
    },
    {
     "name": "stderr",
     "output_type": "stream",
     "text": [
      "  6%|▌         | 3/50 [00:31<08:16, 10.56s/it]"
     ]
    },
    {
     "name": "stdout",
     "output_type": "stream",
     "text": [
      "Epoch 3, Train Loss: 0.2372, Validation Loss: 0.3009, Validation Accuracy: 0.8189, Precision: 0.7015, recall: 0.6201, F1: 0.6170, AUC: 0.9721, AUPR: 0.9223\n"
     ]
    },
    {
     "name": "stderr",
     "output_type": "stream",
     "text": [
      "  8%|▊         | 4/50 [00:42<08:05, 10.55s/it]"
     ]
    },
    {
     "name": "stdout",
     "output_type": "stream",
     "text": [
      "Epoch 4, Train Loss: 0.2139, Validation Loss: 0.2715, Validation Accuracy: 0.8316, Precision: 0.7522, recall: 0.7399, F1: 0.7232, AUC: 0.9753, AUPR: 0.9388\n"
     ]
    },
    {
     "name": "stderr",
     "output_type": "stream",
     "text": [
      " 10%|█         | 5/50 [00:52<07:53, 10.53s/it]"
     ]
    },
    {
     "name": "stdout",
     "output_type": "stream",
     "text": [
      "Epoch 5, Train Loss: 0.1752, Validation Loss: 0.2973, Validation Accuracy: 0.8293, Precision: 0.7225, recall: 0.6800, F1: 0.6749, AUC: 0.9747, AUPR: 0.9355\n"
     ]
    },
    {
     "name": "stderr",
     "output_type": "stream",
     "text": [
      " 12%|█▏        | 6/50 [01:03<07:42, 10.52s/it]"
     ]
    },
    {
     "name": "stdout",
     "output_type": "stream",
     "text": [
      "Epoch 6, Train Loss: 0.1672, Validation Loss: 0.2731, Validation Accuracy: 0.8354, Precision: 0.7370, recall: 0.7732, F1: 0.7302, AUC: 0.9779, AUPR: 0.9481\n"
     ]
    },
    {
     "name": "stderr",
     "output_type": "stream",
     "text": [
      " 14%|█▍        | 7/50 [01:13<07:31, 10.50s/it]"
     ]
    },
    {
     "name": "stdout",
     "output_type": "stream",
     "text": [
      "Epoch 7, Train Loss: 0.1398, Validation Loss: 0.2674, Validation Accuracy: 0.8394, Precision: 0.7677, recall: 0.6475, F1: 0.6728, AUC: 0.9784, AUPR: 0.9427\n"
     ]
    },
    {
     "name": "stderr",
     "output_type": "stream",
     "text": [
      " 16%|█▌        | 8/50 [01:24<07:26, 10.63s/it]"
     ]
    },
    {
     "name": "stdout",
     "output_type": "stream",
     "text": [
      "Epoch 8, Train Loss: 0.1463, Validation Loss: 0.3292, Validation Accuracy: 0.8248, Precision: 0.7756, recall: 0.7458, F1: 0.7244, AUC: 0.9731, AUPR: 0.9348\n"
     ]
    },
    {
     "name": "stderr",
     "output_type": "stream",
     "text": [
      " 18%|█▊        | 9/50 [01:35<07:15, 10.61s/it]"
     ]
    },
    {
     "name": "stdout",
     "output_type": "stream",
     "text": [
      "Epoch 9, Train Loss: 0.1196, Validation Loss: 0.2533, Validation Accuracy: 0.8570, Precision: 0.8140, recall: 0.7560, F1: 0.7639, AUC: 0.9828, AUPR: 0.9564\n",
      "Epoch 10, Train Loss: 0.1286, Validation Loss: 0.3313, Validation Accuracy: 0.8395, Precision: 0.7713, recall: 0.6798, F1: 0.6953, AUC: 0.9831, AUPR: 0.9580\n"
     ]
    },
    {
     "name": "stderr",
     "output_type": "stream",
     "text": [
      " 20%|██        | 10/50 [01:46<07:10, 10.77s/it]"
     ]
    },
    {
     "name": "stdout",
     "output_type": "stream",
     "text": [
      "Saved checkpoint: checkpoints/cnn_ddi_epoch_10_target_enzyme.pt\n"
     ]
    },
    {
     "name": "stderr",
     "output_type": "stream",
     "text": [
      " 22%|██▏       | 11/50 [01:56<06:57, 10.72s/it]"
     ]
    },
    {
     "name": "stdout",
     "output_type": "stream",
     "text": [
      "Epoch 11, Train Loss: 0.1131, Validation Loss: 0.3500, Validation Accuracy: 0.8304, Precision: 0.7136, recall: 0.6789, F1: 0.6698, AUC: 0.9786, AUPR: 0.9460\n"
     ]
    },
    {
     "name": "stderr",
     "output_type": "stream",
     "text": [
      " 24%|██▍       | 12/50 [02:07<06:46, 10.69s/it]"
     ]
    },
    {
     "name": "stdout",
     "output_type": "stream",
     "text": [
      "Epoch 12, Train Loss: 0.1078, Validation Loss: 0.3013, Validation Accuracy: 0.8576, Precision: 0.7838, recall: 0.7251, F1: 0.7245, AUC: 0.9838, AUPR: 0.9571\n"
     ]
    },
    {
     "name": "stderr",
     "output_type": "stream",
     "text": [
      " 26%|██▌       | 13/50 [02:18<06:34, 10.65s/it]"
     ]
    },
    {
     "name": "stdout",
     "output_type": "stream",
     "text": [
      "Epoch 13, Train Loss: 0.1022, Validation Loss: 0.3740, Validation Accuracy: 0.8299, Precision: 0.7770, recall: 0.6447, F1: 0.6744, AUC: 0.9800, AUPR: 0.9479\n"
     ]
    },
    {
     "name": "stderr",
     "output_type": "stream",
     "text": [
      " 28%|██▊       | 14/50 [02:28<06:21, 10.61s/it]"
     ]
    },
    {
     "name": "stdout",
     "output_type": "stream",
     "text": [
      "Epoch 14, Train Loss: 0.1102, Validation Loss: 0.3381, Validation Accuracy: 0.8523, Precision: 0.7058, recall: 0.5738, F1: 0.6095, AUC: 0.9816, AUPR: 0.9504\n"
     ]
    },
    {
     "name": "stderr",
     "output_type": "stream",
     "text": [
      " 30%|███       | 15/50 [02:39<06:11, 10.61s/it]"
     ]
    },
    {
     "name": "stdout",
     "output_type": "stream",
     "text": [
      "Epoch 15, Train Loss: 0.0848, Validation Loss: 0.3178, Validation Accuracy: 0.8566, Precision: 0.7592, recall: 0.7546, F1: 0.7314, AUC: 0.9841, AUPR: 0.9589\n"
     ]
    },
    {
     "name": "stderr",
     "output_type": "stream",
     "text": [
      " 32%|███▏      | 16/50 [02:50<06:03, 10.70s/it]"
     ]
    },
    {
     "name": "stdout",
     "output_type": "stream",
     "text": [
      "Epoch 16, Train Loss: 0.1299, Validation Loss: 0.5915, Validation Accuracy: 0.8097, Precision: 0.7189, recall: 0.5529, F1: 0.5819, AUC: 0.9746, AUPR: 0.9335\n"
     ]
    },
    {
     "name": "stderr",
     "output_type": "stream",
     "text": [
      " 34%|███▍      | 17/50 [03:00<05:53, 10.72s/it]"
     ]
    },
    {
     "name": "stdout",
     "output_type": "stream",
     "text": [
      "Epoch 17, Train Loss: 0.0788, Validation Loss: 0.2655, Validation Accuracy: 0.8697, Precision: 0.8372, recall: 0.7740, F1: 0.7908, AUC: 0.9849, AUPR: 0.9623\n"
     ]
    },
    {
     "name": "stderr",
     "output_type": "stream",
     "text": [
      " 36%|███▌      | 18/50 [03:11<05:41, 10.67s/it]"
     ]
    },
    {
     "name": "stdout",
     "output_type": "stream",
     "text": [
      "Epoch 18, Train Loss: 0.0672, Validation Loss: 0.6399, Validation Accuracy: 0.7871, Precision: 0.7221, recall: 0.6229, F1: 0.6341, AUC: 0.9679, AUPR: 0.9175\n"
     ]
    },
    {
     "name": "stderr",
     "output_type": "stream",
     "text": [
      " 38%|███▊      | 19/50 [03:22<05:31, 10.70s/it]"
     ]
    },
    {
     "name": "stdout",
     "output_type": "stream",
     "text": [
      "Epoch 19, Train Loss: 0.1254, Validation Loss: 0.2646, Validation Accuracy: 0.8732, Precision: 0.7728, recall: 0.7329, F1: 0.7372, AUC: 0.9849, AUPR: 0.9631\n",
      "Epoch 20, Train Loss: 0.0582, Validation Loss: 0.3756, Validation Accuracy: 0.8712, Precision: 0.7608, recall: 0.7262, F1: 0.7228, AUC: 0.9854, AUPR: 0.9620\n"
     ]
    },
    {
     "name": "stderr",
     "output_type": "stream",
     "text": [
      " 40%|████      | 20/50 [03:33<05:23, 10.79s/it]"
     ]
    },
    {
     "name": "stdout",
     "output_type": "stream",
     "text": [
      "Saved checkpoint: checkpoints/cnn_ddi_epoch_20_target_enzyme.pt\n"
     ]
    },
    {
     "name": "stderr",
     "output_type": "stream",
     "text": [
      " 42%|████▏     | 21/50 [03:43<05:11, 10.73s/it]"
     ]
    },
    {
     "name": "stdout",
     "output_type": "stream",
     "text": [
      "Epoch 21, Train Loss: 0.1150, Validation Loss: 0.3555, Validation Accuracy: 0.8615, Precision: 0.7731, recall: 0.6993, F1: 0.7165, AUC: 0.9847, AUPR: 0.9597\n"
     ]
    },
    {
     "name": "stderr",
     "output_type": "stream",
     "text": [
      " 44%|████▍     | 22/50 [03:54<04:59, 10.69s/it]"
     ]
    },
    {
     "name": "stdout",
     "output_type": "stream",
     "text": [
      "Epoch 22, Train Loss: 0.0681, Validation Loss: 0.8896, Validation Accuracy: 0.8108, Precision: 0.7240, recall: 0.5356, F1: 0.5808, AUC: 0.9723, AUPR: 0.9288\n"
     ]
    },
    {
     "name": "stderr",
     "output_type": "stream",
     "text": [
      " 46%|████▌     | 23/50 [04:04<04:48, 10.68s/it]"
     ]
    },
    {
     "name": "stdout",
     "output_type": "stream",
     "text": [
      "Epoch 23, Train Loss: 0.1467, Validation Loss: 0.3434, Validation Accuracy: 0.8566, Precision: 0.7442, recall: 0.7787, F1: 0.7392, AUC: 0.9845, AUPR: 0.9597\n"
     ]
    },
    {
     "name": "stderr",
     "output_type": "stream",
     "text": [
      " 48%|████▊     | 24/50 [04:15<04:36, 10.65s/it]"
     ]
    },
    {
     "name": "stdout",
     "output_type": "stream",
     "text": [
      "Epoch 24, Train Loss: 0.0415, Validation Loss: 0.3044, Validation Accuracy: 0.8807, Precision: 0.8092, recall: 0.7298, F1: 0.7499, AUC: 0.9879, AUPR: 0.9679\n"
     ]
    },
    {
     "name": "stderr",
     "output_type": "stream",
     "text": [
      " 50%|█████     | 25/50 [04:26<04:25, 10.64s/it]"
     ]
    },
    {
     "name": "stdout",
     "output_type": "stream",
     "text": [
      "Epoch 25, Train Loss: 0.2457, Validation Loss: 1.0709, Validation Accuracy: 0.7970, Precision: 0.6784, recall: 0.6389, F1: 0.6192, AUC: 0.9718, AUPR: 0.9223\n"
     ]
    },
    {
     "name": "stderr",
     "output_type": "stream",
     "text": [
      " 52%|█████▏    | 26/50 [04:36<04:15, 10.63s/it]"
     ]
    },
    {
     "name": "stdout",
     "output_type": "stream",
     "text": [
      "Epoch 26, Train Loss: 0.0846, Validation Loss: 0.3331, Validation Accuracy: 0.8721, Precision: 0.8091, recall: 0.7144, F1: 0.7463, AUC: 0.9861, AUPR: 0.9623\n"
     ]
    },
    {
     "name": "stderr",
     "output_type": "stream",
     "text": [
      " 54%|█████▍    | 27/50 [04:47<04:07, 10.74s/it]"
     ]
    },
    {
     "name": "stdout",
     "output_type": "stream",
     "text": [
      "Epoch 27, Train Loss: 0.0374, Validation Loss: 0.3127, Validation Accuracy: 0.8752, Precision: 0.7620, recall: 0.7078, F1: 0.7185, AUC: 0.9860, AUPR: 0.9640\n"
     ]
    },
    {
     "name": "stderr",
     "output_type": "stream",
     "text": [
      " 56%|█████▌    | 28/50 [04:58<03:56, 10.77s/it]"
     ]
    },
    {
     "name": "stdout",
     "output_type": "stream",
     "text": [
      "Epoch 28, Train Loss: 0.0577, Validation Loss: 0.3839, Validation Accuracy: 0.8574, Precision: 0.7897, recall: 0.7496, F1: 0.7470, AUC: 0.9846, AUPR: 0.9606\n"
     ]
    },
    {
     "name": "stderr",
     "output_type": "stream",
     "text": [
      " 58%|█████▊    | 29/50 [05:09<03:45, 10.76s/it]"
     ]
    },
    {
     "name": "stdout",
     "output_type": "stream",
     "text": [
      "Epoch 29, Train Loss: 0.0762, Validation Loss: 0.4988, Validation Accuracy: 0.8445, Precision: 0.7249, recall: 0.6589, F1: 0.6590, AUC: 0.9811, AUPR: 0.9497\n",
      "Epoch 30, Train Loss: 0.7079, Validation Loss: 0.5001, Validation Accuracy: 0.8547, Precision: 0.7783, recall: 0.7109, F1: 0.7298, AUC: 0.9843, AUPR: 0.9591\n"
     ]
    },
    {
     "name": "stderr",
     "output_type": "stream",
     "text": [
      " 60%|██████    | 30/50 [05:20<03:37, 10.85s/it]"
     ]
    },
    {
     "name": "stdout",
     "output_type": "stream",
     "text": [
      "Saved checkpoint: checkpoints/cnn_ddi_epoch_30_target_enzyme.pt\n"
     ]
    },
    {
     "name": "stderr",
     "output_type": "stream",
     "text": [
      " 62%|██████▏   | 31/50 [05:31<03:25, 10.79s/it]"
     ]
    },
    {
     "name": "stdout",
     "output_type": "stream",
     "text": [
      "Epoch 31, Train Loss: 0.0365, Validation Loss: 0.4613, Validation Accuracy: 0.8664, Precision: 0.7833, recall: 0.7573, F1: 0.7524, AUC: 0.9855, AUPR: 0.9634\n"
     ]
    },
    {
     "name": "stderr",
     "output_type": "stream",
     "text": [
      " 64%|██████▍   | 32/50 [05:41<03:13, 10.75s/it]"
     ]
    },
    {
     "name": "stdout",
     "output_type": "stream",
     "text": [
      "Epoch 32, Train Loss: 0.0472, Validation Loss: 0.5471, Validation Accuracy: 0.8564, Precision: 0.7633, recall: 0.7546, F1: 0.7414, AUC: 0.9844, AUPR: 0.9600\n"
     ]
    },
    {
     "name": "stderr",
     "output_type": "stream",
     "text": [
      " 66%|██████▌   | 33/50 [05:52<03:02, 10.76s/it]"
     ]
    },
    {
     "name": "stdout",
     "output_type": "stream",
     "text": [
      "Epoch 33, Train Loss: 0.1148, Validation Loss: 0.6354, Validation Accuracy: 0.8555, Precision: 0.8011, recall: 0.6804, F1: 0.7160, AUC: 0.9834, AUPR: 0.9574\n"
     ]
    },
    {
     "name": "stderr",
     "output_type": "stream",
     "text": [
      " 68%|██████▊   | 34/50 [06:03<02:52, 10.79s/it]"
     ]
    },
    {
     "name": "stdout",
     "output_type": "stream",
     "text": [
      "Epoch 34, Train Loss: 0.0598, Validation Loss: 0.5107, Validation Accuracy: 0.8551, Precision: 0.7543, recall: 0.7210, F1: 0.7155, AUC: 0.9836, AUPR: 0.9567\n"
     ]
    },
    {
     "name": "stderr",
     "output_type": "stream",
     "text": [
      " 70%|███████   | 35/50 [06:14<02:41, 10.79s/it]"
     ]
    },
    {
     "name": "stdout",
     "output_type": "stream",
     "text": [
      "Epoch 35, Train Loss: 0.0710, Validation Loss: 0.8299, Validation Accuracy: 0.8277, Precision: 0.7808, recall: 0.7100, F1: 0.7088, AUC: 0.9771, AUPR: 0.9410\n"
     ]
    },
    {
     "name": "stderr",
     "output_type": "stream",
     "text": [
      " 72%|███████▏  | 36/50 [06:24<02:30, 10.77s/it]"
     ]
    },
    {
     "name": "stdout",
     "output_type": "stream",
     "text": [
      "Epoch 36, Train Loss: 0.1276, Validation Loss: 0.4140, Validation Accuracy: 0.8656, Precision: 0.7632, recall: 0.7093, F1: 0.7151, AUC: 0.9849, AUPR: 0.9574\n"
     ]
    },
    {
     "name": "stderr",
     "output_type": "stream",
     "text": [
      " 74%|███████▍  | 37/50 [06:35<02:19, 10.75s/it]"
     ]
    },
    {
     "name": "stdout",
     "output_type": "stream",
     "text": [
      "Epoch 37, Train Loss: 0.0357, Validation Loss: 0.3694, Validation Accuracy: 0.8771, Precision: 0.7624, recall: 0.6996, F1: 0.7220, AUC: 0.9869, AUPR: 0.9662\n"
     ]
    },
    {
     "name": "stderr",
     "output_type": "stream",
     "text": [
      " 76%|███████▌  | 38/50 [06:46<02:08, 10.75s/it]"
     ]
    },
    {
     "name": "stdout",
     "output_type": "stream",
     "text": [
      "Epoch 38, Train Loss: 0.1969, Validation Loss: 0.4849, Validation Accuracy: 0.8623, Precision: 0.7437, recall: 0.7424, F1: 0.7320, AUC: 0.9837, AUPR: 0.9594\n"
     ]
    },
    {
     "name": "stderr",
     "output_type": "stream",
     "text": [
      " 78%|███████▊  | 39/50 [06:57<01:58, 10.75s/it]"
     ]
    },
    {
     "name": "stdout",
     "output_type": "stream",
     "text": [
      "Epoch 39, Train Loss: 0.0384, Validation Loss: 0.4699, Validation Accuracy: 0.8689, Precision: 0.7614, recall: 0.7597, F1: 0.7471, AUC: 0.9827, AUPR: 0.9546\n",
      "Epoch 40, Train Loss: 0.0596, Validation Loss: 0.8388, Validation Accuracy: 0.8315, Precision: 0.6797, recall: 0.7120, F1: 0.6618, AUC: 0.9794, AUPR: 0.9448\n"
     ]
    },
    {
     "name": "stderr",
     "output_type": "stream",
     "text": [
      " 80%|████████  | 40/50 [07:08<01:48, 10.88s/it]"
     ]
    },
    {
     "name": "stdout",
     "output_type": "stream",
     "text": [
      "Saved checkpoint: checkpoints/cnn_ddi_epoch_40_target_enzyme.pt\n"
     ]
    },
    {
     "name": "stderr",
     "output_type": "stream",
     "text": [
      " 82%|████████▏ | 41/50 [07:19<01:37, 10.85s/it]"
     ]
    },
    {
     "name": "stdout",
     "output_type": "stream",
     "text": [
      "Epoch 41, Train Loss: 0.0922, Validation Loss: 0.3801, Validation Accuracy: 0.8791, Precision: 0.7826, recall: 0.7587, F1: 0.7498, AUC: 0.9852, AUPR: 0.9625\n"
     ]
    },
    {
     "name": "stderr",
     "output_type": "stream",
     "text": [
      " 84%|████████▍ | 42/50 [07:29<01:26, 10.85s/it]"
     ]
    },
    {
     "name": "stdout",
     "output_type": "stream",
     "text": [
      "Epoch 42, Train Loss: 0.1915, Validation Loss: 1.0381, Validation Accuracy: 0.7781, Precision: 0.7353, recall: 0.6990, F1: 0.6852, AUC: 0.9743, AUPR: 0.9342\n"
     ]
    },
    {
     "name": "stderr",
     "output_type": "stream",
     "text": [
      " 86%|████████▌ | 43/50 [07:40<01:16, 10.89s/it]"
     ]
    },
    {
     "name": "stdout",
     "output_type": "stream",
     "text": [
      "Epoch 43, Train Loss: 0.0678, Validation Loss: 0.3858, Validation Accuracy: 0.8725, Precision: 0.7588, recall: 0.7127, F1: 0.7187, AUC: 0.9850, AUPR: 0.9568\n"
     ]
    },
    {
     "name": "stderr",
     "output_type": "stream",
     "text": [
      " 88%|████████▊ | 44/50 [07:51<01:04, 10.80s/it]"
     ]
    },
    {
     "name": "stdout",
     "output_type": "stream",
     "text": [
      "Epoch 44, Train Loss: 0.0271, Validation Loss: 0.4230, Validation Accuracy: 0.8681, Precision: 0.7582, recall: 0.6667, F1: 0.6908, AUC: 0.9847, AUPR: 0.9547\n"
     ]
    },
    {
     "name": "stderr",
     "output_type": "stream",
     "text": [
      " 90%|█████████ | 45/50 [08:02<00:53, 10.73s/it]"
     ]
    },
    {
     "name": "stdout",
     "output_type": "stream",
     "text": [
      "Epoch 45, Train Loss: 0.1439, Validation Loss: 0.6329, Validation Accuracy: 0.8497, Precision: 0.7359, recall: 0.6717, F1: 0.6668, AUC: 0.9830, AUPR: 0.9546\n"
     ]
    },
    {
     "name": "stderr",
     "output_type": "stream",
     "text": [
      " 92%|█████████▏| 46/50 [08:12<00:42, 10.72s/it]"
     ]
    },
    {
     "name": "stdout",
     "output_type": "stream",
     "text": [
      "Epoch 46, Train Loss: 0.0592, Validation Loss: 0.4099, Validation Accuracy: 0.8737, Precision: 0.7538, recall: 0.7522, F1: 0.7356, AUC: 0.9868, AUPR: 0.9653\n"
     ]
    },
    {
     "name": "stderr",
     "output_type": "stream",
     "text": [
      " 94%|█████████▍| 47/50 [08:23<00:32, 10.72s/it]"
     ]
    },
    {
     "name": "stdout",
     "output_type": "stream",
     "text": [
      "Epoch 47, Train Loss: 0.2731, Validation Loss: 0.9502, Validation Accuracy: 0.8468, Precision: 0.7452, recall: 0.7392, F1: 0.7128, AUC: 0.9813, AUPR: 0.9488\n"
     ]
    },
    {
     "name": "stderr",
     "output_type": "stream",
     "text": [
      " 96%|█████████▌| 48/50 [08:34<00:21, 10.69s/it]"
     ]
    },
    {
     "name": "stdout",
     "output_type": "stream",
     "text": [
      "Epoch 48, Train Loss: 0.0754, Validation Loss: 0.4838, Validation Accuracy: 0.8743, Precision: 0.7742, recall: 0.7729, F1: 0.7587, AUC: 0.9859, AUPR: 0.9640\n"
     ]
    },
    {
     "name": "stderr",
     "output_type": "stream",
     "text": [
      " 98%|█████████▊| 49/50 [08:44<00:10, 10.70s/it]"
     ]
    },
    {
     "name": "stdout",
     "output_type": "stream",
     "text": [
      "Epoch 49, Train Loss: 0.0328, Validation Loss: 0.4989, Validation Accuracy: 0.8602, Precision: 0.7561, recall: 0.7350, F1: 0.7299, AUC: 0.9825, AUPR: 0.9526\n",
      "Epoch 50, Train Loss: 0.0681, Validation Loss: 0.6907, Validation Accuracy: 0.8489, Precision: 0.7900, recall: 0.7752, F1: 0.7695, AUC: 0.9822, AUPR: 0.9572\n"
     ]
    },
    {
     "name": "stderr",
     "output_type": "stream",
     "text": [
      "100%|██████████| 50/50 [08:55<00:00, 10.72s/it]"
     ]
    },
    {
     "name": "stdout",
     "output_type": "stream",
     "text": [
      "Saved checkpoint: checkpoints/cnn_ddi_epoch_50_target_enzyme.pt\n",
      "Feature combination: ('target', 'category')\n"
     ]
    },
    {
     "name": "stderr",
     "output_type": "stream",
     "text": [
      "\n",
      "/tmp/ipykernel_83239/3982585584.py:3: UserWarning: To copy construct from a tensor, it is recommended to use sourceTensor.clone().detach() or sourceTensor.clone().detach().requires_grad_(True), rather than torch.tensor(sourceTensor).\n",
      "  self.features = torch.tensor(features, dtype=torch.float32)\n",
      "  2%|▏         | 1/50 [00:10<08:39, 10.60s/it]"
     ]
    },
    {
     "name": "stdout",
     "output_type": "stream",
     "text": [
      "Epoch 1, Train Loss: 0.6110, Validation Loss: 0.2922, Validation Accuracy: 0.8258, Precision: 0.7268, recall: 0.6678, F1: 0.6722, AUC: 0.9718, AUPR: 0.9301\n"
     ]
    },
    {
     "name": "stderr",
     "output_type": "stream",
     "text": [
      "  4%|▍         | 2/50 [00:21<08:26, 10.55s/it]"
     ]
    },
    {
     "name": "stdout",
     "output_type": "stream",
     "text": [
      "Epoch 2, Train Loss: 0.2342, Validation Loss: 0.2686, Validation Accuracy: 0.8511, Precision: 0.7610, recall: 0.7344, F1: 0.7290, AUC: 0.9802, AUPR: 0.9534\n"
     ]
    },
    {
     "name": "stderr",
     "output_type": "stream",
     "text": [
      "  6%|▌         | 3/50 [00:31<08:22, 10.69s/it]"
     ]
    },
    {
     "name": "stdout",
     "output_type": "stream",
     "text": [
      "Epoch 3, Train Loss: 0.1808, Validation Loss: 0.2378, Validation Accuracy: 0.8465, Precision: 0.7425, recall: 0.7576, F1: 0.7077, AUC: 0.9815, AUPR: 0.9580\n"
     ]
    },
    {
     "name": "stderr",
     "output_type": "stream",
     "text": [
      "  8%|▊         | 4/50 [00:42<08:13, 10.72s/it]"
     ]
    },
    {
     "name": "stdout",
     "output_type": "stream",
     "text": [
      "Epoch 4, Train Loss: 0.1397, Validation Loss: 0.2067, Validation Accuracy: 0.8711, Precision: 0.7785, recall: 0.7268, F1: 0.7300, AUC: 0.9855, AUPR: 0.9682\n"
     ]
    },
    {
     "name": "stderr",
     "output_type": "stream",
     "text": [
      " 10%|█         | 5/50 [00:53<08:03, 10.73s/it]"
     ]
    },
    {
     "name": "stdout",
     "output_type": "stream",
     "text": [
      "Epoch 5, Train Loss: 0.1288, Validation Loss: 0.2243, Validation Accuracy: 0.8688, Precision: 0.7604, recall: 0.7383, F1: 0.7311, AUC: 0.9855, AUPR: 0.9644\n"
     ]
    },
    {
     "name": "stderr",
     "output_type": "stream",
     "text": [
      " 12%|█▏        | 6/50 [01:04<07:52, 10.73s/it]"
     ]
    },
    {
     "name": "stdout",
     "output_type": "stream",
     "text": [
      "Epoch 6, Train Loss: 0.6044, Validation Loss: 0.3394, Validation Accuracy: 0.8120, Precision: 0.6436, recall: 0.6477, F1: 0.6134, AUC: 0.9751, AUPR: 0.9370\n"
     ]
    },
    {
     "name": "stderr",
     "output_type": "stream",
     "text": [
      " 14%|█▍        | 7/50 [01:15<07:43, 10.78s/it]"
     ]
    },
    {
     "name": "stdout",
     "output_type": "stream",
     "text": [
      "Epoch 7, Train Loss: 0.1086, Validation Loss: 0.1940, Validation Accuracy: 0.8858, Precision: 0.7964, recall: 0.7188, F1: 0.7363, AUC: 0.9889, AUPR: 0.9727\n"
     ]
    },
    {
     "name": "stderr",
     "output_type": "stream",
     "text": [
      " 16%|█▌        | 8/50 [01:25<07:32, 10.77s/it]"
     ]
    },
    {
     "name": "stdout",
     "output_type": "stream",
     "text": [
      "Epoch 8, Train Loss: 0.0685, Validation Loss: 0.2046, Validation Accuracy: 0.8839, Precision: 0.7649, recall: 0.6871, F1: 0.7073, AUC: 0.9894, AUPR: 0.9746\n"
     ]
    },
    {
     "name": "stderr",
     "output_type": "stream",
     "text": [
      " 18%|█▊        | 9/50 [01:36<07:20, 10.74s/it]"
     ]
    },
    {
     "name": "stdout",
     "output_type": "stream",
     "text": [
      "Epoch 9, Train Loss: 0.0711, Validation Loss: 0.2164, Validation Accuracy: 0.8854, Precision: 0.7826, recall: 0.7301, F1: 0.7349, AUC: 0.9886, AUPR: 0.9730\n",
      "Epoch 10, Train Loss: 0.0798, Validation Loss: 0.2497, Validation Accuracy: 0.8720, Precision: 0.7893, recall: 0.7299, F1: 0.7367, AUC: 0.9856, AUPR: 0.9674\n"
     ]
    },
    {
     "name": "stderr",
     "output_type": "stream",
     "text": [
      " 20%|██        | 10/50 [01:47<07:14, 10.86s/it]"
     ]
    },
    {
     "name": "stdout",
     "output_type": "stream",
     "text": [
      "Saved checkpoint: checkpoints/cnn_ddi_epoch_10_target_category.pt\n"
     ]
    },
    {
     "name": "stderr",
     "output_type": "stream",
     "text": [
      " 22%|██▏       | 11/50 [01:58<07:01, 10.81s/it]"
     ]
    },
    {
     "name": "stdout",
     "output_type": "stream",
     "text": [
      "Epoch 11, Train Loss: 0.0838, Validation Loss: 0.2977, Validation Accuracy: 0.8767, Precision: 0.7698, recall: 0.7202, F1: 0.7275, AUC: 0.9885, AUPR: 0.9729\n"
     ]
    },
    {
     "name": "stderr",
     "output_type": "stream",
     "text": [
      " 24%|██▍       | 12/50 [02:09<06:50, 10.80s/it]"
     ]
    },
    {
     "name": "stdout",
     "output_type": "stream",
     "text": [
      "Epoch 12, Train Loss: 0.0769, Validation Loss: 0.3065, Validation Accuracy: 0.8783, Precision: 0.7904, recall: 0.6812, F1: 0.7086, AUC: 0.9858, AUPR: 0.9660\n"
     ]
    },
    {
     "name": "stderr",
     "output_type": "stream",
     "text": [
      " 26%|██▌       | 13/50 [02:19<06:38, 10.76s/it]"
     ]
    },
    {
     "name": "stdout",
     "output_type": "stream",
     "text": [
      "Epoch 13, Train Loss: 0.0873, Validation Loss: 0.2376, Validation Accuracy: 0.8915, Precision: 0.8029, recall: 0.7620, F1: 0.7659, AUC: 0.9895, AUPR: 0.9761\n"
     ]
    },
    {
     "name": "stderr",
     "output_type": "stream",
     "text": [
      " 28%|██▊       | 14/50 [02:30<06:25, 10.72s/it]"
     ]
    },
    {
     "name": "stdout",
     "output_type": "stream",
     "text": [
      "Epoch 14, Train Loss: 0.0818, Validation Loss: 0.3108, Validation Accuracy: 0.8851, Precision: 0.7901, recall: 0.7780, F1: 0.7698, AUC: 0.9888, AUPR: 0.9726\n"
     ]
    },
    {
     "name": "stderr",
     "output_type": "stream",
     "text": [
      " 30%|███       | 15/50 [02:41<06:14, 10.70s/it]"
     ]
    },
    {
     "name": "stdout",
     "output_type": "stream",
     "text": [
      "Epoch 15, Train Loss: 0.0489, Validation Loss: 0.3316, Validation Accuracy: 0.8795, Precision: 0.8080, recall: 0.8276, F1: 0.8038, AUC: 0.9883, AUPR: 0.9716\n"
     ]
    },
    {
     "name": "stderr",
     "output_type": "stream",
     "text": [
      " 32%|███▏      | 16/50 [02:51<06:03, 10.69s/it]"
     ]
    },
    {
     "name": "stdout",
     "output_type": "stream",
     "text": [
      "Epoch 16, Train Loss: 0.3173, Validation Loss: 0.3168, Validation Accuracy: 0.8815, Precision: 0.7613, recall: 0.7268, F1: 0.7292, AUC: 0.9888, AUPR: 0.9716\n"
     ]
    },
    {
     "name": "stderr",
     "output_type": "stream",
     "text": [
      " 34%|███▍      | 17/50 [03:02<05:52, 10.69s/it]"
     ]
    },
    {
     "name": "stdout",
     "output_type": "stream",
     "text": [
      "Epoch 17, Train Loss: 0.0402, Validation Loss: 0.2767, Validation Accuracy: 0.8963, Precision: 0.7791, recall: 0.8157, F1: 0.7825, AUC: 0.9909, AUPR: 0.9761\n"
     ]
    },
    {
     "name": "stderr",
     "output_type": "stream",
     "text": [
      " 36%|███▌      | 18/50 [03:13<05:42, 10.69s/it]"
     ]
    },
    {
     "name": "stdout",
     "output_type": "stream",
     "text": [
      "Epoch 18, Train Loss: 0.0285, Validation Loss: 0.3656, Validation Accuracy: 0.8752, Precision: 0.8095, recall: 0.7452, F1: 0.7623, AUC: 0.9891, AUPR: 0.9731\n"
     ]
    },
    {
     "name": "stderr",
     "output_type": "stream",
     "text": [
      " 38%|███▊      | 19/50 [03:23<05:30, 10.66s/it]"
     ]
    },
    {
     "name": "stdout",
     "output_type": "stream",
     "text": [
      "Epoch 19, Train Loss: 0.0462, Validation Loss: 0.3296, Validation Accuracy: 0.8890, Precision: 0.7787, recall: 0.7960, F1: 0.7685, AUC: 0.9867, AUPR: 0.9718\n",
      "Epoch 20, Train Loss: 0.0749, Validation Loss: 0.4355, Validation Accuracy: 0.8630, Precision: 0.8097, recall: 0.7171, F1: 0.7281, AUC: 0.9874, AUPR: 0.9688\n"
     ]
    },
    {
     "name": "stderr",
     "output_type": "stream",
     "text": [
      " 40%|████      | 20/50 [03:34<05:23, 10.77s/it]"
     ]
    },
    {
     "name": "stdout",
     "output_type": "stream",
     "text": [
      "Saved checkpoint: checkpoints/cnn_ddi_epoch_20_target_category.pt\n"
     ]
    },
    {
     "name": "stderr",
     "output_type": "stream",
     "text": [
      " 42%|████▏     | 21/50 [03:45<05:10, 10.72s/it]"
     ]
    },
    {
     "name": "stdout",
     "output_type": "stream",
     "text": [
      "Epoch 21, Train Loss: 0.0497, Validation Loss: 0.8058, Validation Accuracy: 0.8501, Precision: 0.7965, recall: 0.7140, F1: 0.7277, AUC: 0.9879, AUPR: 0.9718\n"
     ]
    },
    {
     "name": "stderr",
     "output_type": "stream",
     "text": [
      " 44%|████▍     | 22/50 [03:56<05:00, 10.73s/it]"
     ]
    },
    {
     "name": "stdout",
     "output_type": "stream",
     "text": [
      "Epoch 22, Train Loss: 0.1515, Validation Loss: 0.2684, Validation Accuracy: 0.9029, Precision: 0.8086, recall: 0.7905, F1: 0.7862, AUC: 0.9901, AUPR: 0.9772\n"
     ]
    },
    {
     "name": "stderr",
     "output_type": "stream",
     "text": [
      " 46%|████▌     | 23/50 [04:06<04:48, 10.70s/it]"
     ]
    },
    {
     "name": "stdout",
     "output_type": "stream",
     "text": [
      "Epoch 23, Train Loss: 0.0152, Validation Loss: 0.3157, Validation Accuracy: 0.8990, Precision: 0.8507, recall: 0.7630, F1: 0.7942, AUC: 0.9898, AUPR: 0.9726\n"
     ]
    },
    {
     "name": "stderr",
     "output_type": "stream",
     "text": [
      " 48%|████▊     | 24/50 [04:17<04:37, 10.69s/it]"
     ]
    },
    {
     "name": "stdout",
     "output_type": "stream",
     "text": [
      "Epoch 24, Train Loss: 0.1265, Validation Loss: 1.2837, Validation Accuracy: 0.8409, Precision: 0.7991, recall: 0.6851, F1: 0.6978, AUC: 0.9814, AUPR: 0.9464\n"
     ]
    },
    {
     "name": "stderr",
     "output_type": "stream",
     "text": [
      " 50%|█████     | 25/50 [04:28<04:27, 10.69s/it]"
     ]
    },
    {
     "name": "stdout",
     "output_type": "stream",
     "text": [
      "Epoch 25, Train Loss: 0.0811, Validation Loss: 0.3863, Validation Accuracy: 0.8960, Precision: 0.8459, recall: 0.8091, F1: 0.8143, AUC: 0.9885, AUPR: 0.9746\n"
     ]
    },
    {
     "name": "stderr",
     "output_type": "stream",
     "text": [
      " 52%|█████▏    | 26/50 [04:38<04:16, 10.67s/it]"
     ]
    },
    {
     "name": "stdout",
     "output_type": "stream",
     "text": [
      "Epoch 26, Train Loss: 0.0249, Validation Loss: 0.3709, Validation Accuracy: 0.8909, Precision: 0.8113, recall: 0.7424, F1: 0.7552, AUC: 0.9908, AUPR: 0.9753\n"
     ]
    },
    {
     "name": "stderr",
     "output_type": "stream",
     "text": [
      " 54%|█████▍    | 27/50 [04:49<04:06, 10.72s/it]"
     ]
    },
    {
     "name": "stdout",
     "output_type": "stream",
     "text": [
      "Epoch 27, Train Loss: 0.2501, Validation Loss: 0.6691, Validation Accuracy: 0.8646, Precision: 0.7451, recall: 0.6921, F1: 0.7049, AUC: 0.9805, AUPR: 0.9539\n"
     ]
    },
    {
     "name": "stderr",
     "output_type": "stream",
     "text": [
      " 56%|█████▌    | 28/50 [05:00<03:55, 10.72s/it]"
     ]
    },
    {
     "name": "stdout",
     "output_type": "stream",
     "text": [
      "Epoch 28, Train Loss: 0.0531, Validation Loss: 0.3781, Validation Accuracy: 0.9098, Precision: 0.8142, recall: 0.8099, F1: 0.8006, AUC: 0.9904, AUPR: 0.9789\n"
     ]
    },
    {
     "name": "stderr",
     "output_type": "stream",
     "text": [
      " 58%|█████▊    | 29/50 [05:11<03:45, 10.75s/it]"
     ]
    },
    {
     "name": "stdout",
     "output_type": "stream",
     "text": [
      "Epoch 29, Train Loss: 0.0174, Validation Loss: 0.4320, Validation Accuracy: 0.8987, Precision: 0.8085, recall: 0.7960, F1: 0.7908, AUC: 0.9887, AUPR: 0.9769\n",
      "Epoch 30, Train Loss: 0.0642, Validation Loss: 0.7742, Validation Accuracy: 0.8700, Precision: 0.8153, recall: 0.7270, F1: 0.7515, AUC: 0.9862, AUPR: 0.9651\n"
     ]
    },
    {
     "name": "stderr",
     "output_type": "stream",
     "text": [
      " 60%|██████    | 30/50 [05:22<03:38, 10.91s/it]"
     ]
    },
    {
     "name": "stdout",
     "output_type": "stream",
     "text": [
      "Saved checkpoint: checkpoints/cnn_ddi_epoch_30_target_category.pt\n"
     ]
    },
    {
     "name": "stderr",
     "output_type": "stream",
     "text": [
      " 62%|██████▏   | 31/50 [05:33<03:26, 10.86s/it]"
     ]
    },
    {
     "name": "stdout",
     "output_type": "stream",
     "text": [
      "Epoch 31, Train Loss: 0.1387, Validation Loss: 0.4454, Validation Accuracy: 0.9080, Precision: 0.8047, recall: 0.7927, F1: 0.7841, AUC: 0.9910, AUPR: 0.9786\n"
     ]
    },
    {
     "name": "stderr",
     "output_type": "stream",
     "text": [
      " 64%|██████▍   | 32/50 [05:43<03:15, 10.85s/it]"
     ]
    },
    {
     "name": "stdout",
     "output_type": "stream",
     "text": [
      "Epoch 32, Train Loss: 0.0202, Validation Loss: 0.5045, Validation Accuracy: 0.8983, Precision: 0.8151, recall: 0.7900, F1: 0.7883, AUC: 0.9891, AUPR: 0.9760\n"
     ]
    },
    {
     "name": "stderr",
     "output_type": "stream",
     "text": [
      " 66%|██████▌   | 33/50 [05:54<03:03, 10.82s/it]"
     ]
    },
    {
     "name": "stdout",
     "output_type": "stream",
     "text": [
      "Epoch 33, Train Loss: 0.1798, Validation Loss: 1.0763, Validation Accuracy: 0.8657, Precision: 0.7929, recall: 0.7261, F1: 0.7390, AUC: 0.9853, AUPR: 0.9651\n"
     ]
    },
    {
     "name": "stderr",
     "output_type": "stream",
     "text": [
      " 68%|██████▊   | 34/50 [06:05<02:52, 10.80s/it]"
     ]
    },
    {
     "name": "stdout",
     "output_type": "stream",
     "text": [
      "Epoch 34, Train Loss: 0.0528, Validation Loss: 0.5098, Validation Accuracy: 0.8984, Precision: 0.8219, recall: 0.8025, F1: 0.7965, AUC: 0.9909, AUPR: 0.9770\n"
     ]
    },
    {
     "name": "stderr",
     "output_type": "stream",
     "text": [
      " 70%|███████   | 35/50 [06:16<02:42, 10.82s/it]"
     ]
    },
    {
     "name": "stdout",
     "output_type": "stream",
     "text": [
      "Epoch 35, Train Loss: 0.0191, Validation Loss: 0.5492, Validation Accuracy: 0.8998, Precision: 0.8718, recall: 0.7947, F1: 0.8206, AUC: 0.9914, AUPR: 0.9783\n"
     ]
    },
    {
     "name": "stderr",
     "output_type": "stream",
     "text": [
      " 72%|███████▏  | 36/50 [06:27<02:31, 10.82s/it]"
     ]
    },
    {
     "name": "stdout",
     "output_type": "stream",
     "text": [
      "Epoch 36, Train Loss: 0.1689, Validation Loss: 0.5121, Validation Accuracy: 0.9011, Precision: 0.7835, recall: 0.7998, F1: 0.7713, AUC: 0.9889, AUPR: 0.9748\n"
     ]
    },
    {
     "name": "stderr",
     "output_type": "stream",
     "text": [
      " 74%|███████▍  | 37/50 [06:37<02:20, 10.80s/it]"
     ]
    },
    {
     "name": "stdout",
     "output_type": "stream",
     "text": [
      "Epoch 37, Train Loss: 0.0337, Validation Loss: 0.6562, Validation Accuracy: 0.8912, Precision: 0.8050, recall: 0.7683, F1: 0.7613, AUC: 0.9900, AUPR: 0.9749\n"
     ]
    },
    {
     "name": "stderr",
     "output_type": "stream",
     "text": [
      " 76%|███████▌  | 38/50 [06:48<02:09, 10.79s/it]"
     ]
    },
    {
     "name": "stdout",
     "output_type": "stream",
     "text": [
      "Epoch 38, Train Loss: 0.9881, Validation Loss: 1.1780, Validation Accuracy: 0.9038, Precision: 0.8360, recall: 0.7945, F1: 0.8018, AUC: 0.9893, AUPR: 0.9709\n"
     ]
    },
    {
     "name": "stderr",
     "output_type": "stream",
     "text": [
      " 78%|███████▊  | 39/50 [06:59<01:58, 10.79s/it]"
     ]
    },
    {
     "name": "stdout",
     "output_type": "stream",
     "text": [
      "Epoch 39, Train Loss: 0.0532, Validation Loss: 1.2359, Validation Accuracy: 0.8992, Precision: 0.8497, recall: 0.7522, F1: 0.7867, AUC: 0.9899, AUPR: 0.9698\n",
      "Epoch 40, Train Loss: 0.0451, Validation Loss: 1.1320, Validation Accuracy: 0.8991, Precision: 0.8237, recall: 0.8017, F1: 0.8033, AUC: 0.9905, AUPR: 0.9723\n"
     ]
    },
    {
     "name": "stderr",
     "output_type": "stream",
     "text": [
      " 80%|████████  | 40/50 [07:10<01:49, 10.93s/it]"
     ]
    },
    {
     "name": "stdout",
     "output_type": "stream",
     "text": [
      "Saved checkpoint: checkpoints/cnn_ddi_epoch_40_target_category.pt\n"
     ]
    },
    {
     "name": "stderr",
     "output_type": "stream",
     "text": [
      " 82%|████████▏ | 41/50 [07:21<01:37, 10.87s/it]"
     ]
    },
    {
     "name": "stdout",
     "output_type": "stream",
     "text": [
      "Epoch 41, Train Loss: 0.0847, Validation Loss: 1.0605, Validation Accuracy: 0.8948, Precision: 0.8026, recall: 0.8189, F1: 0.8040, AUC: 0.9896, AUPR: 0.9706\n"
     ]
    },
    {
     "name": "stderr",
     "output_type": "stream",
     "text": [
      " 84%|████████▍ | 42/50 [07:32<01:26, 10.83s/it]"
     ]
    },
    {
     "name": "stdout",
     "output_type": "stream",
     "text": [
      "Epoch 42, Train Loss: 0.1458, Validation Loss: 1.4508, Validation Accuracy: 0.8878, Precision: 0.7990, recall: 0.7425, F1: 0.7538, AUC: 0.9879, AUPR: 0.9611\n"
     ]
    },
    {
     "name": "stderr",
     "output_type": "stream",
     "text": [
      " 86%|████████▌ | 43/50 [07:42<01:15, 10.80s/it]"
     ]
    },
    {
     "name": "stdout",
     "output_type": "stream",
     "text": [
      "Epoch 43, Train Loss: 0.0690, Validation Loss: 1.2774, Validation Accuracy: 0.8939, Precision: 0.7983, recall: 0.7408, F1: 0.7540, AUC: 0.9901, AUPR: 0.9741\n"
     ]
    },
    {
     "name": "stderr",
     "output_type": "stream",
     "text": [
      " 88%|████████▊ | 44/50 [07:53<01:04, 10.80s/it]"
     ]
    },
    {
     "name": "stdout",
     "output_type": "stream",
     "text": [
      "Epoch 44, Train Loss: 0.1382, Validation Loss: 1.9325, Validation Accuracy: 0.8855, Precision: 0.8067, recall: 0.7327, F1: 0.7453, AUC: 0.9867, AUPR: 0.9547\n"
     ]
    },
    {
     "name": "stderr",
     "output_type": "stream",
     "text": [
      " 90%|█████████ | 45/50 [08:04<00:54, 10.81s/it]"
     ]
    },
    {
     "name": "stdout",
     "output_type": "stream",
     "text": [
      "Epoch 45, Train Loss: 0.1414, Validation Loss: 1.0274, Validation Accuracy: 0.9067, Precision: 0.8221, recall: 0.8123, F1: 0.8095, AUC: 0.9919, AUPR: 0.9758\n"
     ]
    },
    {
     "name": "stderr",
     "output_type": "stream",
     "text": [
      " 92%|█████████▏| 46/50 [08:15<00:43, 10.77s/it]"
     ]
    },
    {
     "name": "stdout",
     "output_type": "stream",
     "text": [
      "Epoch 46, Train Loss: 0.1035, Validation Loss: 1.7723, Validation Accuracy: 0.8673, Precision: 0.7844, recall: 0.6806, F1: 0.7049, AUC: 0.9837, AUPR: 0.9501\n"
     ]
    },
    {
     "name": "stderr",
     "output_type": "stream",
     "text": [
      " 94%|█████████▍| 47/50 [08:25<00:32, 10.75s/it]"
     ]
    },
    {
     "name": "stdout",
     "output_type": "stream",
     "text": [
      "Epoch 47, Train Loss: 0.1357, Validation Loss: 1.0740, Validation Accuracy: 0.9065, Precision: 0.8334, recall: 0.7986, F1: 0.7944, AUC: 0.9915, AUPR: 0.9763\n"
     ]
    },
    {
     "name": "stderr",
     "output_type": "stream",
     "text": [
      " 96%|█████████▌| 48/50 [08:36<00:21, 10.74s/it]"
     ]
    },
    {
     "name": "stdout",
     "output_type": "stream",
     "text": [
      "Epoch 48, Train Loss: 0.0660, Validation Loss: 1.5876, Validation Accuracy: 0.8876, Precision: 0.8009, recall: 0.7848, F1: 0.7774, AUC: 0.9866, AUPR: 0.9608\n"
     ]
    },
    {
     "name": "stderr",
     "output_type": "stream",
     "text": [
      " 98%|█████████▊| 49/50 [08:47<00:10, 10.75s/it]"
     ]
    },
    {
     "name": "stdout",
     "output_type": "stream",
     "text": [
      "Epoch 49, Train Loss: 0.7260, Validation Loss: 1.5041, Validation Accuracy: 0.9008, Precision: 0.8275, recall: 0.7619, F1: 0.7776, AUC: 0.9894, AUPR: 0.9654\n",
      "Epoch 50, Train Loss: 0.0617, Validation Loss: 1.8786, Validation Accuracy: 0.8992, Precision: 0.8160, recall: 0.8125, F1: 0.8047, AUC: 0.9894, AUPR: 0.9663\n"
     ]
    },
    {
     "name": "stderr",
     "output_type": "stream",
     "text": [
      "100%|██████████| 50/50 [08:58<00:00, 10.77s/it]"
     ]
    },
    {
     "name": "stdout",
     "output_type": "stream",
     "text": [
      "Saved checkpoint: checkpoints/cnn_ddi_epoch_50_target_category.pt\n",
      "Feature combination: ('enzyme', 'category')\n"
     ]
    },
    {
     "name": "stderr",
     "output_type": "stream",
     "text": [
      "\n",
      "/tmp/ipykernel_83239/3982585584.py:3: UserWarning: To copy construct from a tensor, it is recommended to use sourceTensor.clone().detach() or sourceTensor.clone().detach().requires_grad_(True), rather than torch.tensor(sourceTensor).\n",
      "  self.features = torch.tensor(features, dtype=torch.float32)\n",
      "  2%|▏         | 1/50 [00:10<08:48, 10.78s/it]"
     ]
    },
    {
     "name": "stdout",
     "output_type": "stream",
     "text": [
      "Epoch 1, Train Loss: 0.8158, Validation Loss: 0.3876, Validation Accuracy: 0.7782, Precision: 0.5991, recall: 0.5842, F1: 0.5561, AUC: 0.9595, AUPR: 0.8982\n"
     ]
    },
    {
     "name": "stderr",
     "output_type": "stream",
     "text": [
      "  4%|▍         | 2/50 [00:21<08:38, 10.81s/it]"
     ]
    },
    {
     "name": "stdout",
     "output_type": "stream",
     "text": [
      "Epoch 2, Train Loss: 0.2739, Validation Loss: 0.2596, Validation Accuracy: 0.8355, Precision: 0.7140, recall: 0.6883, F1: 0.6723, AUC: 0.9746, AUPR: 0.9398\n"
     ]
    },
    {
     "name": "stderr",
     "output_type": "stream",
     "text": [
      "  6%|▌         | 3/50 [00:32<08:25, 10.75s/it]"
     ]
    },
    {
     "name": "stdout",
     "output_type": "stream",
     "text": [
      "Epoch 3, Train Loss: 0.2002, Validation Loss: 0.2357, Validation Accuracy: 0.8513, Precision: 0.7641, recall: 0.7079, F1: 0.7149, AUC: 0.9815, AUPR: 0.9522\n"
     ]
    },
    {
     "name": "stderr",
     "output_type": "stream",
     "text": [
      "  8%|▊         | 4/50 [00:42<08:13, 10.72s/it]"
     ]
    },
    {
     "name": "stdout",
     "output_type": "stream",
     "text": [
      "Epoch 4, Train Loss: 0.1596, Validation Loss: 0.2267, Validation Accuracy: 0.8567, Precision: 0.7637, recall: 0.7603, F1: 0.7480, AUC: 0.9832, AUPR: 0.9603\n"
     ]
    },
    {
     "name": "stderr",
     "output_type": "stream",
     "text": [
      " 10%|█         | 5/50 [00:53<08:05, 10.80s/it]"
     ]
    },
    {
     "name": "stdout",
     "output_type": "stream",
     "text": [
      "Epoch 5, Train Loss: 0.1443, Validation Loss: 0.2162, Validation Accuracy: 0.8598, Precision: 0.7844, recall: 0.6723, F1: 0.7053, AUC: 0.9843, AUPR: 0.9571\n"
     ]
    },
    {
     "name": "stderr",
     "output_type": "stream",
     "text": [
      " 12%|█▏        | 6/50 [01:04<07:51, 10.73s/it]"
     ]
    },
    {
     "name": "stdout",
     "output_type": "stream",
     "text": [
      "Epoch 6, Train Loss: 0.1238, Validation Loss: 0.2242, Validation Accuracy: 0.8778, Precision: 0.7585, recall: 0.7221, F1: 0.7259, AUC: 0.9855, AUPR: 0.9640\n"
     ]
    },
    {
     "name": "stderr",
     "output_type": "stream",
     "text": [
      " 14%|█▍        | 7/50 [01:15<07:39, 10.68s/it]"
     ]
    },
    {
     "name": "stdout",
     "output_type": "stream",
     "text": [
      "Epoch 7, Train Loss: 0.1094, Validation Loss: 0.2912, Validation Accuracy: 0.8411, Precision: 0.7124, recall: 0.6736, F1: 0.6539, AUC: 0.9770, AUPR: 0.9396\n"
     ]
    },
    {
     "name": "stderr",
     "output_type": "stream",
     "text": [
      " 16%|█▌        | 8/50 [01:25<07:28, 10.67s/it]"
     ]
    },
    {
     "name": "stdout",
     "output_type": "stream",
     "text": [
      "Epoch 8, Train Loss: 0.1087, Validation Loss: 0.2308, Validation Accuracy: 0.8857, Precision: 0.7797, recall: 0.7520, F1: 0.7537, AUC: 0.9881, AUPR: 0.9716\n"
     ]
    },
    {
     "name": "stderr",
     "output_type": "stream",
     "text": [
      " 18%|█▊        | 9/50 [01:36<07:17, 10.66s/it]"
     ]
    },
    {
     "name": "stdout",
     "output_type": "stream",
     "text": [
      "Epoch 9, Train Loss: 0.1017, Validation Loss: 0.3647, Validation Accuracy: 0.8405, Precision: 0.7250, recall: 0.7039, F1: 0.6963, AUC: 0.9837, AUPR: 0.9613\n",
      "Epoch 10, Train Loss: 0.0798, Validation Loss: 0.3946, Validation Accuracy: 0.8567, Precision: 0.7592, recall: 0.6823, F1: 0.6943, AUC: 0.9859, AUPR: 0.9659\n"
     ]
    },
    {
     "name": "stderr",
     "output_type": "stream",
     "text": [
      " 20%|██        | 10/50 [01:47<07:11, 10.79s/it]"
     ]
    },
    {
     "name": "stdout",
     "output_type": "stream",
     "text": [
      "Saved checkpoint: checkpoints/cnn_ddi_epoch_10_enzyme_category.pt\n"
     ]
    },
    {
     "name": "stderr",
     "output_type": "stream",
     "text": [
      " 22%|██▏       | 11/50 [01:58<06:58, 10.72s/it]"
     ]
    },
    {
     "name": "stdout",
     "output_type": "stream",
     "text": [
      "Epoch 11, Train Loss: 0.1600, Validation Loss: 0.2367, Validation Accuracy: 0.8865, Precision: 0.7809, recall: 0.7463, F1: 0.7490, AUC: 0.9899, AUPR: 0.9746\n"
     ]
    },
    {
     "name": "stderr",
     "output_type": "stream",
     "text": [
      " 24%|██▍       | 12/50 [02:08<06:47, 10.74s/it]"
     ]
    },
    {
     "name": "stdout",
     "output_type": "stream",
     "text": [
      "Epoch 12, Train Loss: 0.0519, Validation Loss: 0.3297, Validation Accuracy: 0.8724, Precision: 0.7943, recall: 0.7089, F1: 0.7360, AUC: 0.9869, AUPR: 0.9662\n"
     ]
    },
    {
     "name": "stderr",
     "output_type": "stream",
     "text": [
      " 26%|██▌       | 13/50 [02:19<06:38, 10.78s/it]"
     ]
    },
    {
     "name": "stdout",
     "output_type": "stream",
     "text": [
      "Epoch 13, Train Loss: 0.0781, Validation Loss: 0.3300, Validation Accuracy: 0.8593, Precision: 0.8043, recall: 0.7406, F1: 0.7486, AUC: 0.9845, AUPR: 0.9611\n"
     ]
    },
    {
     "name": "stderr",
     "output_type": "stream",
     "text": [
      " 28%|██▊       | 14/50 [02:30<06:28, 10.78s/it]"
     ]
    },
    {
     "name": "stdout",
     "output_type": "stream",
     "text": [
      "Epoch 14, Train Loss: 0.0644, Validation Loss: 0.4173, Validation Accuracy: 0.8477, Precision: 0.7507, recall: 0.7259, F1: 0.7143, AUC: 0.9823, AUPR: 0.9549\n"
     ]
    },
    {
     "name": "stderr",
     "output_type": "stream",
     "text": [
      " 30%|███       | 15/50 [02:41<06:17, 10.78s/it]"
     ]
    },
    {
     "name": "stdout",
     "output_type": "stream",
     "text": [
      "Epoch 15, Train Loss: 0.1282, Validation Loss: 0.2680, Validation Accuracy: 0.8919, Precision: 0.8153, recall: 0.6981, F1: 0.7351, AUC: 0.9905, AUPR: 0.9756\n"
     ]
    },
    {
     "name": "stderr",
     "output_type": "stream",
     "text": [
      " 32%|███▏      | 16/50 [02:52<06:07, 10.80s/it]"
     ]
    },
    {
     "name": "stdout",
     "output_type": "stream",
     "text": [
      "Epoch 16, Train Loss: 0.0426, Validation Loss: 0.3129, Validation Accuracy: 0.8912, Precision: 0.7820, recall: 0.7854, F1: 0.7625, AUC: 0.9903, AUPR: 0.9769\n"
     ]
    },
    {
     "name": "stderr",
     "output_type": "stream",
     "text": [
      " 34%|███▍      | 17/50 [03:02<05:54, 10.75s/it]"
     ]
    },
    {
     "name": "stdout",
     "output_type": "stream",
     "text": [
      "Epoch 17, Train Loss: 0.1005, Validation Loss: 0.4732, Validation Accuracy: 0.8601, Precision: 0.7702, recall: 0.7663, F1: 0.7448, AUC: 0.9814, AUPR: 0.9524\n"
     ]
    },
    {
     "name": "stderr",
     "output_type": "stream",
     "text": [
      " 36%|███▌      | 18/50 [03:13<05:43, 10.72s/it]"
     ]
    },
    {
     "name": "stdout",
     "output_type": "stream",
     "text": [
      "Epoch 18, Train Loss: 0.0716, Validation Loss: 0.5452, Validation Accuracy: 0.8760, Precision: 0.7965, recall: 0.7773, F1: 0.7689, AUC: 0.9893, AUPR: 0.9723\n"
     ]
    },
    {
     "name": "stderr",
     "output_type": "stream",
     "text": [
      " 38%|███▊      | 19/50 [03:24<05:32, 10.71s/it]"
     ]
    },
    {
     "name": "stdout",
     "output_type": "stream",
     "text": [
      "Epoch 19, Train Loss: 0.0783, Validation Loss: 0.4991, Validation Accuracy: 0.8884, Precision: 0.7699, recall: 0.7759, F1: 0.7562, AUC: 0.9901, AUPR: 0.9760\n",
      "Epoch 20, Train Loss: 0.0671, Validation Loss: 0.5589, Validation Accuracy: 0.8649, Precision: 0.7871, recall: 0.7355, F1: 0.7416, AUC: 0.9863, AUPR: 0.9623\n"
     ]
    },
    {
     "name": "stderr",
     "output_type": "stream",
     "text": [
      " 40%|████      | 20/50 [03:35<05:24, 10.83s/it]"
     ]
    },
    {
     "name": "stdout",
     "output_type": "stream",
     "text": [
      "Saved checkpoint: checkpoints/cnn_ddi_epoch_20_enzyme_category.pt\n"
     ]
    },
    {
     "name": "stderr",
     "output_type": "stream",
     "text": [
      " 42%|████▏     | 21/50 [03:45<05:12, 10.78s/it]"
     ]
    },
    {
     "name": "stdout",
     "output_type": "stream",
     "text": [
      "Epoch 21, Train Loss: 0.0961, Validation Loss: 0.3474, Validation Accuracy: 0.9055, Precision: 0.8298, recall: 0.7998, F1: 0.8049, AUC: 0.9914, AUPR: 0.9776\n"
     ]
    },
    {
     "name": "stderr",
     "output_type": "stream",
     "text": [
      " 44%|████▍     | 22/50 [03:56<05:00, 10.73s/it]"
     ]
    },
    {
     "name": "stdout",
     "output_type": "stream",
     "text": [
      "Epoch 22, Train Loss: 0.1763, Validation Loss: 4.8711, Validation Accuracy: 0.6603, Precision: 0.5641, recall: 0.6518, F1: 0.5473, AUC: 0.9257, AUPR: 0.8250\n"
     ]
    },
    {
     "name": "stderr",
     "output_type": "stream",
     "text": [
      " 46%|████▌     | 23/50 [04:07<04:49, 10.73s/it]"
     ]
    },
    {
     "name": "stdout",
     "output_type": "stream",
     "text": [
      "Epoch 23, Train Loss: 0.2262, Validation Loss: 0.5109, Validation Accuracy: 0.8898, Precision: 0.7958, recall: 0.7213, F1: 0.7438, AUC: 0.9900, AUPR: 0.9772\n"
     ]
    },
    {
     "name": "stderr",
     "output_type": "stream",
     "text": [
      " 48%|████▊     | 24/50 [04:17<04:38, 10.71s/it]"
     ]
    },
    {
     "name": "stdout",
     "output_type": "stream",
     "text": [
      "Epoch 24, Train Loss: 0.0255, Validation Loss: 0.4767, Validation Accuracy: 0.8990, Precision: 0.7888, recall: 0.7808, F1: 0.7731, AUC: 0.9911, AUPR: 0.9787\n"
     ]
    },
    {
     "name": "stderr",
     "output_type": "stream",
     "text": [
      " 50%|█████     | 25/50 [04:28<04:26, 10.67s/it]"
     ]
    },
    {
     "name": "stdout",
     "output_type": "stream",
     "text": [
      "Epoch 25, Train Loss: 0.0566, Validation Loss: 0.8084, Validation Accuracy: 0.8559, Precision: 0.7305, recall: 0.7112, F1: 0.6939, AUC: 0.9861, AUPR: 0.9628\n"
     ]
    },
    {
     "name": "stderr",
     "output_type": "stream",
     "text": [
      " 52%|█████▏    | 26/50 [04:38<04:15, 10.63s/it]"
     ]
    },
    {
     "name": "stdout",
     "output_type": "stream",
     "text": [
      "Epoch 26, Train Loss: 0.1239, Validation Loss: 0.5601, Validation Accuracy: 0.8924, Precision: 0.7918, recall: 0.7509, F1: 0.7540, AUC: 0.9911, AUPR: 0.9775\n"
     ]
    },
    {
     "name": "stderr",
     "output_type": "stream",
     "text": [
      " 54%|█████▍    | 27/50 [04:49<04:03, 10.60s/it]"
     ]
    },
    {
     "name": "stdout",
     "output_type": "stream",
     "text": [
      "Epoch 27, Train Loss: 0.0522, Validation Loss: 0.6414, Validation Accuracy: 0.8909, Precision: 0.8241, recall: 0.7845, F1: 0.7930, AUC: 0.9912, AUPR: 0.9770\n"
     ]
    },
    {
     "name": "stderr",
     "output_type": "stream",
     "text": [
      " 56%|█████▌    | 28/50 [05:00<03:53, 10.60s/it]"
     ]
    },
    {
     "name": "stdout",
     "output_type": "stream",
     "text": [
      "Epoch 28, Train Loss: 0.1611, Validation Loss: 0.7729, Validation Accuracy: 0.8462, Precision: 0.6817, recall: 0.7538, F1: 0.6903, AUC: 0.9797, AUPR: 0.9545\n"
     ]
    },
    {
     "name": "stderr",
     "output_type": "stream",
     "text": [
      " 58%|█████▊    | 29/50 [05:10<03:42, 10.61s/it]"
     ]
    },
    {
     "name": "stdout",
     "output_type": "stream",
     "text": [
      "Epoch 29, Train Loss: 0.0664, Validation Loss: 0.4793, Validation Accuracy: 0.8988, Precision: 0.7907, recall: 0.6675, F1: 0.7056, AUC: 0.9908, AUPR: 0.9745\n",
      "Epoch 30, Train Loss: 0.0706, Validation Loss: 0.7887, Validation Accuracy: 0.8854, Precision: 0.8269, recall: 0.7586, F1: 0.7735, AUC: 0.9885, AUPR: 0.9666\n"
     ]
    },
    {
     "name": "stderr",
     "output_type": "stream",
     "text": [
      " 60%|██████    | 30/50 [05:21<03:35, 10.79s/it]"
     ]
    },
    {
     "name": "stdout",
     "output_type": "stream",
     "text": [
      "Saved checkpoint: checkpoints/cnn_ddi_epoch_30_enzyme_category.pt\n"
     ]
    },
    {
     "name": "stderr",
     "output_type": "stream",
     "text": [
      " 62%|██████▏   | 31/50 [05:32<03:25, 10.81s/it]"
     ]
    },
    {
     "name": "stdout",
     "output_type": "stream",
     "text": [
      "Epoch 31, Train Loss: 0.0940, Validation Loss: 0.8887, Validation Accuracy: 0.8795, Precision: 0.8032, recall: 0.7432, F1: 0.7571, AUC: 0.9882, AUPR: 0.9689\n"
     ]
    },
    {
     "name": "stderr",
     "output_type": "stream",
     "text": [
      " 64%|██████▍   | 32/50 [05:43<03:13, 10.73s/it]"
     ]
    },
    {
     "name": "stdout",
     "output_type": "stream",
     "text": [
      "Epoch 32, Train Loss: 0.1197, Validation Loss: 0.8187, Validation Accuracy: 0.8540, Precision: 0.7632, recall: 0.7833, F1: 0.7528, AUC: 0.9866, AUPR: 0.9672\n"
     ]
    },
    {
     "name": "stderr",
     "output_type": "stream",
     "text": [
      " 66%|██████▌   | 33/50 [05:53<03:01, 10.68s/it]"
     ]
    },
    {
     "name": "stdout",
     "output_type": "stream",
     "text": [
      "Epoch 33, Train Loss: 0.0763, Validation Loss: 1.1628, Validation Accuracy: 0.8838, Precision: 0.7294, recall: 0.7380, F1: 0.7203, AUC: 0.9885, AUPR: 0.9690\n"
     ]
    },
    {
     "name": "stderr",
     "output_type": "stream",
     "text": [
      " 68%|██████▊   | 34/50 [06:04<02:50, 10.64s/it]"
     ]
    },
    {
     "name": "stdout",
     "output_type": "stream",
     "text": [
      "Epoch 34, Train Loss: 0.1308, Validation Loss: 0.7384, Validation Accuracy: 0.8884, Precision: 0.7859, recall: 0.6460, F1: 0.6899, AUC: 0.9885, AUPR: 0.9691\n"
     ]
    },
    {
     "name": "stderr",
     "output_type": "stream",
     "text": [
      " 70%|███████   | 35/50 [06:15<02:40, 10.68s/it]"
     ]
    },
    {
     "name": "stdout",
     "output_type": "stream",
     "text": [
      "Epoch 35, Train Loss: 0.0518, Validation Loss: 0.8847, Validation Accuracy: 0.8898, Precision: 0.7577, recall: 0.7248, F1: 0.7161, AUC: 0.9896, AUPR: 0.9713\n"
     ]
    },
    {
     "name": "stderr",
     "output_type": "stream",
     "text": [
      " 72%|███████▏  | 36/50 [06:25<02:29, 10.70s/it]"
     ]
    },
    {
     "name": "stdout",
     "output_type": "stream",
     "text": [
      "Epoch 36, Train Loss: 0.1434, Validation Loss: 1.3305, Validation Accuracy: 0.8766, Precision: 0.7539, recall: 0.7080, F1: 0.7115, AUC: 0.9874, AUPR: 0.9622\n"
     ]
    },
    {
     "name": "stderr",
     "output_type": "stream",
     "text": [
      " 74%|███████▍  | 37/50 [06:36<02:19, 10.70s/it]"
     ]
    },
    {
     "name": "stdout",
     "output_type": "stream",
     "text": [
      "Epoch 37, Train Loss: 0.0915, Validation Loss: 0.8966, Validation Accuracy: 0.9002, Precision: 0.7564, recall: 0.7392, F1: 0.7335, AUC: 0.9916, AUPR: 0.9773\n"
     ]
    },
    {
     "name": "stderr",
     "output_type": "stream",
     "text": [
      " 76%|███████▌  | 38/50 [06:47<02:08, 10.69s/it]"
     ]
    },
    {
     "name": "stdout",
     "output_type": "stream",
     "text": [
      "Epoch 38, Train Loss: 0.0937, Validation Loss: 1.1548, Validation Accuracy: 0.8939, Precision: 0.7979, recall: 0.7642, F1: 0.7656, AUC: 0.9893, AUPR: 0.9698\n"
     ]
    },
    {
     "name": "stderr",
     "output_type": "stream",
     "text": [
      " 78%|███████▊  | 39/50 [06:57<01:57, 10.67s/it]"
     ]
    },
    {
     "name": "stdout",
     "output_type": "stream",
     "text": [
      "Epoch 39, Train Loss: 0.1018, Validation Loss: 0.9216, Validation Accuracy: 0.8955, Precision: 0.7438, recall: 0.7484, F1: 0.7255, AUC: 0.9912, AUPR: 0.9752\n",
      "Epoch 40, Train Loss: 0.1335, Validation Loss: 1.1357, Validation Accuracy: 0.8854, Precision: 0.8002, recall: 0.7631, F1: 0.7613, AUC: 0.9882, AUPR: 0.9687\n"
     ]
    },
    {
     "name": "stderr",
     "output_type": "stream",
     "text": [
      " 80%|████████  | 40/50 [07:09<01:48, 10.83s/it]"
     ]
    },
    {
     "name": "stdout",
     "output_type": "stream",
     "text": [
      "Saved checkpoint: checkpoints/cnn_ddi_epoch_40_enzyme_category.pt\n"
     ]
    },
    {
     "name": "stderr",
     "output_type": "stream",
     "text": [
      " 82%|████████▏ | 41/50 [07:19<01:37, 10.81s/it]"
     ]
    },
    {
     "name": "stdout",
     "output_type": "stream",
     "text": [
      "Epoch 41, Train Loss: 0.0829, Validation Loss: 1.0073, Validation Accuracy: 0.8896, Precision: 0.8029, recall: 0.7327, F1: 0.7505, AUC: 0.9909, AUPR: 0.9731\n"
     ]
    },
    {
     "name": "stderr",
     "output_type": "stream",
     "text": [
      " 84%|████████▍ | 42/50 [07:30<01:26, 10.80s/it]"
     ]
    },
    {
     "name": "stdout",
     "output_type": "stream",
     "text": [
      "Epoch 42, Train Loss: 0.2491, Validation Loss: 1.2706, Validation Accuracy: 0.8964, Precision: 0.7958, recall: 0.8051, F1: 0.7889, AUC: 0.9904, AUPR: 0.9695\n"
     ]
    },
    {
     "name": "stderr",
     "output_type": "stream",
     "text": [
      " 86%|████████▌ | 43/50 [07:41<01:15, 10.76s/it]"
     ]
    },
    {
     "name": "stdout",
     "output_type": "stream",
     "text": [
      "Epoch 43, Train Loss: 0.0531, Validation Loss: 1.2119, Validation Accuracy: 0.8951, Precision: 0.8053, recall: 0.8079, F1: 0.7917, AUC: 0.9896, AUPR: 0.9685\n"
     ]
    },
    {
     "name": "stderr",
     "output_type": "stream",
     "text": [
      " 88%|████████▊ | 44/50 [07:52<01:04, 10.80s/it]"
     ]
    },
    {
     "name": "stdout",
     "output_type": "stream",
     "text": [
      "Epoch 44, Train Loss: 0.1178, Validation Loss: 1.7757, Validation Accuracy: 0.8764, Precision: 0.7953, recall: 0.7575, F1: 0.7537, AUC: 0.9870, AUPR: 0.9626\n"
     ]
    },
    {
     "name": "stderr",
     "output_type": "stream",
     "text": [
      " 90%|█████████ | 45/50 [08:02<00:53, 10.73s/it]"
     ]
    },
    {
     "name": "stdout",
     "output_type": "stream",
     "text": [
      "Epoch 45, Train Loss: 0.1104, Validation Loss: 1.2161, Validation Accuracy: 0.8986, Precision: 0.7927, recall: 0.7709, F1: 0.7721, AUC: 0.9891, AUPR: 0.9655\n"
     ]
    },
    {
     "name": "stderr",
     "output_type": "stream",
     "text": [
      " 92%|█████████▏| 46/50 [08:13<00:42, 10.68s/it]"
     ]
    },
    {
     "name": "stdout",
     "output_type": "stream",
     "text": [
      "Epoch 46, Train Loss: 0.1394, Validation Loss: 2.3957, Validation Accuracy: 0.8839, Precision: 0.7755, recall: 0.7784, F1: 0.7601, AUC: 0.9856, AUPR: 0.9513\n"
     ]
    },
    {
     "name": "stderr",
     "output_type": "stream",
     "text": [
      " 94%|█████████▍| 47/50 [08:24<00:32, 10.72s/it]"
     ]
    },
    {
     "name": "stdout",
     "output_type": "stream",
     "text": [
      "Epoch 47, Train Loss: 0.1252, Validation Loss: 1.2338, Validation Accuracy: 0.9004, Precision: 0.7936, recall: 0.7171, F1: 0.7407, AUC: 0.9907, AUPR: 0.9689\n"
     ]
    },
    {
     "name": "stderr",
     "output_type": "stream",
     "text": [
      " 96%|█████████▌| 48/50 [08:34<00:21, 10.68s/it]"
     ]
    },
    {
     "name": "stdout",
     "output_type": "stream",
     "text": [
      "Epoch 48, Train Loss: 0.0906, Validation Loss: 2.1037, Validation Accuracy: 0.8876, Precision: 0.7835, recall: 0.7738, F1: 0.7677, AUC: 0.9865, AUPR: 0.9576\n"
     ]
    },
    {
     "name": "stderr",
     "output_type": "stream",
     "text": [
      " 98%|█████████▊| 49/50 [08:45<00:10, 10.64s/it]"
     ]
    },
    {
     "name": "stdout",
     "output_type": "stream",
     "text": [
      "Epoch 49, Train Loss: 0.1640, Validation Loss: 1.5053, Validation Accuracy: 0.8890, Precision: 0.7879, recall: 0.7988, F1: 0.7796, AUC: 0.9888, AUPR: 0.9618\n",
      "Epoch 50, Train Loss: 0.0952, Validation Loss: 1.8360, Validation Accuracy: 0.8791, Precision: 0.8454, recall: 0.7586, F1: 0.7873, AUC: 0.9884, AUPR: 0.9625\n"
     ]
    },
    {
     "name": "stderr",
     "output_type": "stream",
     "text": [
      "100%|██████████| 50/50 [08:56<00:00, 10.73s/it]"
     ]
    },
    {
     "name": "stdout",
     "output_type": "stream",
     "text": [
      "Saved checkpoint: checkpoints/cnn_ddi_epoch_50_enzyme_category.pt\n",
      "Feature combination: ('pathway', 'target', 'enzyme')\n"
     ]
    },
    {
     "name": "stderr",
     "output_type": "stream",
     "text": [
      "\n",
      "/tmp/ipykernel_83239/3982585584.py:3: UserWarning: To copy construct from a tensor, it is recommended to use sourceTensor.clone().detach() or sourceTensor.clone().detach().requires_grad_(True), rather than torch.tensor(sourceTensor).\n",
      "  self.features = torch.tensor(features, dtype=torch.float32)\n",
      "  2%|▏         | 1/50 [00:15<12:52, 15.76s/it]"
     ]
    },
    {
     "name": "stdout",
     "output_type": "stream",
     "text": [
      "Epoch 1, Train Loss: 0.8985, Validation Loss: 0.3953, Validation Accuracy: 0.7773, Precision: 0.5598, recall: 0.4652, F1: 0.4787, AUC: 0.9585, AUPR: 0.8903\n"
     ]
    },
    {
     "name": "stderr",
     "output_type": "stream",
     "text": [
      "  4%|▍         | 2/50 [00:31<12:41, 15.87s/it]"
     ]
    },
    {
     "name": "stdout",
     "output_type": "stream",
     "text": [
      "Epoch 2, Train Loss: 0.3305, Validation Loss: 0.4028, Validation Accuracy: 0.7637, Precision: 0.6567, recall: 0.5571, F1: 0.5622, AUC: 0.9574, AUPR: 0.9061\n"
     ]
    },
    {
     "name": "stderr",
     "output_type": "stream",
     "text": [
      "  6%|▌         | 3/50 [00:47<12:25, 15.86s/it]"
     ]
    },
    {
     "name": "stdout",
     "output_type": "stream",
     "text": [
      "Epoch 3, Train Loss: 0.2506, Validation Loss: 0.3057, Validation Accuracy: 0.8120, Precision: 0.7070, recall: 0.6678, F1: 0.6449, AUC: 0.9743, AUPR: 0.9390\n"
     ]
    },
    {
     "name": "stderr",
     "output_type": "stream",
     "text": [
      "  8%|▊         | 4/50 [01:03<12:08, 15.84s/it]"
     ]
    },
    {
     "name": "stdout",
     "output_type": "stream",
     "text": [
      "Epoch 4, Train Loss: 0.2244, Validation Loss: 0.2696, Validation Accuracy: 0.8313, Precision: 0.7408, recall: 0.7413, F1: 0.7233, AUC: 0.9732, AUPR: 0.9331\n"
     ]
    },
    {
     "name": "stderr",
     "output_type": "stream",
     "text": [
      " 10%|█         | 5/50 [01:19<11:53, 15.86s/it]"
     ]
    },
    {
     "name": "stdout",
     "output_type": "stream",
     "text": [
      "Epoch 5, Train Loss: 0.1761, Validation Loss: 0.2949, Validation Accuracy: 0.8245, Precision: 0.7711, recall: 0.7235, F1: 0.7247, AUC: 0.9754, AUPR: 0.9379\n"
     ]
    },
    {
     "name": "stderr",
     "output_type": "stream",
     "text": [
      " 12%|█▏        | 6/50 [01:35<11:36, 15.84s/it]"
     ]
    },
    {
     "name": "stdout",
     "output_type": "stream",
     "text": [
      "Epoch 6, Train Loss: 0.1691, Validation Loss: 0.3280, Validation Accuracy: 0.8258, Precision: 0.7073, recall: 0.7945, F1: 0.7117, AUC: 0.9757, AUPR: 0.9412\n"
     ]
    },
    {
     "name": "stderr",
     "output_type": "stream",
     "text": [
      " 14%|█▍        | 7/50 [01:50<11:20, 15.82s/it]"
     ]
    },
    {
     "name": "stdout",
     "output_type": "stream",
     "text": [
      "Epoch 7, Train Loss: 0.1566, Validation Loss: 0.2889, Validation Accuracy: 0.8492, Precision: 0.7427, recall: 0.7487, F1: 0.7213, AUC: 0.9806, AUPR: 0.9502\n"
     ]
    },
    {
     "name": "stderr",
     "output_type": "stream",
     "text": [
      " 16%|█▌        | 8/50 [02:06<11:05, 15.84s/it]"
     ]
    },
    {
     "name": "stdout",
     "output_type": "stream",
     "text": [
      "Epoch 8, Train Loss: 0.1420, Validation Loss: 0.3259, Validation Accuracy: 0.8348, Precision: 0.7317, recall: 0.6322, F1: 0.6572, AUC: 0.9822, AUPR: 0.9548\n"
     ]
    },
    {
     "name": "stderr",
     "output_type": "stream",
     "text": [
      " 18%|█▊        | 9/50 [02:22<10:49, 15.83s/it]"
     ]
    },
    {
     "name": "stdout",
     "output_type": "stream",
     "text": [
      "Epoch 9, Train Loss: 0.1446, Validation Loss: 0.2949, Validation Accuracy: 0.8417, Precision: 0.7050, recall: 0.7475, F1: 0.7032, AUC: 0.9811, AUPR: 0.9547\n",
      "Epoch 10, Train Loss: 0.1115, Validation Loss: 0.2944, Validation Accuracy: 0.8563, Precision: 0.7465, recall: 0.7782, F1: 0.7387, AUC: 0.9844, AUPR: 0.9587\n"
     ]
    },
    {
     "name": "stderr",
     "output_type": "stream",
     "text": [
      " 20%|██        | 10/50 [02:39<10:42, 16.07s/it]"
     ]
    },
    {
     "name": "stdout",
     "output_type": "stream",
     "text": [
      "Saved checkpoint: checkpoints/cnn_ddi_epoch_10_pathway_target_enzyme.pt\n"
     ]
    },
    {
     "name": "stderr",
     "output_type": "stream",
     "text": [
      " 22%|██▏       | 11/50 [02:54<10:23, 15.99s/it]"
     ]
    },
    {
     "name": "stdout",
     "output_type": "stream",
     "text": [
      "Epoch 11, Train Loss: 0.2077, Validation Loss: 0.2729, Validation Accuracy: 0.8668, Precision: 0.7510, recall: 0.7953, F1: 0.7509, AUC: 0.9847, AUPR: 0.9624\n"
     ]
    },
    {
     "name": "stderr",
     "output_type": "stream",
     "text": [
      " 24%|██▍       | 12/50 [03:10<10:06, 15.97s/it]"
     ]
    },
    {
     "name": "stdout",
     "output_type": "stream",
     "text": [
      "Epoch 12, Train Loss: 0.0766, Validation Loss: 0.2766, Validation Accuracy: 0.8673, Precision: 0.7631, recall: 0.6839, F1: 0.7045, AUC: 0.9854, AUPR: 0.9623\n"
     ]
    },
    {
     "name": "stderr",
     "output_type": "stream",
     "text": [
      " 26%|██▌       | 13/50 [03:26<09:48, 15.91s/it]"
     ]
    },
    {
     "name": "stdout",
     "output_type": "stream",
     "text": [
      "Epoch 13, Train Loss: 0.1247, Validation Loss: 0.4679, Validation Accuracy: 0.8187, Precision: 0.7473, recall: 0.6993, F1: 0.6977, AUC: 0.9756, AUPR: 0.9315\n"
     ]
    },
    {
     "name": "stderr",
     "output_type": "stream",
     "text": [
      " 28%|██▊       | 14/50 [03:42<09:31, 15.87s/it]"
     ]
    },
    {
     "name": "stdout",
     "output_type": "stream",
     "text": [
      "Epoch 14, Train Loss: 0.1143, Validation Loss: 0.2941, Validation Accuracy: 0.8492, Precision: 0.7716, recall: 0.6946, F1: 0.6980, AUC: 0.9807, AUPR: 0.9533\n"
     ]
    },
    {
     "name": "stderr",
     "output_type": "stream",
     "text": [
      " 30%|███       | 15/50 [03:58<09:14, 15.84s/it]"
     ]
    },
    {
     "name": "stdout",
     "output_type": "stream",
     "text": [
      "Epoch 15, Train Loss: 0.0943, Validation Loss: 0.3273, Validation Accuracy: 0.8543, Precision: 0.6993, recall: 0.6567, F1: 0.6518, AUC: 0.9839, AUPR: 0.9572\n"
     ]
    },
    {
     "name": "stderr",
     "output_type": "stream",
     "text": [
      " 32%|███▏      | 16/50 [04:13<08:57, 15.80s/it]"
     ]
    },
    {
     "name": "stdout",
     "output_type": "stream",
     "text": [
      "Epoch 16, Train Loss: 0.1506, Validation Loss: 0.2700, Validation Accuracy: 0.8672, Precision: 0.7349, recall: 0.7377, F1: 0.7164, AUC: 0.9860, AUPR: 0.9645\n"
     ]
    },
    {
     "name": "stderr",
     "output_type": "stream",
     "text": [
      " 34%|███▍      | 17/50 [04:29<08:40, 15.79s/it]"
     ]
    },
    {
     "name": "stdout",
     "output_type": "stream",
     "text": [
      "Epoch 17, Train Loss: 0.0769, Validation Loss: 0.3693, Validation Accuracy: 0.8422, Precision: 0.7703, recall: 0.7056, F1: 0.7110, AUC: 0.9816, AUPR: 0.9462\n"
     ]
    },
    {
     "name": "stderr",
     "output_type": "stream",
     "text": [
      " 36%|███▌      | 18/50 [04:45<08:23, 15.75s/it]"
     ]
    },
    {
     "name": "stdout",
     "output_type": "stream",
     "text": [
      "Epoch 18, Train Loss: 0.1508, Validation Loss: 0.2896, Validation Accuracy: 0.8696, Precision: 0.7711, recall: 0.7574, F1: 0.7371, AUC: 0.9855, AUPR: 0.9630\n"
     ]
    },
    {
     "name": "stderr",
     "output_type": "stream",
     "text": [
      " 38%|███▊      | 19/50 [05:01<08:08, 15.76s/it]"
     ]
    },
    {
     "name": "stdout",
     "output_type": "stream",
     "text": [
      "Epoch 19, Train Loss: 0.0635, Validation Loss: 0.2912, Validation Accuracy: 0.8668, Precision: 0.7882, recall: 0.7641, F1: 0.7528, AUC: 0.9850, AUPR: 0.9594\n",
      "Epoch 20, Train Loss: 0.0690, Validation Loss: 0.3965, Validation Accuracy: 0.8516, Precision: 0.7426, recall: 0.7043, F1: 0.7058, AUC: 0.9833, AUPR: 0.9524\n"
     ]
    },
    {
     "name": "stderr",
     "output_type": "stream",
     "text": [
      " 40%|████      | 20/50 [05:17<07:59, 15.99s/it]"
     ]
    },
    {
     "name": "stdout",
     "output_type": "stream",
     "text": [
      "Saved checkpoint: checkpoints/cnn_ddi_epoch_20_pathway_target_enzyme.pt\n"
     ]
    },
    {
     "name": "stderr",
     "output_type": "stream",
     "text": [
      " 42%|████▏     | 21/50 [05:33<07:42, 15.96s/it]"
     ]
    },
    {
     "name": "stdout",
     "output_type": "stream",
     "text": [
      "Epoch 21, Train Loss: 0.2316, Validation Loss: 0.3142, Validation Accuracy: 0.8759, Precision: 0.7788, recall: 0.7745, F1: 0.7595, AUC: 0.9880, AUPR: 0.9682\n"
     ]
    },
    {
     "name": "stderr",
     "output_type": "stream",
     "text": [
      " 44%|████▍     | 22/50 [05:49<07:25, 15.92s/it]"
     ]
    },
    {
     "name": "stdout",
     "output_type": "stream",
     "text": [
      "Epoch 22, Train Loss: 0.0433, Validation Loss: 0.3225, Validation Accuracy: 0.8638, Precision: 0.7835, recall: 0.7735, F1: 0.7514, AUC: 0.9843, AUPR: 0.9611\n"
     ]
    },
    {
     "name": "stderr",
     "output_type": "stream",
     "text": [
      " 46%|████▌     | 23/50 [06:05<07:08, 15.88s/it]"
     ]
    },
    {
     "name": "stdout",
     "output_type": "stream",
     "text": [
      "Epoch 23, Train Loss: 0.0870, Validation Loss: 0.6793, Validation Accuracy: 0.8202, Precision: 0.6990, recall: 0.6869, F1: 0.6531, AUC: 0.9787, AUPR: 0.9450\n"
     ]
    },
    {
     "name": "stderr",
     "output_type": "stream",
     "text": [
      " 48%|████▊     | 24/50 [06:20<06:52, 15.85s/it]"
     ]
    },
    {
     "name": "stdout",
     "output_type": "stream",
     "text": [
      "Epoch 24, Train Loss: 0.1227, Validation Loss: 0.3294, Validation Accuracy: 0.8664, Precision: 0.8084, recall: 0.7073, F1: 0.7346, AUC: 0.9854, AUPR: 0.9611\n"
     ]
    },
    {
     "name": "stderr",
     "output_type": "stream",
     "text": [
      " 50%|█████     | 25/50 [06:36<06:34, 15.80s/it]"
     ]
    },
    {
     "name": "stdout",
     "output_type": "stream",
     "text": [
      "Epoch 25, Train Loss: 0.1204, Validation Loss: 0.9524, Validation Accuracy: 0.8281, Precision: 0.7464, recall: 0.6418, F1: 0.6696, AUC: 0.9777, AUPR: 0.9384\n"
     ]
    },
    {
     "name": "stderr",
     "output_type": "stream",
     "text": [
      " 52%|█████▏    | 26/50 [06:52<06:19, 15.81s/it]"
     ]
    },
    {
     "name": "stdout",
     "output_type": "stream",
     "text": [
      "Epoch 26, Train Loss: 0.1361, Validation Loss: 0.3241, Validation Accuracy: 0.8772, Precision: 0.7832, recall: 0.8092, F1: 0.7763, AUC: 0.9868, AUPR: 0.9662\n"
     ]
    },
    {
     "name": "stderr",
     "output_type": "stream",
     "text": [
      " 54%|█████▍    | 27/50 [07:08<06:03, 15.81s/it]"
     ]
    },
    {
     "name": "stdout",
     "output_type": "stream",
     "text": [
      "Epoch 27, Train Loss: 0.0417, Validation Loss: 0.4167, Validation Accuracy: 0.8525, Precision: 0.7724, recall: 0.7234, F1: 0.7132, AUC: 0.9833, AUPR: 0.9568\n"
     ]
    },
    {
     "name": "stderr",
     "output_type": "stream",
     "text": [
      " 56%|█████▌    | 28/50 [07:23<05:46, 15.77s/it]"
     ]
    },
    {
     "name": "stdout",
     "output_type": "stream",
     "text": [
      "Epoch 28, Train Loss: 0.4469, Validation Loss: 0.5276, Validation Accuracy: 0.8478, Precision: 0.7423, recall: 0.7743, F1: 0.7351, AUC: 0.9842, AUPR: 0.9604\n"
     ]
    },
    {
     "name": "stderr",
     "output_type": "stream",
     "text": [
      " 58%|█████▊    | 29/50 [07:39<05:32, 15.83s/it]"
     ]
    },
    {
     "name": "stdout",
     "output_type": "stream",
     "text": [
      "Epoch 29, Train Loss: 0.0584, Validation Loss: 0.4446, Validation Accuracy: 0.8661, Precision: 0.7769, recall: 0.7594, F1: 0.7448, AUC: 0.9846, AUPR: 0.9593\n",
      "Epoch 30, Train Loss: 0.0566, Validation Loss: 0.5008, Validation Accuracy: 0.8331, Precision: 0.7371, recall: 0.7475, F1: 0.7224, AUC: 0.9819, AUPR: 0.9561\n"
     ]
    },
    {
     "name": "stderr",
     "output_type": "stream",
     "text": [
      " 60%|██████    | 30/50 [07:56<05:21, 16.06s/it]"
     ]
    },
    {
     "name": "stdout",
     "output_type": "stream",
     "text": [
      "Saved checkpoint: checkpoints/cnn_ddi_epoch_30_pathway_target_enzyme.pt\n"
     ]
    },
    {
     "name": "stderr",
     "output_type": "stream",
     "text": [
      " 62%|██████▏   | 31/50 [08:12<05:04, 16.04s/it]"
     ]
    },
    {
     "name": "stdout",
     "output_type": "stream",
     "text": [
      "Epoch 31, Train Loss: 0.0665, Validation Loss: 0.4250, Validation Accuracy: 0.8597, Precision: 0.8123, recall: 0.7136, F1: 0.7345, AUC: 0.9845, AUPR: 0.9581\n"
     ]
    },
    {
     "name": "stderr",
     "output_type": "stream",
     "text": [
      " 64%|██████▍   | 32/50 [08:28<04:47, 15.97s/it]"
     ]
    },
    {
     "name": "stdout",
     "output_type": "stream",
     "text": [
      "Epoch 32, Train Loss: 0.1741, Validation Loss: 0.7440, Validation Accuracy: 0.8281, Precision: 0.7776, recall: 0.6467, F1: 0.6738, AUC: 0.9768, AUPR: 0.9399\n"
     ]
    },
    {
     "name": "stderr",
     "output_type": "stream",
     "text": [
      " 66%|██████▌   | 33/50 [08:44<04:31, 15.94s/it]"
     ]
    },
    {
     "name": "stdout",
     "output_type": "stream",
     "text": [
      "Epoch 33, Train Loss: 0.0669, Validation Loss: 0.4425, Validation Accuracy: 0.8704, Precision: 0.7439, recall: 0.7942, F1: 0.7502, AUC: 0.9862, AUPR: 0.9661\n"
     ]
    },
    {
     "name": "stderr",
     "output_type": "stream",
     "text": [
      " 68%|██████▊   | 34/50 [08:59<04:14, 15.90s/it]"
     ]
    },
    {
     "name": "stdout",
     "output_type": "stream",
     "text": [
      "Epoch 34, Train Loss: 0.0718, Validation Loss: 1.3437, Validation Accuracy: 0.8249, Precision: 0.7716, recall: 0.7047, F1: 0.7049, AUC: 0.9717, AUPR: 0.9267\n"
     ]
    },
    {
     "name": "stderr",
     "output_type": "stream",
     "text": [
      " 70%|███████   | 35/50 [09:15<03:57, 15.86s/it]"
     ]
    },
    {
     "name": "stdout",
     "output_type": "stream",
     "text": [
      "Epoch 35, Train Loss: 0.6459, Validation Loss: 0.5625, Validation Accuracy: 0.8694, Precision: 0.7856, recall: 0.8015, F1: 0.7794, AUC: 0.9858, AUPR: 0.9634\n"
     ]
    },
    {
     "name": "stderr",
     "output_type": "stream",
     "text": [
      " 72%|███████▏  | 36/50 [09:31<03:42, 15.86s/it]"
     ]
    },
    {
     "name": "stdout",
     "output_type": "stream",
     "text": [
      "Epoch 36, Train Loss: 0.0559, Validation Loss: 0.4656, Validation Accuracy: 0.8751, Precision: 0.8196, recall: 0.7725, F1: 0.7771, AUC: 0.9864, AUPR: 0.9647\n"
     ]
    },
    {
     "name": "stderr",
     "output_type": "stream",
     "text": [
      " 74%|███████▍  | 37/50 [09:47<03:26, 15.89s/it]"
     ]
    },
    {
     "name": "stdout",
     "output_type": "stream",
     "text": [
      "Epoch 37, Train Loss: 0.0614, Validation Loss: 0.7181, Validation Accuracy: 0.8641, Precision: 0.7673, recall: 0.8044, F1: 0.7652, AUC: 0.9834, AUPR: 0.9578\n"
     ]
    },
    {
     "name": "stderr",
     "output_type": "stream",
     "text": [
      " 76%|███████▌  | 38/50 [10:03<03:10, 15.87s/it]"
     ]
    },
    {
     "name": "stdout",
     "output_type": "stream",
     "text": [
      "Epoch 38, Train Loss: 0.0832, Validation Loss: 0.4663, Validation Accuracy: 0.8433, Precision: 0.7500, recall: 0.6367, F1: 0.6540, AUC: 0.9810, AUPR: 0.9522\n"
     ]
    },
    {
     "name": "stderr",
     "output_type": "stream",
     "text": [
      " 78%|███████▊  | 39/50 [10:19<02:54, 15.83s/it]"
     ]
    },
    {
     "name": "stdout",
     "output_type": "stream",
     "text": [
      "Epoch 39, Train Loss: 0.2081, Validation Loss: 0.4794, Validation Accuracy: 0.8670, Precision: 0.7802, recall: 0.7906, F1: 0.7697, AUC: 0.9860, AUPR: 0.9640\n",
      "Epoch 40, Train Loss: 0.0483, Validation Loss: 0.3902, Validation Accuracy: 0.8796, Precision: 0.7747, recall: 0.7917, F1: 0.7732, AUC: 0.9872, AUPR: 0.9667\n"
     ]
    },
    {
     "name": "stderr",
     "output_type": "stream",
     "text": [
      " 80%|████████  | 40/50 [10:35<02:41, 16.12s/it]"
     ]
    },
    {
     "name": "stdout",
     "output_type": "stream",
     "text": [
      "Saved checkpoint: checkpoints/cnn_ddi_epoch_40_pathway_target_enzyme.pt\n"
     ]
    },
    {
     "name": "stderr",
     "output_type": "stream",
     "text": [
      " 82%|████████▏ | 41/50 [10:51<02:24, 16.08s/it]"
     ]
    },
    {
     "name": "stdout",
     "output_type": "stream",
     "text": [
      "Epoch 41, Train Loss: 3.5229, Validation Loss: 1.4872, Validation Accuracy: 0.8621, Precision: 0.7698, recall: 0.7445, F1: 0.7378, AUC: 0.9827, AUPR: 0.9535\n"
     ]
    },
    {
     "name": "stderr",
     "output_type": "stream",
     "text": [
      " 84%|████████▍ | 42/50 [11:07<02:08, 16.02s/it]"
     ]
    },
    {
     "name": "stdout",
     "output_type": "stream",
     "text": [
      "Epoch 42, Train Loss: 0.1861, Validation Loss: 1.0138, Validation Accuracy: 0.8766, Precision: 0.7450, recall: 0.7554, F1: 0.7368, AUC: 0.9864, AUPR: 0.9639\n"
     ]
    },
    {
     "name": "stderr",
     "output_type": "stream",
     "text": [
      " 86%|████████▌ | 43/50 [11:23<01:51, 15.93s/it]"
     ]
    },
    {
     "name": "stdout",
     "output_type": "stream",
     "text": [
      "Epoch 43, Train Loss: 0.0928, Validation Loss: 0.8502, Validation Accuracy: 0.8810, Precision: 0.7685, recall: 0.7912, F1: 0.7640, AUC: 0.9858, AUPR: 0.9626\n"
     ]
    },
    {
     "name": "stderr",
     "output_type": "stream",
     "text": [
      " 88%|████████▊ | 44/50 [11:39<01:35, 15.86s/it]"
     ]
    },
    {
     "name": "stdout",
     "output_type": "stream",
     "text": [
      "Epoch 44, Train Loss: 0.1515, Validation Loss: 1.3957, Validation Accuracy: 0.8489, Precision: 0.7266, recall: 0.6641, F1: 0.6668, AUC: 0.9810, AUPR: 0.9479\n"
     ]
    },
    {
     "name": "stderr",
     "output_type": "stream",
     "text": [
      " 90%|█████████ | 45/50 [11:54<01:19, 15.82s/it]"
     ]
    },
    {
     "name": "stdout",
     "output_type": "stream",
     "text": [
      "Epoch 45, Train Loss: 0.1119, Validation Loss: 0.9463, Validation Accuracy: 0.8723, Precision: 0.7208, recall: 0.7713, F1: 0.7227, AUC: 0.9846, AUPR: 0.9631\n"
     ]
    },
    {
     "name": "stderr",
     "output_type": "stream",
     "text": [
      " 92%|█████████▏| 46/50 [12:10<01:03, 15.81s/it]"
     ]
    },
    {
     "name": "stdout",
     "output_type": "stream",
     "text": [
      "Epoch 46, Train Loss: 0.1285, Validation Loss: 1.2923, Validation Accuracy: 0.8515, Precision: 0.7125, recall: 0.7423, F1: 0.7101, AUC: 0.9807, AUPR: 0.9521\n"
     ]
    },
    {
     "name": "stderr",
     "output_type": "stream",
     "text": [
      " 94%|█████████▍| 47/50 [12:26<00:47, 15.84s/it]"
     ]
    },
    {
     "name": "stdout",
     "output_type": "stream",
     "text": [
      "Epoch 47, Train Loss: 0.1174, Validation Loss: 0.9563, Validation Accuracy: 0.8649, Precision: 0.7491, recall: 0.7018, F1: 0.7040, AUC: 0.9836, AUPR: 0.9568\n"
     ]
    },
    {
     "name": "stderr",
     "output_type": "stream",
     "text": [
      " 96%|█████████▌| 48/50 [12:42<00:31, 15.89s/it]"
     ]
    },
    {
     "name": "stdout",
     "output_type": "stream",
     "text": [
      "Epoch 48, Train Loss: 0.1566, Validation Loss: 0.9097, Validation Accuracy: 0.8607, Precision: 0.7477, recall: 0.7167, F1: 0.7096, AUC: 0.9824, AUPR: 0.9549\n"
     ]
    },
    {
     "name": "stderr",
     "output_type": "stream",
     "text": [
      " 98%|█████████▊| 49/50 [12:58<00:15, 15.86s/it]"
     ]
    },
    {
     "name": "stdout",
     "output_type": "stream",
     "text": [
      "Epoch 49, Train Loss: 0.1523, Validation Loss: 1.2197, Validation Accuracy: 0.8397, Precision: 0.7488, recall: 0.7093, F1: 0.7079, AUC: 0.9824, AUPR: 0.9553\n",
      "Epoch 50, Train Loss: 0.1288, Validation Loss: 0.9523, Validation Accuracy: 0.8476, Precision: 0.7845, recall: 0.6298, F1: 0.6682, AUC: 0.9817, AUPR: 0.9501\n"
     ]
    },
    {
     "name": "stderr",
     "output_type": "stream",
     "text": [
      "100%|██████████| 50/50 [13:14<00:00, 15.90s/it]"
     ]
    },
    {
     "name": "stdout",
     "output_type": "stream",
     "text": [
      "Saved checkpoint: checkpoints/cnn_ddi_epoch_50_pathway_target_enzyme.pt\n",
      "Feature combination: ('pathway', 'target', 'category')\n"
     ]
    },
    {
     "name": "stderr",
     "output_type": "stream",
     "text": [
      "\n",
      "/tmp/ipykernel_83239/3982585584.py:3: UserWarning: To copy construct from a tensor, it is recommended to use sourceTensor.clone().detach() or sourceTensor.clone().detach().requires_grad_(True), rather than torch.tensor(sourceTensor).\n",
      "  self.features = torch.tensor(features, dtype=torch.float32)\n",
      "  2%|▏         | 1/50 [00:15<12:56, 15.85s/it]"
     ]
    },
    {
     "name": "stdout",
     "output_type": "stream",
     "text": [
      "Epoch 1, Train Loss: 0.6966, Validation Loss: 0.3218, Validation Accuracy: 0.8124, Precision: 0.6650, recall: 0.5242, F1: 0.5482, AUC: 0.9672, AUPR: 0.9110\n"
     ]
    },
    {
     "name": "stderr",
     "output_type": "stream",
     "text": [
      "  4%|▍         | 2/50 [00:31<12:42, 15.89s/it]"
     ]
    },
    {
     "name": "stdout",
     "output_type": "stream",
     "text": [
      "Epoch 2, Train Loss: 0.2591, Validation Loss: 0.2838, Validation Accuracy: 0.8242, Precision: 0.7646, recall: 0.6945, F1: 0.6950, AUC: 0.9757, AUPR: 0.9334\n"
     ]
    },
    {
     "name": "stderr",
     "output_type": "stream",
     "text": [
      "  6%|▌         | 3/50 [00:47<12:21, 15.77s/it]"
     ]
    },
    {
     "name": "stdout",
     "output_type": "stream",
     "text": [
      "Epoch 3, Train Loss: 0.1907, Validation Loss: 0.2555, Validation Accuracy: 0.8319, Precision: 0.7167, recall: 0.5582, F1: 0.6037, AUC: 0.9791, AUPR: 0.9487\n"
     ]
    },
    {
     "name": "stderr",
     "output_type": "stream",
     "text": [
      "  8%|▊         | 4/50 [01:02<12:00, 15.67s/it]"
     ]
    },
    {
     "name": "stdout",
     "output_type": "stream",
     "text": [
      "Epoch 4, Train Loss: 0.1767, Validation Loss: 0.2481, Validation Accuracy: 0.8489, Precision: 0.7087, recall: 0.8155, F1: 0.7294, AUC: 0.9812, AUPR: 0.9548\n"
     ]
    },
    {
     "name": "stderr",
     "output_type": "stream",
     "text": [
      " 10%|█         | 5/50 [01:18<11:47, 15.72s/it]"
     ]
    },
    {
     "name": "stdout",
     "output_type": "stream",
     "text": [
      "Epoch 5, Train Loss: 0.1354, Validation Loss: 0.1995, Validation Accuracy: 0.8827, Precision: 0.8122, recall: 0.8070, F1: 0.7916, AUC: 0.9880, AUPR: 0.9703\n"
     ]
    },
    {
     "name": "stderr",
     "output_type": "stream",
     "text": [
      " 12%|█▏        | 6/50 [01:34<11:34, 15.79s/it]"
     ]
    },
    {
     "name": "stdout",
     "output_type": "stream",
     "text": [
      "Epoch 6, Train Loss: 0.1227, Validation Loss: 0.2672, Validation Accuracy: 0.8609, Precision: 0.8210, recall: 0.6588, F1: 0.7072, AUC: 0.9851, AUPR: 0.9604\n"
     ]
    },
    {
     "name": "stderr",
     "output_type": "stream",
     "text": [
      " 14%|█▍        | 7/50 [01:50<11:18, 15.79s/it]"
     ]
    },
    {
     "name": "stdout",
     "output_type": "stream",
     "text": [
      "Epoch 7, Train Loss: 0.7135, Validation Loss: 0.2108, Validation Accuracy: 0.8758, Precision: 0.7904, recall: 0.8136, F1: 0.7833, AUC: 0.9858, AUPR: 0.9682\n"
     ]
    },
    {
     "name": "stderr",
     "output_type": "stream",
     "text": [
      " 16%|█▌        | 8/50 [02:06<11:04, 15.82s/it]"
     ]
    },
    {
     "name": "stdout",
     "output_type": "stream",
     "text": [
      "Epoch 8, Train Loss: 0.0867, Validation Loss: 0.2386, Validation Accuracy: 0.8825, Precision: 0.7975, recall: 0.7747, F1: 0.7708, AUC: 0.9885, AUPR: 0.9728\n"
     ]
    },
    {
     "name": "stderr",
     "output_type": "stream",
     "text": [
      " 18%|█▊        | 9/50 [02:22<10:51, 15.89s/it]"
     ]
    },
    {
     "name": "stdout",
     "output_type": "stream",
     "text": [
      "Epoch 9, Train Loss: 0.0761, Validation Loss: 0.2993, Validation Accuracy: 0.8741, Precision: 0.8007, recall: 0.7847, F1: 0.7734, AUC: 0.9857, AUPR: 0.9634\n",
      "Epoch 10, Train Loss: 0.0989, Validation Loss: 0.4028, Validation Accuracy: 0.8688, Precision: 0.7661, recall: 0.7641, F1: 0.7374, AUC: 0.9846, AUPR: 0.9652\n"
     ]
    },
    {
     "name": "stderr",
     "output_type": "stream",
     "text": [
      " 20%|██        | 10/50 [02:39<10:46, 16.17s/it]"
     ]
    },
    {
     "name": "stdout",
     "output_type": "stream",
     "text": [
      "Saved checkpoint: checkpoints/cnn_ddi_epoch_10_pathway_target_category.pt\n"
     ]
    },
    {
     "name": "stderr",
     "output_type": "stream",
     "text": [
      " 22%|██▏       | 11/50 [02:55<10:29, 16.13s/it]"
     ]
    },
    {
     "name": "stdout",
     "output_type": "stream",
     "text": [
      "Epoch 11, Train Loss: 0.0935, Validation Loss: 0.2636, Validation Accuracy: 0.8807, Precision: 0.7737, recall: 0.7510, F1: 0.7413, AUC: 0.9860, AUPR: 0.9662\n"
     ]
    },
    {
     "name": "stderr",
     "output_type": "stream",
     "text": [
      " 24%|██▍       | 12/50 [03:11<10:10, 16.08s/it]"
     ]
    },
    {
     "name": "stdout",
     "output_type": "stream",
     "text": [
      "Epoch 12, Train Loss: 0.1541, Validation Loss: 0.2549, Validation Accuracy: 0.8829, Precision: 0.7782, recall: 0.7754, F1: 0.7661, AUC: 0.9878, AUPR: 0.9717\n"
     ]
    },
    {
     "name": "stderr",
     "output_type": "stream",
     "text": [
      " 26%|██▌       | 13/50 [03:27<09:53, 16.05s/it]"
     ]
    },
    {
     "name": "stdout",
     "output_type": "stream",
     "text": [
      "Epoch 13, Train Loss: 0.0572, Validation Loss: 0.2582, Validation Accuracy: 0.8787, Precision: 0.8066, recall: 0.7612, F1: 0.7588, AUC: 0.9881, AUPR: 0.9705\n"
     ]
    },
    {
     "name": "stderr",
     "output_type": "stream",
     "text": [
      " 28%|██▊       | 14/50 [03:42<09:35, 15.98s/it]"
     ]
    },
    {
     "name": "stdout",
     "output_type": "stream",
     "text": [
      "Epoch 14, Train Loss: 0.2572, Validation Loss: 0.2846, Validation Accuracy: 0.8796, Precision: 0.7737, recall: 0.7299, F1: 0.7365, AUC: 0.9858, AUPR: 0.9661\n"
     ]
    },
    {
     "name": "stderr",
     "output_type": "stream",
     "text": [
      " 30%|███       | 15/50 [03:58<09:16, 15.90s/it]"
     ]
    },
    {
     "name": "stdout",
     "output_type": "stream",
     "text": [
      "Epoch 15, Train Loss: 0.0461, Validation Loss: 0.2440, Validation Accuracy: 0.8937, Precision: 0.8177, recall: 0.7644, F1: 0.7801, AUC: 0.9898, AUPR: 0.9751\n"
     ]
    },
    {
     "name": "stderr",
     "output_type": "stream",
     "text": [
      " 32%|███▏      | 16/50 [04:14<08:58, 15.85s/it]"
     ]
    },
    {
     "name": "stdout",
     "output_type": "stream",
     "text": [
      "Epoch 16, Train Loss: 0.0346, Validation Loss: 0.2660, Validation Accuracy: 0.8975, Precision: 0.8117, recall: 0.7617, F1: 0.7753, AUC: 0.9892, AUPR: 0.9736\n"
     ]
    },
    {
     "name": "stderr",
     "output_type": "stream",
     "text": [
      " 34%|███▍      | 17/50 [04:30<08:44, 15.88s/it]"
     ]
    },
    {
     "name": "stdout",
     "output_type": "stream",
     "text": [
      "Epoch 17, Train Loss: 1.1843, Validation Loss: 0.3913, Validation Accuracy: 0.8826, Precision: 0.7790, recall: 0.7303, F1: 0.7341, AUC: 0.9875, AUPR: 0.9710\n"
     ]
    },
    {
     "name": "stderr",
     "output_type": "stream",
     "text": [
      " 36%|███▌      | 18/50 [04:46<08:28, 15.88s/it]"
     ]
    },
    {
     "name": "stdout",
     "output_type": "stream",
     "text": [
      "Epoch 18, Train Loss: 0.0617, Validation Loss: 0.4043, Validation Accuracy: 0.8976, Precision: 0.8083, recall: 0.7239, F1: 0.7497, AUC: 0.9898, AUPR: 0.9770\n"
     ]
    },
    {
     "name": "stderr",
     "output_type": "stream",
     "text": [
      " 38%|███▊      | 19/50 [05:02<08:11, 15.86s/it]"
     ]
    },
    {
     "name": "stdout",
     "output_type": "stream",
     "text": [
      "Epoch 19, Train Loss: 0.0533, Validation Loss: 0.7334, Validation Accuracy: 0.8749, Precision: 0.7570, recall: 0.7477, F1: 0.7223, AUC: 0.9884, AUPR: 0.9729\n",
      "Epoch 20, Train Loss: 0.1160, Validation Loss: 0.3360, Validation Accuracy: 0.8847, Precision: 0.7824, recall: 0.6917, F1: 0.7178, AUC: 0.9886, AUPR: 0.9703\n"
     ]
    },
    {
     "name": "stderr",
     "output_type": "stream",
     "text": [
      " 40%|████      | 20/50 [05:18<07:59, 15.99s/it]"
     ]
    },
    {
     "name": "stdout",
     "output_type": "stream",
     "text": [
      "Saved checkpoint: checkpoints/cnn_ddi_epoch_20_pathway_target_category.pt\n"
     ]
    },
    {
     "name": "stderr",
     "output_type": "stream",
     "text": [
      " 42%|████▏     | 21/50 [05:34<07:41, 15.92s/it]"
     ]
    },
    {
     "name": "stdout",
     "output_type": "stream",
     "text": [
      "Epoch 21, Train Loss: 0.0827, Validation Loss: 0.6577, Validation Accuracy: 0.8719, Precision: 0.7892, recall: 0.7566, F1: 0.7591, AUC: 0.9874, AUPR: 0.9694\n"
     ]
    },
    {
     "name": "stderr",
     "output_type": "stream",
     "text": [
      " 44%|████▍     | 22/50 [05:49<07:24, 15.87s/it]"
     ]
    },
    {
     "name": "stdout",
     "output_type": "stream",
     "text": [
      "Epoch 22, Train Loss: 1.0792, Validation Loss: 0.4699, Validation Accuracy: 0.8855, Precision: 0.7778, recall: 0.7545, F1: 0.7528, AUC: 0.9875, AUPR: 0.9699\n"
     ]
    },
    {
     "name": "stderr",
     "output_type": "stream",
     "text": [
      " 46%|████▌     | 23/50 [06:05<07:08, 15.86s/it]"
     ]
    },
    {
     "name": "stdout",
     "output_type": "stream",
     "text": [
      "Epoch 23, Train Loss: 0.0489, Validation Loss: 0.4461, Validation Accuracy: 0.9027, Precision: 0.8158, recall: 0.7824, F1: 0.7865, AUC: 0.9898, AUPR: 0.9758\n"
     ]
    },
    {
     "name": "stderr",
     "output_type": "stream",
     "text": [
      " 48%|████▊     | 24/50 [06:21<06:53, 15.90s/it]"
     ]
    },
    {
     "name": "stdout",
     "output_type": "stream",
     "text": [
      "Epoch 24, Train Loss: 0.0657, Validation Loss: 0.6200, Validation Accuracy: 0.8815, Precision: 0.7575, recall: 0.7267, F1: 0.7267, AUC: 0.9853, AUPR: 0.9652\n"
     ]
    },
    {
     "name": "stderr",
     "output_type": "stream",
     "text": [
      " 50%|█████     | 25/50 [06:37<06:37, 15.88s/it]"
     ]
    },
    {
     "name": "stdout",
     "output_type": "stream",
     "text": [
      "Epoch 25, Train Loss: 0.1059, Validation Loss: 0.6335, Validation Accuracy: 0.8642, Precision: 0.7693, recall: 0.7912, F1: 0.7604, AUC: 0.9873, AUPR: 0.9724\n"
     ]
    },
    {
     "name": "stderr",
     "output_type": "stream",
     "text": [
      " 52%|█████▏    | 26/50 [06:53<06:21, 15.89s/it]"
     ]
    },
    {
     "name": "stdout",
     "output_type": "stream",
     "text": [
      "Epoch 26, Train Loss: 0.0915, Validation Loss: 0.6864, Validation Accuracy: 0.8796, Precision: 0.7479, recall: 0.7877, F1: 0.7564, AUC: 0.9878, AUPR: 0.9720\n"
     ]
    },
    {
     "name": "stderr",
     "output_type": "stream",
     "text": [
      " 54%|█████▍    | 27/50 [07:09<06:04, 15.84s/it]"
     ]
    },
    {
     "name": "stdout",
     "output_type": "stream",
     "text": [
      "Epoch 27, Train Loss: 0.1168, Validation Loss: 0.5162, Validation Accuracy: 0.8933, Precision: 0.8340, recall: 0.7964, F1: 0.8003, AUC: 0.9881, AUPR: 0.9706\n"
     ]
    },
    {
     "name": "stderr",
     "output_type": "stream",
     "text": [
      " 56%|█████▌    | 28/50 [07:24<05:47, 15.81s/it]"
     ]
    },
    {
     "name": "stdout",
     "output_type": "stream",
     "text": [
      "Epoch 28, Train Loss: 0.0849, Validation Loss: 1.3249, Validation Accuracy: 0.8597, Precision: 0.7424, recall: 0.7981, F1: 0.7484, AUC: 0.9854, AUPR: 0.9633\n"
     ]
    },
    {
     "name": "stderr",
     "output_type": "stream",
     "text": [
      " 58%|█████▊    | 29/50 [07:40<05:31, 15.78s/it]"
     ]
    },
    {
     "name": "stdout",
     "output_type": "stream",
     "text": [
      "Epoch 29, Train Loss: 0.1725, Validation Loss: 0.4289, Validation Accuracy: 0.8968, Precision: 0.8376, recall: 0.7952, F1: 0.8057, AUC: 0.9891, AUPR: 0.9740\n",
      "Epoch 30, Train Loss: 0.2989, Validation Loss: 1.1989, Validation Accuracy: 0.8315, Precision: 0.6789, recall: 0.7502, F1: 0.6880, AUC: 0.9777, AUPR: 0.9498\n"
     ]
    },
    {
     "name": "stderr",
     "output_type": "stream",
     "text": [
      " 60%|██████    | 30/50 [07:57<05:19, 15.98s/it]"
     ]
    },
    {
     "name": "stdout",
     "output_type": "stream",
     "text": [
      "Saved checkpoint: checkpoints/cnn_ddi_epoch_30_pathway_target_category.pt\n"
     ]
    },
    {
     "name": "stderr",
     "output_type": "stream",
     "text": [
      " 62%|██████▏   | 31/50 [08:12<05:02, 15.90s/it]"
     ]
    },
    {
     "name": "stdout",
     "output_type": "stream",
     "text": [
      "Epoch 31, Train Loss: 0.0719, Validation Loss: 0.4599, Validation Accuracy: 0.8951, Precision: 0.8061, recall: 0.7751, F1: 0.7787, AUC: 0.9896, AUPR: 0.9753\n"
     ]
    },
    {
     "name": "stderr",
     "output_type": "stream",
     "text": [
      " 64%|██████▍   | 32/50 [08:28<04:45, 15.88s/it]"
     ]
    },
    {
     "name": "stdout",
     "output_type": "stream",
     "text": [
      "Epoch 32, Train Loss: 0.0382, Validation Loss: 0.6047, Validation Accuracy: 0.8747, Precision: 0.7158, recall: 0.8110, F1: 0.7419, AUC: 0.9880, AUPR: 0.9714\n"
     ]
    },
    {
     "name": "stderr",
     "output_type": "stream",
     "text": [
      " 66%|██████▌   | 33/50 [08:44<04:29, 15.85s/it]"
     ]
    },
    {
     "name": "stdout",
     "output_type": "stream",
     "text": [
      "Epoch 33, Train Loss: 0.1693, Validation Loss: 0.6172, Validation Accuracy: 0.8898, Precision: 0.7741, recall: 0.7722, F1: 0.7606, AUC: 0.9888, AUPR: 0.9746\n"
     ]
    },
    {
     "name": "stderr",
     "output_type": "stream",
     "text": [
      " 68%|██████▊   | 34/50 [09:00<04:13, 15.86s/it]"
     ]
    },
    {
     "name": "stdout",
     "output_type": "stream",
     "text": [
      "Epoch 34, Train Loss: 0.0508, Validation Loss: 0.5038, Validation Accuracy: 0.8909, Precision: 0.8346, recall: 0.7882, F1: 0.7993, AUC: 0.9885, AUPR: 0.9739\n"
     ]
    },
    {
     "name": "stderr",
     "output_type": "stream",
     "text": [
      " 70%|███████   | 35/50 [09:15<03:57, 15.82s/it]"
     ]
    },
    {
     "name": "stdout",
     "output_type": "stream",
     "text": [
      "Epoch 35, Train Loss: 0.2079, Validation Loss: 1.1908, Validation Accuracy: 0.8393, Precision: 0.7006, recall: 0.7245, F1: 0.6872, AUC: 0.9789, AUPR: 0.9446\n"
     ]
    },
    {
     "name": "stderr",
     "output_type": "stream",
     "text": [
      " 72%|███████▏  | 36/50 [09:31<03:42, 15.88s/it]"
     ]
    },
    {
     "name": "stdout",
     "output_type": "stream",
     "text": [
      "Epoch 36, Train Loss: 0.0887, Validation Loss: 0.6228, Validation Accuracy: 0.8992, Precision: 0.8198, recall: 0.7678, F1: 0.7807, AUC: 0.9893, AUPR: 0.9757\n"
     ]
    },
    {
     "name": "stderr",
     "output_type": "stream",
     "text": [
      " 74%|███████▍  | 37/50 [09:48<03:27, 15.95s/it]"
     ]
    },
    {
     "name": "stdout",
     "output_type": "stream",
     "text": [
      "Epoch 37, Train Loss: 0.0483, Validation Loss: 0.7662, Validation Accuracy: 0.8877, Precision: 0.8031, recall: 0.7777, F1: 0.7818, AUC: 0.9890, AUPR: 0.9727\n"
     ]
    },
    {
     "name": "stderr",
     "output_type": "stream",
     "text": [
      " 76%|███████▌  | 38/50 [10:04<03:11, 15.94s/it]"
     ]
    },
    {
     "name": "stdout",
     "output_type": "stream",
     "text": [
      "Epoch 38, Train Loss: 0.5201, Validation Loss: 0.9649, Validation Accuracy: 0.8972, Precision: 0.8217, recall: 0.8174, F1: 0.8011, AUC: 0.9876, AUPR: 0.9683\n"
     ]
    },
    {
     "name": "stderr",
     "output_type": "stream",
     "text": [
      " 78%|███████▊  | 39/50 [10:19<02:54, 15.90s/it]"
     ]
    },
    {
     "name": "stdout",
     "output_type": "stream",
     "text": [
      "Epoch 39, Train Loss: 0.0429, Validation Loss: 0.7797, Validation Accuracy: 0.9067, Precision: 0.8010, recall: 0.7637, F1: 0.7694, AUC: 0.9898, AUPR: 0.9729\n",
      "Epoch 40, Train Loss: 0.0544, Validation Loss: 0.9598, Validation Accuracy: 0.8961, Precision: 0.8177, recall: 0.7656, F1: 0.7753, AUC: 0.9894, AUPR: 0.9739\n"
     ]
    },
    {
     "name": "stderr",
     "output_type": "stream",
     "text": [
      " 80%|████████  | 40/50 [10:36<02:40, 16.10s/it]"
     ]
    },
    {
     "name": "stdout",
     "output_type": "stream",
     "text": [
      "Saved checkpoint: checkpoints/cnn_ddi_epoch_40_pathway_target_category.pt\n"
     ]
    },
    {
     "name": "stderr",
     "output_type": "stream",
     "text": [
      " 82%|████████▏ | 41/50 [10:52<02:24, 16.02s/it]"
     ]
    },
    {
     "name": "stdout",
     "output_type": "stream",
     "text": [
      "Epoch 41, Train Loss: 0.2128, Validation Loss: 1.4490, Validation Accuracy: 0.8835, Precision: 0.7889, recall: 0.7631, F1: 0.7563, AUC: 0.9845, AUPR: 0.9602\n"
     ]
    },
    {
     "name": "stderr",
     "output_type": "stream",
     "text": [
      " 84%|████████▍ | 42/50 [11:08<02:07, 15.99s/it]"
     ]
    },
    {
     "name": "stdout",
     "output_type": "stream",
     "text": [
      "Epoch 42, Train Loss: 0.0871, Validation Loss: 0.7857, Validation Accuracy: 0.9041, Precision: 0.8351, recall: 0.7567, F1: 0.7836, AUC: 0.9904, AUPR: 0.9756\n"
     ]
    },
    {
     "name": "stderr",
     "output_type": "stream",
     "text": [
      " 86%|████████▌ | 43/50 [11:23<01:51, 15.91s/it]"
     ]
    },
    {
     "name": "stdout",
     "output_type": "stream",
     "text": [
      "Epoch 43, Train Loss: 0.3428, Validation Loss: 1.7409, Validation Accuracy: 0.8654, Precision: 0.7440, recall: 0.6637, F1: 0.6782, AUC: 0.9851, AUPR: 0.9593\n"
     ]
    },
    {
     "name": "stderr",
     "output_type": "stream",
     "text": [
      " 88%|████████▊ | 44/50 [11:39<01:35, 15.86s/it]"
     ]
    },
    {
     "name": "stdout",
     "output_type": "stream",
     "text": [
      "Epoch 44, Train Loss: 0.1042, Validation Loss: 0.8398, Validation Accuracy: 0.8999, Precision: 0.7836, recall: 0.7337, F1: 0.7434, AUC: 0.9901, AUPR: 0.9731\n"
     ]
    },
    {
     "name": "stderr",
     "output_type": "stream",
     "text": [
      " 90%|█████████ | 45/50 [11:55<01:19, 15.80s/it]"
     ]
    },
    {
     "name": "stdout",
     "output_type": "stream",
     "text": [
      "Epoch 45, Train Loss: 0.0524, Validation Loss: 1.1117, Validation Accuracy: 0.8921, Precision: 0.8153, recall: 0.8033, F1: 0.7921, AUC: 0.9889, AUPR: 0.9719\n"
     ]
    },
    {
     "name": "stderr",
     "output_type": "stream",
     "text": [
      " 92%|█████████▏| 46/50 [12:11<01:03, 15.80s/it]"
     ]
    },
    {
     "name": "stdout",
     "output_type": "stream",
     "text": [
      "Epoch 46, Train Loss: 0.1868, Validation Loss: 1.7271, Validation Accuracy: 0.8787, Precision: 0.7899, recall: 0.7246, F1: 0.7357, AUC: 0.9831, AUPR: 0.9485\n"
     ]
    },
    {
     "name": "stderr",
     "output_type": "stream",
     "text": [
      " 94%|█████████▍| 47/50 [12:27<00:47, 15.84s/it]"
     ]
    },
    {
     "name": "stdout",
     "output_type": "stream",
     "text": [
      "Epoch 47, Train Loss: 0.1294, Validation Loss: 1.0834, Validation Accuracy: 0.8900, Precision: 0.7809, recall: 0.7801, F1: 0.7681, AUC: 0.9890, AUPR: 0.9743\n"
     ]
    },
    {
     "name": "stderr",
     "output_type": "stream",
     "text": [
      " 96%|█████████▌| 48/50 [12:42<00:31, 15.82s/it]"
     ]
    },
    {
     "name": "stdout",
     "output_type": "stream",
     "text": [
      "Epoch 48, Train Loss: 0.1438, Validation Loss: 1.3130, Validation Accuracy: 0.8735, Precision: 0.7653, recall: 0.7353, F1: 0.7185, AUC: 0.9852, AUPR: 0.9634\n"
     ]
    },
    {
     "name": "stderr",
     "output_type": "stream",
     "text": [
      " 98%|█████████▊| 49/50 [12:58<00:15, 15.80s/it]"
     ]
    },
    {
     "name": "stdout",
     "output_type": "stream",
     "text": [
      "Epoch 49, Train Loss: 0.0889, Validation Loss: 1.3200, Validation Accuracy: 0.8967, Precision: 0.8142, recall: 0.7488, F1: 0.7645, AUC: 0.9878, AUPR: 0.9622\n",
      "Epoch 50, Train Loss: 0.3943, Validation Loss: 2.4397, Validation Accuracy: 0.8882, Precision: 0.7854, recall: 0.7441, F1: 0.7530, AUC: 0.9861, AUPR: 0.9496\n"
     ]
    },
    {
     "name": "stderr",
     "output_type": "stream",
     "text": [
      "100%|██████████| 50/50 [13:14<00:00, 15.90s/it]"
     ]
    },
    {
     "name": "stdout",
     "output_type": "stream",
     "text": [
      "Saved checkpoint: checkpoints/cnn_ddi_epoch_50_pathway_target_category.pt\n",
      "Feature combination: ('pathway', 'enzyme', 'category')\n"
     ]
    },
    {
     "name": "stderr",
     "output_type": "stream",
     "text": [
      "\n",
      "/tmp/ipykernel_83239/3982585584.py:3: UserWarning: To copy construct from a tensor, it is recommended to use sourceTensor.clone().detach() or sourceTensor.clone().detach().requires_grad_(True), rather than torch.tensor(sourceTensor).\n",
      "  self.features = torch.tensor(features, dtype=torch.float32)\n",
      "  2%|▏         | 1/50 [00:15<12:54, 15.80s/it]"
     ]
    },
    {
     "name": "stdout",
     "output_type": "stream",
     "text": [
      "Epoch 1, Train Loss: 0.8817, Validation Loss: 0.4045, Validation Accuracy: 0.7771, Precision: 0.5903, recall: 0.4667, F1: 0.4852, AUC: 0.9643, AUPR: 0.9177\n"
     ]
    },
    {
     "name": "stderr",
     "output_type": "stream",
     "text": [
      "  4%|▍         | 2/50 [00:31<12:40, 15.83s/it]"
     ]
    },
    {
     "name": "stdout",
     "output_type": "stream",
     "text": [
      "Epoch 2, Train Loss: 0.2849, Validation Loss: 0.2569, Validation Accuracy: 0.8414, Precision: 0.7560, recall: 0.6792, F1: 0.6905, AUC: 0.9750, AUPR: 0.9404\n"
     ]
    },
    {
     "name": "stderr",
     "output_type": "stream",
     "text": [
      "  6%|▌         | 3/50 [00:47<12:24, 15.83s/it]"
     ]
    },
    {
     "name": "stdout",
     "output_type": "stream",
     "text": [
      "Epoch 3, Train Loss: 0.2103, Validation Loss: 0.3306, Validation Accuracy: 0.8287, Precision: 0.6844, recall: 0.6824, F1: 0.6589, AUC: 0.9770, AUPR: 0.9441\n"
     ]
    },
    {
     "name": "stderr",
     "output_type": "stream",
     "text": [
      "  8%|▊         | 4/50 [01:03<12:05, 15.77s/it]"
     ]
    },
    {
     "name": "stdout",
     "output_type": "stream",
     "text": [
      "Epoch 4, Train Loss: 0.1881, Validation Loss: 0.2421, Validation Accuracy: 0.8440, Precision: 0.7804, recall: 0.6887, F1: 0.7133, AUC: 0.9772, AUPR: 0.9441\n"
     ]
    },
    {
     "name": "stderr",
     "output_type": "stream",
     "text": [
      " 10%|█         | 5/50 [01:18<11:48, 15.74s/it]"
     ]
    },
    {
     "name": "stdout",
     "output_type": "stream",
     "text": [
      "Epoch 5, Train Loss: 0.1515, Validation Loss: 0.2406, Validation Accuracy: 0.8548, Precision: 0.7609, recall: 0.7625, F1: 0.7410, AUC: 0.9773, AUPR: 0.9471\n"
     ]
    },
    {
     "name": "stderr",
     "output_type": "stream",
     "text": [
      " 12%|█▏        | 6/50 [01:34<11:33, 15.75s/it]"
     ]
    },
    {
     "name": "stdout",
     "output_type": "stream",
     "text": [
      "Epoch 6, Train Loss: 0.1316, Validation Loss: 0.2674, Validation Accuracy: 0.8425, Precision: 0.7728, recall: 0.6669, F1: 0.6979, AUC: 0.9841, AUPR: 0.9568\n"
     ]
    },
    {
     "name": "stderr",
     "output_type": "stream",
     "text": [
      " 14%|█▍        | 7/50 [01:50<11:18, 15.77s/it]"
     ]
    },
    {
     "name": "stdout",
     "output_type": "stream",
     "text": [
      "Epoch 7, Train Loss: 0.1507, Validation Loss: 0.2281, Validation Accuracy: 0.8767, Precision: 0.7573, recall: 0.7201, F1: 0.7177, AUC: 0.9871, AUPR: 0.9693\n"
     ]
    },
    {
     "name": "stderr",
     "output_type": "stream",
     "text": [
      " 16%|█▌        | 8/50 [02:06<11:01, 15.76s/it]"
     ]
    },
    {
     "name": "stdout",
     "output_type": "stream",
     "text": [
      "Epoch 8, Train Loss: 0.1021, Validation Loss: 0.3237, Validation Accuracy: 0.8566, Precision: 0.7360, recall: 0.7054, F1: 0.6971, AUC: 0.9852, AUPR: 0.9601\n"
     ]
    },
    {
     "name": "stderr",
     "output_type": "stream",
     "text": [
      " 18%|█▊        | 9/50 [02:21<10:46, 15.78s/it]"
     ]
    },
    {
     "name": "stdout",
     "output_type": "stream",
     "text": [
      "Epoch 9, Train Loss: 0.1164, Validation Loss: 0.2727, Validation Accuracy: 0.8633, Precision: 0.7459, recall: 0.7435, F1: 0.7220, AUC: 0.9838, AUPR: 0.9615\n",
      "Epoch 10, Train Loss: 0.1035, Validation Loss: 0.2211, Validation Accuracy: 0.8794, Precision: 0.7791, recall: 0.7385, F1: 0.7440, AUC: 0.9884, AUPR: 0.9721\n"
     ]
    },
    {
     "name": "stderr",
     "output_type": "stream",
     "text": [
      " 20%|██        | 10/50 [02:38<10:42, 16.06s/it]"
     ]
    },
    {
     "name": "stdout",
     "output_type": "stream",
     "text": [
      "Saved checkpoint: checkpoints/cnn_ddi_epoch_10_pathway_enzyme_category.pt\n"
     ]
    },
    {
     "name": "stderr",
     "output_type": "stream",
     "text": [
      " 22%|██▏       | 11/50 [02:54<10:24, 16.02s/it]"
     ]
    },
    {
     "name": "stdout",
     "output_type": "stream",
     "text": [
      "Epoch 11, Train Loss: 2.3617, Validation Loss: 0.5729, Validation Accuracy: 0.7985, Precision: 0.6683, recall: 0.6324, F1: 0.6050, AUC: 0.9724, AUPR: 0.9334\n"
     ]
    },
    {
     "name": "stderr",
     "output_type": "stream",
     "text": [
      " 24%|██▍       | 12/50 [03:10<10:06, 15.96s/it]"
     ]
    },
    {
     "name": "stdout",
     "output_type": "stream",
     "text": [
      "Epoch 12, Train Loss: 0.1507, Validation Loss: 0.2889, Validation Accuracy: 0.8788, Precision: 0.7621, recall: 0.8260, F1: 0.7773, AUC: 0.9882, AUPR: 0.9708\n"
     ]
    },
    {
     "name": "stderr",
     "output_type": "stream",
     "text": [
      " 26%|██▌       | 13/50 [03:26<09:50, 15.95s/it]"
     ]
    },
    {
     "name": "stdout",
     "output_type": "stream",
     "text": [
      "Epoch 13, Train Loss: 0.0712, Validation Loss: 0.4526, Validation Accuracy: 0.8633, Precision: 0.7650, recall: 0.6418, F1: 0.6744, AUC: 0.9886, AUPR: 0.9708\n"
     ]
    },
    {
     "name": "stderr",
     "output_type": "stream",
     "text": [
      " 28%|██▊       | 14/50 [03:42<09:35, 15.99s/it]"
     ]
    },
    {
     "name": "stdout",
     "output_type": "stream",
     "text": [
      "Epoch 14, Train Loss: 0.0933, Validation Loss: 0.4395, Validation Accuracy: 0.8650, Precision: 0.7364, recall: 0.7596, F1: 0.7170, AUC: 0.9855, AUPR: 0.9671\n"
     ]
    },
    {
     "name": "stderr",
     "output_type": "stream",
     "text": [
      " 30%|███       | 15/50 [03:58<09:17, 15.93s/it]"
     ]
    },
    {
     "name": "stdout",
     "output_type": "stream",
     "text": [
      "Epoch 15, Train Loss: 0.0922, Validation Loss: 0.3674, Validation Accuracy: 0.8900, Precision: 0.7439, recall: 0.7418, F1: 0.7350, AUC: 0.9884, AUPR: 0.9711\n"
     ]
    },
    {
     "name": "stderr",
     "output_type": "stream",
     "text": [
      " 32%|███▏      | 16/50 [04:14<09:00, 15.90s/it]"
     ]
    },
    {
     "name": "stdout",
     "output_type": "stream",
     "text": [
      "Epoch 16, Train Loss: 0.0921, Validation Loss: 0.4890, Validation Accuracy: 0.8792, Precision: 0.7495, recall: 0.6548, F1: 0.6761, AUC: 0.9878, AUPR: 0.9693\n"
     ]
    },
    {
     "name": "stderr",
     "output_type": "stream",
     "text": [
      " 34%|███▍      | 17/50 [04:29<08:42, 15.85s/it]"
     ]
    },
    {
     "name": "stdout",
     "output_type": "stream",
     "text": [
      "Epoch 17, Train Loss: 0.3921, Validation Loss: 0.3913, Validation Accuracy: 0.8605, Precision: 0.7623, recall: 0.7811, F1: 0.7544, AUC: 0.9871, AUPR: 0.9722\n"
     ]
    },
    {
     "name": "stderr",
     "output_type": "stream",
     "text": [
      " 36%|███▌      | 18/50 [04:45<08:26, 15.82s/it]"
     ]
    },
    {
     "name": "stdout",
     "output_type": "stream",
     "text": [
      "Epoch 18, Train Loss: 0.0564, Validation Loss: 0.3326, Validation Accuracy: 0.8827, Precision: 0.7890, recall: 0.7452, F1: 0.7455, AUC: 0.9904, AUPR: 0.9763\n"
     ]
    },
    {
     "name": "stderr",
     "output_type": "stream",
     "text": [
      " 38%|███▊      | 19/50 [05:01<08:11, 15.86s/it]"
     ]
    },
    {
     "name": "stdout",
     "output_type": "stream",
     "text": [
      "Epoch 19, Train Loss: 0.0690, Validation Loss: 0.3211, Validation Accuracy: 0.8791, Precision: 0.7297, recall: 0.7528, F1: 0.7211, AUC: 0.9877, AUPR: 0.9698\n",
      "Epoch 20, Train Loss: 0.0857, Validation Loss: 0.3642, Validation Accuracy: 0.8668, Precision: 0.7592, recall: 0.7281, F1: 0.7196, AUC: 0.9865, AUPR: 0.9668\n"
     ]
    },
    {
     "name": "stderr",
     "output_type": "stream",
     "text": [
      " 40%|████      | 20/50 [05:18<08:03, 16.10s/it]"
     ]
    },
    {
     "name": "stdout",
     "output_type": "stream",
     "text": [
      "Saved checkpoint: checkpoints/cnn_ddi_epoch_20_pathway_enzyme_category.pt\n"
     ]
    },
    {
     "name": "stderr",
     "output_type": "stream",
     "text": [
      " 42%|████▏     | 21/50 [05:33<07:44, 16.00s/it]"
     ]
    },
    {
     "name": "stdout",
     "output_type": "stream",
     "text": [
      "Epoch 21, Train Loss: 0.1215, Validation Loss: 0.4633, Validation Accuracy: 0.8830, Precision: 0.7591, recall: 0.7037, F1: 0.7172, AUC: 0.9873, AUPR: 0.9726\n"
     ]
    },
    {
     "name": "stderr",
     "output_type": "stream",
     "text": [
      " 44%|████▍     | 22/50 [05:49<07:24, 15.89s/it]"
     ]
    },
    {
     "name": "stdout",
     "output_type": "stream",
     "text": [
      "Epoch 22, Train Loss: 0.0600, Validation Loss: 0.3914, Validation Accuracy: 0.8791, Precision: 0.7644, recall: 0.7662, F1: 0.7525, AUC: 0.9898, AUPR: 0.9745\n"
     ]
    },
    {
     "name": "stderr",
     "output_type": "stream",
     "text": [
      " 46%|████▌     | 23/50 [06:05<07:08, 15.88s/it]"
     ]
    },
    {
     "name": "stdout",
     "output_type": "stream",
     "text": [
      "Epoch 23, Train Loss: 0.1229, Validation Loss: 0.5072, Validation Accuracy: 0.8625, Precision: 0.7701, recall: 0.7018, F1: 0.7114, AUC: 0.9858, AUPR: 0.9642\n"
     ]
    },
    {
     "name": "stderr",
     "output_type": "stream",
     "text": [
      " 48%|████▊     | 24/50 [06:21<06:54, 15.94s/it]"
     ]
    },
    {
     "name": "stdout",
     "output_type": "stream",
     "text": [
      "Epoch 24, Train Loss: 0.0823, Validation Loss: 0.5535, Validation Accuracy: 0.8393, Precision: 0.6866, recall: 0.7108, F1: 0.6663, AUC: 0.9823, AUPR: 0.9574\n"
     ]
    },
    {
     "name": "stderr",
     "output_type": "stream",
     "text": [
      " 50%|█████     | 25/50 [06:37<06:39, 15.97s/it]"
     ]
    },
    {
     "name": "stdout",
     "output_type": "stream",
     "text": [
      "Epoch 25, Train Loss: 0.1144, Validation Loss: 0.5777, Validation Accuracy: 0.8641, Precision: 0.7576, recall: 0.7787, F1: 0.7444, AUC: 0.9857, AUPR: 0.9685\n"
     ]
    },
    {
     "name": "stderr",
     "output_type": "stream",
     "text": [
      " 52%|█████▏    | 26/50 [06:53<06:22, 15.95s/it]"
     ]
    },
    {
     "name": "stdout",
     "output_type": "stream",
     "text": [
      "Epoch 26, Train Loss: 0.1076, Validation Loss: 0.4515, Validation Accuracy: 0.8886, Precision: 0.7815, recall: 0.6958, F1: 0.7173, AUC: 0.9905, AUPR: 0.9762\n"
     ]
    },
    {
     "name": "stderr",
     "output_type": "stream",
     "text": [
      " 54%|█████▍    | 27/50 [07:09<06:07, 15.99s/it]"
     ]
    },
    {
     "name": "stdout",
     "output_type": "stream",
     "text": [
      "Epoch 27, Train Loss: 0.0739, Validation Loss: 1.2315, Validation Accuracy: 0.8088, Precision: 0.7382, recall: 0.6091, F1: 0.6346, AUC: 0.9825, AUPR: 0.9506\n"
     ]
    },
    {
     "name": "stderr",
     "output_type": "stream",
     "text": [
      " 56%|█████▌    | 28/50 [07:25<05:51, 15.97s/it]"
     ]
    },
    {
     "name": "stdout",
     "output_type": "stream",
     "text": [
      "Epoch 28, Train Loss: 0.1525, Validation Loss: 0.3300, Validation Accuracy: 0.8998, Precision: 0.8036, recall: 0.7935, F1: 0.7772, AUC: 0.9905, AUPR: 0.9756\n"
     ]
    },
    {
     "name": "stderr",
     "output_type": "stream",
     "text": [
      " 58%|█████▊    | 29/50 [07:41<05:34, 15.92s/it]"
     ]
    },
    {
     "name": "stdout",
     "output_type": "stream",
     "text": [
      "Epoch 29, Train Loss: 0.0926, Validation Loss: 10.8832, Validation Accuracy: 0.5692, Precision: 0.4891, recall: 0.7031, F1: 0.4819, AUC: 0.9273, AUPR: 0.7879\n",
      "Epoch 30, Train Loss: 0.2842, Validation Loss: 0.4624, Validation Accuracy: 0.8904, Precision: 0.7652, recall: 0.7520, F1: 0.7440, AUC: 0.9895, AUPR: 0.9744\n"
     ]
    },
    {
     "name": "stderr",
     "output_type": "stream",
     "text": [
      " 60%|██████    | 30/50 [07:57<05:21, 16.08s/it]"
     ]
    },
    {
     "name": "stdout",
     "output_type": "stream",
     "text": [
      "Saved checkpoint: checkpoints/cnn_ddi_epoch_30_pathway_enzyme_category.pt\n"
     ]
    },
    {
     "name": "stderr",
     "output_type": "stream",
     "text": [
      " 62%|██████▏   | 31/50 [08:13<05:04, 16.00s/it]"
     ]
    },
    {
     "name": "stdout",
     "output_type": "stream",
     "text": [
      "Epoch 31, Train Loss: 0.0335, Validation Loss: 0.5813, Validation Accuracy: 0.8913, Precision: 0.8006, recall: 0.7623, F1: 0.7685, AUC: 0.9905, AUPR: 0.9743\n"
     ]
    },
    {
     "name": "stderr",
     "output_type": "stream",
     "text": [
      " 64%|██████▍   | 32/50 [08:29<04:46, 15.89s/it]"
     ]
    },
    {
     "name": "stdout",
     "output_type": "stream",
     "text": [
      "Epoch 32, Train Loss: 0.0943, Validation Loss: 0.8202, Validation Accuracy: 0.8610, Precision: 0.7522, recall: 0.7510, F1: 0.7309, AUC: 0.9836, AUPR: 0.9610\n"
     ]
    },
    {
     "name": "stderr",
     "output_type": "stream",
     "text": [
      " 66%|██████▌   | 33/50 [08:45<04:30, 15.91s/it]"
     ]
    },
    {
     "name": "stdout",
     "output_type": "stream",
     "text": [
      "Epoch 33, Train Loss: 0.1222, Validation Loss: 0.9613, Validation Accuracy: 0.8460, Precision: 0.7581, recall: 0.7426, F1: 0.7270, AUC: 0.9817, AUPR: 0.9538\n"
     ]
    },
    {
     "name": "stderr",
     "output_type": "stream",
     "text": [
      " 68%|██████▊   | 34/50 [09:00<04:13, 15.83s/it]"
     ]
    },
    {
     "name": "stdout",
     "output_type": "stream",
     "text": [
      "Epoch 34, Train Loss: 0.1006, Validation Loss: 0.6210, Validation Accuracy: 0.8882, Precision: 0.7992, recall: 0.7304, F1: 0.7413, AUC: 0.9892, AUPR: 0.9700\n"
     ]
    },
    {
     "name": "stderr",
     "output_type": "stream",
     "text": [
      " 70%|███████   | 35/50 [09:16<03:56, 15.77s/it]"
     ]
    },
    {
     "name": "stdout",
     "output_type": "stream",
     "text": [
      "Epoch 35, Train Loss: 0.1698, Validation Loss: 1.6643, Validation Accuracy: 0.8343, Precision: 0.7572, recall: 0.6558, F1: 0.6790, AUC: 0.9768, AUPR: 0.9240\n"
     ]
    },
    {
     "name": "stderr",
     "output_type": "stream",
     "text": [
      " 72%|███████▏  | 36/50 [09:32<03:40, 15.77s/it]"
     ]
    },
    {
     "name": "stdout",
     "output_type": "stream",
     "text": [
      "Epoch 36, Train Loss: 0.1217, Validation Loss: 0.7189, Validation Accuracy: 0.8970, Precision: 0.7987, recall: 0.7665, F1: 0.7649, AUC: 0.9915, AUPR: 0.9784\n"
     ]
    },
    {
     "name": "stderr",
     "output_type": "stream",
     "text": [
      " 74%|███████▍  | 37/50 [09:48<03:25, 15.81s/it]"
     ]
    },
    {
     "name": "stdout",
     "output_type": "stream",
     "text": [
      "Epoch 37, Train Loss: 0.0692, Validation Loss: 0.8450, Validation Accuracy: 0.8924, Precision: 0.7931, recall: 0.7816, F1: 0.7738, AUC: 0.9896, AUPR: 0.9721\n"
     ]
    },
    {
     "name": "stderr",
     "output_type": "stream",
     "text": [
      " 76%|███████▌  | 38/50 [10:03<03:09, 15.80s/it]"
     ]
    },
    {
     "name": "stdout",
     "output_type": "stream",
     "text": [
      "Epoch 38, Train Loss: 0.2185, Validation Loss: 1.3737, Validation Accuracy: 0.8792, Precision: 0.7861, recall: 0.7179, F1: 0.7332, AUC: 0.9871, AUPR: 0.9644\n"
     ]
    },
    {
     "name": "stderr",
     "output_type": "stream",
     "text": [
      " 78%|███████▊  | 39/50 [10:19<02:53, 15.79s/it]"
     ]
    },
    {
     "name": "stdout",
     "output_type": "stream",
     "text": [
      "Epoch 39, Train Loss: 0.0847, Validation Loss: 1.0196, Validation Accuracy: 0.8963, Precision: 0.8269, recall: 0.7922, F1: 0.7891, AUC: 0.9882, AUPR: 0.9688\n",
      "Epoch 40, Train Loss: 0.0686, Validation Loss: 0.9875, Validation Accuracy: 0.8800, Precision: 0.8008, recall: 0.7095, F1: 0.7302, AUC: 0.9882, AUPR: 0.9700\n"
     ]
    },
    {
     "name": "stderr",
     "output_type": "stream",
     "text": [
      " 80%|████████  | 40/50 [10:36<02:40, 16.01s/it]"
     ]
    },
    {
     "name": "stdout",
     "output_type": "stream",
     "text": [
      "Saved checkpoint: checkpoints/cnn_ddi_epoch_40_pathway_enzyme_category.pt\n"
     ]
    },
    {
     "name": "stderr",
     "output_type": "stream",
     "text": [
      " 82%|████████▏ | 41/50 [10:52<02:24, 16.03s/it]"
     ]
    },
    {
     "name": "stdout",
     "output_type": "stream",
     "text": [
      "Epoch 41, Train Loss: 1.3213, Validation Loss: 1.7887, Validation Accuracy: 0.8860, Precision: 0.7828, recall: 0.7567, F1: 0.7530, AUC: 0.9872, AUPR: 0.9610\n"
     ]
    },
    {
     "name": "stderr",
     "output_type": "stream",
     "text": [
      " 84%|████████▍ | 42/50 [11:08<02:08, 16.07s/it]"
     ]
    },
    {
     "name": "stdout",
     "output_type": "stream",
     "text": [
      "Epoch 42, Train Loss: 0.0761, Validation Loss: 1.8073, Validation Accuracy: 0.8902, Precision: 0.8001, recall: 0.8011, F1: 0.7879, AUC: 0.9889, AUPR: 0.9621\n"
     ]
    },
    {
     "name": "stderr",
     "output_type": "stream",
     "text": [
      " 86%|████████▌ | 43/50 [11:24<01:52, 16.05s/it]"
     ]
    },
    {
     "name": "stdout",
     "output_type": "stream",
     "text": [
      "Epoch 43, Train Loss: 0.0993, Validation Loss: 1.8002, Validation Accuracy: 0.8889, Precision: 0.7981, recall: 0.7660, F1: 0.7608, AUC: 0.9883, AUPR: 0.9621\n"
     ]
    },
    {
     "name": "stderr",
     "output_type": "stream",
     "text": [
      " 88%|████████▊ | 44/50 [11:40<01:36, 16.02s/it]"
     ]
    },
    {
     "name": "stdout",
     "output_type": "stream",
     "text": [
      "Epoch 44, Train Loss: 0.1640, Validation Loss: 2.0200, Validation Accuracy: 0.8872, Precision: 0.7851, recall: 0.7742, F1: 0.7654, AUC: 0.9870, AUPR: 0.9510\n"
     ]
    },
    {
     "name": "stderr",
     "output_type": "stream",
     "text": [
      " 90%|█████████ | 45/50 [11:56<01:19, 15.98s/it]"
     ]
    },
    {
     "name": "stdout",
     "output_type": "stream",
     "text": [
      "Epoch 45, Train Loss: 0.1267, Validation Loss: 1.8817, Validation Accuracy: 0.8759, Precision: 0.7580, recall: 0.7965, F1: 0.7541, AUC: 0.9882, AUPR: 0.9672\n"
     ]
    },
    {
     "name": "stderr",
     "output_type": "stream",
     "text": [
      " 92%|█████████▏| 46/50 [12:11<01:03, 15.91s/it]"
     ]
    },
    {
     "name": "stdout",
     "output_type": "stream",
     "text": [
      "Epoch 46, Train Loss: 0.1490, Validation Loss: 1.7551, Validation Accuracy: 0.8841, Precision: 0.7819, recall: 0.7737, F1: 0.7669, AUC: 0.9866, AUPR: 0.9517\n"
     ]
    },
    {
     "name": "stderr",
     "output_type": "stream",
     "text": [
      " 94%|█████████▍| 47/50 [12:27<00:47, 15.86s/it]"
     ]
    },
    {
     "name": "stdout",
     "output_type": "stream",
     "text": [
      "Epoch 47, Train Loss: 0.2005, Validation Loss: 1.6294, Validation Accuracy: 0.8915, Precision: 0.7764, recall: 0.8068, F1: 0.7773, AUC: 0.9892, AUPR: 0.9652\n"
     ]
    },
    {
     "name": "stderr",
     "output_type": "stream",
     "text": [
      " 96%|█████████▌| 48/50 [12:43<00:31, 15.88s/it]"
     ]
    },
    {
     "name": "stdout",
     "output_type": "stream",
     "text": [
      "Epoch 48, Train Loss: 0.1007, Validation Loss: 1.9775, Validation Accuracy: 0.8783, Precision: 0.7564, recall: 0.7320, F1: 0.7323, AUC: 0.9859, AUPR: 0.9493\n"
     ]
    },
    {
     "name": "stderr",
     "output_type": "stream",
     "text": [
      " 98%|█████████▊| 49/50 [12:59<00:15, 15.94s/it]"
     ]
    },
    {
     "name": "stdout",
     "output_type": "stream",
     "text": [
      "Epoch 49, Train Loss: 0.1656, Validation Loss: 1.8396, Validation Accuracy: 0.8864, Precision: 0.7457, recall: 0.7441, F1: 0.7307, AUC: 0.9868, AUPR: 0.9563\n",
      "Epoch 50, Train Loss: 0.1405, Validation Loss: 2.1535, Validation Accuracy: 0.8944, Precision: 0.7724, recall: 0.8007, F1: 0.7734, AUC: 0.9874, AUPR: 0.9586\n"
     ]
    },
    {
     "name": "stderr",
     "output_type": "stream",
     "text": [
      "100%|██████████| 50/50 [13:16<00:00, 15.92s/it]"
     ]
    },
    {
     "name": "stdout",
     "output_type": "stream",
     "text": [
      "Saved checkpoint: checkpoints/cnn_ddi_epoch_50_pathway_enzyme_category.pt\n",
      "Feature combination: ('target', 'enzyme', 'category')\n"
     ]
    },
    {
     "name": "stderr",
     "output_type": "stream",
     "text": [
      "\n",
      "/tmp/ipykernel_83239/3982585584.py:3: UserWarning: To copy construct from a tensor, it is recommended to use sourceTensor.clone().detach() or sourceTensor.clone().detach().requires_grad_(True), rather than torch.tensor(sourceTensor).\n",
      "  self.features = torch.tensor(features, dtype=torch.float32)\n",
      "  2%|▏         | 1/50 [00:15<12:57, 15.86s/it]"
     ]
    },
    {
     "name": "stdout",
     "output_type": "stream",
     "text": [
      "Epoch 1, Train Loss: 0.7581, Validation Loss: 0.3315, Validation Accuracy: 0.8107, Precision: 0.6532, recall: 0.6240, F1: 0.6125, AUC: 0.9662, AUPR: 0.9159\n"
     ]
    },
    {
     "name": "stderr",
     "output_type": "stream",
     "text": [
      "  4%|▍         | 2/50 [00:31<12:42, 15.89s/it]"
     ]
    },
    {
     "name": "stdout",
     "output_type": "stream",
     "text": [
      "Epoch 2, Train Loss: 0.2678, Validation Loss: 0.3138, Validation Accuracy: 0.8100, Precision: 0.6704, recall: 0.6441, F1: 0.6059, AUC: 0.9745, AUPR: 0.9415\n"
     ]
    },
    {
     "name": "stderr",
     "output_type": "stream",
     "text": [
      "  6%|▌         | 3/50 [00:47<12:27, 15.90s/it]"
     ]
    },
    {
     "name": "stdout",
     "output_type": "stream",
     "text": [
      "Epoch 3, Train Loss: 0.2007, Validation Loss: 0.2517, Validation Accuracy: 0.8419, Precision: 0.7888, recall: 0.7319, F1: 0.7339, AUC: 0.9798, AUPR: 0.9516\n"
     ]
    },
    {
     "name": "stderr",
     "output_type": "stream",
     "text": [
      "  8%|▊         | 4/50 [01:03<12:12, 15.93s/it]"
     ]
    },
    {
     "name": "stdout",
     "output_type": "stream",
     "text": [
      "Epoch 4, Train Loss: 0.1650, Validation Loss: 0.2292, Validation Accuracy: 0.8607, Precision: 0.7525, recall: 0.7471, F1: 0.7257, AUC: 0.9831, AUPR: 0.9563\n"
     ]
    },
    {
     "name": "stderr",
     "output_type": "stream",
     "text": [
      " 10%|█         | 5/50 [01:19<11:54, 15.87s/it]"
     ]
    },
    {
     "name": "stdout",
     "output_type": "stream",
     "text": [
      "Epoch 5, Train Loss: 0.1387, Validation Loss: 0.2544, Validation Accuracy: 0.8587, Precision: 0.8305, recall: 0.7364, F1: 0.7507, AUC: 0.9837, AUPR: 0.9571\n"
     ]
    },
    {
     "name": "stderr",
     "output_type": "stream",
     "text": [
      " 12%|█▏        | 6/50 [01:35<11:36, 15.84s/it]"
     ]
    },
    {
     "name": "stdout",
     "output_type": "stream",
     "text": [
      "Epoch 6, Train Loss: 0.1354, Validation Loss: 0.2438, Validation Accuracy: 0.8536, Precision: 0.7418, recall: 0.7440, F1: 0.7162, AUC: 0.9832, AUPR: 0.9607\n"
     ]
    },
    {
     "name": "stderr",
     "output_type": "stream",
     "text": [
      " 14%|█▍        | 7/50 [01:51<11:22, 15.87s/it]"
     ]
    },
    {
     "name": "stdout",
     "output_type": "stream",
     "text": [
      "Epoch 7, Train Loss: 0.1207, Validation Loss: 0.2192, Validation Accuracy: 0.8712, Precision: 0.7216, recall: 0.6805, F1: 0.6831, AUC: 0.9878, AUPR: 0.9692\n"
     ]
    },
    {
     "name": "stderr",
     "output_type": "stream",
     "text": [
      " 16%|█▌        | 8/50 [02:07<11:06, 15.87s/it]"
     ]
    },
    {
     "name": "stdout",
     "output_type": "stream",
     "text": [
      "Epoch 8, Train Loss: 0.1288, Validation Loss: 0.3132, Validation Accuracy: 0.8606, Precision: 0.7910, recall: 0.7580, F1: 0.7448, AUC: 0.9853, AUPR: 0.9636\n"
     ]
    },
    {
     "name": "stderr",
     "output_type": "stream",
     "text": [
      " 18%|█▊        | 9/50 [02:23<10:53, 15.93s/it]"
     ]
    },
    {
     "name": "stdout",
     "output_type": "stream",
     "text": [
      "Epoch 9, Train Loss: 0.0924, Validation Loss: 0.2020, Validation Accuracy: 0.8839, Precision: 0.8204, recall: 0.7372, F1: 0.7618, AUC: 0.9885, AUPR: 0.9713\n",
      "Epoch 10, Train Loss: 0.2603, Validation Loss: 0.2513, Validation Accuracy: 0.8772, Precision: 0.7581, recall: 0.7004, F1: 0.7115, AUC: 0.9874, AUPR: 0.9694\n"
     ]
    },
    {
     "name": "stderr",
     "output_type": "stream",
     "text": [
      " 20%|██        | 10/50 [02:39<10:46, 16.15s/it]"
     ]
    },
    {
     "name": "stdout",
     "output_type": "stream",
     "text": [
      "Saved checkpoint: checkpoints/cnn_ddi_epoch_10_target_enzyme_category.pt\n"
     ]
    },
    {
     "name": "stderr",
     "output_type": "stream",
     "text": [
      " 22%|██▏       | 11/50 [02:55<10:26, 16.06s/it]"
     ]
    },
    {
     "name": "stdout",
     "output_type": "stream",
     "text": [
      "Epoch 11, Train Loss: 0.0644, Validation Loss: 0.2510, Validation Accuracy: 0.8880, Precision: 0.7894, recall: 0.7753, F1: 0.7677, AUC: 0.9882, AUPR: 0.9716\n"
     ]
    },
    {
     "name": "stderr",
     "output_type": "stream",
     "text": [
      " 24%|██▍       | 12/50 [03:11<10:09, 16.05s/it]"
     ]
    },
    {
     "name": "stdout",
     "output_type": "stream",
     "text": [
      "Epoch 12, Train Loss: 0.0512, Validation Loss: 0.2556, Validation Accuracy: 0.8911, Precision: 0.8097, recall: 0.7741, F1: 0.7685, AUC: 0.9896, AUPR: 0.9738\n"
     ]
    },
    {
     "name": "stderr",
     "output_type": "stream",
     "text": [
      " 26%|██▌       | 13/50 [03:27<09:52, 16.01s/it]"
     ]
    },
    {
     "name": "stdout",
     "output_type": "stream",
     "text": [
      "Epoch 13, Train Loss: 0.1026, Validation Loss: 0.3030, Validation Accuracy: 0.8543, Precision: 0.7600, recall: 0.6082, F1: 0.6525, AUC: 0.9849, AUPR: 0.9624\n"
     ]
    },
    {
     "name": "stderr",
     "output_type": "stream",
     "text": [
      " 28%|██▊       | 14/50 [03:43<09:36, 16.00s/it]"
     ]
    },
    {
     "name": "stdout",
     "output_type": "stream",
     "text": [
      "Epoch 14, Train Loss: 0.0912, Validation Loss: 0.4286, Validation Accuracy: 0.8593, Precision: 0.7431, recall: 0.7359, F1: 0.7225, AUC: 0.9868, AUPR: 0.9673\n"
     ]
    },
    {
     "name": "stderr",
     "output_type": "stream",
     "text": [
      " 30%|███       | 15/50 [03:59<09:18, 15.97s/it]"
     ]
    },
    {
     "name": "stdout",
     "output_type": "stream",
     "text": [
      "Epoch 15, Train Loss: 0.0849, Validation Loss: 0.2914, Validation Accuracy: 0.8970, Precision: 0.8282, recall: 0.7585, F1: 0.7713, AUC: 0.9908, AUPR: 0.9759\n"
     ]
    },
    {
     "name": "stderr",
     "output_type": "stream",
     "text": [
      " 32%|███▏      | 16/50 [04:15<09:01, 15.94s/it]"
     ]
    },
    {
     "name": "stdout",
     "output_type": "stream",
     "text": [
      "Epoch 16, Train Loss: 0.2829, Validation Loss: 0.5927, Validation Accuracy: 0.8335, Precision: 0.7032, recall: 0.7110, F1: 0.6748, AUC: 0.9790, AUPR: 0.9537\n"
     ]
    },
    {
     "name": "stderr",
     "output_type": "stream",
     "text": [
      " 34%|███▍      | 17/50 [04:31<08:45, 15.92s/it]"
     ]
    },
    {
     "name": "stdout",
     "output_type": "stream",
     "text": [
      "Epoch 17, Train Loss: 0.0636, Validation Loss: 0.2925, Validation Accuracy: 0.8911, Precision: 0.7516, recall: 0.7633, F1: 0.7451, AUC: 0.9904, AUPR: 0.9776\n"
     ]
    },
    {
     "name": "stderr",
     "output_type": "stream",
     "text": [
      " 36%|███▌      | 18/50 [04:46<08:28, 15.88s/it]"
     ]
    },
    {
     "name": "stdout",
     "output_type": "stream",
     "text": [
      "Epoch 18, Train Loss: 0.0343, Validation Loss: 0.3980, Validation Accuracy: 0.8905, Precision: 0.7813, recall: 0.7651, F1: 0.7595, AUC: 0.9901, AUPR: 0.9753\n"
     ]
    },
    {
     "name": "stderr",
     "output_type": "stream",
     "text": [
      " 38%|███▊      | 19/50 [05:03<08:14, 15.96s/it]"
     ]
    },
    {
     "name": "stdout",
     "output_type": "stream",
     "text": [
      "Epoch 19, Train Loss: 0.0882, Validation Loss: 0.8099, Validation Accuracy: 0.8405, Precision: 0.7445, recall: 0.7350, F1: 0.7162, AUC: 0.9854, AUPR: 0.9643\n",
      "Epoch 20, Train Loss: 0.1134, Validation Loss: 0.3486, Validation Accuracy: 0.8949, Precision: 0.7930, recall: 0.6812, F1: 0.7195, AUC: 0.9887, AUPR: 0.9723\n"
     ]
    },
    {
     "name": "stderr",
     "output_type": "stream",
     "text": [
      " 40%|████      | 20/50 [05:19<08:06, 16.22s/it]"
     ]
    },
    {
     "name": "stdout",
     "output_type": "stream",
     "text": [
      "Saved checkpoint: checkpoints/cnn_ddi_epoch_20_target_enzyme_category.pt\n"
     ]
    },
    {
     "name": "stderr",
     "output_type": "stream",
     "text": [
      " 42%|████▏     | 21/50 [05:35<07:47, 16.13s/it]"
     ]
    },
    {
     "name": "stdout",
     "output_type": "stream",
     "text": [
      "Epoch 21, Train Loss: 0.0800, Validation Loss: 0.5393, Validation Accuracy: 0.8503, Precision: 0.7028, recall: 0.6536, F1: 0.6407, AUC: 0.9826, AUPR: 0.9568\n"
     ]
    },
    {
     "name": "stderr",
     "output_type": "stream",
     "text": [
      " 44%|████▍     | 22/50 [05:51<07:29, 16.06s/it]"
     ]
    },
    {
     "name": "stdout",
     "output_type": "stream",
     "text": [
      "Epoch 22, Train Loss: 0.0929, Validation Loss: 0.4138, Validation Accuracy: 0.8953, Precision: 0.7796, recall: 0.8072, F1: 0.7804, AUC: 0.9910, AUPR: 0.9785\n"
     ]
    },
    {
     "name": "stderr",
     "output_type": "stream",
     "text": [
      " 46%|████▌     | 23/50 [06:07<07:11, 16.00s/it]"
     ]
    },
    {
     "name": "stdout",
     "output_type": "stream",
     "text": [
      "Epoch 23, Train Loss: 0.1604, Validation Loss: 1.2480, Validation Accuracy: 0.8476, Precision: 0.7184, recall: 0.6995, F1: 0.6800, AUC: 0.9808, AUPR: 0.9481\n"
     ]
    },
    {
     "name": "stderr",
     "output_type": "stream",
     "text": [
      " 48%|████▊     | 24/50 [06:23<06:54, 15.94s/it]"
     ]
    },
    {
     "name": "stdout",
     "output_type": "stream",
     "text": [
      "Epoch 24, Train Loss: 0.0969, Validation Loss: 0.3671, Validation Accuracy: 0.8945, Precision: 0.8362, recall: 0.8247, F1: 0.8103, AUC: 0.9907, AUPR: 0.9767\n"
     ]
    },
    {
     "name": "stderr",
     "output_type": "stream",
     "text": [
      " 50%|█████     | 25/50 [06:39<06:37, 15.89s/it]"
     ]
    },
    {
     "name": "stdout",
     "output_type": "stream",
     "text": [
      "Epoch 25, Train Loss: 0.0458, Validation Loss: 0.6405, Validation Accuracy: 0.8858, Precision: 0.7958, recall: 0.7432, F1: 0.7472, AUC: 0.9886, AUPR: 0.9706\n"
     ]
    },
    {
     "name": "stderr",
     "output_type": "stream",
     "text": [
      " 52%|█████▏    | 26/50 [06:55<06:21, 15.88s/it]"
     ]
    },
    {
     "name": "stdout",
     "output_type": "stream",
     "text": [
      "Epoch 26, Train Loss: 0.1244, Validation Loss: 0.5731, Validation Accuracy: 0.8845, Precision: 0.7758, recall: 0.7396, F1: 0.7441, AUC: 0.9884, AUPR: 0.9735\n"
     ]
    },
    {
     "name": "stderr",
     "output_type": "stream",
     "text": [
      " 54%|█████▍    | 27/50 [07:10<06:05, 15.89s/it]"
     ]
    },
    {
     "name": "stdout",
     "output_type": "stream",
     "text": [
      "Epoch 27, Train Loss: 0.1376, Validation Loss: 1.3481, Validation Accuracy: 0.8619, Precision: 0.7820, recall: 0.6760, F1: 0.7041, AUC: 0.9843, AUPR: 0.9508\n"
     ]
    },
    {
     "name": "stderr",
     "output_type": "stream",
     "text": [
      " 56%|█████▌    | 28/50 [07:26<05:50, 15.91s/it]"
     ]
    },
    {
     "name": "stdout",
     "output_type": "stream",
     "text": [
      "Epoch 28, Train Loss: 0.0854, Validation Loss: 0.5420, Validation Accuracy: 0.8811, Precision: 0.7647, recall: 0.7451, F1: 0.7349, AUC: 0.9881, AUPR: 0.9708\n"
     ]
    },
    {
     "name": "stderr",
     "output_type": "stream",
     "text": [
      " 58%|█████▊    | 29/50 [07:42<05:33, 15.87s/it]"
     ]
    },
    {
     "name": "stdout",
     "output_type": "stream",
     "text": [
      "Epoch 29, Train Loss: 0.0604, Validation Loss: 1.0399, Validation Accuracy: 0.8692, Precision: 0.7957, recall: 0.7666, F1: 0.7671, AUC: 0.9851, AUPR: 0.9619\n",
      "Epoch 30, Train Loss: 0.1483, Validation Loss: 0.6316, Validation Accuracy: 0.8949, Precision: 0.7823, recall: 0.7255, F1: 0.7425, AUC: 0.9901, AUPR: 0.9730\n"
     ]
    },
    {
     "name": "stderr",
     "output_type": "stream",
     "text": [
      " 60%|██████    | 30/50 [07:59<05:21, 16.08s/it]"
     ]
    },
    {
     "name": "stdout",
     "output_type": "stream",
     "text": [
      "Saved checkpoint: checkpoints/cnn_ddi_epoch_30_target_enzyme_category.pt\n"
     ]
    },
    {
     "name": "stderr",
     "output_type": "stream",
     "text": [
      " 62%|██████▏   | 31/50 [08:14<05:02, 15.94s/it]"
     ]
    },
    {
     "name": "stdout",
     "output_type": "stream",
     "text": [
      "Epoch 31, Train Loss: 0.0776, Validation Loss: 3.6126, Validation Accuracy: 0.7402, Precision: 0.6884, recall: 0.4402, F1: 0.5073, AUC: 0.9583, AUPR: 0.8342\n"
     ]
    },
    {
     "name": "stderr",
     "output_type": "stream",
     "text": [
      " 64%|██████▍   | 32/50 [08:30<04:46, 15.89s/it]"
     ]
    },
    {
     "name": "stdout",
     "output_type": "stream",
     "text": [
      "Epoch 32, Train Loss: 0.8638, Validation Loss: 1.0107, Validation Accuracy: 0.8994, Precision: 0.8101, recall: 0.7583, F1: 0.7748, AUC: 0.9908, AUPR: 0.9730\n"
     ]
    },
    {
     "name": "stderr",
     "output_type": "stream",
     "text": [
      " 66%|██████▌   | 33/50 [08:46<04:29, 15.86s/it]"
     ]
    },
    {
     "name": "stdout",
     "output_type": "stream",
     "text": [
      "Epoch 33, Train Loss: 0.0634, Validation Loss: 1.2078, Validation Accuracy: 0.8855, Precision: 0.7979, recall: 0.7564, F1: 0.7605, AUC: 0.9895, AUPR: 0.9673\n"
     ]
    },
    {
     "name": "stderr",
     "output_type": "stream",
     "text": [
      " 68%|██████▊   | 34/50 [09:02<04:13, 15.85s/it]"
     ]
    },
    {
     "name": "stdout",
     "output_type": "stream",
     "text": [
      "Epoch 34, Train Loss: 0.1010, Validation Loss: 1.4701, Validation Accuracy: 0.8964, Precision: 0.8139, recall: 0.7675, F1: 0.7729, AUC: 0.9902, AUPR: 0.9640\n"
     ]
    },
    {
     "name": "stderr",
     "output_type": "stream",
     "text": [
      " 70%|███████   | 35/50 [09:18<03:57, 15.83s/it]"
     ]
    },
    {
     "name": "stdout",
     "output_type": "stream",
     "text": [
      "Epoch 35, Train Loss: 0.2135, Validation Loss: 1.4181, Validation Accuracy: 0.8857, Precision: 0.8020, recall: 0.7649, F1: 0.7622, AUC: 0.9879, AUPR: 0.9590\n"
     ]
    },
    {
     "name": "stderr",
     "output_type": "stream",
     "text": [
      " 72%|███████▏  | 36/50 [09:33<03:41, 15.80s/it]"
     ]
    },
    {
     "name": "stdout",
     "output_type": "stream",
     "text": [
      "Epoch 36, Train Loss: 0.1058, Validation Loss: 1.2842, Validation Accuracy: 0.8872, Precision: 0.7937, recall: 0.8181, F1: 0.7819, AUC: 0.9881, AUPR: 0.9643\n"
     ]
    },
    {
     "name": "stderr",
     "output_type": "stream",
     "text": [
      " 74%|███████▍  | 37/50 [09:49<03:25, 15.80s/it]"
     ]
    },
    {
     "name": "stdout",
     "output_type": "stream",
     "text": [
      "Epoch 37, Train Loss: 0.1559, Validation Loss: 1.5335, Validation Accuracy: 0.8889, Precision: 0.8347, recall: 0.7200, F1: 0.7555, AUC: 0.9879, AUPR: 0.9555\n"
     ]
    },
    {
     "name": "stderr",
     "output_type": "stream",
     "text": [
      " 76%|███████▌  | 38/50 [10:05<03:10, 15.84s/it]"
     ]
    },
    {
     "name": "stdout",
     "output_type": "stream",
     "text": [
      "Epoch 38, Train Loss: 0.1204, Validation Loss: 1.2971, Validation Accuracy: 0.8854, Precision: 0.7725, recall: 0.7665, F1: 0.7568, AUC: 0.9877, AUPR: 0.9621\n"
     ]
    },
    {
     "name": "stderr",
     "output_type": "stream",
     "text": [
      " 78%|███████▊  | 39/50 [10:21<02:54, 15.84s/it]"
     ]
    },
    {
     "name": "stdout",
     "output_type": "stream",
     "text": [
      "Epoch 39, Train Loss: 0.1546, Validation Loss: 1.1670, Validation Accuracy: 0.8929, Precision: 0.8095, recall: 0.7713, F1: 0.7712, AUC: 0.9891, AUPR: 0.9692\n",
      "Epoch 40, Train Loss: 0.1843, Validation Loss: 1.4967, Validation Accuracy: 0.8920, Precision: 0.7702, recall: 0.7550, F1: 0.7499, AUC: 0.9877, AUPR: 0.9620\n"
     ]
    },
    {
     "name": "stderr",
     "output_type": "stream",
     "text": [
      " 80%|████████  | 40/50 [10:37<02:40, 16.05s/it]"
     ]
    },
    {
     "name": "stdout",
     "output_type": "stream",
     "text": [
      "Saved checkpoint: checkpoints/cnn_ddi_epoch_40_target_enzyme_category.pt\n"
     ]
    },
    {
     "name": "stderr",
     "output_type": "stream",
     "text": [
      " 82%|████████▏ | 41/50 [10:53<02:23, 15.95s/it]"
     ]
    },
    {
     "name": "stdout",
     "output_type": "stream",
     "text": [
      "Epoch 41, Train Loss: 0.0883, Validation Loss: 1.2246, Validation Accuracy: 0.9022, Precision: 0.7919, recall: 0.7500, F1: 0.7620, AUC: 0.9911, AUPR: 0.9713\n"
     ]
    },
    {
     "name": "stderr",
     "output_type": "stream",
     "text": [
      " 84%|████████▍ | 42/50 [11:09<02:07, 15.90s/it]"
     ]
    },
    {
     "name": "stdout",
     "output_type": "stream",
     "text": [
      "Epoch 42, Train Loss: 0.2776, Validation Loss: 4.2598, Validation Accuracy: 0.8547, Precision: 0.7378, recall: 0.6933, F1: 0.6967, AUC: 0.9764, AUPR: 0.9098\n"
     ]
    },
    {
     "name": "stderr",
     "output_type": "stream",
     "text": [
      " 86%|████████▌ | 43/50 [11:25<01:51, 15.90s/it]"
     ]
    },
    {
     "name": "stdout",
     "output_type": "stream",
     "text": [
      "Epoch 43, Train Loss: 0.2717, Validation Loss: 1.6945, Validation Accuracy: 0.8980, Precision: 0.7685, recall: 0.6754, F1: 0.7090, AUC: 0.9902, AUPR: 0.9682\n"
     ]
    },
    {
     "name": "stderr",
     "output_type": "stream",
     "text": [
      " 88%|████████▊ | 44/50 [11:41<01:35, 15.88s/it]"
     ]
    },
    {
     "name": "stdout",
     "output_type": "stream",
     "text": [
      "Epoch 44, Train Loss: 0.0829, Validation Loss: 1.5907, Validation Accuracy: 0.8924, Precision: 0.7613, recall: 0.7232, F1: 0.7232, AUC: 0.9894, AUPR: 0.9671\n"
     ]
    },
    {
     "name": "stderr",
     "output_type": "stream",
     "text": [
      " 90%|█████████ | 45/50 [11:56<01:19, 15.84s/it]"
     ]
    },
    {
     "name": "stdout",
     "output_type": "stream",
     "text": [
      "Epoch 45, Train Loss: 0.1094, Validation Loss: 1.7569, Validation Accuracy: 0.8976, Precision: 0.7784, recall: 0.7626, F1: 0.7563, AUC: 0.9903, AUPR: 0.9687\n"
     ]
    },
    {
     "name": "stderr",
     "output_type": "stream",
     "text": [
      " 92%|█████████▏| 46/50 [12:12<01:03, 15.82s/it]"
     ]
    },
    {
     "name": "stdout",
     "output_type": "stream",
     "text": [
      "Epoch 46, Train Loss: 0.1783, Validation Loss: 1.6963, Validation Accuracy: 0.8908, Precision: 0.7740, recall: 0.7844, F1: 0.7650, AUC: 0.9884, AUPR: 0.9655\n"
     ]
    },
    {
     "name": "stderr",
     "output_type": "stream",
     "text": [
      " 94%|█████████▍| 47/50 [12:28<00:47, 15.85s/it]"
     ]
    },
    {
     "name": "stdout",
     "output_type": "stream",
     "text": [
      "Epoch 47, Train Loss: 0.1581, Validation Loss: 1.6789, Validation Accuracy: 0.8983, Precision: 0.8373, recall: 0.7577, F1: 0.7822, AUC: 0.9878, AUPR: 0.9511\n"
     ]
    },
    {
     "name": "stderr",
     "output_type": "stream",
     "text": [
      " 96%|█████████▌| 48/50 [12:44<00:31, 15.86s/it]"
     ]
    },
    {
     "name": "stdout",
     "output_type": "stream",
     "text": [
      "Epoch 48, Train Loss: 0.1697, Validation Loss: 2.2228, Validation Accuracy: 0.8869, Precision: 0.8125, recall: 0.7862, F1: 0.7823, AUC: 0.9848, AUPR: 0.9427\n"
     ]
    },
    {
     "name": "stderr",
     "output_type": "stream",
     "text": [
      " 98%|█████████▊| 49/50 [13:00<00:15, 15.85s/it]"
     ]
    },
    {
     "name": "stdout",
     "output_type": "stream",
     "text": [
      "Epoch 49, Train Loss: 0.1250, Validation Loss: 1.9739, Validation Accuracy: 0.9014, Precision: 0.8074, recall: 0.7866, F1: 0.7862, AUC: 0.9890, AUPR: 0.9589\n",
      "Epoch 50, Train Loss: 0.1941, Validation Loss: 1.9324, Validation Accuracy: 0.9054, Precision: 0.8405, recall: 0.7659, F1: 0.7890, AUC: 0.9887, AUPR: 0.9555\n"
     ]
    },
    {
     "name": "stderr",
     "output_type": "stream",
     "text": [
      "100%|██████████| 50/50 [13:16<00:00, 15.93s/it]"
     ]
    },
    {
     "name": "stdout",
     "output_type": "stream",
     "text": [
      "Saved checkpoint: checkpoints/cnn_ddi_epoch_50_target_enzyme_category.pt\n",
      "Feature combination: ('pathway', 'target', 'enzyme', 'category')\n"
     ]
    },
    {
     "name": "stderr",
     "output_type": "stream",
     "text": [
      "\n",
      "/tmp/ipykernel_83239/3982585584.py:3: UserWarning: To copy construct from a tensor, it is recommended to use sourceTensor.clone().detach() or sourceTensor.clone().detach().requires_grad_(True), rather than torch.tensor(sourceTensor).\n",
      "  self.features = torch.tensor(features, dtype=torch.float32)\n",
      "  2%|▏         | 1/50 [00:21<17:22, 21.28s/it]"
     ]
    },
    {
     "name": "stdout",
     "output_type": "stream",
     "text": [
      "Epoch 1, Train Loss: 0.8495, Validation Loss: 0.3610, Validation Accuracy: 0.7867, Precision: 0.6352, recall: 0.5553, F1: 0.5637, AUC: 0.9657, AUPR: 0.9132\n"
     ]
    },
    {
     "name": "stderr",
     "output_type": "stream",
     "text": [
      "  4%|▍         | 2/50 [00:42<17:02, 21.31s/it]"
     ]
    },
    {
     "name": "stdout",
     "output_type": "stream",
     "text": [
      "Epoch 2, Train Loss: 0.2841, Validation Loss: 0.2807, Validation Accuracy: 0.8295, Precision: 0.7275, recall: 0.5997, F1: 0.6335, AUC: 0.9747, AUPR: 0.9379\n"
     ]
    },
    {
     "name": "stderr",
     "output_type": "stream",
     "text": [
      "  6%|▌         | 3/50 [01:03<16:37, 21.22s/it]"
     ]
    },
    {
     "name": "stdout",
     "output_type": "stream",
     "text": [
      "Epoch 3, Train Loss: 0.2094, Validation Loss: 0.2663, Validation Accuracy: 0.8335, Precision: 0.7628, recall: 0.6862, F1: 0.6890, AUC: 0.9741, AUPR: 0.9384\n"
     ]
    },
    {
     "name": "stderr",
     "output_type": "stream",
     "text": [
      "  8%|▊         | 4/50 [01:24<16:16, 21.23s/it]"
     ]
    },
    {
     "name": "stdout",
     "output_type": "stream",
     "text": [
      "Epoch 4, Train Loss: 0.1859, Validation Loss: 0.2638, Validation Accuracy: 0.8376, Precision: 0.7693, recall: 0.7028, F1: 0.7062, AUC: 0.9800, AUPR: 0.9487\n"
     ]
    },
    {
     "name": "stderr",
     "output_type": "stream",
     "text": [
      " 10%|█         | 5/50 [01:46<15:59, 21.33s/it]"
     ]
    },
    {
     "name": "stdout",
     "output_type": "stream",
     "text": [
      "Epoch 5, Train Loss: 0.1613, Validation Loss: 0.2622, Validation Accuracy: 0.8546, Precision: 0.7514, recall: 0.7736, F1: 0.7298, AUC: 0.9829, AUPR: 0.9562\n"
     ]
    },
    {
     "name": "stderr",
     "output_type": "stream",
     "text": [
      " 12%|█▏        | 6/50 [02:08<15:42, 21.41s/it]"
     ]
    },
    {
     "name": "stdout",
     "output_type": "stream",
     "text": [
      "Epoch 6, Train Loss: 0.1528, Validation Loss: 0.2212, Validation Accuracy: 0.8719, Precision: 0.7889, recall: 0.7507, F1: 0.7490, AUC: 0.9845, AUPR: 0.9644\n"
     ]
    },
    {
     "name": "stderr",
     "output_type": "stream",
     "text": [
      " 14%|█▍        | 7/50 [02:29<15:19, 21.38s/it]"
     ]
    },
    {
     "name": "stdout",
     "output_type": "stream",
     "text": [
      "Epoch 7, Train Loss: 0.1287, Validation Loss: 0.2442, Validation Accuracy: 0.8492, Precision: 0.7113, recall: 0.6333, F1: 0.6434, AUC: 0.9833, AUPR: 0.9586\n"
     ]
    },
    {
     "name": "stderr",
     "output_type": "stream",
     "text": [
      " 16%|█▌        | 8/50 [02:50<14:58, 21.38s/it]"
     ]
    },
    {
     "name": "stdout",
     "output_type": "stream",
     "text": [
      "Epoch 8, Train Loss: 0.1398, Validation Loss: 0.6687, Validation Accuracy: 0.7932, Precision: 0.6541, recall: 0.6201, F1: 0.5964, AUC: 0.9715, AUPR: 0.9245\n"
     ]
    },
    {
     "name": "stderr",
     "output_type": "stream",
     "text": [
      " 18%|█▊        | 9/50 [03:12<14:36, 21.37s/it]"
     ]
    },
    {
     "name": "stdout",
     "output_type": "stream",
     "text": [
      "Epoch 9, Train Loss: 0.2504, Validation Loss: 0.2087, Validation Accuracy: 0.8901, Precision: 0.8052, recall: 0.7938, F1: 0.7830, AUC: 0.9896, AUPR: 0.9741\n",
      "Epoch 10, Train Loss: 0.0652, Validation Loss: 0.2611, Validation Accuracy: 0.8780, Precision: 0.7884, recall: 0.7494, F1: 0.7544, AUC: 0.9885, AUPR: 0.9709\n"
     ]
    },
    {
     "name": "stderr",
     "output_type": "stream",
     "text": [
      " 20%|██        | 10/50 [03:34<14:25, 21.63s/it]"
     ]
    },
    {
     "name": "stdout",
     "output_type": "stream",
     "text": [
      "Saved checkpoint: checkpoints/cnn_ddi_epoch_10_pathway_target_enzyme_category.pt\n"
     ]
    },
    {
     "name": "stderr",
     "output_type": "stream",
     "text": [
      " 22%|██▏       | 11/50 [03:55<14:00, 21.56s/it]"
     ]
    },
    {
     "name": "stdout",
     "output_type": "stream",
     "text": [
      "Epoch 11, Train Loss: 0.0871, Validation Loss: 0.2747, Validation Accuracy: 0.8666, Precision: 0.7696, recall: 0.7477, F1: 0.7454, AUC: 0.9882, AUPR: 0.9697\n"
     ]
    },
    {
     "name": "stderr",
     "output_type": "stream",
     "text": [
      " 24%|██▍       | 12/50 [04:16<13:36, 21.48s/it]"
     ]
    },
    {
     "name": "stdout",
     "output_type": "stream",
     "text": [
      "Epoch 12, Train Loss: 0.2099, Validation Loss: 0.4458, Validation Accuracy: 0.8363, Precision: 0.7159, recall: 0.6939, F1: 0.6675, AUC: 0.9816, AUPR: 0.9532\n"
     ]
    },
    {
     "name": "stderr",
     "output_type": "stream",
     "text": [
      " 26%|██▌       | 13/50 [04:38<13:13, 21.45s/it]"
     ]
    },
    {
     "name": "stdout",
     "output_type": "stream",
     "text": [
      "Epoch 13, Train Loss: 0.0721, Validation Loss: 0.2419, Validation Accuracy: 0.8868, Precision: 0.8128, recall: 0.7941, F1: 0.7904, AUC: 0.9888, AUPR: 0.9721\n"
     ]
    },
    {
     "name": "stderr",
     "output_type": "stream",
     "text": [
      " 28%|██▊       | 14/50 [04:59<12:51, 21.42s/it]"
     ]
    },
    {
     "name": "stdout",
     "output_type": "stream",
     "text": [
      "Epoch 14, Train Loss: 0.1140, Validation Loss: 0.7762, Validation Accuracy: 0.8060, Precision: 0.7368, recall: 0.5858, F1: 0.6292, AUC: 0.9719, AUPR: 0.9280\n"
     ]
    },
    {
     "name": "stderr",
     "output_type": "stream",
     "text": [
      " 30%|███       | 15/50 [05:21<12:28, 21.39s/it]"
     ]
    },
    {
     "name": "stdout",
     "output_type": "stream",
     "text": [
      "Epoch 15, Train Loss: 0.1363, Validation Loss: 0.2714, Validation Accuracy: 0.8845, Precision: 0.7691, recall: 0.7202, F1: 0.7283, AUC: 0.9894, AUPR: 0.9715\n"
     ]
    },
    {
     "name": "stderr",
     "output_type": "stream",
     "text": [
      " 32%|███▏      | 16/50 [05:42<12:07, 21.39s/it]"
     ]
    },
    {
     "name": "stdout",
     "output_type": "stream",
     "text": [
      "Epoch 16, Train Loss: 0.0756, Validation Loss: 0.4969, Validation Accuracy: 0.8653, Precision: 0.6974, recall: 0.7693, F1: 0.7068, AUC: 0.9862, AUPR: 0.9647\n"
     ]
    },
    {
     "name": "stderr",
     "output_type": "stream",
     "text": [
      " 34%|███▍      | 17/50 [06:03<11:45, 21.39s/it]"
     ]
    },
    {
     "name": "stdout",
     "output_type": "stream",
     "text": [
      "Epoch 17, Train Loss: 0.2332, Validation Loss: 0.3022, Validation Accuracy: 0.8806, Precision: 0.7884, recall: 0.7154, F1: 0.7324, AUC: 0.9900, AUPR: 0.9732\n"
     ]
    },
    {
     "ename": "",
     "evalue": "",
     "output_type": "error",
     "traceback": [
      "\u001b[1;31m在当前单元格或上一个单元格中执行代码时 Kernel 崩溃。\n",
      "\u001b[1;31m请查看单元格中的代码，以确定故障的可能原因。\n",
      "\u001b[1;31m单击<a href='https://aka.ms/vscodeJupyterKernelCrash'>此处</a>了解详细信息。\n",
      "\u001b[1;31m有关更多详细信息，请查看 Jupyter <a href='command:jupyter.viewOutput'>log</a>。"
     ]
    }
   ],
   "source": [
    "import itertools\n",
    "\n",
    "feature_list = [\"pathway\", \"target\", \"enzyme\", \"category\"]\n",
    "\n",
    "# Generate all combinations for different lengths\n",
    "all_combinations = []\n",
    "for r in range(1, len(feature_list) + 1):\n",
    "    combinations = list(itertools.combinations(feature_list, r))\n",
    "    all_combinations.extend(combinations)\n",
    "\n",
    "# Train models for all combinations\n",
    "batch_size = 32\n",
    "num_epochs = 50\n",
    "checkpoint_interval = 10\n",
    "device = torch.device(\"cuda\" if torch.cuda.is_available() else \"cpu\")\n",
    "for combination in all_combinations:\n",
    "    print(f\"Feature combination: {combination}\")\n",
    "    new_feature, new_label, event_num = prepare(df_drug, combination, mechanism, action, drugA, drugB, similarity=\"jaccard\")\n",
    "    new_feature = torch.tensor(new_feature, dtype=torch.float32)\n",
    "    features_train, features_val, labels_train, labels_val = train_test_split(\n",
    "        new_feature, new_label, test_size=0.2, random_state=42\n",
    "    )\n",
    "\n",
    "    # Create dataset objects\n",
    "    train_dataset = DrugInteractionDataset(features_train, labels_train)\n",
    "    val_dataset = DrugInteractionDataset(features_val, labels_val)\n",
    "\n",
    "    # Create data loaders\n",
    "    train_loader = DataLoader(train_dataset, batch_size=batch_size, shuffle=True)\n",
    "    val_loader = DataLoader(val_dataset, batch_size=batch_size, shuffle=False)\n",
    "\n",
    "    model = CNNDDI(num_of_features=len(combination)).to(device)\n",
    "    optimizer = optim.Adam(model.parameters(), lr=0.001)\n",
    "    criterion = focal_loss()\n",
    "\n",
    "    for epoch in tqdm(range(num_epochs)):\n",
    "        train_loss = train(model, device, train_loader, optimizer, criterion)\n",
    "        val_loss, val_accuracy, precision, recall, f1, roc_auc, aupr = validate(model, device, val_loader, criterion)\n",
    "        print(f'Epoch {epoch+1}, Train Loss: {train_loss:.4f}, Validation Loss: {val_loss:.4f}, Validation Accuracy: {val_accuracy:.4f}, Precision: {precision:.4f}, recall: {recall:.4f}, F1: {f1:.4f}, AUC: {roc_auc:.4f}, AUPR: {aupr:.4f}')\n",
    "\n",
    "        if (epoch + 1) % checkpoint_interval == 0 or (epoch + 1) == num_epochs:\n",
    "            combination_str = \"_\".join(combination)\n",
    "            save_checkpoint(model, optimizer, epoch + 1, f'checkpoints/cnn_ddi_epoch_{epoch+1}_{combination_str}.pt')\n"
   ]
  },
  {
   "cell_type": "code",
   "execution_count": 15,
   "metadata": {},
   "outputs": [],
   "source": [
    "\n",
    "\n",
    "class CNNDDI_no_residual(nn.Module):\n",
    "    def __init__(self, num_of_features=4):\n",
    "        super(CNNDDI_no_residual, self).__init__()\n",
    "        self.conv1 = nn.Conv2d(2, 64, (3, 1), padding=(1, 0))\n",
    "        self.conv2 = nn.Conv2d(64, 128, (3, 1), padding=(1, 0))\n",
    "        self.conv3_1 = nn.Conv2d(128, 128, (3, 1), padding=(1, 0))\n",
    "        self.conv3_2 = nn.Conv2d(128, 128, (3, 1), padding=(1, 0))\n",
    "        self.conv4 = nn.Conv2d(128, 256, (3, 1), padding=(1, 0))\n",
    "        self.fc1 = nn.Linear(256 * 572 * num_of_features, 256)  # Adjust feature_size based on your input dimensions\n",
    "        self.fc2 = nn.Linear(256, 65)  # Assuming 65 DDI types\n",
    "\n",
    "    def forward(self, x):\n",
    "        x = F.leaky_relu(self.conv1(x), negative_slope=0.2)\n",
    "        x = F.leaky_relu(self.conv2(x), negative_slope=0.2)\n",
    "        # identity = x\n",
    "        x = F.leaky_relu(self.conv3_1(x), negative_slope=0.2)\n",
    "        x = self.conv3_2(x)\n",
    "        # x += identity\n",
    "        x = F.leaky_relu(x, negative_slope=0.2)\n",
    "        x = F.leaky_relu(self.conv4(x), negative_slope=0.2)\n",
    "        x = torch.flatten(x, 1)\n",
    "        x = F.leaky_relu(self.fc1(x), negative_slope=0.2)\n",
    "        x = self.fc2(x)\n",
    "        return x\n"
   ]
  },
  {
   "cell_type": "code",
   "execution_count": 12,
   "metadata": {},
   "outputs": [],
   "source": [
    "import copy\n",
    "import logging\n",
    "import sys\n",
    "\n",
    "\n",
    "class ColoredFormatter(logging.Formatter):\n",
    "    COLORS = {\n",
    "        \"DEBUG\": \"\\033[0;36m\",  # CYAN\n",
    "        \"INFO\": \"\\033[0;32m\",  # GREEN\n",
    "        \"WARNING\": \"\\033[0;33m\",  # YELLOW\n",
    "        \"ERROR\": \"\\033[0;31m\",  # RED\n",
    "        \"CRITICAL\": \"\\033[0;37;41m\",  # WHITE ON RED\n",
    "        \"RESET\": \"\\033[0m\",  # RESET COLOR\n",
    "    }\n",
    "\n",
    "    def format(self, record):\n",
    "        colored_record = copy.copy(record)\n",
    "        levelname = colored_record.levelname\n",
    "        seq = self.COLORS.get(levelname, self.COLORS[\"RESET\"])\n",
    "        colored_record.levelname = f\"{seq}{levelname}{self.COLORS['RESET']}\"\n",
    "        return super().format(colored_record)\n",
    "\n",
    "\n",
    "# Create a new logger\n",
    "logger = logging.getLogger(\"CNN-DDI\")\n",
    "logger.propagate = False\n",
    "\n",
    "# Add handler if we don't have one.\n",
    "if not logger.handlers:\n",
    "    handler = logging.StreamHandler(sys.stdout)\n",
    "    handler.setFormatter(\n",
    "        ColoredFormatter(\"%(asctime)s - %(name)s - %(levelname)s - %(message)s\")\n",
    "    )\n",
    "    logger.addHandler(handler)\n",
    "\n",
    "# Configure logger\n",
    "loglevel_string = \"INFO\"\n",
    "if not loglevel_string:\n",
    "    loglevel_string = \"INFO\"\n",
    "loglevel = getattr(logging, loglevel_string.upper(), None)\n",
    "logger.setLevel(loglevel)\n"
   ]
  },
  {
   "cell_type": "code",
   "execution_count": 16,
   "metadata": {},
   "outputs": [
    {
     "name": "stdout",
     "output_type": "stream",
     "text": [
      "2024-04-23 21:36:52,900 - CNN-DDI - \u001b[0;32mINFO\u001b[0m - Model Arch: CNNDDI_no_residual\n"
     ]
    },
    {
     "name": "stderr",
     "output_type": "stream",
     "text": [
      "/tmp/ipykernel_235039/3982585584.py:3: UserWarning: To copy construct from a tensor, it is recommended to use sourceTensor.clone().detach() or sourceTensor.clone().detach().requires_grad_(True), rather than torch.tensor(sourceTensor).\n",
      "  self.features = torch.tensor(features, dtype=torch.float32)\n",
      "  0%|          | 0/50 [00:00<?, ?it/s]"
     ]
    },
    {
     "name": "stdout",
     "output_type": "stream",
     "text": [
      "2024-04-23 21:37:17,179 - CNN-DDI - \u001b[0;32mINFO\u001b[0m - Epoch 1, Train Loss: 0.8420, Validation Loss: 0.3400, Validation Accuracy: 0.7974, Precision: 0.6306, recall: 0.6034, F1: 0.5802, AUC: 0.9679, AUPR: 0.9231\n"
     ]
    },
    {
     "name": "stderr",
     "output_type": "stream",
     "text": [
      "  2%|▏         | 1/50 [00:21<17:55, 21.95s/it]"
     ]
    },
    {
     "name": "stdout",
     "output_type": "stream",
     "text": [
      "2024-04-23 21:37:39,277 - CNN-DDI - \u001b[0;32mINFO\u001b[0m - Epoch 2, Train Loss: 0.2852, Validation Loss: 0.2604, Validation Accuracy: 0.8383, Precision: 0.7413, recall: 0.7131, F1: 0.7061, AUC: 0.9780, AUPR: 0.9457\n"
     ]
    },
    {
     "name": "stderr",
     "output_type": "stream",
     "text": [
      "  4%|▍         | 2/50 [00:44<17:37, 22.04s/it]"
     ]
    },
    {
     "name": "stdout",
     "output_type": "stream",
     "text": [
      "2024-04-23 21:38:01,604 - CNN-DDI - \u001b[0;32mINFO\u001b[0m - Epoch 3, Train Loss: 0.2142, Validation Loss: 0.2567, Validation Accuracy: 0.8348, Precision: 0.7224, recall: 0.6287, F1: 0.6539, AUC: 0.9798, AUPR: 0.9511\n"
     ]
    },
    {
     "name": "stderr",
     "output_type": "stream",
     "text": [
      "  6%|▌         | 3/50 [01:06<17:21, 22.17s/it]"
     ]
    },
    {
     "name": "stdout",
     "output_type": "stream",
     "text": [
      "2024-04-23 21:38:23,766 - CNN-DDI - \u001b[0;32mINFO\u001b[0m - Epoch 4, Train Loss: 0.6939, Validation Loss: 0.3871, Validation Accuracy: 0.7969, Precision: 0.6911, recall: 0.6785, F1: 0.6547, AUC: 0.9691, AUPR: 0.9312\n"
     ]
    },
    {
     "name": "stderr",
     "output_type": "stream",
     "text": [
      "  8%|▊         | 4/50 [01:28<16:59, 22.17s/it]"
     ]
    },
    {
     "name": "stdout",
     "output_type": "stream",
     "text": [
      "2024-04-23 21:38:46,157 - CNN-DDI - \u001b[0;32mINFO\u001b[0m - Epoch 5, Train Loss: 0.1873, Validation Loss: 0.2425, Validation Accuracy: 0.8453, Precision: 0.7787, recall: 0.7353, F1: 0.7218, AUC: 0.9833, AUPR: 0.9597\n"
     ]
    },
    {
     "name": "stderr",
     "output_type": "stream",
     "text": [
      " 10%|█         | 5/50 [01:50<16:41, 22.25s/it]"
     ]
    },
    {
     "name": "stdout",
     "output_type": "stream",
     "text": [
      "2024-04-23 21:39:08,441 - CNN-DDI - \u001b[0;32mINFO\u001b[0m - Epoch 6, Train Loss: 0.1237, Validation Loss: 0.2003, Validation Accuracy: 0.8705, Precision: 0.8299, recall: 0.7343, F1: 0.7474, AUC: 0.9861, AUPR: 0.9661\n"
     ]
    },
    {
     "name": "stderr",
     "output_type": "stream",
     "text": [
      " 12%|█▏        | 6/50 [02:13<16:19, 22.26s/it]"
     ]
    },
    {
     "name": "stdout",
     "output_type": "stream",
     "text": [
      "2024-04-23 21:39:30,708 - CNN-DDI - \u001b[0;32mINFO\u001b[0m - Epoch 7, Train Loss: 0.1194, Validation Loss: 0.2782, Validation Accuracy: 0.8496, Precision: 0.7116, recall: 0.7022, F1: 0.6863, AUC: 0.9840, AUPR: 0.9565\n"
     ]
    },
    {
     "name": "stderr",
     "output_type": "stream",
     "text": [
      " 14%|█▍        | 7/50 [02:35<15:57, 22.26s/it]"
     ]
    },
    {
     "name": "stdout",
     "output_type": "stream",
     "text": [
      "2024-04-23 21:39:53,308 - CNN-DDI - \u001b[0;32mINFO\u001b[0m - Epoch 8, Train Loss: 0.1163, Validation Loss: 0.2629, Validation Accuracy: 0.8669, Precision: 0.7744, recall: 0.7587, F1: 0.7426, AUC: 0.9866, AUPR: 0.9667\n"
     ]
    },
    {
     "name": "stderr",
     "output_type": "stream",
     "text": [
      " 16%|█▌        | 8/50 [02:58<15:39, 22.37s/it]"
     ]
    },
    {
     "name": "stdout",
     "output_type": "stream",
     "text": [
      "2024-04-23 21:40:15,824 - CNN-DDI - \u001b[0;32mINFO\u001b[0m - Epoch 9, Train Loss: 0.1464, Validation Loss: 0.2711, Validation Accuracy: 0.8570, Precision: 0.7385, recall: 0.7935, F1: 0.7400, AUC: 0.9824, AUPR: 0.9558\n"
     ]
    },
    {
     "name": "stderr",
     "output_type": "stream",
     "text": [
      " 18%|█▊        | 9/50 [03:20<15:19, 22.42s/it]"
     ]
    },
    {
     "name": "stdout",
     "output_type": "stream",
     "text": [
      "2024-04-23 21:40:38,494 - CNN-DDI - \u001b[0;32mINFO\u001b[0m - Epoch 10, Train Loss: 0.1245, Validation Loss: 0.2211, Validation Accuracy: 0.8794, Precision: 0.7348, recall: 0.7640, F1: 0.7381, AUC: 0.9874, AUPR: 0.9691\n"
     ]
    },
    {
     "name": "stderr",
     "output_type": "stream",
     "text": [
      " 20%|██        | 10/50 [03:44<15:11, 22.79s/it]"
     ]
    },
    {
     "name": "stdout",
     "output_type": "stream",
     "text": [
      "Saved checkpoint: checkpoints/cnn_ddi_epoch_CNNDDI_no_residual_10.pt\n",
      "2024-04-23 21:41:02,156 - CNN-DDI - \u001b[0;32mINFO\u001b[0m - Epoch 11, Train Loss: 0.1222, Validation Loss: 0.6173, Validation Accuracy: 0.8001, Precision: 0.6552, recall: 0.5870, F1: 0.5830, AUC: 0.9749, AUPR: 0.9420\n"
     ]
    },
    {
     "name": "stderr",
     "output_type": "stream",
     "text": [
      " 22%|██▏       | 11/50 [04:06<14:47, 22.76s/it]"
     ]
    },
    {
     "name": "stdout",
     "output_type": "stream",
     "text": [
      "2024-04-23 21:41:24,962 - CNN-DDI - \u001b[0;32mINFO\u001b[0m - Epoch 12, Train Loss: 0.1527, Validation Loss: 0.2582, Validation Accuracy: 0.8588, Precision: 0.7337, recall: 0.7965, F1: 0.7457, AUC: 0.9871, AUPR: 0.9675\n"
     ]
    },
    {
     "name": "stderr",
     "output_type": "stream",
     "text": [
      " 24%|██▍       | 12/50 [04:29<14:25, 22.78s/it]"
     ]
    },
    {
     "name": "stdout",
     "output_type": "stream",
     "text": [
      "2024-04-23 21:41:47,317 - CNN-DDI - \u001b[0;32mINFO\u001b[0m - Epoch 13, Train Loss: 0.0880, Validation Loss: 0.4098, Validation Accuracy: 0.8093, Precision: 0.7058, recall: 0.7299, F1: 0.6768, AUC: 0.9761, AUPR: 0.9420\n"
     ]
    },
    {
     "name": "stderr",
     "output_type": "stream",
     "text": [
      " 26%|██▌       | 13/50 [04:52<13:58, 22.65s/it]"
     ]
    },
    {
     "name": "stdout",
     "output_type": "stream",
     "text": [
      "2024-04-23 21:42:09,452 - CNN-DDI - \u001b[0;32mINFO\u001b[0m - Epoch 14, Train Loss: 0.1469, Validation Loss: 0.3183, Validation Accuracy: 0.8606, Precision: 0.7246, recall: 0.7691, F1: 0.7210, AUC: 0.9865, AUPR: 0.9685\n"
     ]
    },
    {
     "name": "stderr",
     "output_type": "stream",
     "text": [
      " 28%|██▊       | 14/50 [05:14<13:29, 22.49s/it]"
     ]
    },
    {
     "name": "stdout",
     "output_type": "stream",
     "text": [
      "2024-04-23 21:42:31,663 - CNN-DDI - \u001b[0;32mINFO\u001b[0m - Epoch 15, Train Loss: 0.1446, Validation Loss: 0.4317, Validation Accuracy: 0.8401, Precision: 0.7371, recall: 0.6967, F1: 0.6828, AUC: 0.9775, AUPR: 0.9462\n"
     ]
    },
    {
     "name": "stderr",
     "output_type": "stream",
     "text": [
      " 30%|███       | 15/50 [05:36<13:04, 22.41s/it]"
     ]
    },
    {
     "name": "stdout",
     "output_type": "stream",
     "text": [
      "2024-04-23 21:42:54,018 - CNN-DDI - \u001b[0;32mINFO\u001b[0m - Epoch 16, Train Loss: 0.0780, Validation Loss: 0.3279, Validation Accuracy: 0.8834, Precision: 0.8241, recall: 0.8076, F1: 0.8029, AUC: 0.9865, AUPR: 0.9673\n"
     ]
    },
    {
     "name": "stderr",
     "output_type": "stream",
     "text": [
      " 32%|███▏      | 16/50 [05:58<12:41, 22.39s/it]"
     ]
    },
    {
     "name": "stdout",
     "output_type": "stream",
     "text": [
      "2024-04-23 21:43:16,519 - CNN-DDI - \u001b[0;32mINFO\u001b[0m - Epoch 17, Train Loss: 0.1353, Validation Loss: 0.7055, Validation Accuracy: 0.8580, Precision: 0.7517, recall: 0.7956, F1: 0.7425, AUC: 0.9793, AUPR: 0.9574\n"
     ]
    },
    {
     "name": "stderr",
     "output_type": "stream",
     "text": [
      " 34%|███▍      | 17/50 [06:21<12:20, 22.43s/it]"
     ]
    },
    {
     "name": "stdout",
     "output_type": "stream",
     "text": [
      "2024-04-23 21:43:38,797 - CNN-DDI - \u001b[0;32mINFO\u001b[0m - Epoch 18, Train Loss: 0.0987, Validation Loss: 0.3328, Validation Accuracy: 0.8681, Precision: 0.7764, recall: 0.8321, F1: 0.7852, AUC: 0.9865, AUPR: 0.9659\n"
     ]
    },
    {
     "name": "stderr",
     "output_type": "stream",
     "text": [
      " 36%|███▌      | 18/50 [06:43<11:56, 22.38s/it]"
     ]
    },
    {
     "name": "stdout",
     "output_type": "stream",
     "text": [
      "2024-04-23 21:44:00,972 - CNN-DDI - \u001b[0;32mINFO\u001b[0m - Epoch 19, Train Loss: 3.3564, Validation Loss: 0.8581, Validation Accuracy: 0.8520, Precision: 0.6830, recall: 0.7501, F1: 0.6936, AUC: 0.9805, AUPR: 0.9544\n"
     ]
    },
    {
     "name": "stderr",
     "output_type": "stream",
     "text": [
      " 38%|███▊      | 19/50 [07:05<11:31, 22.32s/it]"
     ]
    },
    {
     "name": "stdout",
     "output_type": "stream",
     "text": [
      "2024-04-23 21:44:23,251 - CNN-DDI - \u001b[0;32mINFO\u001b[0m - Epoch 20, Train Loss: 0.1680, Validation Loss: 0.4470, Validation Accuracy: 0.8884, Precision: 0.7946, recall: 0.8041, F1: 0.7826, AUC: 0.9868, AUPR: 0.9686\n"
     ]
    },
    {
     "name": "stderr",
     "output_type": "stream",
     "text": [
      " 40%|████      | 20/50 [07:28<11:17, 22.59s/it]"
     ]
    },
    {
     "name": "stdout",
     "output_type": "stream",
     "text": [
      "Saved checkpoint: checkpoints/cnn_ddi_epoch_CNNDDI_no_residual_20.pt\n",
      "2024-04-23 21:44:46,401 - CNN-DDI - \u001b[0;32mINFO\u001b[0m - Epoch 21, Train Loss: 0.0575, Validation Loss: 0.4362, Validation Accuracy: 0.8851, Precision: 0.7842, recall: 0.7838, F1: 0.7626, AUC: 0.9881, AUPR: 0.9706\n"
     ]
    },
    {
     "name": "stderr",
     "output_type": "stream",
     "text": [
      " 42%|████▏     | 21/50 [07:51<10:51, 22.48s/it]"
     ]
    },
    {
     "name": "stdout",
     "output_type": "stream",
     "text": [
      "2024-04-23 21:45:08,599 - CNN-DDI - \u001b[0;32mINFO\u001b[0m - Epoch 22, Train Loss: 0.0814, Validation Loss: 0.5695, Validation Accuracy: 0.8842, Precision: 0.7712, recall: 0.6859, F1: 0.7042, AUC: 0.9894, AUPR: 0.9715\n"
     ]
    },
    {
     "name": "stderr",
     "output_type": "stream",
     "text": [
      " 44%|████▍     | 22/50 [08:13<10:26, 22.39s/it]"
     ]
    },
    {
     "name": "stdout",
     "output_type": "stream",
     "text": [
      "2024-04-23 21:45:30,742 - CNN-DDI - \u001b[0;32mINFO\u001b[0m - Epoch 23, Train Loss: 0.0902, Validation Loss: 0.6594, Validation Accuracy: 0.8819, Precision: 0.7589, recall: 0.7109, F1: 0.7165, AUC: 0.9894, AUPR: 0.9738\n"
     ]
    },
    {
     "name": "stderr",
     "output_type": "stream",
     "text": [
      " 46%|████▌     | 23/50 [08:35<10:02, 22.32s/it]"
     ]
    },
    {
     "name": "stdout",
     "output_type": "stream",
     "text": [
      "2024-04-23 21:45:52,987 - CNN-DDI - \u001b[0;32mINFO\u001b[0m - Epoch 24, Train Loss: 0.2223, Validation Loss: 1.1524, Validation Accuracy: 0.8692, Precision: 0.7290, recall: 0.7256, F1: 0.7082, AUC: 0.9857, AUPR: 0.9635\n"
     ]
    },
    {
     "name": "stderr",
     "output_type": "stream",
     "text": [
      " 48%|████▊     | 24/50 [08:57<09:39, 22.30s/it]"
     ]
    },
    {
     "name": "stdout",
     "output_type": "stream",
     "text": [
      "2024-04-23 21:46:15,001 - CNN-DDI - \u001b[0;32mINFO\u001b[0m - Epoch 25, Train Loss: 0.1058, Validation Loss: 0.7964, Validation Accuracy: 0.8874, Precision: 0.7781, recall: 0.6979, F1: 0.7179, AUC: 0.9888, AUPR: 0.9694\n"
     ]
    },
    {
     "name": "stderr",
     "output_type": "stream",
     "text": [
      " 50%|█████     | 25/50 [09:19<09:15, 22.21s/it]"
     ]
    },
    {
     "name": "stdout",
     "output_type": "stream",
     "text": [
      "2024-04-23 21:46:37,187 - CNN-DDI - \u001b[0;32mINFO\u001b[0m - Epoch 26, Train Loss: 0.1725, Validation Loss: 1.6197, Validation Accuracy: 0.8260, Precision: 0.6891, recall: 0.6540, F1: 0.6380, AUC: 0.9821, AUPR: 0.9407\n"
     ]
    },
    {
     "name": "stderr",
     "output_type": "stream",
     "text": [
      " 52%|█████▏    | 26/50 [09:41<08:52, 22.20s/it]"
     ]
    },
    {
     "name": "stdout",
     "output_type": "stream",
     "text": [
      "2024-04-23 21:46:59,557 - CNN-DDI - \u001b[0;32mINFO\u001b[0m - Epoch 27, Train Loss: 0.1549, Validation Loss: 0.4688, Validation Accuracy: 0.8998, Precision: 0.7919, recall: 0.7679, F1: 0.7686, AUC: 0.9910, AUPR: 0.9775\n"
     ]
    },
    {
     "name": "stderr",
     "output_type": "stream",
     "text": [
      " 54%|█████▍    | 27/50 [10:04<08:31, 22.25s/it]"
     ]
    },
    {
     "name": "stdout",
     "output_type": "stream",
     "text": [
      "2024-04-23 21:47:21,667 - CNN-DDI - \u001b[0;32mINFO\u001b[0m - Epoch 28, Train Loss: 0.5325, Validation Loss: 2.0171, Validation Accuracy: 0.8415, Precision: 0.7266, recall: 0.7278, F1: 0.7026, AUC: 0.9803, AUPR: 0.9462\n"
     ]
    },
    {
     "name": "stderr",
     "output_type": "stream",
     "text": [
      " 56%|█████▌    | 28/50 [10:26<08:08, 22.21s/it]"
     ]
    },
    {
     "name": "stdout",
     "output_type": "stream",
     "text": [
      "2024-04-23 21:47:43,920 - CNN-DDI - \u001b[0;32mINFO\u001b[0m - Epoch 29, Train Loss: 0.1472, Validation Loss: 0.6634, Validation Accuracy: 0.8869, Precision: 0.7876, recall: 0.7836, F1: 0.7739, AUC: 0.9901, AUPR: 0.9733\n"
     ]
    },
    {
     "name": "stderr",
     "output_type": "stream",
     "text": [
      " 58%|█████▊    | 29/50 [10:48<07:46, 22.22s/it]"
     ]
    },
    {
     "name": "stdout",
     "output_type": "stream",
     "text": [
      "2024-04-23 21:48:06,714 - CNN-DDI - \u001b[0;32mINFO\u001b[0m - Epoch 30, Train Loss: 0.0504, Validation Loss: 0.6972, Validation Accuracy: 0.8957, Precision: 0.8115, recall: 0.7692, F1: 0.7781, AUC: 0.9888, AUPR: 0.9728\n"
     ]
    },
    {
     "name": "stderr",
     "output_type": "stream",
     "text": [
      " 60%|██████    | 30/50 [11:12<07:33, 22.68s/it]"
     ]
    },
    {
     "name": "stdout",
     "output_type": "stream",
     "text": [
      "Saved checkpoint: checkpoints/cnn_ddi_epoch_CNNDDI_no_residual_30.pt\n",
      "2024-04-23 21:48:30,351 - CNN-DDI - \u001b[0;32mINFO\u001b[0m - Epoch 31, Train Loss: 0.1889, Validation Loss: 1.2593, Validation Accuracy: 0.8376, Precision: 0.7489, recall: 0.6728, F1: 0.6886, AUC: 0.9808, AUPR: 0.9450\n"
     ]
    },
    {
     "name": "stderr",
     "output_type": "stream",
     "text": [
      " 62%|██████▏   | 31/50 [11:35<07:10, 22.68s/it]"
     ]
    },
    {
     "name": "stdout",
     "output_type": "stream",
     "text": [
      "2024-04-23 21:48:53,102 - CNN-DDI - \u001b[0;32mINFO\u001b[0m - Epoch 32, Train Loss: 0.1188, Validation Loss: 0.6050, Validation Accuracy: 0.8919, Precision: 0.8210, recall: 0.8065, F1: 0.7990, AUC: 0.9909, AUPR: 0.9740\n"
     ]
    },
    {
     "name": "stderr",
     "output_type": "stream",
     "text": [
      " 64%|██████▍   | 32/50 [11:57<06:48, 22.70s/it]"
     ]
    },
    {
     "name": "stdout",
     "output_type": "stream",
     "text": [
      "2024-04-23 21:49:15,952 - CNN-DDI - \u001b[0;32mINFO\u001b[0m - Epoch 33, Train Loss: 0.1651, Validation Loss: 0.8596, Validation Accuracy: 0.8741, Precision: 0.7582, recall: 0.7245, F1: 0.7100, AUC: 0.9882, AUPR: 0.9698\n"
     ]
    },
    {
     "name": "stderr",
     "output_type": "stream",
     "text": [
      " 66%|██████▌   | 33/50 [12:20<06:26, 22.75s/it]"
     ]
    },
    {
     "name": "stdout",
     "output_type": "stream",
     "text": [
      "2024-04-23 21:49:38,293 - CNN-DDI - \u001b[0;32mINFO\u001b[0m - Epoch 34, Train Loss: 0.1261, Validation Loss: 0.8566, Validation Accuracy: 0.8642, Precision: 0.7411, recall: 0.8188, F1: 0.7534, AUC: 0.9854, AUPR: 0.9654\n"
     ]
    },
    {
     "name": "stderr",
     "output_type": "stream",
     "text": [
      " 68%|██████▊   | 34/50 [12:43<06:02, 22.63s/it]"
     ]
    },
    {
     "name": "stdout",
     "output_type": "stream",
     "text": [
      "2024-04-23 21:50:00,446 - CNN-DDI - \u001b[0;32mINFO\u001b[0m - Epoch 35, Train Loss: 0.1457, Validation Loss: 1.0350, Validation Accuracy: 0.8646, Precision: 0.7317, recall: 0.7867, F1: 0.7360, AUC: 0.9871, AUPR: 0.9676\n"
     ]
    },
    {
     "name": "stderr",
     "output_type": "stream",
     "text": [
      " 70%|███████   | 35/50 [13:05<05:37, 22.48s/it]"
     ]
    },
    {
     "name": "stdout",
     "output_type": "stream",
     "text": [
      "2024-04-23 21:50:22,596 - CNN-DDI - \u001b[0;32mINFO\u001b[0m - Epoch 36, Train Loss: 0.1874, Validation Loss: 0.6022, Validation Accuracy: 0.8957, Precision: 0.8104, recall: 0.7683, F1: 0.7792, AUC: 0.9902, AUPR: 0.9725\n"
     ]
    },
    {
     "name": "stderr",
     "output_type": "stream",
     "text": [
      " 72%|███████▏  | 36/50 [13:27<05:13, 22.38s/it]"
     ]
    },
    {
     "name": "stdout",
     "output_type": "stream",
     "text": [
      "2024-04-23 21:50:44,786 - CNN-DDI - \u001b[0;32mINFO\u001b[0m - Epoch 37, Train Loss: 0.1014, Validation Loss: 1.2337, Validation Accuracy: 0.8631, Precision: 0.8164, recall: 0.7209, F1: 0.7409, AUC: 0.9869, AUPR: 0.9663\n"
     ]
    },
    {
     "name": "stderr",
     "output_type": "stream",
     "text": [
      " 74%|███████▍  | 37/50 [13:49<04:50, 22.33s/it]"
     ]
    },
    {
     "name": "stdout",
     "output_type": "stream",
     "text": [
      "2024-04-23 21:51:07,554 - CNN-DDI - \u001b[0;32mINFO\u001b[0m - Epoch 38, Train Loss: 0.1463, Validation Loss: 0.9062, Validation Accuracy: 0.8902, Precision: 0.7704, recall: 0.7827, F1: 0.7606, AUC: 0.9890, AUPR: 0.9702\n"
     ]
    },
    {
     "name": "stderr",
     "output_type": "stream",
     "text": [
      " 76%|███████▌  | 38/50 [14:12<04:29, 22.46s/it]"
     ]
    },
    {
     "name": "stdout",
     "output_type": "stream",
     "text": [
      "2024-04-23 21:51:29,775 - CNN-DDI - \u001b[0;32mINFO\u001b[0m - Epoch 39, Train Loss: 0.2453, Validation Loss: 1.2835, Validation Accuracy: 0.8802, Precision: 0.7734, recall: 0.7095, F1: 0.7199, AUC: 0.9871, AUPR: 0.9630\n"
     ]
    },
    {
     "name": "stderr",
     "output_type": "stream",
     "text": [
      " 78%|███████▊  | 39/50 [14:34<04:06, 22.39s/it]"
     ]
    },
    {
     "name": "stdout",
     "output_type": "stream",
     "text": [
      "2024-04-23 21:51:51,927 - CNN-DDI - \u001b[0;32mINFO\u001b[0m - Epoch 40, Train Loss: 0.0964, Validation Loss: 0.8464, Validation Accuracy: 0.8941, Precision: 0.8395, recall: 0.7571, F1: 0.7819, AUC: 0.9912, AUPR: 0.9724\n"
     ]
    },
    {
     "name": "stderr",
     "output_type": "stream",
     "text": [
      " 80%|████████  | 40/50 [14:57<03:45, 22.60s/it]"
     ]
    },
    {
     "name": "stdout",
     "output_type": "stream",
     "text": [
      "Saved checkpoint: checkpoints/cnn_ddi_epoch_CNNDDI_no_residual_40.pt\n",
      "2024-04-23 21:52:15,038 - CNN-DDI - \u001b[0;32mINFO\u001b[0m - Epoch 41, Train Loss: 0.2273, Validation Loss: 1.0764, Validation Accuracy: 0.8806, Precision: 0.7798, recall: 0.8055, F1: 0.7762, AUC: 0.9877, AUPR: 0.9654\n"
     ]
    },
    {
     "name": "stderr",
     "output_type": "stream",
     "text": [
      " 82%|████████▏ | 41/50 [15:19<03:22, 22.47s/it]"
     ]
    },
    {
     "name": "stdout",
     "output_type": "stream",
     "text": [
      "2024-04-23 21:52:37,261 - CNN-DDI - \u001b[0;32mINFO\u001b[0m - Epoch 42, Train Loss: 0.0813, Validation Loss: 1.0600, Validation Accuracy: 0.8886, Precision: 0.7762, recall: 0.8220, F1: 0.7872, AUC: 0.9885, AUPR: 0.9657\n"
     ]
    },
    {
     "name": "stderr",
     "output_type": "stream",
     "text": [
      " 84%|████████▍ | 42/50 [15:42<02:59, 22.40s/it]"
     ]
    },
    {
     "name": "stdout",
     "output_type": "stream",
     "text": [
      "2024-04-23 21:52:59,485 - CNN-DDI - \u001b[0;32mINFO\u001b[0m - Epoch 43, Train Loss: 0.4847, Validation Loss: 1.7683, Validation Accuracy: 0.8740, Precision: 0.7448, recall: 0.6575, F1: 0.6758, AUC: 0.9859, AUPR: 0.9527\n"
     ]
    },
    {
     "name": "stderr",
     "output_type": "stream",
     "text": [
      " 86%|████████▌ | 43/50 [16:04<02:36, 22.34s/it]"
     ]
    },
    {
     "name": "stdout",
     "output_type": "stream",
     "text": [
      "2024-04-23 21:53:21,731 - CNN-DDI - \u001b[0;32mINFO\u001b[0m - Epoch 44, Train Loss: 0.1220, Validation Loss: 1.1681, Validation Accuracy: 0.8983, Precision: 0.7993, recall: 0.7996, F1: 0.7930, AUC: 0.9904, AUPR: 0.9712\n"
     ]
    },
    {
     "name": "stderr",
     "output_type": "stream",
     "text": [
      " 88%|████████▊ | 44/50 [16:26<02:13, 22.31s/it]"
     ]
    },
    {
     "name": "stdout",
     "output_type": "stream",
     "text": [
      "2024-04-23 21:53:44,112 - CNN-DDI - \u001b[0;32mINFO\u001b[0m - Epoch 45, Train Loss: 0.1078, Validation Loss: 1.4294, Validation Accuracy: 0.8795, Precision: 0.8020, recall: 0.7549, F1: 0.7628, AUC: 0.9875, AUPR: 0.9570\n"
     ]
    },
    {
     "name": "stderr",
     "output_type": "stream",
     "text": [
      " 90%|█████████ | 45/50 [16:48<01:51, 22.33s/it]"
     ]
    },
    {
     "name": "stdout",
     "output_type": "stream",
     "text": [
      "2024-04-23 21:54:06,178 - CNN-DDI - \u001b[0;32mINFO\u001b[0m - Epoch 46, Train Loss: 0.1753, Validation Loss: 1.5843, Validation Accuracy: 0.8953, Precision: 0.8244, recall: 0.7821, F1: 0.7938, AUC: 0.9896, AUPR: 0.9644\n"
     ]
    },
    {
     "name": "stderr",
     "output_type": "stream",
     "text": [
      " 92%|█████████▏| 46/50 [17:10<01:29, 22.25s/it]"
     ]
    },
    {
     "name": "stdout",
     "output_type": "stream",
     "text": [
      "2024-04-23 21:54:28,313 - CNN-DDI - \u001b[0;32mINFO\u001b[0m - Epoch 47, Train Loss: 0.1125, Validation Loss: 1.8921, Validation Accuracy: 0.8605, Precision: 0.7891, recall: 0.6460, F1: 0.6915, AUC: 0.9869, AUPR: 0.9601\n"
     ]
    },
    {
     "name": "stderr",
     "output_type": "stream",
     "text": [
      " 94%|█████████▍| 47/50 [17:33<01:06, 22.22s/it]"
     ]
    },
    {
     "name": "stdout",
     "output_type": "stream",
     "text": [
      "2024-04-23 21:54:50,430 - CNN-DDI - \u001b[0;32mINFO\u001b[0m - Epoch 48, Train Loss: 0.3676, Validation Loss: 1.6295, Validation Accuracy: 0.8911, Precision: 0.7889, recall: 0.7678, F1: 0.7620, AUC: 0.9884, AUPR: 0.9631\n"
     ]
    },
    {
     "name": "stderr",
     "output_type": "stream",
     "text": [
      " 96%|█████████▌| 48/50 [17:55<00:44, 22.19s/it]"
     ]
    },
    {
     "name": "stdout",
     "output_type": "stream",
     "text": [
      "2024-04-23 21:55:12,674 - CNN-DDI - \u001b[0;32mINFO\u001b[0m - Epoch 49, Train Loss: 0.0930, Validation Loss: 1.1936, Validation Accuracy: 0.8984, Precision: 0.7890, recall: 0.7510, F1: 0.7549, AUC: 0.9896, AUPR: 0.9694\n"
     ]
    },
    {
     "name": "stderr",
     "output_type": "stream",
     "text": [
      " 98%|█████████▊| 49/50 [18:17<00:22, 22.20s/it]"
     ]
    },
    {
     "name": "stdout",
     "output_type": "stream",
     "text": [
      "2024-04-23 21:55:34,991 - CNN-DDI - \u001b[0;32mINFO\u001b[0m - Epoch 50, Train Loss: 0.1224, Validation Loss: 1.8495, Validation Accuracy: 0.8927, Precision: 0.7886, recall: 0.7322, F1: 0.7494, AUC: 0.9887, AUPR: 0.9662\n"
     ]
    },
    {
     "name": "stderr",
     "output_type": "stream",
     "text": [
      "100%|██████████| 50/50 [18:40<00:00, 22.41s/it]"
     ]
    },
    {
     "name": "stdout",
     "output_type": "stream",
     "text": [
      "Saved checkpoint: checkpoints/cnn_ddi_epoch_CNNDDI_no_residual_50.pt\n",
      "2024-04-23 21:55:35,919 - CNN-DDI - \u001b[0;32mINFO\u001b[0m - Model Arch: CNNDDI\n"
     ]
    },
    {
     "name": "stderr",
     "output_type": "stream",
     "text": [
      "\n",
      "/tmp/ipykernel_235039/3982585584.py:3: UserWarning: To copy construct from a tensor, it is recommended to use sourceTensor.clone().detach() or sourceTensor.clone().detach().requires_grad_(True), rather than torch.tensor(sourceTensor).\n",
      "  self.features = torch.tensor(features, dtype=torch.float32)\n",
      "  0%|          | 0/50 [00:00<?, ?it/s]"
     ]
    },
    {
     "name": "stdout",
     "output_type": "stream",
     "text": [
      "2024-04-23 21:56:00,702 - CNN-DDI - \u001b[0;32mINFO\u001b[0m - Epoch 1, Train Loss: 0.8252, Validation Loss: 0.3834, Validation Accuracy: 0.7875, Precision: 0.5622, recall: 0.4995, F1: 0.4972, AUC: 0.9636, AUPR: 0.9047\n"
     ]
    },
    {
     "name": "stderr",
     "output_type": "stream",
     "text": [
      "  2%|▏         | 1/50 [00:22<18:26, 22.58s/it]"
     ]
    },
    {
     "name": "stdout",
     "output_type": "stream",
     "text": [
      "2024-04-23 21:56:23,334 - CNN-DDI - \u001b[0;32mINFO\u001b[0m - Epoch 2, Train Loss: 0.2786, Validation Loss: 0.2804, Validation Accuracy: 0.8199, Precision: 0.7110, recall: 0.6318, F1: 0.6292, AUC: 0.9758, AUPR: 0.9407\n"
     ]
    },
    {
     "name": "stderr",
     "output_type": "stream",
     "text": [
      "  4%|▍         | 2/50 [00:45<18:05, 22.61s/it]"
     ]
    },
    {
     "name": "stdout",
     "output_type": "stream",
     "text": [
      "2024-04-23 21:56:45,917 - CNN-DDI - \u001b[0;32mINFO\u001b[0m - Epoch 3, Train Loss: 0.2097, Validation Loss: 0.3077, Validation Accuracy: 0.8185, Precision: 0.6837, recall: 0.8084, F1: 0.7209, AUC: 0.9751, AUPR: 0.9402\n"
     ]
    },
    {
     "name": "stderr",
     "output_type": "stream",
     "text": [
      "  6%|▌         | 3/50 [01:07<17:42, 22.60s/it]"
     ]
    },
    {
     "name": "stdout",
     "output_type": "stream",
     "text": [
      "2024-04-23 21:57:08,767 - CNN-DDI - \u001b[0;32mINFO\u001b[0m - Epoch 4, Train Loss: 0.1699, Validation Loss: 0.2526, Validation Accuracy: 0.8430, Precision: 0.7909, recall: 0.6988, F1: 0.7146, AUC: 0.9835, AUPR: 0.9606\n"
     ]
    },
    {
     "name": "stderr",
     "output_type": "stream",
     "text": [
      "  8%|▊         | 4/50 [01:30<17:24, 22.70s/it]"
     ]
    },
    {
     "name": "stdout",
     "output_type": "stream",
     "text": [
      "2024-04-23 21:57:31,814 - CNN-DDI - \u001b[0;32mINFO\u001b[0m - Epoch 5, Train Loss: 0.1618, Validation Loss: 0.3064, Validation Accuracy: 0.8440, Precision: 0.7409, recall: 0.6310, F1: 0.6526, AUC: 0.9792, AUPR: 0.9476\n"
     ]
    },
    {
     "name": "stderr",
     "output_type": "stream",
     "text": [
      " 10%|█         | 5/50 [01:53<17:07, 22.82s/it]"
     ]
    },
    {
     "name": "stdout",
     "output_type": "stream",
     "text": [
      "2024-04-23 21:57:54,752 - CNN-DDI - \u001b[0;32mINFO\u001b[0m - Epoch 6, Train Loss: 0.1436, Validation Loss: 0.2753, Validation Accuracy: 0.8571, Precision: 0.7225, recall: 0.6966, F1: 0.6982, AUC: 0.9853, AUPR: 0.9649\n"
     ]
    },
    {
     "name": "stderr",
     "output_type": "stream",
     "text": [
      " 12%|█▏        | 6/50 [02:16<16:45, 22.86s/it]"
     ]
    },
    {
     "name": "stdout",
     "output_type": "stream",
     "text": [
      "2024-04-23 21:58:17,032 - CNN-DDI - \u001b[0;32mINFO\u001b[0m - Epoch 7, Train Loss: 0.1424, Validation Loss: 0.2382, Validation Accuracy: 0.8601, Precision: 0.7608, recall: 0.6437, F1: 0.6609, AUC: 0.9847, AUPR: 0.9591\n"
     ]
    },
    {
     "name": "stderr",
     "output_type": "stream",
     "text": [
      " 14%|█▍        | 7/50 [02:38<16:14, 22.67s/it]"
     ]
    },
    {
     "name": "stdout",
     "output_type": "stream",
     "text": [
      "2024-04-23 21:58:39,459 - CNN-DDI - \u001b[0;32mINFO\u001b[0m - Epoch 8, Train Loss: 0.1051, Validation Loss: 0.2913, Validation Accuracy: 0.8499, Precision: 0.7688, recall: 0.7056, F1: 0.7162, AUC: 0.9866, AUPR: 0.9646\n"
     ]
    },
    {
     "name": "stderr",
     "output_type": "stream",
     "text": [
      " 16%|█▌        | 8/50 [03:01<15:48, 22.59s/it]"
     ]
    },
    {
     "name": "stdout",
     "output_type": "stream",
     "text": [
      "2024-04-23 21:59:02,158 - CNN-DDI - \u001b[0;32mINFO\u001b[0m - Epoch 9, Train Loss: 0.1518, Validation Loss: 0.4587, Validation Accuracy: 0.8363, Precision: 0.7299, recall: 0.7748, F1: 0.7233, AUC: 0.9811, AUPR: 0.9537\n"
     ]
    },
    {
     "name": "stderr",
     "output_type": "stream",
     "text": [
      " 18%|█▊        | 9/50 [03:24<15:27, 22.63s/it]"
     ]
    },
    {
     "name": "stdout",
     "output_type": "stream",
     "text": [
      "2024-04-23 21:59:24,379 - CNN-DDI - \u001b[0;32mINFO\u001b[0m - Epoch 10, Train Loss: 0.1037, Validation Loss: 0.2373, Validation Accuracy: 0.8736, Precision: 0.7268, recall: 0.7148, F1: 0.7031, AUC: 0.9881, AUPR: 0.9684\n"
     ]
    },
    {
     "name": "stderr",
     "output_type": "stream",
     "text": [
      " 20%|██        | 10/50 [03:46<15:00, 22.50s/it]"
     ]
    },
    {
     "name": "stdout",
     "output_type": "stream",
     "text": [
      "2024-04-23 21:59:46,580 - CNN-DDI - \u001b[0;32mINFO\u001b[0m - Epoch 11, Train Loss: 0.1428, Validation Loss: 0.2749, Validation Accuracy: 0.8715, Precision: 0.7946, recall: 0.7518, F1: 0.7544, AUC: 0.9865, AUPR: 0.9672\n"
     ]
    },
    {
     "name": "stderr",
     "output_type": "stream",
     "text": [
      " 22%|██▏       | 11/50 [04:08<14:33, 22.41s/it]"
     ]
    },
    {
     "name": "stdout",
     "output_type": "stream",
     "text": [
      "2024-04-23 22:00:08,891 - CNN-DDI - \u001b[0;32mINFO\u001b[0m - Epoch 12, Train Loss: 0.0829, Validation Loss: 0.2941, Validation Accuracy: 0.8885, Precision: 0.7976, recall: 0.7871, F1: 0.7739, AUC: 0.9895, AUPR: 0.9740\n"
     ]
    },
    {
     "name": "stderr",
     "output_type": "stream",
     "text": [
      " 24%|██▍       | 12/50 [04:30<14:10, 22.38s/it]"
     ]
    },
    {
     "name": "stdout",
     "output_type": "stream",
     "text": [
      "2024-04-23 22:00:31,745 - CNN-DDI - \u001b[0;32mINFO\u001b[0m - Epoch 13, Train Loss: 0.1132, Validation Loss: 0.4287, Validation Accuracy: 0.8319, Precision: 0.7029, recall: 0.6976, F1: 0.6695, AUC: 0.9794, AUPR: 0.9518\n"
     ]
    },
    {
     "name": "stderr",
     "output_type": "stream",
     "text": [
      " 26%|██▌       | 13/50 [04:53<13:53, 22.52s/it]"
     ]
    },
    {
     "name": "stdout",
     "output_type": "stream",
     "text": [
      "2024-04-23 22:00:53,935 - CNN-DDI - \u001b[0;32mINFO\u001b[0m - Epoch 14, Train Loss: 0.1991, Validation Loss: 0.2422, Validation Accuracy: 0.8947, Precision: 0.7947, recall: 0.7770, F1: 0.7771, AUC: 0.9904, AUPR: 0.9747\n"
     ]
    },
    {
     "name": "stderr",
     "output_type": "stream",
     "text": [
      " 28%|██▊       | 14/50 [05:15<13:27, 22.42s/it]"
     ]
    },
    {
     "name": "stdout",
     "output_type": "stream",
     "text": [
      "2024-04-23 22:01:16,177 - CNN-DDI - \u001b[0;32mINFO\u001b[0m - Epoch 15, Train Loss: 0.0476, Validation Loss: 0.3507, Validation Accuracy: 0.8909, Precision: 0.7735, recall: 0.7380, F1: 0.7419, AUC: 0.9883, AUPR: 0.9705\n"
     ]
    },
    {
     "name": "stderr",
     "output_type": "stream",
     "text": [
      " 30%|███       | 15/50 [05:38<13:02, 22.37s/it]"
     ]
    },
    {
     "name": "stdout",
     "output_type": "stream",
     "text": [
      "2024-04-23 22:01:38,610 - CNN-DDI - \u001b[0;32mINFO\u001b[0m - Epoch 16, Train Loss: 0.1456, Validation Loss: 0.4971, Validation Accuracy: 0.8646, Precision: 0.7464, recall: 0.6771, F1: 0.6913, AUC: 0.9865, AUPR: 0.9648\n"
     ]
    },
    {
     "name": "stderr",
     "output_type": "stream",
     "text": [
      " 32%|███▏      | 16/50 [06:00<12:41, 22.39s/it]"
     ]
    },
    {
     "name": "stdout",
     "output_type": "stream",
     "text": [
      "2024-04-23 22:02:00,729 - CNN-DDI - \u001b[0;32mINFO\u001b[0m - Epoch 17, Train Loss: 0.0845, Validation Loss: 0.3197, Validation Accuracy: 0.8961, Precision: 0.8260, recall: 0.7264, F1: 0.7605, AUC: 0.9915, AUPR: 0.9773\n"
     ]
    },
    {
     "name": "stderr",
     "output_type": "stream",
     "text": [
      " 34%|███▍      | 17/50 [06:22<12:16, 22.31s/it]"
     ]
    },
    {
     "name": "stdout",
     "output_type": "stream",
     "text": [
      "2024-04-23 22:02:22,972 - CNN-DDI - \u001b[0;32mINFO\u001b[0m - Epoch 18, Train Loss: 0.3081, Validation Loss: 0.4815, Validation Accuracy: 0.8822, Precision: 0.7638, recall: 0.7456, F1: 0.7388, AUC: 0.9886, AUPR: 0.9705\n"
     ]
    },
    {
     "name": "stderr",
     "output_type": "stream",
     "text": [
      " 36%|███▌      | 18/50 [06:44<11:53, 22.29s/it]"
     ]
    },
    {
     "name": "stdout",
     "output_type": "stream",
     "text": [
      "2024-04-23 22:02:45,211 - CNN-DDI - \u001b[0;32mINFO\u001b[0m - Epoch 19, Train Loss: 0.0591, Validation Loss: 0.3286, Validation Accuracy: 0.9018, Precision: 0.8507, recall: 0.7721, F1: 0.7960, AUC: 0.9918, AUPR: 0.9782\n"
     ]
    },
    {
     "name": "stderr",
     "output_type": "stream",
     "text": [
      " 38%|███▊      | 19/50 [07:07<11:30, 22.27s/it]"
     ]
    },
    {
     "name": "stdout",
     "output_type": "stream",
     "text": [
      "2024-04-23 22:03:07,447 - CNN-DDI - \u001b[0;32mINFO\u001b[0m - Epoch 20, Train Loss: 0.0446, Validation Loss: 0.6651, Validation Accuracy: 0.8602, Precision: 0.7832, recall: 0.7571, F1: 0.7422, AUC: 0.9859, AUPR: 0.9629\n"
     ]
    },
    {
     "name": "stderr",
     "output_type": "stream",
     "text": [
      " 40%|████      | 20/50 [07:29<11:07, 22.26s/it]"
     ]
    },
    {
     "name": "stdout",
     "output_type": "stream",
     "text": [
      "2024-04-23 22:03:30,015 - CNN-DDI - \u001b[0;32mINFO\u001b[0m - Epoch 21, Train Loss: 0.1617, Validation Loss: 0.4553, Validation Accuracy: 0.8911, Precision: 0.8190, recall: 0.7783, F1: 0.7832, AUC: 0.9909, AUPR: 0.9765\n"
     ]
    },
    {
     "name": "stderr",
     "output_type": "stream",
     "text": [
      " 42%|████▏     | 21/50 [07:51<10:48, 22.35s/it]"
     ]
    },
    {
     "name": "stdout",
     "output_type": "stream",
     "text": [
      "2024-04-23 22:03:52,528 - CNN-DDI - \u001b[0;32mINFO\u001b[0m - Epoch 22, Train Loss: 0.0514, Validation Loss: 0.4601, Validation Accuracy: 0.8849, Precision: 0.7557, recall: 0.7114, F1: 0.7149, AUC: 0.9898, AUPR: 0.9749\n"
     ]
    },
    {
     "name": "stderr",
     "output_type": "stream",
     "text": [
      " 44%|████▍     | 22/50 [08:14<10:27, 22.40s/it]"
     ]
    },
    {
     "name": "stdout",
     "output_type": "stream",
     "text": [
      "2024-04-23 22:04:15,309 - CNN-DDI - \u001b[0;32mINFO\u001b[0m - Epoch 23, Train Loss: 0.6402, Validation Loss: 0.9412, Validation Accuracy: 0.8676, Precision: 0.7896, recall: 0.7178, F1: 0.7359, AUC: 0.9871, AUPR: 0.9658\n"
     ]
    },
    {
     "name": "stderr",
     "output_type": "stream",
     "text": [
      " 46%|████▌     | 23/50 [08:37<10:07, 22.52s/it]"
     ]
    },
    {
     "name": "stdout",
     "output_type": "stream",
     "text": [
      "2024-04-23 22:04:37,908 - CNN-DDI - \u001b[0;32mINFO\u001b[0m - Epoch 24, Train Loss: 0.0787, Validation Loss: 0.6649, Validation Accuracy: 0.8894, Precision: 0.7894, recall: 0.7493, F1: 0.7577, AUC: 0.9902, AUPR: 0.9756\n"
     ]
    },
    {
     "name": "stderr",
     "output_type": "stream",
     "text": [
      " 48%|████▊     | 24/50 [08:59<09:46, 22.54s/it]"
     ]
    },
    {
     "name": "stdout",
     "output_type": "stream",
     "text": [
      "2024-04-23 22:05:00,295 - CNN-DDI - \u001b[0;32mINFO\u001b[0m - Epoch 25, Train Loss: 0.0567, Validation Loss: 0.6652, Validation Accuracy: 0.8813, Precision: 0.7860, recall: 0.7315, F1: 0.7509, AUC: 0.9888, AUPR: 0.9704\n"
     ]
    },
    {
     "name": "stderr",
     "output_type": "stream",
     "text": [
      " 50%|█████     | 25/50 [09:22<09:22, 22.49s/it]"
     ]
    },
    {
     "name": "stdout",
     "output_type": "stream",
     "text": [
      "2024-04-23 22:05:23,025 - CNN-DDI - \u001b[0;32mINFO\u001b[0m - Epoch 26, Train Loss: 0.1436, Validation Loss: 0.6866, Validation Accuracy: 0.8834, Precision: 0.7690, recall: 0.7591, F1: 0.7504, AUC: 0.9879, AUPR: 0.9712\n"
     ]
    },
    {
     "name": "stderr",
     "output_type": "stream",
     "text": [
      " 52%|█████▏    | 26/50 [09:44<09:01, 22.57s/it]"
     ]
    },
    {
     "name": "stdout",
     "output_type": "stream",
     "text": [
      "2024-04-23 22:05:45,361 - CNN-DDI - \u001b[0;32mINFO\u001b[0m - Epoch 27, Train Loss: 0.0702, Validation Loss: 0.7996, Validation Accuracy: 0.8866, Precision: 0.7757, recall: 0.7935, F1: 0.7693, AUC: 0.9885, AUPR: 0.9700\n"
     ]
    },
    {
     "name": "stderr",
     "output_type": "stream",
     "text": [
      " 54%|█████▍    | 27/50 [10:07<08:37, 22.50s/it]"
     ]
    },
    {
     "name": "stdout",
     "output_type": "stream",
     "text": [
      "2024-04-23 22:06:08,199 - CNN-DDI - \u001b[0;32mINFO\u001b[0m - Epoch 28, Train Loss: 0.1818, Validation Loss: 0.7890, Validation Accuracy: 0.8787, Precision: 0.8340, recall: 0.7054, F1: 0.7494, AUC: 0.9890, AUPR: 0.9708\n"
     ]
    },
    {
     "name": "stderr",
     "output_type": "stream",
     "text": [
      " 56%|█████▌    | 28/50 [10:30<08:17, 22.60s/it]"
     ]
    },
    {
     "name": "stdout",
     "output_type": "stream",
     "text": [
      "2024-04-23 22:06:30,716 - CNN-DDI - \u001b[0;32mINFO\u001b[0m - Epoch 29, Train Loss: 0.0899, Validation Loss: 1.0858, Validation Accuracy: 0.8690, Precision: 0.7489, recall: 0.7779, F1: 0.7350, AUC: 0.9860, AUPR: 0.9650\n"
     ]
    },
    {
     "name": "stderr",
     "output_type": "stream",
     "text": [
      " 58%|█████▊    | 29/50 [10:52<07:54, 22.57s/it]"
     ]
    },
    {
     "name": "stdout",
     "output_type": "stream",
     "text": [
      "2024-04-23 22:06:53,224 - CNN-DDI - \u001b[0;32mINFO\u001b[0m - Epoch 30, Train Loss: 0.1920, Validation Loss: 0.7896, Validation Accuracy: 0.8866, Precision: 0.7835, recall: 0.6883, F1: 0.7186, AUC: 0.9887, AUPR: 0.9694\n"
     ]
    },
    {
     "name": "stderr",
     "output_type": "stream",
     "text": [
      " 60%|██████    | 30/50 [11:15<07:31, 22.55s/it]"
     ]
    },
    {
     "name": "stdout",
     "output_type": "stream",
     "text": [
      "2024-04-23 22:07:15,913 - CNN-DDI - \u001b[0;32mINFO\u001b[0m - Epoch 31, Train Loss: 0.0735, Validation Loss: 1.5651, Validation Accuracy: 0.8733, Precision: 0.7346, recall: 0.6976, F1: 0.6924, AUC: 0.9877, AUPR: 0.9643\n"
     ]
    },
    {
     "name": "stderr",
     "output_type": "stream",
     "text": [
      " 62%|██████▏   | 31/50 [11:37<07:09, 22.59s/it]"
     ]
    },
    {
     "name": "stdout",
     "output_type": "stream",
     "text": [
      "2024-04-23 22:07:38,651 - CNN-DDI - \u001b[0;32mINFO\u001b[0m - Epoch 32, Train Loss: 0.1972, Validation Loss: 0.7404, Validation Accuracy: 0.8984, Precision: 0.8218, recall: 0.7969, F1: 0.7938, AUC: 0.9905, AUPR: 0.9751\n"
     ]
    },
    {
     "name": "stderr",
     "output_type": "stream",
     "text": [
      " 64%|██████▍   | 32/50 [12:00<06:47, 22.64s/it]"
     ]
    },
    {
     "name": "stdout",
     "output_type": "stream",
     "text": [
      "2024-04-23 22:08:01,433 - CNN-DDI - \u001b[0;32mINFO\u001b[0m - Epoch 33, Train Loss: 0.1191, Validation Loss: 1.4041, Validation Accuracy: 0.8727, Precision: 0.7710, recall: 0.7201, F1: 0.7157, AUC: 0.9884, AUPR: 0.9689\n"
     ]
    },
    {
     "name": "stderr",
     "output_type": "stream",
     "text": [
      " 66%|██████▌   | 33/50 [12:23<06:25, 22.68s/it]"
     ]
    },
    {
     "name": "stdout",
     "output_type": "stream",
     "text": [
      "2024-04-23 22:08:24,210 - CNN-DDI - \u001b[0;32mINFO\u001b[0m - Epoch 34, Train Loss: 0.1518, Validation Loss: 1.3031, Validation Accuracy: 0.8861, Precision: 0.8018, recall: 0.7759, F1: 0.7663, AUC: 0.9878, AUPR: 0.9646\n"
     ]
    },
    {
     "name": "stderr",
     "output_type": "stream",
     "text": [
      " 68%|██████▊   | 34/50 [12:46<06:03, 22.71s/it]"
     ]
    },
    {
     "name": "stdout",
     "output_type": "stream",
     "text": [
      "2024-04-23 22:08:46,980 - CNN-DDI - \u001b[0;32mINFO\u001b[0m - Epoch 35, Train Loss: 0.1074, Validation Loss: 0.8790, Validation Accuracy: 0.8860, Precision: 0.8242, recall: 0.7888, F1: 0.7906, AUC: 0.9884, AUPR: 0.9666\n"
     ]
    },
    {
     "name": "stderr",
     "output_type": "stream",
     "text": [
      " 70%|███████   | 35/50 [13:08<05:40, 22.73s/it]"
     ]
    },
    {
     "name": "stdout",
     "output_type": "stream",
     "text": [
      "2024-04-23 22:09:09,680 - CNN-DDI - \u001b[0;32mINFO\u001b[0m - Epoch 36, Train Loss: 0.1934, Validation Loss: 1.2860, Validation Accuracy: 0.8870, Precision: 0.8059, recall: 0.8225, F1: 0.7847, AUC: 0.9886, AUPR: 0.9674\n"
     ]
    },
    {
     "name": "stderr",
     "output_type": "stream",
     "text": [
      " 72%|███████▏  | 36/50 [13:31<05:18, 22.72s/it]"
     ]
    },
    {
     "name": "stdout",
     "output_type": "stream",
     "text": [
      "2024-04-23 22:09:32,373 - CNN-DDI - \u001b[0;32mINFO\u001b[0m - Epoch 37, Train Loss: 0.1442, Validation Loss: 1.6921, Validation Accuracy: 0.8861, Precision: 0.8055, recall: 0.8146, F1: 0.7919, AUC: 0.9871, AUPR: 0.9570\n"
     ]
    },
    {
     "name": "stderr",
     "output_type": "stream",
     "text": [
      " 74%|███████▍  | 37/50 [13:54<04:55, 22.71s/it]"
     ]
    },
    {
     "name": "stdout",
     "output_type": "stream",
     "text": [
      "2024-04-23 22:09:55,166 - CNN-DDI - \u001b[0;32mINFO\u001b[0m - Epoch 38, Train Loss: 0.1179, Validation Loss: 1.8834, Validation Accuracy: 0.8794, Precision: 0.7932, recall: 0.7281, F1: 0.7444, AUC: 0.9872, AUPR: 0.9551\n"
     ]
    },
    {
     "name": "stderr",
     "output_type": "stream",
     "text": [
      " 76%|███████▌  | 38/50 [14:17<04:32, 22.74s/it]"
     ]
    },
    {
     "name": "stdout",
     "output_type": "stream",
     "text": [
      "2024-04-23 22:10:18,111 - CNN-DDI - \u001b[0;32mINFO\u001b[0m - Epoch 39, Train Loss: 0.2947, Validation Loss: 1.5196, Validation Accuracy: 0.8917, Precision: 0.7921, recall: 0.8184, F1: 0.7837, AUC: 0.9888, AUPR: 0.9638\n"
     ]
    },
    {
     "name": "stderr",
     "output_type": "stream",
     "text": [
      " 78%|███████▊  | 39/50 [14:39<04:10, 22.80s/it]"
     ]
    },
    {
     "name": "stdout",
     "output_type": "stream",
     "text": [
      "2024-04-23 22:10:40,745 - CNN-DDI - \u001b[0;32mINFO\u001b[0m - Epoch 40, Train Loss: 0.0927, Validation Loss: 1.8308, Validation Accuracy: 0.8869, Precision: 0.8678, recall: 0.7850, F1: 0.8127, AUC: 0.9855, AUPR: 0.9384\n"
     ]
    },
    {
     "name": "stderr",
     "output_type": "stream",
     "text": [
      " 80%|████████  | 40/50 [15:02<03:47, 22.75s/it]"
     ]
    },
    {
     "name": "stdout",
     "output_type": "stream",
     "text": [
      "2024-04-23 22:11:03,223 - CNN-DDI - \u001b[0;32mINFO\u001b[0m - Epoch 41, Train Loss: 0.2175, Validation Loss: 2.3922, Validation Accuracy: 0.8823, Precision: 0.8194, recall: 0.7231, F1: 0.7511, AUC: 0.9853, AUPR: 0.9412\n"
     ]
    },
    {
     "name": "stderr",
     "output_type": "stream",
     "text": [
      " 82%|████████▏ | 41/50 [15:25<03:24, 22.67s/it]"
     ]
    },
    {
     "name": "stdout",
     "output_type": "stream",
     "text": [
      "2024-04-23 22:11:25,938 - CNN-DDI - \u001b[0;32mINFO\u001b[0m - Epoch 42, Train Loss: 0.1699, Validation Loss: 1.6904, Validation Accuracy: 0.8826, Precision: 0.8372, recall: 0.7798, F1: 0.7967, AUC: 0.9889, AUPR: 0.9633\n"
     ]
    },
    {
     "name": "stderr",
     "output_type": "stream",
     "text": [
      " 84%|████████▍ | 42/50 [15:47<03:01, 22.68s/it]"
     ]
    },
    {
     "name": "stdout",
     "output_type": "stream",
     "text": [
      "2024-04-23 22:11:48,475 - CNN-DDI - \u001b[0;32mINFO\u001b[0m - Epoch 43, Train Loss: 0.1440, Validation Loss: 1.9836, Validation Accuracy: 0.8821, Precision: 0.7839, recall: 0.7984, F1: 0.7719, AUC: 0.9864, AUPR: 0.9485\n"
     ]
    },
    {
     "name": "stderr",
     "output_type": "stream",
     "text": [
      " 86%|████████▌ | 43/50 [16:10<02:38, 22.64s/it]"
     ]
    },
    {
     "name": "stdout",
     "output_type": "stream",
     "text": [
      "2024-04-23 22:12:11,075 - CNN-DDI - \u001b[0;32mINFO\u001b[0m - Epoch 44, Train Loss: 0.1578, Validation Loss: 2.3070, Validation Accuracy: 0.8877, Precision: 0.7775, recall: 0.7933, F1: 0.7610, AUC: 0.9882, AUPR: 0.9592\n"
     ]
    },
    {
     "name": "stderr",
     "output_type": "stream",
     "text": [
      " 88%|████████▊ | 44/50 [16:32<02:15, 22.63s/it]"
     ]
    },
    {
     "name": "stdout",
     "output_type": "stream",
     "text": [
      "2024-04-23 22:12:33,520 - CNN-DDI - \u001b[0;32mINFO\u001b[0m - Epoch 45, Train Loss: 1.0614, Validation Loss: 3.4409, Validation Accuracy: 0.8762, Precision: 0.7859, recall: 0.7846, F1: 0.7604, AUC: 0.9808, AUPR: 0.9281\n"
     ]
    },
    {
     "name": "stderr",
     "output_type": "stream",
     "text": [
      " 90%|█████████ | 45/50 [16:55<01:52, 22.57s/it]"
     ]
    },
    {
     "name": "stdout",
     "output_type": "stream",
     "text": [
      "2024-04-23 22:12:55,939 - CNN-DDI - \u001b[0;32mINFO\u001b[0m - Epoch 46, Train Loss: 0.1877, Validation Loss: 2.8070, Validation Accuracy: 0.9076, Precision: 0.8368, recall: 0.8300, F1: 0.8199, AUC: 0.9891, AUPR: 0.9582\n"
     ]
    },
    {
     "name": "stderr",
     "output_type": "stream",
     "text": [
      " 92%|█████████▏| 46/50 [17:17<01:30, 22.53s/it]"
     ]
    },
    {
     "name": "stdout",
     "output_type": "stream",
     "text": [
      "2024-04-23 22:13:18,802 - CNN-DDI - \u001b[0;32mINFO\u001b[0m - Epoch 47, Train Loss: 0.0919, Validation Loss: 3.9747, Validation Accuracy: 0.8980, Precision: 0.7751, recall: 0.8100, F1: 0.7735, AUC: 0.9842, AUPR: 0.9344\n"
     ]
    },
    {
     "name": "stderr",
     "output_type": "stream",
     "text": [
      " 94%|█████████▍| 47/50 [17:40<01:07, 22.63s/it]"
     ]
    },
    {
     "name": "stdout",
     "output_type": "stream",
     "text": [
      "2024-04-23 22:13:41,484 - CNN-DDI - \u001b[0;32mINFO\u001b[0m - Epoch 48, Train Loss: 0.2153, Validation Loss: 3.6465, Validation Accuracy: 0.8924, Precision: 0.7945, recall: 0.7959, F1: 0.7797, AUC: 0.9879, AUPR: 0.9542\n"
     ]
    },
    {
     "name": "stderr",
     "output_type": "stream",
     "text": [
      " 96%|█████████▌| 48/50 [18:03<00:45, 22.64s/it]"
     ]
    },
    {
     "name": "stdout",
     "output_type": "stream",
     "text": [
      "2024-04-23 22:14:04,182 - CNN-DDI - \u001b[0;32mINFO\u001b[0m - Epoch 49, Train Loss: 0.1857, Validation Loss: 4.2833, Validation Accuracy: 0.8888, Precision: 0.8004, recall: 0.7975, F1: 0.7799, AUC: 0.9860, AUPR: 0.9497\n"
     ]
    },
    {
     "name": "stderr",
     "output_type": "stream",
     "text": [
      " 98%|█████████▊| 49/50 [18:26<00:22, 22.66s/it]"
     ]
    },
    {
     "name": "stdout",
     "output_type": "stream",
     "text": [
      "2024-04-23 22:14:27,015 - CNN-DDI - \u001b[0;32mINFO\u001b[0m - Epoch 50, Train Loss: 0.2611, Validation Loss: 3.7770, Validation Accuracy: 0.8672, Precision: 0.7706, recall: 0.7461, F1: 0.7430, AUC: 0.9859, AUPR: 0.9477\n"
     ]
    },
    {
     "name": "stderr",
     "output_type": "stream",
     "text": [
      "100%|██████████| 50/50 [18:48<00:00, 22.58s/it]\n"
     ]
    }
   ],
   "source": [
    "batch_size = 32\n",
    "num_epochs = 50\n",
    "checkpoint_interval = 10\n",
    "device = torch.device(\"cuda\" if torch.cuda.is_available() else \"cpu\")\n",
    "for idx, model_class in enumerate([CNNDDI_no_residual, CNNDDI]):\n",
    "    model_class_str = \"CNNDDI\" if idx == 1 else \"CNNDDI_no_residual\"\n",
    "    logger.info(f\"Model Arch: {model_class_str}\")\n",
    "    new_feature, new_label, event_num = prepare(df_drug, feature_list, mechanism, action, drugA, drugB)\n",
    "    new_feature = torch.tensor(new_feature, dtype=torch.float32)\n",
    "    features_train, features_val, labels_train, labels_val = train_test_split(\n",
    "        new_feature, new_label, test_size=0.2, random_state=42\n",
    "    )\n",
    "\n",
    "    # Create dataset objects\n",
    "    train_dataset = DrugInteractionDataset(features_train, labels_train)\n",
    "    val_dataset = DrugInteractionDataset(features_val, labels_val)\n",
    "\n",
    "    # Create data loaders\n",
    "    train_loader = DataLoader(train_dataset, batch_size=batch_size, shuffle=True)\n",
    "    val_loader = DataLoader(val_dataset, batch_size=batch_size, shuffle=False)\n",
    "\n",
    "    model = model_class().to(device)\n",
    "    optimizer = optim.Adam(model.parameters(), lr=0.001)\n",
    "    criterion = focal_loss()\n",
    "\n",
    "    for epoch in tqdm(range(num_epochs)):\n",
    "        train_loss = train(model, device, train_loader, optimizer, criterion)\n",
    "        val_loss, val_accuracy, precision, recall, f1, roc_auc, aupr = validate(model, device, val_loader, criterion)\n",
    "        logger.info(f'Epoch {epoch+1}, Train Loss: {train_loss:.4f}, Validation Loss: {val_loss:.4f}, Validation Accuracy: {val_accuracy:.4f}, Precision: {precision:.4f}, recall: {recall:.4f}, F1: {f1:.4f}, AUC: {roc_auc:.4f}, AUPR: {aupr:.4f}')\n",
    "\n",
    "        if (epoch + 1) % checkpoint_interval == 0 or (epoch + 1) == num_epochs:\n",
    "            if idx == 0:\n",
    "                save_checkpoint(model, optimizer, epoch + 1, f'checkpoints/cnn_ddi_epoch_{model_class_str}_{epoch+1}.pt')\n"
   ]
  }
 ],
 "metadata": {
  "kernelspec": {
   "display_name": "base",
   "language": "python",
   "name": "python3"
  },
  "language_info": {
   "codemirror_mode": {
    "name": "ipython",
    "version": 3
   },
   "file_extension": ".py",
   "mimetype": "text/x-python",
   "name": "python",
   "nbconvert_exporter": "python",
   "pygments_lexer": "ipython3",
   "version": "3.11.5"
  }
 },
 "nbformat": 4,
 "nbformat_minor": 2
}
