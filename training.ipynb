{
 "cells": [
  {
   "cell_type": "code",
   "execution_count": 2,
   "metadata": {},
   "outputs": [
    {
     "name": "stdout",
     "output_type": "stream",
     "text": [
      "torch.Size([32, 65])\n"
     ]
    }
   ],
   "source": [
    "num_epochs = 10\n",
    "\n",
    "import torch\n",
    "import torch.nn as nn\n",
    "import torch.nn.functional as F\n",
    "\n",
    "class CNNDDI(nn.Module):\n",
    "    def __init__(self):\n",
    "        super(CNNDDI, self).__init__()\n",
    "        self.conv1 = nn.Conv2d(2, 64, (3, 1), padding=(1, 0))\n",
    "        self.conv2 = nn.Conv2d(64, 128, (3, 1), padding=(1, 0))\n",
    "        self.conv3_1 = nn.Conv2d(128, 128, (3, 1), padding=(1, 0))\n",
    "        self.conv3_2 = nn.Conv2d(128, 128, (3, 1), padding=(1, 0))\n",
    "        self.conv4 = nn.Conv2d(128, 256, (3, 1), padding=(1, 0))\n",
    "        self.fc1 = nn.Linear(256 * 572 * 4, 256)  # Adjust feature_size based on your input dimensions\n",
    "        self.fc2 = nn.Linear(256, 65)  # Assuming 65 DDI types\n",
    "\n",
    "    def forward(self, x):\n",
    "        x = F.leaky_relu(self.conv1(x))\n",
    "        x = F.leaky_relu(self.conv2(x))\n",
    "        identity = x\n",
    "        x = F.leaky_relu(self.conv3_1(x))\n",
    "        x = self.conv3_2(x)\n",
    "        x += identity\n",
    "        x = F.leaky_relu(x)\n",
    "        x = F.leaky_relu(self.conv4(x))\n",
    "        x = torch.flatten(x, 1)\n",
    "        x = F.leaky_relu(self.fc1(x))\n",
    "        x = self.fc2(x)\n",
    "        return F.softmax(x, dim=1)\n",
    "\n",
    "# Example training loop (simplified)\n",
    "model = CNNDDI()\n",
    "optimizer = torch.optim.Adam(model.parameters(), lr=0.001)\n",
    "criterion = nn.CrossEntropyLoss()\n",
    "\n",
    "for epoch in range(num_epochs):\n",
    "    for batch in train_loader:\n",
    "        inputs, labels = batch\n",
    "        optimizer.zero_grad()\n",
    "        outputs = model(inputs)\n",
    "        loss = criterion(outputs, labels)\n",
    "        loss.backward()\n",
    "        optimizer.step()\n"
   ]
  }
 ],
 "metadata": {
  "kernelspec": {
   "display_name": "base",
   "language": "python",
   "name": "python3"
  },
  "language_info": {
   "codemirror_mode": {
    "name": "ipython",
    "version": 3
   },
   "file_extension": ".py",
   "mimetype": "text/x-python",
   "name": "python",
   "nbconvert_exporter": "python",
   "pygments_lexer": "ipython3",
   "version": "3.11.5"
  }
 },
 "nbformat": 4,
 "nbformat_minor": 2
}
