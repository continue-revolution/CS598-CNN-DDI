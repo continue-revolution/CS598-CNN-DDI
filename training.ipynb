{
 "cells": [
  {
   "cell_type": "code",
   "execution_count": 1,
   "metadata": {},
   "outputs": [],
   "source": [
    "import numpy as np\n",
    "import pandas as pd\n",
    "from pandas import DataFrame\n",
    "import torch\n",
    "import torch.nn as nn\n",
    "import torch.nn.functional as F\n",
    "import torch.optim as optim\n",
    "from torch.utils.data import Dataset, DataLoader\n",
    "from sklearn.model_selection import train_test_split\n",
    "from sklearn.metrics import *\n",
    "from sklearn.preprocessing import label_binarize\n",
    "from tqdm import tqdm"
   ]
  },
  {
   "cell_type": "code",
   "execution_count": 2,
   "metadata": {},
   "outputs": [],
   "source": [
    "def feature_vector(feature_name, df, similarity='jaccard'):\n",
    "    def Jaccard(matrix):\n",
    "        matrix = np.mat(matrix)\n",
    "\n",
    "        numerator = matrix * matrix.T\n",
    "\n",
    "        denominator = (\n",
    "            np.ones(np.shape(matrix)) * matrix.T\n",
    "            + matrix * np.ones(np.shape(matrix.T))\n",
    "            - matrix * matrix.T\n",
    "        )\n",
    "\n",
    "        return numerator / denominator\n",
    "    \n",
    "    def Cosine(matrix):\n",
    "        norms = np.linalg.norm(matrix, axis=1)\n",
    "        matrix_normalized = matrix / norms[:, np.newaxis]\n",
    "        return np.dot(matrix_normalized, matrix_normalized.T)\n",
    "\n",
    "    \n",
    "    def Gaussian(matrix, gamma=None):\n",
    "        if gamma is None:\n",
    "            norms = np.linalg.norm(matrix, axis=1)\n",
    "            avg_norm = np.mean(norms)\n",
    "            gamma = 1 / avg_norm**2\n",
    "        \n",
    "        squared_norms = np.sum(matrix**2, axis=1)\n",
    "        squared_distance = squared_norms[:, np.newaxis] + squared_norms - 2 * np.dot(matrix, matrix.T)\n",
    "        \n",
    "        return np.exp(-gamma * squared_distance)\n",
    "\n",
    "    all_feature = []\n",
    "    drug_list = np.array(df[feature_name]).tolist()\n",
    "    # Features for each drug, for example, when feature_name is target, drug_list=[\"P30556|P05412\",\"P28223|P46098|……\"]\n",
    "    for i in drug_list:\n",
    "        for each_feature in i.split(\"|\"):\n",
    "            if each_feature not in all_feature:\n",
    "                all_feature.append(each_feature)  # obtain all the features\n",
    "    #print(\"length of all feature is\", len(all_feature))\n",
    "    feature_matrix = np.zeros((len(drug_list), len(all_feature)), dtype=float)\n",
    "    df_feature = DataFrame(\n",
    "        feature_matrix, columns=all_feature\n",
    "    )  # Consrtuct feature matrices with key of dataframe\n",
    "    for i in range(len(drug_list)):\n",
    "        for each_feature in df[feature_name].iloc[i].split(\"|\"):\n",
    "            df_feature[each_feature].iloc[i] = 1\n",
    "\n",
    "    df_feature = np.array(df_feature)\n",
    "    if similarity == 'jaccard':\n",
    "        sim_matrix = np.array(Jaccard(df_feature))\n",
    "    elif similarity == 'cosine':\n",
    "        sim_matrix = Cosine(df_feature)\n",
    "    elif similarity == 'gaussian':\n",
    "        sim_matrix = Gaussian(df_feature)\n",
    "    else:\n",
    "        raise ValueError(\"Unknown similarity measure\")\n",
    "    \n",
    "    #print(feature_name + \" len is:\" + str(len(sim_matrix[0])))\n",
    "    return sim_matrix\n",
    "\n",
    "\n",
    "def prepare(df_drug, feature_list, mechanism, action, drugA, drugB, similarity='jaccard'):\n",
    "    d_label = {}\n",
    "    d_feature = {}\n",
    "\n",
    "    # Transfrom the interaction event to number\n",
    "    d_event = []\n",
    "    for i in range(len(mechanism)):\n",
    "        d_event.append(mechanism[i] + \" \" + action[i])\n",
    "\n",
    "    count = {}\n",
    "    for i in d_event:\n",
    "        if i in count:\n",
    "            count[i] += 1\n",
    "        else:\n",
    "            count[i] = 1\n",
    "    event_num = len(count)\n",
    "    list1 = sorted(count.items(), key=lambda x: x[1], reverse=True)\n",
    "    for i in range(len(list1)):\n",
    "        d_label[list1[i][0]] = i\n",
    "\n",
    "    vector = []\n",
    "    for i in feature_list:\n",
    "        #vector = np.hstack((vector, feature_vector(i, df_drug, vector_size)))\n",
    "        vector.append(feature_vector(i, df_drug, similarity))\n",
    "    vector = np.stack(vector, axis=-1)\n",
    "    # Transfrom the drug ID to feature vector\n",
    "    for i in range(len(np.array(df_drug[\"name\"]).tolist())):\n",
    "        d_feature[np.array(df_drug[\"name\"]).tolist()[i]] = vector[i]\n",
    "\n",
    "    # Use the dictionary to obtain feature vector and label\n",
    "    new_feature = []\n",
    "    new_label = []\n",
    "\n",
    "    for i in range(len(d_event)):\n",
    "        temp = np.concatenate([d_feature[drugA[i]][None], d_feature[drugB[i]][None]], axis=0)\n",
    "        new_feature.append(temp)\n",
    "        new_label.append(d_label[d_event[i]])\n",
    "\n",
    "    new_feature = np.array(new_feature)  # 323539*....\n",
    "    new_label = np.array(new_label)  # 323539\n",
    "\n",
    "    return new_feature, new_label, event_num\n",
    "\n",
    "\n",
    "df_drug = pd.read_csv(\"drug_features.csv\")\n",
    "extraction = pd.read_csv(\"extraction.csv\")\n",
    "mechanism = extraction[\"mechanism\"]\n",
    "action = extraction[\"action\"]\n",
    "drugA = extraction[\"drugA\"]\n",
    "drugB = extraction[\"drugB\"]\n",
    "feature_list = [\"pathway\", \"target\", \"enzyme\", \"category\"]\n",
    "new_feature, new_label, event_num = prepare(df_drug, feature_list, mechanism, action, drugA, drugB, similarity='gaussian')\n",
    "new_feature = torch.tensor(new_feature, dtype=torch.float32)"
   ]
  },
  {
   "cell_type": "code",
   "execution_count": 3,
   "metadata": {},
   "outputs": [
    {
     "name": "stderr",
     "output_type": "stream",
     "text": [
      "/tmp/ipykernel_83239/3982585584.py:3: UserWarning: To copy construct from a tensor, it is recommended to use sourceTensor.clone().detach() or sourceTensor.clone().detach().requires_grad_(True), rather than torch.tensor(sourceTensor).\n",
      "  self.features = torch.tensor(features, dtype=torch.float32)\n"
     ]
    }
   ],
   "source": [
    "\n",
    "class DrugInteractionDataset(Dataset):\n",
    "    def __init__(self, features, labels):\n",
    "        self.features = torch.tensor(features, dtype=torch.float32)\n",
    "        self.labels = torch.tensor(labels, dtype=torch.long)\n",
    "\n",
    "    def __len__(self):\n",
    "        return len(self.labels)\n",
    "\n",
    "    def __getitem__(self, index):\n",
    "        return self.features[index], self.labels[index]\n",
    "\n",
    "# Split the data into training and validation sets\n",
    "features_train, features_val, labels_train, labels_val = train_test_split(\n",
    "    new_feature, new_label, test_size=0.2, random_state=42\n",
    ")\n",
    "\n",
    "# Create dataset objects\n",
    "train_dataset = DrugInteractionDataset(features_train, labels_train)\n",
    "val_dataset = DrugInteractionDataset(features_val, labels_val)\n",
    "\n",
    "# Create data loaders\n",
    "batch_size = 32\n",
    "train_loader = DataLoader(train_dataset, batch_size=batch_size, shuffle=True)\n",
    "val_loader = DataLoader(val_dataset, batch_size=batch_size, shuffle=False)"
   ]
  },
  {
   "cell_type": "code",
   "execution_count": 4,
   "metadata": {},
   "outputs": [],
   "source": [
    "\n",
    "\n",
    "class CNNDDI(nn.Module):\n",
    "    def __init__(self, num_of_features=4):\n",
    "        super(CNNDDI, self).__init__()\n",
    "        self.conv1 = nn.Conv2d(2, 64, (3, 1), padding=(1, 0))\n",
    "        self.conv2 = nn.Conv2d(64, 128, (3, 1), padding=(1, 0))\n",
    "        self.conv3_1 = nn.Conv2d(128, 128, (3, 1), padding=(1, 0))\n",
    "        self.conv3_2 = nn.Conv2d(128, 128, (3, 1), padding=(1, 0))\n",
    "        self.conv4 = nn.Conv2d(128, 256, (3, 1), padding=(1, 0))\n",
    "        self.fc1 = nn.Linear(256 * 572 * num_of_features, 256)  # Adjust feature_size based on your input dimensions\n",
    "        self.fc2 = nn.Linear(256, 65)  # Assuming 65 DDI types\n",
    "\n",
    "    def forward(self, x):\n",
    "        x = F.leaky_relu(self.conv1(x), negative_slope=0.2)\n",
    "        x = F.leaky_relu(self.conv2(x), negative_slope=0.2)\n",
    "        identity = x\n",
    "        x = F.leaky_relu(self.conv3_1(x), negative_slope=0.2)\n",
    "        x = self.conv3_2(x)\n",
    "        x += identity\n",
    "        x = F.leaky_relu(x, negative_slope=0.2)\n",
    "        x = F.leaky_relu(self.conv4(x), negative_slope=0.2)\n",
    "        x = torch.flatten(x, 1)\n",
    "        x = F.leaky_relu(self.fc1(x), negative_slope=0.2)\n",
    "        x = self.fc2(x)\n",
    "        return x\n"
   ]
  },
  {
   "cell_type": "code",
   "execution_count": 5,
   "metadata": {},
   "outputs": [],
   "source": [
    "#input: Y_true (true label), Y_pred (predicted label), Y_score (output probability)\n",
    "#output: acc, auc, f1, precision, recall  \n",
    "#multiclass/multilabel targets\n",
    "\n",
    "def evaluation_metrics(Y_true, Y_pred, Y_score):\n",
    "    acc = accuracy_score(Y_true, Y_pred)\n",
    "    precision = precision_score(Y_true, Y_pred, average='micro') \n",
    "    recall = recall_score(Y_true, Y_pred, average='micro')\n",
    "    f1 = f1_score(Y_true, Y_pred, average='micro')\n",
    "    auc = roc_auc_score(Y_true, Y_score, average=\"micro\") \n",
    "    \n",
    "    # area under precision-recall curve\n",
    "    # https://sinyi-chou.github.io/python-sklearn-precision-recall/\n",
    "    # https://scikit-learn.org/stable/auto_examples/model_selection/plot_precision_recall.html\n",
    "    \n",
    "    # precision_recall_curve for binary classification ONLY, does not work for multiclass\n",
    "    # p, r, thresholds = precision_recall_curve(Y_true, Y_score)\n",
    "    # aupr = auc(r, p)\n",
    "    \n",
    "    return acc, auc, f1, precision, recall\n",
    "\n",
    "\n",
    "def train(model, device, train_loader, optimizer, criterion):\n",
    "    model.train()\n",
    "    total_loss = 0\n",
    "    for features, labels in train_loader:\n",
    "        features, labels = features.to(device), labels.to(device)\n",
    "        optimizer.zero_grad()\n",
    "        outputs = model(features)\n",
    "        loss = criterion(outputs, labels)\n",
    "        loss.backward()\n",
    "        optimizer.step()\n",
    "        total_loss += loss.item()\n",
    "    return total_loss / len(train_loader)\n",
    "\n",
    "def validate(model, device, val_loader, criterion):\n",
    "    model.eval()\n",
    "    total_loss = 0\n",
    "    correct = 0\n",
    "    total = 0\n",
    "    all_predicted = []\n",
    "    all_labels = []\n",
    "    all_probs = []\n",
    "\n",
    "    with torch.no_grad():\n",
    "        for features, labels in val_loader:\n",
    "            features, labels = features.to(device), labels.to(device)\n",
    "            outputs = model(features)\n",
    "            loss = criterion(outputs, labels)\n",
    "            total_loss += loss.item()\n",
    "            _, predicted = torch.max(outputs.data, 1)\n",
    "            correct += (predicted == labels).sum().item()\n",
    "            total += labels.size(0)\n",
    "            all_predicted.extend(predicted.cpu().numpy())\n",
    "            all_labels.extend(labels.cpu().numpy())\n",
    "            all_probs.extend(torch.nn.functional.softmax(outputs.data, 1).cpu().numpy())\n",
    "\n",
    "    all_predicted = np.array(all_predicted)\n",
    "    all_labels = np.array(all_labels)\n",
    "    all_probs = np.array(all_probs)\n",
    "\n",
    "    val_loss = total_loss / len(val_loader)\n",
    "    val_accuracy = correct / len(val_loader.dataset)\n",
    "    precision = precision_score(all_labels, all_predicted, average='macro',zero_division=0)\n",
    "    recall = recall_score(all_labels, all_predicted, average='macro',zero_division=0)\n",
    "    f1 = f1_score(all_labels, all_predicted, average='macro',zero_division=0)\n",
    "    roc_auc = roc_auc_score(label_binarize(all_labels, classes=range(65))[:,1], all_probs[:,1], multi_class='ovo', average='micro')\n",
    "    aupr = average_precision_score(label_binarize(all_labels, classes=range(65))[:,1], all_probs[:,1], average='micro')\n",
    "\n",
    "    return val_loss, val_accuracy, precision, recall, f1, roc_auc, aupr\n",
    "\n",
    "def save_checkpoint(model, optimizer, epoch, filename):\n",
    "    state = {\n",
    "        'epoch': epoch,\n",
    "        'state_dict': model.state_dict(),\n",
    "        'optimizer': optimizer.state_dict()\n",
    "    }\n",
    "    torch.save(state, filename)\n",
    "    print(f\"Saved checkpoint: {filename}\")\n",
    "\n"
   ]
  },
  {
   "cell_type": "code",
   "execution_count": 6,
   "metadata": {},
   "outputs": [],
   "source": [
    "class focal_loss(nn.Module):\n",
    "    def __init__(self, gamma=2):\n",
    "        super(focal_loss, self).__init__()\n",
    "        self.gamma = gamma\n",
    "\n",
    "    def forward(self, preds, labels):\n",
    "        labels = labels[..., None]\n",
    "\n",
    "        preds_logsoft = F.log_softmax(preds, dim=1)\n",
    "        preds_softmax = torch.exp(preds_logsoft)\n",
    "\n",
    "        preds_softmax = preds_softmax.gather(1, labels)\n",
    "        preds_logsoft = preds_logsoft.gather(1, labels)\n",
    "\n",
    "        loss = -torch.mul(torch.pow((1 - preds_softmax), self.gamma), preds_logsoft)\n",
    "\n",
    "        loss = loss.mean()\n",
    "\n",
    "        return loss"
   ]
  },
  {
   "cell_type": "code",
   "execution_count": 38,
   "metadata": {},
   "outputs": [
    {
     "name": "stderr",
     "output_type": "stream",
     "text": [
      "  2%|▏         | 1/50 [00:21<17:16, 21.15s/it]"
     ]
    },
    {
     "name": "stdout",
     "output_type": "stream",
     "text": [
      "Epoch 1, Train Loss: 0.8764, Validation Loss: 0.3628, Validation Accuracy: 0.7918\n"
     ]
    },
    {
     "name": "stderr",
     "output_type": "stream",
     "text": [
      "  4%|▍         | 2/50 [00:42<16:55, 21.16s/it]"
     ]
    },
    {
     "name": "stdout",
     "output_type": "stream",
     "text": [
      "Epoch 2, Train Loss: 0.2777, Validation Loss: 0.3381, Validation Accuracy: 0.8103\n"
     ]
    },
    {
     "name": "stderr",
     "output_type": "stream",
     "text": [
      "  6%|▌         | 3/50 [01:03<16:40, 21.28s/it]"
     ]
    },
    {
     "name": "stdout",
     "output_type": "stream",
     "text": [
      "Epoch 3, Train Loss: 0.2173, Validation Loss: 0.2545, Validation Accuracy: 0.8415\n"
     ]
    },
    {
     "name": "stderr",
     "output_type": "stream",
     "text": [
      "  8%|▊         | 4/50 [01:25<16:21, 21.34s/it]"
     ]
    },
    {
     "name": "stdout",
     "output_type": "stream",
     "text": [
      "Epoch 4, Train Loss: 0.1825, Validation Loss: 0.2843, Validation Accuracy: 0.8480\n"
     ]
    },
    {
     "name": "stderr",
     "output_type": "stream",
     "text": [
      " 10%|█         | 5/50 [01:46<15:56, 21.26s/it]"
     ]
    },
    {
     "name": "stdout",
     "output_type": "stream",
     "text": [
      "Epoch 5, Train Loss: 0.1802, Validation Loss: 0.3486, Validation Accuracy: 0.8111\n"
     ]
    },
    {
     "name": "stderr",
     "output_type": "stream",
     "text": [
      " 12%|█▏        | 6/50 [02:07<15:33, 21.21s/it]"
     ]
    },
    {
     "name": "stdout",
     "output_type": "stream",
     "text": [
      "Epoch 6, Train Loss: 0.1394, Validation Loss: 0.2700, Validation Accuracy: 0.8332\n"
     ]
    },
    {
     "name": "stderr",
     "output_type": "stream",
     "text": [
      " 14%|█▍        | 7/50 [02:28<15:09, 21.15s/it]"
     ]
    },
    {
     "name": "stdout",
     "output_type": "stream",
     "text": [
      "Epoch 7, Train Loss: 0.1302, Validation Loss: 0.2829, Validation Accuracy: 0.8444\n"
     ]
    },
    {
     "name": "stderr",
     "output_type": "stream",
     "text": [
      " 16%|█▌        | 8/50 [02:49<14:46, 21.12s/it]"
     ]
    },
    {
     "name": "stdout",
     "output_type": "stream",
     "text": [
      "Epoch 8, Train Loss: 0.1259, Validation Loss: 0.7220, Validation Accuracy: 0.7724\n"
     ]
    },
    {
     "name": "stderr",
     "output_type": "stream",
     "text": [
      " 18%|█▊        | 9/50 [03:10<14:25, 21.11s/it]"
     ]
    },
    {
     "name": "stdout",
     "output_type": "stream",
     "text": [
      "Epoch 9, Train Loss: 0.1296, Validation Loss: 0.2329, Validation Accuracy: 0.8791\n",
      "Epoch 10, Train Loss: 0.1721, Validation Loss: 0.3235, Validation Accuracy: 0.8584\n"
     ]
    },
    {
     "name": "stderr",
     "output_type": "stream",
     "text": [
      " 20%|██        | 10/50 [03:32<14:15, 21.38s/it]"
     ]
    },
    {
     "name": "stdout",
     "output_type": "stream",
     "text": [
      "Saved checkpoint: checkpoints/cnn_ddi_epoch_10.pt\n"
     ]
    },
    {
     "name": "stderr",
     "output_type": "stream",
     "text": [
      " 22%|██▏       | 11/50 [03:53<13:49, 21.28s/it]"
     ]
    },
    {
     "name": "stdout",
     "output_type": "stream",
     "text": [
      "Epoch 11, Train Loss: 0.0829, Validation Loss: 0.2793, Validation Accuracy: 0.8642\n"
     ]
    },
    {
     "name": "stderr",
     "output_type": "stream",
     "text": [
      " 24%|██▍       | 12/50 [04:14<13:24, 21.16s/it]"
     ]
    },
    {
     "name": "stdout",
     "output_type": "stream",
     "text": [
      "Epoch 12, Train Loss: 0.0824, Validation Loss: 0.3565, Validation Accuracy: 0.8449\n"
     ]
    },
    {
     "name": "stderr",
     "output_type": "stream",
     "text": [
      " 26%|██▌       | 13/50 [04:35<12:59, 21.08s/it]"
     ]
    },
    {
     "name": "stdout",
     "output_type": "stream",
     "text": [
      "Epoch 13, Train Loss: 0.1575, Validation Loss: 0.2600, Validation Accuracy: 0.8799\n"
     ]
    },
    {
     "name": "stderr",
     "output_type": "stream",
     "text": [
      " 28%|██▊       | 14/50 [04:56<12:37, 21.03s/it]"
     ]
    },
    {
     "name": "stdout",
     "output_type": "stream",
     "text": [
      "Epoch 14, Train Loss: 0.0683, Validation Loss: 0.4144, Validation Accuracy: 0.8617\n"
     ]
    },
    {
     "name": "stderr",
     "output_type": "stream",
     "text": [
      " 30%|███       | 15/50 [05:17<12:18, 21.11s/it]"
     ]
    },
    {
     "name": "stdout",
     "output_type": "stream",
     "text": [
      "Epoch 15, Train Loss: 0.1668, Validation Loss: 0.2761, Validation Accuracy: 0.8830\n"
     ]
    },
    {
     "name": "stderr",
     "output_type": "stream",
     "text": [
      " 32%|███▏      | 16/50 [05:38<11:59, 21.16s/it]"
     ]
    },
    {
     "name": "stdout",
     "output_type": "stream",
     "text": [
      "Epoch 16, Train Loss: 0.0571, Validation Loss: 0.5085, Validation Accuracy: 0.8504\n"
     ]
    },
    {
     "name": "stderr",
     "output_type": "stream",
     "text": [
      " 34%|███▍      | 17/50 [06:00<11:39, 21.21s/it]"
     ]
    },
    {
     "name": "stdout",
     "output_type": "stream",
     "text": [
      "Epoch 17, Train Loss: 0.2301, Validation Loss: 0.3286, Validation Accuracy: 0.8904\n"
     ]
    },
    {
     "name": "stderr",
     "output_type": "stream",
     "text": [
      " 36%|███▌      | 18/50 [06:21<11:19, 21.24s/it]"
     ]
    },
    {
     "name": "stdout",
     "output_type": "stream",
     "text": [
      "Epoch 18, Train Loss: 0.0273, Validation Loss: 0.3865, Validation Accuracy: 0.8948\n"
     ]
    },
    {
     "name": "stderr",
     "output_type": "stream",
     "text": [
      " 38%|███▊      | 19/50 [06:42<10:57, 21.22s/it]"
     ]
    },
    {
     "name": "stdout",
     "output_type": "stream",
     "text": [
      "Epoch 19, Train Loss: 0.1896, Validation Loss: 0.3755, Validation Accuracy: 0.8772\n",
      "Epoch 20, Train Loss: 0.0736, Validation Loss: 0.5849, Validation Accuracy: 0.8524\n"
     ]
    },
    {
     "name": "stderr",
     "output_type": "stream",
     "text": [
      " 40%|████      | 20/50 [07:04<10:43, 21.46s/it]"
     ]
    },
    {
     "name": "stdout",
     "output_type": "stream",
     "text": [
      "Saved checkpoint: checkpoints/cnn_ddi_epoch_20.pt\n"
     ]
    },
    {
     "name": "stderr",
     "output_type": "stream",
     "text": [
      " 42%|████▏     | 21/50 [07:26<10:21, 21.44s/it]"
     ]
    },
    {
     "name": "stdout",
     "output_type": "stream",
     "text": [
      "Epoch 21, Train Loss: 0.1162, Validation Loss: 0.5393, Validation Accuracy: 0.8696\n"
     ]
    },
    {
     "name": "stderr",
     "output_type": "stream",
     "text": [
      " 44%|████▍     | 22/50 [07:47<10:02, 21.51s/it]"
     ]
    },
    {
     "name": "stdout",
     "output_type": "stream",
     "text": [
      "Epoch 22, Train Loss: 0.1656, Validation Loss: 1.9225, Validation Accuracy: 0.8199\n"
     ]
    },
    {
     "name": "stderr",
     "output_type": "stream",
     "text": [
      " 46%|████▌     | 23/50 [08:09<09:41, 21.52s/it]"
     ]
    },
    {
     "name": "stdout",
     "output_type": "stream",
     "text": [
      "Epoch 23, Train Loss: 0.1321, Validation Loss: 0.4515, Validation Accuracy: 0.8943\n"
     ]
    },
    {
     "name": "stderr",
     "output_type": "stream",
     "text": [
      " 48%|████▊     | 24/50 [08:30<09:19, 21.51s/it]"
     ]
    },
    {
     "name": "stdout",
     "output_type": "stream",
     "text": [
      "Epoch 24, Train Loss: 0.0484, Validation Loss: 0.5903, Validation Accuracy: 0.8609\n"
     ]
    },
    {
     "name": "stderr",
     "output_type": "stream",
     "text": [
      " 50%|█████     | 25/50 [08:52<08:59, 21.56s/it]"
     ]
    },
    {
     "name": "stdout",
     "output_type": "stream",
     "text": [
      "Epoch 25, Train Loss: 0.3441, Validation Loss: 0.7192, Validation Accuracy: 0.8810\n"
     ]
    },
    {
     "name": "stderr",
     "output_type": "stream",
     "text": [
      " 52%|█████▏    | 26/50 [09:14<08:37, 21.58s/it]"
     ]
    },
    {
     "name": "stdout",
     "output_type": "stream",
     "text": [
      "Epoch 26, Train Loss: 0.0449, Validation Loss: 0.6276, Validation Accuracy: 0.8878\n"
     ]
    },
    {
     "name": "stderr",
     "output_type": "stream",
     "text": [
      " 54%|█████▍    | 27/50 [09:35<08:14, 21.51s/it]"
     ]
    },
    {
     "name": "stdout",
     "output_type": "stream",
     "text": [
      "Epoch 27, Train Loss: 0.1506, Validation Loss: 1.3008, Validation Accuracy: 0.8638\n"
     ]
    },
    {
     "name": "stderr",
     "output_type": "stream",
     "text": [
      " 56%|█████▌    | 28/50 [09:56<07:51, 21.41s/it]"
     ]
    },
    {
     "name": "stdout",
     "output_type": "stream",
     "text": [
      "Epoch 28, Train Loss: 0.1009, Validation Loss: 0.6668, Validation Accuracy: 0.8878\n"
     ]
    },
    {
     "name": "stderr",
     "output_type": "stream",
     "text": [
      " 58%|█████▊    | 29/50 [10:17<07:28, 21.35s/it]"
     ]
    },
    {
     "name": "stdout",
     "output_type": "stream",
     "text": [
      "Epoch 29, Train Loss: 0.1041, Validation Loss: 1.5599, Validation Accuracy: 0.8760\n",
      "Epoch 30, Train Loss: 0.1621, Validation Loss: 0.7454, Validation Accuracy: 0.8979\n"
     ]
    },
    {
     "name": "stderr",
     "output_type": "stream",
     "text": [
      " 60%|██████    | 30/50 [10:39<07:11, 21.55s/it]"
     ]
    },
    {
     "name": "stdout",
     "output_type": "stream",
     "text": [
      "Saved checkpoint: checkpoints/cnn_ddi_epoch_30.pt\n"
     ]
    },
    {
     "name": "stderr",
     "output_type": "stream",
     "text": [
      " 62%|██████▏   | 31/50 [11:01<06:47, 21.43s/it]"
     ]
    },
    {
     "name": "stdout",
     "output_type": "stream",
     "text": [
      "Epoch 31, Train Loss: 1.8079, Validation Loss: 3.4827, Validation Accuracy: 0.8606\n"
     ]
    },
    {
     "name": "stderr",
     "output_type": "stream",
     "text": [
      " 64%|██████▍   | 32/50 [11:23<06:28, 21.61s/it]"
     ]
    },
    {
     "name": "stdout",
     "output_type": "stream",
     "text": [
      "Epoch 32, Train Loss: 0.2704, Validation Loss: 1.3963, Validation Accuracy: 0.8874\n"
     ]
    },
    {
     "name": "stderr",
     "output_type": "stream",
     "text": [
      " 66%|██████▌   | 33/50 [11:44<06:08, 21.68s/it]"
     ]
    },
    {
     "name": "stdout",
     "output_type": "stream",
     "text": [
      "Epoch 33, Train Loss: 0.0645, Validation Loss: 1.8864, Validation Accuracy: 0.8949\n"
     ]
    },
    {
     "name": "stderr",
     "output_type": "stream",
     "text": [
      " 68%|██████▊   | 34/50 [12:06<05:44, 21.54s/it]"
     ]
    },
    {
     "name": "stdout",
     "output_type": "stream",
     "text": [
      "Epoch 34, Train Loss: 0.1498, Validation Loss: 1.7150, Validation Accuracy: 0.8868\n"
     ]
    },
    {
     "name": "stderr",
     "output_type": "stream",
     "text": [
      " 70%|███████   | 35/50 [12:27<05:21, 21.46s/it]"
     ]
    },
    {
     "name": "stdout",
     "output_type": "stream",
     "text": [
      "Epoch 35, Train Loss: 0.1347, Validation Loss: 1.8790, Validation Accuracy: 0.8929\n"
     ]
    },
    {
     "name": "stderr",
     "output_type": "stream",
     "text": [
      " 72%|███████▏  | 36/50 [12:48<04:58, 21.35s/it]"
     ]
    },
    {
     "name": "stdout",
     "output_type": "stream",
     "text": [
      "Epoch 36, Train Loss: 0.3852, Validation Loss: 3.6643, Validation Accuracy: 0.8473\n"
     ]
    },
    {
     "name": "stderr",
     "output_type": "stream",
     "text": [
      " 74%|███████▍  | 37/50 [13:09<04:38, 21.39s/it]"
     ]
    },
    {
     "name": "stdout",
     "output_type": "stream",
     "text": [
      "Epoch 37, Train Loss: 0.2350, Validation Loss: 1.4745, Validation Accuracy: 0.8945\n"
     ]
    },
    {
     "name": "stderr",
     "output_type": "stream",
     "text": [
      " 76%|███████▌  | 38/50 [13:31<04:16, 21.38s/it]"
     ]
    },
    {
     "name": "stdout",
     "output_type": "stream",
     "text": [
      "Epoch 38, Train Loss: 0.0951, Validation Loss: 1.3499, Validation Accuracy: 0.9035\n"
     ]
    },
    {
     "name": "stderr",
     "output_type": "stream",
     "text": [
      " 78%|███████▊  | 39/50 [13:52<03:55, 21.38s/it]"
     ]
    },
    {
     "name": "stdout",
     "output_type": "stream",
     "text": [
      "Epoch 39, Train Loss: 0.2292, Validation Loss: 1.7378, Validation Accuracy: 0.8943\n",
      "Epoch 40, Train Loss: 0.1413, Validation Loss: 1.7385, Validation Accuracy: 0.8860\n"
     ]
    },
    {
     "name": "stderr",
     "output_type": "stream",
     "text": [
      " 80%|████████  | 40/50 [14:14<03:35, 21.59s/it]"
     ]
    },
    {
     "name": "stdout",
     "output_type": "stream",
     "text": [
      "Saved checkpoint: checkpoints/cnn_ddi_epoch_40.pt\n"
     ]
    },
    {
     "name": "stderr",
     "output_type": "stream",
     "text": [
      " 82%|████████▏ | 41/50 [14:36<03:13, 21.52s/it]"
     ]
    },
    {
     "name": "stdout",
     "output_type": "stream",
     "text": [
      "Epoch 41, Train Loss: 0.2066, Validation Loss: 2.9963, Validation Accuracy: 0.8704\n"
     ]
    },
    {
     "name": "stderr",
     "output_type": "stream",
     "text": [
      " 84%|████████▍ | 42/50 [14:57<02:51, 21.40s/it]"
     ]
    },
    {
     "name": "stdout",
     "output_type": "stream",
     "text": [
      "Epoch 42, Train Loss: 0.1928, Validation Loss: 2.5624, Validation Accuracy: 0.8849\n"
     ]
    },
    {
     "name": "stderr",
     "output_type": "stream",
     "text": [
      " 86%|████████▌ | 43/50 [15:18<02:29, 21.33s/it]"
     ]
    },
    {
     "name": "stdout",
     "output_type": "stream",
     "text": [
      "Epoch 43, Train Loss: 0.2186, Validation Loss: 2.3761, Validation Accuracy: 0.8835\n"
     ]
    },
    {
     "name": "stderr",
     "output_type": "stream",
     "text": [
      " 88%|████████▊ | 44/50 [15:39<02:08, 21.39s/it]"
     ]
    },
    {
     "name": "stdout",
     "output_type": "stream",
     "text": [
      "Epoch 44, Train Loss: 0.1952, Validation Loss: 3.4227, Validation Accuracy: 0.8682\n"
     ]
    },
    {
     "name": "stderr",
     "output_type": "stream",
     "text": [
      " 90%|█████████ | 45/50 [16:01<01:47, 21.42s/it]"
     ]
    },
    {
     "name": "stdout",
     "output_type": "stream",
     "text": [
      "Epoch 45, Train Loss: 0.1683, Validation Loss: 1.7532, Validation Accuracy: 0.8894\n"
     ]
    },
    {
     "name": "stderr",
     "output_type": "stream",
     "text": [
      " 92%|█████████▏| 46/50 [16:22<01:25, 21.41s/it]"
     ]
    },
    {
     "name": "stdout",
     "output_type": "stream",
     "text": [
      "Epoch 46, Train Loss: 0.1699, Validation Loss: 3.0286, Validation Accuracy: 0.8941\n"
     ]
    },
    {
     "name": "stderr",
     "output_type": "stream",
     "text": [
      " 94%|█████████▍| 47/50 [16:44<01:04, 21.38s/it]"
     ]
    },
    {
     "name": "stdout",
     "output_type": "stream",
     "text": [
      "Epoch 47, Train Loss: 0.3965, Validation Loss: 2.1042, Validation Accuracy: 0.8982\n"
     ]
    },
    {
     "name": "stderr",
     "output_type": "stream",
     "text": [
      " 96%|█████████▌| 48/50 [17:05<00:42, 21.37s/it]"
     ]
    },
    {
     "name": "stdout",
     "output_type": "stream",
     "text": [
      "Epoch 48, Train Loss: 0.0912, Validation Loss: 2.0154, Validation Accuracy: 0.8968\n"
     ]
    },
    {
     "name": "stderr",
     "output_type": "stream",
     "text": [
      " 98%|█████████▊| 49/50 [17:26<00:21, 21.35s/it]"
     ]
    },
    {
     "name": "stdout",
     "output_type": "stream",
     "text": [
      "Epoch 49, Train Loss: 0.2051, Validation Loss: 2.6824, Validation Accuracy: 0.9033\n",
      "Epoch 50, Train Loss: 0.2484, Validation Loss: 2.6757, Validation Accuracy: 0.8936\n"
     ]
    },
    {
     "name": "stderr",
     "output_type": "stream",
     "text": [
      "100%|██████████| 50/50 [17:49<00:00, 21.38s/it]"
     ]
    },
    {
     "name": "stdout",
     "output_type": "stream",
     "text": [
      "Saved checkpoint: checkpoints/cnn_ddi_epoch_50.pt\n"
     ]
    },
    {
     "name": "stderr",
     "output_type": "stream",
     "text": [
      "\n"
     ]
    }
   ],
   "source": [
    "device = torch.device(\"cuda\" if torch.cuda.is_available() else \"cpu\")\n",
    "model = CNNDDI().to(device)\n",
    "optimizer = optim.Adam(model.parameters(), lr=0.001)\n",
    "criterion = focal_loss()\n",
    "\n",
    "num_epochs = 50\n",
    "checkpoint_interval = 10\n",
    "for epoch in tqdm(range(num_epochs)):\n",
    "    train_loss = train(model, device, train_loader, optimizer, criterion)\n",
    "    val_loss, val_accuracy, precision, recall, f1, roc_auc, aupr = validate(model, device, val_loader, criterion)\n",
    "    print(f'Epoch {epoch+1}, Train Loss: {train_loss:.4f}, Validation Loss: {val_loss:.4f}, Validation Accuracy: {val_accuracy:.4f}, Precision: {precision:.4f}, recall: {recall:.4f}, F1: {f1:.4f}, AUC: {roc_auc:.4f}, AUPR: {aupr:.4f}')\n",
    "\n",
    "    if (epoch + 1) % checkpoint_interval == 0 or (epoch + 1) == num_epochs:\n",
    "        save_checkpoint(model, optimizer, epoch + 1, f'checkpoints/cnn_ddi_epoch_{epoch+1}.pt')\n"
   ]
  },
  {
   "cell_type": "code",
   "execution_count": 4,
   "metadata": {},
   "outputs": [
    {
     "name": "stderr",
     "output_type": "stream",
     "text": [
      "Downloading: \"https://huggingface.co/conrevo/CS598-CNN-DDI/resolve/main/cnn_ddi_epoch_50.pt\" to checkpoints/cnn_ddi_epoch_50.pt\n",
      "100%|██████████| 1.68G/1.68G [00:27<00:00, 66.1MB/s]\n"
     ]
    },
    {
     "data": {
      "text/plain": [
       "<All keys matched successfully>"
      ]
     },
     "execution_count": 4,
     "metadata": {},
     "output_type": "execute_result"
    }
   ],
   "source": [
    "cnn_ddi = CNNDDI()\n",
    "state_dict = torch.hub.load_state_dict_from_url(\"https://huggingface.co/conrevo/CS598-CNN-DDI/resolve/main/cnn_ddi_epoch_50.pt\", model_dir=\"checkpoints\")\n",
    "cnn_ddi.load_state_dict(state_dict[\"state_dict\"])"
   ]
  },
  {
   "cell_type": "code",
   "execution_count": 17,
   "metadata": {},
   "outputs": [
    {
     "name": "stdout",
     "output_type": "stream",
     "text": [
      "Similarity measure: jaccard\n"
     ]
    },
    {
     "name": "stderr",
     "output_type": "stream",
     "text": [
      "/tmp/ipykernel_21746/3982585584.py:3: UserWarning: To copy construct from a tensor, it is recommended to use sourceTensor.clone().detach() or sourceTensor.clone().detach().requires_grad_(True), rather than torch.tensor(sourceTensor).\n",
      "  self.features = torch.tensor(features, dtype=torch.float32)\n",
      "/home/conrevo/miniconda3/lib/python3.11/site-packages/tqdm/auto.py:21: TqdmWarning: IProgress not found. Please update jupyter and ipywidgets. See https://ipywidgets.readthedocs.io/en/stable/user_install.html\n",
      "  from .autonotebook import tqdm as notebook_tqdm\n",
      "  2%|▏         | 1/50 [00:21<17:34, 21.51s/it]"
     ]
    },
    {
     "name": "stdout",
     "output_type": "stream",
     "text": [
      "Epoch 1, Train Loss: 0.8044, Validation Loss: 0.3486, Validation Accuracy: 0.8075, Precision: 0.6085, recall: 0.5005, F1: 0.5152, AUC: 0.9639, AUPR: 0.9150\n"
     ]
    },
    {
     "name": "stderr",
     "output_type": "stream",
     "text": [
      "  4%|▍         | 2/50 [00:42<17:05, 21.37s/it]"
     ]
    },
    {
     "name": "stdout",
     "output_type": "stream",
     "text": [
      "Epoch 2, Train Loss: 0.2814, Validation Loss: 0.2822, Validation Accuracy: 0.8320, Precision: 0.7437, recall: 0.6746, F1: 0.6713, AUC: 0.9751, AUPR: 0.9402\n"
     ]
    },
    {
     "name": "stderr",
     "output_type": "stream",
     "text": [
      "  6%|▌         | 3/50 [01:04<16:41, 21.31s/it]"
     ]
    },
    {
     "name": "stdout",
     "output_type": "stream",
     "text": [
      "Epoch 3, Train Loss: 0.2236, Validation Loss: 0.2630, Validation Accuracy: 0.8406, Precision: 0.7344, recall: 0.7242, F1: 0.6901, AUC: 0.9774, AUPR: 0.9455\n"
     ]
    },
    {
     "name": "stderr",
     "output_type": "stream",
     "text": [
      "  8%|▊         | 4/50 [01:25<16:20, 21.32s/it]"
     ]
    },
    {
     "name": "stdout",
     "output_type": "stream",
     "text": [
      "Epoch 4, Train Loss: 0.1733, Validation Loss: 0.2487, Validation Accuracy: 0.8454, Precision: 0.7873, recall: 0.6675, F1: 0.6941, AUC: 0.9787, AUPR: 0.9460\n"
     ]
    },
    {
     "name": "stderr",
     "output_type": "stream",
     "text": [
      " 10%|█         | 5/50 [01:46<15:59, 21.33s/it]"
     ]
    },
    {
     "name": "stdout",
     "output_type": "stream",
     "text": [
      "Epoch 5, Train Loss: 0.1644, Validation Loss: 0.2551, Validation Accuracy: 0.8517, Precision: 0.8125, recall: 0.6959, F1: 0.7207, AUC: 0.9836, AUPR: 0.9590\n"
     ]
    },
    {
     "name": "stderr",
     "output_type": "stream",
     "text": [
      " 12%|█▏        | 6/50 [02:07<15:34, 21.23s/it]"
     ]
    },
    {
     "name": "stdout",
     "output_type": "stream",
     "text": [
      "Epoch 6, Train Loss: 0.1365, Validation Loss: 0.2413, Validation Accuracy: 0.8555, Precision: 0.7963, recall: 0.6882, F1: 0.7041, AUC: 0.9837, AUPR: 0.9596\n"
     ]
    },
    {
     "name": "stderr",
     "output_type": "stream",
     "text": [
      " 14%|█▍        | 7/50 [02:28<15:10, 21.16s/it]"
     ]
    },
    {
     "name": "stdout",
     "output_type": "stream",
     "text": [
      "Epoch 7, Train Loss: 0.1526, Validation Loss: 0.4322, Validation Accuracy: 0.8181, Precision: 0.7092, recall: 0.8014, F1: 0.7155, AUC: 0.9713, AUPR: 0.9405\n"
     ]
    },
    {
     "name": "stderr",
     "output_type": "stream",
     "text": [
      " 16%|█▌        | 8/50 [02:49<14:47, 21.12s/it]"
     ]
    },
    {
     "name": "stdout",
     "output_type": "stream",
     "text": [
      "Epoch 8, Train Loss: 0.1341, Validation Loss: 0.2111, Validation Accuracy: 0.8819, Precision: 0.7856, recall: 0.7389, F1: 0.7387, AUC: 0.9888, AUPR: 0.9718\n"
     ]
    },
    {
     "name": "stderr",
     "output_type": "stream",
     "text": [
      " 18%|█▊        | 9/50 [03:10<14:24, 21.08s/it]"
     ]
    },
    {
     "name": "stdout",
     "output_type": "stream",
     "text": [
      "Epoch 9, Train Loss: 0.0978, Validation Loss: 0.3510, Validation Accuracy: 0.8437, Precision: 0.7449, recall: 0.6089, F1: 0.6431, AUC: 0.9819, AUPR: 0.9567\n",
      "Epoch 10, Train Loss: 0.1702, Validation Loss: 0.3869, Validation Accuracy: 0.8626, Precision: 0.7522, recall: 0.7522, F1: 0.7328, AUC: 0.9835, AUPR: 0.9572\n"
     ]
    },
    {
     "name": "stderr",
     "output_type": "stream",
     "text": [
      " 20%|██        | 10/50 [03:32<14:16, 21.42s/it]"
     ]
    },
    {
     "name": "stdout",
     "output_type": "stream",
     "text": [
      "Saved checkpoint: checkpoints/cnn_ddi_epoch_jaccard_10.pt\n"
     ]
    },
    {
     "name": "stderr",
     "output_type": "stream",
     "text": [
      " 22%|██▏       | 11/50 [03:54<13:58, 21.49s/it]"
     ]
    },
    {
     "name": "stdout",
     "output_type": "stream",
     "text": [
      "Epoch 11, Train Loss: 0.0790, Validation Loss: 0.3126, Validation Accuracy: 0.8694, Precision: 0.7908, recall: 0.7380, F1: 0.7395, AUC: 0.9863, AUPR: 0.9685\n"
     ]
    },
    {
     "name": "stderr",
     "output_type": "stream",
     "text": [
      " 24%|██▍       | 12/50 [04:16<13:40, 21.60s/it]"
     ]
    },
    {
     "name": "stdout",
     "output_type": "stream",
     "text": [
      "Epoch 12, Train Loss: 0.1810, Validation Loss: 0.2547, Validation Accuracy: 0.8874, Precision: 0.8016, recall: 0.7919, F1: 0.7783, AUC: 0.9902, AUPR: 0.9755\n"
     ]
    },
    {
     "name": "stderr",
     "output_type": "stream",
     "text": [
      " 26%|██▌       | 13/50 [04:38<13:25, 21.77s/it]"
     ]
    },
    {
     "name": "stdout",
     "output_type": "stream",
     "text": [
      "Epoch 13, Train Loss: 0.0507, Validation Loss: 0.2770, Validation Accuracy: 0.8929, Precision: 0.8270, recall: 0.7823, F1: 0.7946, AUC: 0.9899, AUPR: 0.9750\n"
     ]
    },
    {
     "name": "stderr",
     "output_type": "stream",
     "text": [
      " 28%|██▊       | 14/50 [05:01<13:10, 21.97s/it]"
     ]
    },
    {
     "name": "stdout",
     "output_type": "stream",
     "text": [
      "Epoch 14, Train Loss: 0.1988, Validation Loss: 0.5756, Validation Accuracy: 0.8433, Precision: 0.7449, recall: 0.7309, F1: 0.7059, AUC: 0.9798, AUPR: 0.9504\n"
     ]
    },
    {
     "name": "stderr",
     "output_type": "stream",
     "text": [
      " 30%|███       | 15/50 [05:22<12:46, 21.90s/it]"
     ]
    },
    {
     "name": "stdout",
     "output_type": "stream",
     "text": [
      "Epoch 15, Train Loss: 0.0862, Validation Loss: 0.2677, Validation Accuracy: 0.8809, Precision: 0.7725, recall: 0.7757, F1: 0.7426, AUC: 0.9884, AUPR: 0.9694\n"
     ]
    },
    {
     "name": "stderr",
     "output_type": "stream",
     "text": [
      " 32%|███▏      | 16/50 [05:44<12:18, 21.71s/it]"
     ]
    },
    {
     "name": "stdout",
     "output_type": "stream",
     "text": [
      "Epoch 16, Train Loss: 0.0502, Validation Loss: 0.3861, Validation Accuracy: 0.8747, Precision: 0.8268, recall: 0.7693, F1: 0.7784, AUC: 0.9892, AUPR: 0.9739\n"
     ]
    },
    {
     "name": "stderr",
     "output_type": "stream",
     "text": [
      " 34%|███▍      | 17/50 [06:05<11:52, 21.60s/it]"
     ]
    },
    {
     "name": "stdout",
     "output_type": "stream",
     "text": [
      "Epoch 17, Train Loss: 0.2131, Validation Loss: 0.2719, Validation Accuracy: 0.8864, Precision: 0.7874, recall: 0.7502, F1: 0.7521, AUC: 0.9900, AUPR: 0.9749\n"
     ]
    },
    {
     "name": "stderr",
     "output_type": "stream",
     "text": [
      " 36%|███▌      | 18/50 [06:26<11:29, 21.53s/it]"
     ]
    },
    {
     "name": "stdout",
     "output_type": "stream",
     "text": [
      "Epoch 18, Train Loss: 0.0393, Validation Loss: 0.4294, Validation Accuracy: 0.8749, Precision: 0.7466, recall: 0.7776, F1: 0.7346, AUC: 0.9855, AUPR: 0.9647\n"
     ]
    },
    {
     "name": "stderr",
     "output_type": "stream",
     "text": [
      " 38%|███▊      | 19/50 [06:48<11:05, 21.47s/it]"
     ]
    },
    {
     "name": "stdout",
     "output_type": "stream",
     "text": [
      "Epoch 19, Train Loss: 0.3000, Validation Loss: 0.4711, Validation Accuracy: 0.8885, Precision: 0.8013, recall: 0.7567, F1: 0.7638, AUC: 0.9887, AUPR: 0.9725\n",
      "Epoch 20, Train Loss: 0.0466, Validation Loss: 0.3919, Validation Accuracy: 0.8872, Precision: 0.8170, recall: 0.7915, F1: 0.7870, AUC: 0.9898, AUPR: 0.9736\n"
     ]
    },
    {
     "name": "stderr",
     "output_type": "stream",
     "text": [
      " 40%|████      | 20/50 [07:10<10:50, 21.67s/it]"
     ]
    },
    {
     "name": "stdout",
     "output_type": "stream",
     "text": [
      "Saved checkpoint: checkpoints/cnn_ddi_epoch_jaccard_20.pt\n"
     ]
    },
    {
     "name": "stderr",
     "output_type": "stream",
     "text": [
      " 42%|████▏     | 21/50 [07:31<10:27, 21.62s/it]"
     ]
    },
    {
     "name": "stdout",
     "output_type": "stream",
     "text": [
      "Epoch 21, Train Loss: 0.0609, Validation Loss: 0.5693, Validation Accuracy: 0.8678, Precision: 0.7798, recall: 0.7827, F1: 0.7585, AUC: 0.9876, AUPR: 0.9687\n"
     ]
    },
    {
     "name": "stderr",
     "output_type": "stream",
     "text": [
      " 44%|████▍     | 22/50 [07:53<10:03, 21.55s/it]"
     ]
    },
    {
     "name": "stdout",
     "output_type": "stream",
     "text": [
      "Epoch 22, Train Loss: 0.1240, Validation Loss: 0.6003, Validation Accuracy: 0.8485, Precision: 0.7615, recall: 0.6902, F1: 0.6967, AUC: 0.9863, AUPR: 0.9674\n"
     ]
    },
    {
     "name": "stderr",
     "output_type": "stream",
     "text": [
      " 46%|████▌     | 23/50 [08:14<09:39, 21.46s/it]"
     ]
    },
    {
     "name": "stdout",
     "output_type": "stream",
     "text": [
      "Epoch 23, Train Loss: 0.1786, Validation Loss: 0.6541, Validation Accuracy: 0.8771, Precision: 0.7859, recall: 0.6814, F1: 0.7044, AUC: 0.9890, AUPR: 0.9701\n"
     ]
    },
    {
     "name": "stderr",
     "output_type": "stream",
     "text": [
      " 48%|████▊     | 24/50 [08:35<09:16, 21.40s/it]"
     ]
    },
    {
     "name": "stdout",
     "output_type": "stream",
     "text": [
      "Epoch 24, Train Loss: 0.0940, Validation Loss: 0.7062, Validation Accuracy: 0.8779, Precision: 0.7978, recall: 0.7494, F1: 0.7504, AUC: 0.9869, AUPR: 0.9686\n"
     ]
    },
    {
     "name": "stderr",
     "output_type": "stream",
     "text": [
      " 50%|█████     | 25/50 [08:57<08:55, 21.40s/it]"
     ]
    },
    {
     "name": "stdout",
     "output_type": "stream",
     "text": [
      "Epoch 25, Train Loss: 0.0848, Validation Loss: 0.4934, Validation Accuracy: 0.8886, Precision: 0.8114, recall: 0.7618, F1: 0.7743, AUC: 0.9890, AUPR: 0.9743\n"
     ]
    },
    {
     "name": "stderr",
     "output_type": "stream",
     "text": [
      " 52%|█████▏    | 26/50 [09:18<08:32, 21.37s/it]"
     ]
    },
    {
     "name": "stdout",
     "output_type": "stream",
     "text": [
      "Epoch 26, Train Loss: 0.4687, Validation Loss: 0.7632, Validation Accuracy: 0.8813, Precision: 0.7673, recall: 0.7398, F1: 0.7377, AUC: 0.9898, AUPR: 0.9729\n"
     ]
    },
    {
     "name": "stderr",
     "output_type": "stream",
     "text": [
      " 54%|█████▍    | 27/50 [09:39<08:11, 21.36s/it]"
     ]
    },
    {
     "name": "stdout",
     "output_type": "stream",
     "text": [
      "Epoch 27, Train Loss: 0.0620, Validation Loss: 0.7241, Validation Accuracy: 0.8791, Precision: 0.7971, recall: 0.7040, F1: 0.7341, AUC: 0.9882, AUPR: 0.9656\n"
     ]
    },
    {
     "name": "stderr",
     "output_type": "stream",
     "text": [
      " 56%|█████▌    | 28/50 [10:00<07:48, 21.30s/it]"
     ]
    },
    {
     "name": "stdout",
     "output_type": "stream",
     "text": [
      "Epoch 28, Train Loss: 0.0894, Validation Loss: 1.0485, Validation Accuracy: 0.8784, Precision: 0.8135, recall: 0.7726, F1: 0.7782, AUC: 0.9870, AUPR: 0.9589\n"
     ]
    },
    {
     "name": "stderr",
     "output_type": "stream",
     "text": [
      " 58%|█████▊    | 29/50 [10:22<07:28, 21.34s/it]"
     ]
    },
    {
     "name": "stdout",
     "output_type": "stream",
     "text": [
      "Epoch 29, Train Loss: 0.0971, Validation Loss: 0.9074, Validation Accuracy: 0.8862, Precision: 0.7808, recall: 0.7406, F1: 0.7331, AUC: 0.9902, AUPR: 0.9745\n",
      "Epoch 30, Train Loss: 0.5353, Validation Loss: 1.2779, Validation Accuracy: 0.8811, Precision: 0.7851, recall: 0.7083, F1: 0.7305, AUC: 0.9873, AUPR: 0.9595\n"
     ]
    },
    {
     "name": "stderr",
     "output_type": "stream",
     "text": [
      " 60%|██████    | 30/50 [10:44<07:13, 21.66s/it]"
     ]
    },
    {
     "name": "stdout",
     "output_type": "stream",
     "text": [
      "Saved checkpoint: checkpoints/cnn_ddi_epoch_jaccard_30.pt\n"
     ]
    },
    {
     "name": "stderr",
     "output_type": "stream",
     "text": [
      " 62%|██████▏   | 31/50 [11:05<06:48, 21.50s/it]"
     ]
    },
    {
     "name": "stdout",
     "output_type": "stream",
     "text": [
      "Epoch 31, Train Loss: 0.0857, Validation Loss: 0.8111, Validation Accuracy: 0.8906, Precision: 0.8032, recall: 0.7946, F1: 0.7925, AUC: 0.9909, AUPR: 0.9736\n"
     ]
    },
    {
     "name": "stderr",
     "output_type": "stream",
     "text": [
      " 64%|██████▍   | 32/50 [11:27<06:27, 21.55s/it]"
     ]
    },
    {
     "name": "stdout",
     "output_type": "stream",
     "text": [
      "Epoch 32, Train Loss: 0.0692, Validation Loss: 0.8727, Validation Accuracy: 0.8931, Precision: 0.8034, recall: 0.7806, F1: 0.7808, AUC: 0.9906, AUPR: 0.9713\n"
     ]
    },
    {
     "name": "stderr",
     "output_type": "stream",
     "text": [
      " 66%|██████▌   | 33/50 [11:48<06:05, 21.48s/it]"
     ]
    },
    {
     "name": "stdout",
     "output_type": "stream",
     "text": [
      "Epoch 33, Train Loss: 0.1653, Validation Loss: 1.2339, Validation Accuracy: 0.8806, Precision: 0.8245, recall: 0.7805, F1: 0.7915, AUC: 0.9883, AUPR: 0.9617\n"
     ]
    },
    {
     "name": "stderr",
     "output_type": "stream",
     "text": [
      " 68%|██████▊   | 34/50 [12:10<05:42, 21.39s/it]"
     ]
    },
    {
     "name": "stdout",
     "output_type": "stream",
     "text": [
      "Epoch 34, Train Loss: 0.1017, Validation Loss: 1.1309, Validation Accuracy: 0.8572, Precision: 0.7017, recall: 0.8005, F1: 0.7212, AUC: 0.9853, AUPR: 0.9606\n"
     ]
    },
    {
     "name": "stderr",
     "output_type": "stream",
     "text": [
      " 70%|███████   | 35/50 [12:31<05:19, 21.33s/it]"
     ]
    },
    {
     "name": "stdout",
     "output_type": "stream",
     "text": [
      "Epoch 35, Train Loss: 0.2009, Validation Loss: 1.0915, Validation Accuracy: 0.8900, Precision: 0.8211, recall: 0.7812, F1: 0.7821, AUC: 0.9896, AUPR: 0.9679\n"
     ]
    },
    {
     "name": "stderr",
     "output_type": "stream",
     "text": [
      " 72%|███████▏  | 36/50 [12:52<04:58, 21.33s/it]"
     ]
    },
    {
     "name": "stdout",
     "output_type": "stream",
     "text": [
      "Epoch 36, Train Loss: 0.1212, Validation Loss: 1.7797, Validation Accuracy: 0.8861, Precision: 0.7765, recall: 0.7516, F1: 0.7511, AUC: 0.9879, AUPR: 0.9619\n"
     ]
    },
    {
     "name": "stderr",
     "output_type": "stream",
     "text": [
      " 74%|███████▍  | 37/50 [13:14<04:38, 21.40s/it]"
     ]
    },
    {
     "name": "stdout",
     "output_type": "stream",
     "text": [
      "Epoch 37, Train Loss: 0.2254, Validation Loss: 1.0673, Validation Accuracy: 0.8978, Precision: 0.7869, recall: 0.7595, F1: 0.7611, AUC: 0.9903, AUPR: 0.9723\n"
     ]
    },
    {
     "name": "stderr",
     "output_type": "stream",
     "text": [
      " 76%|███████▌  | 38/50 [13:35<04:15, 21.30s/it]"
     ]
    },
    {
     "name": "stdout",
     "output_type": "stream",
     "text": [
      "Epoch 38, Train Loss: 0.0642, Validation Loss: 0.9056, Validation Accuracy: 0.8932, Precision: 0.8001, recall: 0.7689, F1: 0.7674, AUC: 0.9908, AUPR: 0.9740\n"
     ]
    },
    {
     "name": "stderr",
     "output_type": "stream",
     "text": [
      " 78%|███████▊  | 39/50 [13:56<03:53, 21.23s/it]"
     ]
    },
    {
     "name": "stdout",
     "output_type": "stream",
     "text": [
      "Epoch 39, Train Loss: 0.4430, Validation Loss: 1.4108, Validation Accuracy: 0.8913, Precision: 0.7894, recall: 0.7934, F1: 0.7779, AUC: 0.9886, AUPR: 0.9647\n",
      "Epoch 40, Train Loss: 0.0731, Validation Loss: 1.4558, Validation Accuracy: 0.8843, Precision: 0.8079, recall: 0.7963, F1: 0.7863, AUC: 0.9893, AUPR: 0.9702\n"
     ]
    },
    {
     "name": "stderr",
     "output_type": "stream",
     "text": [
      " 80%|████████  | 40/50 [14:18<03:35, 21.54s/it]"
     ]
    },
    {
     "name": "stdout",
     "output_type": "stream",
     "text": [
      "Saved checkpoint: checkpoints/cnn_ddi_epoch_jaccard_40.pt\n"
     ]
    },
    {
     "name": "stderr",
     "output_type": "stream",
     "text": [
      " 82%|████████▏ | 41/50 [14:39<03:13, 21.46s/it]"
     ]
    },
    {
     "name": "stdout",
     "output_type": "stream",
     "text": [
      "Epoch 41, Train Loss: 0.1692, Validation Loss: 1.5827, Validation Accuracy: 0.8953, Precision: 0.8202, recall: 0.7885, F1: 0.7930, AUC: 0.9893, AUPR: 0.9649\n"
     ]
    },
    {
     "name": "stderr",
     "output_type": "stream",
     "text": [
      " 84%|████████▍ | 42/50 [15:00<02:51, 21.38s/it]"
     ]
    },
    {
     "name": "stdout",
     "output_type": "stream",
     "text": [
      "Epoch 42, Train Loss: 0.1080, Validation Loss: 1.6941, Validation Accuracy: 0.8817, Precision: 0.8459, recall: 0.8162, F1: 0.8122, AUC: 0.9871, AUPR: 0.9560\n"
     ]
    },
    {
     "name": "stderr",
     "output_type": "stream",
     "text": [
      " 86%|████████▌ | 43/50 [15:22<02:29, 21.34s/it]"
     ]
    },
    {
     "name": "stdout",
     "output_type": "stream",
     "text": [
      "Epoch 43, Train Loss: 0.2536, Validation Loss: 1.5595, Validation Accuracy: 0.8956, Precision: 0.8349, recall: 0.7712, F1: 0.7863, AUC: 0.9888, AUPR: 0.9659\n"
     ]
    },
    {
     "name": "stderr",
     "output_type": "stream",
     "text": [
      " 88%|████████▊ | 44/50 [15:43<02:08, 21.33s/it]"
     ]
    },
    {
     "name": "stdout",
     "output_type": "stream",
     "text": [
      "Epoch 44, Train Loss: 0.1212, Validation Loss: 3.4931, Validation Accuracy: 0.8414, Precision: 0.7733, recall: 0.6937, F1: 0.7112, AUC: 0.9801, AUPR: 0.9400\n"
     ]
    },
    {
     "name": "stderr",
     "output_type": "stream",
     "text": [
      " 90%|█████████ | 45/50 [16:05<01:47, 21.42s/it]"
     ]
    },
    {
     "name": "stdout",
     "output_type": "stream",
     "text": [
      "Epoch 45, Train Loss: 0.5155, Validation Loss: 2.0596, Validation Accuracy: 0.8983, Precision: 0.8028, recall: 0.8144, F1: 0.7978, AUC: 0.9898, AUPR: 0.9668\n"
     ]
    },
    {
     "name": "stderr",
     "output_type": "stream",
     "text": [
      " 92%|█████████▏| 46/50 [16:26<01:25, 21.39s/it]"
     ]
    },
    {
     "name": "stdout",
     "output_type": "stream",
     "text": [
      "Epoch 46, Train Loss: 0.0748, Validation Loss: 1.5092, Validation Accuracy: 0.8983, Precision: 0.8376, recall: 0.7716, F1: 0.7915, AUC: 0.9885, AUPR: 0.9631\n"
     ]
    },
    {
     "name": "stderr",
     "output_type": "stream",
     "text": [
      " 94%|█████████▍| 47/50 [16:47<01:04, 21.33s/it]"
     ]
    },
    {
     "name": "stdout",
     "output_type": "stream",
     "text": [
      "Epoch 47, Train Loss: 0.1204, Validation Loss: 2.0581, Validation Accuracy: 0.8909, Precision: 0.8302, recall: 0.7954, F1: 0.7941, AUC: 0.9890, AUPR: 0.9619\n"
     ]
    },
    {
     "name": "stderr",
     "output_type": "stream",
     "text": [
      " 96%|█████████▌| 48/50 [17:08<00:42, 21.30s/it]"
     ]
    },
    {
     "name": "stdout",
     "output_type": "stream",
     "text": [
      "Epoch 48, Train Loss: 0.2378, Validation Loss: 2.2655, Validation Accuracy: 0.8862, Precision: 0.7999, recall: 0.7778, F1: 0.7763, AUC: 0.9878, AUPR: 0.9573\n"
     ]
    },
    {
     "name": "stderr",
     "output_type": "stream",
     "text": [
      " 98%|█████████▊| 49/50 [17:30<00:21, 21.28s/it]"
     ]
    },
    {
     "name": "stdout",
     "output_type": "stream",
     "text": [
      "Epoch 49, Train Loss: 0.1513, Validation Loss: 2.5067, Validation Accuracy: 0.8877, Precision: 0.8149, recall: 0.7131, F1: 0.7351, AUC: 0.9883, AUPR: 0.9597\n",
      "Epoch 50, Train Loss: 0.2572, Validation Loss: 3.0106, Validation Accuracy: 0.8881, Precision: 0.8205, recall: 0.8336, F1: 0.8104, AUC: 0.9883, AUPR: 0.9571\n"
     ]
    },
    {
     "name": "stderr",
     "output_type": "stream",
     "text": [
      "100%|██████████| 50/50 [17:52<00:00, 21.44s/it]"
     ]
    },
    {
     "name": "stdout",
     "output_type": "stream",
     "text": [
      "Saved checkpoint: checkpoints/cnn_ddi_epoch_jaccard_50.pt\n",
      "Similarity measure: cosine\n"
     ]
    },
    {
     "name": "stderr",
     "output_type": "stream",
     "text": [
      "\n",
      "/tmp/ipykernel_21746/3982585584.py:3: UserWarning: To copy construct from a tensor, it is recommended to use sourceTensor.clone().detach() or sourceTensor.clone().detach().requires_grad_(True), rather than torch.tensor(sourceTensor).\n",
      "  self.features = torch.tensor(features, dtype=torch.float32)\n",
      "  2%|▏         | 1/50 [00:21<17:22, 21.28s/it]"
     ]
    },
    {
     "name": "stdout",
     "output_type": "stream",
     "text": [
      "Epoch 1, Train Loss: 0.8250, Validation Loss: 0.3770, Validation Accuracy: 0.7826, Precision: 0.6388, recall: 0.5192, F1: 0.5381, AUC: 0.9574, AUPR: 0.8960\n"
     ]
    },
    {
     "name": "stderr",
     "output_type": "stream",
     "text": [
      "  4%|▍         | 2/50 [00:42<17:04, 21.34s/it]"
     ]
    },
    {
     "name": "stdout",
     "output_type": "stream",
     "text": [
      "Epoch 2, Train Loss: 0.2964, Validation Loss: 0.3217, Validation Accuracy: 0.8034, Precision: 0.7036, recall: 0.6392, F1: 0.6297, AUC: 0.9684, AUPR: 0.9216\n"
     ]
    },
    {
     "name": "stderr",
     "output_type": "stream",
     "text": [
      "  6%|▌         | 3/50 [01:03<16:41, 21.31s/it]"
     ]
    },
    {
     "name": "stdout",
     "output_type": "stream",
     "text": [
      "Epoch 3, Train Loss: 0.2242, Validation Loss: 0.2403, Validation Accuracy: 0.8474, Precision: 0.7539, recall: 0.6861, F1: 0.6926, AUC: 0.9812, AUPR: 0.9505\n"
     ]
    },
    {
     "name": "stderr",
     "output_type": "stream",
     "text": [
      "  8%|▊         | 4/50 [01:25<16:18, 21.27s/it]"
     ]
    },
    {
     "name": "stdout",
     "output_type": "stream",
     "text": [
      "Epoch 4, Train Loss: 0.1747, Validation Loss: 0.3011, Validation Accuracy: 0.8406, Precision: 0.7112, recall: 0.7422, F1: 0.6995, AUC: 0.9763, AUPR: 0.9456\n"
     ]
    },
    {
     "name": "stderr",
     "output_type": "stream",
     "text": [
      " 10%|█         | 5/50 [01:46<15:56, 21.25s/it]"
     ]
    },
    {
     "name": "stdout",
     "output_type": "stream",
     "text": [
      "Epoch 5, Train Loss: 0.1754, Validation Loss: 0.2293, Validation Accuracy: 0.8637, Precision: 0.7907, recall: 0.7268, F1: 0.7213, AUC: 0.9850, AUPR: 0.9630\n"
     ]
    },
    {
     "name": "stderr",
     "output_type": "stream",
     "text": [
      " 12%|█▏        | 6/50 [02:07<15:35, 21.26s/it]"
     ]
    },
    {
     "name": "stdout",
     "output_type": "stream",
     "text": [
      "Epoch 6, Train Loss: 0.1289, Validation Loss: 0.2383, Validation Accuracy: 0.8548, Precision: 0.8073, recall: 0.6752, F1: 0.7094, AUC: 0.9811, AUPR: 0.9493\n"
     ]
    },
    {
     "name": "stderr",
     "output_type": "stream",
     "text": [
      " 14%|█▍        | 7/50 [02:28<15:14, 21.26s/it]"
     ]
    },
    {
     "name": "stdout",
     "output_type": "stream",
     "text": [
      "Epoch 7, Train Loss: 0.1298, Validation Loss: 0.2091, Validation Accuracy: 0.8712, Precision: 0.8413, recall: 0.7891, F1: 0.7936, AUC: 0.9878, AUPR: 0.9687\n"
     ]
    },
    {
     "name": "stderr",
     "output_type": "stream",
     "text": [
      " 16%|█▌        | 8/50 [02:50<14:52, 21.25s/it]"
     ]
    },
    {
     "name": "stdout",
     "output_type": "stream",
     "text": [
      "Epoch 8, Train Loss: 1.7071, Validation Loss: 0.3583, Validation Accuracy: 0.8512, Precision: 0.7884, recall: 0.6366, F1: 0.6751, AUC: 0.9841, AUPR: 0.9604\n"
     ]
    },
    {
     "name": "stderr",
     "output_type": "stream",
     "text": [
      " 18%|█▊        | 9/50 [03:11<14:31, 21.27s/it]"
     ]
    },
    {
     "name": "stdout",
     "output_type": "stream",
     "text": [
      "Epoch 9, Train Loss: 0.1169, Validation Loss: 0.2858, Validation Accuracy: 0.8861, Precision: 0.8363, recall: 0.7373, F1: 0.7632, AUC: 0.9885, AUPR: 0.9695\n",
      "Epoch 10, Train Loss: 0.1087, Validation Loss: 0.3389, Validation Accuracy: 0.8468, Precision: 0.7742, recall: 0.7490, F1: 0.7381, AUC: 0.9843, AUPR: 0.9617\n"
     ]
    },
    {
     "name": "stderr",
     "output_type": "stream",
     "text": [
      " 20%|██        | 10/50 [03:33<14:23, 21.60s/it]"
     ]
    },
    {
     "name": "stdout",
     "output_type": "stream",
     "text": [
      "Saved checkpoint: checkpoints/cnn_ddi_epoch_cosine_10.pt\n"
     ]
    },
    {
     "name": "stderr",
     "output_type": "stream",
     "text": [
      " 22%|██▏       | 11/50 [03:55<13:59, 21.53s/it]"
     ]
    },
    {
     "name": "stdout",
     "output_type": "stream",
     "text": [
      "Epoch 11, Train Loss: 0.1002, Validation Loss: 0.4890, Validation Accuracy: 0.8558, Precision: 0.7708, recall: 0.7585, F1: 0.7377, AUC: 0.9828, AUPR: 0.9576\n"
     ]
    },
    {
     "name": "stderr",
     "output_type": "stream",
     "text": [
      " 24%|██▍       | 12/50 [04:16<13:36, 21.49s/it]"
     ]
    },
    {
     "name": "stdout",
     "output_type": "stream",
     "text": [
      "Epoch 12, Train Loss: 0.1033, Validation Loss: 0.4697, Validation Accuracy: 0.8320, Precision: 0.7286, recall: 0.6894, F1: 0.6804, AUC: 0.9808, AUPR: 0.9545\n"
     ]
    },
    {
     "name": "stderr",
     "output_type": "stream",
     "text": [
      " 26%|██▌       | 13/50 [04:38<13:15, 21.49s/it]"
     ]
    },
    {
     "name": "stdout",
     "output_type": "stream",
     "text": [
      "Epoch 13, Train Loss: 0.1021, Validation Loss: 0.3359, Validation Accuracy: 0.8764, Precision: 0.7834, recall: 0.7532, F1: 0.7424, AUC: 0.9891, AUPR: 0.9731\n"
     ]
    },
    {
     "name": "stderr",
     "output_type": "stream",
     "text": [
      " 28%|██▊       | 14/50 [04:59<12:54, 21.50s/it]"
     ]
    },
    {
     "name": "stdout",
     "output_type": "stream",
     "text": [
      "Epoch 14, Train Loss: 0.1416, Validation Loss: 0.3719, Validation Accuracy: 0.8740, Precision: 0.7839, recall: 0.7356, F1: 0.7377, AUC: 0.9855, AUPR: 0.9633\n"
     ]
    },
    {
     "name": "stderr",
     "output_type": "stream",
     "text": [
      " 30%|███       | 15/50 [05:20<12:29, 21.42s/it]"
     ]
    },
    {
     "name": "stdout",
     "output_type": "stream",
     "text": [
      "Epoch 15, Train Loss: 0.0871, Validation Loss: 0.3901, Validation Accuracy: 0.8551, Precision: 0.7382, recall: 0.7786, F1: 0.7193, AUC: 0.9840, AUPR: 0.9588\n"
     ]
    },
    {
     "name": "stderr",
     "output_type": "stream",
     "text": [
      " 32%|███▏      | 16/50 [05:42<12:07, 21.39s/it]"
     ]
    },
    {
     "name": "stdout",
     "output_type": "stream",
     "text": [
      "Epoch 16, Train Loss: 0.1435, Validation Loss: 0.3497, Validation Accuracy: 0.8772, Precision: 0.7845, recall: 0.7898, F1: 0.7703, AUC: 0.9876, AUPR: 0.9671\n"
     ]
    },
    {
     "name": "stderr",
     "output_type": "stream",
     "text": [
      " 34%|███▍      | 17/50 [06:03<11:46, 21.41s/it]"
     ]
    },
    {
     "name": "stdout",
     "output_type": "stream",
     "text": [
      "Epoch 17, Train Loss: 0.0836, Validation Loss: 0.3795, Validation Accuracy: 0.8780, Precision: 0.7890, recall: 0.7988, F1: 0.7721, AUC: 0.9892, AUPR: 0.9743\n"
     ]
    },
    {
     "name": "stderr",
     "output_type": "stream",
     "text": [
      " 36%|███▌      | 18/50 [06:24<11:23, 21.35s/it]"
     ]
    },
    {
     "name": "stdout",
     "output_type": "stream",
     "text": [
      "Epoch 18, Train Loss: 1.0140, Validation Loss: 1.0904, Validation Accuracy: 0.8456, Precision: 0.6863, recall: 0.6679, F1: 0.6490, AUC: 0.9814, AUPR: 0.9513\n"
     ]
    },
    {
     "name": "stderr",
     "output_type": "stream",
     "text": [
      " 38%|███▊      | 19/50 [06:46<11:01, 21.33s/it]"
     ]
    },
    {
     "name": "stdout",
     "output_type": "stream",
     "text": [
      "Epoch 19, Train Loss: 0.1364, Validation Loss: 0.4436, Validation Accuracy: 0.8912, Precision: 0.7869, recall: 0.7523, F1: 0.7455, AUC: 0.9899, AUPR: 0.9742\n",
      "Epoch 20, Train Loss: 0.0660, Validation Loss: 0.4747, Validation Accuracy: 0.8809, Precision: 0.7656, recall: 0.8371, F1: 0.7680, AUC: 0.9881, AUPR: 0.9707\n"
     ]
    },
    {
     "name": "stderr",
     "output_type": "stream",
     "text": [
      " 40%|████      | 20/50 [07:08<10:49, 21.63s/it]"
     ]
    },
    {
     "name": "stdout",
     "output_type": "stream",
     "text": [
      "Saved checkpoint: checkpoints/cnn_ddi_epoch_cosine_20.pt\n"
     ]
    },
    {
     "name": "stderr",
     "output_type": "stream",
     "text": [
      " 42%|████▏     | 21/50 [07:29<10:26, 21.59s/it]"
     ]
    },
    {
     "name": "stdout",
     "output_type": "stream",
     "text": [
      "Epoch 21, Train Loss: 0.0996, Validation Loss: 0.5296, Validation Accuracy: 0.8874, Precision: 0.7929, recall: 0.7471, F1: 0.7480, AUC: 0.9889, AUPR: 0.9694\n"
     ]
    },
    {
     "name": "stderr",
     "output_type": "stream",
     "text": [
      " 44%|████▍     | 22/50 [07:51<10:03, 21.55s/it]"
     ]
    },
    {
     "name": "stdout",
     "output_type": "stream",
     "text": [
      "Epoch 22, Train Loss: 0.1043, Validation Loss: 0.6349, Validation Accuracy: 0.8649, Precision: 0.7280, recall: 0.7400, F1: 0.7096, AUC: 0.9861, AUPR: 0.9678\n"
     ]
    },
    {
     "name": "stderr",
     "output_type": "stream",
     "text": [
      " 46%|████▌     | 23/50 [08:13<09:44, 21.64s/it]"
     ]
    },
    {
     "name": "stdout",
     "output_type": "stream",
     "text": [
      "Epoch 23, Train Loss: 0.1166, Validation Loss: 0.4779, Validation Accuracy: 0.8896, Precision: 0.8227, recall: 0.8253, F1: 0.8087, AUC: 0.9897, AUPR: 0.9742\n"
     ]
    },
    {
     "name": "stderr",
     "output_type": "stream",
     "text": [
      " 48%|████▊     | 24/50 [08:35<09:27, 21.82s/it]"
     ]
    },
    {
     "name": "stdout",
     "output_type": "stream",
     "text": [
      "Epoch 24, Train Loss: 0.1453, Validation Loss: 0.6856, Validation Accuracy: 0.8866, Precision: 0.8302, recall: 0.7447, F1: 0.7690, AUC: 0.9892, AUPR: 0.9706\n"
     ]
    },
    {
     "name": "stderr",
     "output_type": "stream",
     "text": [
      " 50%|█████     | 25/50 [08:57<09:03, 21.75s/it]"
     ]
    },
    {
     "name": "stdout",
     "output_type": "stream",
     "text": [
      "Epoch 25, Train Loss: 0.0891, Validation Loss: 0.5109, Validation Accuracy: 0.8897, Precision: 0.8235, recall: 0.7939, F1: 0.7885, AUC: 0.9896, AUPR: 0.9739\n"
     ]
    },
    {
     "name": "stderr",
     "output_type": "stream",
     "text": [
      " 52%|█████▏    | 26/50 [09:18<08:38, 21.61s/it]"
     ]
    },
    {
     "name": "stdout",
     "output_type": "stream",
     "text": [
      "Epoch 26, Train Loss: 0.1854, Validation Loss: 0.7178, Validation Accuracy: 0.8622, Precision: 0.7460, recall: 0.7423, F1: 0.7170, AUC: 0.9880, AUPR: 0.9676\n"
     ]
    },
    {
     "name": "stderr",
     "output_type": "stream",
     "text": [
      " 54%|█████▍    | 27/50 [09:39<08:14, 21.50s/it]"
     ]
    },
    {
     "name": "stdout",
     "output_type": "stream",
     "text": [
      "Epoch 27, Train Loss: 0.0784, Validation Loss: 0.4621, Validation Accuracy: 0.8890, Precision: 0.8028, recall: 0.7882, F1: 0.7781, AUC: 0.9895, AUPR: 0.9745\n"
     ]
    },
    {
     "name": "stderr",
     "output_type": "stream",
     "text": [
      " 56%|█████▌    | 28/50 [10:00<07:51, 21.42s/it]"
     ]
    },
    {
     "name": "stdout",
     "output_type": "stream",
     "text": [
      "Epoch 28, Train Loss: 0.1494, Validation Loss: 1.0573, Validation Accuracy: 0.8678, Precision: 0.7834, recall: 0.7801, F1: 0.7594, AUC: 0.9853, AUPR: 0.9645\n"
     ]
    },
    {
     "name": "stderr",
     "output_type": "stream",
     "text": [
      " 58%|█████▊    | 29/50 [10:22<07:33, 21.61s/it]"
     ]
    },
    {
     "name": "stdout",
     "output_type": "stream",
     "text": [
      "Epoch 29, Train Loss: 0.0945, Validation Loss: 0.6090, Validation Accuracy: 0.8961, Precision: 0.7777, recall: 0.7378, F1: 0.7389, AUC: 0.9892, AUPR: 0.9723\n",
      "Epoch 30, Train Loss: 0.1709, Validation Loss: 0.8718, Validation Accuracy: 0.8535, Precision: 0.6962, recall: 0.6244, F1: 0.6333, AUC: 0.9847, AUPR: 0.9587\n"
     ]
    },
    {
     "name": "stderr",
     "output_type": "stream",
     "text": [
      " 60%|██████    | 30/50 [10:45<07:17, 21.87s/it]"
     ]
    },
    {
     "name": "stdout",
     "output_type": "stream",
     "text": [
      "Saved checkpoint: checkpoints/cnn_ddi_epoch_cosine_30.pt\n"
     ]
    },
    {
     "name": "stderr",
     "output_type": "stream",
     "text": [
      " 62%|██████▏   | 31/50 [11:06<06:53, 21.75s/it]"
     ]
    },
    {
     "name": "stdout",
     "output_type": "stream",
     "text": [
      "Epoch 31, Train Loss: 0.1214, Validation Loss: 0.7134, Validation Accuracy: 0.8913, Precision: 0.8048, recall: 0.8107, F1: 0.7975, AUC: 0.9904, AUPR: 0.9769\n"
     ]
    },
    {
     "name": "stderr",
     "output_type": "stream",
     "text": [
      " 64%|██████▍   | 32/50 [11:28<06:32, 21.82s/it]"
     ]
    },
    {
     "name": "stdout",
     "output_type": "stream",
     "text": [
      "Epoch 32, Train Loss: 0.1355, Validation Loss: 1.3272, Validation Accuracy: 0.8751, Precision: 0.7898, recall: 0.7617, F1: 0.7573, AUC: 0.9884, AUPR: 0.9606\n"
     ]
    },
    {
     "name": "stderr",
     "output_type": "stream",
     "text": [
      " 66%|██████▌   | 33/50 [11:50<06:08, 21.68s/it]"
     ]
    },
    {
     "name": "stdout",
     "output_type": "stream",
     "text": [
      "Epoch 33, Train Loss: 0.1011, Validation Loss: 0.7443, Validation Accuracy: 0.8880, Precision: 0.8031, recall: 0.7532, F1: 0.7685, AUC: 0.9896, AUPR: 0.9720\n"
     ]
    },
    {
     "name": "stderr",
     "output_type": "stream",
     "text": [
      " 68%|██████▊   | 34/50 [12:11<05:44, 21.56s/it]"
     ]
    },
    {
     "name": "stdout",
     "output_type": "stream",
     "text": [
      "Epoch 34, Train Loss: 1.1089, Validation Loss: 1.9251, Validation Accuracy: 0.8780, Precision: 0.7808, recall: 0.6913, F1: 0.7141, AUC: 0.9885, AUPR: 0.9618\n"
     ]
    },
    {
     "name": "stderr",
     "output_type": "stream",
     "text": [
      " 70%|███████   | 35/50 [12:32<05:21, 21.46s/it]"
     ]
    },
    {
     "name": "stdout",
     "output_type": "stream",
     "text": [
      "Epoch 35, Train Loss: 0.1397, Validation Loss: 1.2269, Validation Accuracy: 0.8999, Precision: 0.7726, recall: 0.7942, F1: 0.7710, AUC: 0.9910, AUPR: 0.9717\n"
     ]
    },
    {
     "name": "stderr",
     "output_type": "stream",
     "text": [
      " 72%|███████▏  | 36/50 [12:53<04:59, 21.39s/it]"
     ]
    },
    {
     "name": "stdout",
     "output_type": "stream",
     "text": [
      "Epoch 36, Train Loss: 0.0629, Validation Loss: 1.2983, Validation Accuracy: 0.9046, Precision: 0.7928, recall: 0.7885, F1: 0.7785, AUC: 0.9916, AUPR: 0.9709\n"
     ]
    },
    {
     "name": "stderr",
     "output_type": "stream",
     "text": [
      " 74%|███████▍  | 37/50 [13:15<04:37, 21.34s/it]"
     ]
    },
    {
     "name": "stdout",
     "output_type": "stream",
     "text": [
      "Epoch 37, Train Loss: 0.1115, Validation Loss: 1.4616, Validation Accuracy: 0.8952, Precision: 0.7958, recall: 0.7286, F1: 0.7470, AUC: 0.9888, AUPR: 0.9610\n"
     ]
    },
    {
     "name": "stderr",
     "output_type": "stream",
     "text": [
      " 76%|███████▌  | 38/50 [13:36<04:16, 21.38s/it]"
     ]
    },
    {
     "name": "stdout",
     "output_type": "stream",
     "text": [
      "Epoch 38, Train Loss: 0.2375, Validation Loss: 1.9874, Validation Accuracy: 0.8763, Precision: 0.7355, recall: 0.8455, F1: 0.7656, AUC: 0.9870, AUPR: 0.9590\n"
     ]
    },
    {
     "name": "stderr",
     "output_type": "stream",
     "text": [
      " 78%|███████▊  | 39/50 [13:58<03:56, 21.48s/it]"
     ]
    },
    {
     "name": "stdout",
     "output_type": "stream",
     "text": [
      "Epoch 39, Train Loss: 0.1064, Validation Loss: 1.2625, Validation Accuracy: 0.9006, Precision: 0.7980, recall: 0.7953, F1: 0.7806, AUC: 0.9908, AUPR: 0.9709\n",
      "Epoch 40, Train Loss: 0.1417, Validation Loss: 1.9011, Validation Accuracy: 0.8898, Precision: 0.8463, recall: 0.7839, F1: 0.8037, AUC: 0.9877, AUPR: 0.9517\n"
     ]
    },
    {
     "name": "stderr",
     "output_type": "stream",
     "text": [
      " 80%|████████  | 40/50 [14:20<03:37, 21.75s/it]"
     ]
    },
    {
     "name": "stdout",
     "output_type": "stream",
     "text": [
      "Saved checkpoint: checkpoints/cnn_ddi_epoch_cosine_40.pt\n"
     ]
    },
    {
     "name": "stderr",
     "output_type": "stream",
     "text": [
      " 82%|████████▏ | 41/50 [14:42<03:15, 21.68s/it]"
     ]
    },
    {
     "name": "stdout",
     "output_type": "stream",
     "text": [
      "Epoch 41, Train Loss: 0.1893, Validation Loss: 1.2014, Validation Accuracy: 0.8782, Precision: 0.8065, recall: 0.7429, F1: 0.7526, AUC: 0.9890, AUPR: 0.9663\n"
     ]
    },
    {
     "name": "stderr",
     "output_type": "stream",
     "text": [
      " 84%|████████▍ | 42/50 [15:04<02:54, 21.76s/it]"
     ]
    },
    {
     "name": "stdout",
     "output_type": "stream",
     "text": [
      "Epoch 42, Train Loss: 0.1538, Validation Loss: 1.2255, Validation Accuracy: 0.8933, Precision: 0.8247, recall: 0.7581, F1: 0.7712, AUC: 0.9903, AUPR: 0.9689\n"
     ]
    },
    {
     "name": "stderr",
     "output_type": "stream",
     "text": [
      " 86%|████████▌ | 43/50 [15:25<02:31, 21.66s/it]"
     ]
    },
    {
     "name": "stdout",
     "output_type": "stream",
     "text": [
      "Epoch 43, Train Loss: 0.2298, Validation Loss: 1.6810, Validation Accuracy: 0.8928, Precision: 0.8293, recall: 0.7927, F1: 0.7896, AUC: 0.9873, AUPR: 0.9547\n"
     ]
    },
    {
     "name": "stderr",
     "output_type": "stream",
     "text": [
      " 88%|████████▊ | 44/50 [15:46<02:09, 21.58s/it]"
     ]
    },
    {
     "name": "stdout",
     "output_type": "stream",
     "text": [
      "Epoch 44, Train Loss: 0.1410, Validation Loss: 1.5410, Validation Accuracy: 0.8980, Precision: 0.8213, recall: 0.7787, F1: 0.7931, AUC: 0.9889, AUPR: 0.9591\n"
     ]
    },
    {
     "name": "stderr",
     "output_type": "stream",
     "text": [
      " 90%|█████████ | 45/50 [16:08<01:47, 21.53s/it]"
     ]
    },
    {
     "name": "stdout",
     "output_type": "stream",
     "text": [
      "Epoch 45, Train Loss: 0.2020, Validation Loss: 2.1911, Validation Accuracy: 0.8880, Precision: 0.8465, recall: 0.7593, F1: 0.7860, AUC: 0.9859, AUPR: 0.9447\n"
     ]
    },
    {
     "name": "stderr",
     "output_type": "stream",
     "text": [
      " 92%|█████████▏| 46/50 [16:29<01:26, 21.53s/it]"
     ]
    },
    {
     "name": "stdout",
     "output_type": "stream",
     "text": [
      "Epoch 46, Train Loss: 0.1602, Validation Loss: 1.6986, Validation Accuracy: 0.8881, Precision: 0.8245, recall: 0.7785, F1: 0.7879, AUC: 0.9887, AUPR: 0.9603\n"
     ]
    },
    {
     "name": "stderr",
     "output_type": "stream",
     "text": [
      " 94%|█████████▍| 47/50 [16:51<01:04, 21.47s/it]"
     ]
    },
    {
     "name": "stdout",
     "output_type": "stream",
     "text": [
      "Epoch 47, Train Loss: 0.1688, Validation Loss: 1.9597, Validation Accuracy: 0.8941, Precision: 0.8097, recall: 0.8075, F1: 0.7911, AUC: 0.9896, AUPR: 0.9653\n"
     ]
    },
    {
     "name": "stderr",
     "output_type": "stream",
     "text": [
      " 96%|█████████▌| 48/50 [17:12<00:42, 21.36s/it]"
     ]
    },
    {
     "name": "stdout",
     "output_type": "stream",
     "text": [
      "Epoch 48, Train Loss: 0.2228, Validation Loss: 1.5834, Validation Accuracy: 0.8933, Precision: 0.8442, recall: 0.7949, F1: 0.8042, AUC: 0.9891, AUPR: 0.9631\n"
     ]
    },
    {
     "name": "stderr",
     "output_type": "stream",
     "text": [
      " 98%|█████████▊| 49/50 [17:33<00:21, 21.28s/it]"
     ]
    },
    {
     "name": "stdout",
     "output_type": "stream",
     "text": [
      "Epoch 49, Train Loss: 0.1225, Validation Loss: 2.3036, Validation Accuracy: 0.9022, Precision: 0.7975, recall: 0.8018, F1: 0.7842, AUC: 0.9899, AUPR: 0.9614\n",
      "Epoch 50, Train Loss: 0.2784, Validation Loss: 2.5382, Validation Accuracy: 0.8860, Precision: 0.7953, recall: 0.7438, F1: 0.7501, AUC: 0.9853, AUPR: 0.9467\n"
     ]
    },
    {
     "name": "stderr",
     "output_type": "stream",
     "text": [
      "100%|██████████| 50/50 [17:55<00:00, 21.51s/it]"
     ]
    },
    {
     "name": "stdout",
     "output_type": "stream",
     "text": [
      "Saved checkpoint: checkpoints/cnn_ddi_epoch_cosine_50.pt\n",
      "Similarity measure: gaussian\n"
     ]
    },
    {
     "name": "stderr",
     "output_type": "stream",
     "text": [
      "\n",
      "/tmp/ipykernel_21746/3982585584.py:3: UserWarning: To copy construct from a tensor, it is recommended to use sourceTensor.clone().detach() or sourceTensor.clone().detach().requires_grad_(True), rather than torch.tensor(sourceTensor).\n",
      "  self.features = torch.tensor(features, dtype=torch.float32)\n",
      "  2%|▏         | 1/50 [00:21<17:16, 21.16s/it]"
     ]
    },
    {
     "name": "stdout",
     "output_type": "stream",
     "text": [
      "Epoch 1, Train Loss: 0.9521, Validation Loss: 0.4985, Validation Accuracy: 0.7581, Precision: 0.4841, recall: 0.6559, F1: 0.5212, AUC: 0.9531, AUPR: 0.9017\n"
     ]
    },
    {
     "name": "stderr",
     "output_type": "stream",
     "text": [
      "  4%|▍         | 2/50 [00:42<17:06, 21.39s/it]"
     ]
    },
    {
     "name": "stdout",
     "output_type": "stream",
     "text": [
      "Epoch 2, Train Loss: 0.2900, Validation Loss: 0.3347, Validation Accuracy: 0.8122, Precision: 0.7345, recall: 0.6055, F1: 0.6404, AUC: 0.9707, AUPR: 0.9246\n"
     ]
    },
    {
     "name": "stderr",
     "output_type": "stream",
     "text": [
      "  6%|▌         | 3/50 [01:04<16:55, 21.60s/it]"
     ]
    },
    {
     "name": "stdout",
     "output_type": "stream",
     "text": [
      "Epoch 3, Train Loss: 0.2088, Validation Loss: 0.2777, Validation Accuracy: 0.8256, Precision: 0.7387, recall: 0.7752, F1: 0.7280, AUC: 0.9726, AUPR: 0.9282\n"
     ]
    },
    {
     "name": "stderr",
     "output_type": "stream",
     "text": [
      "  8%|▊         | 4/50 [01:25<16:28, 21.50s/it]"
     ]
    },
    {
     "name": "stdout",
     "output_type": "stream",
     "text": [
      "Epoch 4, Train Loss: 0.1703, Validation Loss: 0.2483, Validation Accuracy: 0.8457, Precision: 0.7104, recall: 0.7195, F1: 0.6914, AUC: 0.9804, AUPR: 0.9503\n"
     ]
    },
    {
     "name": "stderr",
     "output_type": "stream",
     "text": [
      " 10%|█         | 5/50 [01:47<16:01, 21.36s/it]"
     ]
    },
    {
     "name": "stdout",
     "output_type": "stream",
     "text": [
      "Epoch 5, Train Loss: 0.1581, Validation Loss: 0.2349, Validation Accuracy: 0.8603, Precision: 0.7633, recall: 0.7203, F1: 0.7158, AUC: 0.9831, AUPR: 0.9584\n"
     ]
    },
    {
     "name": "stderr",
     "output_type": "stream",
     "text": [
      " 12%|█▏        | 6/50 [02:08<15:36, 21.28s/it]"
     ]
    },
    {
     "name": "stdout",
     "output_type": "stream",
     "text": [
      "Epoch 6, Train Loss: 0.1309, Validation Loss: 0.2645, Validation Accuracy: 0.8622, Precision: 0.7820, recall: 0.7541, F1: 0.7537, AUC: 0.9832, AUPR: 0.9600\n"
     ]
    },
    {
     "name": "stderr",
     "output_type": "stream",
     "text": [
      " 14%|█▍        | 7/50 [02:29<15:14, 21.26s/it]"
     ]
    },
    {
     "name": "stdout",
     "output_type": "stream",
     "text": [
      "Epoch 7, Train Loss: 0.1424, Validation Loss: 0.2705, Validation Accuracy: 0.8547, Precision: 0.7573, recall: 0.6922, F1: 0.7048, AUC: 0.9814, AUPR: 0.9541\n"
     ]
    },
    {
     "name": "stderr",
     "output_type": "stream",
     "text": [
      " 16%|█▌        | 8/50 [02:50<14:51, 21.24s/it]"
     ]
    },
    {
     "name": "stdout",
     "output_type": "stream",
     "text": [
      "Epoch 8, Train Loss: 0.1043, Validation Loss: 0.2747, Validation Accuracy: 0.8454, Precision: 0.7382, recall: 0.6459, F1: 0.6673, AUC: 0.9809, AUPR: 0.9540\n"
     ]
    },
    {
     "name": "stderr",
     "output_type": "stream",
     "text": [
      " 18%|█▊        | 9/50 [03:11<14:30, 21.22s/it]"
     ]
    },
    {
     "name": "stdout",
     "output_type": "stream",
     "text": [
      "Epoch 9, Train Loss: 0.3405, Validation Loss: 0.8280, Validation Accuracy: 0.7985, Precision: 0.6492, recall: 0.6884, F1: 0.6314, AUC: 0.9647, AUPR: 0.9119\n",
      "Epoch 10, Train Loss: 0.1052, Validation Loss: 0.2643, Validation Accuracy: 0.8819, Precision: 0.7644, recall: 0.7613, F1: 0.7440, AUC: 0.9854, AUPR: 0.9665\n"
     ]
    },
    {
     "name": "stderr",
     "output_type": "stream",
     "text": [
      " 20%|██        | 10/50 [03:33<14:18, 21.47s/it]"
     ]
    },
    {
     "name": "stdout",
     "output_type": "stream",
     "text": [
      "Saved checkpoint: checkpoints/cnn_ddi_epoch_gaussian_10.pt\n"
     ]
    },
    {
     "name": "stderr",
     "output_type": "stream",
     "text": [
      " 22%|██▏       | 11/50 [03:55<13:55, 21.42s/it]"
     ]
    },
    {
     "name": "stdout",
     "output_type": "stream",
     "text": [
      "Epoch 11, Train Loss: 0.0513, Validation Loss: 0.3079, Validation Accuracy: 0.8850, Precision: 0.8349, recall: 0.7411, F1: 0.7640, AUC: 0.9874, AUPR: 0.9647\n"
     ]
    },
    {
     "name": "stderr",
     "output_type": "stream",
     "text": [
      " 24%|██▍       | 12/50 [04:16<13:34, 21.43s/it]"
     ]
    },
    {
     "name": "stdout",
     "output_type": "stream",
     "text": [
      "Epoch 12, Train Loss: 0.1010, Validation Loss: 0.3598, Validation Accuracy: 0.8588, Precision: 0.7443, recall: 0.7338, F1: 0.7198, AUC: 0.9834, AUPR: 0.9584\n"
     ]
    },
    {
     "name": "stderr",
     "output_type": "stream",
     "text": [
      " 26%|██▌       | 13/50 [04:37<13:11, 21.40s/it]"
     ]
    },
    {
     "name": "stdout",
     "output_type": "stream",
     "text": [
      "Epoch 13, Train Loss: 0.0833, Validation Loss: 0.4418, Validation Accuracy: 0.8417, Precision: 0.6890, recall: 0.7927, F1: 0.7157, AUC: 0.9796, AUPR: 0.9491\n"
     ]
    },
    {
     "name": "stderr",
     "output_type": "stream",
     "text": [
      " 28%|██▊       | 14/50 [04:59<12:50, 21.39s/it]"
     ]
    },
    {
     "name": "stdout",
     "output_type": "stream",
     "text": [
      "Epoch 14, Train Loss: 0.4838, Validation Loss: 0.3100, Validation Accuracy: 0.8745, Precision: 0.7681, recall: 0.6602, F1: 0.6917, AUC: 0.9870, AUPR: 0.9678\n"
     ]
    },
    {
     "name": "stderr",
     "output_type": "stream",
     "text": [
      " 30%|███       | 15/50 [05:20<12:27, 21.34s/it]"
     ]
    },
    {
     "name": "stdout",
     "output_type": "stream",
     "text": [
      "Epoch 15, Train Loss: 0.0432, Validation Loss: 0.3017, Validation Accuracy: 0.8763, Precision: 0.8036, recall: 0.6984, F1: 0.7311, AUC: 0.9880, AUPR: 0.9685\n"
     ]
    },
    {
     "name": "stderr",
     "output_type": "stream",
     "text": [
      " 32%|███▏      | 16/50 [05:42<12:15, 21.62s/it]"
     ]
    },
    {
     "name": "stdout",
     "output_type": "stream",
     "text": [
      "Epoch 16, Train Loss: 0.0323, Validation Loss: 0.3433, Validation Accuracy: 0.8795, Precision: 0.7899, recall: 0.7295, F1: 0.7340, AUC: 0.9869, AUPR: 0.9626\n"
     ]
    },
    {
     "name": "stderr",
     "output_type": "stream",
     "text": [
      " 34%|███▍      | 17/50 [06:04<11:54, 21.66s/it]"
     ]
    },
    {
     "name": "stdout",
     "output_type": "stream",
     "text": [
      "Epoch 17, Train Loss: 0.1103, Validation Loss: 0.4171, Validation Accuracy: 0.8631, Precision: 0.7460, recall: 0.6753, F1: 0.6733, AUC: 0.9822, AUPR: 0.9563\n"
     ]
    },
    {
     "name": "stderr",
     "output_type": "stream",
     "text": [
      " 36%|███▌      | 18/50 [06:26<11:37, 21.80s/it]"
     ]
    },
    {
     "name": "stdout",
     "output_type": "stream",
     "text": [
      "Epoch 18, Train Loss: 0.0775, Validation Loss: 0.4463, Validation Accuracy: 0.8590, Precision: 0.7568, recall: 0.7298, F1: 0.7215, AUC: 0.9832, AUPR: 0.9572\n"
     ]
    },
    {
     "name": "stderr",
     "output_type": "stream",
     "text": [
      " 38%|███▊      | 19/50 [06:48<11:18, 21.88s/it]"
     ]
    },
    {
     "name": "stdout",
     "output_type": "stream",
     "text": [
      "Epoch 19, Train Loss: 0.5751, Validation Loss: 0.4946, Validation Accuracy: 0.8741, Precision: 0.7658, recall: 0.7272, F1: 0.7208, AUC: 0.9867, AUPR: 0.9655\n",
      "Epoch 20, Train Loss: 0.0449, Validation Loss: 0.4515, Validation Accuracy: 0.8794, Precision: 0.7690, recall: 0.7592, F1: 0.7416, AUC: 0.9866, AUPR: 0.9645\n"
     ]
    },
    {
     "name": "stderr",
     "output_type": "stream",
     "text": [
      " 40%|████      | 20/50 [07:11<11:05, 22.19s/it]"
     ]
    },
    {
     "name": "stdout",
     "output_type": "stream",
     "text": [
      "Saved checkpoint: checkpoints/cnn_ddi_epoch_gaussian_20.pt\n"
     ]
    },
    {
     "name": "stderr",
     "output_type": "stream",
     "text": [
      " 42%|████▏     | 21/50 [07:33<10:43, 22.18s/it]"
     ]
    },
    {
     "name": "stdout",
     "output_type": "stream",
     "text": [
      "Epoch 21, Train Loss: 0.0457, Validation Loss: 0.6236, Validation Accuracy: 0.8680, Precision: 0.7490, recall: 0.7987, F1: 0.7455, AUC: 0.9837, AUPR: 0.9598\n"
     ]
    },
    {
     "name": "stderr",
     "output_type": "stream",
     "text": [
      " 44%|████▍     | 22/50 [07:55<10:20, 22.16s/it]"
     ]
    },
    {
     "name": "stdout",
     "output_type": "stream",
     "text": [
      "Epoch 22, Train Loss: 0.1336, Validation Loss: 0.7299, Validation Accuracy: 0.8668, Precision: 0.7553, recall: 0.8045, F1: 0.7623, AUC: 0.9845, AUPR: 0.9626\n"
     ]
    },
    {
     "name": "stderr",
     "output_type": "stream",
     "text": [
      " 46%|████▌     | 23/50 [08:18<09:59, 22.19s/it]"
     ]
    },
    {
     "name": "stdout",
     "output_type": "stream",
     "text": [
      "Epoch 23, Train Loss: 0.0908, Validation Loss: 0.9203, Validation Accuracy: 0.8562, Precision: 0.7480, recall: 0.7390, F1: 0.7091, AUC: 0.9795, AUPR: 0.9501\n"
     ]
    },
    {
     "name": "stderr",
     "output_type": "stream",
     "text": [
      " 48%|████▊     | 24/50 [08:40<09:35, 22.14s/it]"
     ]
    },
    {
     "name": "stdout",
     "output_type": "stream",
     "text": [
      "Epoch 24, Train Loss: 0.1949, Validation Loss: 0.4752, Validation Accuracy: 0.8729, Precision: 0.7870, recall: 0.7007, F1: 0.7267, AUC: 0.9864, AUPR: 0.9632\n"
     ]
    },
    {
     "name": "stderr",
     "output_type": "stream",
     "text": [
      " 50%|█████     | 25/50 [09:02<09:14, 22.18s/it]"
     ]
    },
    {
     "name": "stdout",
     "output_type": "stream",
     "text": [
      "Epoch 25, Train Loss: 0.0352, Validation Loss: 0.8048, Validation Accuracy: 0.8763, Precision: 0.7805, recall: 0.7649, F1: 0.7613, AUC: 0.9842, AUPR: 0.9598\n"
     ]
    },
    {
     "name": "stderr",
     "output_type": "stream",
     "text": [
      " 52%|█████▏    | 26/50 [09:24<08:52, 22.17s/it]"
     ]
    },
    {
     "name": "stdout",
     "output_type": "stream",
     "text": [
      "Epoch 26, Train Loss: 0.2940, Validation Loss: 0.5710, Validation Accuracy: 0.8737, Precision: 0.8012, recall: 0.7360, F1: 0.7525, AUC: 0.9877, AUPR: 0.9684\n"
     ]
    },
    {
     "name": "stderr",
     "output_type": "stream",
     "text": [
      " 54%|█████▍    | 27/50 [09:46<08:30, 22.19s/it]"
     ]
    },
    {
     "name": "stdout",
     "output_type": "stream",
     "text": [
      "Epoch 27, Train Loss: 0.0407, Validation Loss: 0.7240, Validation Accuracy: 0.8811, Precision: 0.8052, recall: 0.7624, F1: 0.7641, AUC: 0.9876, AUPR: 0.9672\n"
     ]
    },
    {
     "name": "stderr",
     "output_type": "stream",
     "text": [
      " 56%|█████▌    | 28/50 [10:08<08:07, 22.14s/it]"
     ]
    },
    {
     "name": "stdout",
     "output_type": "stream",
     "text": [
      "Epoch 28, Train Loss: 0.3153, Validation Loss: 0.9610, Validation Accuracy: 0.8555, Precision: 0.7527, recall: 0.6928, F1: 0.7055, AUC: 0.9835, AUPR: 0.9585\n"
     ]
    },
    {
     "name": "stderr",
     "output_type": "stream",
     "text": [
      " 58%|█████▊    | 29/50 [10:30<07:44, 22.12s/it]"
     ]
    },
    {
     "name": "stdout",
     "output_type": "stream",
     "text": [
      "Epoch 29, Train Loss: 0.0718, Validation Loss: 0.8470, Validation Accuracy: 0.8809, Precision: 0.8186, recall: 0.7457, F1: 0.7596, AUC: 0.9875, AUPR: 0.9633\n",
      "Epoch 30, Train Loss: 0.0608, Validation Loss: 0.7646, Validation Accuracy: 0.8868, Precision: 0.7920, recall: 0.7507, F1: 0.7533, AUC: 0.9861, AUPR: 0.9647\n"
     ]
    },
    {
     "name": "stderr",
     "output_type": "stream",
     "text": [
      " 60%|██████    | 30/50 [10:53<07:28, 22.41s/it]"
     ]
    },
    {
     "name": "stdout",
     "output_type": "stream",
     "text": [
      "Saved checkpoint: checkpoints/cnn_ddi_epoch_gaussian_30.pt\n"
     ]
    },
    {
     "name": "stderr",
     "output_type": "stream",
     "text": [
      " 62%|██████▏   | 31/50 [11:16<07:04, 22.32s/it]"
     ]
    },
    {
     "name": "stdout",
     "output_type": "stream",
     "text": [
      "Epoch 31, Train Loss: 0.3206, Validation Loss: 1.0963, Validation Accuracy: 0.8582, Precision: 0.7296, recall: 0.7278, F1: 0.7039, AUC: 0.9841, AUPR: 0.9572\n"
     ]
    },
    {
     "name": "stderr",
     "output_type": "stream",
     "text": [
      " 64%|██████▍   | 32/50 [11:38<06:41, 22.31s/it]"
     ]
    },
    {
     "name": "stdout",
     "output_type": "stream",
     "text": [
      "Epoch 32, Train Loss: 0.0787, Validation Loss: 0.8523, Validation Accuracy: 0.8880, Precision: 0.7628, recall: 0.8100, F1: 0.7666, AUC: 0.9870, AUPR: 0.9674\n"
     ]
    },
    {
     "name": "stderr",
     "output_type": "stream",
     "text": [
      " 66%|██████▌   | 33/50 [12:00<06:19, 22.32s/it]"
     ]
    },
    {
     "name": "stdout",
     "output_type": "stream",
     "text": [
      "Epoch 33, Train Loss: 0.2823, Validation Loss: 1.3840, Validation Accuracy: 0.8690, Precision: 0.7687, recall: 0.7273, F1: 0.7261, AUC: 0.9841, AUPR: 0.9562\n"
     ]
    },
    {
     "name": "stderr",
     "output_type": "stream",
     "text": [
      " 68%|██████▊   | 34/50 [12:23<05:58, 22.39s/it]"
     ]
    },
    {
     "name": "stdout",
     "output_type": "stream",
     "text": [
      "Epoch 34, Train Loss: 0.0811, Validation Loss: 1.0647, Validation Accuracy: 0.8794, Precision: 0.8049, recall: 0.7653, F1: 0.7660, AUC: 0.9882, AUPR: 0.9680\n"
     ]
    },
    {
     "name": "stderr",
     "output_type": "stream",
     "text": [
      " 70%|███████   | 35/50 [12:45<05:36, 22.41s/it]"
     ]
    },
    {
     "name": "stdout",
     "output_type": "stream",
     "text": [
      "Epoch 35, Train Loss: 0.1563, Validation Loss: 2.2974, Validation Accuracy: 0.8053, Precision: 0.7355, recall: 0.6988, F1: 0.6760, AUC: 0.9711, AUPR: 0.9128\n"
     ]
    },
    {
     "name": "stderr",
     "output_type": "stream",
     "text": [
      " 72%|███████▏  | 36/50 [13:08<05:13, 22.37s/it]"
     ]
    },
    {
     "name": "stdout",
     "output_type": "stream",
     "text": [
      "Epoch 36, Train Loss: 0.1943, Validation Loss: 1.0204, Validation Accuracy: 0.8919, Precision: 0.8168, recall: 0.7829, F1: 0.7841, AUC: 0.9870, AUPR: 0.9649\n"
     ]
    },
    {
     "name": "stderr",
     "output_type": "stream",
     "text": [
      " 74%|███████▍  | 37/50 [13:30<04:52, 22.49s/it]"
     ]
    },
    {
     "name": "stdout",
     "output_type": "stream",
     "text": [
      "Epoch 37, Train Loss: 0.0669, Validation Loss: 1.2815, Validation Accuracy: 0.8740, Precision: 0.7594, recall: 0.7505, F1: 0.7349, AUC: 0.9865, AUPR: 0.9650\n"
     ]
    },
    {
     "name": "stderr",
     "output_type": "stream",
     "text": [
      " 76%|███████▌  | 38/50 [13:53<04:29, 22.43s/it]"
     ]
    },
    {
     "name": "stdout",
     "output_type": "stream",
     "text": [
      "Epoch 38, Train Loss: 1.3196, Validation Loss: 1.9675, Validation Accuracy: 0.8806, Precision: 0.7802, recall: 0.7102, F1: 0.7252, AUC: 0.9847, AUPR: 0.9469\n"
     ]
    },
    {
     "name": "stderr",
     "output_type": "stream",
     "text": [
      " 78%|███████▊  | 39/50 [14:15<04:06, 22.37s/it]"
     ]
    },
    {
     "name": "stdout",
     "output_type": "stream",
     "text": [
      "Epoch 39, Train Loss: 0.0800, Validation Loss: 1.7068, Validation Accuracy: 0.8872, Precision: 0.8100, recall: 0.7654, F1: 0.7753, AUC: 0.9887, AUPR: 0.9648\n",
      "Epoch 40, Train Loss: 0.1146, Validation Loss: 2.0422, Validation Accuracy: 0.8864, Precision: 0.7955, recall: 0.8054, F1: 0.7850, AUC: 0.9837, AUPR: 0.9416\n"
     ]
    },
    {
     "name": "stderr",
     "output_type": "stream",
     "text": [
      " 80%|████████  | 40/50 [14:38<03:46, 22.61s/it]"
     ]
    },
    {
     "name": "stdout",
     "output_type": "stream",
     "text": [
      "Saved checkpoint: checkpoints/cnn_ddi_epoch_gaussian_40.pt\n"
     ]
    },
    {
     "name": "stderr",
     "output_type": "stream",
     "text": [
      " 82%|████████▏ | 41/50 [15:00<03:22, 22.55s/it]"
     ]
    },
    {
     "name": "stdout",
     "output_type": "stream",
     "text": [
      "Epoch 41, Train Loss: 0.1217, Validation Loss: 2.0288, Validation Accuracy: 0.8802, Precision: 0.7951, recall: 0.7256, F1: 0.7380, AUC: 0.9826, AUPR: 0.9397\n"
     ]
    },
    {
     "name": "stderr",
     "output_type": "stream",
     "text": [
      " 84%|████████▍ | 42/50 [15:23<02:59, 22.44s/it]"
     ]
    },
    {
     "name": "stdout",
     "output_type": "stream",
     "text": [
      "Epoch 42, Train Loss: 0.2356, Validation Loss: 2.6055, Validation Accuracy: 0.8656, Precision: 0.8068, recall: 0.6760, F1: 0.7156, AUC: 0.9820, AUPR: 0.9359\n"
     ]
    },
    {
     "name": "stderr",
     "output_type": "stream",
     "text": [
      " 86%|████████▌ | 43/50 [15:45<02:36, 22.33s/it]"
     ]
    },
    {
     "name": "stdout",
     "output_type": "stream",
     "text": [
      "Epoch 43, Train Loss: 0.1895, Validation Loss: 1.8649, Validation Accuracy: 0.8822, Precision: 0.7945, recall: 0.7397, F1: 0.7500, AUC: 0.9855, AUPR: 0.9513\n"
     ]
    },
    {
     "name": "stderr",
     "output_type": "stream",
     "text": [
      " 88%|████████▊ | 44/50 [16:07<02:14, 22.35s/it]"
     ]
    },
    {
     "name": "stdout",
     "output_type": "stream",
     "text": [
      "Epoch 44, Train Loss: 0.1448, Validation Loss: 1.7960, Validation Accuracy: 0.8870, Precision: 0.7833, recall: 0.7661, F1: 0.7549, AUC: 0.9874, AUPR: 0.9613\n"
     ]
    },
    {
     "name": "stderr",
     "output_type": "stream",
     "text": [
      " 90%|█████████ | 45/50 [16:29<01:51, 22.32s/it]"
     ]
    },
    {
     "name": "stdout",
     "output_type": "stream",
     "text": [
      "Epoch 45, Train Loss: 0.3586, Validation Loss: 3.4007, Validation Accuracy: 0.8481, Precision: 0.7866, recall: 0.6695, F1: 0.6964, AUC: 0.9755, AUPR: 0.9070\n"
     ]
    },
    {
     "name": "stderr",
     "output_type": "stream",
     "text": [
      " 92%|█████████▏| 46/50 [16:51<01:28, 22.25s/it]"
     ]
    },
    {
     "name": "stdout",
     "output_type": "stream",
     "text": [
      "Epoch 46, Train Loss: 0.1691, Validation Loss: 2.4617, Validation Accuracy: 0.8925, Precision: 0.8078, recall: 0.7654, F1: 0.7736, AUC: 0.9843, AUPR: 0.9404\n"
     ]
    },
    {
     "name": "stderr",
     "output_type": "stream",
     "text": [
      " 94%|█████████▍| 47/50 [17:14<01:06, 22.25s/it]"
     ]
    },
    {
     "name": "stdout",
     "output_type": "stream",
     "text": [
      "Epoch 47, Train Loss: 0.1566, Validation Loss: 2.2880, Validation Accuracy: 0.8904, Precision: 0.7732, recall: 0.7882, F1: 0.7562, AUC: 0.9853, AUPR: 0.9487\n"
     ]
    },
    {
     "name": "stderr",
     "output_type": "stream",
     "text": [
      " 96%|█████████▌| 48/50 [17:36<00:44, 22.26s/it]"
     ]
    },
    {
     "name": "stdout",
     "output_type": "stream",
     "text": [
      "Epoch 48, Train Loss: 0.1417, Validation Loss: 2.7146, Validation Accuracy: 0.8731, Precision: 0.7585, recall: 0.7552, F1: 0.7315, AUC: 0.9861, AUPR: 0.9588\n"
     ]
    },
    {
     "name": "stderr",
     "output_type": "stream",
     "text": [
      " 98%|█████████▊| 49/50 [17:58<00:22, 22.25s/it]"
     ]
    },
    {
     "name": "stdout",
     "output_type": "stream",
     "text": [
      "Epoch 49, Train Loss: 0.3773, Validation Loss: 2.3333, Validation Accuracy: 0.8912, Precision: 0.7949, recall: 0.7673, F1: 0.7669, AUC: 0.9874, AUPR: 0.9624\n",
      "Epoch 50, Train Loss: 0.0826, Validation Loss: 2.2991, Validation Accuracy: 0.8921, Precision: 0.7882, recall: 0.8323, F1: 0.7976, AUC: 0.9856, AUPR: 0.9551\n"
     ]
    },
    {
     "name": "stderr",
     "output_type": "stream",
     "text": [
      "100%|██████████| 50/50 [18:21<00:00, 22.04s/it]"
     ]
    },
    {
     "name": "stdout",
     "output_type": "stream",
     "text": [
      "Saved checkpoint: checkpoints/cnn_ddi_epoch_gaussian_50.pt\n"
     ]
    },
    {
     "name": "stderr",
     "output_type": "stream",
     "text": [
      "\n"
     ]
    }
   ],
   "source": [
    "batch_size = 32\n",
    "num_epochs = 50\n",
    "checkpoint_interval = 10\n",
    "device = torch.device(\"cuda\" if torch.cuda.is_available() else \"cpu\")\n",
    "for similarity in [\"jaccard\", \"cosine\", \"gaussian\"]:\n",
    "    print(f\"Similarity measure: {similarity}\")\n",
    "    new_feature, new_label, event_num = prepare(df_drug, feature_list, mechanism, action, drugA, drugB, similarity=similarity)\n",
    "    new_feature = torch.tensor(new_feature, dtype=torch.float32)\n",
    "    features_train, features_val, labels_train, labels_val = train_test_split(\n",
    "        new_feature, new_label, test_size=0.2, random_state=42\n",
    "    )\n",
    "\n",
    "    # Create dataset objects\n",
    "    train_dataset = DrugInteractionDataset(features_train, labels_train)\n",
    "    val_dataset = DrugInteractionDataset(features_val, labels_val)\n",
    "\n",
    "    # Create data loaders\n",
    "    train_loader = DataLoader(train_dataset, batch_size=batch_size, shuffle=True)\n",
    "    val_loader = DataLoader(val_dataset, batch_size=batch_size, shuffle=False)\n",
    "\n",
    "    model = CNNDDI().to(device)\n",
    "    optimizer = optim.Adam(model.parameters(), lr=0.001)\n",
    "    criterion = focal_loss()\n",
    "\n",
    "    for epoch in tqdm(range(num_epochs)):\n",
    "        train_loss = train(model, device, train_loader, optimizer, criterion)\n",
    "        val_loss, val_accuracy, precision, recall, f1, roc_auc, aupr = validate(model, device, val_loader, criterion)\n",
    "        print(f'Epoch {epoch+1}, Train Loss: {train_loss:.4f}, Validation Loss: {val_loss:.4f}, Validation Accuracy: {val_accuracy:.4f}, Precision: {precision:.4f}, recall: {recall:.4f}, F1: {f1:.4f}, AUC: {roc_auc:.4f}, AUPR: {aupr:.4f}')\n",
    "\n",
    "        if (epoch + 1) % checkpoint_interval == 0 or (epoch + 1) == num_epochs:\n",
    "            save_checkpoint(model, optimizer, epoch + 1, f'checkpoints/cnn_ddi_epoch_{similarity}_{epoch+1}.pt')\n"
   ]
  },
  {
   "cell_type": "code",
   "execution_count": 8,
   "metadata": {},
   "outputs": [
    {
     "name": "stdout",
     "output_type": "stream",
     "text": [
      "Feature combination: ('pathway',)\n"
     ]
    },
    {
     "name": "stderr",
     "output_type": "stream",
     "text": [
      "/tmp/ipykernel_83239/3982585584.py:3: UserWarning: To copy construct from a tensor, it is recommended to use sourceTensor.clone().detach() or sourceTensor.clone().detach().requires_grad_(True), rather than torch.tensor(sourceTensor).\n",
      "  self.features = torch.tensor(features, dtype=torch.float32)\n",
      "  2%|▏         | 1/50 [00:05<04:47,  5.87s/it]"
     ]
    },
    {
     "name": "stdout",
     "output_type": "stream",
     "text": [
      "Epoch 1, Train Loss: 0.7775, Validation Loss: 0.4056, Validation Accuracy: 0.7588, Precision: 0.5696, recall: 0.5454, F1: 0.5346, AUC: 0.9528, AUPR: 0.8836\n"
     ]
    },
    {
     "name": "stderr",
     "output_type": "stream",
     "text": [
      "  4%|▍         | 2/50 [00:11<04:42,  5.88s/it]"
     ]
    },
    {
     "name": "stdout",
     "output_type": "stream",
     "text": [
      "Epoch 2, Train Loss: 0.3502, Validation Loss: 0.3975, Validation Accuracy: 0.7589, Precision: 0.6675, recall: 0.5555, F1: 0.5758, AUC: 0.9596, AUPR: 0.8995\n"
     ]
    },
    {
     "name": "stderr",
     "output_type": "stream",
     "text": [
      "  6%|▌         | 3/50 [00:17<04:35,  5.87s/it]"
     ]
    },
    {
     "name": "stdout",
     "output_type": "stream",
     "text": [
      "Epoch 3, Train Loss: 0.2816, Validation Loss: 0.3249, Validation Accuracy: 0.7973, Precision: 0.7481, recall: 0.6571, F1: 0.6628, AUC: 0.9682, AUPR: 0.9200\n"
     ]
    },
    {
     "name": "stderr",
     "output_type": "stream",
     "text": [
      "  8%|▊         | 4/50 [00:23<04:29,  5.86s/it]"
     ]
    },
    {
     "name": "stdout",
     "output_type": "stream",
     "text": [
      "Epoch 4, Train Loss: 0.2464, Validation Loss: 0.3124, Validation Accuracy: 0.7947, Precision: 0.7106, recall: 0.6947, F1: 0.6827, AUC: 0.9700, AUPR: 0.9282\n"
     ]
    },
    {
     "name": "stderr",
     "output_type": "stream",
     "text": [
      " 10%|█         | 5/50 [00:29<04:24,  5.87s/it]"
     ]
    },
    {
     "name": "stdout",
     "output_type": "stream",
     "text": [
      "Epoch 5, Train Loss: 0.2167, Validation Loss: 0.2848, Validation Accuracy: 0.8091, Precision: 0.7361, recall: 0.6927, F1: 0.7002, AUC: 0.9765, AUPR: 0.9389\n"
     ]
    },
    {
     "name": "stderr",
     "output_type": "stream",
     "text": [
      " 12%|█▏        | 6/50 [00:35<04:18,  5.87s/it]"
     ]
    },
    {
     "name": "stdout",
     "output_type": "stream",
     "text": [
      "Epoch 6, Train Loss: 0.1997, Validation Loss: 0.2999, Validation Accuracy: 0.8032, Precision: 0.7275, recall: 0.6286, F1: 0.6478, AUC: 0.9762, AUPR: 0.9398\n"
     ]
    },
    {
     "name": "stderr",
     "output_type": "stream",
     "text": [
      " 14%|█▍        | 7/50 [00:41<04:11,  5.85s/it]"
     ]
    },
    {
     "name": "stdout",
     "output_type": "stream",
     "text": [
      "Epoch 7, Train Loss: 0.1847, Validation Loss: 0.2691, Validation Accuracy: 0.8198, Precision: 0.7469, recall: 0.6940, F1: 0.7042, AUC: 0.9772, AUPR: 0.9427\n"
     ]
    },
    {
     "name": "stderr",
     "output_type": "stream",
     "text": [
      " 16%|█▌        | 8/50 [00:46<04:05,  5.85s/it]"
     ]
    },
    {
     "name": "stdout",
     "output_type": "stream",
     "text": [
      "Epoch 8, Train Loss: 0.1776, Validation Loss: 0.3200, Validation Accuracy: 0.8134, Precision: 0.7251, recall: 0.7051, F1: 0.6907, AUC: 0.9763, AUPR: 0.9418\n"
     ]
    },
    {
     "name": "stderr",
     "output_type": "stream",
     "text": [
      " 18%|█▊        | 9/50 [00:52<04:00,  5.87s/it]"
     ]
    },
    {
     "name": "stdout",
     "output_type": "stream",
     "text": [
      "Epoch 9, Train Loss: 0.1622, Validation Loss: 0.2932, Validation Accuracy: 0.8215, Precision: 0.7113, recall: 0.6999, F1: 0.6931, AUC: 0.9782, AUPR: 0.9489\n",
      "Epoch 10, Train Loss: 0.1599, Validation Loss: 0.2863, Validation Accuracy: 0.8275, Precision: 0.7524, recall: 0.6776, F1: 0.7015, AUC: 0.9814, AUPR: 0.9514\n"
     ]
    },
    {
     "name": "stderr",
     "output_type": "stream",
     "text": [
      " 20%|██        | 10/50 [00:58<03:57,  5.93s/it]"
     ]
    },
    {
     "name": "stdout",
     "output_type": "stream",
     "text": [
      "Saved checkpoint: checkpoints/cnn_ddi_epoch_10_pathway.pt\n"
     ]
    },
    {
     "name": "stderr",
     "output_type": "stream",
     "text": [
      " 22%|██▏       | 11/50 [01:04<03:49,  5.89s/it]"
     ]
    },
    {
     "name": "stdout",
     "output_type": "stream",
     "text": [
      "Epoch 11, Train Loss: 0.1474, Validation Loss: 0.3104, Validation Accuracy: 0.8101, Precision: 0.7146, recall: 0.6473, F1: 0.6551, AUC: 0.9772, AUPR: 0.9451\n"
     ]
    },
    {
     "name": "stderr",
     "output_type": "stream",
     "text": [
      " 24%|██▍       | 12/50 [01:10<03:42,  5.86s/it]"
     ]
    },
    {
     "name": "stdout",
     "output_type": "stream",
     "text": [
      "Epoch 12, Train Loss: 0.1512, Validation Loss: 0.3122, Validation Accuracy: 0.8057, Precision: 0.7293, recall: 0.6757, F1: 0.6836, AUC: 0.9784, AUPR: 0.9452\n"
     ]
    },
    {
     "name": "stderr",
     "output_type": "stream",
     "text": [
      " 26%|██▌       | 13/50 [01:16<03:38,  5.90s/it]"
     ]
    },
    {
     "name": "stdout",
     "output_type": "stream",
     "text": [
      "Epoch 13, Train Loss: 0.1398, Validation Loss: 0.3589, Validation Accuracy: 0.8162, Precision: 0.7230, recall: 0.6698, F1: 0.6756, AUC: 0.9786, AUPR: 0.9400\n"
     ]
    },
    {
     "name": "stderr",
     "output_type": "stream",
     "text": [
      " 28%|██▊       | 14/50 [01:22<03:32,  5.91s/it]"
     ]
    },
    {
     "name": "stdout",
     "output_type": "stream",
     "text": [
      "Epoch 14, Train Loss: 0.1334, Validation Loss: 0.3048, Validation Accuracy: 0.8253, Precision: 0.7508, recall: 0.6865, F1: 0.7034, AUC: 0.9806, AUPR: 0.9530\n"
     ]
    },
    {
     "name": "stderr",
     "output_type": "stream",
     "text": [
      " 30%|███       | 15/50 [01:28<03:25,  5.88s/it]"
     ]
    },
    {
     "name": "stdout",
     "output_type": "stream",
     "text": [
      "Epoch 15, Train Loss: 0.1348, Validation Loss: 0.3362, Validation Accuracy: 0.8144, Precision: 0.7551, recall: 0.6377, F1: 0.6680, AUC: 0.9776, AUPR: 0.9444\n"
     ]
    },
    {
     "name": "stderr",
     "output_type": "stream",
     "text": [
      " 32%|███▏      | 16/50 [01:34<03:21,  5.91s/it]"
     ]
    },
    {
     "name": "stdout",
     "output_type": "stream",
     "text": [
      "Epoch 16, Train Loss: 0.1255, Validation Loss: 0.2967, Validation Accuracy: 0.8246, Precision: 0.7721, recall: 0.7059, F1: 0.7211, AUC: 0.9819, AUPR: 0.9543\n"
     ]
    },
    {
     "name": "stderr",
     "output_type": "stream",
     "text": [
      " 34%|███▍      | 17/50 [01:40<03:15,  5.92s/it]"
     ]
    },
    {
     "name": "stdout",
     "output_type": "stream",
     "text": [
      "Epoch 17, Train Loss: 0.1232, Validation Loss: 0.3173, Validation Accuracy: 0.8191, Precision: 0.7536, recall: 0.6527, F1: 0.6763, AUC: 0.9791, AUPR: 0.9474\n"
     ]
    },
    {
     "name": "stderr",
     "output_type": "stream",
     "text": [
      " 36%|███▌      | 18/50 [01:45<03:08,  5.89s/it]"
     ]
    },
    {
     "name": "stdout",
     "output_type": "stream",
     "text": [
      "Epoch 18, Train Loss: 0.1270, Validation Loss: 0.3191, Validation Accuracy: 0.8202, Precision: 0.6948, recall: 0.6601, F1: 0.6600, AUC: 0.9797, AUPR: 0.9487\n"
     ]
    },
    {
     "name": "stderr",
     "output_type": "stream",
     "text": [
      " 38%|███▊      | 19/50 [01:51<03:01,  5.87s/it]"
     ]
    },
    {
     "name": "stdout",
     "output_type": "stream",
     "text": [
      "Epoch 19, Train Loss: 0.1183, Validation Loss: 0.3313, Validation Accuracy: 0.8142, Precision: 0.7346, recall: 0.6880, F1: 0.6922, AUC: 0.9792, AUPR: 0.9431\n",
      "Epoch 20, Train Loss: 0.1216, Validation Loss: 0.3554, Validation Accuracy: 0.8193, Precision: 0.7237, recall: 0.6705, F1: 0.6812, AUC: 0.9808, AUPR: 0.9482\n"
     ]
    },
    {
     "name": "stderr",
     "output_type": "stream",
     "text": [
      " 40%|████      | 20/50 [01:57<02:58,  5.94s/it]"
     ]
    },
    {
     "name": "stdout",
     "output_type": "stream",
     "text": [
      "Saved checkpoint: checkpoints/cnn_ddi_epoch_20_pathway.pt\n"
     ]
    },
    {
     "name": "stderr",
     "output_type": "stream",
     "text": [
      " 42%|████▏     | 21/50 [02:03<02:52,  5.94s/it]"
     ]
    },
    {
     "name": "stdout",
     "output_type": "stream",
     "text": [
      "Epoch 21, Train Loss: 1.7076, Validation Loss: 30.9821, Validation Accuracy: 0.6486, Precision: 0.4216, recall: 0.3796, F1: 0.3480, AUC: 0.9098, AUPR: 0.7658\n"
     ]
    },
    {
     "name": "stderr",
     "output_type": "stream",
     "text": [
      " 44%|████▍     | 22/50 [02:09<02:46,  5.94s/it]"
     ]
    },
    {
     "name": "stdout",
     "output_type": "stream",
     "text": [
      "Epoch 22, Train Loss: 1.9131, Validation Loss: 0.5959, Validation Accuracy: 0.8111, Precision: 0.7334, recall: 0.6133, F1: 0.6441, AUC: 0.9764, AUPR: 0.9406\n"
     ]
    },
    {
     "name": "stderr",
     "output_type": "stream",
     "text": [
      " 46%|████▌     | 23/50 [02:15<02:40,  5.93s/it]"
     ]
    },
    {
     "name": "stdout",
     "output_type": "stream",
     "text": [
      "Epoch 23, Train Loss: 0.1556, Validation Loss: 0.3708, Validation Accuracy: 0.8232, Precision: 0.7267, recall: 0.7327, F1: 0.7143, AUC: 0.9808, AUPR: 0.9531\n"
     ]
    },
    {
     "name": "stderr",
     "output_type": "stream",
     "text": [
      " 48%|████▊     | 24/50 [02:21<02:34,  5.96s/it]"
     ]
    },
    {
     "name": "stdout",
     "output_type": "stream",
     "text": [
      "Epoch 24, Train Loss: 0.1610, Validation Loss: 0.4205, Validation Accuracy: 0.8177, Precision: 0.7406, recall: 0.7280, F1: 0.7184, AUC: 0.9779, AUPR: 0.9425\n"
     ]
    },
    {
     "name": "stderr",
     "output_type": "stream",
     "text": [
      " 50%|█████     | 25/50 [02:27<02:28,  5.94s/it]"
     ]
    },
    {
     "name": "stdout",
     "output_type": "stream",
     "text": [
      "Epoch 25, Train Loss: 0.1237, Validation Loss: 0.3895, Validation Accuracy: 0.8136, Precision: 0.7371, recall: 0.7159, F1: 0.7088, AUC: 0.9797, AUPR: 0.9447\n"
     ]
    },
    {
     "name": "stderr",
     "output_type": "stream",
     "text": [
      " 52%|█████▏    | 26/50 [02:33<02:21,  5.91s/it]"
     ]
    },
    {
     "name": "stdout",
     "output_type": "stream",
     "text": [
      "Epoch 26, Train Loss: 0.1020, Validation Loss: 0.3866, Validation Accuracy: 0.8257, Precision: 0.7559, recall: 0.6618, F1: 0.6868, AUC: 0.9794, AUPR: 0.9465\n"
     ]
    },
    {
     "name": "stderr",
     "output_type": "stream",
     "text": [
      " 54%|█████▍    | 27/50 [02:39<02:15,  5.90s/it]"
     ]
    },
    {
     "name": "stdout",
     "output_type": "stream",
     "text": [
      "Epoch 27, Train Loss: 0.1088, Validation Loss: 0.4027, Validation Accuracy: 0.8160, Precision: 0.7583, recall: 0.7015, F1: 0.7075, AUC: 0.9786, AUPR: 0.9441\n"
     ]
    },
    {
     "name": "stderr",
     "output_type": "stream",
     "text": [
      " 56%|█████▌    | 28/50 [02:45<02:09,  5.90s/it]"
     ]
    },
    {
     "name": "stdout",
     "output_type": "stream",
     "text": [
      "Epoch 28, Train Loss: 0.2624, Validation Loss: 0.3318, Validation Accuracy: 0.8215, Precision: 0.7399, recall: 0.7391, F1: 0.7242, AUC: 0.9815, AUPR: 0.9528\n"
     ]
    },
    {
     "name": "stderr",
     "output_type": "stream",
     "text": [
      " 58%|█████▊    | 29/50 [02:51<02:04,  5.91s/it]"
     ]
    },
    {
     "name": "stdout",
     "output_type": "stream",
     "text": [
      "Epoch 29, Train Loss: 0.0980, Validation Loss: 0.3960, Validation Accuracy: 0.8126, Precision: 0.7138, recall: 0.6759, F1: 0.6735, AUC: 0.9808, AUPR: 0.9486\n",
      "Epoch 30, Train Loss: 0.1076, Validation Loss: 0.3772, Validation Accuracy: 0.8142, Precision: 0.7130, recall: 0.7155, F1: 0.6887, AUC: 0.9785, AUPR: 0.9436\n"
     ]
    },
    {
     "name": "stderr",
     "output_type": "stream",
     "text": [
      " 60%|██████    | 30/50 [02:57<01:59,  6.00s/it]"
     ]
    },
    {
     "name": "stdout",
     "output_type": "stream",
     "text": [
      "Saved checkpoint: checkpoints/cnn_ddi_epoch_30_pathway.pt\n"
     ]
    },
    {
     "name": "stderr",
     "output_type": "stream",
     "text": [
      " 62%|██████▏   | 31/50 [03:03<01:54,  6.02s/it]"
     ]
    },
    {
     "name": "stdout",
     "output_type": "stream",
     "text": [
      "Epoch 31, Train Loss: 0.1144, Validation Loss: 0.3739, Validation Accuracy: 0.8177, Precision: 0.7689, recall: 0.7150, F1: 0.7155, AUC: 0.9785, AUPR: 0.9406\n"
     ]
    },
    {
     "name": "stderr",
     "output_type": "stream",
     "text": [
      " 64%|██████▍   | 32/50 [03:09<01:48,  6.00s/it]"
     ]
    },
    {
     "name": "stdout",
     "output_type": "stream",
     "text": [
      "Epoch 32, Train Loss: 0.1244, Validation Loss: 0.3525, Validation Accuracy: 0.8183, Precision: 0.7484, recall: 0.7262, F1: 0.7189, AUC: 0.9816, AUPR: 0.9524\n"
     ]
    },
    {
     "name": "stderr",
     "output_type": "stream",
     "text": [
      " 66%|██████▌   | 33/50 [03:15<01:42,  6.01s/it]"
     ]
    },
    {
     "name": "stdout",
     "output_type": "stream",
     "text": [
      "Epoch 33, Train Loss: 0.1071, Validation Loss: 0.3501, Validation Accuracy: 0.8178, Precision: 0.7227, recall: 0.7257, F1: 0.7028, AUC: 0.9765, AUPR: 0.9376\n"
     ]
    },
    {
     "name": "stderr",
     "output_type": "stream",
     "text": [
      " 68%|██████▊   | 34/50 [03:21<01:35,  5.99s/it]"
     ]
    },
    {
     "name": "stdout",
     "output_type": "stream",
     "text": [
      "Epoch 34, Train Loss: 0.1103, Validation Loss: 0.3669, Validation Accuracy: 0.8050, Precision: 0.7535, recall: 0.6524, F1: 0.6820, AUC: 0.9779, AUPR: 0.9431\n"
     ]
    },
    {
     "name": "stderr",
     "output_type": "stream",
     "text": [
      " 70%|███████   | 35/50 [03:27<01:30,  6.00s/it]"
     ]
    },
    {
     "name": "stdout",
     "output_type": "stream",
     "text": [
      "Epoch 35, Train Loss: 0.1131, Validation Loss: 0.3330, Validation Accuracy: 0.8303, Precision: 0.7664, recall: 0.7257, F1: 0.7323, AUC: 0.9816, AUPR: 0.9551\n"
     ]
    },
    {
     "name": "stderr",
     "output_type": "stream",
     "text": [
      " 72%|███████▏  | 36/50 [03:33<01:23,  5.96s/it]"
     ]
    },
    {
     "name": "stdout",
     "output_type": "stream",
     "text": [
      "Epoch 36, Train Loss: 0.1050, Validation Loss: 0.3165, Validation Accuracy: 0.8240, Precision: 0.7483, recall: 0.6792, F1: 0.6898, AUC: 0.9797, AUPR: 0.9483\n"
     ]
    },
    {
     "name": "stderr",
     "output_type": "stream",
     "text": [
      " 74%|███████▍  | 37/50 [03:39<01:16,  5.91s/it]"
     ]
    },
    {
     "name": "stdout",
     "output_type": "stream",
     "text": [
      "Epoch 37, Train Loss: 0.1648, Validation Loss: 0.3174, Validation Accuracy: 0.8241, Precision: 0.7298, recall: 0.6908, F1: 0.6962, AUC: 0.9798, AUPR: 0.9483\n"
     ]
    },
    {
     "name": "stderr",
     "output_type": "stream",
     "text": [
      " 76%|███████▌  | 38/50 [03:44<01:10,  5.87s/it]"
     ]
    },
    {
     "name": "stdout",
     "output_type": "stream",
     "text": [
      "Epoch 38, Train Loss: 0.0859, Validation Loss: 0.3222, Validation Accuracy: 0.8275, Precision: 0.7827, recall: 0.7289, F1: 0.7421, AUC: 0.9805, AUPR: 0.9496\n"
     ]
    },
    {
     "name": "stderr",
     "output_type": "stream",
     "text": [
      " 78%|███████▊  | 39/50 [03:50<01:04,  5.87s/it]"
     ]
    },
    {
     "name": "stdout",
     "output_type": "stream",
     "text": [
      "Epoch 39, Train Loss: 0.0880, Validation Loss: 0.3398, Validation Accuracy: 0.8221, Precision: 0.7359, recall: 0.6692, F1: 0.6865, AUC: 0.9797, AUPR: 0.9499\n",
      "Epoch 40, Train Loss: 0.1041, Validation Loss: 0.3268, Validation Accuracy: 0.8164, Precision: 0.7114, recall: 0.6301, F1: 0.6478, AUC: 0.9793, AUPR: 0.9456\n"
     ]
    },
    {
     "name": "stderr",
     "output_type": "stream",
     "text": [
      " 80%|████████  | 40/50 [03:56<00:59,  5.93s/it]"
     ]
    },
    {
     "name": "stdout",
     "output_type": "stream",
     "text": [
      "Saved checkpoint: checkpoints/cnn_ddi_epoch_40_pathway.pt\n"
     ]
    },
    {
     "name": "stderr",
     "output_type": "stream",
     "text": [
      " 82%|████████▏ | 41/50 [04:02<00:53,  5.89s/it]"
     ]
    },
    {
     "name": "stdout",
     "output_type": "stream",
     "text": [
      "Epoch 41, Train Loss: 0.1028, Validation Loss: 0.3845, Validation Accuracy: 0.8181, Precision: 0.7370, recall: 0.6782, F1: 0.6852, AUC: 0.9788, AUPR: 0.9434\n"
     ]
    },
    {
     "name": "stderr",
     "output_type": "stream",
     "text": [
      " 84%|████████▍ | 42/50 [04:08<00:47,  5.89s/it]"
     ]
    },
    {
     "name": "stdout",
     "output_type": "stream",
     "text": [
      "Epoch 42, Train Loss: 0.1060, Validation Loss: 0.5232, Validation Accuracy: 0.7660, Precision: 0.6284, recall: 0.7622, F1: 0.6448, AUC: 0.9718, AUPR: 0.9253\n"
     ]
    },
    {
     "name": "stderr",
     "output_type": "stream",
     "text": [
      " 86%|████████▌ | 43/50 [04:14<00:41,  5.88s/it]"
     ]
    },
    {
     "name": "stdout",
     "output_type": "stream",
     "text": [
      "Epoch 43, Train Loss: 0.1001, Validation Loss: 0.3324, Validation Accuracy: 0.8183, Precision: 0.7120, recall: 0.6782, F1: 0.6784, AUC: 0.9815, AUPR: 0.9543\n"
     ]
    },
    {
     "name": "stderr",
     "output_type": "stream",
     "text": [
      " 88%|████████▊ | 44/50 [04:20<00:35,  5.87s/it]"
     ]
    },
    {
     "name": "stdout",
     "output_type": "stream",
     "text": [
      "Epoch 44, Train Loss: 0.1036, Validation Loss: 1.6056, Validation Accuracy: 0.6368, Precision: 0.5532, recall: 0.6728, F1: 0.5655, AUC: 0.9567, AUPR: 0.8790\n"
     ]
    },
    {
     "name": "stderr",
     "output_type": "stream",
     "text": [
      " 90%|█████████ | 45/50 [04:26<00:29,  5.89s/it]"
     ]
    },
    {
     "name": "stdout",
     "output_type": "stream",
     "text": [
      "Epoch 45, Train Loss: 4.5288, Validation Loss: 0.8303, Validation Accuracy: 0.8128, Precision: 0.7354, recall: 0.6076, F1: 0.6494, AUC: 0.9784, AUPR: 0.9425\n"
     ]
    },
    {
     "name": "stderr",
     "output_type": "stream",
     "text": [
      " 92%|█████████▏| 46/50 [04:32<00:23,  5.91s/it]"
     ]
    },
    {
     "name": "stdout",
     "output_type": "stream",
     "text": [
      "Epoch 46, Train Loss: 0.1373, Validation Loss: 0.5504, Validation Accuracy: 0.8138, Precision: 0.7731, recall: 0.6736, F1: 0.6990, AUC: 0.9796, AUPR: 0.9465\n"
     ]
    },
    {
     "name": "stderr",
     "output_type": "stream",
     "text": [
      " 94%|█████████▍| 47/50 [04:37<00:17,  5.88s/it]"
     ]
    },
    {
     "name": "stdout",
     "output_type": "stream",
     "text": [
      "Epoch 47, Train Loss: 0.1154, Validation Loss: 0.4570, Validation Accuracy: 0.8162, Precision: 0.7399, recall: 0.6906, F1: 0.6929, AUC: 0.9808, AUPR: 0.9511\n"
     ]
    },
    {
     "name": "stderr",
     "output_type": "stream",
     "text": [
      " 96%|█████████▌| 48/50 [04:43<00:11,  5.88s/it]"
     ]
    },
    {
     "name": "stdout",
     "output_type": "stream",
     "text": [
      "Epoch 48, Train Loss: 0.1160, Validation Loss: 0.3827, Validation Accuracy: 0.8253, Precision: 0.7603, recall: 0.6968, F1: 0.7079, AUC: 0.9811, AUPR: 0.9519\n"
     ]
    },
    {
     "name": "stderr",
     "output_type": "stream",
     "text": [
      " 98%|█████████▊| 49/50 [04:49<00:05,  5.90s/it]"
     ]
    },
    {
     "name": "stdout",
     "output_type": "stream",
     "text": [
      "Epoch 49, Train Loss: 0.1053, Validation Loss: 0.3950, Validation Accuracy: 0.8163, Precision: 0.7538, recall: 0.6857, F1: 0.6998, AUC: 0.9791, AUPR: 0.9466\n",
      "Epoch 50, Train Loss: 0.0916, Validation Loss: 0.3581, Validation Accuracy: 0.8234, Precision: 0.7491, recall: 0.7264, F1: 0.7232, AUC: 0.9799, AUPR: 0.9489\n"
     ]
    },
    {
     "name": "stderr",
     "output_type": "stream",
     "text": [
      "100%|██████████| 50/50 [04:55<00:00,  5.92s/it]"
     ]
    },
    {
     "name": "stdout",
     "output_type": "stream",
     "text": [
      "Saved checkpoint: checkpoints/cnn_ddi_epoch_50_pathway.pt\n",
      "Feature combination: ('target',)\n"
     ]
    },
    {
     "name": "stderr",
     "output_type": "stream",
     "text": [
      "\n",
      "/tmp/ipykernel_83239/3982585584.py:3: UserWarning: To copy construct from a tensor, it is recommended to use sourceTensor.clone().detach() or sourceTensor.clone().detach().requires_grad_(True), rather than torch.tensor(sourceTensor).\n",
      "  self.features = torch.tensor(features, dtype=torch.float32)\n",
      "  2%|▏         | 1/50 [00:05<04:51,  5.94s/it]"
     ]
    },
    {
     "name": "stdout",
     "output_type": "stream",
     "text": [
      "Epoch 1, Train Loss: 0.7388, Validation Loss: 0.4583, Validation Accuracy: 0.7378, Precision: 0.6442, recall: 0.4335, F1: 0.4732, AUC: 0.9427, AUPR: 0.8303\n"
     ]
    },
    {
     "name": "stderr",
     "output_type": "stream",
     "text": [
      "  4%|▍         | 2/50 [00:11<04:44,  5.93s/it]"
     ]
    },
    {
     "name": "stdout",
     "output_type": "stream",
     "text": [
      "Epoch 2, Train Loss: 0.3331, Validation Loss: 0.3444, Validation Accuracy: 0.7914, Precision: 0.6908, recall: 0.6188, F1: 0.6322, AUC: 0.9634, AUPR: 0.9116\n"
     ]
    },
    {
     "name": "stderr",
     "output_type": "stream",
     "text": [
      "  6%|▌         | 3/50 [00:17<04:39,  5.94s/it]"
     ]
    },
    {
     "name": "stdout",
     "output_type": "stream",
     "text": [
      "Epoch 3, Train Loss: 0.2640, Validation Loss: 0.3210, Validation Accuracy: 0.7953, Precision: 0.7350, recall: 0.7076, F1: 0.6939, AUC: 0.9681, AUPR: 0.9237\n"
     ]
    },
    {
     "name": "stderr",
     "output_type": "stream",
     "text": [
      "  8%|▊         | 4/50 [00:23<04:33,  5.95s/it]"
     ]
    },
    {
     "name": "stdout",
     "output_type": "stream",
     "text": [
      "Epoch 4, Train Loss: 0.2332, Validation Loss: 0.3694, Validation Accuracy: 0.7773, Precision: 0.7239, recall: 0.7225, F1: 0.7025, AUC: 0.9609, AUPR: 0.8957\n"
     ]
    },
    {
     "name": "stderr",
     "output_type": "stream",
     "text": [
      " 10%|█         | 5/50 [00:29<04:27,  5.94s/it]"
     ]
    },
    {
     "name": "stdout",
     "output_type": "stream",
     "text": [
      "Epoch 5, Train Loss: 0.2012, Validation Loss: 0.2945, Validation Accuracy: 0.8068, Precision: 0.7025, recall: 0.6735, F1: 0.6602, AUC: 0.9738, AUPR: 0.9383\n"
     ]
    },
    {
     "name": "stderr",
     "output_type": "stream",
     "text": [
      " 12%|█▏        | 6/50 [00:35<04:20,  5.92s/it]"
     ]
    },
    {
     "name": "stdout",
     "output_type": "stream",
     "text": [
      "Epoch 6, Train Loss: 0.1829, Validation Loss: 0.2687, Validation Accuracy: 0.8226, Precision: 0.7343, recall: 0.6989, F1: 0.7018, AUC: 0.9782, AUPR: 0.9464\n"
     ]
    },
    {
     "name": "stderr",
     "output_type": "stream",
     "text": [
      " 14%|█▍        | 7/50 [00:41<04:14,  5.92s/it]"
     ]
    },
    {
     "name": "stdout",
     "output_type": "stream",
     "text": [
      "Epoch 7, Train Loss: 0.1713, Validation Loss: 0.2888, Validation Accuracy: 0.8209, Precision: 0.7742, recall: 0.7288, F1: 0.7318, AUC: 0.9779, AUPR: 0.9452\n"
     ]
    },
    {
     "name": "stderr",
     "output_type": "stream",
     "text": [
      " 16%|█▌        | 8/50 [00:47<04:08,  5.93s/it]"
     ]
    },
    {
     "name": "stdout",
     "output_type": "stream",
     "text": [
      "Epoch 8, Train Loss: 0.1588, Validation Loss: 0.2857, Validation Accuracy: 0.8193, Precision: 0.7393, recall: 0.7244, F1: 0.7176, AUC: 0.9785, AUPR: 0.9455\n"
     ]
    },
    {
     "name": "stderr",
     "output_type": "stream",
     "text": [
      " 18%|█▊        | 9/50 [00:53<04:03,  5.93s/it]"
     ]
    },
    {
     "name": "stdout",
     "output_type": "stream",
     "text": [
      "Epoch 9, Train Loss: 0.1552, Validation Loss: 0.4456, Validation Accuracy: 0.7475, Precision: 0.7098, recall: 0.6556, F1: 0.6496, AUC: 0.9675, AUPR: 0.9131\n",
      "Epoch 10, Train Loss: 0.1457, Validation Loss: 0.2835, Validation Accuracy: 0.8100, Precision: 0.7618, recall: 0.5925, F1: 0.6413, AUC: 0.9768, AUPR: 0.9441\n"
     ]
    },
    {
     "name": "stderr",
     "output_type": "stream",
     "text": [
      " 20%|██        | 10/50 [00:59<03:58,  5.96s/it]"
     ]
    },
    {
     "name": "stdout",
     "output_type": "stream",
     "text": [
      "Saved checkpoint: checkpoints/cnn_ddi_epoch_10_target.pt\n"
     ]
    },
    {
     "name": "stderr",
     "output_type": "stream",
     "text": [
      " 22%|██▏       | 11/50 [01:05<03:50,  5.90s/it]"
     ]
    },
    {
     "name": "stdout",
     "output_type": "stream",
     "text": [
      "Epoch 11, Train Loss: 0.1378, Validation Loss: 0.2736, Validation Accuracy: 0.8359, Precision: 0.7708, recall: 0.7534, F1: 0.7501, AUC: 0.9807, AUPR: 0.9528\n"
     ]
    },
    {
     "name": "stderr",
     "output_type": "stream",
     "text": [
      " 24%|██▍       | 12/50 [01:11<03:43,  5.88s/it]"
     ]
    },
    {
     "name": "stdout",
     "output_type": "stream",
     "text": [
      "Epoch 12, Train Loss: 0.1290, Validation Loss: 0.3512, Validation Accuracy: 0.8025, Precision: 0.7587, recall: 0.6684, F1: 0.6958, AUC: 0.9788, AUPR: 0.9466\n"
     ]
    },
    {
     "name": "stderr",
     "output_type": "stream",
     "text": [
      " 26%|██▌       | 13/50 [01:16<03:36,  5.86s/it]"
     ]
    },
    {
     "name": "stdout",
     "output_type": "stream",
     "text": [
      "Epoch 13, Train Loss: 0.1353, Validation Loss: 0.3490, Validation Accuracy: 0.8147, Precision: 0.7110, recall: 0.7386, F1: 0.6998, AUC: 0.9803, AUPR: 0.9527\n"
     ]
    },
    {
     "name": "stderr",
     "output_type": "stream",
     "text": [
      " 28%|██▊       | 14/50 [01:22<03:30,  5.85s/it]"
     ]
    },
    {
     "name": "stdout",
     "output_type": "stream",
     "text": [
      "Epoch 14, Train Loss: 0.1171, Validation Loss: 0.2732, Validation Accuracy: 0.8386, Precision: 0.7279, recall: 0.6671, F1: 0.6825, AUC: 0.9824, AUPR: 0.9538\n"
     ]
    },
    {
     "name": "stderr",
     "output_type": "stream",
     "text": [
      " 30%|███       | 15/50 [01:28<03:25,  5.88s/it]"
     ]
    },
    {
     "name": "stdout",
     "output_type": "stream",
     "text": [
      "Epoch 15, Train Loss: 0.1226, Validation Loss: 0.3182, Validation Accuracy: 0.8245, Precision: 0.7556, recall: 0.7074, F1: 0.7122, AUC: 0.9812, AUPR: 0.9486\n"
     ]
    },
    {
     "name": "stderr",
     "output_type": "stream",
     "text": [
      " 32%|███▏      | 16/50 [01:34<03:19,  5.87s/it]"
     ]
    },
    {
     "name": "stdout",
     "output_type": "stream",
     "text": [
      "Epoch 16, Train Loss: 0.1236, Validation Loss: 0.2974, Validation Accuracy: 0.8342, Precision: 0.7187, recall: 0.6894, F1: 0.6873, AUC: 0.9827, AUPR: 0.9570\n"
     ]
    },
    {
     "name": "stderr",
     "output_type": "stream",
     "text": [
      " 34%|███▍      | 17/50 [01:40<03:13,  5.85s/it]"
     ]
    },
    {
     "name": "stdout",
     "output_type": "stream",
     "text": [
      "Epoch 17, Train Loss: 0.1069, Validation Loss: 0.3072, Validation Accuracy: 0.8317, Precision: 0.7515, recall: 0.7196, F1: 0.7204, AUC: 0.9822, AUPR: 0.9541\n"
     ]
    },
    {
     "name": "stderr",
     "output_type": "stream",
     "text": [
      " 36%|███▌      | 18/50 [01:46<03:06,  5.83s/it]"
     ]
    },
    {
     "name": "stdout",
     "output_type": "stream",
     "text": [
      "Epoch 18, Train Loss: 0.1248, Validation Loss: 0.3168, Validation Accuracy: 0.8241, Precision: 0.7653, recall: 0.6700, F1: 0.6875, AUC: 0.9811, AUPR: 0.9489\n"
     ]
    },
    {
     "name": "stderr",
     "output_type": "stream",
     "text": [
      " 38%|███▊      | 19/50 [01:51<03:01,  5.85s/it]"
     ]
    },
    {
     "name": "stdout",
     "output_type": "stream",
     "text": [
      "Epoch 19, Train Loss: 0.1025, Validation Loss: 0.4864, Validation Accuracy: 0.7971, Precision: 0.7291, recall: 0.6482, F1: 0.6617, AUC: 0.9782, AUPR: 0.9448\n",
      "Epoch 20, Train Loss: 0.1103, Validation Loss: 0.3179, Validation Accuracy: 0.8342, Precision: 0.7466, recall: 0.7247, F1: 0.7151, AUC: 0.9813, AUPR: 0.9537\n"
     ]
    },
    {
     "name": "stderr",
     "output_type": "stream",
     "text": [
      " 40%|████      | 20/50 [01:58<02:57,  5.93s/it]"
     ]
    },
    {
     "name": "stdout",
     "output_type": "stream",
     "text": [
      "Saved checkpoint: checkpoints/cnn_ddi_epoch_20_target.pt\n"
     ]
    },
    {
     "name": "stderr",
     "output_type": "stream",
     "text": [
      " 42%|████▏     | 21/50 [02:03<02:51,  5.92s/it]"
     ]
    },
    {
     "name": "stdout",
     "output_type": "stream",
     "text": [
      "Epoch 21, Train Loss: 0.1109, Validation Loss: 0.3005, Validation Accuracy: 0.8356, Precision: 0.7524, recall: 0.7019, F1: 0.7170, AUC: 0.9819, AUPR: 0.9543\n"
     ]
    },
    {
     "name": "stderr",
     "output_type": "stream",
     "text": [
      " 44%|████▍     | 22/50 [02:09<02:44,  5.89s/it]"
     ]
    },
    {
     "name": "stdout",
     "output_type": "stream",
     "text": [
      "Epoch 22, Train Loss: 0.0957, Validation Loss: 0.2824, Validation Accuracy: 0.8440, Precision: 0.7196, recall: 0.7133, F1: 0.7019, AUC: 0.9845, AUPR: 0.9619\n"
     ]
    },
    {
     "name": "stderr",
     "output_type": "stream",
     "text": [
      " 46%|████▌     | 23/50 [02:15<02:38,  5.86s/it]"
     ]
    },
    {
     "name": "stdout",
     "output_type": "stream",
     "text": [
      "Epoch 23, Train Loss: 0.1082, Validation Loss: 0.3351, Validation Accuracy: 0.8285, Precision: 0.7385, recall: 0.7123, F1: 0.7099, AUC: 0.9817, AUPR: 0.9530\n"
     ]
    },
    {
     "name": "stderr",
     "output_type": "stream",
     "text": [
      " 48%|████▊     | 24/50 [02:21<02:31,  5.84s/it]"
     ]
    },
    {
     "name": "stdout",
     "output_type": "stream",
     "text": [
      "Epoch 24, Train Loss: 0.1053, Validation Loss: 0.2954, Validation Accuracy: 0.8315, Precision: 0.7604, recall: 0.7528, F1: 0.7440, AUC: 0.9825, AUPR: 0.9562\n"
     ]
    },
    {
     "name": "stderr",
     "output_type": "stream",
     "text": [
      " 50%|█████     | 25/50 [02:27<02:25,  5.84s/it]"
     ]
    },
    {
     "name": "stdout",
     "output_type": "stream",
     "text": [
      "Epoch 25, Train Loss: 0.0930, Validation Loss: 0.2943, Validation Accuracy: 0.8382, Precision: 0.7395, recall: 0.7261, F1: 0.7227, AUC: 0.9841, AUPR: 0.9574\n"
     ]
    },
    {
     "name": "stderr",
     "output_type": "stream",
     "text": [
      " 52%|█████▏    | 26/50 [02:33<02:20,  5.84s/it]"
     ]
    },
    {
     "name": "stdout",
     "output_type": "stream",
     "text": [
      "Epoch 26, Train Loss: 0.5671, Validation Loss: 0.4500, Validation Accuracy: 0.8119, Precision: 0.6858, recall: 0.6971, F1: 0.6694, AUC: 0.9773, AUPR: 0.9448\n"
     ]
    },
    {
     "name": "stderr",
     "output_type": "stream",
     "text": [
      " 54%|█████▍    | 27/50 [02:38<02:14,  5.86s/it]"
     ]
    },
    {
     "name": "stdout",
     "output_type": "stream",
     "text": [
      "Epoch 27, Train Loss: 0.1042, Validation Loss: 0.3382, Validation Accuracy: 0.8407, Precision: 0.7711, recall: 0.7456, F1: 0.7435, AUC: 0.9847, AUPR: 0.9603\n"
     ]
    },
    {
     "name": "stderr",
     "output_type": "stream",
     "text": [
      " 56%|█████▌    | 28/50 [02:44<02:09,  5.88s/it]"
     ]
    },
    {
     "name": "stdout",
     "output_type": "stream",
     "text": [
      "Epoch 28, Train Loss: 0.1033, Validation Loss: 0.3887, Validation Accuracy: 0.8228, Precision: 0.7437, recall: 0.7365, F1: 0.7193, AUC: 0.9808, AUPR: 0.9504\n"
     ]
    },
    {
     "name": "stderr",
     "output_type": "stream",
     "text": [
      " 58%|█████▊    | 29/50 [02:50<02:03,  5.88s/it]"
     ]
    },
    {
     "name": "stdout",
     "output_type": "stream",
     "text": [
      "Epoch 29, Train Loss: 0.0891, Validation Loss: 0.3193, Validation Accuracy: 0.8385, Precision: 0.7712, recall: 0.7393, F1: 0.7391, AUC: 0.9837, AUPR: 0.9583\n",
      "Epoch 30, Train Loss: 0.0861, Validation Loss: 0.3428, Validation Accuracy: 0.8362, Precision: 0.7385, recall: 0.7274, F1: 0.7172, AUC: 0.9831, AUPR: 0.9590\n"
     ]
    },
    {
     "name": "stderr",
     "output_type": "stream",
     "text": [
      " 60%|██████    | 30/50 [02:56<01:59,  5.95s/it]"
     ]
    },
    {
     "name": "stdout",
     "output_type": "stream",
     "text": [
      "Saved checkpoint: checkpoints/cnn_ddi_epoch_30_target.pt\n"
     ]
    },
    {
     "name": "stderr",
     "output_type": "stream",
     "text": [
      " 62%|██████▏   | 31/50 [03:02<01:52,  5.93s/it]"
     ]
    },
    {
     "name": "stdout",
     "output_type": "stream",
     "text": [
      "Epoch 31, Train Loss: 0.1046, Validation Loss: 0.3089, Validation Accuracy: 0.8260, Precision: 0.7209, recall: 0.6389, F1: 0.6625, AUC: 0.9808, AUPR: 0.9522\n"
     ]
    },
    {
     "name": "stderr",
     "output_type": "stream",
     "text": [
      " 64%|██████▍   | 32/50 [03:08<01:46,  5.94s/it]"
     ]
    },
    {
     "name": "stdout",
     "output_type": "stream",
     "text": [
      "Epoch 32, Train Loss: 0.2353, Validation Loss: 0.4901, Validation Accuracy: 0.8073, Precision: 0.6768, recall: 0.7157, F1: 0.6719, AUC: 0.9773, AUPR: 0.9429\n"
     ]
    },
    {
     "name": "stderr",
     "output_type": "stream",
     "text": [
      " 66%|██████▌   | 33/50 [03:14<01:40,  5.93s/it]"
     ]
    },
    {
     "name": "stdout",
     "output_type": "stream",
     "text": [
      "Epoch 33, Train Loss: 0.0901, Validation Loss: 0.3025, Validation Accuracy: 0.8452, Precision: 0.7325, recall: 0.7317, F1: 0.7258, AUC: 0.9841, AUPR: 0.9597\n"
     ]
    },
    {
     "name": "stderr",
     "output_type": "stream",
     "text": [
      " 68%|██████▊   | 34/50 [03:20<01:34,  5.94s/it]"
     ]
    },
    {
     "name": "stdout",
     "output_type": "stream",
     "text": [
      "Epoch 34, Train Loss: 0.0766, Validation Loss: 0.3414, Validation Accuracy: 0.8442, Precision: 0.7522, recall: 0.7152, F1: 0.7242, AUC: 0.9835, AUPR: 0.9601\n"
     ]
    },
    {
     "name": "stderr",
     "output_type": "stream",
     "text": [
      " 70%|███████   | 35/50 [03:26<01:29,  5.94s/it]"
     ]
    },
    {
     "name": "stdout",
     "output_type": "stream",
     "text": [
      "Epoch 35, Train Loss: 0.0847, Validation Loss: 0.3574, Validation Accuracy: 0.8283, Precision: 0.7399, recall: 0.6966, F1: 0.7031, AUC: 0.9812, AUPR: 0.9483\n"
     ]
    },
    {
     "name": "stderr",
     "output_type": "stream",
     "text": [
      " 72%|███████▏  | 36/50 [03:32<01:23,  5.94s/it]"
     ]
    },
    {
     "name": "stdout",
     "output_type": "stream",
     "text": [
      "Epoch 36, Train Loss: 0.0882, Validation Loss: 0.3520, Validation Accuracy: 0.8352, Precision: 0.7261, recall: 0.7254, F1: 0.7102, AUC: 0.9809, AUPR: 0.9493\n"
     ]
    },
    {
     "name": "stderr",
     "output_type": "stream",
     "text": [
      " 74%|███████▍  | 37/50 [03:38<01:17,  5.94s/it]"
     ]
    },
    {
     "name": "stdout",
     "output_type": "stream",
     "text": [
      "Epoch 37, Train Loss: 0.0921, Validation Loss: 0.3422, Validation Accuracy: 0.8261, Precision: 0.7261, recall: 0.6360, F1: 0.6577, AUC: 0.9808, AUPR: 0.9509\n"
     ]
    },
    {
     "name": "stderr",
     "output_type": "stream",
     "text": [
      " 76%|███████▌  | 38/50 [03:44<01:11,  5.93s/it]"
     ]
    },
    {
     "name": "stdout",
     "output_type": "stream",
     "text": [
      "Epoch 38, Train Loss: 0.1039, Validation Loss: 0.3381, Validation Accuracy: 0.8437, Precision: 0.7203, recall: 0.6844, F1: 0.6926, AUC: 0.9841, AUPR: 0.9608\n"
     ]
    },
    {
     "name": "stderr",
     "output_type": "stream",
     "text": [
      " 78%|███████▊  | 39/50 [03:50<01:05,  5.92s/it]"
     ]
    },
    {
     "name": "stdout",
     "output_type": "stream",
     "text": [
      "Epoch 39, Train Loss: 0.0816, Validation Loss: 0.3130, Validation Accuracy: 0.8265, Precision: 0.7280, recall: 0.6240, F1: 0.6491, AUC: 0.9823, AUPR: 0.9570\n",
      "Epoch 40, Train Loss: 0.9789, Validation Loss: 0.8497, Validation Accuracy: 0.7971, Precision: 0.6714, recall: 0.7094, F1: 0.6619, AUC: 0.9704, AUPR: 0.9260\n"
     ]
    },
    {
     "name": "stderr",
     "output_type": "stream",
     "text": [
      " 80%|████████  | 40/50 [03:56<00:59,  6.00s/it]"
     ]
    },
    {
     "name": "stdout",
     "output_type": "stream",
     "text": [
      "Saved checkpoint: checkpoints/cnn_ddi_epoch_40_target.pt\n"
     ]
    },
    {
     "name": "stderr",
     "output_type": "stream",
     "text": [
      " 82%|████████▏ | 41/50 [04:02<00:53,  5.99s/it]"
     ]
    },
    {
     "name": "stdout",
     "output_type": "stream",
     "text": [
      "Epoch 41, Train Loss: 0.1332, Validation Loss: 0.3770, Validation Accuracy: 0.8401, Precision: 0.7556, recall: 0.7183, F1: 0.7226, AUC: 0.9826, AUPR: 0.9563\n"
     ]
    },
    {
     "name": "stderr",
     "output_type": "stream",
     "text": [
      " 84%|████████▍ | 42/50 [04:08<00:47,  5.97s/it]"
     ]
    },
    {
     "name": "stdout",
     "output_type": "stream",
     "text": [
      "Epoch 42, Train Loss: 0.0763, Validation Loss: 0.3773, Validation Accuracy: 0.8376, Precision: 0.7500, recall: 0.7171, F1: 0.7172, AUC: 0.9839, AUPR: 0.9593\n"
     ]
    },
    {
     "name": "stderr",
     "output_type": "stream",
     "text": [
      " 86%|████████▌ | 43/50 [04:14<00:41,  5.95s/it]"
     ]
    },
    {
     "name": "stdout",
     "output_type": "stream",
     "text": [
      "Epoch 43, Train Loss: 0.0804, Validation Loss: 0.4039, Validation Accuracy: 0.8139, Precision: 0.6638, recall: 0.7583, F1: 0.6758, AUC: 0.9792, AUPR: 0.9499\n"
     ]
    },
    {
     "name": "stderr",
     "output_type": "stream",
     "text": [
      " 88%|████████▊ | 44/50 [04:20<00:35,  5.94s/it]"
     ]
    },
    {
     "name": "stdout",
     "output_type": "stream",
     "text": [
      "Epoch 44, Train Loss: 0.0950, Validation Loss: 0.3580, Validation Accuracy: 0.8426, Precision: 0.7907, recall: 0.6632, F1: 0.7058, AUC: 0.9842, AUPR: 0.9602\n"
     ]
    },
    {
     "name": "stderr",
     "output_type": "stream",
     "text": [
      " 90%|█████████ | 45/50 [04:26<00:29,  5.96s/it]"
     ]
    },
    {
     "name": "stdout",
     "output_type": "stream",
     "text": [
      "Epoch 45, Train Loss: 0.0851, Validation Loss: 0.4665, Validation Accuracy: 0.8186, Precision: 0.7469, recall: 0.7264, F1: 0.7166, AUC: 0.9811, AUPR: 0.9532\n"
     ]
    },
    {
     "name": "stderr",
     "output_type": "stream",
     "text": [
      " 92%|█████████▏| 46/50 [04:32<00:23,  5.97s/it]"
     ]
    },
    {
     "name": "stdout",
     "output_type": "stream",
     "text": [
      "Epoch 46, Train Loss: 0.5860, Validation Loss: 0.3982, Validation Accuracy: 0.8213, Precision: 0.7422, recall: 0.7032, F1: 0.7033, AUC: 0.9791, AUPR: 0.9482\n"
     ]
    },
    {
     "name": "stderr",
     "output_type": "stream",
     "text": [
      " 94%|█████████▍| 47/50 [04:38<00:17,  5.98s/it]"
     ]
    },
    {
     "name": "stdout",
     "output_type": "stream",
     "text": [
      "Epoch 47, Train Loss: 0.0821, Validation Loss: 0.3696, Validation Accuracy: 0.8407, Precision: 0.7421, recall: 0.7495, F1: 0.7282, AUC: 0.9834, AUPR: 0.9610\n"
     ]
    },
    {
     "name": "stderr",
     "output_type": "stream",
     "text": [
      " 96%|█████████▌| 48/50 [04:44<00:11,  5.97s/it]"
     ]
    },
    {
     "name": "stdout",
     "output_type": "stream",
     "text": [
      "Epoch 48, Train Loss: 0.0752, Validation Loss: 0.3680, Validation Accuracy: 0.8374, Precision: 0.7752, recall: 0.7829, F1: 0.7597, AUC: 0.9844, AUPR: 0.9605\n"
     ]
    },
    {
     "name": "stderr",
     "output_type": "stream",
     "text": [
      " 98%|█████████▊| 49/50 [04:50<00:05,  5.98s/it]"
     ]
    },
    {
     "name": "stdout",
     "output_type": "stream",
     "text": [
      "Epoch 49, Train Loss: 0.0745, Validation Loss: 0.3334, Validation Accuracy: 0.8427, Precision: 0.7429, recall: 0.7489, F1: 0.7326, AUC: 0.9848, AUPR: 0.9631\n",
      "Epoch 50, Train Loss: 0.0807, Validation Loss: 0.3603, Validation Accuracy: 0.8391, Precision: 0.7354, recall: 0.7760, F1: 0.7431, AUC: 0.9839, AUPR: 0.9588\n"
     ]
    },
    {
     "name": "stderr",
     "output_type": "stream",
     "text": [
      "100%|██████████| 50/50 [04:56<00:00,  5.92s/it]"
     ]
    },
    {
     "name": "stdout",
     "output_type": "stream",
     "text": [
      "Saved checkpoint: checkpoints/cnn_ddi_epoch_50_target.pt\n",
      "Feature combination: ('enzyme',)\n"
     ]
    },
    {
     "name": "stderr",
     "output_type": "stream",
     "text": [
      "\n",
      "/tmp/ipykernel_83239/3982585584.py:3: UserWarning: To copy construct from a tensor, it is recommended to use sourceTensor.clone().detach() or sourceTensor.clone().detach().requires_grad_(True), rather than torch.tensor(sourceTensor).\n",
      "  self.features = torch.tensor(features, dtype=torch.float32)\n",
      "  2%|▏         | 1/50 [00:05<04:51,  5.95s/it]"
     ]
    },
    {
     "name": "stdout",
     "output_type": "stream",
     "text": [
      "Epoch 1, Train Loss: 1.3266, Validation Loss: 0.9427, Validation Accuracy: 0.5661, Precision: 0.3210, recall: 0.1867, F1: 0.2073, AUC: 0.8504, AUPR: 0.6947\n"
     ]
    },
    {
     "name": "stderr",
     "output_type": "stream",
     "text": [
      "  4%|▍         | 2/50 [00:11<04:44,  5.94s/it]"
     ]
    },
    {
     "name": "stdout",
     "output_type": "stream",
     "text": [
      "Epoch 2, Train Loss: 0.7928, Validation Loss: 0.7352, Validation Accuracy: 0.6242, Precision: 0.4624, recall: 0.3170, F1: 0.3445, AUC: 0.8965, AUPR: 0.7693\n"
     ]
    },
    {
     "name": "stderr",
     "output_type": "stream",
     "text": [
      "  6%|▌         | 3/50 [00:17<04:38,  5.94s/it]"
     ]
    },
    {
     "name": "stdout",
     "output_type": "stream",
     "text": [
      "Epoch 3, Train Loss: 0.6782, Validation Loss: 0.7706, Validation Accuracy: 0.6061, Precision: 0.3734, recall: 0.3282, F1: 0.3240, AUC: 0.8929, AUPR: 0.7604\n"
     ]
    },
    {
     "name": "stderr",
     "output_type": "stream",
     "text": [
      "  8%|▊         | 4/50 [00:23<04:32,  5.93s/it]"
     ]
    },
    {
     "name": "stdout",
     "output_type": "stream",
     "text": [
      "Epoch 4, Train Loss: 0.6134, Validation Loss: 0.6981, Validation Accuracy: 0.6482, Precision: 0.4599, recall: 0.2973, F1: 0.3300, AUC: 0.9081, AUPR: 0.7854\n"
     ]
    },
    {
     "name": "stderr",
     "output_type": "stream",
     "text": [
      " 10%|█         | 5/50 [00:29<04:27,  5.94s/it]"
     ]
    },
    {
     "name": "stdout",
     "output_type": "stream",
     "text": [
      "Epoch 5, Train Loss: 0.5837, Validation Loss: 0.6445, Validation Accuracy: 0.6584, Precision: 0.4883, recall: 0.3586, F1: 0.3908, AUC: 0.9090, AUPR: 0.7935\n"
     ]
    },
    {
     "name": "stderr",
     "output_type": "stream",
     "text": [
      " 12%|█▏        | 6/50 [00:35<04:21,  5.93s/it]"
     ]
    },
    {
     "name": "stdout",
     "output_type": "stream",
     "text": [
      "Epoch 6, Train Loss: 0.5548, Validation Loss: 0.6606, Validation Accuracy: 0.6491, Precision: 0.4599, recall: 0.4191, F1: 0.4188, AUC: 0.9037, AUPR: 0.7925\n"
     ]
    },
    {
     "name": "stderr",
     "output_type": "stream",
     "text": [
      " 14%|█▍        | 7/50 [00:41<04:15,  5.94s/it]"
     ]
    },
    {
     "name": "stdout",
     "output_type": "stream",
     "text": [
      "Epoch 7, Train Loss: 0.5339, Validation Loss: 0.6292, Validation Accuracy: 0.6573, Precision: 0.4818, recall: 0.3636, F1: 0.3841, AUC: 0.9134, AUPR: 0.8022\n"
     ]
    },
    {
     "name": "stderr",
     "output_type": "stream",
     "text": [
      " 16%|█▌        | 8/50 [00:47<04:09,  5.95s/it]"
     ]
    },
    {
     "name": "stdout",
     "output_type": "stream",
     "text": [
      "Epoch 8, Train Loss: 0.5191, Validation Loss: 0.6436, Validation Accuracy: 0.6668, Precision: 0.5309, recall: 0.4026, F1: 0.4335, AUC: 0.9152, AUPR: 0.8078\n"
     ]
    },
    {
     "name": "stderr",
     "output_type": "stream",
     "text": [
      " 18%|█▊        | 9/50 [00:53<04:04,  5.96s/it]"
     ]
    },
    {
     "name": "stdout",
     "output_type": "stream",
     "text": [
      "Epoch 9, Train Loss: 0.5023, Validation Loss: 0.6977, Validation Accuracy: 0.6367, Precision: 0.4396, recall: 0.4655, F1: 0.4141, AUC: 0.9057, AUPR: 0.7850\n"
     ]
    },
    {
     "name": "stderr",
     "output_type": "stream",
     "text": [
      " 20%|██        | 10/50 [00:59<04:01,  6.03s/it]"
     ]
    },
    {
     "name": "stdout",
     "output_type": "stream",
     "text": [
      "Epoch 10, Train Loss: 0.4913, Validation Loss: 0.6335, Validation Accuracy: 0.6571, Precision: 0.5031, recall: 0.3963, F1: 0.4111, AUC: 0.9106, AUPR: 0.7958\n",
      "Saved checkpoint: checkpoints/cnn_ddi_epoch_10_enzyme.pt\n"
     ]
    },
    {
     "name": "stderr",
     "output_type": "stream",
     "text": [
      " 22%|██▏       | 11/50 [01:05<03:53,  5.99s/it]"
     ]
    },
    {
     "name": "stdout",
     "output_type": "stream",
     "text": [
      "Epoch 11, Train Loss: 0.4792, Validation Loss: 0.6814, Validation Accuracy: 0.6540, Precision: 0.5103, recall: 0.3825, F1: 0.4023, AUC: 0.9123, AUPR: 0.7993\n"
     ]
    },
    {
     "name": "stderr",
     "output_type": "stream",
     "text": [
      " 24%|██▍       | 12/50 [01:11<03:46,  5.97s/it]"
     ]
    },
    {
     "name": "stdout",
     "output_type": "stream",
     "text": [
      "Epoch 12, Train Loss: 0.4656, Validation Loss: 0.6544, Validation Accuracy: 0.6600, Precision: 0.5206, recall: 0.4073, F1: 0.4226, AUC: 0.9147, AUPR: 0.8043\n"
     ]
    },
    {
     "name": "stderr",
     "output_type": "stream",
     "text": [
      " 26%|██▌       | 13/50 [01:17<03:39,  5.93s/it]"
     ]
    },
    {
     "name": "stdout",
     "output_type": "stream",
     "text": [
      "Epoch 13, Train Loss: 0.4567, Validation Loss: 0.6335, Validation Accuracy: 0.6518, Precision: 0.4921, recall: 0.4270, F1: 0.4306, AUC: 0.9091, AUPR: 0.7939\n"
     ]
    },
    {
     "name": "stderr",
     "output_type": "stream",
     "text": [
      " 28%|██▊       | 14/50 [01:23<03:33,  5.92s/it]"
     ]
    },
    {
     "name": "stdout",
     "output_type": "stream",
     "text": [
      "Epoch 14, Train Loss: 0.4497, Validation Loss: 0.6228, Validation Accuracy: 0.6634, Precision: 0.4974, recall: 0.3992, F1: 0.4195, AUC: 0.9128, AUPR: 0.7988\n"
     ]
    },
    {
     "name": "stderr",
     "output_type": "stream",
     "text": [
      " 30%|███       | 15/50 [01:29<03:26,  5.91s/it]"
     ]
    },
    {
     "name": "stdout",
     "output_type": "stream",
     "text": [
      "Epoch 15, Train Loss: 0.4492, Validation Loss: 0.6234, Validation Accuracy: 0.6698, Precision: 0.4882, recall: 0.3930, F1: 0.4075, AUC: 0.9180, AUPR: 0.8143\n"
     ]
    },
    {
     "name": "stderr",
     "output_type": "stream",
     "text": [
      " 32%|███▏      | 16/50 [01:34<03:20,  5.88s/it]"
     ]
    },
    {
     "name": "stdout",
     "output_type": "stream",
     "text": [
      "Epoch 16, Train Loss: 0.4353, Validation Loss: 0.6644, Validation Accuracy: 0.6631, Precision: 0.5026, recall: 0.3781, F1: 0.3965, AUC: 0.9140, AUPR: 0.8029\n"
     ]
    },
    {
     "name": "stderr",
     "output_type": "stream",
     "text": [
      " 34%|███▍      | 17/50 [01:40<03:13,  5.85s/it]"
     ]
    },
    {
     "name": "stdout",
     "output_type": "stream",
     "text": [
      "Epoch 17, Train Loss: 0.4319, Validation Loss: 0.6237, Validation Accuracy: 0.6642, Precision: 0.4675, recall: 0.4297, F1: 0.4315, AUC: 0.9176, AUPR: 0.8115\n"
     ]
    },
    {
     "name": "stderr",
     "output_type": "stream",
     "text": [
      " 36%|███▌      | 18/50 [01:46<03:06,  5.84s/it]"
     ]
    },
    {
     "name": "stdout",
     "output_type": "stream",
     "text": [
      "Epoch 18, Train Loss: 0.4243, Validation Loss: 0.6475, Validation Accuracy: 0.6607, Precision: 0.4876, recall: 0.4111, F1: 0.4176, AUC: 0.9181, AUPR: 0.8082\n"
     ]
    },
    {
     "name": "stderr",
     "output_type": "stream",
     "text": [
      " 38%|███▊      | 19/50 [01:52<03:00,  5.83s/it]"
     ]
    },
    {
     "name": "stdout",
     "output_type": "stream",
     "text": [
      "Epoch 19, Train Loss: 0.4194, Validation Loss: 0.6843, Validation Accuracy: 0.6354, Precision: 0.4799, recall: 0.4266, F1: 0.4272, AUC: 0.9109, AUPR: 0.7993\n"
     ]
    },
    {
     "name": "stderr",
     "output_type": "stream",
     "text": [
      " 40%|████      | 20/50 [01:58<02:56,  5.90s/it]"
     ]
    },
    {
     "name": "stdout",
     "output_type": "stream",
     "text": [
      "Epoch 20, Train Loss: 0.4224, Validation Loss: 0.6627, Validation Accuracy: 0.6541, Precision: 0.4948, recall: 0.4398, F1: 0.4448, AUC: 0.9122, AUPR: 0.8005\n",
      "Saved checkpoint: checkpoints/cnn_ddi_epoch_20_enzyme.pt\n"
     ]
    },
    {
     "name": "stderr",
     "output_type": "stream",
     "text": [
      " 42%|████▏     | 21/50 [02:04<02:51,  5.90s/it]"
     ]
    },
    {
     "name": "stdout",
     "output_type": "stream",
     "text": [
      "Epoch 21, Train Loss: 0.4126, Validation Loss: 0.7006, Validation Accuracy: 0.6631, Precision: 0.5130, recall: 0.3951, F1: 0.4129, AUC: 0.9162, AUPR: 0.8045\n"
     ]
    },
    {
     "name": "stderr",
     "output_type": "stream",
     "text": [
      " 44%|████▍     | 22/50 [02:10<02:45,  5.90s/it]"
     ]
    },
    {
     "name": "stdout",
     "output_type": "stream",
     "text": [
      "Epoch 22, Train Loss: 0.4040, Validation Loss: 0.7482, Validation Accuracy: 0.6470, Precision: 0.5037, recall: 0.3354, F1: 0.3773, AUC: 0.9073, AUPR: 0.7891\n"
     ]
    },
    {
     "name": "stderr",
     "output_type": "stream",
     "text": [
      " 46%|████▌     | 23/50 [02:16<02:38,  5.88s/it]"
     ]
    },
    {
     "name": "stdout",
     "output_type": "stream",
     "text": [
      "Epoch 23, Train Loss: 0.4052, Validation Loss: 0.6918, Validation Accuracy: 0.6572, Precision: 0.4749, recall: 0.3658, F1: 0.3912, AUC: 0.9186, AUPR: 0.8092\n"
     ]
    },
    {
     "name": "stderr",
     "output_type": "stream",
     "text": [
      " 48%|████▊     | 24/50 [02:21<02:32,  5.87s/it]"
     ]
    },
    {
     "name": "stdout",
     "output_type": "stream",
     "text": [
      "Epoch 24, Train Loss: 0.4040, Validation Loss: 0.6968, Validation Accuracy: 0.6414, Precision: 0.4644, recall: 0.4120, F1: 0.4111, AUC: 0.9051, AUPR: 0.7884\n"
     ]
    },
    {
     "name": "stderr",
     "output_type": "stream",
     "text": [
      " 50%|█████     | 25/50 [02:27<02:26,  5.86s/it]"
     ]
    },
    {
     "name": "stdout",
     "output_type": "stream",
     "text": [
      "Epoch 25, Train Loss: 0.3979, Validation Loss: 0.6678, Validation Accuracy: 0.6601, Precision: 0.4939, recall: 0.3912, F1: 0.4132, AUC: 0.9166, AUPR: 0.8083\n"
     ]
    },
    {
     "name": "stderr",
     "output_type": "stream",
     "text": [
      " 52%|█████▏    | 26/50 [02:33<02:20,  5.85s/it]"
     ]
    },
    {
     "name": "stdout",
     "output_type": "stream",
     "text": [
      "Epoch 26, Train Loss: 0.3950, Validation Loss: 0.6470, Validation Accuracy: 0.6672, Precision: 0.5055, recall: 0.4093, F1: 0.4233, AUC: 0.9197, AUPR: 0.8169\n"
     ]
    },
    {
     "name": "stderr",
     "output_type": "stream",
     "text": [
      " 54%|█████▍    | 27/50 [02:39<02:15,  5.89s/it]"
     ]
    },
    {
     "name": "stdout",
     "output_type": "stream",
     "text": [
      "Epoch 27, Train Loss: 0.3924, Validation Loss: 0.6702, Validation Accuracy: 0.6549, Precision: 0.4737, recall: 0.3666, F1: 0.3881, AUC: 0.9158, AUPR: 0.8049\n"
     ]
    },
    {
     "name": "stderr",
     "output_type": "stream",
     "text": [
      " 56%|█████▌    | 28/50 [02:45<02:09,  5.87s/it]"
     ]
    },
    {
     "name": "stdout",
     "output_type": "stream",
     "text": [
      "Epoch 28, Train Loss: 0.3912, Validation Loss: 0.6663, Validation Accuracy: 0.6597, Precision: 0.5097, recall: 0.4052, F1: 0.4246, AUC: 0.9151, AUPR: 0.8021\n"
     ]
    },
    {
     "name": "stderr",
     "output_type": "stream",
     "text": [
      " 58%|█████▊    | 29/50 [02:51<02:03,  5.86s/it]"
     ]
    },
    {
     "name": "stdout",
     "output_type": "stream",
     "text": [
      "Epoch 29, Train Loss: 0.3844, Validation Loss: 0.6680, Validation Accuracy: 0.6678, Precision: 0.5421, recall: 0.4006, F1: 0.4416, AUC: 0.9180, AUPR: 0.8115\n"
     ]
    },
    {
     "name": "stderr",
     "output_type": "stream",
     "text": [
      " 60%|██████    | 30/50 [02:57<01:58,  5.91s/it]"
     ]
    },
    {
     "name": "stdout",
     "output_type": "stream",
     "text": [
      "Epoch 30, Train Loss: 0.3845, Validation Loss: 0.6977, Validation Accuracy: 0.6619, Precision: 0.5022, recall: 0.4169, F1: 0.4295, AUC: 0.9179, AUPR: 0.8092\n",
      "Saved checkpoint: checkpoints/cnn_ddi_epoch_30_enzyme.pt\n"
     ]
    },
    {
     "name": "stderr",
     "output_type": "stream",
     "text": [
      " 62%|██████▏   | 31/50 [03:03<01:52,  5.93s/it]"
     ]
    },
    {
     "name": "stdout",
     "output_type": "stream",
     "text": [
      "Epoch 31, Train Loss: 0.3860, Validation Loss: 0.7213, Validation Accuracy: 0.6463, Precision: 0.4624, recall: 0.5141, F1: 0.4494, AUC: 0.9145, AUPR: 0.8024\n"
     ]
    },
    {
     "name": "stderr",
     "output_type": "stream",
     "text": [
      " 64%|██████▍   | 32/50 [03:09<01:46,  5.92s/it]"
     ]
    },
    {
     "name": "stdout",
     "output_type": "stream",
     "text": [
      "Epoch 32, Train Loss: 0.3802, Validation Loss: 0.6564, Validation Accuracy: 0.6683, Precision: 0.5112, recall: 0.4336, F1: 0.4514, AUC: 0.9185, AUPR: 0.8114\n"
     ]
    },
    {
     "name": "stderr",
     "output_type": "stream",
     "text": [
      " 66%|██████▌   | 33/50 [03:14<01:40,  5.90s/it]"
     ]
    },
    {
     "name": "stdout",
     "output_type": "stream",
     "text": [
      "Epoch 33, Train Loss: 0.3777, Validation Loss: 0.6952, Validation Accuracy: 0.6541, Precision: 0.4997, recall: 0.4298, F1: 0.4358, AUC: 0.9165, AUPR: 0.8087\n"
     ]
    },
    {
     "name": "stderr",
     "output_type": "stream",
     "text": [
      " 68%|██████▊   | 34/50 [03:20<01:34,  5.89s/it]"
     ]
    },
    {
     "name": "stdout",
     "output_type": "stream",
     "text": [
      "Epoch 34, Train Loss: 0.3784, Validation Loss: 0.6914, Validation Accuracy: 0.6537, Precision: 0.4836, recall: 0.4306, F1: 0.4280, AUC: 0.9124, AUPR: 0.8061\n"
     ]
    },
    {
     "name": "stderr",
     "output_type": "stream",
     "text": [
      " 70%|███████   | 35/50 [03:26<01:28,  5.90s/it]"
     ]
    },
    {
     "name": "stdout",
     "output_type": "stream",
     "text": [
      "Epoch 35, Train Loss: 0.3745, Validation Loss: 0.6413, Validation Accuracy: 0.6565, Precision: 0.5001, recall: 0.4335, F1: 0.4430, AUC: 0.9202, AUPR: 0.8166\n"
     ]
    },
    {
     "name": "stderr",
     "output_type": "stream",
     "text": [
      " 72%|███████▏  | 36/50 [03:32<01:22,  5.88s/it]"
     ]
    },
    {
     "name": "stdout",
     "output_type": "stream",
     "text": [
      "Epoch 36, Train Loss: 0.3743, Validation Loss: 0.6784, Validation Accuracy: 0.6550, Precision: 0.4721, recall: 0.4123, F1: 0.4271, AUC: 0.9186, AUPR: 0.8083\n"
     ]
    },
    {
     "name": "stderr",
     "output_type": "stream",
     "text": [
      " 74%|███████▍  | 37/50 [03:38<01:16,  5.88s/it]"
     ]
    },
    {
     "name": "stdout",
     "output_type": "stream",
     "text": [
      "Epoch 37, Train Loss: 0.3746, Validation Loss: 0.7186, Validation Accuracy: 0.6630, Precision: 0.4728, recall: 0.4315, F1: 0.4265, AUC: 0.9186, AUPR: 0.8121\n"
     ]
    },
    {
     "name": "stderr",
     "output_type": "stream",
     "text": [
      " 76%|███████▌  | 38/50 [03:44<01:10,  5.87s/it]"
     ]
    },
    {
     "name": "stdout",
     "output_type": "stream",
     "text": [
      "Epoch 38, Train Loss: 0.3717, Validation Loss: 0.6890, Validation Accuracy: 0.6705, Precision: 0.5157, recall: 0.3772, F1: 0.4091, AUC: 0.9161, AUPR: 0.8077\n"
     ]
    },
    {
     "name": "stderr",
     "output_type": "stream",
     "text": [
      " 78%|███████▊  | 39/50 [03:50<01:04,  5.87s/it]"
     ]
    },
    {
     "name": "stdout",
     "output_type": "stream",
     "text": [
      "Epoch 39, Train Loss: 0.3691, Validation Loss: 0.6779, Validation Accuracy: 0.6675, Precision: 0.5368, recall: 0.4602, F1: 0.4512, AUC: 0.9167, AUPR: 0.8098\n",
      "Epoch 40, Train Loss: 0.3705, Validation Loss: 0.7003, Validation Accuracy: 0.6589, Precision: 0.5083, recall: 0.3979, F1: 0.4270, AUC: 0.9136, AUPR: 0.8015\n"
     ]
    },
    {
     "name": "stderr",
     "output_type": "stream",
     "text": [
      " 80%|████████  | 40/50 [03:56<00:59,  5.97s/it]"
     ]
    },
    {
     "name": "stdout",
     "output_type": "stream",
     "text": [
      "Saved checkpoint: checkpoints/cnn_ddi_epoch_40_enzyme.pt\n"
     ]
    },
    {
     "name": "stderr",
     "output_type": "stream",
     "text": [
      " 82%|████████▏ | 41/50 [04:02<00:53,  5.95s/it]"
     ]
    },
    {
     "name": "stdout",
     "output_type": "stream",
     "text": [
      "Epoch 41, Train Loss: 0.3666, Validation Loss: 0.7089, Validation Accuracy: 0.6635, Precision: 0.5296, recall: 0.4082, F1: 0.4416, AUC: 0.9168, AUPR: 0.8109\n"
     ]
    },
    {
     "name": "stderr",
     "output_type": "stream",
     "text": [
      " 84%|████████▍ | 42/50 [04:08<00:47,  5.96s/it]"
     ]
    },
    {
     "name": "stdout",
     "output_type": "stream",
     "text": [
      "Epoch 42, Train Loss: 0.3678, Validation Loss: 0.6878, Validation Accuracy: 0.6666, Precision: 0.4937, recall: 0.3967, F1: 0.4156, AUC: 0.9153, AUPR: 0.8060\n"
     ]
    },
    {
     "name": "stderr",
     "output_type": "stream",
     "text": [
      " 86%|████████▌ | 43/50 [04:14<00:41,  5.95s/it]"
     ]
    },
    {
     "name": "stdout",
     "output_type": "stream",
     "text": [
      "Epoch 43, Train Loss: 0.3669, Validation Loss: 0.7260, Validation Accuracy: 0.6440, Precision: 0.4762, recall: 0.4227, F1: 0.4263, AUC: 0.9152, AUPR: 0.8020\n"
     ]
    },
    {
     "name": "stderr",
     "output_type": "stream",
     "text": [
      " 88%|████████▊ | 44/50 [04:20<00:35,  5.94s/it]"
     ]
    },
    {
     "name": "stdout",
     "output_type": "stream",
     "text": [
      "Epoch 44, Train Loss: 0.3637, Validation Loss: 0.6862, Validation Accuracy: 0.6635, Precision: 0.5282, recall: 0.4105, F1: 0.4429, AUC: 0.9188, AUPR: 0.8066\n"
     ]
    },
    {
     "name": "stderr",
     "output_type": "stream",
     "text": [
      " 90%|█████████ | 45/50 [04:26<00:29,  5.97s/it]"
     ]
    },
    {
     "name": "stdout",
     "output_type": "stream",
     "text": [
      "Epoch 45, Train Loss: 0.3628, Validation Loss: 0.7212, Validation Accuracy: 0.6566, Precision: 0.4952, recall: 0.4102, F1: 0.4174, AUC: 0.9111, AUPR: 0.8025\n"
     ]
    },
    {
     "name": "stderr",
     "output_type": "stream",
     "text": [
      " 92%|█████████▏| 46/50 [04:32<00:23,  5.97s/it]"
     ]
    },
    {
     "name": "stdout",
     "output_type": "stream",
     "text": [
      "Epoch 46, Train Loss: 0.3631, Validation Loss: 0.7492, Validation Accuracy: 0.6422, Precision: 0.4859, recall: 0.4361, F1: 0.4355, AUC: 0.9114, AUPR: 0.7953\n"
     ]
    },
    {
     "name": "stderr",
     "output_type": "stream",
     "text": [
      " 94%|█████████▍| 47/50 [04:38<00:17,  5.96s/it]"
     ]
    },
    {
     "name": "stdout",
     "output_type": "stream",
     "text": [
      "Epoch 47, Train Loss: 0.3606, Validation Loss: 0.7085, Validation Accuracy: 0.6561, Precision: 0.5017, recall: 0.3565, F1: 0.3922, AUC: 0.9134, AUPR: 0.7964\n"
     ]
    },
    {
     "name": "stderr",
     "output_type": "stream",
     "text": [
      " 96%|█████████▌| 48/50 [04:44<00:11,  5.95s/it]"
     ]
    },
    {
     "name": "stdout",
     "output_type": "stream",
     "text": [
      "Epoch 48, Train Loss: 0.3625, Validation Loss: 0.6977, Validation Accuracy: 0.6699, Precision: 0.4942, recall: 0.4405, F1: 0.4527, AUC: 0.9185, AUPR: 0.8132\n"
     ]
    },
    {
     "name": "stderr",
     "output_type": "stream",
     "text": [
      " 98%|█████████▊| 49/50 [04:49<00:05,  5.94s/it]"
     ]
    },
    {
     "name": "stdout",
     "output_type": "stream",
     "text": [
      "Epoch 49, Train Loss: 0.3586, Validation Loss: 0.7330, Validation Accuracy: 0.6487, Precision: 0.4397, recall: 0.4325, F1: 0.4123, AUC: 0.9084, AUPR: 0.7930\n"
     ]
    },
    {
     "name": "stderr",
     "output_type": "stream",
     "text": [
      "100%|██████████| 50/50 [04:56<00:00,  5.92s/it]"
     ]
    },
    {
     "name": "stdout",
     "output_type": "stream",
     "text": [
      "Epoch 50, Train Loss: 0.3591, Validation Loss: 0.7601, Validation Accuracy: 0.6415, Precision: 0.4936, recall: 0.3878, F1: 0.4151, AUC: 0.9134, AUPR: 0.8021\n",
      "Saved checkpoint: checkpoints/cnn_ddi_epoch_50_enzyme.pt\n",
      "Feature combination: ('category',)\n"
     ]
    },
    {
     "name": "stderr",
     "output_type": "stream",
     "text": [
      "\n",
      "/tmp/ipykernel_83239/3982585584.py:3: UserWarning: To copy construct from a tensor, it is recommended to use sourceTensor.clone().detach() or sourceTensor.clone().detach().requires_grad_(True), rather than torch.tensor(sourceTensor).\n",
      "  self.features = torch.tensor(features, dtype=torch.float32)\n",
      "  2%|▏         | 1/50 [00:05<04:53,  6.00s/it]"
     ]
    },
    {
     "name": "stdout",
     "output_type": "stream",
     "text": [
      "Epoch 1, Train Loss: 0.5783, Validation Loss: 0.2698, Validation Accuracy: 0.8257, Precision: 0.7458, recall: 0.6033, F1: 0.6485, AUC: 0.9722, AUPR: 0.9336\n"
     ]
    },
    {
     "name": "stderr",
     "output_type": "stream",
     "text": [
      "  4%|▍         | 2/50 [00:11<04:43,  5.91s/it]"
     ]
    },
    {
     "name": "stdout",
     "output_type": "stream",
     "text": [
      "Epoch 2, Train Loss: 0.2098, Validation Loss: 0.2242, Validation Accuracy: 0.8571, Precision: 0.7388, recall: 0.6595, F1: 0.6759, AUC: 0.9838, AUPR: 0.9608\n"
     ]
    },
    {
     "name": "stderr",
     "output_type": "stream",
     "text": [
      "  6%|▌         | 3/50 [00:17<04:35,  5.86s/it]"
     ]
    },
    {
     "name": "stdout",
     "output_type": "stream",
     "text": [
      "Epoch 3, Train Loss: 0.1575, Validation Loss: 0.2089, Validation Accuracy: 0.8668, Precision: 0.7904, recall: 0.7097, F1: 0.7203, AUC: 0.9862, AUPR: 0.9640\n"
     ]
    },
    {
     "name": "stderr",
     "output_type": "stream",
     "text": [
      "  8%|▊         | 4/50 [00:23<04:29,  5.85s/it]"
     ]
    },
    {
     "name": "stdout",
     "output_type": "stream",
     "text": [
      "Epoch 4, Train Loss: 0.1236, Validation Loss: 0.1798, Validation Accuracy: 0.8767, Precision: 0.8564, recall: 0.7589, F1: 0.7877, AUC: 0.9885, AUPR: 0.9731\n"
     ]
    },
    {
     "name": "stderr",
     "output_type": "stream",
     "text": [
      " 10%|█         | 5/50 [00:29<04:23,  5.86s/it]"
     ]
    },
    {
     "name": "stdout",
     "output_type": "stream",
     "text": [
      "Epoch 5, Train Loss: 0.0997, Validation Loss: 0.1978, Validation Accuracy: 0.8703, Precision: 0.8160, recall: 0.6523, F1: 0.6935, AUC: 0.9864, AUPR: 0.9659\n"
     ]
    },
    {
     "name": "stderr",
     "output_type": "stream",
     "text": [
      " 12%|█▏        | 6/50 [00:35<04:21,  5.95s/it]"
     ]
    },
    {
     "name": "stdout",
     "output_type": "stream",
     "text": [
      "Epoch 6, Train Loss: 0.0847, Validation Loss: 0.2206, Validation Accuracy: 0.8703, Precision: 0.8584, recall: 0.8101, F1: 0.8231, AUC: 0.9897, AUPR: 0.9754\n"
     ]
    },
    {
     "name": "stderr",
     "output_type": "stream",
     "text": [
      " 14%|█▍        | 7/50 [00:41<04:15,  5.95s/it]"
     ]
    },
    {
     "name": "stdout",
     "output_type": "stream",
     "text": [
      "Epoch 7, Train Loss: 0.0744, Validation Loss: 0.1903, Validation Accuracy: 0.8947, Precision: 0.8284, recall: 0.7750, F1: 0.7927, AUC: 0.9926, AUPR: 0.9806\n"
     ]
    },
    {
     "name": "stderr",
     "output_type": "stream",
     "text": [
      " 16%|█▌        | 8/50 [00:47<04:07,  5.90s/it]"
     ]
    },
    {
     "name": "stdout",
     "output_type": "stream",
     "text": [
      "Epoch 8, Train Loss: 0.2938, Validation Loss: 2.5022, Validation Accuracy: 0.6833, Precision: 0.4898, recall: 0.4357, F1: 0.4092, AUC: 0.9389, AUPR: 0.8510\n"
     ]
    },
    {
     "name": "stderr",
     "output_type": "stream",
     "text": [
      " 18%|█▊        | 9/50 [00:53<04:00,  5.87s/it]"
     ]
    },
    {
     "name": "stdout",
     "output_type": "stream",
     "text": [
      "Epoch 9, Train Loss: 0.1557, Validation Loss: 0.2042, Validation Accuracy: 0.8882, Precision: 0.8301, recall: 0.8186, F1: 0.8084, AUC: 0.9897, AUPR: 0.9738\n",
      "Epoch 10, Train Loss: 0.0380, Validation Loss: 0.2566, Validation Accuracy: 0.8941, Precision: 0.8147, recall: 0.8118, F1: 0.7999, AUC: 0.9913, AUPR: 0.9777\n"
     ]
    },
    {
     "name": "stderr",
     "output_type": "stream",
     "text": [
      " 20%|██        | 10/50 [00:59<03:57,  5.93s/it]"
     ]
    },
    {
     "name": "stdout",
     "output_type": "stream",
     "text": [
      "Saved checkpoint: checkpoints/cnn_ddi_epoch_10_category.pt\n"
     ]
    },
    {
     "name": "stderr",
     "output_type": "stream",
     "text": [
      " 22%|██▏       | 11/50 [01:05<03:51,  5.93s/it]"
     ]
    },
    {
     "name": "stdout",
     "output_type": "stream",
     "text": [
      "Epoch 11, Train Loss: 0.0407, Validation Loss: 0.2747, Validation Accuracy: 0.8864, Precision: 0.7890, recall: 0.7936, F1: 0.7710, AUC: 0.9883, AUPR: 0.9719\n"
     ]
    },
    {
     "name": "stderr",
     "output_type": "stream",
     "text": [
      " 24%|██▍       | 12/50 [01:10<03:45,  5.94s/it]"
     ]
    },
    {
     "name": "stdout",
     "output_type": "stream",
     "text": [
      "Epoch 12, Train Loss: 0.0569, Validation Loss: 0.3750, Validation Accuracy: 0.8579, Precision: 0.7848, recall: 0.7586, F1: 0.7430, AUC: 0.9853, AUPR: 0.9640\n"
     ]
    },
    {
     "name": "stderr",
     "output_type": "stream",
     "text": [
      " 26%|██▌       | 13/50 [01:17<03:40,  5.97s/it]"
     ]
    },
    {
     "name": "stdout",
     "output_type": "stream",
     "text": [
      "Epoch 13, Train Loss: 0.0559, Validation Loss: 0.2599, Validation Accuracy: 0.8905, Precision: 0.8289, recall: 0.7440, F1: 0.7656, AUC: 0.9893, AUPR: 0.9741\n"
     ]
    },
    {
     "name": "stderr",
     "output_type": "stream",
     "text": [
      " 28%|██▊       | 14/50 [01:22<03:34,  5.96s/it]"
     ]
    },
    {
     "name": "stdout",
     "output_type": "stream",
     "text": [
      "Epoch 14, Train Loss: 0.0403, Validation Loss: 0.3435, Validation Accuracy: 0.8814, Precision: 0.8130, recall: 0.7947, F1: 0.7900, AUC: 0.9884, AUPR: 0.9683\n"
     ]
    },
    {
     "name": "stderr",
     "output_type": "stream",
     "text": [
      " 30%|███       | 15/50 [01:28<03:27,  5.94s/it]"
     ]
    },
    {
     "name": "stdout",
     "output_type": "stream",
     "text": [
      "Epoch 15, Train Loss: 0.0890, Validation Loss: 0.2346, Validation Accuracy: 0.9057, Precision: 0.8184, recall: 0.8222, F1: 0.8091, AUC: 0.9920, AUPR: 0.9804\n"
     ]
    },
    {
     "name": "stderr",
     "output_type": "stream",
     "text": [
      " 32%|███▏      | 16/50 [01:34<03:22,  5.95s/it]"
     ]
    },
    {
     "name": "stdout",
     "output_type": "stream",
     "text": [
      "Epoch 16, Train Loss: 0.0209, Validation Loss: 0.2654, Validation Accuracy: 0.8972, Precision: 0.8371, recall: 0.8124, F1: 0.8139, AUC: 0.9912, AUPR: 0.9764\n"
     ]
    },
    {
     "name": "stderr",
     "output_type": "stream",
     "text": [
      " 34%|███▍      | 17/50 [01:40<03:16,  5.96s/it]"
     ]
    },
    {
     "name": "stdout",
     "output_type": "stream",
     "text": [
      "Epoch 17, Train Loss: 0.1611, Validation Loss: 1.7179, Validation Accuracy: 0.8131, Precision: 0.6650, recall: 0.6841, F1: 0.6402, AUC: 0.9739, AUPR: 0.9306\n"
     ]
    },
    {
     "name": "stderr",
     "output_type": "stream",
     "text": [
      " 36%|███▌      | 18/50 [01:46<03:09,  5.94s/it]"
     ]
    },
    {
     "name": "stdout",
     "output_type": "stream",
     "text": [
      "Epoch 18, Train Loss: 0.0895, Validation Loss: 0.2717, Validation Accuracy: 0.9085, Precision: 0.8260, recall: 0.7890, F1: 0.8001, AUC: 0.9930, AUPR: 0.9821\n"
     ]
    },
    {
     "name": "stderr",
     "output_type": "stream",
     "text": [
      " 38%|███▊      | 19/50 [01:52<03:03,  5.91s/it]"
     ]
    },
    {
     "name": "stdout",
     "output_type": "stream",
     "text": [
      "Epoch 19, Train Loss: 0.0171, Validation Loss: 0.3108, Validation Accuracy: 0.9078, Precision: 0.8440, recall: 0.8017, F1: 0.8134, AUC: 0.9928, AUPR: 0.9819\n",
      "Epoch 20, Train Loss: 0.0319, Validation Loss: 0.4756, Validation Accuracy: 0.8744, Precision: 0.8036, recall: 0.7785, F1: 0.7733, AUC: 0.9887, AUPR: 0.9724\n",
      "Saved checkpoint: checkpoints/cnn_ddi_epoch_20_category.pt\n"
     ]
    },
    {
     "name": "stderr",
     "output_type": "stream",
     "text": [
      " 42%|████▏     | 21/50 [02:04<02:52,  5.95s/it]"
     ]
    },
    {
     "name": "stdout",
     "output_type": "stream",
     "text": [
      "Epoch 21, Train Loss: 0.0490, Validation Loss: 0.3104, Validation Accuracy: 0.9031, Precision: 0.8334, recall: 0.8215, F1: 0.8138, AUC: 0.9919, AUPR: 0.9807\n"
     ]
    },
    {
     "name": "stderr",
     "output_type": "stream",
     "text": [
      " 44%|████▍     | 22/50 [02:10<02:45,  5.92s/it]"
     ]
    },
    {
     "name": "stdout",
     "output_type": "stream",
     "text": [
      "Epoch 22, Train Loss: 0.0279, Validation Loss: 0.3118, Validation Accuracy: 0.8966, Precision: 0.8090, recall: 0.7680, F1: 0.7755, AUC: 0.9919, AUPR: 0.9793\n"
     ]
    },
    {
     "name": "stderr",
     "output_type": "stream",
     "text": [
      " 46%|████▌     | 23/50 [02:16<02:39,  5.92s/it]"
     ]
    },
    {
     "name": "stdout",
     "output_type": "stream",
     "text": [
      "Epoch 23, Train Loss: 0.0510, Validation Loss: 0.3712, Validation Accuracy: 0.8996, Precision: 0.8332, recall: 0.7613, F1: 0.7823, AUC: 0.9902, AUPR: 0.9756\n"
     ]
    },
    {
     "name": "stderr",
     "output_type": "stream",
     "text": [
      " 48%|████▊     | 24/50 [02:22<02:33,  5.91s/it]"
     ]
    },
    {
     "name": "stdout",
     "output_type": "stream",
     "text": [
      "Epoch 24, Train Loss: 0.5703, Validation Loss: 0.7102, Validation Accuracy: 0.8795, Precision: 0.8064, recall: 0.7166, F1: 0.7436, AUC: 0.9879, AUPR: 0.9711\n"
     ]
    },
    {
     "name": "stderr",
     "output_type": "stream",
     "text": [
      " 50%|█████     | 25/50 [02:28<02:28,  5.94s/it]"
     ]
    },
    {
     "name": "stdout",
     "output_type": "stream",
     "text": [
      "Epoch 25, Train Loss: 0.0469, Validation Loss: 0.3822, Validation Accuracy: 0.9109, Precision: 0.8372, recall: 0.7804, F1: 0.7980, AUC: 0.9918, AUPR: 0.9801\n"
     ]
    },
    {
     "name": "stderr",
     "output_type": "stream",
     "text": [
      " 52%|█████▏    | 26/50 [02:34<02:22,  5.93s/it]"
     ]
    },
    {
     "name": "stdout",
     "output_type": "stream",
     "text": [
      "Epoch 26, Train Loss: 0.0179, Validation Loss: 0.5647, Validation Accuracy: 0.8881, Precision: 0.7847, recall: 0.7796, F1: 0.7661, AUC: 0.9902, AUPR: 0.9757\n"
     ]
    },
    {
     "name": "stderr",
     "output_type": "stream",
     "text": [
      " 54%|█████▍    | 27/50 [02:40<02:16,  5.94s/it]"
     ]
    },
    {
     "name": "stdout",
     "output_type": "stream",
     "text": [
      "Epoch 27, Train Loss: 0.0464, Validation Loss: 0.7076, Validation Accuracy: 0.8915, Precision: 0.8388, recall: 0.7222, F1: 0.7611, AUC: 0.9910, AUPR: 0.9768\n"
     ]
    },
    {
     "name": "stderr",
     "output_type": "stream",
     "text": [
      " 56%|█████▌    | 28/50 [02:45<02:09,  5.90s/it]"
     ]
    },
    {
     "name": "stdout",
     "output_type": "stream",
     "text": [
      "Epoch 28, Train Loss: 0.0521, Validation Loss: 0.5234, Validation Accuracy: 0.8990, Precision: 0.8138, recall: 0.7828, F1: 0.7854, AUC: 0.9901, AUPR: 0.9768\n"
     ]
    },
    {
     "name": "stderr",
     "output_type": "stream",
     "text": [
      " 58%|█████▊    | 29/50 [02:51<02:03,  5.87s/it]"
     ]
    },
    {
     "name": "stdout",
     "output_type": "stream",
     "text": [
      "Epoch 29, Train Loss: 0.0519, Validation Loss: 0.4814, Validation Accuracy: 0.8874, Precision: 0.7483, recall: 0.7795, F1: 0.7447, AUC: 0.9902, AUPR: 0.9759\n"
     ]
    },
    {
     "name": "stderr",
     "output_type": "stream",
     "text": [
      " 60%|██████    | 30/50 [02:57<01:58,  5.92s/it]"
     ]
    },
    {
     "name": "stdout",
     "output_type": "stream",
     "text": [
      "Epoch 30, Train Loss: 0.0644, Validation Loss: 1.0786, Validation Accuracy: 0.8423, Precision: 0.7754, recall: 0.6973, F1: 0.7099, AUC: 0.9852, AUPR: 0.9619\n",
      "Saved checkpoint: checkpoints/cnn_ddi_epoch_30_category.pt\n"
     ]
    },
    {
     "name": "stderr",
     "output_type": "stream",
     "text": [
      " 62%|██████▏   | 31/50 [03:03<01:51,  5.85s/it]"
     ]
    },
    {
     "name": "stdout",
     "output_type": "stream",
     "text": [
      "Epoch 31, Train Loss: 0.0531, Validation Loss: 0.4020, Validation Accuracy: 0.9051, Precision: 0.7961, recall: 0.7657, F1: 0.7715, AUC: 0.9923, AUPR: 0.9795\n"
     ]
    },
    {
     "name": "stderr",
     "output_type": "stream",
     "text": [
      " 64%|██████▍   | 32/50 [03:09<01:44,  5.79s/it]"
     ]
    },
    {
     "name": "stdout",
     "output_type": "stream",
     "text": [
      "Epoch 32, Train Loss: 0.0206, Validation Loss: 0.4961, Validation Accuracy: 0.8941, Precision: 0.8106, recall: 0.7707, F1: 0.7768, AUC: 0.9912, AUPR: 0.9771\n"
     ]
    },
    {
     "name": "stderr",
     "output_type": "stream",
     "text": [
      " 66%|██████▌   | 33/50 [03:14<01:38,  5.80s/it]"
     ]
    },
    {
     "name": "stdout",
     "output_type": "stream",
     "text": [
      "Epoch 33, Train Loss: 0.0732, Validation Loss: 0.8191, Validation Accuracy: 0.8764, Precision: 0.7552, recall: 0.7138, F1: 0.7178, AUC: 0.9852, AUPR: 0.9664\n"
     ]
    },
    {
     "name": "stderr",
     "output_type": "stream",
     "text": [
      " 68%|██████▊   | 34/50 [03:20<01:33,  5.82s/it]"
     ]
    },
    {
     "name": "stdout",
     "output_type": "stream",
     "text": [
      "Epoch 34, Train Loss: 0.0407, Validation Loss: 0.3869, Validation Accuracy: 0.9102, Precision: 0.8349, recall: 0.7879, F1: 0.8018, AUC: 0.9919, AUPR: 0.9806\n"
     ]
    },
    {
     "name": "stderr",
     "output_type": "stream",
     "text": [
      " 70%|███████   | 35/50 [03:26<01:27,  5.83s/it]"
     ]
    },
    {
     "name": "stdout",
     "output_type": "stream",
     "text": [
      "Epoch 35, Train Loss: 0.0180, Validation Loss: 0.5400, Validation Accuracy: 0.8876, Precision: 0.8080, recall: 0.7424, F1: 0.7639, AUC: 0.9905, AUPR: 0.9756\n"
     ]
    },
    {
     "name": "stderr",
     "output_type": "stream",
     "text": [
      " 72%|███████▏  | 36/50 [03:32<01:21,  5.83s/it]"
     ]
    },
    {
     "name": "stdout",
     "output_type": "stream",
     "text": [
      "Epoch 36, Train Loss: 0.0928, Validation Loss: 0.4722, Validation Accuracy: 0.9041, Precision: 0.8292, recall: 0.8367, F1: 0.8202, AUC: 0.9918, AUPR: 0.9791\n"
     ]
    },
    {
     "name": "stderr",
     "output_type": "stream",
     "text": [
      " 74%|███████▍  | 37/50 [03:38<01:15,  5.81s/it]"
     ]
    },
    {
     "name": "stdout",
     "output_type": "stream",
     "text": [
      "Epoch 37, Train Loss: 0.0168, Validation Loss: 0.4434, Validation Accuracy: 0.9027, Precision: 0.8111, recall: 0.8374, F1: 0.8142, AUC: 0.9908, AUPR: 0.9780\n"
     ]
    },
    {
     "name": "stderr",
     "output_type": "stream",
     "text": [
      " 76%|███████▌  | 38/50 [03:43<01:09,  5.78s/it]"
     ]
    },
    {
     "name": "stdout",
     "output_type": "stream",
     "text": [
      "Epoch 38, Train Loss: 0.1145, Validation Loss: 0.6108, Validation Accuracy: 0.8849, Precision: 0.8198, recall: 0.7512, F1: 0.7739, AUC: 0.9900, AUPR: 0.9736\n"
     ]
    },
    {
     "name": "stderr",
     "output_type": "stream",
     "text": [
      " 78%|███████▊  | 39/50 [03:49<01:03,  5.76s/it]"
     ]
    },
    {
     "name": "stdout",
     "output_type": "stream",
     "text": [
      "Epoch 39, Train Loss: 0.0194, Validation Loss: 0.4688, Validation Accuracy: 0.9047, Precision: 0.8667, recall: 0.8297, F1: 0.8393, AUC: 0.9923, AUPR: 0.9803\n"
     ]
    },
    {
     "name": "stderr",
     "output_type": "stream",
     "text": [
      " 80%|████████  | 40/50 [03:55<00:58,  5.85s/it]"
     ]
    },
    {
     "name": "stdout",
     "output_type": "stream",
     "text": [
      "Epoch 40, Train Loss: 0.0169, Validation Loss: 0.6490, Validation Accuracy: 0.8974, Precision: 0.8388, recall: 0.7322, F1: 0.7714, AUC: 0.9916, AUPR: 0.9792\n",
      "Saved checkpoint: checkpoints/cnn_ddi_epoch_40_category.pt\n"
     ]
    },
    {
     "name": "stderr",
     "output_type": "stream",
     "text": [
      " 82%|████████▏ | 41/50 [04:01<00:52,  5.80s/it]"
     ]
    },
    {
     "name": "stdout",
     "output_type": "stream",
     "text": [
      "Epoch 41, Train Loss: 0.0986, Validation Loss: 0.5007, Validation Accuracy: 0.9065, Precision: 0.8186, recall: 0.7787, F1: 0.7867, AUC: 0.9914, AUPR: 0.9804\n"
     ]
    },
    {
     "name": "stderr",
     "output_type": "stream",
     "text": [
      " 84%|████████▍ | 42/50 [04:07<00:46,  5.76s/it]"
     ]
    },
    {
     "name": "stdout",
     "output_type": "stream",
     "text": [
      "Epoch 42, Train Loss: 0.0195, Validation Loss: 0.5230, Validation Accuracy: 0.9085, Precision: 0.7763, recall: 0.6913, F1: 0.7213, AUC: 0.9917, AUPR: 0.9782\n"
     ]
    },
    {
     "name": "stderr",
     "output_type": "stream",
     "text": [
      " 86%|████████▌ | 43/50 [04:12<00:40,  5.77s/it]"
     ]
    },
    {
     "name": "stdout",
     "output_type": "stream",
     "text": [
      "Epoch 43, Train Loss: 0.1441, Validation Loss: 0.7115, Validation Accuracy: 0.9008, Precision: 0.8203, recall: 0.7989, F1: 0.7946, AUC: 0.9904, AUPR: 0.9769\n"
     ]
    },
    {
     "name": "stderr",
     "output_type": "stream",
     "text": [
      " 88%|████████▊ | 44/50 [04:18<00:34,  5.75s/it]"
     ]
    },
    {
     "name": "stdout",
     "output_type": "stream",
     "text": [
      "Epoch 44, Train Loss: 0.0259, Validation Loss: 0.6231, Validation Accuracy: 0.9076, Precision: 0.8165, recall: 0.7625, F1: 0.7801, AUC: 0.9918, AUPR: 0.9792\n"
     ]
    },
    {
     "name": "stderr",
     "output_type": "stream",
     "text": [
      " 90%|█████████ | 45/50 [04:24<00:28,  5.74s/it]"
     ]
    },
    {
     "name": "stdout",
     "output_type": "stream",
     "text": [
      "Epoch 45, Train Loss: 0.0167, Validation Loss: 0.6755, Validation Accuracy: 0.8984, Precision: 0.7759, recall: 0.8066, F1: 0.7795, AUC: 0.9910, AUPR: 0.9789\n"
     ]
    },
    {
     "name": "stderr",
     "output_type": "stream",
     "text": [
      " 92%|█████████▏| 46/50 [04:29<00:22,  5.70s/it]"
     ]
    },
    {
     "name": "stdout",
     "output_type": "stream",
     "text": [
      "Epoch 46, Train Loss: 0.1132, Validation Loss: 0.6674, Validation Accuracy: 0.8984, Precision: 0.8543, recall: 0.7331, F1: 0.7767, AUC: 0.9918, AUPR: 0.9776\n"
     ]
    },
    {
     "name": "stderr",
     "output_type": "stream",
     "text": [
      " 94%|█████████▍| 47/50 [04:35<00:17,  5.67s/it]"
     ]
    },
    {
     "name": "stdout",
     "output_type": "stream",
     "text": [
      "Epoch 47, Train Loss: 0.0268, Validation Loss: 0.6018, Validation Accuracy: 0.9153, Precision: 0.8429, recall: 0.7681, F1: 0.7902, AUC: 0.9920, AUPR: 0.9808\n"
     ]
    },
    {
     "name": "stderr",
     "output_type": "stream",
     "text": [
      " 96%|█████████▌| 48/50 [04:41<00:11,  5.66s/it]"
     ]
    },
    {
     "name": "stdout",
     "output_type": "stream",
     "text": [
      "Epoch 48, Train Loss: 0.0586, Validation Loss: 1.2780, Validation Accuracy: 0.8725, Precision: 0.7851, recall: 0.7859, F1: 0.7752, AUC: 0.9888, AUPR: 0.9718\n"
     ]
    },
    {
     "name": "stderr",
     "output_type": "stream",
     "text": [
      " 98%|█████████▊| 49/50 [04:46<00:05,  5.67s/it]"
     ]
    },
    {
     "name": "stdout",
     "output_type": "stream",
     "text": [
      "Epoch 49, Train Loss: 0.0850, Validation Loss: 0.6998, Validation Accuracy: 0.9050, Precision: 0.8460, recall: 0.8039, F1: 0.8087, AUC: 0.9913, AUPR: 0.9777\n"
     ]
    },
    {
     "name": "stderr",
     "output_type": "stream",
     "text": [
      "100%|██████████| 50/50 [04:52<00:00,  5.85s/it]"
     ]
    },
    {
     "name": "stdout",
     "output_type": "stream",
     "text": [
      "Epoch 50, Train Loss: 0.0219, Validation Loss: 0.7142, Validation Accuracy: 0.9088, Precision: 0.8126, recall: 0.8020, F1: 0.7937, AUC: 0.9923, AUPR: 0.9814\n",
      "Saved checkpoint: checkpoints/cnn_ddi_epoch_50_category.pt\n",
      "Feature combination: ('pathway', 'target')\n"
     ]
    },
    {
     "name": "stderr",
     "output_type": "stream",
     "text": [
      "\n",
      "/tmp/ipykernel_83239/3982585584.py:3: UserWarning: To copy construct from a tensor, it is recommended to use sourceTensor.clone().detach() or sourceTensor.clone().detach().requires_grad_(True), rather than torch.tensor(sourceTensor).\n",
      "  self.features = torch.tensor(features, dtype=torch.float32)\n",
      "  2%|▏         | 1/50 [00:10<08:55, 10.93s/it]"
     ]
    },
    {
     "name": "stdout",
     "output_type": "stream",
     "text": [
      "Epoch 1, Train Loss: 0.8458, Validation Loss: 0.4240, Validation Accuracy: 0.7573, Precision: 0.6817, recall: 0.6012, F1: 0.5961, AUC: 0.9492, AUPR: 0.8765\n"
     ]
    },
    {
     "name": "stderr",
     "output_type": "stream",
     "text": [
      "  4%|▍         | 2/50 [00:21<08:39, 10.83s/it]"
     ]
    },
    {
     "name": "stdout",
     "output_type": "stream",
     "text": [
      "Epoch 2, Train Loss: 0.3509, Validation Loss: 0.3377, Validation Accuracy: 0.7824, Precision: 0.7242, recall: 0.5929, F1: 0.6196, AUC: 0.9649, AUPR: 0.9164\n"
     ]
    },
    {
     "name": "stderr",
     "output_type": "stream",
     "text": [
      "  6%|▌         | 3/50 [00:32<08:26, 10.77s/it]"
     ]
    },
    {
     "name": "stdout",
     "output_type": "stream",
     "text": [
      "Epoch 3, Train Loss: 0.2852, Validation Loss: 0.3702, Validation Accuracy: 0.7747, Precision: 0.6914, recall: 0.6160, F1: 0.6176, AUC: 0.9680, AUPR: 0.9174\n"
     ]
    },
    {
     "name": "stderr",
     "output_type": "stream",
     "text": [
      "  8%|▊         | 4/50 [00:43<08:13, 10.72s/it]"
     ]
    },
    {
     "name": "stdout",
     "output_type": "stream",
     "text": [
      "Epoch 4, Train Loss: 0.2447, Validation Loss: 0.2932, Validation Accuracy: 0.8139, Precision: 0.7533, recall: 0.7679, F1: 0.7330, AUC: 0.9741, AUPR: 0.9343\n"
     ]
    },
    {
     "name": "stderr",
     "output_type": "stream",
     "text": [
      " 10%|█         | 5/50 [00:53<08:00, 10.67s/it]"
     ]
    },
    {
     "name": "stdout",
     "output_type": "stream",
     "text": [
      "Epoch 5, Train Loss: 0.2184, Validation Loss: 0.3011, Validation Accuracy: 0.8054, Precision: 0.7721, recall: 0.6803, F1: 0.6948, AUC: 0.9711, AUPR: 0.9315\n"
     ]
    },
    {
     "name": "stderr",
     "output_type": "stream",
     "text": [
      " 12%|█▏        | 6/50 [01:04<07:47, 10.63s/it]"
     ]
    },
    {
     "name": "stdout",
     "output_type": "stream",
     "text": [
      "Epoch 6, Train Loss: 0.3187, Validation Loss: 0.2926, Validation Accuracy: 0.8288, Precision: 0.7837, recall: 0.7099, F1: 0.7242, AUC: 0.9773, AUPR: 0.9437\n"
     ]
    },
    {
     "name": "stderr",
     "output_type": "stream",
     "text": [
      " 14%|█▍        | 7/50 [01:14<07:35, 10.60s/it]"
     ]
    },
    {
     "name": "stdout",
     "output_type": "stream",
     "text": [
      "Epoch 7, Train Loss: 0.1742, Validation Loss: 0.2816, Validation Accuracy: 0.8277, Precision: 0.7968, recall: 0.6768, F1: 0.7021, AUC: 0.9775, AUPR: 0.9459\n"
     ]
    },
    {
     "name": "stderr",
     "output_type": "stream",
     "text": [
      " 16%|█▌        | 8/50 [01:25<07:28, 10.67s/it]"
     ]
    },
    {
     "name": "stdout",
     "output_type": "stream",
     "text": [
      "Epoch 8, Train Loss: 0.1630, Validation Loss: 0.3185, Validation Accuracy: 0.8112, Precision: 0.7256, recall: 0.7520, F1: 0.7198, AUC: 0.9742, AUPR: 0.9360\n"
     ]
    },
    {
     "name": "stderr",
     "output_type": "stream",
     "text": [
      " 18%|█▊        | 9/50 [01:36<07:16, 10.64s/it]"
     ]
    },
    {
     "name": "stdout",
     "output_type": "stream",
     "text": [
      "Epoch 9, Train Loss: 0.1598, Validation Loss: 0.2932, Validation Accuracy: 0.8244, Precision: 0.7216, recall: 0.7317, F1: 0.7105, AUC: 0.9783, AUPR: 0.9457\n",
      "Epoch 10, Train Loss: 0.1586, Validation Loss: 0.2872, Validation Accuracy: 0.8288, Precision: 0.7731, recall: 0.6914, F1: 0.7106, AUC: 0.9819, AUPR: 0.9547\n"
     ]
    },
    {
     "name": "stderr",
     "output_type": "stream",
     "text": [
      " 20%|██        | 10/50 [01:47<07:11, 10.79s/it]"
     ]
    },
    {
     "name": "stdout",
     "output_type": "stream",
     "text": [
      "Saved checkpoint: checkpoints/cnn_ddi_epoch_10_pathway_target.pt\n"
     ]
    },
    {
     "name": "stderr",
     "output_type": "stream",
     "text": [
      " 22%|██▏       | 11/50 [01:57<06:58, 10.72s/it]"
     ]
    },
    {
     "name": "stdout",
     "output_type": "stream",
     "text": [
      "Epoch 11, Train Loss: 0.1653, Validation Loss: 0.3076, Validation Accuracy: 0.8300, Precision: 0.7509, recall: 0.7087, F1: 0.7102, AUC: 0.9803, AUPR: 0.9506\n"
     ]
    },
    {
     "name": "stderr",
     "output_type": "stream",
     "text": [
      " 24%|██▍       | 12/50 [02:08<06:45, 10.67s/it]"
     ]
    },
    {
     "name": "stdout",
     "output_type": "stream",
     "text": [
      "Epoch 12, Train Loss: 0.1532, Validation Loss: 0.3184, Validation Accuracy: 0.8272, Precision: 0.7803, recall: 0.7018, F1: 0.7164, AUC: 0.9805, AUPR: 0.9502\n"
     ]
    },
    {
     "name": "stderr",
     "output_type": "stream",
     "text": [
      " 26%|██▌       | 13/50 [02:19<06:37, 10.73s/it]"
     ]
    },
    {
     "name": "stdout",
     "output_type": "stream",
     "text": [
      "Epoch 13, Train Loss: 0.1514, Validation Loss: 0.3206, Validation Accuracy: 0.8249, Precision: 0.7642, recall: 0.7231, F1: 0.7281, AUC: 0.9801, AUPR: 0.9489\n"
     ]
    },
    {
     "name": "stderr",
     "output_type": "stream",
     "text": [
      " 28%|██▊       | 14/50 [02:29<06:26, 10.73s/it]"
     ]
    },
    {
     "name": "stdout",
     "output_type": "stream",
     "text": [
      "Epoch 14, Train Loss: 0.1422, Validation Loss: 0.3046, Validation Accuracy: 0.8293, Precision: 0.7772, recall: 0.7034, F1: 0.7179, AUC: 0.9802, AUPR: 0.9505\n"
     ]
    },
    {
     "name": "stderr",
     "output_type": "stream",
     "text": [
      " 30%|███       | 15/50 [02:40<06:16, 10.75s/it]"
     ]
    },
    {
     "name": "stdout",
     "output_type": "stream",
     "text": [
      "Epoch 15, Train Loss: 0.1486, Validation Loss: 0.3255, Validation Accuracy: 0.8183, Precision: 0.6955, recall: 0.6760, F1: 0.6695, AUC: 0.9769, AUPR: 0.9431\n"
     ]
    },
    {
     "name": "stderr",
     "output_type": "stream",
     "text": [
      " 32%|███▏      | 16/50 [02:51<06:09, 10.86s/it]"
     ]
    },
    {
     "name": "stdout",
     "output_type": "stream",
     "text": [
      "Epoch 16, Train Loss: 0.1359, Validation Loss: 0.4108, Validation Accuracy: 0.8170, Precision: 0.7080, recall: 0.6521, F1: 0.6513, AUC: 0.9759, AUPR: 0.9364\n"
     ]
    },
    {
     "name": "stderr",
     "output_type": "stream",
     "text": [
      " 34%|███▍      | 17/50 [03:02<06:00, 10.92s/it]"
     ]
    },
    {
     "name": "stdout",
     "output_type": "stream",
     "text": [
      "Epoch 17, Train Loss: 0.1242, Validation Loss: 0.3244, Validation Accuracy: 0.8218, Precision: 0.7180, recall: 0.6737, F1: 0.6808, AUC: 0.9806, AUPR: 0.9502\n"
     ]
    },
    {
     "name": "stderr",
     "output_type": "stream",
     "text": [
      " 36%|███▌      | 18/50 [03:13<05:48, 10.90s/it]"
     ]
    },
    {
     "name": "stdout",
     "output_type": "stream",
     "text": [
      "Epoch 18, Train Loss: 0.1709, Validation Loss: 6.5308, Validation Accuracy: 0.3313, Precision: 0.4492, recall: 0.4564, F1: 0.3249, AUC: 0.8908, AUPR: 0.7419\n"
     ]
    },
    {
     "name": "stderr",
     "output_type": "stream",
     "text": [
      " 38%|███▊      | 19/50 [03:24<05:38, 10.92s/it]"
     ]
    },
    {
     "name": "stdout",
     "output_type": "stream",
     "text": [
      "Epoch 19, Train Loss: 2.1680, Validation Loss: 0.3747, Validation Accuracy: 0.8203, Precision: 0.6717, recall: 0.7657, F1: 0.7017, AUC: 0.9778, AUPR: 0.9449\n",
      "Epoch 20, Train Loss: 0.1329, Validation Loss: 0.3333, Validation Accuracy: 0.8173, Precision: 0.7727, recall: 0.7255, F1: 0.7095, AUC: 0.9783, AUPR: 0.9439\n"
     ]
    },
    {
     "name": "stderr",
     "output_type": "stream",
     "text": [
      " 40%|████      | 20/50 [03:36<05:31, 11.06s/it]"
     ]
    },
    {
     "name": "stdout",
     "output_type": "stream",
     "text": [
      "Saved checkpoint: checkpoints/cnn_ddi_epoch_20_pathway_target.pt\n"
     ]
    },
    {
     "name": "stderr",
     "output_type": "stream",
     "text": [
      " 42%|████▏     | 21/50 [03:47<05:20, 11.07s/it]"
     ]
    },
    {
     "name": "stdout",
     "output_type": "stream",
     "text": [
      "Epoch 21, Train Loss: 0.1239, Validation Loss: 0.4642, Validation Accuracy: 0.8218, Precision: 0.7244, recall: 0.7755, F1: 0.7316, AUC: 0.9796, AUPR: 0.9483\n"
     ]
    },
    {
     "name": "stderr",
     "output_type": "stream",
     "text": [
      " 44%|████▍     | 22/50 [03:58<05:09, 11.07s/it]"
     ]
    },
    {
     "name": "stdout",
     "output_type": "stream",
     "text": [
      "Epoch 22, Train Loss: 0.1325, Validation Loss: 0.5259, Validation Accuracy: 0.7990, Precision: 0.6821, recall: 0.7891, F1: 0.6864, AUC: 0.9730, AUPR: 0.9319\n"
     ]
    },
    {
     "name": "stderr",
     "output_type": "stream",
     "text": [
      " 46%|████▌     | 23/50 [04:09<04:57, 11.03s/it]"
     ]
    },
    {
     "name": "stdout",
     "output_type": "stream",
     "text": [
      "Epoch 23, Train Loss: 0.1528, Validation Loss: 0.3581, Validation Accuracy: 0.8273, Precision: 0.7718, recall: 0.7107, F1: 0.7197, AUC: 0.9807, AUPR: 0.9476\n"
     ]
    },
    {
     "name": "stderr",
     "output_type": "stream",
     "text": [
      " 48%|████▊     | 24/50 [04:20<04:46, 11.02s/it]"
     ]
    },
    {
     "name": "stdout",
     "output_type": "stream",
     "text": [
      "Epoch 24, Train Loss: 0.2383, Validation Loss: 0.3241, Validation Accuracy: 0.8248, Precision: 0.7417, recall: 0.7099, F1: 0.7037, AUC: 0.9812, AUPR: 0.9501\n"
     ]
    },
    {
     "name": "stderr",
     "output_type": "stream",
     "text": [
      " 50%|█████     | 25/50 [04:30<04:31, 10.88s/it]"
     ]
    },
    {
     "name": "stdout",
     "output_type": "stream",
     "text": [
      "Epoch 25, Train Loss: 0.1082, Validation Loss: 0.3339, Validation Accuracy: 0.8354, Precision: 0.7387, recall: 0.7247, F1: 0.7129, AUC: 0.9832, AUPR: 0.9560\n"
     ]
    },
    {
     "name": "stderr",
     "output_type": "stream",
     "text": [
      " 52%|█████▏    | 26/50 [04:41<04:19, 10.80s/it]"
     ]
    },
    {
     "name": "stdout",
     "output_type": "stream",
     "text": [
      "Epoch 26, Train Loss: 0.1124, Validation Loss: 0.3919, Validation Accuracy: 0.7953, Precision: 0.7172, recall: 0.7476, F1: 0.7038, AUC: 0.9755, AUPR: 0.9381\n"
     ]
    },
    {
     "name": "stderr",
     "output_type": "stream",
     "text": [
      " 54%|█████▍    | 27/50 [04:51<04:06, 10.72s/it]"
     ]
    },
    {
     "name": "stdout",
     "output_type": "stream",
     "text": [
      "Epoch 27, Train Loss: 0.1469, Validation Loss: 0.3440, Validation Accuracy: 0.8256, Precision: 0.7527, recall: 0.6816, F1: 0.7016, AUC: 0.9818, AUPR: 0.9553\n"
     ]
    },
    {
     "name": "stderr",
     "output_type": "stream",
     "text": [
      " 56%|█████▌    | 28/50 [05:02<03:55, 10.71s/it]"
     ]
    },
    {
     "name": "stdout",
     "output_type": "stream",
     "text": [
      "Epoch 28, Train Loss: 0.1310, Validation Loss: 0.3741, Validation Accuracy: 0.8248, Precision: 0.7180, recall: 0.6817, F1: 0.6850, AUC: 0.9817, AUPR: 0.9537\n"
     ]
    },
    {
     "name": "stderr",
     "output_type": "stream",
     "text": [
      " 58%|█████▊    | 29/50 [05:13<03:44, 10.69s/it]"
     ]
    },
    {
     "name": "stdout",
     "output_type": "stream",
     "text": [
      "Epoch 29, Train Loss: 0.1283, Validation Loss: 0.3369, Validation Accuracy: 0.8358, Precision: 0.7266, recall: 0.6966, F1: 0.7015, AUC: 0.9811, AUPR: 0.9498\n",
      "Epoch 30, Train Loss: 0.1061, Validation Loss: 0.3588, Validation Accuracy: 0.8280, Precision: 0.7223, recall: 0.6495, F1: 0.6622, AUC: 0.9815, AUPR: 0.9519\n"
     ]
    },
    {
     "name": "stderr",
     "output_type": "stream",
     "text": [
      " 60%|██████    | 30/50 [05:24<03:36, 10.82s/it]"
     ]
    },
    {
     "name": "stdout",
     "output_type": "stream",
     "text": [
      "Saved checkpoint: checkpoints/cnn_ddi_epoch_30_pathway_target.pt\n"
     ]
    },
    {
     "name": "stderr",
     "output_type": "stream",
     "text": [
      " 62%|██████▏   | 31/50 [05:35<03:24, 10.77s/it]"
     ]
    },
    {
     "name": "stdout",
     "output_type": "stream",
     "text": [
      "Epoch 31, Train Loss: 0.7084, Validation Loss: 0.3646, Validation Accuracy: 0.8205, Precision: 0.7112, recall: 0.7234, F1: 0.7059, AUC: 0.9810, AUPR: 0.9540\n"
     ]
    },
    {
     "name": "stderr",
     "output_type": "stream",
     "text": [
      " 64%|██████▍   | 32/50 [05:45<03:12, 10.71s/it]"
     ]
    },
    {
     "name": "stdout",
     "output_type": "stream",
     "text": [
      "Epoch 32, Train Loss: 0.0946, Validation Loss: 0.3237, Validation Accuracy: 0.8419, Precision: 0.7575, recall: 0.6880, F1: 0.7076, AUC: 0.9828, AUPR: 0.9572\n"
     ]
    },
    {
     "name": "stderr",
     "output_type": "stream",
     "text": [
      " 66%|██████▌   | 33/50 [05:56<03:01, 10.69s/it]"
     ]
    },
    {
     "name": "stdout",
     "output_type": "stream",
     "text": [
      "Epoch 33, Train Loss: 0.1086, Validation Loss: 0.3861, Validation Accuracy: 0.8222, Precision: 0.7644, recall: 0.7054, F1: 0.7179, AUC: 0.9812, AUPR: 0.9515\n"
     ]
    },
    {
     "name": "stderr",
     "output_type": "stream",
     "text": [
      " 68%|██████▊   | 34/50 [06:06<02:50, 10.66s/it]"
     ]
    },
    {
     "name": "stdout",
     "output_type": "stream",
     "text": [
      "Epoch 34, Train Loss: 0.0944, Validation Loss: 0.4138, Validation Accuracy: 0.8177, Precision: 0.7240, recall: 0.6733, F1: 0.6773, AUC: 0.9810, AUPR: 0.9546\n"
     ]
    },
    {
     "name": "stderr",
     "output_type": "stream",
     "text": [
      " 70%|███████   | 35/50 [06:17<02:39, 10.61s/it]"
     ]
    },
    {
     "name": "stdout",
     "output_type": "stream",
     "text": [
      "Epoch 35, Train Loss: 0.1350, Validation Loss: 0.5822, Validation Accuracy: 0.8139, Precision: 0.6928, recall: 0.6816, F1: 0.6617, AUC: 0.9777, AUPR: 0.9422\n"
     ]
    },
    {
     "name": "stderr",
     "output_type": "stream",
     "text": [
      " 72%|███████▏  | 36/50 [06:27<02:28, 10.59s/it]"
     ]
    },
    {
     "name": "stdout",
     "output_type": "stream",
     "text": [
      "Epoch 36, Train Loss: 0.1152, Validation Loss: 0.3125, Validation Accuracy: 0.8272, Precision: 0.7043, recall: 0.6565, F1: 0.6664, AUC: 0.9801, AUPR: 0.9490\n"
     ]
    },
    {
     "name": "stderr",
     "output_type": "stream",
     "text": [
      " 74%|███████▍  | 37/50 [06:38<02:17, 10.60s/it]"
     ]
    },
    {
     "name": "stdout",
     "output_type": "stream",
     "text": [
      "Epoch 37, Train Loss: 0.0982, Validation Loss: 0.3751, Validation Accuracy: 0.8186, Precision: 0.6518, recall: 0.7095, F1: 0.6652, AUC: 0.9800, AUPR: 0.9502\n"
     ]
    },
    {
     "name": "stderr",
     "output_type": "stream",
     "text": [
      " 76%|███████▌  | 38/50 [06:49<02:07, 10.64s/it]"
     ]
    },
    {
     "name": "stdout",
     "output_type": "stream",
     "text": [
      "Epoch 38, Train Loss: 0.1289, Validation Loss: 0.4534, Validation Accuracy: 0.8189, Precision: 0.7060, recall: 0.6472, F1: 0.6649, AUC: 0.9761, AUPR: 0.9312\n"
     ]
    },
    {
     "name": "stderr",
     "output_type": "stream",
     "text": [
      " 78%|███████▊  | 39/50 [07:00<01:57, 10.68s/it]"
     ]
    },
    {
     "name": "stdout",
     "output_type": "stream",
     "text": [
      "Epoch 39, Train Loss: 0.1066, Validation Loss: 0.3894, Validation Accuracy: 0.8371, Precision: 0.7361, recall: 0.6442, F1: 0.6735, AUC: 0.9819, AUPR: 0.9483\n",
      "Epoch 40, Train Loss: 0.1000, Validation Loss: 0.4678, Validation Accuracy: 0.8061, Precision: 0.6833, recall: 0.6040, F1: 0.6205, AUC: 0.9773, AUPR: 0.9425\n"
     ]
    },
    {
     "name": "stderr",
     "output_type": "stream",
     "text": [
      " 80%|████████  | 40/50 [07:11<01:48, 10.83s/it]"
     ]
    },
    {
     "name": "stdout",
     "output_type": "stream",
     "text": [
      "Saved checkpoint: checkpoints/cnn_ddi_epoch_40_pathway_target.pt\n"
     ]
    },
    {
     "name": "stderr",
     "output_type": "stream",
     "text": [
      " 82%|████████▏ | 41/50 [07:21<01:37, 10.78s/it]"
     ]
    },
    {
     "name": "stdout",
     "output_type": "stream",
     "text": [
      "Epoch 41, Train Loss: 0.2763, Validation Loss: 0.3154, Validation Accuracy: 0.8374, Precision: 0.7354, recall: 0.6957, F1: 0.7042, AUC: 0.9835, AUPR: 0.9588\n"
     ]
    },
    {
     "name": "stderr",
     "output_type": "stream",
     "text": [
      " 84%|████████▍ | 42/50 [07:32<01:25, 10.72s/it]"
     ]
    },
    {
     "name": "stdout",
     "output_type": "stream",
     "text": [
      "Epoch 42, Train Loss: 0.0789, Validation Loss: 0.3252, Validation Accuracy: 0.8395, Precision: 0.7613, recall: 0.7037, F1: 0.7218, AUC: 0.9841, AUPR: 0.9602\n"
     ]
    },
    {
     "name": "stderr",
     "output_type": "stream",
     "text": [
      " 86%|████████▌ | 43/50 [07:43<01:14, 10.69s/it]"
     ]
    },
    {
     "name": "stdout",
     "output_type": "stream",
     "text": [
      "Epoch 43, Train Loss: 0.0828, Validation Loss: 0.3548, Validation Accuracy: 0.8321, Precision: 0.7449, recall: 0.7375, F1: 0.7248, AUC: 0.9810, AUPR: 0.9521\n"
     ]
    },
    {
     "name": "stderr",
     "output_type": "stream",
     "text": [
      " 88%|████████▊ | 44/50 [07:53<01:03, 10.66s/it]"
     ]
    },
    {
     "name": "stdout",
     "output_type": "stream",
     "text": [
      "Epoch 44, Train Loss: 0.0941, Validation Loss: 0.3472, Validation Accuracy: 0.8334, Precision: 0.7403, recall: 0.7460, F1: 0.7324, AUC: 0.9826, AUPR: 0.9553\n"
     ]
    },
    {
     "name": "stderr",
     "output_type": "stream",
     "text": [
      " 90%|█████████ | 45/50 [08:04<00:53, 10.65s/it]"
     ]
    },
    {
     "name": "stdout",
     "output_type": "stream",
     "text": [
      "Epoch 45, Train Loss: 0.1221, Validation Loss: 0.3673, Validation Accuracy: 0.8272, Precision: 0.7045, recall: 0.7374, F1: 0.7105, AUC: 0.9821, AUPR: 0.9564\n"
     ]
    },
    {
     "name": "stderr",
     "output_type": "stream",
     "text": [
      " 92%|█████████▏| 46/50 [08:14<00:42, 10.62s/it]"
     ]
    },
    {
     "name": "stdout",
     "output_type": "stream",
     "text": [
      "Epoch 46, Train Loss: 0.1040, Validation Loss: 0.6495, Validation Accuracy: 0.8134, Precision: 0.6836, recall: 0.6506, F1: 0.6355, AUC: 0.9768, AUPR: 0.9419\n"
     ]
    },
    {
     "name": "stderr",
     "output_type": "stream",
     "text": [
      " 94%|█████████▍| 47/50 [08:25<00:32, 10.73s/it]"
     ]
    },
    {
     "name": "stdout",
     "output_type": "stream",
     "text": [
      "Epoch 47, Train Loss: 0.1403, Validation Loss: 0.3664, Validation Accuracy: 0.8330, Precision: 0.7713, recall: 0.6534, F1: 0.6878, AUC: 0.9827, AUPR: 0.9511\n"
     ]
    },
    {
     "name": "stderr",
     "output_type": "stream",
     "text": [
      " 96%|█████████▌| 48/50 [08:36<00:21, 10.70s/it]"
     ]
    },
    {
     "name": "stdout",
     "output_type": "stream",
     "text": [
      "Epoch 48, Train Loss: 0.0829, Validation Loss: 0.4076, Validation Accuracy: 0.8352, Precision: 0.7194, recall: 0.7279, F1: 0.7089, AUC: 0.9823, AUPR: 0.9557\n"
     ]
    },
    {
     "name": "stderr",
     "output_type": "stream",
     "text": [
      " 98%|█████████▊| 49/50 [08:47<00:10, 10.67s/it]"
     ]
    },
    {
     "name": "stdout",
     "output_type": "stream",
     "text": [
      "Epoch 49, Train Loss: 1.7344, Validation Loss: 1.4612, Validation Accuracy: 0.7967, Precision: 0.6174, recall: 0.5480, F1: 0.5384, AUC: 0.9722, AUPR: 0.9310\n",
      "Epoch 50, Train Loss: 0.1775, Validation Loss: 0.5105, Validation Accuracy: 0.8242, Precision: 0.7203, recall: 0.6843, F1: 0.6915, AUC: 0.9804, AUPR: 0.9529\n"
     ]
    },
    {
     "name": "stderr",
     "output_type": "stream",
     "text": [
      "100%|██████████| 50/50 [08:58<00:00, 10.76s/it]"
     ]
    },
    {
     "name": "stdout",
     "output_type": "stream",
     "text": [
      "Saved checkpoint: checkpoints/cnn_ddi_epoch_50_pathway_target.pt\n",
      "Feature combination: ('pathway', 'enzyme')\n"
     ]
    },
    {
     "name": "stderr",
     "output_type": "stream",
     "text": [
      "\n",
      "/tmp/ipykernel_83239/3982585584.py:3: UserWarning: To copy construct from a tensor, it is recommended to use sourceTensor.clone().detach() or sourceTensor.clone().detach().requires_grad_(True), rather than torch.tensor(sourceTensor).\n",
      "  self.features = torch.tensor(features, dtype=torch.float32)\n",
      "  2%|▏         | 1/50 [00:10<08:37, 10.57s/it]"
     ]
    },
    {
     "name": "stdout",
     "output_type": "stream",
     "text": [
      "Epoch 1, Train Loss: 0.8579, Validation Loss: 0.4174, Validation Accuracy: 0.7652, Precision: 0.6209, recall: 0.4216, F1: 0.4491, AUC: 0.9562, AUPR: 0.8966\n"
     ]
    },
    {
     "name": "stderr",
     "output_type": "stream",
     "text": [
      "  4%|▍         | 2/50 [00:21<08:27, 10.57s/it]"
     ]
    },
    {
     "name": "stdout",
     "output_type": "stream",
     "text": [
      "Epoch 2, Train Loss: 0.3282, Validation Loss: 0.3351, Validation Accuracy: 0.7922, Precision: 0.7248, recall: 0.6170, F1: 0.6269, AUC: 0.9667, AUPR: 0.9192\n"
     ]
    },
    {
     "name": "stderr",
     "output_type": "stream",
     "text": [
      "  6%|▌         | 3/50 [00:31<08:17, 10.59s/it]"
     ]
    },
    {
     "name": "stdout",
     "output_type": "stream",
     "text": [
      "Epoch 3, Train Loss: 0.2491, Validation Loss: 0.2973, Validation Accuracy: 0.8127, Precision: 0.7267, recall: 0.5968, F1: 0.6192, AUC: 0.9711, AUPR: 0.9272\n"
     ]
    },
    {
     "name": "stderr",
     "output_type": "stream",
     "text": [
      "  8%|▊         | 4/50 [00:42<08:08, 10.63s/it]"
     ]
    },
    {
     "name": "stdout",
     "output_type": "stream",
     "text": [
      "Epoch 4, Train Loss: 0.2086, Validation Loss: 0.3340, Validation Accuracy: 0.7987, Precision: 0.6735, recall: 0.6393, F1: 0.6218, AUC: 0.9688, AUPR: 0.9230\n"
     ]
    },
    {
     "name": "stderr",
     "output_type": "stream",
     "text": [
      " 10%|█         | 5/50 [00:52<07:56, 10.60s/it]"
     ]
    },
    {
     "name": "stdout",
     "output_type": "stream",
     "text": [
      "Epoch 5, Train Loss: 0.1877, Validation Loss: 0.2826, Validation Accuracy: 0.8304, Precision: 0.7766, recall: 0.7744, F1: 0.7596, AUC: 0.9748, AUPR: 0.9376\n"
     ]
    },
    {
     "name": "stderr",
     "output_type": "stream",
     "text": [
      " 12%|█▏        | 6/50 [01:03<07:41, 10.48s/it]"
     ]
    },
    {
     "name": "stdout",
     "output_type": "stream",
     "text": [
      "Epoch 6, Train Loss: 0.1606, Validation Loss: 0.3085, Validation Accuracy: 0.8273, Precision: 0.7552, recall: 0.7259, F1: 0.7113, AUC: 0.9748, AUPR: 0.9337\n"
     ]
    },
    {
     "name": "stderr",
     "output_type": "stream",
     "text": [
      " 14%|█▍        | 7/50 [01:13<07:27, 10.40s/it]"
     ]
    },
    {
     "name": "stdout",
     "output_type": "stream",
     "text": [
      "Epoch 7, Train Loss: 0.1518, Validation Loss: 0.2869, Validation Accuracy: 0.8257, Precision: 0.7911, recall: 0.6293, F1: 0.6738, AUC: 0.9787, AUPR: 0.9479\n"
     ]
    },
    {
     "name": "stderr",
     "output_type": "stream",
     "text": [
      " 16%|█▌        | 8/50 [01:23<07:14, 10.35s/it]"
     ]
    },
    {
     "name": "stdout",
     "output_type": "stream",
     "text": [
      "Epoch 8, Train Loss: 0.1356, Validation Loss: 0.2951, Validation Accuracy: 0.8378, Precision: 0.7544, recall: 0.5736, F1: 0.6306, AUC: 0.9800, AUPR: 0.9486\n"
     ]
    },
    {
     "name": "stderr",
     "output_type": "stream",
     "text": [
      " 18%|█▊        | 9/50 [01:33<07:02, 10.31s/it]"
     ]
    },
    {
     "name": "stdout",
     "output_type": "stream",
     "text": [
      "Epoch 9, Train Loss: 0.1284, Validation Loss: 0.2602, Validation Accuracy: 0.8599, Precision: 0.7642, recall: 0.6949, F1: 0.6996, AUC: 0.9802, AUPR: 0.9494\n",
      "Epoch 10, Train Loss: 0.1198, Validation Loss: 0.2625, Validation Accuracy: 0.8594, Precision: 0.7481, recall: 0.7095, F1: 0.7129, AUC: 0.9832, AUPR: 0.9578\n"
     ]
    },
    {
     "name": "stderr",
     "output_type": "stream",
     "text": [
      " 20%|██        | 10/50 [01:44<06:56, 10.42s/it]"
     ]
    },
    {
     "name": "stdout",
     "output_type": "stream",
     "text": [
      "Saved checkpoint: checkpoints/cnn_ddi_epoch_10_pathway_enzyme.pt\n"
     ]
    },
    {
     "name": "stderr",
     "output_type": "stream",
     "text": [
      " 22%|██▏       | 11/50 [01:54<06:44, 10.38s/it]"
     ]
    },
    {
     "name": "stdout",
     "output_type": "stream",
     "text": [
      "Epoch 11, Train Loss: 0.1116, Validation Loss: 0.2977, Validation Accuracy: 0.8414, Precision: 0.7667, recall: 0.6811, F1: 0.7035, AUC: 0.9837, AUPR: 0.9572\n"
     ]
    },
    {
     "name": "stderr",
     "output_type": "stream",
     "text": [
      " 24%|██▍       | 12/50 [02:05<06:35, 10.40s/it]"
     ]
    },
    {
     "name": "stdout",
     "output_type": "stream",
     "text": [
      "Epoch 12, Train Loss: 0.1084, Validation Loss: 0.2900, Validation Accuracy: 0.8445, Precision: 0.7357, recall: 0.7265, F1: 0.7107, AUC: 0.9798, AUPR: 0.9504\n"
     ]
    },
    {
     "name": "stderr",
     "output_type": "stream",
     "text": [
      " 26%|██▌       | 13/50 [02:15<06:26, 10.44s/it]"
     ]
    },
    {
     "name": "stdout",
     "output_type": "stream",
     "text": [
      "Epoch 13, Train Loss: 0.0916, Validation Loss: 0.3113, Validation Accuracy: 0.8517, Precision: 0.7493, recall: 0.7321, F1: 0.7195, AUC: 0.9825, AUPR: 0.9547\n"
     ]
    },
    {
     "name": "stderr",
     "output_type": "stream",
     "text": [
      " 28%|██▊       | 14/50 [02:26<06:14, 10.40s/it]"
     ]
    },
    {
     "name": "stdout",
     "output_type": "stream",
     "text": [
      "Epoch 14, Train Loss: 0.1371, Validation Loss: 0.2876, Validation Accuracy: 0.8677, Precision: 0.7697, recall: 0.7539, F1: 0.7474, AUC: 0.9850, AUPR: 0.9600\n"
     ]
    },
    {
     "name": "stderr",
     "output_type": "stream",
     "text": [
      " 30%|███       | 15/50 [02:36<06:02, 10.37s/it]"
     ]
    },
    {
     "name": "stdout",
     "output_type": "stream",
     "text": [
      "Epoch 15, Train Loss: 0.0686, Validation Loss: 0.2802, Validation Accuracy: 0.8591, Precision: 0.7489, recall: 0.6998, F1: 0.7045, AUC: 0.9827, AUPR: 0.9555\n"
     ]
    },
    {
     "name": "stderr",
     "output_type": "stream",
     "text": [
      " 32%|███▏      | 16/50 [02:46<05:51, 10.34s/it]"
     ]
    },
    {
     "name": "stdout",
     "output_type": "stream",
     "text": [
      "Epoch 16, Train Loss: 0.1014, Validation Loss: 0.3455, Validation Accuracy: 0.8254, Precision: 0.7393, recall: 0.7410, F1: 0.7030, AUC: 0.9796, AUPR: 0.9495\n"
     ]
    },
    {
     "name": "stderr",
     "output_type": "stream",
     "text": [
      " 34%|███▍      | 17/50 [02:57<05:45, 10.47s/it]"
     ]
    },
    {
     "name": "stdout",
     "output_type": "stream",
     "text": [
      "Epoch 17, Train Loss: 0.0927, Validation Loss: 0.4085, Validation Accuracy: 0.8362, Precision: 0.7566, recall: 0.6876, F1: 0.6829, AUC: 0.9797, AUPR: 0.9497\n"
     ]
    },
    {
     "name": "stderr",
     "output_type": "stream",
     "text": [
      " 36%|███▌      | 18/50 [03:07<05:33, 10.42s/it]"
     ]
    },
    {
     "name": "stdout",
     "output_type": "stream",
     "text": [
      "Epoch 18, Train Loss: 0.0785, Validation Loss: 0.4036, Validation Accuracy: 0.8266, Precision: 0.7365, recall: 0.6059, F1: 0.6394, AUC: 0.9776, AUPR: 0.9420\n"
     ]
    },
    {
     "name": "stderr",
     "output_type": "stream",
     "text": [
      " 38%|███▊      | 19/50 [03:18<05:23, 10.45s/it]"
     ]
    },
    {
     "name": "stdout",
     "output_type": "stream",
     "text": [
      "Epoch 19, Train Loss: 0.1074, Validation Loss: 0.4818, Validation Accuracy: 0.8279, Precision: 0.7749, recall: 0.6267, F1: 0.6645, AUC: 0.9813, AUPR: 0.9533\n",
      "Epoch 20, Train Loss: 0.0732, Validation Loss: 0.3306, Validation Accuracy: 0.8587, Precision: 0.7546, recall: 0.7351, F1: 0.7224, AUC: 0.9825, AUPR: 0.9520\n"
     ]
    },
    {
     "name": "stderr",
     "output_type": "stream",
     "text": [
      " 40%|████      | 20/50 [03:29<05:18, 10.63s/it]"
     ]
    },
    {
     "name": "stdout",
     "output_type": "stream",
     "text": [
      "Saved checkpoint: checkpoints/cnn_ddi_epoch_20_pathway_enzyme.pt\n"
     ]
    },
    {
     "name": "stderr",
     "output_type": "stream",
     "text": [
      " 42%|████▏     | 21/50 [03:39<05:05, 10.53s/it]"
     ]
    },
    {
     "name": "stdout",
     "output_type": "stream",
     "text": [
      "Epoch 21, Train Loss: 0.1411, Validation Loss: 0.5331, Validation Accuracy: 0.8236, Precision: 0.7176, recall: 0.6841, F1: 0.6688, AUC: 0.9789, AUPR: 0.9469\n"
     ]
    },
    {
     "name": "stderr",
     "output_type": "stream",
     "text": [
      " 44%|████▍     | 22/50 [03:50<04:54, 10.50s/it]"
     ]
    },
    {
     "name": "stdout",
     "output_type": "stream",
     "text": [
      "Epoch 22, Train Loss: 0.0620, Validation Loss: 0.2691, Validation Accuracy: 0.8650, Precision: 0.7562, recall: 0.7902, F1: 0.7480, AUC: 0.9859, AUPR: 0.9658\n"
     ]
    },
    {
     "name": "stderr",
     "output_type": "stream",
     "text": [
      " 46%|████▌     | 23/50 [04:00<04:41, 10.42s/it]"
     ]
    },
    {
     "name": "stdout",
     "output_type": "stream",
     "text": [
      "Epoch 23, Train Loss: 0.0411, Validation Loss: 0.3769, Validation Accuracy: 0.8623, Precision: 0.7797, recall: 0.7568, F1: 0.7468, AUC: 0.9842, AUPR: 0.9603\n"
     ]
    },
    {
     "name": "stderr",
     "output_type": "stream",
     "text": [
      " 48%|████▊     | 24/50 [04:10<04:29, 10.38s/it]"
     ]
    },
    {
     "name": "stdout",
     "output_type": "stream",
     "text": [
      "Epoch 24, Train Loss: 0.1272, Validation Loss: 0.3404, Validation Accuracy: 0.8478, Precision: 0.7657, recall: 0.7454, F1: 0.7395, AUC: 0.9826, AUPR: 0.9550\n"
     ]
    },
    {
     "name": "stderr",
     "output_type": "stream",
     "text": [
      " 50%|█████     | 25/50 [04:21<04:20, 10.40s/it]"
     ]
    },
    {
     "name": "stdout",
     "output_type": "stream",
     "text": [
      "Epoch 25, Train Loss: 0.0452, Validation Loss: 0.3482, Validation Accuracy: 0.8622, Precision: 0.7936, recall: 0.7073, F1: 0.7296, AUC: 0.9849, AUPR: 0.9599\n"
     ]
    },
    {
     "name": "stderr",
     "output_type": "stream",
     "text": [
      " 52%|█████▏    | 26/50 [04:31<04:09, 10.39s/it]"
     ]
    },
    {
     "name": "stdout",
     "output_type": "stream",
     "text": [
      "Epoch 26, Train Loss: 0.1440, Validation Loss: 0.8335, Validation Accuracy: 0.8146, Precision: 0.6629, recall: 0.5861, F1: 0.5873, AUC: 0.9703, AUPR: 0.9269\n"
     ]
    },
    {
     "name": "stderr",
     "output_type": "stream",
     "text": [
      " 54%|█████▍    | 27/50 [04:42<04:00, 10.44s/it]"
     ]
    },
    {
     "name": "stdout",
     "output_type": "stream",
     "text": [
      "Epoch 27, Train Loss: 0.0977, Validation Loss: 0.2803, Validation Accuracy: 0.8708, Precision: 0.8051, recall: 0.7827, F1: 0.7781, AUC: 0.9860, AUPR: 0.9634\n"
     ]
    },
    {
     "name": "stderr",
     "output_type": "stream",
     "text": [
      " 56%|█████▌    | 28/50 [04:52<03:49, 10.41s/it]"
     ]
    },
    {
     "name": "stdout",
     "output_type": "stream",
     "text": [
      "Epoch 28, Train Loss: 0.0407, Validation Loss: 0.5038, Validation Accuracy: 0.8422, Precision: 0.7327, recall: 0.7185, F1: 0.7038, AUC: 0.9827, AUPR: 0.9528\n"
     ]
    },
    {
     "name": "stderr",
     "output_type": "stream",
     "text": [
      " 58%|█████▊    | 29/50 [05:02<03:38, 10.41s/it]"
     ]
    },
    {
     "name": "stdout",
     "output_type": "stream",
     "text": [
      "Epoch 29, Train Loss: 0.1309, Validation Loss: 0.5716, Validation Accuracy: 0.8370, Precision: 0.7399, recall: 0.6721, F1: 0.6780, AUC: 0.9763, AUPR: 0.9351\n",
      "Epoch 30, Train Loss: 0.0569, Validation Loss: 0.3352, Validation Accuracy: 0.8733, Precision: 0.7845, recall: 0.7196, F1: 0.7323, AUC: 0.9861, AUPR: 0.9636\n"
     ]
    },
    {
     "name": "stderr",
     "output_type": "stream",
     "text": [
      " 60%|██████    | 30/50 [05:13<03:30, 10.52s/it]"
     ]
    },
    {
     "name": "stdout",
     "output_type": "stream",
     "text": [
      "Saved checkpoint: checkpoints/cnn_ddi_epoch_30_pathway_enzyme.pt\n"
     ]
    },
    {
     "name": "stderr",
     "output_type": "stream",
     "text": [
      " 62%|██████▏   | 31/50 [05:23<03:17, 10.41s/it]"
     ]
    },
    {
     "name": "stdout",
     "output_type": "stream",
     "text": [
      "Epoch 31, Train Loss: 0.1247, Validation Loss: 0.5804, Validation Accuracy: 0.8367, Precision: 0.7435, recall: 0.6669, F1: 0.6833, AUC: 0.9805, AUPR: 0.9504\n"
     ]
    },
    {
     "name": "stderr",
     "output_type": "stream",
     "text": [
      " 64%|██████▍   | 32/50 [05:33<03:06, 10.35s/it]"
     ]
    },
    {
     "name": "stdout",
     "output_type": "stream",
     "text": [
      "Epoch 32, Train Loss: 0.0556, Validation Loss: 0.3262, Validation Accuracy: 0.8756, Precision: 0.7623, recall: 0.7243, F1: 0.7277, AUC: 0.9869, AUPR: 0.9665\n"
     ]
    },
    {
     "name": "stderr",
     "output_type": "stream",
     "text": [
      " 66%|██████▌   | 33/50 [05:44<02:56, 10.36s/it]"
     ]
    },
    {
     "name": "stdout",
     "output_type": "stream",
     "text": [
      "Epoch 33, Train Loss: 0.0474, Validation Loss: 0.4366, Validation Accuracy: 0.8574, Precision: 0.7668, recall: 0.7217, F1: 0.7266, AUC: 0.9813, AUPR: 0.9505\n"
     ]
    },
    {
     "name": "stderr",
     "output_type": "stream",
     "text": [
      " 68%|██████▊   | 34/50 [05:54<02:46, 10.44s/it]"
     ]
    },
    {
     "name": "stdout",
     "output_type": "stream",
     "text": [
      "Epoch 34, Train Loss: 0.1916, Validation Loss: 0.3336, Validation Accuracy: 0.8725, Precision: 0.7350, recall: 0.7081, F1: 0.7081, AUC: 0.9851, AUPR: 0.9630\n"
     ]
    },
    {
     "name": "stderr",
     "output_type": "stream",
     "text": [
      " 70%|███████   | 35/50 [06:05<02:37, 10.48s/it]"
     ]
    },
    {
     "name": "stdout",
     "output_type": "stream",
     "text": [
      "Epoch 35, Train Loss: 0.0337, Validation Loss: 0.3886, Validation Accuracy: 0.8770, Precision: 0.7258, recall: 0.7449, F1: 0.7227, AUC: 0.9850, AUPR: 0.9611\n"
     ]
    },
    {
     "name": "stderr",
     "output_type": "stream",
     "text": [
      " 72%|███████▏  | 36/50 [06:16<02:27, 10.52s/it]"
     ]
    },
    {
     "name": "stdout",
     "output_type": "stream",
     "text": [
      "Epoch 36, Train Loss: 0.0489, Validation Loss: 0.4353, Validation Accuracy: 0.8625, Precision: 0.7438, recall: 0.6901, F1: 0.7055, AUC: 0.9845, AUPR: 0.9626\n"
     ]
    },
    {
     "name": "stderr",
     "output_type": "stream",
     "text": [
      " 74%|███████▍  | 37/50 [06:26<02:16, 10.52s/it]"
     ]
    },
    {
     "name": "stdout",
     "output_type": "stream",
     "text": [
      "Epoch 37, Train Loss: 0.1476, Validation Loss: 0.4691, Validation Accuracy: 0.8662, Precision: 0.7871, recall: 0.7560, F1: 0.7575, AUC: 0.9846, AUPR: 0.9564\n"
     ]
    },
    {
     "name": "stderr",
     "output_type": "stream",
     "text": [
      " 76%|███████▌  | 38/50 [06:37<02:06, 10.52s/it]"
     ]
    },
    {
     "name": "stdout",
     "output_type": "stream",
     "text": [
      "Epoch 38, Train Loss: 0.0370, Validation Loss: 0.3786, Validation Accuracy: 0.8648, Precision: 0.7546, recall: 0.7429, F1: 0.7234, AUC: 0.9852, AUPR: 0.9620\n"
     ]
    },
    {
     "name": "stderr",
     "output_type": "stream",
     "text": [
      " 78%|███████▊  | 39/50 [06:47<01:54, 10.45s/it]"
     ]
    },
    {
     "name": "stdout",
     "output_type": "stream",
     "text": [
      "Epoch 39, Train Loss: 0.1449, Validation Loss: 0.5678, Validation Accuracy: 0.8372, Precision: 0.7324, recall: 0.7266, F1: 0.7062, AUC: 0.9754, AUPR: 0.9359\n",
      "Epoch 40, Train Loss: 0.0585, Validation Loss: 0.3811, Validation Accuracy: 0.8739, Precision: 0.8316, recall: 0.7529, F1: 0.7747, AUC: 0.9860, AUPR: 0.9632\n"
     ]
    },
    {
     "name": "stderr",
     "output_type": "stream",
     "text": [
      " 80%|████████  | 40/50 [06:58<01:46, 10.69s/it]"
     ]
    },
    {
     "name": "stdout",
     "output_type": "stream",
     "text": [
      "Saved checkpoint: checkpoints/cnn_ddi_epoch_40_pathway_enzyme.pt\n"
     ]
    },
    {
     "name": "stderr",
     "output_type": "stream",
     "text": [
      " 82%|████████▏ | 41/50 [07:09<01:35, 10.61s/it]"
     ]
    },
    {
     "name": "stdout",
     "output_type": "stream",
     "text": [
      "Epoch 41, Train Loss: 0.0349, Validation Loss: 0.4970, Validation Accuracy: 0.8598, Precision: 0.7554, recall: 0.6608, F1: 0.6748, AUC: 0.9828, AUPR: 0.9566\n"
     ]
    },
    {
     "name": "stderr",
     "output_type": "stream",
     "text": [
      " 84%|████████▍ | 42/50 [07:19<01:24, 10.56s/it]"
     ]
    },
    {
     "name": "stdout",
     "output_type": "stream",
     "text": [
      "Epoch 42, Train Loss: 0.1660, Validation Loss: 0.4808, Validation Accuracy: 0.8712, Precision: 0.7750, recall: 0.7694, F1: 0.7545, AUC: 0.9858, AUPR: 0.9612\n"
     ]
    },
    {
     "name": "stderr",
     "output_type": "stream",
     "text": [
      " 86%|████████▌ | 43/50 [07:29<01:13, 10.49s/it]"
     ]
    },
    {
     "name": "stdout",
     "output_type": "stream",
     "text": [
      "Epoch 43, Train Loss: 0.0400, Validation Loss: 0.4767, Validation Accuracy: 0.8684, Precision: 0.8040, recall: 0.7536, F1: 0.7581, AUC: 0.9851, AUPR: 0.9619\n"
     ]
    },
    {
     "name": "stderr",
     "output_type": "stream",
     "text": [
      " 88%|████████▊ | 44/50 [07:40<01:02, 10.45s/it]"
     ]
    },
    {
     "name": "stdout",
     "output_type": "stream",
     "text": [
      "Epoch 44, Train Loss: 0.4331, Validation Loss: 0.6023, Validation Accuracy: 0.8576, Precision: 0.7206, recall: 0.7410, F1: 0.7049, AUC: 0.9834, AUPR: 0.9541\n"
     ]
    },
    {
     "name": "stderr",
     "output_type": "stream",
     "text": [
      " 90%|█████████ | 45/50 [07:50<00:52, 10.49s/it]"
     ]
    },
    {
     "name": "stdout",
     "output_type": "stream",
     "text": [
      "Epoch 45, Train Loss: 0.0454, Validation Loss: 0.6140, Validation Accuracy: 0.8363, Precision: 0.7463, recall: 0.6733, F1: 0.6884, AUC: 0.9826, AUPR: 0.9571\n"
     ]
    },
    {
     "name": "stderr",
     "output_type": "stream",
     "text": [
      " 92%|█████████▏| 46/50 [08:01<00:41, 10.43s/it]"
     ]
    },
    {
     "name": "stdout",
     "output_type": "stream",
     "text": [
      "Epoch 46, Train Loss: 0.0411, Validation Loss: 0.5704, Validation Accuracy: 0.8684, Precision: 0.7609, recall: 0.7716, F1: 0.7436, AUC: 0.9838, AUPR: 0.9588\n"
     ]
    },
    {
     "name": "stderr",
     "output_type": "stream",
     "text": [
      " 94%|█████████▍| 47/50 [08:11<00:31, 10.36s/it]"
     ]
    },
    {
     "name": "stdout",
     "output_type": "stream",
     "text": [
      "Epoch 47, Train Loss: 0.1148, Validation Loss: 0.8446, Validation Accuracy: 0.8505, Precision: 0.8024, recall: 0.6830, F1: 0.7177, AUC: 0.9824, AUPR: 0.9534\n"
     ]
    },
    {
     "name": "stderr",
     "output_type": "stream",
     "text": [
      " 96%|█████████▌| 48/50 [08:21<00:20, 10.32s/it]"
     ]
    },
    {
     "name": "stdout",
     "output_type": "stream",
     "text": [
      "Epoch 48, Train Loss: 0.0800, Validation Loss: 0.5467, Validation Accuracy: 0.8595, Precision: 0.7736, recall: 0.7053, F1: 0.7224, AUC: 0.9841, AUPR: 0.9593\n"
     ]
    },
    {
     "name": "stderr",
     "output_type": "stream",
     "text": [
      " 98%|█████████▊| 49/50 [08:32<00:10, 10.40s/it]"
     ]
    },
    {
     "name": "stdout",
     "output_type": "stream",
     "text": [
      "Epoch 49, Train Loss: 0.0656, Validation Loss: 0.6306, Validation Accuracy: 0.8572, Precision: 0.7613, recall: 0.7356, F1: 0.7339, AUC: 0.9835, AUPR: 0.9555\n",
      "Epoch 50, Train Loss: 0.1127, Validation Loss: 0.4420, Validation Accuracy: 0.8708, Precision: 0.7612, recall: 0.7073, F1: 0.7245, AUC: 0.9853, AUPR: 0.9594\n"
     ]
    },
    {
     "name": "stderr",
     "output_type": "stream",
     "text": [
      "100%|██████████| 50/50 [08:43<00:00, 10.46s/it]"
     ]
    },
    {
     "name": "stdout",
     "output_type": "stream",
     "text": [
      "Saved checkpoint: checkpoints/cnn_ddi_epoch_50_pathway_enzyme.pt\n",
      "Feature combination: ('pathway', 'category')\n"
     ]
    },
    {
     "name": "stderr",
     "output_type": "stream",
     "text": [
      "\n",
      "/tmp/ipykernel_83239/3982585584.py:3: UserWarning: To copy construct from a tensor, it is recommended to use sourceTensor.clone().detach() or sourceTensor.clone().detach().requires_grad_(True), rather than torch.tensor(sourceTensor).\n",
      "  self.features = torch.tensor(features, dtype=torch.float32)\n",
      "  2%|▏         | 1/50 [00:10<08:40, 10.62s/it]"
     ]
    },
    {
     "name": "stdout",
     "output_type": "stream",
     "text": [
      "Epoch 1, Train Loss: 0.7633, Validation Loss: 0.2981, Validation Accuracy: 0.8256, Precision: 0.6718, recall: 0.6976, F1: 0.6652, AUC: 0.9740, AUPR: 0.9408\n"
     ]
    },
    {
     "name": "stderr",
     "output_type": "stream",
     "text": [
      "  4%|▍         | 2/50 [00:21<08:31, 10.65s/it]"
     ]
    },
    {
     "name": "stdout",
     "output_type": "stream",
     "text": [
      "Epoch 2, Train Loss: 0.2367, Validation Loss: 0.2460, Validation Accuracy: 0.8398, Precision: 0.7648, recall: 0.7318, F1: 0.7289, AUC: 0.9782, AUPR: 0.9467\n"
     ]
    },
    {
     "name": "stderr",
     "output_type": "stream",
     "text": [
      "  6%|▌         | 3/50 [00:31<08:17, 10.58s/it]"
     ]
    },
    {
     "name": "stdout",
     "output_type": "stream",
     "text": [
      "Epoch 3, Train Loss: 0.1860, Validation Loss: 0.2282, Validation Accuracy: 0.8521, Precision: 0.7809, recall: 0.7737, F1: 0.7612, AUC: 0.9823, AUPR: 0.9564\n"
     ]
    },
    {
     "name": "stderr",
     "output_type": "stream",
     "text": [
      "  8%|▊         | 4/50 [00:42<08:03, 10.52s/it]"
     ]
    },
    {
     "name": "stdout",
     "output_type": "stream",
     "text": [
      "Epoch 4, Train Loss: 0.1470, Validation Loss: 0.2027, Validation Accuracy: 0.8666, Precision: 0.7716, recall: 0.7670, F1: 0.7348, AUC: 0.9849, AUPR: 0.9645\n"
     ]
    },
    {
     "name": "stderr",
     "output_type": "stream",
     "text": [
      " 10%|█         | 5/50 [00:52<07:54, 10.54s/it]"
     ]
    },
    {
     "name": "stdout",
     "output_type": "stream",
     "text": [
      "Epoch 5, Train Loss: 0.2045, Validation Loss: 0.1747, Validation Accuracy: 0.8835, Precision: 0.7973, recall: 0.7421, F1: 0.7533, AUC: 0.9881, AUPR: 0.9726\n"
     ]
    },
    {
     "name": "stderr",
     "output_type": "stream",
     "text": [
      " 12%|█▏        | 6/50 [01:03<07:44, 10.56s/it]"
     ]
    },
    {
     "name": "stdout",
     "output_type": "stream",
     "text": [
      "Epoch 6, Train Loss: 0.0898, Validation Loss: 0.1936, Validation Accuracy: 0.8782, Precision: 0.7685, recall: 0.7195, F1: 0.7218, AUC: 0.9861, AUPR: 0.9654\n"
     ]
    },
    {
     "name": "stderr",
     "output_type": "stream",
     "text": [
      " 14%|█▍        | 7/50 [01:13<07:34, 10.57s/it]"
     ]
    },
    {
     "name": "stdout",
     "output_type": "stream",
     "text": [
      "Epoch 7, Train Loss: 0.0815, Validation Loss: 0.2169, Validation Accuracy: 0.8641, Precision: 0.7940, recall: 0.6567, F1: 0.6993, AUC: 0.9850, AUPR: 0.9630\n"
     ]
    },
    {
     "name": "stderr",
     "output_type": "stream",
     "text": [
      " 16%|█▌        | 8/50 [01:24<07:24, 10.58s/it]"
     ]
    },
    {
     "name": "stdout",
     "output_type": "stream",
     "text": [
      "Epoch 8, Train Loss: 0.1046, Validation Loss: 0.2556, Validation Accuracy: 0.8717, Precision: 0.7884, recall: 0.7768, F1: 0.7649, AUC: 0.9863, AUPR: 0.9681\n"
     ]
    },
    {
     "name": "stderr",
     "output_type": "stream",
     "text": [
      " 18%|█▊        | 9/50 [01:34<07:09, 10.46s/it]"
     ]
    },
    {
     "name": "stdout",
     "output_type": "stream",
     "text": [
      "Epoch 9, Train Loss: 0.0886, Validation Loss: 0.2543, Validation Accuracy: 0.8696, Precision: 0.7083, recall: 0.7615, F1: 0.7193, AUC: 0.9852, AUPR: 0.9648\n",
      "Epoch 10, Train Loss: 0.0793, Validation Loss: 0.2714, Validation Accuracy: 0.8725, Precision: 0.7918, recall: 0.7290, F1: 0.7426, AUC: 0.9869, AUPR: 0.9682\n"
     ]
    },
    {
     "name": "stderr",
     "output_type": "stream",
     "text": [
      " 20%|██        | 10/50 [01:45<07:03, 10.59s/it]"
     ]
    },
    {
     "name": "stdout",
     "output_type": "stream",
     "text": [
      "Saved checkpoint: checkpoints/cnn_ddi_epoch_10_pathway_category.pt\n"
     ]
    },
    {
     "name": "stderr",
     "output_type": "stream",
     "text": [
      " 22%|██▏       | 11/50 [01:56<06:52, 10.59s/it]"
     ]
    },
    {
     "name": "stdout",
     "output_type": "stream",
     "text": [
      "Epoch 11, Train Loss: 0.7552, Validation Loss: 0.3750, Validation Accuracy: 0.8362, Precision: 0.7820, recall: 0.6266, F1: 0.6716, AUC: 0.9784, AUPR: 0.9493\n"
     ]
    },
    {
     "name": "stderr",
     "output_type": "stream",
     "text": [
      " 24%|██▍       | 12/50 [02:06<06:42, 10.59s/it]"
     ]
    },
    {
     "name": "stdout",
     "output_type": "stream",
     "text": [
      "Epoch 12, Train Loss: 0.0715, Validation Loss: 0.2471, Validation Accuracy: 0.8972, Precision: 0.8055, recall: 0.8002, F1: 0.7888, AUC: 0.9909, AUPR: 0.9784\n"
     ]
    },
    {
     "name": "stderr",
     "output_type": "stream",
     "text": [
      " 26%|██▌       | 13/50 [02:18<06:38, 10.78s/it]"
     ]
    },
    {
     "name": "stdout",
     "output_type": "stream",
     "text": [
      "Epoch 13, Train Loss: 0.0462, Validation Loss: 0.2699, Validation Accuracy: 0.8940, Precision: 0.8043, recall: 0.8041, F1: 0.7942, AUC: 0.9917, AUPR: 0.9801\n"
     ]
    },
    {
     "name": "stderr",
     "output_type": "stream",
     "text": [
      " 28%|██▊       | 14/50 [02:29<06:30, 10.85s/it]"
     ]
    },
    {
     "name": "stdout",
     "output_type": "stream",
     "text": [
      "Epoch 14, Train Loss: 0.1919, Validation Loss: 0.3290, Validation Accuracy: 0.8783, Precision: 0.7263, recall: 0.7903, F1: 0.7374, AUC: 0.9889, AUPR: 0.9746\n"
     ]
    },
    {
     "name": "stderr",
     "output_type": "stream",
     "text": [
      " 30%|███       | 15/50 [02:39<06:19, 10.86s/it]"
     ]
    },
    {
     "name": "stdout",
     "output_type": "stream",
     "text": [
      "Epoch 15, Train Loss: 0.0366, Validation Loss: 0.2576, Validation Accuracy: 0.8908, Precision: 0.7847, recall: 0.7747, F1: 0.7710, AUC: 0.9905, AUPR: 0.9783\n"
     ]
    },
    {
     "name": "stderr",
     "output_type": "stream",
     "text": [
      " 32%|███▏      | 16/50 [02:50<06:08, 10.84s/it]"
     ]
    },
    {
     "name": "stdout",
     "output_type": "stream",
     "text": [
      "Epoch 16, Train Loss: 0.0396, Validation Loss: 0.3163, Validation Accuracy: 0.8917, Precision: 0.7898, recall: 0.7826, F1: 0.7747, AUC: 0.9884, AUPR: 0.9724\n"
     ]
    },
    {
     "name": "stderr",
     "output_type": "stream",
     "text": [
      " 34%|███▍      | 17/50 [03:01<05:59, 10.88s/it]"
     ]
    },
    {
     "name": "stdout",
     "output_type": "stream",
     "text": [
      "Epoch 17, Train Loss: 0.1083, Validation Loss: 0.2689, Validation Accuracy: 0.8900, Precision: 0.8100, recall: 0.7234, F1: 0.7420, AUC: 0.9907, AUPR: 0.9740\n"
     ]
    },
    {
     "name": "stderr",
     "output_type": "stream",
     "text": [
      " 36%|███▌      | 18/50 [03:12<05:50, 10.95s/it]"
     ]
    },
    {
     "name": "stdout",
     "output_type": "stream",
     "text": [
      "Epoch 18, Train Loss: 0.0340, Validation Loss: 0.3994, Validation Accuracy: 0.8771, Precision: 0.7623, recall: 0.7582, F1: 0.7357, AUC: 0.9880, AUPR: 0.9707\n"
     ]
    },
    {
     "name": "stderr",
     "output_type": "stream",
     "text": [
      " 38%|███▊      | 19/50 [03:23<05:40, 11.00s/it]"
     ]
    },
    {
     "name": "stdout",
     "output_type": "stream",
     "text": [
      "Epoch 19, Train Loss: 0.0871, Validation Loss: 0.5663, Validation Accuracy: 0.8642, Precision: 0.7394, recall: 0.6860, F1: 0.6929, AUC: 0.9825, AUPR: 0.9600\n",
      "Epoch 20, Train Loss: 0.0729, Validation Loss: 0.2880, Validation Accuracy: 0.9062, Precision: 0.8304, recall: 0.8139, F1: 0.8087, AUC: 0.9903, AUPR: 0.9782\n"
     ]
    },
    {
     "name": "stderr",
     "output_type": "stream",
     "text": [
      " 40%|████      | 20/50 [03:34<05:29, 10.99s/it]"
     ]
    },
    {
     "name": "stdout",
     "output_type": "stream",
     "text": [
      "Saved checkpoint: checkpoints/cnn_ddi_epoch_20_pathway_category.pt\n"
     ]
    },
    {
     "name": "stderr",
     "output_type": "stream",
     "text": [
      " 42%|████▏     | 21/50 [03:45<05:14, 10.85s/it]"
     ]
    },
    {
     "name": "stdout",
     "output_type": "stream",
     "text": [
      "Epoch 21, Train Loss: 0.0307, Validation Loss: 0.3888, Validation Accuracy: 0.8874, Precision: 0.7732, recall: 0.7366, F1: 0.7401, AUC: 0.9879, AUPR: 0.9719\n"
     ]
    },
    {
     "name": "stderr",
     "output_type": "stream",
     "text": [
      " 44%|████▍     | 22/50 [03:55<05:01, 10.76s/it]"
     ]
    },
    {
     "name": "stdout",
     "output_type": "stream",
     "text": [
      "Epoch 22, Train Loss: 0.2399, Validation Loss: 0.3626, Validation Accuracy: 0.8943, Precision: 0.7892, recall: 0.7623, F1: 0.7565, AUC: 0.9909, AUPR: 0.9777\n"
     ]
    }
   ],
   "source": [
    "import itertools\n",
    "\n",
    "feature_list = [\"pathway\", \"target\", \"enzyme\", \"category\"]\n",
    "\n",
    "# Generate all combinations for different lengths\n",
    "all_combinations = []\n",
    "for r in range(1, len(feature_list) + 1):\n",
    "    combinations = list(itertools.combinations(feature_list, r))\n",
    "    all_combinations.extend(combinations)\n",
    "\n",
    "# Train models for all combinations\n",
    "batch_size = 32\n",
    "num_epochs = 50\n",
    "checkpoint_interval = 10\n",
    "device = torch.device(\"cuda\" if torch.cuda.is_available() else \"cpu\")\n",
    "for combination in all_combinations:\n",
    "    print(f\"Feature combination: {combination}\")\n",
    "    new_feature, new_label, event_num = prepare(df_drug, combination, mechanism, action, drugA, drugB, similarity=\"jaccard\")\n",
    "    new_feature = torch.tensor(new_feature, dtype=torch.float32)\n",
    "    features_train, features_val, labels_train, labels_val = train_test_split(\n",
    "        new_feature, new_label, test_size=0.2, random_state=42\n",
    "    )\n",
    "\n",
    "    # Create dataset objects\n",
    "    train_dataset = DrugInteractionDataset(features_train, labels_train)\n",
    "    val_dataset = DrugInteractionDataset(features_val, labels_val)\n",
    "\n",
    "    # Create data loaders\n",
    "    train_loader = DataLoader(train_dataset, batch_size=batch_size, shuffle=True)\n",
    "    val_loader = DataLoader(val_dataset, batch_size=batch_size, shuffle=False)\n",
    "\n",
    "    model = CNNDDI(num_of_features=len(combination)).to(device)\n",
    "    optimizer = optim.Adam(model.parameters(), lr=0.001)\n",
    "    criterion = focal_loss()\n",
    "\n",
    "    for epoch in tqdm(range(num_epochs)):\n",
    "        train_loss = train(model, device, train_loader, optimizer, criterion)\n",
    "        val_loss, val_accuracy, precision, recall, f1, roc_auc, aupr = validate(model, device, val_loader, criterion)\n",
    "        print(f'Epoch {epoch+1}, Train Loss: {train_loss:.4f}, Validation Loss: {val_loss:.4f}, Validation Accuracy: {val_accuracy:.4f}, Precision: {precision:.4f}, recall: {recall:.4f}, F1: {f1:.4f}, AUC: {roc_auc:.4f}, AUPR: {aupr:.4f}')\n",
    "\n",
    "        if (epoch + 1) % checkpoint_interval == 0 or (epoch + 1) == num_epochs:\n",
    "            combination_str = \"_\".join(combination)\n",
    "            save_checkpoint(model, optimizer, epoch + 1, f'checkpoints/cnn_ddi_epoch_{epoch+1}_{combination_str}.pt')\n"
   ]
  }
 ],
 "metadata": {
  "kernelspec": {
   "display_name": "base",
   "language": "python",
   "name": "python3"
  },
  "language_info": {
   "codemirror_mode": {
    "name": "ipython",
    "version": 3
   },
   "file_extension": ".py",
   "mimetype": "text/x-python",
   "name": "python",
   "nbconvert_exporter": "python",
   "pygments_lexer": "ipython3",
   "version": "3.11.5"
  }
 },
 "nbformat": 4,
 "nbformat_minor": 2
}
